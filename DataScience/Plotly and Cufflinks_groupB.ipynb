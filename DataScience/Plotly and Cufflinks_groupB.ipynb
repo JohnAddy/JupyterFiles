{
 "cells": [
  {
   "cell_type": "code",
   "execution_count": null,
   "metadata": {},
   "outputs": [],
   "source": []
  },
  {
   "cell_type": "code",
   "execution_count": 2,
   "metadata": {},
   "outputs": [
    {
     "ename": "ModuleNotFoundError",
     "evalue": "No module named 'pandas_profiling'",
     "output_type": "error",
     "traceback": [
      "\u001b[1;31m---------------------------------------------------------------------------\u001b[0m",
      "\u001b[1;31mModuleNotFoundError\u001b[0m                       Traceback (most recent call last)",
      "\u001b[1;32m<ipython-input-2-8163195690b2>\u001b[0m in \u001b[0;36m<module>\u001b[1;34m\u001b[0m\n\u001b[0;32m      2\u001b[0m \u001b[1;32mimport\u001b[0m \u001b[0mpandas\u001b[0m \u001b[1;32mas\u001b[0m \u001b[0mpd\u001b[0m\u001b[1;33m\u001b[0m\u001b[1;33m\u001b[0m\u001b[0m\n\u001b[0;32m      3\u001b[0m \u001b[1;32mimport\u001b[0m \u001b[0mnumpy\u001b[0m \u001b[1;32mas\u001b[0m \u001b[0mnp\u001b[0m\u001b[1;33m\u001b[0m\u001b[1;33m\u001b[0m\u001b[0m\n\u001b[1;32m----> 4\u001b[1;33m \u001b[1;32mimport\u001b[0m \u001b[0mpandas_profiling\u001b[0m\u001b[1;33m\u001b[0m\u001b[1;33m\u001b[0m\u001b[0m\n\u001b[0m\u001b[0;32m      5\u001b[0m \u001b[1;31m#importing plotly and cufflinks in offline mode\u001b[0m\u001b[1;33m\u001b[0m\u001b[1;33m\u001b[0m\u001b[1;33m\u001b[0m\u001b[0m\n",
      "\u001b[1;31mModuleNotFoundError\u001b[0m: No module named 'pandas_profiling'"
     ]
    }
   ],
   "source": [
    "#importing Pandas \n",
    "import pandas as pd\n",
    "import numpy as np\n",
    "import pandas_profiling \n",
    "#importing plotly and cufflinks in offline mode"
   ]
  },
  {
   "cell_type": "code",
   "execution_count": null,
   "metadata": {},
   "outputs": [],
   "source": [
    "import cufflinks as cf\n",
    "import plotly.offline\n",
    "cf.go_offline()\n",
    "cf.set_config_file(offline=False, world_readable=True)"
   ]
  },
  {
   "cell_type": "code",
   "execution_count": null,
   "metadata": {},
   "outputs": [],
   "source": [
    "#Loading Dataset\n",
    "df = pd.read_csv(\"train.csv\")"
   ]
  },
  {
   "cell_type": "code",
   "execution_count": null,
   "metadata": {},
   "outputs": [],
   "source": [
    "df.head()"
   ]
  },
  {
   "cell_type": "code",
   "execution_count": null,
   "metadata": {},
   "outputs": [],
   "source": [
    "#To display the data profiling report in a Jupyter notebook.The report is pretty detailed including charts wherever necessary.\n",
    "df.profile_report()"
   ]
  },
  {
   "cell_type": "code",
   "execution_count": null,
   "metadata": {},
   "outputs": [],
   "source": [
    "#Histograms can be used to inspect the distributions of a feature, such as the “Age” feature in this case. As an example, we can specify bin size, theme, title, and axis names. \n",
    "#With the “help(df.iplot)” command, you can see all the parameters for the iplot parameter.\n",
    "\n",
    "df[\"Age\"].iplot(kind=\"histogram\", bins=20, theme=\"white\", title=\"Passenger's Ages\",xTitle='Ages', yTitle='Count')"
   ]
  },
  {
   "cell_type": "code",
   "execution_count": null,
   "metadata": {},
   "outputs": [],
   "source": [
    "# plot the ages of female and male passengers in the same plot.\n",
    "df[\"male_age\"]=df[df[\"Sex\"]==\"male\"][\"Age\"]\n",
    "df[\"female_age\"]=df[df[\"Sex\"]==\"female\"][\"Age\"]\n",
    "df[[\"male_age\",\"female_age\"]].iplot(kind=\"histogram\", bins=20, theme=\"white\", title=\"Passenger's Ages\", xTitle='Ages', yTitle='Count')"
   ]
  },
  {
   "cell_type": "code",
   "execution_count": null,
   "metadata": {},
   "outputs": [],
   "source": [
    "df.iplot()"
   ]
  },
  {
   "cell_type": "code",
   "execution_count": null,
   "metadata": {},
   "outputs": [],
   "source": [
    "#Scatter plots are commonly used to visualize the relationship between two numerical variables. \n",
    "#For the variables “Fare” and “Age,” we’ll use scatter plots. “Categories” allows us to display the variables of a selected feature in various colors (sex of passengers in this case).\n",
    "\n",
    "df.iplot(kind=\"scatter\", theme=\"white\",x=\"Age\",y=\"Fare\",categories=\"Sex\")"
   ]
  },
  {
   "cell_type": "code",
   "execution_count": null,
   "metadata": {},
   "outputs": [],
   "source": [
    "#Boxplots are extremely useful for quickly interpreting data skewness, outliers, and quartile ranges.\n",
    "df[['Pclass', 'Fare']].pivot(columns='Pclass', values='Fare').iplot(kind='box')"
   ]
  },
  {
   "cell_type": "code",
   "execution_count": null,
   "metadata": {},
   "outputs": [],
   "source": [
    "#Bar graphs are good to present the data of different groups that are being compared with each other. \n",
    "#Plus they can be used stacked to show different variable effects. \n",
    "#We will make a bar graph to show survived passenger count by sex.\n",
    "survived_sex = df[df['Survived']==1]['Sex'].value_counts()\n",
    "dead_sex = df[df['Survived']==0]['Sex'].value_counts()\n",
    "df1 = pd.DataFrame([survived_sex,dead_sex])\n",
    "df1.index = ['Survived','Dead']\n",
    "df1.iplot(kind='bar',barmode='stack', title='Survival by the Sex')"
   ]
  },
  {
   "cell_type": "code",
   "execution_count": null,
   "metadata": {},
   "outputs": [],
   "source": []
  }
 ],
 "metadata": {
  "kernelspec": {
   "display_name": "Python 3",
   "language": "python",
   "name": "python3"
  },
  "language_info": {
   "codemirror_mode": {
    "name": "ipython",
    "version": 3
   },
   "file_extension": ".py",
   "mimetype": "text/x-python",
   "name": "python",
   "nbconvert_exporter": "python",
   "pygments_lexer": "ipython3",
   "version": "3.6.10"
  }
 },
 "nbformat": 4,
 "nbformat_minor": 4
}
