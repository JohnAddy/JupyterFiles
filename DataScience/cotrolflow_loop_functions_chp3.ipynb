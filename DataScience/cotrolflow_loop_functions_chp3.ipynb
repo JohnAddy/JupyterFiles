{
  "nbformat": 4,
  "nbformat_minor": 0,
  "metadata": {
    "kernelspec": {
      "display_name": "Python 3",
      "language": "python",
      "name": "python3"
    },
    "language_info": {
      "codemirror_mode": {
        "name": "ipython",
        "version": 3
      },
      "file_extension": ".py",
      "mimetype": "text/x-python",
      "name": "python",
      "nbconvert_exporter": "python",
      "pygments_lexer": "ipython3",
      "version": "3.7.3"
    },
    "colab": {
      "name": "cotrolflow_loop_functions_chp3.ipynb",
      "provenance": [],
      "collapsed_sections": []
    }
  },
  "cells": [
    {
      "cell_type": "markdown",
      "metadata": {
        "id": "Mnf8qPm_Y3RN"
      },
      "source": [
        "<center> Business Analytics & Business Intelligence  <br>\n",
        "Deepak KC, deepak.kc@hamk.fi, 2020  <br> Control Flow Control Flow, Loops & Functions in Python </center>"
      ]
    },
    {
      "cell_type": "markdown",
      "metadata": {
        "id": "6famJMa-ZDxH"
      },
      "source": [
        "# Control Flow\n",
        "* When running Python code, each statement is executed in the order in which they appear. You can change the order or skip statement or run certain statements.\n",
        "* It is the order in which individual statements are executed or evaluated\n",
        "* Control flow statements are the programming constructs that let you alter the order of the code execution.\n",
        "\n"
      ]
    },
    {
      "cell_type": "markdown",
      "metadata": {
        "id": "JbVjbp3HY3RO"
      },
      "source": [
        "### Conditional Statements\n",
        "if, else & elif <br>\n",
        "***If Syntax*** <br>\n",
        "if \\<condition>: <br>\n",
        "  &nbsp;&nbsp;&nbsp;  \\<code block> <br>\n",
        "elif \\<condition>:<br>\n",
        "    &nbsp;&nbsp;&nbsp;\\<code block><br>\n",
        "elif \\<condition>:<br>\n",
        "    &nbsp;&nbsp;&nbsp;\\<code block><br>\n",
        "else:<br>\n",
        "    &nbsp;&nbsp;&nbsp;\\<code block>"
      ]
    },
    {
      "cell_type": "code",
      "metadata": {
        "id": "DIEiRG0JY3RO",
        "colab": {
          "base_uri": "https://localhost:8080/"
        },
        "outputId": "369f5792-83a5-4e1d-a810-ec8c88ec243d"
      },
      "source": [
        "#Simple if statements\n",
        "#input to get input from the user\n",
        "grade = int (input(\"What is your grade for IoT? \"))\n",
        "if grade >= 1:\n",
        "    print(\"You have successfully passed the course.\")"
      ],
      "execution_count": null,
      "outputs": [
        {
          "output_type": "stream",
          "text": [
            "What is your grade for IoT? 4\n",
            "You have successfully passed the course.\n"
          ],
          "name": "stdout"
        }
      ]
    },
    {
      "cell_type": "code",
      "metadata": {
        "id": "OjxrTdw6Y3RR"
      },
      "source": [
        "#if-else statement - only 1 else statement\n",
        "grade = int (input(\"What is your grade for IoT? \"))\n",
        "if grade >= 1 and grade <=5 : #replace \"and\" with \"&\", check what happens by inputting 6? \n",
        "    print(\"You have successfully passed the course.\")\n",
        "else:\n",
        "    print(\"You have failed the course\")"
      ],
      "execution_count": null,
      "outputs": []
    },
    {
      "cell_type": "code",
      "metadata": {
        "id": "yZSXs4oCY3RT"
      },
      "source": [
        "#if-elif - multiple elif statement\n",
        "temp = int (input(\"Input temperate and press enter key \"))\n",
        "if temp < 0:\n",
        "    print (\"Freezing\")\n",
        "elif 0 <= temp <= 20:\n",
        "    print (\"Cold\")\n",
        "elif 21 <= temp <= 25:\n",
        "    print (\"Normal\")\n",
        "elif 26 <= temp <= 35:\n",
        "    print (\"Hot\")\n",
        "else:\n",
        "    print (\"Very Hot\")"
      ],
      "execution_count": null,
      "outputs": []
    },
    {
      "cell_type": "markdown",
      "metadata": {
        "id": "ggOi78HoY3RW"
      },
      "source": [
        "### For Loops: \n",
        "- A programming construct that lets you go through each item in a sequence and then perform operation on each one. \n",
        "- In python, you can use for loop and go through values in a  a list, tuple, dictionary or series.\n",
        "\n",
        "**For Syntax** <br>\n",
        "for \\<reference> in \\<sequence>: <br>\n",
        "   &nbsp;&nbsp;&nbsp;&nbsp; \\<code block> <br>\n",
        "    &nbsp;&nbsp;&nbsp;&nbsp;continue<br>\n",
        "   &nbsp;&nbsp;&nbsp;&nbsp; break<br>\n"
      ]
    },
    {
      "cell_type": "code",
      "metadata": {
        "id": "trh06kSuY3RX",
        "colab": {
          "base_uri": "https://localhost:8080/"
        },
        "outputId": "086fd185-9869-4e24-b599-acf41a2a3e1c"
      },
      "source": [
        "#for exmaple 1\n",
        "grades = [4, 3, 5, 1]\n",
        "for grade in grades:\n",
        "    print(grade)\n"
      ],
      "execution_count": null,
      "outputs": [
        {
          "output_type": "stream",
          "text": [
            "4\n",
            "3\n",
            "5\n",
            "1\n"
          ],
          "name": "stdout"
        }
      ]
    },
    {
      "cell_type": "code",
      "metadata": {
        "id": "oQwFDh4WY3Ra"
      },
      "source": [
        "#for example 2\n",
        "courses = ['IoT', 'Python', 'Python Project']\n",
        "for x in courses:\n",
        "    print(x, len(x))"
      ],
      "execution_count": null,
      "outputs": []
    },
    {
      "cell_type": "code",
      "metadata": {
        "id": "oZm6pnWXY3Rd",
        "colab": {
          "base_uri": "https://localhost:8080/"
        },
        "outputId": "71248417-24d1-474b-da1a-cf6cf06ef954"
      },
      "source": [
        "#for example 3\n",
        "for i in range(1, 5):\n",
        "    print(i)\n",
        "else:\n",
        "    print('The for loop is over')"
      ],
      "execution_count": null,
      "outputs": [
        {
          "output_type": "stream",
          "text": [
            "1\n",
            "2\n",
            "3\n",
            "4\n",
            "The for loop is over\n"
          ],
          "name": "stdout"
        }
      ]
    },
    {
      "cell_type": "code",
      "metadata": {
        "id": "yJeofN1oY3Rg",
        "colab": {
          "base_uri": "https://localhost:8080/"
        },
        "outputId": "a503a306-8554-498a-85d6-e8ede69b2642"
      },
      "source": [
        "# for - using break\n",
        "# The break statement breaks out of the innermost enclosing for or while loop.\n",
        "for letter in 'Python':\n",
        "   if letter == 'o':\n",
        "      break\n",
        "   print ('Current Letter :', letter)\n",
        "  "
      ],
      "execution_count": null,
      "outputs": [
        {
          "output_type": "stream",
          "text": [
            "Current Letter : P\n",
            "Current Letter : y\n",
            "Current Letter : t\n",
            "Current Letter : h\n"
          ],
          "name": "stdout"
        }
      ]
    },
    {
      "cell_type": "code",
      "metadata": {
        "id": "gDZdGcy-Y3Ri",
        "colab": {
          "base_uri": "https://localhost:8080/"
        },
        "outputId": "68deed0d-57e8-4280-d9f7-dbed156f0742"
      },
      "source": [
        "# for - continue\n",
        "# The continue statement continues with the next iteration of the loop:\n",
        "for num in range(2, 10):\n",
        "    if num % 2 == 0:\n",
        "        print(\"Found an even number\",num)\n",
        "        continue # run this first with continue and without continue to realize the differences\n",
        "    print(\"Found a number\", num)"
      ],
      "execution_count": null,
      "outputs": [
        {
          "output_type": "stream",
          "text": [
            "Found an even number 2\n",
            "Found a number 3\n",
            "Found an even number 4\n",
            "Found a number 5\n",
            "Found an even number 6\n",
            "Found a number 7\n",
            "Found an even number 8\n",
            "Found a number 9\n"
          ],
          "name": "stdout"
        }
      ]
    },
    {
      "cell_type": "code",
      "metadata": {
        "id": "pYCDJO26Y3Rl",
        "colab": {
          "base_uri": "https://localhost:8080/"
        },
        "outputId": "18265fa7-0cac-4ceb-f573-8fc7b7739bfa"
      },
      "source": [
        "# range function : To iterate over a sequence of numbers, you can use range()\n",
        "#It generates arithmetic progressions:\n",
        "for i in range(5): #check for ranges range(0, 10, 3), range(1,15)\n",
        "    print(i)"
      ],
      "execution_count": null,
      "outputs": [
        {
          "output_type": "stream",
          "text": [
            "0\n",
            "1\n",
            "2\n",
            "3\n",
            "4\n"
          ],
          "name": "stdout"
        }
      ]
    },
    {
      "cell_type": "markdown",
      "metadata": {
        "id": "_2ZwxQLEY3Rm"
      },
      "source": [
        "## While \n",
        "Syntax:\n",
        "while <condition>:\n",
        "    <code block>\n",
        "    continue\n",
        "    break\n",
        "else:\n",
        "    <code block>\n"
      ]
    },
    {
      "cell_type": "code",
      "metadata": {
        "id": "eUAq06ljY3Rn",
        "colab": {
          "base_uri": "https://localhost:8080/"
        },
        "outputId": "b5990437-7e24-433c-a7ae-89ca34d4014f"
      },
      "source": [
        "#while example 1\n",
        "x = 1\n",
        "while x < 10:\n",
        "    print (\"this is %d time\" %(x))\n",
        "    x = x + 1"
      ],
      "execution_count": null,
      "outputs": [
        {
          "output_type": "stream",
          "text": [
            "this is 1 time\n",
            "this is 2 time\n",
            "this is 3 time\n",
            "this is 4 time\n",
            "this is 5 time\n",
            "this is 6 time\n",
            "this is 7 time\n",
            "this is 8 time\n",
            "this is 9 time\n"
          ],
          "name": "stdout"
        }
      ]
    },
    {
      "cell_type": "markdown",
      "metadata": {
        "id": "K29i0F9lHxzk"
      },
      "source": [
        "# Functions \n",
        "\n",
        "We use a lot of built in functions and its libraries. However, general purpose functions may not always be applicable for specific tasks. Python gives you the possibility to create your own functions so called **User Defined Functions**. "
      ]
    },
    {
      "cell_type": "markdown",
      "metadata": {
        "id": "Vj-aLF_QY3Rp"
      },
      "source": [
        "## User Defined Functions\n",
        "* The **def** keyword is used to define the function followed by the function name.\n",
        "* Syntax for defining a Python Function\n",
        "* https://docs.python.org/3/library/stdtypes.html#functions\n",
        "\n",
        "```\n",
        "def <function name>(<function signature>):\n",
        "    \"\"\" documentation string \"\"\"\n",
        "    <encapsulated code>\n",
        "    return <object>\n",
        "```\n",
        "* **function name >>** Any valid variable name that must be followed by parenthesis and then a colon. \n",
        "* **function signature >>**  the input arguments to the function and may be left blank if the function does not accept any arguments\n",
        "\n",
        "The **return statement** denotes the end of a function; if reached, a return statement immediately concludes the execution of the function and returns the specified object.\n",
        "\n",
        "**The def statement must end with a colon and the body of the function is delimited by whitespace**"
      ]
    },
    {
      "cell_type": "code",
      "metadata": {
        "id": "rVm3Q6z9Y3Rp",
        "colab": {
          "base_uri": "https://localhost:8080/",
          "height": 34
        },
        "outputId": "f6353030-af6d-4d11-9320-dfa4df3501ea"
      },
      "source": [
        "#function example 1\n",
        "def hello():\n",
        "    # block belonging to the function\n",
        "    print('hello world')\n",
        "# End of function\n",
        "hello() #calling the function"
      ],
      "execution_count": null,
      "outputs": [
        {
          "output_type": "stream",
          "text": [
            "hello world\n"
          ],
          "name": "stdout"
        }
      ]
    },
    {
      "cell_type": "code",
      "metadata": {
        "id": "HINdbifOIwhV"
      },
      "source": [
        "# example 2\n",
        "def my_function(arg1, arg2):   # Defines a new function\n",
        "    return arg1 + arg2           # Function body (code to execute)"
      ],
      "execution_count": null,
      "outputs": []
    },
    {
      "cell_type": "code",
      "metadata": {
        "id": "ymr7YuXdY3Rr",
        "colab": {
          "base_uri": "https://localhost:8080/",
          "height": 102
        },
        "outputId": "c03a5d60-a46a-4b77-f63e-34d3b434e415"
      },
      "source": [
        "#function example 3\n",
        "def happyBirthday(person):\n",
        "    print(\"Happy Birthday to you!\")\n",
        "    print(\"Happy Birthday to you!\")\n",
        "    print(\"Happy Birthday, dear \" + person + \".\")\n",
        "    print(\"Happy Birthday to you!\")\n",
        "\n",
        "def main():\n",
        "    userName = input(\"Enter the Birthday person's name: \")\n",
        "    happyBirthday(userName)\n",
        "\n",
        "main()"
      ],
      "execution_count": null,
      "outputs": [
        {
          "output_type": "stream",
          "text": [
            "Enter the Birthday person's name: asda\n",
            "Happy Birthday to you!\n",
            "Happy Birthday to you!\n",
            "Happy Birthday, dear asda.\n",
            "Happy Birthday to you!\n"
          ],
          "name": "stdout"
        }
      ]
    },
    {
      "cell_type": "code",
      "metadata": {
        "id": "VNQVhCUmcgDJ"
      },
      "source": [
        "# Example of function with wrong indentation\n",
        "def wrong_ind1():\n",
        "x = 1\n",
        "    return x + 2"
      ],
      "execution_count": null,
      "outputs": []
    },
    {
      "cell_type": "code",
      "metadata": {
        "id": "N4Xz_KgDc1IP"
      },
      "source": [
        "# lets correct the wrong indentation in the previous cells\n",
        "def ok_ind1():\n",
        "    x = 1\n",
        "    return x + 2\n",
        "ok_ind1()"
      ],
      "execution_count": null,
      "outputs": []
    }
  ]
}