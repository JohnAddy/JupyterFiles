{
  "nbformat": 4,
  "nbformat_minor": 0,
  "metadata": {
    "kernelspec": {
      "display_name": "Python 3",
      "language": "python",
      "name": "python3"
    },
    "language_info": {
      "codemirror_mode": {
        "name": "ipython",
        "version": 3
      },
      "file_extension": ".py",
      "mimetype": "text/x-python",
      "name": "python",
      "nbconvert_exporter": "python",
      "pygments_lexer": "ipython3",
      "version": "3.7.6"
    },
    "colab": {
      "name": "Data_Cleaning.ipynb",
      "provenance": [],
      "collapsed_sections": []
    }
  },
  "cells": [
    {
      "cell_type": "markdown",
      "metadata": {
        "id": "mckZKHl4Py3s"
      },
      "source": [
        "<center> Business Analytics & Business Intelligence  <br>\n",
        "Deepak KC, deepak.kc@hamk.fi, 2020 <br> Data Preprocessing  </center>"
      ]
    },
    {
      "cell_type": "markdown",
      "metadata": {
        "id": "XMYiL1pwv9z6"
      },
      "source": [
        "# Steps for Data Preprocessing \n",
        "\n",
        "- The first important task in any data analysis is an exploration of the data. - This chapter focuses on data cleaning and other important steps that should be considered when working with a new data set. "
      ]
    },
    {
      "cell_type": "markdown",
      "metadata": {
        "id": "hi_oPp3Cv9z8"
      },
      "source": [
        "## Importing Required Libraries"
      ]
    },
    {
      "cell_type": "code",
      "metadata": {
        "id": "sz7BXM_Pv9z9"
      },
      "source": [
        "# Step 1: importing required modules\n",
        "import pandas as pd\n",
        "import numpy as np"
      ],
      "execution_count": null,
      "outputs": []
    },
    {
      "cell_type": "markdown",
      "metadata": {
        "id": "mT-dAiaEv9z_"
      },
      "source": [
        "## Import the data set"
      ]
    },
    {
      "cell_type": "code",
      "metadata": {
        "id": "oED_HJZBv90A"
      },
      "source": [
        "#Note: to check the current working directory, please type pwd\n",
        "%pwd\n",
        "#you may either write the complete path for the data set or save it in the same directory where your notebook file is\n",
        "# to change your working directory (if needed) use cd \n",
        "%cd Data_Cleaning\n",
        "\n",
        "# reading your data\n",
        "data = pd.read_csv(\"covid_finland_cleaning.csv\")\n"
      ],
      "execution_count": null,
      "outputs": []
    },
    {
      "cell_type": "code",
      "metadata": {
        "id": "9UUXFNJlv90C"
      },
      "source": [
        "# Prview the first 5 lines of the loaded data\n",
        "data.head()"
      ],
      "execution_count": null,
      "outputs": []
    },
    {
      "cell_type": "code",
      "metadata": {
        "id": "kkFYsa9yv90E"
      },
      "source": [
        "# Lets look into a random dataset of data\n",
        "sample=data.sample(5)\n",
        "sample"
      ],
      "execution_count": null,
      "outputs": []
    },
    {
      "cell_type": "code",
      "metadata": {
        "id": "687QjW6mv90H"
      },
      "source": [
        "#know your data set, run following lines in different cells\n",
        "data.columns \n",
        "data.index\n",
        "data.shape #(rows, columns)\n",
        "data.values\n",
        "data.info()\n",
        "# to get only a specific column\n",
        "data['geoId']\n",
        "# to create a subset with required columns\n",
        "data[['geoId','year']]\n",
        "\n",
        "#to access the data (row )based on the location (index) \n",
        "data.loc[3]\n",
        "\n",
        "#to access mulitple rows based on the location (index) \n",
        "data.loc[[3,4, 7]]\n",
        "\n",
        "# to access multiple rows with some conditions such as in a specicific year or for a specific country\n",
        "data.loc[(data['year'] == 2020)]\n",
        "\n",
        "data.loc[(data['deaths'] >= 1)]"
      ],
      "execution_count": null,
      "outputs": []
    },
    {
      "cell_type": "markdown",
      "metadata": {
        "id": "t9Vs-UG51bHT"
      },
      "source": [
        "## Explore the variables\n",
        "\n",
        "- You need to know how many variables are there in a data set, the data types of the variables and the range of values they take on. "
      ]
    },
    {
      "cell_type": "code",
      "metadata": {
        "id": "-KPLwkmF2Nty"
      },
      "source": [
        "data.dtypes"
      ],
      "execution_count": null,
      "outputs": []
    },
    {
      "cell_type": "markdown",
      "metadata": {
        "id": "GGKj7mRQv90J"
      },
      "source": [
        "# Let us check if our dataset contains missing values. \n",
        "\n",
        "When we randomly went through different subsets of data, we already know that our dataset has some missing values which are marked as N/A. \n"
      ]
    },
    {
      "cell_type": "code",
      "metadata": {
        "id": "KzXzGYtzv90J"
      },
      "source": [
        "## lets find out how many datas are missing per column\n",
        "missing_count = data.isnull().sum()\n",
        "print(missing_count)"
      ],
      "execution_count": null,
      "outputs": []
    },
    {
      "cell_type": "code",
      "metadata": {
        "id": "VuR11tfhv90L"
      },
      "source": [
        "# #We can see that 7 missing values in cases\n",
        "#When working with huge dataset it may be helpful to see what\n",
        "#percentage of the data is missing \n",
        "\n",
        "total_data=np.product(data.shape)\n",
        "total_missing=missing_count.sum()\n",
        "per_of_missing_data=(total_missing/total_data)* 100\n",
        "print(per_of_missing_data)\n",
        "\n",
        "#Conclusion: as you can see we have a very small percentage\n",
        "#of missing data, we may delete those rows or fill them up "
      ],
      "execution_count": null,
      "outputs": []
    },
    {
      "cell_type": "markdown",
      "metadata": {
        "id": "blSDFCw4v90N"
      },
      "source": [
        "\n",
        "# Handling Null Values: \n",
        "\n",
        "## Dropna :  dropna() method allows to analyze and drop Rows/Columns with Null values in different ways\n",
        "\n",
        "If you have enough samples in the data set, you may delete a particular row that has a null value and a particular column. This has to be done catutiously as deleting the data leads to the loss of information and the result may not be efficient.\n",
        "\n",
        "Drop the columns where all elements are nan:\n",
        "\n",
        ">> data.dropna(axis=1, how='all')\n",
        "\n",
        "Drop the columns where any of the elements is nan\n",
        ">> data.dropna(axis=1, how='any')\n",
        "\n",
        "Drop the rows where all of the elements are nan\n",
        ">> data.dropna(axis=0, how='all')\n",
        "\n",
        "Keep only the rows with at least 2 non-na values:\n",
        "\n",
        ">> data.dropna(thresh=2)\n",
        "\n",
        "# checking the column cases for null values \n",
        ">> data[\"cases\"].isnull().values.sum()\n",
        "\n",
        "# change the cases fron NaN to 0\n",
        ">> data[\"cases\"].fillna(0, inplace=True)\n",
        "\n",
        "# checking the different types of values in the column cases\n",
        ">> data[\"cases\"].unique()\n",
        "\n",
        "# removing all rows that contain a missing value\n",
        ">> data.dropna()\n",
        "\n",
        "Read More on dropna: https://pandas.pydata.org/pandas-docs/version/0.21.1/generated/pandas.DataFrame.dropna.html"
      ]
    },
    {
      "cell_type": "code",
      "metadata": {
        "id": "LQVj3s4Kv90O"
      },
      "source": [
        "data[\"geoId\"].unique()"
      ],
      "execution_count": null,
      "outputs": []
    },
    {
      "cell_type": "code",
      "metadata": {
        "id": "IziQNagNv90Q"
      },
      "source": [
        "# lets create a new data frame by dropping all null values \n",
        "data1=data.dropna(axis=0, how='any')"
      ],
      "execution_count": null,
      "outputs": []
    },
    {
      "cell_type": "markdown",
      "metadata": {
        "id": "W1q3YYHYv90S"
      },
      "source": [
        "# Fill NA/NAN : Filling in missing values automatically\n",
        "\n",
        "The Panda's fillna() function may be used to fill in missing values in a dataframe. We have to specify what we want to do with the NaN values. We may replace with 0, or replace with the value that comes directly after it in the same column and other remaining one with 0s.\n",
        "\n",
        "\n",
        "\n",
        "```\n",
        "\n",
        "\n",
        "Replace all NaN elements with 0s\n",
        ">> data.fillna(0) \n",
        "\n",
        "Replace all NaN elements in column ‘A’, ‘B’, ‘C’, and ‘D’, with 0, 1, 2, and 3 respectively.\n",
        ">> values = {'A': 0, 'B': 1, 'C': 2, 'D': 3}\n",
        ">> data.fillna(value=values)\n",
        "\n",
        "Only replace the first NaN element\n",
        ">>> data.fillna(value=values, limit=1)\n",
        "\n",
        "Replace all NaN's with the value that comes directly after it in the same column, \n",
        "then replace all the remaining na's with 0\n",
        "\n",
        ">>> df.fillna(method='bfill', axis=0).fillna(0)\n",
        "# This is formatted as code\n",
        "```\n",
        "Read More at: https://pandas.pydata.org/pandas-docs/version/0.21.1/generated/pandas.DataFrame.fillna.html#pandas.DataFrame.fillna"
      ]
    },
    {
      "cell_type": "code",
      "metadata": {
        "id": "7BV1N1AKLCKn",
        "colab": {
          "base_uri": "https://localhost:8080/",
          "height": 166
        },
        "outputId": "6e0750fd-9dec-45dc-d007-f199fabd2f59"
      },
      "source": [
        "#fill na/nan examples\n",
        "df2 = pd.DataFrame([[np.nan, 2, np.nan, 0],\n",
        "\n",
        "                   [3, 4, np.nan, 1],\n",
        "\n",
        "                   [np.nan, np.nan, np.nan, 5],\n",
        "\n",
        "                   [np.nan, 3, np.nan, 4]],\n",
        "\n",
        "                  columns=list('ABCD'))\n",
        "df2"
      ],
      "execution_count": null,
      "outputs": [
        {
          "output_type": "execute_result",
          "data": {
            "text/html": [
              "<div>\n",
              "<style scoped>\n",
              "    .dataframe tbody tr th:only-of-type {\n",
              "        vertical-align: middle;\n",
              "    }\n",
              "\n",
              "    .dataframe tbody tr th {\n",
              "        vertical-align: top;\n",
              "    }\n",
              "\n",
              "    .dataframe thead th {\n",
              "        text-align: right;\n",
              "    }\n",
              "</style>\n",
              "<table border=\"1\" class=\"dataframe\">\n",
              "  <thead>\n",
              "    <tr style=\"text-align: right;\">\n",
              "      <th></th>\n",
              "      <th>A</th>\n",
              "      <th>B</th>\n",
              "      <th>C</th>\n",
              "      <th>D</th>\n",
              "    </tr>\n",
              "  </thead>\n",
              "  <tbody>\n",
              "    <tr>\n",
              "      <th>0</th>\n",
              "      <td>NaN</td>\n",
              "      <td>2.0</td>\n",
              "      <td>NaN</td>\n",
              "      <td>0</td>\n",
              "    </tr>\n",
              "    <tr>\n",
              "      <th>1</th>\n",
              "      <td>3.0</td>\n",
              "      <td>4.0</td>\n",
              "      <td>NaN</td>\n",
              "      <td>1</td>\n",
              "    </tr>\n",
              "    <tr>\n",
              "      <th>2</th>\n",
              "      <td>NaN</td>\n",
              "      <td>NaN</td>\n",
              "      <td>NaN</td>\n",
              "      <td>5</td>\n",
              "    </tr>\n",
              "    <tr>\n",
              "      <th>3</th>\n",
              "      <td>NaN</td>\n",
              "      <td>3.0</td>\n",
              "      <td>NaN</td>\n",
              "      <td>4</td>\n",
              "    </tr>\n",
              "  </tbody>\n",
              "</table>\n",
              "</div>"
            ],
            "text/plain": [
              "     A    B   C  D\n",
              "0  NaN  2.0 NaN  0\n",
              "1  3.0  4.0 NaN  1\n",
              "2  NaN  NaN NaN  5\n",
              "3  NaN  3.0 NaN  4"
            ]
          },
          "metadata": {
            "tags": []
          },
          "execution_count": 2
        }
      ]
    },
    {
      "cell_type": "code",
      "metadata": {
        "id": "wHl4VL29LHKW",
        "colab": {
          "base_uri": "https://localhost:8080/",
          "height": 166
        },
        "outputId": "5991f89d-afa1-4cfe-e28a-58f63621a288"
      },
      "source": [
        "# Replace all NaN elements with 0s\n",
        "df3 = df2.fillna(0)\n",
        "df3"
      ],
      "execution_count": null,
      "outputs": [
        {
          "output_type": "execute_result",
          "data": {
            "text/html": [
              "<div>\n",
              "<style scoped>\n",
              "    .dataframe tbody tr th:only-of-type {\n",
              "        vertical-align: middle;\n",
              "    }\n",
              "\n",
              "    .dataframe tbody tr th {\n",
              "        vertical-align: top;\n",
              "    }\n",
              "\n",
              "    .dataframe thead th {\n",
              "        text-align: right;\n",
              "    }\n",
              "</style>\n",
              "<table border=\"1\" class=\"dataframe\">\n",
              "  <thead>\n",
              "    <tr style=\"text-align: right;\">\n",
              "      <th></th>\n",
              "      <th>A</th>\n",
              "      <th>B</th>\n",
              "      <th>C</th>\n",
              "      <th>D</th>\n",
              "    </tr>\n",
              "  </thead>\n",
              "  <tbody>\n",
              "    <tr>\n",
              "      <th>0</th>\n",
              "      <td>0.0</td>\n",
              "      <td>2.0</td>\n",
              "      <td>0.0</td>\n",
              "      <td>0</td>\n",
              "    </tr>\n",
              "    <tr>\n",
              "      <th>1</th>\n",
              "      <td>3.0</td>\n",
              "      <td>4.0</td>\n",
              "      <td>0.0</td>\n",
              "      <td>1</td>\n",
              "    </tr>\n",
              "    <tr>\n",
              "      <th>2</th>\n",
              "      <td>0.0</td>\n",
              "      <td>0.0</td>\n",
              "      <td>0.0</td>\n",
              "      <td>5</td>\n",
              "    </tr>\n",
              "    <tr>\n",
              "      <th>3</th>\n",
              "      <td>0.0</td>\n",
              "      <td>3.0</td>\n",
              "      <td>0.0</td>\n",
              "      <td>4</td>\n",
              "    </tr>\n",
              "  </tbody>\n",
              "</table>\n",
              "</div>"
            ],
            "text/plain": [
              "     A    B    C  D\n",
              "0  0.0  2.0  0.0  0\n",
              "1  3.0  4.0  0.0  1\n",
              "2  0.0  0.0  0.0  5\n",
              "3  0.0  3.0  0.0  4"
            ]
          },
          "metadata": {
            "tags": []
          },
          "execution_count": 3
        }
      ]
    },
    {
      "cell_type": "code",
      "metadata": {
        "id": "b6JXe4mWLKao",
        "colab": {
          "base_uri": "https://localhost:8080/",
          "height": 166
        },
        "outputId": "21e69c4d-8222-4c00-a9d0-76ec44e9a436"
      },
      "source": [
        "# Replace all NaN elements in column ‘A’, ‘B’, ‘C’, and ‘D’, with 0, 1, 2, and 3 respectively.\n",
        "values = {'A': 0, 'B': 1, 'C': 2, 'D': 3}\n",
        "df4 = df2.fillna(value=values)\n",
        "df4"
      ],
      "execution_count": null,
      "outputs": [
        {
          "output_type": "execute_result",
          "data": {
            "text/html": [
              "<div>\n",
              "<style scoped>\n",
              "    .dataframe tbody tr th:only-of-type {\n",
              "        vertical-align: middle;\n",
              "    }\n",
              "\n",
              "    .dataframe tbody tr th {\n",
              "        vertical-align: top;\n",
              "    }\n",
              "\n",
              "    .dataframe thead th {\n",
              "        text-align: right;\n",
              "    }\n",
              "</style>\n",
              "<table border=\"1\" class=\"dataframe\">\n",
              "  <thead>\n",
              "    <tr style=\"text-align: right;\">\n",
              "      <th></th>\n",
              "      <th>A</th>\n",
              "      <th>B</th>\n",
              "      <th>C</th>\n",
              "      <th>D</th>\n",
              "    </tr>\n",
              "  </thead>\n",
              "  <tbody>\n",
              "    <tr>\n",
              "      <th>0</th>\n",
              "      <td>0.0</td>\n",
              "      <td>2.0</td>\n",
              "      <td>2.0</td>\n",
              "      <td>0</td>\n",
              "    </tr>\n",
              "    <tr>\n",
              "      <th>1</th>\n",
              "      <td>3.0</td>\n",
              "      <td>4.0</td>\n",
              "      <td>2.0</td>\n",
              "      <td>1</td>\n",
              "    </tr>\n",
              "    <tr>\n",
              "      <th>2</th>\n",
              "      <td>0.0</td>\n",
              "      <td>1.0</td>\n",
              "      <td>2.0</td>\n",
              "      <td>5</td>\n",
              "    </tr>\n",
              "    <tr>\n",
              "      <th>3</th>\n",
              "      <td>0.0</td>\n",
              "      <td>3.0</td>\n",
              "      <td>2.0</td>\n",
              "      <td>4</td>\n",
              "    </tr>\n",
              "  </tbody>\n",
              "</table>\n",
              "</div>"
            ],
            "text/plain": [
              "     A    B    C  D\n",
              "0  0.0  2.0  2.0  0\n",
              "1  3.0  4.0  2.0  1\n",
              "2  0.0  1.0  2.0  5\n",
              "3  0.0  3.0  2.0  4"
            ]
          },
          "metadata": {
            "tags": []
          },
          "execution_count": 4
        }
      ]
    },
    {
      "cell_type": "code",
      "metadata": {
        "id": "g9SnEBzQLNIX",
        "colab": {
          "base_uri": "https://localhost:8080/",
          "height": 166
        },
        "outputId": "d3fbe1e4-b58e-464e-8d51-813d8cec99d8"
      },
      "source": [
        "# Only replace the first NaN element\n",
        "df5 = df2.fillna(value=values, limit=1)\n",
        "df5"
      ],
      "execution_count": null,
      "outputs": [
        {
          "output_type": "execute_result",
          "data": {
            "text/html": [
              "<div>\n",
              "<style scoped>\n",
              "    .dataframe tbody tr th:only-of-type {\n",
              "        vertical-align: middle;\n",
              "    }\n",
              "\n",
              "    .dataframe tbody tr th {\n",
              "        vertical-align: top;\n",
              "    }\n",
              "\n",
              "    .dataframe thead th {\n",
              "        text-align: right;\n",
              "    }\n",
              "</style>\n",
              "<table border=\"1\" class=\"dataframe\">\n",
              "  <thead>\n",
              "    <tr style=\"text-align: right;\">\n",
              "      <th></th>\n",
              "      <th>A</th>\n",
              "      <th>B</th>\n",
              "      <th>C</th>\n",
              "      <th>D</th>\n",
              "    </tr>\n",
              "  </thead>\n",
              "  <tbody>\n",
              "    <tr>\n",
              "      <th>0</th>\n",
              "      <td>0.0</td>\n",
              "      <td>2.0</td>\n",
              "      <td>2.0</td>\n",
              "      <td>0</td>\n",
              "    </tr>\n",
              "    <tr>\n",
              "      <th>1</th>\n",
              "      <td>3.0</td>\n",
              "      <td>4.0</td>\n",
              "      <td>NaN</td>\n",
              "      <td>1</td>\n",
              "    </tr>\n",
              "    <tr>\n",
              "      <th>2</th>\n",
              "      <td>NaN</td>\n",
              "      <td>1.0</td>\n",
              "      <td>NaN</td>\n",
              "      <td>5</td>\n",
              "    </tr>\n",
              "    <tr>\n",
              "      <th>3</th>\n",
              "      <td>NaN</td>\n",
              "      <td>3.0</td>\n",
              "      <td>NaN</td>\n",
              "      <td>4</td>\n",
              "    </tr>\n",
              "  </tbody>\n",
              "</table>\n",
              "</div>"
            ],
            "text/plain": [
              "     A    B    C  D\n",
              "0  0.0  2.0  2.0  0\n",
              "1  3.0  4.0  NaN  1\n",
              "2  NaN  1.0  NaN  5\n",
              "3  NaN  3.0  NaN  4"
            ]
          },
          "metadata": {
            "tags": []
          },
          "execution_count": 5
        }
      ]
    },
    {
      "cell_type": "code",
      "metadata": {
        "id": "AmKanchZLR2_",
        "colab": {
          "base_uri": "https://localhost:8080/",
          "height": 166
        },
        "outputId": "9091775d-4238-43ab-cd06-4377c9afed0c"
      },
      "source": [
        "#Replace all NaN's with the value that comes directly after it in the same column, \n",
        "# then replace all the remaining na's with 0\n",
        "\n",
        "df6 = df2.fillna(method='bfill', axis=0).fillna(0)\n",
        "df6"
      ],
      "execution_count": null,
      "outputs": [
        {
          "output_type": "execute_result",
          "data": {
            "text/html": [
              "<div>\n",
              "<style scoped>\n",
              "    .dataframe tbody tr th:only-of-type {\n",
              "        vertical-align: middle;\n",
              "    }\n",
              "\n",
              "    .dataframe tbody tr th {\n",
              "        vertical-align: top;\n",
              "    }\n",
              "\n",
              "    .dataframe thead th {\n",
              "        text-align: right;\n",
              "    }\n",
              "</style>\n",
              "<table border=\"1\" class=\"dataframe\">\n",
              "  <thead>\n",
              "    <tr style=\"text-align: right;\">\n",
              "      <th></th>\n",
              "      <th>A</th>\n",
              "      <th>B</th>\n",
              "      <th>C</th>\n",
              "      <th>D</th>\n",
              "    </tr>\n",
              "  </thead>\n",
              "  <tbody>\n",
              "    <tr>\n",
              "      <th>0</th>\n",
              "      <td>3.0</td>\n",
              "      <td>2.0</td>\n",
              "      <td>0.0</td>\n",
              "      <td>0</td>\n",
              "    </tr>\n",
              "    <tr>\n",
              "      <th>1</th>\n",
              "      <td>3.0</td>\n",
              "      <td>4.0</td>\n",
              "      <td>0.0</td>\n",
              "      <td>1</td>\n",
              "    </tr>\n",
              "    <tr>\n",
              "      <th>2</th>\n",
              "      <td>0.0</td>\n",
              "      <td>3.0</td>\n",
              "      <td>0.0</td>\n",
              "      <td>5</td>\n",
              "    </tr>\n",
              "    <tr>\n",
              "      <th>3</th>\n",
              "      <td>0.0</td>\n",
              "      <td>3.0</td>\n",
              "      <td>0.0</td>\n",
              "      <td>4</td>\n",
              "    </tr>\n",
              "  </tbody>\n",
              "</table>\n",
              "</div>"
            ],
            "text/plain": [
              "     A    B    C  D\n",
              "0  3.0  2.0  0.0  0\n",
              "1  3.0  4.0  0.0  1\n",
              "2  0.0  3.0  0.0  5\n",
              "3  0.0  3.0  0.0  4"
            ]
          },
          "metadata": {
            "tags": []
          },
          "execution_count": 6
        }
      ]
    },
    {
      "cell_type": "markdown",
      "metadata": {
        "id": "9BJ5nHhZxJiP"
      },
      "source": [
        "# Data transformation\n",
        "- It is the final step in data preprocessing \n",
        "- Transfering the date into the appropriate form for data modeling \n",
        "- Strategies for data transformation \n",
        "    - Smoothing: process to remove noise from the dataset by using some algorithms\n",
        "    - Attribute/feature construction: Creating new attributes to assist the mining process \n",
        "    - Aggregation: Method of storing and presenting data in a summary format\n",
        "    - Normalization: Converting data variable into a given range\n",
        "    - Discretization: Process of transforming continuous data into set of small intervals\n",
        "    - Generalization: converting low-level data into high level data attributes such as converting ages 22,20,25 into categorical value (young, old ..)"
      ]
    },
    {
      "cell_type": "markdown",
      "metadata": {
        "id": "d_0cZMScxS6q"
      },
      "source": [
        "### Dulpicate Values: \n",
        "- One of the import task in analyzing data is to identify and remove duplicate values. \n",
        "- Panda has drop_duplicates() method for removing duplicate values for the data frame. \n",
        "dataframe.drop_duplicates() \n",
        "- Syntax\n",
        "    - dataframe.drop_duplicates(parameters)\n",
        "    - Parameters\n",
        "        - subset: column label or sequence of labels, optional\n",
        "            It is better to consider certain columns for identifying duplicates\n",
        "            By default it used all of the columns. \n",
        "        - keep: {‘first’, ‘last’, False}, default ‘first’\n",
        "            To determine which duplicates to keep \n",
        "               -first: will drop all duplicates except for the first occurence.\n",
        "                -last: drops all except for the last occurence\n",
        "                -flase: drop all duplicates\n",
        "        - inplace: bool, default false\n",
        "            whether to drop duplicates in place or to return a copy\n",
        "        - for a dataframe if inplace=true it will return dataframe with dulpicates removed"
      ]
    },
    {
      "cell_type": "code",
      "metadata": {
        "id": "xpHfDSzexXec",
        "colab": {
          "base_uri": "https://localhost:8080/",
          "height": 284
        },
        "outputId": "cc261e7b-40e5-49e2-ffb1-006f5728c8dc"
      },
      "source": [
        "# Examples Removing duplicate values \n",
        "\n",
        "df = pd.DataFrame ({\n",
        "    'name': ['Johanna'] * 3 + ['Pekka'] * 2 + ['Andrew', 'Ben', 'Matthew'],\n",
        "    'courseName': ['Data Processing'] * 8,\n",
        "    'grade': [1,1,1,3,3,5,5,4]\n",
        "})\n",
        "df"
      ],
      "execution_count": null,
      "outputs": [
        {
          "output_type": "execute_result",
          "data": {
            "text/html": [
              "<div>\n",
              "<style scoped>\n",
              "    .dataframe tbody tr th:only-of-type {\n",
              "        vertical-align: middle;\n",
              "    }\n",
              "\n",
              "    .dataframe tbody tr th {\n",
              "        vertical-align: top;\n",
              "    }\n",
              "\n",
              "    .dataframe thead th {\n",
              "        text-align: right;\n",
              "    }\n",
              "</style>\n",
              "<table border=\"1\" class=\"dataframe\">\n",
              "  <thead>\n",
              "    <tr style=\"text-align: right;\">\n",
              "      <th></th>\n",
              "      <th>name</th>\n",
              "      <th>courseName</th>\n",
              "      <th>grade</th>\n",
              "    </tr>\n",
              "  </thead>\n",
              "  <tbody>\n",
              "    <tr>\n",
              "      <th>0</th>\n",
              "      <td>Johanna</td>\n",
              "      <td>Data Processing</td>\n",
              "      <td>1</td>\n",
              "    </tr>\n",
              "    <tr>\n",
              "      <th>1</th>\n",
              "      <td>Johanna</td>\n",
              "      <td>Data Processing</td>\n",
              "      <td>1</td>\n",
              "    </tr>\n",
              "    <tr>\n",
              "      <th>2</th>\n",
              "      <td>Johanna</td>\n",
              "      <td>Data Processing</td>\n",
              "      <td>1</td>\n",
              "    </tr>\n",
              "    <tr>\n",
              "      <th>3</th>\n",
              "      <td>Pekka</td>\n",
              "      <td>Data Processing</td>\n",
              "      <td>3</td>\n",
              "    </tr>\n",
              "    <tr>\n",
              "      <th>4</th>\n",
              "      <td>Pekka</td>\n",
              "      <td>Data Processing</td>\n",
              "      <td>3</td>\n",
              "    </tr>\n",
              "    <tr>\n",
              "      <th>5</th>\n",
              "      <td>Andrew</td>\n",
              "      <td>Data Processing</td>\n",
              "      <td>5</td>\n",
              "    </tr>\n",
              "    <tr>\n",
              "      <th>6</th>\n",
              "      <td>Ben</td>\n",
              "      <td>Data Processing</td>\n",
              "      <td>5</td>\n",
              "    </tr>\n",
              "    <tr>\n",
              "      <th>7</th>\n",
              "      <td>Matthew</td>\n",
              "      <td>Data Processing</td>\n",
              "      <td>4</td>\n",
              "    </tr>\n",
              "  </tbody>\n",
              "</table>\n",
              "</div>"
            ],
            "text/plain": [
              "      name       courseName  grade\n",
              "0  Johanna  Data Processing      1\n",
              "1  Johanna  Data Processing      1\n",
              "2  Johanna  Data Processing      1\n",
              "3    Pekka  Data Processing      3\n",
              "4    Pekka  Data Processing      3\n",
              "5   Andrew  Data Processing      5\n",
              "6      Ben  Data Processing      5\n",
              "7  Matthew  Data Processing      4"
            ]
          },
          "metadata": {
            "tags": []
          },
          "execution_count": 7
        }
      ]
    },
    {
      "cell_type": "code",
      "metadata": {
        "id": "5LivCoiMxbq7",
        "colab": {
          "base_uri": "https://localhost:8080/"
        },
        "outputId": "92390e79-a803-40e4-976c-9740de5fd21e"
      },
      "source": [
        "#Pandas duplicated() method returns the boolean series\n",
        "df.duplicated()"
      ],
      "execution_count": null,
      "outputs": [
        {
          "output_type": "execute_result",
          "data": {
            "text/plain": [
              "0    False\n",
              "1     True\n",
              "2     True\n",
              "3    False\n",
              "4     True\n",
              "5    False\n",
              "6    False\n",
              "7    False\n",
              "dtype: bool"
            ]
          },
          "metadata": {
            "tags": []
          },
          "execution_count": 8
        }
      ]
    },
    {
      "cell_type": "code",
      "metadata": {
        "id": "gjWc7pvYxcwR",
        "colab": {
          "base_uri": "https://localhost:8080/",
          "height": 195
        },
        "outputId": "e0c46bb7-922a-4fb1-9a1e-992255cfd097"
      },
      "source": [
        "#by default drop_duplicates() method removes duplicate rows based on all columns\n",
        "df.drop_duplicates()"
      ],
      "execution_count": null,
      "outputs": [
        {
          "output_type": "execute_result",
          "data": {
            "text/html": [
              "<div>\n",
              "<style scoped>\n",
              "    .dataframe tbody tr th:only-of-type {\n",
              "        vertical-align: middle;\n",
              "    }\n",
              "\n",
              "    .dataframe tbody tr th {\n",
              "        vertical-align: top;\n",
              "    }\n",
              "\n",
              "    .dataframe thead th {\n",
              "        text-align: right;\n",
              "    }\n",
              "</style>\n",
              "<table border=\"1\" class=\"dataframe\">\n",
              "  <thead>\n",
              "    <tr style=\"text-align: right;\">\n",
              "      <th></th>\n",
              "      <th>name</th>\n",
              "      <th>courseName</th>\n",
              "      <th>grade</th>\n",
              "    </tr>\n",
              "  </thead>\n",
              "  <tbody>\n",
              "    <tr>\n",
              "      <th>0</th>\n",
              "      <td>Johanna</td>\n",
              "      <td>Data Processing</td>\n",
              "      <td>1</td>\n",
              "    </tr>\n",
              "    <tr>\n",
              "      <th>3</th>\n",
              "      <td>Pekka</td>\n",
              "      <td>Data Processing</td>\n",
              "      <td>3</td>\n",
              "    </tr>\n",
              "    <tr>\n",
              "      <th>5</th>\n",
              "      <td>Andrew</td>\n",
              "      <td>Data Processing</td>\n",
              "      <td>5</td>\n",
              "    </tr>\n",
              "    <tr>\n",
              "      <th>6</th>\n",
              "      <td>Ben</td>\n",
              "      <td>Data Processing</td>\n",
              "      <td>5</td>\n",
              "    </tr>\n",
              "    <tr>\n",
              "      <th>7</th>\n",
              "      <td>Matthew</td>\n",
              "      <td>Data Processing</td>\n",
              "      <td>4</td>\n",
              "    </tr>\n",
              "  </tbody>\n",
              "</table>\n",
              "</div>"
            ],
            "text/plain": [
              "      name       courseName  grade\n",
              "0  Johanna  Data Processing      1\n",
              "3    Pekka  Data Processing      3\n",
              "5   Andrew  Data Processing      5\n",
              "6      Ben  Data Processing      5\n",
              "7  Matthew  Data Processing      4"
            ]
          },
          "metadata": {
            "tags": []
          },
          "execution_count": 9
        }
      ]
    },
    {
      "cell_type": "code",
      "metadata": {
        "id": "inVkf-ATxkMB",
        "colab": {
          "base_uri": "https://localhost:8080/",
          "height": 77
        },
        "outputId": "e37d6001-eba6-4825-cc83-81642d9814d0"
      },
      "source": [
        "#to remove duplicates on specific column(s)\n",
        "df.drop_duplicates(subset=['courseName'])"
      ],
      "execution_count": null,
      "outputs": [
        {
          "output_type": "execute_result",
          "data": {
            "text/html": [
              "<div>\n",
              "<style scoped>\n",
              "    .dataframe tbody tr th:only-of-type {\n",
              "        vertical-align: middle;\n",
              "    }\n",
              "\n",
              "    .dataframe tbody tr th {\n",
              "        vertical-align: top;\n",
              "    }\n",
              "\n",
              "    .dataframe thead th {\n",
              "        text-align: right;\n",
              "    }\n",
              "</style>\n",
              "<table border=\"1\" class=\"dataframe\">\n",
              "  <thead>\n",
              "    <tr style=\"text-align: right;\">\n",
              "      <th></th>\n",
              "      <th>name</th>\n",
              "      <th>courseName</th>\n",
              "      <th>grade</th>\n",
              "    </tr>\n",
              "  </thead>\n",
              "  <tbody>\n",
              "    <tr>\n",
              "      <th>0</th>\n",
              "      <td>Johanna</td>\n",
              "      <td>Data Processing</td>\n",
              "      <td>1</td>\n",
              "    </tr>\n",
              "  </tbody>\n",
              "</table>\n",
              "</div>"
            ],
            "text/plain": [
              "      name       courseName  grade\n",
              "0  Johanna  Data Processing      1"
            ]
          },
          "metadata": {
            "tags": []
          },
          "execution_count": 10
        }
      ]
    },
    {
      "cell_type": "code",
      "metadata": {
        "id": "SZMsvIHyxrfC"
      },
      "source": [
        "# to remove duplicates and keep the first occurence\n",
        "df.drop_duplicates(subset=['name','courseName'], keep='first')"
      ],
      "execution_count": null,
      "outputs": []
    },
    {
      "cell_type": "code",
      "metadata": {
        "id": "DwYodoCUxuQq"
      },
      "source": [
        "# to remove duplicates and keep the last occurence\n",
        "df.drop_duplicates(subset=['name','courseName'], keep='last')"
      ],
      "execution_count": null,
      "outputs": []
    },
    {
      "cell_type": "code",
      "metadata": {
        "id": "TS1BndPSxxPh"
      },
      "source": [
        "# dropping all duplicate values that is rows having same name\n",
        "#and coursename are removed to create a new data frame,\n",
        "#since keep=false it will remove all occurences of duplicate values\n",
        "df.drop_duplicates(subset=['name','courseName'], keep=False, inplace=True)\n",
        "df\n",
        "#check the output by recreating the dataframe and changing inplace=False"
      ],
      "execution_count": null,
      "outputs": []
    },
    {
      "cell_type": "markdown",
      "metadata": {
        "id": "GhvvL78jx1p8"
      },
      "source": [
        "### Replacing values data.replace \n",
        "pandas.DataFrame.replace\n",
        "- Replace method provides a simple way of replacing values in a dataframe. \n",
        "- Syntax: \n",
        "    df.replace(to_replace=None, value=None, inplace=False, limit=None, regex=False, method='pad'\n",
        "- Parameters: to_replacestr, regex, list, dict, Series, int, float, or None\n",
        "\n",
        "Read More: https://pandas.pydata.org/pandas-docs/stable/reference/api/pandas.DataFrame.replace.html?highlight=data%20replace#pandas.DataFrame.replace"
      ]
    },
    {
      "cell_type": "code",
      "metadata": {
        "id": "jKAxo4n8x8lC"
      },
      "source": [
        "# replacing values - Examples\n",
        "df1 = pd.Series([0, 1, 2, 3, 4])\n",
        "#to replace 0 with 4\n",
        "df1.replace(0,4)\n",
        "\n",
        "df2 = pd.Series([5, -9999,20, -9999., -4000, 7])\n",
        "# in the above dataframe, lets try to replace -9999 with NA values \n",
        "df2.replace(-9999, np.nan, inplace=True)\n",
        "\n",
        "#replacing multiple instances \"List-like\"\n",
        "df3.replace([0,1,2,3,4],4) #replaces all numbers with 4"
      ],
      "execution_count": null,
      "outputs": []
    },
    {
      "cell_type": "code",
      "metadata": {
        "id": "vpTqeVmXx_iR"
      },
      "source": [
        "#lets create a new dataframe with 3 columns A, B & C\n",
        "df3 = pd.DataFrame({'A': [0, 1, 2, 3, 4],\n",
        "                 'B': [5, 6, 7, 8, 9],                   \n",
        "                'C': ['a', 'b', 'c', 'd', 'e']})\n",
        "#to replace 0 with 5 in df3\n",
        "df3.replace(0,5)"
      ],
      "execution_count": null,
      "outputs": []
    },
    {
      "cell_type": "code",
      "metadata": {
        "id": "XptQ4Bf9yB9x"
      },
      "source": [
        "#replacing multiple instances \"List-like\"\n",
        "df3.replace([0,1,2,3,4],4) #replaces all numbers with 4"
      ],
      "execution_count": null,
      "outputs": []
    },
    {
      "cell_type": "code",
      "metadata": {
        "id": "m_VOaDjKyEQh"
      },
      "source": [
        "# replaces 0>4, 1>3,2>2, 3>1 & 4>0\n",
        "df3.replace ([0,1,2,3,4],[4,3,2,1,0])"
      ],
      "execution_count": null,
      "outputs": []
    },
    {
      "cell_type": "markdown",
      "metadata": {
        "id": "UAuIet4RyHji"
      },
      "source": [
        "### Discretization & Bining \n",
        "\n",
        "- When dealing with contnuous numeric data, it is better to separate them into bins for further analysis. \n",
        "- Pandas uses cut & qcut functions for binning\n",
        "- cut function\n",
        "    - It is used for defining specific bin edges \n",
        "    - To define bins of constant size \n",
        "- qcut function\n",
        "    - Qcut is “Quantile-based discretization function” \n",
        "    - It divides the underlying data into equal sized bins. \n",
        "    - Bins are defined by using percentiles based on the distribution of data rather than the atucal numeric edges of the bins. \n",
        "- Lets assument that we have \"age\" column in our data set. Lets group them into discrete age buckets of 20 - 25, 26 - 35 , 36- 45 & > 46\n",
        "ages = [21, 23, 35, 36, 21, 23, 47, 35, 63, 43, 49, 33,47, 35, 63, 43, 49, 33]"
      ]
    },
    {
      "cell_type": "code",
      "metadata": {
        "id": "h1qM0cEdyLx6"
      },
      "source": [
        "# Example binning  cut\n",
        "ages = [21, 23, 35, 36, 21, 23, 47, 35, 63, 43, 49, 33,47, 35, 63, 43, 49, 33]\n",
        "# to divide them into bins of 20 - 25, 26 - 35 , 36- 45 & > 46\n",
        "# we will use cut function\n",
        "bins = [20,25,35,45,60, 100]\n",
        "age_bins = pd.cut(ages,bins)\n",
        "# to chek the categories\n",
        "age_bins.categories\n",
        "#lets count the values for each bin\n",
        "pd.value_counts(age_bins)\n",
        "\n",
        "#Note: A parenthesis mean the side is open\n",
        "#square brakcet means it is closed and inclusive\n",
        "#possible to change which side is closed by passing right=False\n",
        "age_bins1 = pd.cut(ages, bins, right=False)\n",
        "age_bins1.categories\n",
        "\n",
        "#It is possible to pass your own bin names \n",
        "# by using a list of array for the labels \n",
        "gnames = ['Young', 'YoundAdult', 'Adult','MiddleAged','Elderly']\n",
        "bins_labels = pd.cut(ages, bins, labels=gnames)\n",
        "bins_labels.categories"
      ],
      "execution_count": null,
      "outputs": []
    },
    {
      "cell_type": "code",
      "metadata": {
        "id": "uWdcprbRyOdL"
      },
      "source": [
        "#Example binning qcut : qcut bins the data based on sample quantiles\n",
        "import random\n",
        "#lets generate some random numbers \n",
        "df4 =random.sample(range(0, 100), 20)\n",
        "groups = pd.qcut(df4, 4)\n",
        "groups.categories"
      ],
      "execution_count": null,
      "outputs": []
    },
    {
      "cell_type": "markdown",
      "metadata": {
        "id": "nqLRHHvaySy6"
      },
      "source": [
        "### Detecting & Filtering Outliers\n",
        "\n",
        "- The observations that deviates very much from other observatsions are outliers\n",
        "- An outlier is simply an observation that is very different from the other observations. \n",
        "- There is no precise way of identifying and defining outliers. Some one (domain expert) will have to interpret the raw observations and decide if the value is an outlier or not. \n",
        "- Outlier may occur during the data collection phase as a result of mistake during data collection \n",
        "- It can also be an indication of variance in your data. \n",
        "- If outliers are the result of mistake, we can ignore them but if it is a variance in the data, it requires a further analysis. \n",
        "\n",
        "Example, in the table below, the average salary for CEOs'is between 80 to 90 K however Juha has a very high salary. This might be a typing mistake or it is showing the variance that suggests Juha has very high salary among the CEOs.\n",
        "\n",
        "|CEO|Salary Per Yer| \n",
        "| :- | -: |\n",
        "|Pekka| 80000|\n",
        "|Juha| 180000|\n",
        "|Vesa| 85000|\n",
        "|Johanna| 90000|\n",
        "|Sari| 87000|\n",
        "|John| 85000|\n",
        "\n",
        "#### Finding Outliers \n",
        "\n",
        "- There are several statistical methods for identifying outliers. \n",
        "- Two types of analysis for detecting an outlier\n",
        "    - <b> Univariate </b>: Based on one variable.  \"Univariate is a term commonly used in statistics to describe a type of data which consists of observations on only a single characteristic or attribute.\"\n",
        "    - <b> Mutli-variate </b>: Based on two or more variables. \n",
        "- You can find outliers in multiple ways\n",
        "    - Using Visualization Tools (box plot, scatter plot,histogram)\n",
        "    - Z score (Mathematical function)\n",
        "    - Dbscan (Density Based Spatial Clustering of Applications with Noise)\n",
        "    - Isolation Forest\n",
        "    - Using IQR Score"
      ]
    },
    {
      "cell_type": "markdown",
      "metadata": {
        "id": "CI5_7SM3yXVC"
      },
      "source": [
        "### Combining datasets concat & append.\n",
        "- We need to combine different data sources. \n",
        "- Combining datasets can be simple concatenation of two different data sets or more complicated such as database joins. "
      ]
    },
    {
      "cell_type": "code",
      "metadata": {
        "id": "liqda54uybYT"
      },
      "source": [
        "# Simple Concatenation with pd.concat\n",
        "# pd.concat() can be used for a simple concatenation of Series or DataFrame objects\n",
        "df6 = pd.Series(['A', 'B', 'C'], index=[1, 2, 3])\n",
        "df7 = pd.Series(['D', 'E', 'F'], index=[4, 5, 6])\n",
        "pd.concat([df6, df7])"
      ],
      "execution_count": null,
      "outputs": []
    },
    {
      "cell_type": "code",
      "metadata": {
        "id": "43ciLKEfycAi"
      },
      "source": [
        "#pd.concat for concatenating dataframes\n",
        "df8 = pd.DataFrame(np.array([[1, 2, 3], [4, 5, 6], [7, 8, 9]]), columns=['a', 'b', 'c'], index=[0,1,2])\n",
        "df9 = pd.DataFrame(np.array([[10, 20, 30], [40, 50, 60], [70, 80, 90]]), columns=['a', 'b', 'c'], index=[3,4,5])\n",
        "pd.concat ([df8, df9])"
      ],
      "execution_count": null,
      "outputs": []
    },
    {
      "cell_type": "code",
      "metadata": {
        "id": "c76H8w7dye2S"
      },
      "source": [
        "#by default the concatenation takes place row-wise within the DataFrame (i.e., axis=0)\n",
        "\n",
        "df10 = pd.DataFrame(np.array([[1, 2], [4, 5]]), columns=['a', 'b'], index=[0,1])\n",
        "df11 = pd.DataFrame(np.array([[6, 7], [8, 9]]), columns=['c', 'd'], index=[0,1])\n",
        "pd.concat([df10, df11], axis=1)\n",
        "\n",
        "# Read More: https://pandas.pydata.org/pandas-docs/stable/reference/api/pandas.concat.html "
      ],
      "execution_count": null,
      "outputs": []
    },
    {
      "cell_type": "markdown",
      "metadata": {
        "id": "ACohkKFPykes"
      },
      "source": [
        "### Indices \n",
        "- pd.concat preserves indices even if the result will have duplicate indices"
      ]
    },
    {
      "cell_type": "code",
      "metadata": {
        "id": "Y57JtyDyynWC"
      },
      "source": [
        "df12 = pd.DataFrame(np.array([[1, 2], [4, 5]]), columns=['a', 'b'], index=[0,1])\n",
        "df13 = pd.DataFrame(np.array([[6, 7], [8, 9]]), columns=['a', 'b'], index=[0,1])\n",
        "pd.concat ([df12,df13])"
      ],
      "execution_count": null,
      "outputs": []
    },
    {
      "cell_type": "markdown",
      "metadata": {
        "id": "_MUU0-CRyqey"
      },
      "source": [
        "### Avoiding duplicate indices\n",
        "- In the output above, notice that we have repeated indices. This is valid with in the dataframes but the out come is undesirable. We can hand them in following ways \n",
        "- consider repeats as an error\n",
        "- To avoid overlapping, it is possible to specify the verify_integrity flag."
      ]
    },
    {
      "cell_type": "code",
      "metadata": {
        "id": "kjQx3Vo7ytlr"
      },
      "source": [
        "try:\n",
        "    pd.concat([df12, df13], verify_integrity=True)\n",
        "except ValueError as e:\n",
        "    print(\"ValueError:\", e)"
      ],
      "execution_count": null,
      "outputs": []
    },
    {
      "cell_type": "markdown",
      "metadata": {
        "id": "GkeLDQ_Myw4K"
      },
      "source": [
        "### Ignoring the index\n",
        "- Sometimes index does not matter. It is possible to ignore it with the ignore_index flag.\n",
        "- The ignore_index flag set to true  will create a new integer index for the resulting series."
      ]
    },
    {
      "cell_type": "code",
      "metadata": {
        "id": "tmg3j5DjyzxM"
      },
      "source": [
        "pd.concat([df12, df13], ignore_index=True)"
      ],
      "execution_count": null,
      "outputs": []
    },
    {
      "cell_type": "markdown",
      "metadata": {
        "id": "Y-pqvo17y2XK"
      },
      "source": [
        "### Multiindex key\n",
        "- It is possible to use keys to specify a label for the data. "
      ]
    },
    {
      "cell_type": "code",
      "metadata": {
        "id": "djB1_5fvy40S"
      },
      "source": [
        "pd.concat([df12, df13], keys=['d1', 'd2'])"
      ],
      "execution_count": null,
      "outputs": []
    },
    {
      "cell_type": "markdown",
      "metadata": {
        "id": "QLJYJF5Jy7yq"
      },
      "source": [
        "### Concatenation with joins\n",
        "- There will be situation where we need to join data from different sources that have different sets of column names inaddition to shared column names.\n",
        "- pd.concat has several options for this kind of cases."
      ]
    },
    {
      "cell_type": "code",
      "metadata": {
        "id": "DebOIXZFy_Xh"
      },
      "source": [
        "df = pd.DataFrame ({\n",
        "    'name':  ['Andrew', 'Ben', 'Matthew', 'Johanna', 'Pekka'],\n",
        "    'Data Processing': [1,5,5,4,3]\n",
        "})\n",
        "df1 = pd.DataFrame ({\n",
        "    'name':  ['Andrew', 'Ben', 'Matthew', 'Johanna', 'Pekka'],\n",
        "    'Advanced Data Processing': [5,4,3,2,1],\n",
        "    'Databases':[5,4,3,2,1],\n",
        "    'Maths':[5,4,3,2,1]\n",
        "})\n",
        "pd.concat([df, df1]) # by default the entries for which no data is available are filled with NA values.\n",
        "# we can specify specify one of several options for the join and join_axes parameters\n",
        "#  By defualty,the join is a union of the input columns (join='outer'),\n",
        "# we can change this to an intersection of the columns using join='inner':"
      ],
      "execution_count": null,
      "outputs": []
    },
    {
      "cell_type": "code",
      "metadata": {
        "id": "RUUk6hpMzB5q"
      },
      "source": [
        "#now lets make the inner join\n",
        "pd.concat([df, df1], axis=1, join='inner')"
      ],
      "execution_count": null,
      "outputs": []
    },
    {
      "cell_type": "markdown",
      "metadata": {
        "id": "8pvbhe43zEoK"
      },
      "source": [
        "### The append() method\n",
        "- \"Append rows of other to the end of caller, returning a new object.\""
      ]
    },
    {
      "cell_type": "code",
      "metadata": {
        "id": "vnqcnaArzJTG"
      },
      "source": [
        "#example 1 append()\n",
        "df.append(df1)"
      ],
      "execution_count": null,
      "outputs": []
    },
    {
      "cell_type": "code",
      "metadata": {
        "id": "SVshPmo9zKFz"
      },
      "source": [
        "#ignore_index \n",
        "df.append(df1, ignore_index=True)"
      ],
      "execution_count": null,
      "outputs": []
    }
  ]
}