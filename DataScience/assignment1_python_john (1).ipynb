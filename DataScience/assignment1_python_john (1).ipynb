{
 "cells": [
  {
   "cell_type": "markdown",
   "metadata": {
    "id": "PipOrvj7G9UT"
   },
   "source": [
    "# Data types in Python - Assignment 1\n",
    "Business Analytics & Business Intelligence  <br>\n",
    "Deepak KC, deepak.kc@hamk.fi, 2020 <br>\n",
    "                Total Points 26 <br>\n",
    "                             ***To pass you need to get atleast 15 points***"
   ]
  },
  {
   "cell_type": "markdown",
   "metadata": {
    "id": "W8vejbcoG9UU"
   },
   "source": [
    "Task 1: Create a string (name), an integer (num) and a floating point number (fnum). Assign your name to name, 25 to num and 56.78 to fnum. Print the output for all 3 variables. (6 points)"
   ]
  },
  {
   "cell_type": "code",
   "execution_count": 14,
   "metadata": {
    "id": "8LiPJD_OG9UU"
   },
   "outputs": [
    {
     "name": "stdout",
     "output_type": "stream",
     "text": [
      "John Adekunle\n",
      "25\n",
      "56.78\n"
     ]
    }
   ],
   "source": [
    "#name\n",
    "name = \"John Adekunle\"\n",
    "#num\n",
    "num = 25\n",
    "#fnum\n",
    "fnum = 56.78\n",
    "#print name\n",
    "print (name)\n",
    "#print num\n",
    "print (num)\n",
    "#print fnum\n",
    "print (fnum)\n",
    "\n",
    "\n",
    "\n",
    "\n"
   ]
  },
  {
   "cell_type": "markdown",
   "metadata": {
    "id": "oNPYtzqxG9UX"
   },
   "source": [
    "Task 2: Use the capitalize() method to convert the first character of a string to uppercase letter. (1 point)"
   ]
  },
  {
   "cell_type": "code",
   "execution_count": 5,
   "metadata": {
    "id": "lTC7kT7sG9UX"
   },
   "outputs": [
    {
     "name": "stdout",
     "output_type": "stream",
     "text": [
      "This is getting interesting.\n"
     ]
    }
   ],
   "source": [
    "mystring = \"this is getting interesting.\"\n",
    "#use capitalize method\n",
    "#print the capitalized string\n",
    "mycapital_string = mystring.capitalize()\n",
    "print (mycapital_string)\n",
    "\n",
    "\n",
    "\n",
    "\n"
   ]
  },
  {
   "cell_type": "markdown",
   "metadata": {
    "id": "W7SpeMKXG9Ua"
   },
   "source": [
    "Task 3: The find() method returns the index of first occurence of the substring if it is found and if it does not find it returns -1. Use find() method to complete the code below. (1 point)"
   ]
  },
  {
   "cell_type": "code",
   "execution_count": 6,
   "metadata": {
    "id": "SxsFCC04G9Ua"
   },
   "outputs": [
    {
     "name": "stdout",
     "output_type": "stream",
     "text": [
      "21\n"
     ]
    }
   ],
   "source": [
    "text = \"Python is an easy to learn language\"\n",
    "#find learn\n",
    "#print result  \n",
    "result = text.find(\"learn\")\n",
    "print (result)\n",
    "\n"
   ]
  },
  {
   "cell_type": "markdown",
   "metadata": {
    "id": "UowIH2FpG9Uc"
   },
   "source": [
    "Task 4: It is possible to assign the same value to multiple variables at once in Python. Complete the code below. (1 point)"
   ]
  },
  {
   "cell_type": "code",
   "execution_count": 9,
   "metadata": {
    "id": "fs8476TYG9Uc"
   },
   "outputs": [
    {
     "name": "stdout",
     "output_type": "stream",
     "text": [
      "1 1 1\n"
     ]
    }
   ],
   "source": [
    "# create 3 variables a,b & c & \n",
    "# assign 1 as value to all variables in the same statement\n",
    "# incorrect answer if it a=1 b=1 c=1  \n",
    "\n",
    "#print a\n",
    "#print b\n",
    "#print c\n",
    "\n",
    "a, b, c = 1, 1, 1\n",
    "print (a, b, c)\n",
    "\n",
    "\n",
    "\n",
    "\n"
   ]
  },
  {
   "cell_type": "markdown",
   "metadata": {
    "id": "65TgOlWCG9Ue"
   },
   "source": [
    "Task 5: Complete tasks as in the comment below (5 Points)"
   ]
  },
  {
   "cell_type": "code",
   "execution_count": 21,
   "metadata": {
    "id": "AfEcLDLPG9Uf"
   },
   "outputs": [
    {
     "name": "stdout",
     "output_type": "stream",
     "text": [
      "13\n",
      "First character :  I\n",
      "I LIKE PYTHON\n",
      "1 Niin metsä vastaa, kuin sinne huudetaan\n"
     ]
    }
   ],
   "source": [
    "a = \"I like python\"\n",
    "plength = len(a) \n",
    "print (plength) # use the len method to print the length of the string\n",
    "\n",
    "plength = a[0] \n",
    "print ('First character : ', plength) # print the first character of the string\n",
    "\n",
    "plength = a.upper()\n",
    "print(plength) # print the string in uppercase letters \n",
    "\n",
    "newtext = \"%d Niin %s vastaa, %s sinne huudetaan\" % (1, 'metsä', 'kuin') \n",
    "# it should print 1 Niin metsä vastaa, kuin sinne huudetaan\n",
    "print(newtext) # print the newtext "
   ]
  },
  {
   "cell_type": "markdown",
   "metadata": {
    "id": "xrHn6vHuG9Uh"
   },
   "source": [
    "Task 6: Create a list named mylist and include 5 different data items. (4 points)"
   ]
  },
  {
   "cell_type": "code",
   "execution_count": 22,
   "metadata": {
    "id": "9hpdK220G9Ui"
   },
   "outputs": [
    {
     "name": "stdout",
     "output_type": "stream",
     "text": [
      "['Tomatoes', '50€', 'Rice', '80€', 5.8]\n",
      "50€\n",
      "['Tomatoes', '50€', 'Rice', '80€', 5.8, 'Fish']\n"
     ]
    }
   ],
   "source": [
    "mylist = [\"Tomatoes\", \"50€\", \"Rice\", \"80€\", 5.8 ]    # it should contain 5 different data items\n",
    "print(mylist) # print the entire list\n",
    "print (mylist [1]) # print only the second element\n",
    "mylist.append('Fish') #use append to add one more item to your list \n",
    "print(mylist) #print the entire list"
   ]
  },
  {
   "cell_type": "markdown",
   "metadata": {
    "id": "Lg7wMsI4G9Uk"
   },
   "source": [
    "Task 7: Tuple (3 points)"
   ]
  },
  {
   "cell_type": "code",
   "execution_count": 23,
   "metadata": {
    "id": "SPnMN-riG9Ul"
   },
   "outputs": [
    {
     "name": "stdout",
     "output_type": "stream",
     "text": [
      "3\n",
      "('Introduction to IoT & Cloud', 'Python Basics for IoT', 'Python Project')\n",
      "Python Project\n"
     ]
    }
   ],
   "source": [
    "courses = (\"Introduction to IoT & Cloud\", \"Python Basics for IoT\", \"Python Project\")\n",
    "print(len(courses)) #use len method to print the number of items(courses) in the tuple courses.\n",
    "print(courses) #print all items in the tuple courses\n",
    "print(courses[2]) #print the third item in the tuple"
   ]
  },
  {
   "cell_type": "markdown",
   "metadata": {
    "id": "Wltud9o6G9Un"
   },
   "source": [
    "Task 8: Dictionary (5 points)"
   ]
  },
  {
   "cell_type": "code",
   "execution_count": 6,
   "metadata": {
    "id": "efBt540zG9Un"
   },
   "outputs": [
    {
     "name": "stdout",
     "output_type": "stream",
     "text": [
      "Python Basics\n",
      "{'course': 'Python Basics for IoT', 'time': 'Autumn', 'ects': 5}\n",
      "{'course': 'Python Basics for IoT', 'time': 'Autumn', 'ects': 5, 'year': 2019}\n"
     ]
    },
    {
     "data": {
      "text/plain": [
       "'Autumn'"
      ]
     },
     "execution_count": 6,
     "metadata": {},
     "output_type": "execute_result"
    }
   ],
   "source": [
    "#create a dictionary with the key as course, time and ects\n",
    "    #values as Python Basics, Autumn, 5\n",
    "test = {\n",
    "        \"course\": \"Python Basics\", \n",
    "        \"time\": \"Autumn\", \n",
    "        \"ects\": 5\n",
    "        }\n",
    "print(test.get(\"course\")) #use get method to print the value of the course\n",
    "\n",
    "test[\"course\"] = \"Python Basics for IoT\" \n",
    "print(test) #change the course value to Python Basics for IoT\n",
    "\n",
    "test[\"year\"] = 2019 #add the key/value pair as year:2019 to the test dictionary\n",
    "\n",
    "print(test) #print the entire dictionary\n",
    "\n",
    "test.pop(\"time\")\n",
    "#use pop method to remove time form the dictionary"
   ]
  }
 ],
 "metadata": {
  "colab": {
   "collapsed_sections": [],
   "name": "assignment1_python.ipynb",
   "provenance": []
  },
  "kernelspec": {
   "display_name": "Python 3",
   "language": "python",
   "name": "python3"
  }
 },
 "nbformat": 4,
 "nbformat_minor": 1
}
