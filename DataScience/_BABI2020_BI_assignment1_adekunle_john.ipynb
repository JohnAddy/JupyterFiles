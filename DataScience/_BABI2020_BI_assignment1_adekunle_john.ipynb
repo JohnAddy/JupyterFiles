{
 "cells": [
  {
   "cell_type": "code",
   "execution_count": null,
   "metadata": {},
   "outputs": [],
   "source": [
    "# Part 1 (0.5 point)\n",
    "\n",
    "# Study their content from the course descriptions and list FIVE courses that you find interesting. Write them down with links.\n",
    "\n",
    "#Course 1\n",
    "# Data-engineering-for-everyone.\n",
    "# https://learn.datacamp.com/courses/data-engineering-for-everyone.\n",
    "# the objective of taking this course is to solidify my base  knowledge \n",
    "#and understand the topics without having to think about the actual coding.\n",
    "\n",
    "#Course 2\n",
    "# Python-for-data-science\n",
    "# https://learn.datacamp.com/courses/intro-to-python-for-data-science\n",
    "# Here, I will learn data engineer’s core responsibilities, how they differ from data scientists, \n",
    "# and how they facilitate the flow of data through an organization.\n",
    "# Get Insight into understanding how the data engineers collect, clean, and catalog their data.\n",
    "\n",
    "\n",
    "# Course 3\n",
    "# Introduction-to-sql\n",
    "# https://learn.datacamp.com/courses/introduction-to-sql\n",
    "# The role of a data scientist is to turn raw data into actionable insights.\n",
    "# To be an effective data scientist, we must know how to wrangle, \n",
    "extract data from these databases using a language called SQL .\n",
    "# Since we already did some SQL in School, I will like to deepen my knowledge more in data Science with SQL.\n",
    "\n",
    "# Course 4\n",
    "# Data Manipulation with Pandas\n",
    "# https://learn.datacamp.com/courses/data-manipulation-with-pandas\n",
    "# Since we have done a little of data manipulation with Deepak, \n",
    "# like using DataFrames, the core of pandas, aggregating data to gather insights, slicing and\n",
    "# indexing to subset DataFrames and visualizing  data, deal with missing data, and read data into a DataFrame.\n",
    "# It will be useful to continue on this path.\n",
    "\n",
    "# Course 5\n",
    "# Intermediate-R\n",
    "# https://learn.datacamp.com/courses/intermediate-r\n",
    "# My interest in looking through this would be to compare R with Python and just on the surface not going deep with it.\n",
    "# I will do these by going through conditional statements, loops, and functions,\n",
    "# regular expressions, data structure manipulationin R scripts.\n",
    "    "
   ]
  },
  {
   "cell_type": "code",
   "execution_count": null,
   "metadata": {},
   "outputs": [],
   "source": [
    "# Part 2 (total 1.5 point)\n",
    "\n",
    "# Explain with few words what the data is all about?\n",
    "# The datasets is about all airlines and the incident and fatalities\n",
    "# rate and year range and # Should Travelers Avoid \n",
    "# Flying Airlines That Have Had Crashes in the Past?\n",
    "\n",
    "\n",
    "# Train meaningful linear regression model using that data\n",
    "\n",
    "I have trained my linear regression model using the data from my csv file  and\n",
    "calculates the KPIs such as covariance, correlation, R2 score, etc. \n",
    "Also with these calculations, there are also scatter \n",
    "graphs which help to get a visual representation of the type of \n",
    "datpoints we have\\n'\n",
    "\n",
    "# Use the model to make predictions\n",
    "In the model prediction it shows the incidents and fatalities rate within a \n",
    "given range of year and the prediction can tell that likely flight company\n",
    "that has more risk of incidents based on previous record."
   ]
  },
  {
   "cell_type": "code",
   "execution_count": null,
   "metadata": {},
   "outputs": [],
   "source": [
    "# Introduction to Linear Modeling in Python, Go through the first three parts/chapters of the course. Part 4 can now be skipped.\n",
    "# Pay attention to  concepts like interpolation, extrapolation, covariance, correlation, linear regression model, slope, intercept, residuals, RSS, Least-Square optimization, goodness-of-fit, RMSE, R-square, standard error etc"
   ]
  },
  {
   "cell_type": "code",
   "execution_count": 1,
   "metadata": {},
   "outputs": [],
   "source": [
    "import pandas as pd\n",
    "import numpy as np\n",
    "import matplotlib.pyplot as plt\n",
    "from sklearn.metrics import r2_score\n",
    "from scipy.interpolate import interp1d"
   ]
  },
  {
   "cell_type": "code",
   "execution_count": 2,
   "metadata": {},
   "outputs": [
    {
     "name": "stdout",
     "output_type": "stream",
     "text": [
      "C:\\Users\\johna\\Documents\\Anaconda3Files\\Data_Cleaning\n"
     ]
    }
   ],
   "source": [
    "#Note: to check the current working directory, please type pwd\n",
    "%pwd\n",
    "#you may either write the complete path for the data set or save it in the same directory where your notebook file is\n",
    "# to change your working directory (if needed) use cd \n",
    "%cd C:\\Users\\johna\\Documents\\Anaconda3Files\\Data_Cleaning\n",
    "    \n",
    "fatality = pd.read_csv('airline-safety1.csv') "
   ]
  },
  {
   "cell_type": "code",
   "execution_count": 3,
   "metadata": {},
   "outputs": [
    {
     "data": {
      "text/html": [
       "<div>\n",
       "<style scoped>\n",
       "    .dataframe tbody tr th:only-of-type {\n",
       "        vertical-align: middle;\n",
       "    }\n",
       "\n",
       "    .dataframe tbody tr th {\n",
       "        vertical-align: top;\n",
       "    }\n",
       "\n",
       "    .dataframe thead th {\n",
       "        text-align: right;\n",
       "    }\n",
       "</style>\n",
       "<table border=\"1\" class=\"dataframe\">\n",
       "  <thead>\n",
       "    <tr style=\"text-align: right;\">\n",
       "      <th></th>\n",
       "      <th>airline</th>\n",
       "      <th>avail_seat_km_per_week</th>\n",
       "      <th>incidents_85_99</th>\n",
       "      <th>fatal_accidents_85_99</th>\n",
       "      <th>fatalities_85_99</th>\n",
       "    </tr>\n",
       "  </thead>\n",
       "  <tbody>\n",
       "    <tr>\n",
       "      <th>0</th>\n",
       "      <td>Aer Lingus</td>\n",
       "      <td>320906734</td>\n",
       "      <td>2</td>\n",
       "      <td>0</td>\n",
       "      <td>0</td>\n",
       "    </tr>\n",
       "    <tr>\n",
       "      <th>1</th>\n",
       "      <td>Aeroflot*</td>\n",
       "      <td>1197672318</td>\n",
       "      <td>76</td>\n",
       "      <td>14</td>\n",
       "      <td>128</td>\n",
       "    </tr>\n",
       "    <tr>\n",
       "      <th>2</th>\n",
       "      <td>Aerolineas Argentinas</td>\n",
       "      <td>385803648</td>\n",
       "      <td>6</td>\n",
       "      <td>0</td>\n",
       "      <td>0</td>\n",
       "    </tr>\n",
       "    <tr>\n",
       "      <th>3</th>\n",
       "      <td>Aeromexico*</td>\n",
       "      <td>596871813</td>\n",
       "      <td>3</td>\n",
       "      <td>1</td>\n",
       "      <td>64</td>\n",
       "    </tr>\n",
       "    <tr>\n",
       "      <th>4</th>\n",
       "      <td>Air Canada</td>\n",
       "      <td>1865253802</td>\n",
       "      <td>2</td>\n",
       "      <td>0</td>\n",
       "      <td>0</td>\n",
       "    </tr>\n",
       "  </tbody>\n",
       "</table>\n",
       "</div>"
      ],
      "text/plain": [
       "                 airline  avail_seat_km_per_week  incidents_85_99  \\\n",
       "0             Aer Lingus               320906734                2   \n",
       "1              Aeroflot*              1197672318               76   \n",
       "2  Aerolineas Argentinas               385803648                6   \n",
       "3            Aeromexico*               596871813                3   \n",
       "4             Air Canada              1865253802                2   \n",
       "\n",
       "   fatal_accidents_85_99  fatalities_85_99  \n",
       "0                      0                 0  \n",
       "1                     14               128  \n",
       "2                      0                 0  \n",
       "3                      1                64  \n",
       "4                      0                 0  "
      ]
     },
     "execution_count": 3,
     "metadata": {},
     "output_type": "execute_result"
    }
   ],
   "source": [
    "# Prview the first 5 lines of the loaded data\n",
    "fatality.head(5)\n"
   ]
  },
  {
   "cell_type": "code",
   "execution_count": 4,
   "metadata": {},
   "outputs": [
    {
     "data": {
      "text/plain": [
       "(56, 5)"
      ]
     },
     "execution_count": 4,
     "metadata": {},
     "output_type": "execute_result"
    }
   ],
   "source": [
    "fatality.shape #(rows, columns)"
   ]
  },
  {
   "cell_type": "code",
   "execution_count": 5,
   "metadata": {},
   "outputs": [
    {
     "data": {
      "text/html": [
       "<div>\n",
       "<style scoped>\n",
       "    .dataframe tbody tr th:only-of-type {\n",
       "        vertical-align: middle;\n",
       "    }\n",
       "\n",
       "    .dataframe tbody tr th {\n",
       "        vertical-align: top;\n",
       "    }\n",
       "\n",
       "    .dataframe thead th {\n",
       "        text-align: right;\n",
       "    }\n",
       "</style>\n",
       "<table border=\"1\" class=\"dataframe\">\n",
       "  <thead>\n",
       "    <tr style=\"text-align: right;\">\n",
       "      <th></th>\n",
       "      <th>count</th>\n",
       "      <th>mean</th>\n",
       "      <th>std</th>\n",
       "      <th>min</th>\n",
       "      <th>25%</th>\n",
       "      <th>50%</th>\n",
       "      <th>75%</th>\n",
       "      <th>max</th>\n",
       "    </tr>\n",
       "  </thead>\n",
       "  <tbody>\n",
       "    <tr>\n",
       "      <th>avail_seat_km_per_week</th>\n",
       "      <td>56.0</td>\n",
       "      <td>1.384621e+09</td>\n",
       "      <td>1.465317e+09</td>\n",
       "      <td>259373346.0</td>\n",
       "      <td>4.740362e+08</td>\n",
       "      <td>802908893.0</td>\n",
       "      <td>1.847239e+09</td>\n",
       "      <td>7.139291e+09</td>\n",
       "    </tr>\n",
       "    <tr>\n",
       "      <th>incidents_85_99</th>\n",
       "      <td>56.0</td>\n",
       "      <td>7.178571e+00</td>\n",
       "      <td>1.103566e+01</td>\n",
       "      <td>0.0</td>\n",
       "      <td>2.000000e+00</td>\n",
       "      <td>4.0</td>\n",
       "      <td>8.000000e+00</td>\n",
       "      <td>7.600000e+01</td>\n",
       "    </tr>\n",
       "    <tr>\n",
       "      <th>fatal_accidents_85_99</th>\n",
       "      <td>56.0</td>\n",
       "      <td>2.178571e+00</td>\n",
       "      <td>2.861069e+00</td>\n",
       "      <td>0.0</td>\n",
       "      <td>0.000000e+00</td>\n",
       "      <td>1.0</td>\n",
       "      <td>3.000000e+00</td>\n",
       "      <td>1.400000e+01</td>\n",
       "    </tr>\n",
       "    <tr>\n",
       "      <th>fatalities_85_99</th>\n",
       "      <td>56.0</td>\n",
       "      <td>1.124107e+02</td>\n",
       "      <td>1.466911e+02</td>\n",
       "      <td>0.0</td>\n",
       "      <td>0.000000e+00</td>\n",
       "      <td>48.5</td>\n",
       "      <td>1.842500e+02</td>\n",
       "      <td>5.350000e+02</td>\n",
       "    </tr>\n",
       "  </tbody>\n",
       "</table>\n",
       "</div>"
      ],
      "text/plain": [
       "                        count          mean           std          min  \\\n",
       "avail_seat_km_per_week   56.0  1.384621e+09  1.465317e+09  259373346.0   \n",
       "incidents_85_99          56.0  7.178571e+00  1.103566e+01          0.0   \n",
       "fatal_accidents_85_99    56.0  2.178571e+00  2.861069e+00          0.0   \n",
       "fatalities_85_99         56.0  1.124107e+02  1.466911e+02          0.0   \n",
       "\n",
       "                                 25%          50%           75%           max  \n",
       "avail_seat_km_per_week  4.740362e+08  802908893.0  1.847239e+09  7.139291e+09  \n",
       "incidents_85_99         2.000000e+00          4.0  8.000000e+00  7.600000e+01  \n",
       "fatal_accidents_85_99   0.000000e+00          1.0  3.000000e+00  1.400000e+01  \n",
       "fatalities_85_99        0.000000e+00         48.5  1.842500e+02  5.350000e+02  "
      ]
     },
     "execution_count": 5,
     "metadata": {},
     "output_type": "execute_result"
    }
   ],
   "source": [
    "fatality.describe().T"
   ]
  },
  {
   "cell_type": "code",
   "execution_count": 6,
   "metadata": {},
   "outputs": [],
   "source": [
    "fatality = {'incidents_85_99': [0.1, 12.1, 20.2, 33.1, 40.2, 55.3, 60.5, 75.1, 80.6, 90],\n",
    "        'fatalities_85_99': [0, 55, 110, 165, 215, 270, 325, 380, 435, 550]\n",
    "        }\n",
    "\n",
    "df = pd.DataFrame(fatality, columns = ['incidents_85_99', 'fatalities_85_99'])"
   ]
  },
  {
   "cell_type": "code",
   "execution_count": 7,
   "metadata": {},
   "outputs": [
    {
     "data": {
      "text/html": [
       "<div>\n",
       "<style scoped>\n",
       "    .dataframe tbody tr th:only-of-type {\n",
       "        vertical-align: middle;\n",
       "    }\n",
       "\n",
       "    .dataframe tbody tr th {\n",
       "        vertical-align: top;\n",
       "    }\n",
       "\n",
       "    .dataframe thead th {\n",
       "        text-align: right;\n",
       "    }\n",
       "</style>\n",
       "<table border=\"1\" class=\"dataframe\">\n",
       "  <thead>\n",
       "    <tr style=\"text-align: right;\">\n",
       "      <th></th>\n",
       "      <th>incidents_85_99</th>\n",
       "      <th>fatalities_85_99</th>\n",
       "    </tr>\n",
       "  </thead>\n",
       "  <tbody>\n",
       "    <tr>\n",
       "      <th>0</th>\n",
       "      <td>0.1</td>\n",
       "      <td>0</td>\n",
       "    </tr>\n",
       "    <tr>\n",
       "      <th>1</th>\n",
       "      <td>12.1</td>\n",
       "      <td>55</td>\n",
       "    </tr>\n",
       "    <tr>\n",
       "      <th>2</th>\n",
       "      <td>20.2</td>\n",
       "      <td>110</td>\n",
       "    </tr>\n",
       "    <tr>\n",
       "      <th>3</th>\n",
       "      <td>33.1</td>\n",
       "      <td>165</td>\n",
       "    </tr>\n",
       "    <tr>\n",
       "      <th>4</th>\n",
       "      <td>40.2</td>\n",
       "      <td>215</td>\n",
       "    </tr>\n",
       "    <tr>\n",
       "      <th>5</th>\n",
       "      <td>55.3</td>\n",
       "      <td>270</td>\n",
       "    </tr>\n",
       "    <tr>\n",
       "      <th>6</th>\n",
       "      <td>60.5</td>\n",
       "      <td>325</td>\n",
       "    </tr>\n",
       "    <tr>\n",
       "      <th>7</th>\n",
       "      <td>75.1</td>\n",
       "      <td>380</td>\n",
       "    </tr>\n",
       "    <tr>\n",
       "      <th>8</th>\n",
       "      <td>80.6</td>\n",
       "      <td>435</td>\n",
       "    </tr>\n",
       "    <tr>\n",
       "      <th>9</th>\n",
       "      <td>90.0</td>\n",
       "      <td>550</td>\n",
       "    </tr>\n",
       "  </tbody>\n",
       "</table>\n",
       "</div>"
      ],
      "text/plain": [
       "   incidents_85_99  fatalities_85_99\n",
       "0              0.1                 0\n",
       "1             12.1                55\n",
       "2             20.2               110\n",
       "3             33.1               165\n",
       "4             40.2               215\n",
       "5             55.3               270\n",
       "6             60.5               325\n",
       "7             75.1               380\n",
       "8             80.6               435\n",
       "9             90.0               550"
      ]
     },
     "execution_count": 7,
     "metadata": {},
     "output_type": "execute_result"
    }
   ],
   "source": [
    "df"
   ]
  },
  {
   "cell_type": "code",
   "execution_count": 8,
   "metadata": {},
   "outputs": [],
   "source": [
    "incidents = df['incidents_85_99'].to_frame()"
   ]
  },
  {
   "cell_type": "code",
   "execution_count": 9,
   "metadata": {},
   "outputs": [],
   "source": [
    "fatalities = df['fatalities_85_99']"
   ]
  },
  {
   "cell_type": "code",
   "execution_count": 10,
   "metadata": {},
   "outputs": [
    {
     "data": {
      "text/plain": [
       "<matplotlib.collections.PathCollection at 0x2bc050e56d0>"
      ]
     },
     "execution_count": 10,
     "metadata": {},
     "output_type": "execute_result"
    },
    {
     "data": {
      "image/png": "[encoded data removed]",
      "text/plain": [
       "<Figure size 432x288 with 1 Axes>"
      ]
     },
     "metadata": {
      "needs_background": "light"
     },
     "output_type": "display_data"
    }
   ],
   "source": [
    "plt.scatter(incidents,fatalities)"
   ]
  },
  {
   "cell_type": "code",
   "execution_count": 11,
   "metadata": {},
   "outputs": [],
   "source": [
    "from sklearn.linear_model import LinearRegression"
   ]
  },
  {
   "cell_type": "code",
   "execution_count": 12,
   "metadata": {},
   "outputs": [],
   "source": [
    "reg_model = LinearRegression().fit(incidents,fatalities)"
   ]
  },
  {
   "cell_type": "code",
   "execution_count": 13,
   "metadata": {},
   "outputs": [
    {
     "data": {
      "text/plain": [
       "LinearRegression()"
      ]
     },
     "execution_count": 13,
     "metadata": {},
     "output_type": "execute_result"
    }
   ],
   "source": [
    "reg_model"
   ]
  },
  {
   "cell_type": "code",
   "execution_count": 14,
   "metadata": {},
   "outputs": [
    {
     "data": {
      "text/plain": [
       "array([5.67729777])"
      ]
     },
     "execution_count": 14,
     "metadata": {},
     "output_type": "execute_result"
    }
   ],
   "source": [
    "reg_model.coef_"
   ]
  },
  {
   "cell_type": "code",
   "execution_count": 15,
   "metadata": {},
   "outputs": [
    {
     "data": {
      "text/plain": [
       "-14.743351670321317"
      ]
     },
     "execution_count": 15,
     "metadata": {},
     "output_type": "execute_result"
    }
   ],
   "source": [
    "reg_model.intercept_"
   ]
  },
  {
   "cell_type": "code",
   "execution_count": 16,
   "metadata": {},
   "outputs": [],
   "source": [
    "x1 = np.linspace(0, 80,100)"
   ]
  },
  {
   "cell_type": "code",
   "execution_count": 17,
   "metadata": {},
   "outputs": [],
   "source": [
    "y1=reg_model.coef_*x1 + reg_model.intercept_\n",
    "\n",
    "# testing, what would happen if the coefficient would be bit different, see the figure below\n",
    "y2=40*x1 + reg_model.intercept_  "
   ]
  },
  {
   "cell_type": "code",
   "execution_count": 18,
   "metadata": {},
   "outputs": [
    {
     "data": {
      "text/plain": [
       "[<matplotlib.lines.Line2D at 0x2bc0536b0d0>]"
      ]
     },
     "execution_count": 18,
     "metadata": {},
     "output_type": "execute_result"
    },
    {
     "data": {
      "image/png": "[encoded data removed]",
      "text/plain": [
       "<Figure size 432x288 with 1 Axes>"
      ]
     },
     "metadata": {
      "needs_background": "light"
     },
     "output_type": "display_data"
    }
   ],
   "source": [
    "plt.scatter(incidents,fatalities)\n",
    "plt.plot(x1,y1, 'g')\n",
    "plt.plot(x1,y2, 'r')"
   ]
  },
  {
   "cell_type": "code",
   "execution_count": 19,
   "metadata": {},
   "outputs": [
    {
     "data": {
      "text/plain": [
       "array([212.34855901])"
      ]
     },
     "execution_count": 19,
     "metadata": {},
     "output_type": "execute_result"
    }
   ],
   "source": [
    "reg_model.predict(pd.DataFrame([0.95]))"
   ]
  },
  {
   "cell_type": "code",
   "execution_count": 24,
   "metadata": {},
   "outputs": [],
   "source": [
    "#calculating covariance\n",
    "x1 = np.array([1, 40, 80])\n",
    "y1 = np.array([1, 40, 80])\n",
    "\n",
    "x2 = np.array([1, 42, 76])\n",
    "y2 = np.array([1, 42, 76])"
   ]
  },
  {
   "cell_type": "code",
   "execution_count": 27,
   "metadata": {},
   "outputs": [
    {
     "data": {
      "text/plain": [
       "[<matplotlib.lines.Line2D at 0x2bc055be3d0>]"
      ]
     },
     "execution_count": 27,
     "metadata": {},
     "output_type": "execute_result"
    },
    {
     "data": {
      "image/png": "[encoded data removed]",
      "text/plain": [
       "<Figure size 432x288 with 1 Axes>"
      ]
     },
     "metadata": {
      "needs_background": "light"
     },
     "output_type": "display_data"
    }
   ],
   "source": [
    "#calculating correlation\n",
    "plt.plot(x1, y1, 'rx')\n",
    "plt.plot(x2, y2, 'b.')\n"
   ]
  },
  {
   "cell_type": "code",
   "execution_count": 28,
   "metadata": {},
   "outputs": [
    {
     "data": {
      "text/plain": [
       "-70.97186162762492"
      ]
     },
     "execution_count": 28,
     "metadata": {},
     "output_type": "execute_result"
    }
   ],
   "source": [
    "r2 = r2_score(incidents,fatalities)\n",
    "r2"
   ]
  },
  {
   "cell_type": "code",
   "execution_count": 29,
   "metadata": {},
   "outputs": [
    {
     "name": "stdout",
     "output_type": "stream",
     "text": [
      "[[1560.33333333 1560.33333333]\n",
      " [1560.33333333 1560.33333333]]\n"
     ]
    }
   ],
   "source": [
    "print(np.cov(x1,y1))"
   ]
  },
  {
   "cell_type": "code",
   "execution_count": null,
   "metadata": {},
   "outputs": [],
   "source": [
    "print(np.cov(x2,y2))"
   ]
  },
  {
   "cell_type": "code",
   "execution_count": null,
   "metadata": {},
   "outputs": [],
   "source": [
    "print(np.corrcoef(x1,y1))"
   ]
  },
  {
   "cell_type": "code",
   "execution_count": null,
   "metadata": {},
   "outputs": [],
   "source": [
    "x3 = np.array([1, 42, 76])\n",
    "y3 = np.array([1, 42, 76])"
   ]
  }
 ],
 "metadata": {
  "kernelspec": {
   "display_name": "Python 3",
   "language": "python",
   "name": "python3"
  },
  "language_info": {
   "codemirror_mode": {
    "name": "ipython",
    "version": 3
   },
   "file_extension": ".py",
   "mimetype": "text/x-python",
   "name": "python",
   "nbconvert_exporter": "python",
   "pygments_lexer": "ipython3",
   "version": "3.8.3"
  }
 },
 "nbformat": 4,
 "nbformat_minor": 4
}
