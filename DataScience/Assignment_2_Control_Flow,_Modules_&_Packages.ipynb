{
  "nbformat": 4,
  "nbformat_minor": 0,
  "metadata": {
    "kernelspec": {
      "display_name": "Python 3",
      "language": "python",
      "name": "python3"
    },
    "language_info": {
      "codemirror_mode": {
        "name": "ipython",
        "version": 3
      },
      "file_extension": ".py",
      "mimetype": "text/x-python",
      "name": "python",
      "nbconvert_exporter": "python",
      "pygments_lexer": "ipython3",
      "version": "3.7.3"
    },
    "colab": {
      "name": "Assignment 2 - Control Flow, Modules & Packages.ipynb",
      "provenance": [],
      "collapsed_sections": []
    }
  },
  "cells": [
    {
      "cell_type": "markdown",
      "metadata": {
        "id": "bDes99ZUJEXs"
      },
      "source": [
        "# Assignment 2 - Control Flow, Modules & Packages\n",
        "Business Analytics & Business Intelligence <br>\n",
        "Deepak KC, deepak.kc@hamk.fi, 2020 <br>\n",
        "Total Points 26 <br>\n",
        "To pass you need to get atleast 18 points "
      ]
    },
    {
      "cell_type": "markdown",
      "metadata": {
        "id": "sXqcXpf4JBSl"
      },
      "source": [
        "1. Write a program that prompts students to provide their total points (0 -100) and check with the following conidtions: (5 Points) <br>\n",
        "\n",
        "* if total point is greater than or equal to 85 then the grade is 5\n",
        "* if total point is greater than or equal to 75 then the grade is 4\n",
        "* if total point is greater than or equal to 65 then the grade is 3\n",
        "* if total point is greater than or equal to 55 then the grade is 2\n",
        "* if total point is greater than or equal to 45 then the grade is 1\n",
        "* if total point is less than 45 then the grade is 0\n",
        "\n",
        "(Use IF statement)\n"
      ]
    },
    {
      "cell_type": "code",
      "metadata": {
        "id": "WnrK1m8FJBSm"
      },
      "source": [
        "#ask user to input point\n",
        "# write conditions to check and output the grade based on point "
      ],
      "execution_count": null,
      "outputs": []
    },
    {
      "cell_type": "markdown",
      "metadata": {
        "id": "hsmmFdowJBSp"
      },
      "source": [
        "2. Write a  program that asks used to input a number and create the multiplication table (from 1 to 10) of a number.(Use For) The output should be as below for an inputted number: (5 Points) <br>\n",
        "5 * 1 = 5 <br>\n",
        "5 * 2 = 10<br>\n",
        "...<br>\n",
        "...<br>\n",
        "...<br>\n",
        "5 * 10 = 50"
      ]
    },
    {
      "cell_type": "code",
      "metadata": {
        "id": "qWFK9S4gJBSp"
      },
      "source": [
        "# get input from the user\n",
        "# print multiplication table for the number"
      ],
      "execution_count": null,
      "outputs": []
    },
    {
      "cell_type": "markdown",
      "metadata": {
        "id": "wL3p5um1JBSs"
      },
      "source": [
        "3. The numpy package is available in anaconda. If not, please install the numpy package and answer following questions in comments. (3 Points)"
      ]
    },
    {
      "cell_type": "code",
      "metadata": {
        "id": "mhKCjrtEJBSs"
      },
      "source": [
        "# import the numpy package\n",
        "# use help to know more about the numpy package\n",
        "# print the version of the numpy package"
      ],
      "execution_count": null,
      "outputs": []
    },
    {
      "cell_type": "markdown",
      "metadata": {
        "id": "40LCjQ5GJBSu"
      },
      "source": [
        "4. Write a program using Numpy to generate and print 5 random number between 0 & 1 (Hints: randon.normal) (3 Points)"
      ]
    },
    {
      "cell_type": "code",
      "metadata": {
        "id": "OAo0XkuMJBSu"
      },
      "source": [
        "# print the 5 random numbers"
      ],
      "execution_count": null,
      "outputs": []
    },
    {
      "cell_type": "markdown",
      "metadata": {
        "id": "ZUtEsEtGJBSw"
      },
      "source": [
        "5. Write a function to check if the numbers in a list are even. (5 points)"
      ]
    },
    {
      "cell_type": "code",
      "metadata": {
        "id": "Q32LA9-CJBSx"
      },
      "source": [
        "# create an integer list that has 10 numbers 1,2,3,4,5,6,7,8,9,10\n",
        "# check and print all even numbers from the list"
      ],
      "execution_count": null,
      "outputs": []
    },
    {
      "cell_type": "code",
      "metadata": {
        "id": "4C7O2DaVJBSz"
      },
      "source": [
        "6. Write a function that checks if the user inputted string is palindrome or not. (5 points)"
      ],
      "execution_count": null,
      "outputs": []
    },
    {
      "cell_type": "code",
      "metadata": {
        "id": "WZkFelrHJBS1"
      },
      "source": [
        "# ask user to input a string\n",
        "# check if it is palindrome or not \n",
        "# if it is palindrom print it is palindrome and if it is not pring it is not palindrom. "
      ],
      "execution_count": null,
      "outputs": []
    }
  ]
}