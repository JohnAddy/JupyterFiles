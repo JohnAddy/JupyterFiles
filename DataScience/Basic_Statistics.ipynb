{
  "nbformat": 4,
  "nbformat_minor": 0,
  "metadata": {
    "kernelspec": {
      "display_name": "Python 3",
      "language": "python",
      "name": "python3"
    },
    "language_info": {
      "codemirror_mode": {
        "name": "ipython",
        "version": 3
      },
      "file_extension": ".py",
      "mimetype": "text/x-python",
      "name": "python",
      "nbconvert_exporter": "python",
      "pygments_lexer": "ipython3",
      "version": "3.7.6"
    },
    "papermill": {
      "duration": 10.026157,
      "end_time": "2020-08-14T05:43:53.642486",
      "environment_variables": {},
      "exception": null,
      "input_path": "__notebook__.ipynb",
      "output_path": "__notebook__.ipynb",
      "parameters": {},
      "start_time": "2020-08-14T05:43:43.616329",
      "version": "2.1.0"
    },
    "colab": {
      "name": "Basic_Statistics.ipynb",
      "provenance": [],
      "collapsed_sections": []
    }
  },
  "cells": [
    {
      "cell_type": "markdown",
      "metadata": {
        "id": "7oXraqoGQMBc"
      },
      "source": [
        "<center> Business Analytics & Business Intelligence  <br>\n",
        "Deepak KC, deepak.kc@hamk.fi, 2020 <br> Types of Data & Basic Statistics\n",
        " </center>"
      ]
    },
    {
      "cell_type": "markdown",
      "metadata": {
        "papermill": {
          "duration": 0.016707,
          "end_time": "2020-08-14T05:43:48.871625",
          "exception": false,
          "start_time": "2020-08-14T05:43:48.854918",
          "status": "completed"
        },
        "tags": [],
        "id": "BUfyfVjJQFIq"
      },
      "source": [
        "# Types of Data & Basic Statistics\n",
        "\n",
        "##### In this notebook, we will learn the types of data and basic statistics. "
      ]
    },
    {
      "cell_type": "markdown",
      "metadata": {
        "papermill": {
          "duration": 0.013804,
          "end_time": "2020-08-14T05:43:48.899926",
          "exception": false,
          "start_time": "2020-08-14T05:43:48.886122",
          "status": "completed"
        },
        "tags": [],
        "id": "L0vd8dNhQFIr"
      },
      "source": [
        "## 1. Data Objects and Attribute Types\n",
        "\n",
        "- Statistical analysis is conducted on the basis of  multiple observations or samples described by a set of different attributes or features. \n",
        "- The data can than be seen as a two dimensional table, or matrix, with columns giving the different attributes of the data, and rows the observations.\n",
        "- Dataset is often organized in form of data objects where each data object represents an entity.\n",
        "- An entity has certain characteristics which are called ***attributes***. \n",
        "<br><br>\n",
        "The attributes are classified in different categories on the basis of different properties. \n",
        " - Nominal Attributes\n",
        " - Binary Attributes\n",
        " - Numeric Attributes\n",
        " - Ordinal Attributes\n",
        " - Continuous and Discrete Attributes"
      ]
    },
    {
      "cell_type": "code",
      "metadata": {
        "_kg_hide-input": true,
        "execution": {
          "iopub.execute_input": "2020-08-14T05:43:48.937554Z",
          "iopub.status.busy": "2020-08-14T05:43:48.936702Z",
          "iopub.status.idle": "2020-08-14T05:43:48.977165Z",
          "shell.execute_reply": "2020-08-14T05:43:48.977945Z"
        },
        "papermill": {
          "duration": 0.062454,
          "end_time": "2020-08-14T05:43:48.978198",
          "exception": false,
          "start_time": "2020-08-14T05:43:48.915744",
          "status": "completed"
        },
        "tags": [],
        "id": "hX__pFFBQFIr",
        "outputId": "9fcf374a-18aa-4fcc-dd8e-db616e2deafe"
      },
      "source": [
        "import pandas as pd\n",
        "import numpy as np\n",
        "df = pd.read_csv('titanic.csv')\n",
        "print(\"Example of data objects: Each row represents a data object:\")\n",
        "df.head(3)\n"
      ],
      "execution_count": null,
      "outputs": [
        {
          "output_type": "stream",
          "text": [
            "Example of data objects: Each row represents a data object:\n"
          ],
          "name": "stdout"
        },
        {
          "output_type": "execute_result",
          "data": {
            "text/html": [
              "<div>\n",
              "<style scoped>\n",
              "    .dataframe tbody tr th:only-of-type {\n",
              "        vertical-align: middle;\n",
              "    }\n",
              "\n",
              "    .dataframe tbody tr th {\n",
              "        vertical-align: top;\n",
              "    }\n",
              "\n",
              "    .dataframe thead th {\n",
              "        text-align: right;\n",
              "    }\n",
              "</style>\n",
              "<table border=\"1\" class=\"dataframe\">\n",
              "  <thead>\n",
              "    <tr style=\"text-align: right;\">\n",
              "      <th></th>\n",
              "      <th>pclass</th>\n",
              "      <th>survived</th>\n",
              "      <th>name</th>\n",
              "      <th>sex</th>\n",
              "      <th>age</th>\n",
              "      <th>sibsp</th>\n",
              "      <th>parch</th>\n",
              "      <th>ticket</th>\n",
              "      <th>fare</th>\n",
              "      <th>cabin</th>\n",
              "      <th>embarked</th>\n",
              "      <th>boat</th>\n",
              "      <th>body</th>\n",
              "      <th>home.dest</th>\n",
              "    </tr>\n",
              "  </thead>\n",
              "  <tbody>\n",
              "    <tr>\n",
              "      <th>0</th>\n",
              "      <td>1.0</td>\n",
              "      <td>1.0</td>\n",
              "      <td>Allen, Miss. Elisabeth Walton</td>\n",
              "      <td>female</td>\n",
              "      <td>29.0000</td>\n",
              "      <td>0.0</td>\n",
              "      <td>0.0</td>\n",
              "      <td>24160</td>\n",
              "      <td>211.3375</td>\n",
              "      <td>B5</td>\n",
              "      <td>S</td>\n",
              "      <td>2</td>\n",
              "      <td>NaN</td>\n",
              "      <td>St Louis, MO</td>\n",
              "    </tr>\n",
              "    <tr>\n",
              "      <th>1</th>\n",
              "      <td>1.0</td>\n",
              "      <td>1.0</td>\n",
              "      <td>Allison, Master. Hudson Trevor</td>\n",
              "      <td>male</td>\n",
              "      <td>0.9167</td>\n",
              "      <td>1.0</td>\n",
              "      <td>2.0</td>\n",
              "      <td>113781</td>\n",
              "      <td>151.5500</td>\n",
              "      <td>C22 C26</td>\n",
              "      <td>S</td>\n",
              "      <td>11</td>\n",
              "      <td>NaN</td>\n",
              "      <td>Montreal, PQ / Chesterville, ON</td>\n",
              "    </tr>\n",
              "    <tr>\n",
              "      <th>2</th>\n",
              "      <td>1.0</td>\n",
              "      <td>0.0</td>\n",
              "      <td>Allison, Miss. Helen Loraine</td>\n",
              "      <td>female</td>\n",
              "      <td>2.0000</td>\n",
              "      <td>1.0</td>\n",
              "      <td>2.0</td>\n",
              "      <td>113781</td>\n",
              "      <td>151.5500</td>\n",
              "      <td>C22 C26</td>\n",
              "      <td>S</td>\n",
              "      <td>NaN</td>\n",
              "      <td>NaN</td>\n",
              "      <td>Montreal, PQ / Chesterville, ON</td>\n",
              "    </tr>\n",
              "  </tbody>\n",
              "</table>\n",
              "</div>"
            ],
            "text/plain": [
              "   pclass  survived                            name     sex      age  sibsp  \\\n",
              "0     1.0       1.0   Allen, Miss. Elisabeth Walton  female  29.0000    0.0   \n",
              "1     1.0       1.0  Allison, Master. Hudson Trevor    male   0.9167    1.0   \n",
              "2     1.0       0.0    Allison, Miss. Helen Loraine  female   2.0000    1.0   \n",
              "\n",
              "   parch  ticket      fare    cabin embarked boat  body  \\\n",
              "0    0.0   24160  211.3375       B5        S    2   NaN   \n",
              "1    2.0  113781  151.5500  C22 C26        S   11   NaN   \n",
              "2    2.0  113781  151.5500  C22 C26        S  NaN   NaN   \n",
              "\n",
              "                         home.dest  \n",
              "0                     St Louis, MO  \n",
              "1  Montreal, PQ / Chesterville, ON  \n",
              "2  Montreal, PQ / Chesterville, ON  "
            ]
          },
          "metadata": {
            "tags": []
          },
          "execution_count": 1
        }
      ]
    },
    {
      "cell_type": "code",
      "metadata": {
        "_kg_hide-input": true,
        "execution": {
          "iopub.execute_input": "2020-08-14T05:43:49.013391Z",
          "iopub.status.busy": "2020-08-14T05:43:49.012558Z",
          "iopub.status.idle": "2020-08-14T05:43:49.016992Z",
          "shell.execute_reply": "2020-08-14T05:43:49.016228Z"
        },
        "papermill": {
          "duration": 0.024076,
          "end_time": "2020-08-14T05:43:49.017126",
          "exception": false,
          "start_time": "2020-08-14T05:43:48.993050",
          "status": "completed"
        },
        "tags": [],
        "id": "lOC_CQf5QFIv",
        "outputId": "8f27bae2-d801-4a71-be56-4aac3e9e88cd"
      },
      "source": [
        "# The attributes or features in the dataset are describing each data object \n",
        "print(\"The list of columns in the dataset are attributes as below:\")\n",
        "df.columns"
      ],
      "execution_count": null,
      "outputs": [
        {
          "output_type": "stream",
          "text": [
            "The list of columns in the dataset are attributes as below:\n"
          ],
          "name": "stdout"
        },
        {
          "output_type": "execute_result",
          "data": {
            "text/plain": [
              "Index(['pclass', 'survived', 'name', 'sex', 'age', 'sibsp', 'parch', 'ticket',\n",
              "       'fare', 'cabin', 'embarked', 'boat', 'body', 'home.dest'],\n",
              "      dtype='object')"
            ]
          },
          "metadata": {
            "tags": []
          },
          "execution_count": 2
        }
      ]
    },
    {
      "cell_type": "markdown",
      "metadata": {
        "papermill": {
          "duration": 0.017359,
          "end_time": "2020-08-14T05:43:49.052608",
          "exception": false,
          "start_time": "2020-08-14T05:43:49.035249",
          "status": "completed"
        },
        "tags": [],
        "id": "dQ3CWwMnQFIx"
      },
      "source": [
        "\n",
        "###  Nominal Attributes\n",
        "- Nominal stands for \"name like\". \n",
        "- The value of nominal attributes is name of a thing or a symbol which denotes some category, code or state. \n",
        "- They are also reffered as ***categorical attributes***. \n",
        "- Nominal attrbutes do not have any order and therefore are not applicable for any mathemetical calculations like mean, median, standard deviation, etc. \n",
        "- Mode, the most commonly occuring value can be calculated.\n",
        "- Nominal attribtues represent a category but they may also have numeric values.\n",
        "    - Numeric values should still be considered as categorical but not as numerica data.\n",
        "    - For example: Grades: Good, Very good, Excellent are numerically represented as 3, 4 and 5."
      ]
    },
    {
      "cell_type": "code",
      "metadata": {
        "_kg_hide-input": true,
        "execution": {
          "iopub.execute_input": "2020-08-14T05:43:49.089602Z",
          "iopub.status.busy": "2020-08-14T05:43:49.088813Z",
          "iopub.status.idle": "2020-08-14T05:43:49.091845Z",
          "shell.execute_reply": "2020-08-14T05:43:49.092434Z"
        },
        "papermill": {
          "duration": 0.02453,
          "end_time": "2020-08-14T05:43:49.092596",
          "exception": false,
          "start_time": "2020-08-14T05:43:49.068066",
          "status": "completed"
        },
        "tags": [],
        "id": "9U38yYfAQFIy",
        "outputId": "a80250b1-a957-4efe-cf72-3c5c8660595c"
      },
      "source": [
        "# You may have already guessed nominal attributes in the titanic dataset by seeing the rows above\n",
        "# Here are some columns that represent nominal attributes\n",
        "print(['Pclass', 'Name', 'Sex', 'Ticket', 'Cabin','Embarked'])\n",
        "print(\"You may have noticed that Pclass contains numeric values but is still nominal.\")"
      ],
      "execution_count": null,
      "outputs": [
        {
          "output_type": "stream",
          "text": [
            "['Pclass', 'Name', 'Sex', 'Ticket', 'Cabin', 'Embarked']\n",
            "You may have noticed that Pclass contains numeric values but is still nominal.\n"
          ],
          "name": "stdout"
        }
      ]
    },
    {
      "cell_type": "markdown",
      "metadata": {
        "papermill": {
          "duration": 0.015298,
          "end_time": "2020-08-14T05:43:49.123324",
          "exception": false,
          "start_time": "2020-08-14T05:43:49.108026",
          "status": "completed"
        },
        "tags": [],
        "id": "TuUaxKUoQFI0"
      },
      "source": [
        "### Binary Attributes\n",
        "- Binary attributes are a special type of nominal attributes. \n",
        "- They can have only two possible values (0 or 1)\n",
        "- All other properties of nominal attributes are applicable to binary attributes.\n",
        "- For example, in *Titanic Dataset*, the attribute *Survived* is a binary attribute."
      ]
    },
    {
      "cell_type": "code",
      "metadata": {
        "_kg_hide-input": true,
        "execution": {
          "iopub.execute_input": "2020-08-14T05:43:49.167986Z",
          "iopub.status.busy": "2020-08-14T05:43:49.167154Z",
          "iopub.status.idle": "2020-08-14T05:43:49.171900Z",
          "shell.execute_reply": "2020-08-14T05:43:49.171097Z"
        },
        "papermill": {
          "duration": 0.032966,
          "end_time": "2020-08-14T05:43:49.172073",
          "exception": false,
          "start_time": "2020-08-14T05:43:49.139107",
          "status": "completed"
        },
        "tags": [],
        "id": "weSDgBAgQFI0",
        "outputId": "72a0c9f8-129f-4edc-a0c5-a1c9f95c81c6"
      },
      "source": [
        "# The 'Survived' attribute is a binary attribute\n",
        "print(df['survived'].value_counts())\n",
        "print(\"Clearly only two classes, 0 and 1, exist for 'Survived' attribute. Again it contains numeric values but is actually binary nominal.\")"
      ],
      "execution_count": null,
      "outputs": [
        {
          "output_type": "stream",
          "text": [
            "0.0    809\n",
            "1.0    500\n",
            "Name: survived, dtype: int64\n",
            "Clearly only two classes, 0 and 1, exist for 'Survived' attribute. Again it contains numeric values but is actually binary nominal.\n"
          ],
          "name": "stdout"
        }
      ]
    },
    {
      "cell_type": "markdown",
      "metadata": {
        "papermill": {
          "duration": 0.014805,
          "end_time": "2020-08-14T05:43:49.202434",
          "exception": false,
          "start_time": "2020-08-14T05:43:49.187629",
          "status": "completed"
        },
        "tags": [],
        "id": "c2pMGQMHQFI2"
      },
      "source": [
        "\n",
        "### Numeric Attributes\n",
        "- Numeric attributes are *quantitative*. \n",
        "- It is a measurable quantity specified as real numbers. \n",
        "- All the mathematical operations (mean, median, ditributions, etc) are applicable on numeric attributes. "
      ]
    },
    {
      "cell_type": "code",
      "metadata": {
        "_kg_hide-input": true,
        "execution": {
          "iopub.execute_input": "2020-08-14T05:43:49.243435Z",
          "iopub.status.busy": "2020-08-14T05:43:49.242483Z",
          "iopub.status.idle": "2020-08-14T05:43:49.246090Z",
          "shell.execute_reply": "2020-08-14T05:43:49.246843Z"
        },
        "papermill": {
          "duration": 0.028802,
          "end_time": "2020-08-14T05:43:49.247073",
          "exception": false,
          "start_time": "2020-08-14T05:43:49.218271",
          "status": "completed"
        },
        "tags": [],
        "id": "QgyFkOcrQFI3",
        "outputId": "b512e751-e844-4723-e72f-61de206fc0e3"
      },
      "source": [
        "# In our Titanic dataset, we have following numeric attributes\n",
        "print(\"Numeric attributes: age, fare\")\n",
        "# let use the describe method to generate descriptive statistics for age and fare column\n",
        "df[['fare','age']].describe()"
      ],
      "execution_count": null,
      "outputs": [
        {
          "output_type": "stream",
          "text": [
            "Numeric attributes: age, fare\n"
          ],
          "name": "stdout"
        },
        {
          "output_type": "execute_result",
          "data": {
            "text/html": [
              "<div>\n",
              "<style scoped>\n",
              "    .dataframe tbody tr th:only-of-type {\n",
              "        vertical-align: middle;\n",
              "    }\n",
              "\n",
              "    .dataframe tbody tr th {\n",
              "        vertical-align: top;\n",
              "    }\n",
              "\n",
              "    .dataframe thead th {\n",
              "        text-align: right;\n",
              "    }\n",
              "</style>\n",
              "<table border=\"1\" class=\"dataframe\">\n",
              "  <thead>\n",
              "    <tr style=\"text-align: right;\">\n",
              "      <th></th>\n",
              "      <th>fare</th>\n",
              "      <th>age</th>\n",
              "    </tr>\n",
              "  </thead>\n",
              "  <tbody>\n",
              "    <tr>\n",
              "      <th>count</th>\n",
              "      <td>1308.000000</td>\n",
              "      <td>1046.000000</td>\n",
              "    </tr>\n",
              "    <tr>\n",
              "      <th>mean</th>\n",
              "      <td>33.295479</td>\n",
              "      <td>29.881135</td>\n",
              "    </tr>\n",
              "    <tr>\n",
              "      <th>std</th>\n",
              "      <td>51.758668</td>\n",
              "      <td>14.413500</td>\n",
              "    </tr>\n",
              "    <tr>\n",
              "      <th>min</th>\n",
              "      <td>0.000000</td>\n",
              "      <td>0.166700</td>\n",
              "    </tr>\n",
              "    <tr>\n",
              "      <th>25%</th>\n",
              "      <td>7.895800</td>\n",
              "      <td>21.000000</td>\n",
              "    </tr>\n",
              "    <tr>\n",
              "      <th>50%</th>\n",
              "      <td>14.454200</td>\n",
              "      <td>28.000000</td>\n",
              "    </tr>\n",
              "    <tr>\n",
              "      <th>75%</th>\n",
              "      <td>31.275000</td>\n",
              "      <td>39.000000</td>\n",
              "    </tr>\n",
              "    <tr>\n",
              "      <th>max</th>\n",
              "      <td>512.329200</td>\n",
              "      <td>80.000000</td>\n",
              "    </tr>\n",
              "  </tbody>\n",
              "</table>\n",
              "</div>"
            ],
            "text/plain": [
              "              fare          age\n",
              "count  1308.000000  1046.000000\n",
              "mean     33.295479    29.881135\n",
              "std      51.758668    14.413500\n",
              "min       0.000000     0.166700\n",
              "25%       7.895800    21.000000\n",
              "50%      14.454200    28.000000\n",
              "75%      31.275000    39.000000\n",
              "max     512.329200    80.000000"
            ]
          },
          "metadata": {
            "tags": []
          },
          "execution_count": 5
        }
      ]
    },
    {
      "cell_type": "markdown",
      "metadata": {
        "papermill": {
          "duration": 0.014676,
          "end_time": "2020-08-14T05:43:49.278063",
          "exception": false,
          "start_time": "2020-08-14T05:43:49.263387",
          "status": "completed"
        },
        "tags": [],
        "id": "OWWCcWzDQFI5"
      },
      "source": [
        "### Ordinal Attributes\n",
        "\n",
        "- Ordinal attributes are a type of nominal attributes with an order among the data values. \n",
        "- Students are often graded as Excellent, Very Good, Good which have inherent order among the data values. \n",
        "- Ordinal attributes, though are nominal, a number of mathemetical operations (Median, Mode but not mean) are possible.\n",
        "- Ordinal attributes can also be obtained by discretization of numeric data."
      ]
    },
    {
      "cell_type": "code",
      "metadata": {
        "_kg_hide-input": true,
        "execution": {
          "iopub.execute_input": "2020-08-14T05:43:49.317498Z",
          "iopub.status.busy": "2020-08-14T05:43:49.316469Z",
          "iopub.status.idle": "2020-08-14T05:43:49.320279Z",
          "shell.execute_reply": "2020-08-14T05:43:49.321149Z"
        },
        "papermill": {
          "duration": 0.027929,
          "end_time": "2020-08-14T05:43:49.321374",
          "exception": false,
          "start_time": "2020-08-14T05:43:49.293445",
          "status": "completed"
        },
        "tags": [],
        "id": "eF7w6fTWQFI5",
        "outputId": "7ec467aa-53ab-4766-c37d-104f221a5fc9"
      },
      "source": [
        "# In the titanic dataset, 'Pclass' is an ordinal attribute.\n",
        "print(\"The classes 1, 2 and 3 have an order among themselves.\")\n",
        "print(df['pclass'].value_counts())"
      ],
      "execution_count": null,
      "outputs": [
        {
          "output_type": "stream",
          "text": [
            "The classes 1, 2 and 3 have an order among themselves.\n",
            "3.0    709\n",
            "1.0    323\n",
            "2.0    277\n",
            "Name: pclass, dtype: int64\n"
          ],
          "name": "stdout"
        }
      ]
    },
    {
      "cell_type": "markdown",
      "metadata": {
        "papermill": {
          "duration": 0.015537,
          "end_time": "2020-08-14T05:43:49.352913",
          "exception": false,
          "start_time": "2020-08-14T05:43:49.337376",
          "status": "completed"
        },
        "tags": [],
        "id": "Zye6kZLeQFI7"
      },
      "source": [
        "<a id=\"cont_dis\"></a>\n",
        "### Continuous and Discrete Attributes\n",
        "- Numeric data can be ***Discrete*** or ***Continuous***\n",
        "- ***Discrete Data is counted that is the attribute has a number of ***countable*** different values. \n",
        "    - Example: Number of students in a class, 40 or 50 students but never 40.5 students\n",
        "- ***Continuous data is measured that is the attribute has an infinite number of ***non-countable*** values.\n",
        "    - Example: A persons' height, the length of the door"
      ]
    },
    {
      "cell_type": "code",
      "metadata": {
        "_kg_hide-input": true,
        "execution": {
          "iopub.execute_input": "2020-08-14T05:43:49.392716Z",
          "iopub.status.busy": "2020-08-14T05:43:49.391711Z",
          "iopub.status.idle": "2020-08-14T05:43:49.395388Z",
          "shell.execute_reply": "2020-08-14T05:43:49.396234Z"
        },
        "papermill": {
          "duration": 0.028104,
          "end_time": "2020-08-14T05:43:49.396452",
          "exception": false,
          "start_time": "2020-08-14T05:43:49.368348",
          "status": "completed"
        },
        "tags": [],
        "id": "NFHguXElQFI8",
        "outputId": "9d17add6-232f-4394-fcf4-ae97ec15fa47"
      },
      "source": [
        "# In the Titanic dataset 'Fare' is continuous and 'Pclass', 'SibSp', 'Survived', etc. are discrete.\n",
        "print(\"An example of continous attribute:\")\n",
        "print(df['fare'][0:3])\n",
        "print(\"An example of discrete attribute:\")\n",
        "print(df['pclass'][0:3])"
      ],
      "execution_count": null,
      "outputs": [
        {
          "output_type": "stream",
          "text": [
            "An example of continous attribute:\n",
            "0    211.3375\n",
            "1    151.5500\n",
            "2    151.5500\n",
            "Name: fare, dtype: float64\n",
            "An example of discrete attribute:\n",
            "0    1.0\n",
            "1    1.0\n",
            "2    1.0\n",
            "Name: pclass, dtype: float64\n"
          ],
          "name": "stdout"
        }
      ]
    },
    {
      "cell_type": "markdown",
      "metadata": {
        "papermill": {
          "duration": 0.014931,
          "end_time": "2020-08-14T05:43:49.427313",
          "exception": false,
          "start_time": "2020-08-14T05:43:49.412382",
          "status": "completed"
        },
        "tags": [],
        "id": "1jfNkLfLQFI-"
      },
      "source": [
        "## Measures of Central Tendency\n",
        "- Central tendency is a central value. \n",
        "- The most common measures of central tendency are: *** mean, median & mode ***. \n",
        "- The measures of central tendency denote the central location of the data distribution."
      ]
    },
    {
      "cell_type": "markdown",
      "metadata": {
        "papermill": {
          "duration": 0.015192,
          "end_time": "2020-08-14T05:43:49.458025",
          "exception": false,
          "start_time": "2020-08-14T05:43:49.442833",
          "status": "completed"
        },
        "tags": [],
        "id": "HEoCgnh7QFI-"
      },
      "source": [
        "### Mean\n",
        "- Mean or average is the most common and effective measure of central tendency\n",
        "- It is calculated as the summation of all data values divided by number of data values. \n",
        "<br><br>\n",
        "Mean can be calculated as,<br><br>\n",
        "$$\\bar{x}=\\frac{\\sum_{i=1}^N x_i}{N} = \\frac{x_1 + x_2 +...+x_N}{N}$$\n",
        "<br><br>\n",
        "If certain weights are given to each attribute, weighted mean can be calculated as<br><br>\n",
        "$$\\bar{x}=\\frac{\\sum_{i=1}^N w_i x_i}{\\sum_{i=1}^N w_i} = \\frac{w_1x_1 + w_2x_2 +...+w_Nx_N}{w_1+w_2+...+w_N}$$\n",
        "<br><br>\n",
        "Although mean is very commonly used, it is **less effective in presence of outliers**. In other words, mean is more sensitive to outliers."
      ]
    },
    {
      "cell_type": "code",
      "metadata": {
        "_kg_hide-input": true,
        "execution": {
          "iopub.execute_input": "2020-08-14T05:43:49.495897Z",
          "iopub.status.busy": "2020-08-14T05:43:49.494918Z",
          "iopub.status.idle": "2020-08-14T05:43:49.498505Z",
          "shell.execute_reply": "2020-08-14T05:43:49.499300Z"
        },
        "papermill": {
          "duration": 0.026028,
          "end_time": "2020-08-14T05:43:49.499475",
          "exception": false,
          "start_time": "2020-08-14T05:43:49.473447",
          "status": "completed"
        },
        "tags": [],
        "id": "tWrdveJfQFI_",
        "outputId": "b4c75223-2027-4038-b872-e918bbf62eee"
      },
      "source": [
        "# The mean function for calculating the mean\n",
        "print(\"Mean of Fare: \",df['fare'].mean())"
      ],
      "execution_count": null,
      "outputs": [
        {
          "output_type": "stream",
          "text": [
            "Mean of Fare:  33.29547928134557\n"
          ],
          "name": "stdout"
        }
      ]
    },
    {
      "cell_type": "markdown",
      "metadata": {
        "papermill": {
          "duration": 0.015296,
          "end_time": "2020-08-14T05:43:49.530829",
          "exception": false,
          "start_time": "2020-08-14T05:43:49.515533",
          "status": "completed"
        },
        "tags": [],
        "id": "ldKAsHM8QFJA"
      },
      "source": [
        "### Median\n",
        "- Median is also one of the most commonly used measure of central tendency. \n",
        "- It can be calculated by sorting the data and then finding the middle value. \n",
        "<br><br>\n",
        "When the number of data values are odd, a single middle value exists, however, when the number of data values is even, two values are in the middle of data. Everything occuring between these two middle values is a median. However, most commonly, mean of these values is taken to be the median. \n",
        "<br><br>\n",
        "Median is expensive to compute but can be approximated easily when the data is divided into intervals. The formula used is given as,<br><br>\n",
        "$$median = L_1 + \\left(\\frac{ N/2 - (\\sum freq)_l}{freq_median} \\right)width$$\n",
        "<br>\n",
        "where $L_1$ is lower boundary of median interval, $N$ is number of values in entire dataset, $\\sum{(freq)_l}$ is sum of frequencies of all intervals lower than median interval, $freq_{median}$ is frequency of median interval and $width$ is width of median interval.\n",
        "<br><br>\n",
        "Median is **not defined for nominal and binary attributes** and can be found for numeric and ordinal attributes."
      ]
    },
    {
      "cell_type": "code",
      "metadata": {
        "_kg_hide-input": true,
        "execution": {
          "iopub.execute_input": "2020-08-14T05:43:49.570210Z",
          "iopub.status.busy": "2020-08-14T05:43:49.569218Z",
          "iopub.status.idle": "2020-08-14T05:43:49.573877Z",
          "shell.execute_reply": "2020-08-14T05:43:49.573303Z"
        },
        "papermill": {
          "duration": 0.02693,
          "end_time": "2020-08-14T05:43:49.574049",
          "exception": false,
          "start_time": "2020-08-14T05:43:49.547119",
          "status": "completed"
        },
        "tags": [],
        "id": "3iSLfZ4jQFJB",
        "outputId": "b79a8fbe-0a8c-44f2-86f1-a4331ed463eb"
      },
      "source": [
        "# Let's compute the median for 'Pclass'(ordinal) and 'Age' (numeric)\n",
        "print(\"Median for Pclass:\", df['pclass'].median())\n",
        "print(\"Median for Age:\", df['age'].median())"
      ],
      "execution_count": null,
      "outputs": [
        {
          "output_type": "stream",
          "text": [
            "Median for Pclass: 3.0\n",
            "Median for Age: 28.0\n"
          ],
          "name": "stdout"
        }
      ]
    },
    {
      "cell_type": "markdown",
      "metadata": {
        "papermill": {
          "duration": 0.015317,
          "end_time": "2020-08-14T05:43:49.605385",
          "exception": false,
          "start_time": "2020-08-14T05:43:49.590068",
          "status": "completed"
        },
        "tags": [],
        "id": "IAuhjrEgQFJD"
      },
      "source": [
        "### Mode\n",
        "- Mode simply means the **most commonly occuring** value among all the data values. \n",
        "- It is defined for all types of attributes but is of little use for continuous attributes.\n",
        "- Dataset having a single mode is called ***unimodal***, having two modes is called ***bimodal*** and so on. Generally, dataset having more than three modes is called ***polymodal***. "
      ]
    },
    {
      "cell_type": "code",
      "metadata": {
        "_kg_hide-input": true,
        "execution": {
          "iopub.execute_input": "2020-08-14T05:43:49.648260Z",
          "iopub.status.busy": "2020-08-14T05:43:49.647310Z",
          "iopub.status.idle": "2020-08-14T05:43:49.650808Z",
          "shell.execute_reply": "2020-08-14T05:43:49.651579Z"
        },
        "papermill": {
          "duration": 0.03046,
          "end_time": "2020-08-14T05:43:49.651778",
          "exception": false,
          "start_time": "2020-08-14T05:43:49.621318",
          "status": "completed"
        },
        "tags": [],
        "id": "PpIchsfUQFJD",
        "outputId": "1ec100c4-6f63-4e65-a93d-9c736539eb51"
      },
      "source": [
        "# We shall see the mode of 'Pclass' and 'Survived'\n",
        "print(\"Mode of Pclass:\", (df['pclass'].mode())[0])\n",
        "print(\"Mode of Survived:\", (df['survived'].mode())[0])"
      ],
      "execution_count": null,
      "outputs": [
        {
          "output_type": "stream",
          "text": [
            "Mode of Pclass: 3.0\n",
            "Mode of Survived: 0.0\n"
          ],
          "name": "stdout"
        }
      ]
    },
    {
      "cell_type": "markdown",
      "metadata": {
        "papermill": {
          "duration": 0.015433,
          "end_time": "2020-08-14T05:43:49.683865",
          "exception": false,
          "start_time": "2020-08-14T05:43:49.668432",
          "status": "completed"
        },
        "tags": [],
        "id": "eqDqyIrMQFJF"
      },
      "source": [
        "## Measures of Dispersion of data\n",
        "- Dispersion is the extent to which a data set is spread (strethced or squeezed). \n",
        "    - Example of widely scattered dataset: 0, 1, 10, 25, 35,200 \n",
        "    - Example of tightly clustered dataset: 1, 2, 3, 1, 3, 2,4\n",
        "- Dispersion or spread of numeric data is very useful when analysing the data.\n",
        "- We will check the most commonly used measures to assess the dispersion of data: Standard Deviation, Range, Quantiles & Interquartile Range.\n",
        "<img src = \"https://raw.githubusercontent.com/dipaish/cimages/main/sd.PNG\">"
      ]
    },
    {
      "cell_type": "markdown",
      "metadata": {
        "papermill": {
          "duration": 0.015628,
          "end_time": "2020-08-14T05:43:49.715991",
          "exception": false,
          "start_time": "2020-08-14T05:43:49.700363",
          "status": "completed"
        },
        "tags": [],
        "id": "wA3zT0AZQFJF"
      },
      "source": [
        "### Range\n",
        "- Range is a measure of spread. \n",
        "- The ***range*** in a data set is  the difference between the largest and smallest values. \n",
        "- It can be  calculated by finding maximum and minimum values of a data."
      ]
    },
    {
      "cell_type": "code",
      "metadata": {
        "_kg_hide-input": true,
        "execution": {
          "iopub.execute_input": "2020-08-14T05:43:49.754707Z",
          "iopub.status.busy": "2020-08-14T05:43:49.753603Z",
          "iopub.status.idle": "2020-08-14T05:43:49.758558Z",
          "shell.execute_reply": "2020-08-14T05:43:49.757650Z"
        },
        "papermill": {
          "duration": 0.026835,
          "end_time": "2020-08-14T05:43:49.758767",
          "exception": false,
          "start_time": "2020-08-14T05:43:49.731932",
          "status": "completed"
        },
        "tags": [],
        "id": "IIZsqsYgQFJG",
        "outputId": "b2ca6bcf-11a5-4d15-a898-e4d5ffccbe8f"
      },
      "source": [
        "# range of 'Age' in Titanic dataset\n",
        "print(\"Range of Age:\", df['age'].max()-df['age'].min())"
      ],
      "execution_count": null,
      "outputs": [
        {
          "output_type": "stream",
          "text": [
            "Range of Age: 79.8333\n"
          ],
          "name": "stdout"
        }
      ]
    },
    {
      "cell_type": "markdown",
      "metadata": {
        "papermill": {
          "duration": 0.015647,
          "end_time": "2020-08-14T05:43:49.791520",
          "exception": false,
          "start_time": "2020-08-14T05:43:49.775873",
          "status": "completed"
        },
        "tags": [],
        "id": "2TBNgaakQFJI"
      },
      "source": [
        "### Quantiles\n",
        "- A quantile defines a particular part of data set that is what values are above or below a certain limit. \n",
        "- A sample is divided into equal sized, adjacents or subgroups. Splitting the data distribution into approximately equal sized consecutive sets.These points are called **quantiles**\n",
        "- ***Quartiles*** are the three cut points that will divide a dataset into four equal-sized groups.\n",
        "- The ***median*** divides the data distribution into two equal halves, it is called *** 2-Quantile ***\n",
        "- - ***Percentiles*** are the description of quantiles relative to 100. \n",
        "- When you choose two data points, it is called 3-Quantile and so on. There are $k-1$ data split points for $k$-quantiles.\n",
        "    - The only 2-quantile is called the median\n",
        "    - The 3-quantiles are called tertiles or terciles → T\n",
        "    - The 4-quantiles are called quartiles → Q; \n",
        "        - The difference between upper and lower quartiles is also called the interquartile range, → IQR = Q3 −  Q1\n",
        "    - The 5-quantiles are called quintiles → QU"
      ]
    },
    {
      "cell_type": "code",
      "metadata": {
        "id": "9qMDcySjQFJK",
        "outputId": "3c5a817a-d458-45ab-d1c9-7ca2750fb6f3"
      },
      "source": [
        "#lets calucate the quantile \n",
        "# DataFrame.quantile(q=0.5, axis=0, numeric_only=True, interpolation='linear')\n",
        "# qfloat or array-like, default 0.5 (50% quantile)\n",
        "# Value between 0 <= q <= 1, the quantile(s) to compute\n",
        "# calucating  the 40% quantile\n",
        "print(df['age'].quantile([0.4]))\n",
        "# calcualting the 40% and 60%\n",
        "print(df['age'].quantile([0.4,0.6]))"
      ],
      "execution_count": null,
      "outputs": [
        {
          "output_type": "stream",
          "text": [
            "0.4    25.0\n",
            "Name: age, dtype: float64\n",
            "0.4    25.0\n",
            "0.6    31.0\n",
            "Name: age, dtype: float64\n"
          ],
          "name": "stdout"
        }
      ]
    },
    {
      "cell_type": "markdown",
      "metadata": {
        "papermill": {
          "duration": 0.015679,
          "end_time": "2020-08-14T05:43:49.823152",
          "exception": false,
          "start_time": "2020-08-14T05:43:49.807473",
          "status": "completed"
        },
        "tags": [],
        "id": "5sg7BSfkQFJL"
      },
      "source": [
        "###  Quartiles & Interquartile Range \n",
        "- Quartile is a specific case of quantiles. \n",
        "- They divide data into quarters. **4-quantiles are reffered as quartiles**.\n",
        "- The data is divided into 4 segements \n",
        "    - First Quartile: Lowest 25% of numbers\n",
        "    - Second Quartile: Next 25% of numbers till the median\n",
        "    - Third Quartile: The second highest 25% of nummbers above the median\n",
        "    - Fourth Quartile: The highest 25% of numbers\n",
        "   \n",
        "- In the quartiles, Q1, Q2 and Q3 are respective dividing points where **Q2 corresponds to median**. \n",
        "- Quartiles are used to calculate the interquartile range that provides the measure of how data is spread around the mean.\n",
        "<br><br>\n",
        "**Interquartile range is simply the differences between Q3 and Q1 of quartiles**.\n",
        "so the IQR can be defined as,\n",
        "<br>$$IQR = Q3-Q1$$<br>\n"
      ]
    },
    {
      "cell_type": "code",
      "metadata": {
        "id": "3IUMULjrQFJM",
        "outputId": "daacf435-75ff-4df7-9c17-f0c1c7552395"
      },
      "source": [
        "# Calculating Quartiles\n",
        "# The describe() function calculates a variety of summary statistics for a data frame\n",
        "# lets calcualte for the age column in titanic data set. \n",
        "df['age'].describe()"
      ],
      "execution_count": null,
      "outputs": [
        {
          "output_type": "execute_result",
          "data": {
            "text/plain": [
              "count    1046.000000\n",
              "mean       29.881135\n",
              "std        14.413500\n",
              "min         0.166700\n",
              "25%        21.000000\n",
              "50%        28.000000\n",
              "75%        39.000000\n",
              "max        80.000000\n",
              "Name: age, dtype: float64"
            ]
          },
          "metadata": {
            "tags": []
          },
          "execution_count": 13
        }
      ]
    },
    {
      "cell_type": "code",
      "metadata": {
        "id": "I3V3AHW7QFJO",
        "outputId": "85867605-422d-4220-ec08-df2f68b9313f"
      },
      "source": [
        "# it is possible to specify specific percentiles \n",
        "df['age'].describe(percentiles=[.05, .25, .75, .95])"
      ],
      "execution_count": null,
      "outputs": [
        {
          "output_type": "execute_result",
          "data": {
            "text/plain": [
              "count    1046.000000\n",
              "mean       29.881135\n",
              "std        14.413500\n",
              "min         0.166700\n",
              "5%          5.000000\n",
              "25%        21.000000\n",
              "50%        28.000000\n",
              "75%        39.000000\n",
              "95%        57.000000\n",
              "max        80.000000\n",
              "Name: age, dtype: float64"
            ]
          },
          "metadata": {
            "tags": []
          },
          "execution_count": 14
        }
      ]
    },
    {
      "cell_type": "code",
      "metadata": {
        "id": "Apw8BcNMQFJP",
        "outputId": "184344a2-930a-46a0-f025-bef583761e9c"
      },
      "source": [
        "# Computing the IQR using numpy.percentine\n",
        "# IQR = Q3 (75th Percentile) - Q1 (25th percentile)\n",
        "\n",
        "Q1 = df.age.quantile(0.25, interpolation = 'midpoint')\n",
        "Q3 = df.age.quantile(0.75, interpolation = 'midpoint')\n",
        "IQR = Q3- Q1\n",
        "print(\"The Ineter Quartile Range is \", IQR)"
      ],
      "execution_count": null,
      "outputs": [
        {
          "output_type": "stream",
          "text": [
            "The Ineter Quartile Range is  18.0\n"
          ],
          "name": "stdout"
        }
      ]
    },
    {
      "cell_type": "markdown",
      "metadata": {
        "id": "nB40nl4rQFJR"
      },
      "source": [
        "### Skewness\n",
        "- Skewness refers to the distribution of data. \n",
        "- If the curve is shifted to the left or right, it is said to be skewed.\n",
        "- If a distribution curve is perfectly symmetric, it is called normally distributed which means the data set is not skewed.\n",
        "- Data distribution can be either **positively skewed if the tail ends towards right** & **negatively skewed if the tail ends towards left**. \n",
        "- For positively skewed data, median is lesser than mean while for negatively skewed data, median is greater than mean.\n",
        "- Skeweness is often visualized and analyzed with the help of distribution curves however, box and whiskers plots can also be used for the same task. \n",
        "    - Positively Screwed (Right skewed distribution) – Most values are concentrated on the left of the mean, with extreme values on the right.\n",
        "    - Negatively Screwed (Left skewed distribution) – Most values are concentrated on the right of the mean, with extreme values on the left.\n",
        "    - Symmetric Distribution (Normal Distribution) - The distribution is symmetrical around the mean.\n",
        "<img src=\"https://raw.githubusercontent.com/dipaish/cimages/main/skew.png\">"
      ]
    },
    {
      "cell_type": "code",
      "metadata": {
        "id": "6cAUjP3cQFJS"
      },
      "source": [
        "df.head(3)"
      ],
      "execution_count": null,
      "outputs": []
    },
    {
      "cell_type": "code",
      "metadata": {
        "id": "MvCyV4FgQFJU",
        "outputId": "960d4a8e-9853-4e4d-e743-e76bd5812f68"
      },
      "source": [
        "# Lets see the distribution of 'Age' in titanic dataset\n",
        "# the data set has some empty values in the Age column so lets make a new dataframe df1 by filling\n",
        "# it with the value that comes directly after it in the same column,\n",
        "# then replace all the remaining na's with 0\n",
        "df1= df['age'].fillna(method='bfill', axis=0).fillna(0)\n",
        "import matplotlib.pyplot as plt\n",
        "import seaborn as sns # seaborn is a popular visualization library\n",
        "sns.distplot(df1)\n",
        "plt.show()\n",
        "print(\"The distribution is slightly positivly skewed.\")"
      ],
      "execution_count": null,
      "outputs": [
        {
          "output_type": "display_data",
          "data": {
            "image/png": "[encoded data removed]",
            "text/plain": [
              "<Figure size 432x288 with 1 Axes>"
            ]
          },
          "metadata": {
            "tags": [],
            "needs_background": "light"
          }
        },
        {
          "output_type": "stream",
          "text": [
            "The distribution is slightly positivly skewed.\n"
          ],
          "name": "stdout"
        }
      ]
    },
    {
      "cell_type": "markdown",
      "metadata": {
        "id": "nWjmkztYQFJW"
      },
      "source": [
        "### Kurtosis\n",
        "- Kurtosis is a measure that describes how much tails of a distribution differ from a normal distribution. \n",
        "- Kurtosis identifies if tails of a distribution contain extreme values.\n",
        "- The peak is the tallest part of the distribution, and the tails are the ends of the distribution.\n",
        "\n",
        "<img src=\"https://raw.githubusercontent.com/dipaish/cimages/main/Kurtosis.gif\"> \n",
        "\n",
        "***Mesokurtic:***  Distributions that are moderate in breadth and curves with a medium peaked height.\n",
        "- When kurtosis is equal to 0, the distribution is mesokurtic. This means the kurtosis is the same as the normal distribution, it is mesokurtic (medium peak).<br><br>\n",
        "\n",
        "***Leptokurtic:*** More values in the distribution tails and more values close to the mean (i.e. sharply peaked with heavy tails).\n",
        " - Positive values of kurtosis indicate that a distribution is peaked and possess thick tails. Leptokurtic distributions have positive kurtosis values.\n",
        "    \n",
        "***Platykurtic:*** Fewer values in the tails and fewer values close to the mean (i.e. the curve has a flat peak and has more dispersed scores with lighter tails).\n",
        " - Negative values of kurtosis indicate that a distribution is flat and has thin tails. Platykurtic distributions have negative kurtosis values.\n"
      ]
    },
    {
      "cell_type": "code",
      "metadata": {
        "id": "R7F7zyIdQFJW",
        "outputId": "b1e7e2f0-d136-409d-b68b-13ccbf775deb"
      },
      "source": [
        "# lets calculate Kurtosis\n",
        "print(\"Kurtosis of Age:\", df['age'].kurtosis())"
      ],
      "execution_count": null,
      "outputs": [
        {
          "output_type": "stream",
          "text": [
            "Kurtosis of Age: 0.14694996016357909\n"
          ],
          "name": "stdout"
        }
      ]
    },
    {
      "cell_type": "markdown",
      "metadata": {
        "id": "p6YBqLcYQFJY"
      },
      "source": [
        "###  Variance and Standard Deviation\n",
        "- Variance and standard deviation are the measure of the amount of variation or dispersion of a set of values\n",
        "- A high standard deviation means data values are spread over a wide range while low value denotes that data values are close to mean. \n",
        "<br><br>\n",
        "Variance and standard deviation can be calculated as,<br><br>\n",
        "$$\\sigma^2 = \\frac{1}{N}\\sum_{i=1}^N \\left( x_i - \\bar{x}\\right)^2 = \\left(\\frac{1}{N}\\sum_{i=1}^N x_i^2 \\right) - \\bar{x}^2$$\n",
        "<br>\n",
        "**Standard deviation is the positive square root of variance.** \n",
        "<br>\n",
        "$$\\sigma = +\\sqrt{\\sigma^2}$$\n",
        "<br>Standard deviation is less sensitive to outliers as compared to variance."
      ]
    },
    {
      "cell_type": "code",
      "metadata": {
        "id": "KYbM5JJyQFJY",
        "outputId": "0c8714d1-5439-4de0-d63c-f97b175990f7"
      },
      "source": [
        "# Lets calculate standard deviation for the 'fare'\n",
        "# stdev() method in Python statistics module\n",
        "# Lets set skipna to be true. If we do not skip the NaN values then it will result in NaN values.\n",
        "# standard deviation along the index axis for all numeric columns\n",
        "df.std(axis = 0, skipna = True)"
      ],
      "execution_count": null,
      "outputs": [
        {
          "output_type": "execute_result",
          "data": {
            "text/plain": [
              "pclass       0.837836\n",
              "survived     0.486055\n",
              "age         14.413500\n",
              "sibsp        1.041658\n",
              "parch        0.865560\n",
              "fare        51.758668\n",
              "body        97.696922\n",
              "dtype: float64"
            ]
          },
          "metadata": {
            "tags": []
          },
          "execution_count": 18
        }
      ]
    },
    {
      "cell_type": "code",
      "metadata": {
        "id": "ak4bwezfQFJa",
        "outputId": "80c05e27-f92c-4d65-a169-5da41f943668"
      },
      "source": [
        "#standard deviation over row wise \n",
        "df.std(axis = 1, skipna = True)"
      ],
      "execution_count": null,
      "outputs": [
        {
          "output_type": "execute_result",
          "data": {
            "text/plain": [
              "0        84.520563\n",
              "1        61.388298\n",
              "2        61.384692\n",
              "3        67.601161\n",
              "4        60.274957\n",
              "           ...    \n",
              "1305      6.140285\n",
              "1306    112.985737\n",
              "1307     10.575921\n",
              "1308     11.375527\n",
              "1309           NaN\n",
              "Length: 1310, dtype: float64"
            ]
          },
          "metadata": {
            "tags": []
          },
          "execution_count": 19
        }
      ]
    },
    {
      "cell_type": "code",
      "metadata": {
        "id": "dy-0XXXNQFJc",
        "outputId": "b7bd3d33-35be-4912-ce0e-2b317180e3f1"
      },
      "source": [
        "#standard deviation of the specific column \n",
        "df['fare'].std()"
      ],
      "execution_count": null,
      "outputs": [
        {
          "output_type": "execute_result",
          "data": {
            "text/plain": [
              "51.75866823917411"
            ]
          },
          "metadata": {
            "tags": []
          },
          "execution_count": 20
        }
      ]
    },
    {
      "cell_type": "code",
      "metadata": {
        "id": "-Wz6KMOSQFJe",
        "outputId": "fb743d72-30d0-4627-c602-b05162d055f0"
      },
      "source": [
        "# computing the variance \n",
        "df.var()"
      ],
      "execution_count": null,
      "outputs": [
        {
          "output_type": "execute_result",
          "data": {
            "text/plain": [
              "pclass         0.701969\n",
              "survived       0.236250\n",
              "age          207.748974\n",
              "sibsp          1.085052\n",
              "parch          0.749195\n",
              "fare        2678.959738\n",
              "body        9544.688567\n",
              "dtype: float64"
            ]
          },
          "metadata": {
            "tags": []
          },
          "execution_count": 21
        }
      ]
    },
    {
      "cell_type": "code",
      "metadata": {
        "id": "sBZWlV0iQFJg",
        "outputId": "3f522f5f-99b4-467c-9a4c-09c7e63d939f"
      },
      "source": [
        "#computing the row variance of the dataframe\n",
        "df.var(axis=1)"
      ],
      "execution_count": null,
      "outputs": [
        {
          "output_type": "execute_result",
          "data": {
            "text/plain": [
              "0        7143.725651\n",
              "1        3768.523181\n",
              "2        3768.080417\n",
              "3        4569.917024\n",
              "4        3633.070417\n",
              "            ...     \n",
              "1305       37.703100\n",
              "1306    12765.776875\n",
              "1307      111.850104\n",
              "1308      129.402604\n",
              "1309             NaN\n",
              "Length: 1310, dtype: float64"
            ]
          },
          "metadata": {
            "tags": []
          },
          "execution_count": 22
        }
      ]
    },
    {
      "cell_type": "code",
      "metadata": {
        "id": "3QSLuPsxQFJi",
        "outputId": "9ec863b6-9f92-4a04-fae8-e57359ce5b7c"
      },
      "source": [
        "# computing the variance of the specific column\n",
        "df['age'].var()\n"
      ],
      "execution_count": null,
      "outputs": [
        {
          "output_type": "execute_result",
          "data": {
            "text/plain": [
              "207.74897359969773"
            ]
          },
          "metadata": {
            "tags": []
          },
          "execution_count": 23
        }
      ]
    }
  ]
}