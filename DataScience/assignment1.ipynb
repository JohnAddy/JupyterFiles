{
 "cells": [
  {
   "cell_type": "markdown",
   "metadata": {
    "id": "PipOrvj7G9UT"
   },
   "source": [
    "# Data types in Python - Assignment 1\n",
    "Business Analytics & Business Intelligence  <br>\n",
    "Deepak KC, deepak.kc@hamk.fi, 2020 <br>\n",
    "                Total Points 26 <br>\n",
    "                             ***To pass you need to get atleast 15 points***"
   ]
  },
  {
   "cell_type": "markdown",
   "metadata": {
    "id": "W8vejbcoG9UU"
   },
   "source": [
    "Task 1: Create a string (name), an integer (num) and a floating point number (fnum). Assign your name to name, 25 to num and 56.78 to fnum. Print the output for all 3 variables. (6 points)"
   ]
  },
  {
   "cell_type": "code",
   "execution_count": 1,
   "metadata": {
    "id": "8LiPJD_OG9UU"
   },
   "outputs": [
    {
     "name": "stdout",
     "output_type": "stream",
     "text": [
      "Marek\n",
      "25\n",
      "56.78\n"
     ]
    }
   ],
   "source": [
    "#name\n",
    "name = \"Marek\"\n",
    "#num\n",
    "num = 25\n",
    "#fnum\n",
    "fnum = 56.78\n",
    "#print name\n",
    "print(name)\n",
    "#print num\n",
    "print(num)\n",
    "#print fnum\n",
    "print(fnum)\n",
    "\n",
    "\n",
    "\n",
    "\n"
   ]
  },
  {
   "cell_type": "markdown",
   "metadata": {
    "id": "oNPYtzqxG9UX"
   },
   "source": [
    "Task 2: Use the capitalize() method to convert the first character of a string to uppercase letter. (1 point)"
   ]
  },
  {
   "cell_type": "code",
   "execution_count": 8,
   "metadata": {
    "id": "lTC7kT7sG9UX"
   },
   "outputs": [
    {
     "name": "stdout",
     "output_type": "stream",
     "text": [
      "This is getting interesting.\n"
     ]
    }
   ],
   "source": [
    "mystring = \"this is getting interesting.\"\n",
    "#use capitalize method\n",
    "#print the capitalized string\n",
    "print(mystring.capitalize())\n",
    "\n",
    "\n",
    "\n"
   ]
  },
  {
   "cell_type": "markdown",
   "metadata": {
    "id": "W7SpeMKXG9Ua"
   },
   "source": [
    "Task 3: The find() method returns the index of first occurence of the substring if it is found and if it does not find it returns -1. Use find() method to complete the code below. (1 point)"
   ]
  },
  {
   "cell_type": "code",
   "execution_count": 9,
   "metadata": {
    "id": "SxsFCC04G9Ua"
   },
   "outputs": [
    {
     "name": "stdout",
     "output_type": "stream",
     "text": [
      "21\n"
     ]
    }
   ],
   "source": [
    "text = \"Python is an easy to learn language\"\n",
    "result = text.find ('learn')\n",
    "#print result\n",
    "print (result)\n",
    "\n",
    "\n",
    "\n"
   ]
  },
  {
   "cell_type": "markdown",
   "metadata": {
    "id": "UowIH2FpG9Uc"
   },
   "source": [
    "Task 4: It is possible to assign the same value to multiple variables at once in Python. Complete the code below. (1 point)"
   ]
  },
  {
   "cell_type": "code",
   "execution_count": 11,
   "metadata": {
    "id": "fs8476TYG9Uc"
   },
   "outputs": [
    {
     "name": "stdout",
     "output_type": "stream",
     "text": [
      "6 6 6\n"
     ]
    }
   ],
   "source": [
    "# create 3 variables a,b & c & \n",
    "a,b,c =6,6,6\n",
    "# assign 1 as value to all variables in the same statement\n",
    "# incorrect answer if it a=1 b=1 c=1  \n",
    "\n",
    "#print a\n",
    "#print b\n",
    "#print c\n",
    "print (a,b,c)\n",
    "\n",
    "\n",
    "\n"
   ]
  },
  {
   "cell_type": "markdown",
   "metadata": {
    "id": "65TgOlWCG9Ue"
   },
   "source": [
    "Task 5: Complete tasks as in the comment below (5 Points)"
   ]
  },
  {
   "cell_type": "code",
   "execution_count": 21,
   "metadata": {
    "id": "AfEcLDLPG9Uf"
   },
   "outputs": [
    {
     "name": "stdout",
     "output_type": "stream",
     "text": [
      "13\n",
      "I\n",
      "I LIKE PYTHON\n",
      "1 Niin metsa vastaa, kuin sinne huudetaan\n"
     ]
    }
   ],
   "source": [
    "a = \"I like python\"\n",
    "print(len(a)) # use the len method to print the length of the string\n",
    "print(a[0]) # print the first character of the string\n",
    "print(a.upper()) # print the string in uppercase letters \n",
    "newtext = (\"%d Niin %s vastaa, %s sinne huudetaan\" % (1,'metsa','kuin'))\n",
    "# it should print 1 Niin metsä vastaa, kuin sinne huudetaan\n",
    "print(newtext) # print the newtext "
   ]
  },
  {
   "cell_type": "markdown",
   "metadata": {
    "id": "xrHn6vHuG9Uh"
   },
   "source": [
    "Task 6: Create a list named mylist and include 5 different data items. (4 points)"
   ]
  },
  {
   "cell_type": "code",
   "execution_count": 22,
   "metadata": {
    "id": "9hpdK220G9Ui"
   },
   "outputs": [
    {
     "name": "stdout",
     "output_type": "stream",
     "text": [
      "['dog', 'cat', 'rat', 'fly', 6]\n",
      "cat\n",
      "['dog', 'cat', 'rat', 'fly', 6, 8]\n"
     ]
    }
   ],
   "source": [
    "mylist = ['dog','cat','rat','fly', 6]  # it should contain 5 different data items\n",
    "print(mylist) # print the entire list\n",
    "print(mylist[1]) # print only the second element\n",
    "#use append to add one more item to your list \n",
    "mylist.append(8)\n",
    "print(mylist) #print the entire list"
   ]
  },
  {
   "cell_type": "markdown",
   "metadata": {
    "id": "Lg7wMsI4G9Uk"
   },
   "source": [
    "Task 7: Tuple (3 points)"
   ]
  },
  {
   "cell_type": "code",
   "execution_count": 23,
   "metadata": {
    "id": "SPnMN-riG9Ul"
   },
   "outputs": [
    {
     "name": "stdout",
     "output_type": "stream",
     "text": [
      "3\n",
      "('Introduction to IoT & Cloud', 'Python Basics for IoT', 'Python Project')\n",
      "Python Project\n"
     ]
    }
   ],
   "source": [
    "courses = (\"Introduction to IoT & Cloud\", \"Python Basics for IoT\", \"Python Project\")\n",
    "print(len(courses)) #use len method to print the number of items(courses) in the tuple courses.\n",
    "print(courses) #print all items in the tuple courses\n",
    "print(courses[2]) #print the third item in the tuple"
   ]
  },
  {
   "cell_type": "markdown",
   "metadata": {
    "id": "Wltud9o6G9Un"
   },
   "source": [
    "Task 8: Dictionary (5 points)"
   ]
  },
  {
   "cell_type": "code",
   "execution_count": 35,
   "metadata": {
    "id": "efBt540zG9Un"
   },
   "outputs": [
    {
     "name": "stdout",
     "output_type": "stream",
     "text": [
      "Python Basics\n",
      "{'course': 'IoT', 'time': 'Autumn', 'ects': [5], 'year': 2019}\n",
      "Autumn\n",
      "{'course': 'IoT', 'ects': [5], 'year': 2019}\n"
     ]
    }
   ],
   "source": [
    "#create a dictionary with the key as course, time and ects\n",
    "    #values as Python Basics, Autumn, 5\n",
    "test = { \n",
    "    'course':'Python Basics','time':'Autumn','ects':[5]\n",
    "}\n",
    "print(test['course'])           #use get method to print the value of the course\n",
    "test['course'] = 'IoT'          #change the course value to Python Basics for IoT\n",
    "test['year'] = 2019             #add the key/value pair as year:2019 to the test dictionary\n",
    "print(test)                     #print the entire dictionary\n",
    "print(test.pop('time'))         #use pop method to remove time form the dictionary\n",
    "print(test)"
   ]
  },
  {
   "cell_type": "code",
   "execution_count": null,
   "metadata": {},
   "outputs": [],
   "source": []
  }
 ],
 "metadata": {
  "colab": {
   "collapsed_sections": [],
   "name": "assignment1_python.ipynb",
   "provenance": []
  },
  "kernelspec": {
   "display_name": "Python 3",
   "language": "python",
   "name": "python3"
  },
  "language_info": {
   "codemirror_mode": {
    "name": "ipython",
    "version": 3
   },
   "file_extension": ".py",
   "mimetype": "text/x-python",
   "name": "python",
   "nbconvert_exporter": "python",
   "pygments_lexer": "ipython3",
   "version": "3.8.3"
  }
 },
 "nbformat": 4,
 "nbformat_minor": 1
}
