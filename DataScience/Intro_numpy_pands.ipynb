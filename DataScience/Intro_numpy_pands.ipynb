{
  "nbformat": 4,
  "nbformat_minor": 0,
  "metadata": {
    "colab": {
      "name": "Intro_numpy_pands.ipynb",
      "provenance": [],
      "collapsed_sections": [
        "5aIXVLJ8OOp8",
        "3f-JmHiiOOqV",
        "oeq0q7TTOOqh",
        "Jg3jcuEfOOqp",
        "HQPShy8PquM2"
      ],
      "toc_visible": true
    },
    "kernelspec": {
      "display_name": "Python 3",
      "language": "python",
      "name": "python3"
    },
    "language_info": {
      "codemirror_mode": {
        "name": "ipython",
        "version": 3
      },
      "file_extension": ".py",
      "mimetype": "text/x-python",
      "name": "python",
      "nbconvert_exporter": "python",
      "pygments_lexer": "ipython3",
      "version": "3.7.3"
    },
    "varInspector": {
      "cols": {
        "lenName": 16,
        "lenType": 16,
        "lenVar": 40
      },
      "kernels_config": {
        "python": {
          "delete_cmd_postfix": "",
          "delete_cmd_prefix": "del ",
          "library": "var_list.py",
          "varRefreshCmd": "print(var_dic_list())"
        },
        "r": {
          "delete_cmd_postfix": ") ",
          "delete_cmd_prefix": "rm(",
          "library": "var_list.r",
          "varRefreshCmd": "cat(var_dic_list()) "
        }
      },
      "types_to_exclude": [
        "module",
        "function",
        "builtin_function_or_method",
        "instance",
        "_Feature"
      ],
      "window_display": false
    }
  },
  "cells": [
    {
      "cell_type": "markdown",
      "metadata": {
        "id": "3Sg1EmcJFVpz"
      },
      "source": [
        "<center> Business Analytics & Business Intelligence  <br>\n",
        "Deepak KC, deepak.kc@hamk.fi, 2020 <br> Introduction to Numpy & Pandas  </center>"
      ]
    },
    {
      "cell_type": "markdown",
      "metadata": {
        "id": "AvCv3AcxOOpX"
      },
      "source": [
        "# NumPy\n",
        "\n",
        "[NumPy](https://docs.scipy.org/doc/numpy/) is a Python library for handling multi-dimensional arrays. It contains both the data structures needed for the storing and accessing arrays, and operations and functions for computation using these arrays. Although the arrays are usually used for storing numbers, other type of data can be stored as well, such as strings. Unlike lists in core Python, NumPy's fundamental data structure, the array, must have the same data type for all its elements. The homogeneity of arrays allows highly optimized functions that use arrays as their inputs and outputs.\n",
        "\n",
        "There are several uses for high-dimensional arrays in data analysis. For instance, they can be used to:\n",
        "\n",
        "* store matrices, solve systems of linear equations, find eigenvalues/vectors, find matrix decompositions, and solve other problems familiar from linear algebra\n",
        "* store multi-dimensional measurement data. For example, an element `a[i,j]` in a 2-dimensional array might store the temperature $t_{ij}$ measured at coordinates i, j on a 2-dimension surface.\n",
        "* images and videos can be represented as NumPy arrays:\n",
        "\n",
        "  * a gray-scale image can be represented as a two dimensional array\n",
        "  * a color image can be represented as a three dimensional image, the third dimension contains the color components red, green, and blue\n",
        "  * a color video can be represented as a four dimensional array\n",
        "* a 2-dimensional table might store a sequence of *samples*, and each sample might be divided into *features*. For example, we could measure the weather conditions once per day, and the conditions could include the temperature, direction and speed of wind, and the amount of rain. Then we would have one sample per day, and the features would be the temperature, wind, and rain. In the standard representation of this kind of tabular data, the rows corresponds to samples and the columns correspond to features. We see more of this kind of data in the chapters on Pandas and Scikit-learn.\n",
        "\n",
        "In this chapter we will go through:\n",
        "\n",
        "* Creation of arrays\n",
        "* Array types and attributes\n",
        "* Accessing arrays with indexing and slicing\n",
        "* Reshaping of arrays\n",
        "* Combining and splitting arrays"
      ]
    },
    {
      "cell_type": "markdown",
      "metadata": {
        "id": "xhhpL5AzOOpY"
      },
      "source": [
        "We start by importing the NumPy library, and we use the standard abbreviation `np` for it."
      ]
    },
    {
      "cell_type": "code",
      "metadata": {
        "ExecuteTime": {
          "end_time": "2020-06-24T19:32:10.845394Z",
          "start_time": "2020-06-24T19:32:10.803113Z"
        },
        "id": "Nse4KQQ9OOpY"
      },
      "source": [
        "import numpy as np"
      ],
      "execution_count": null,
      "outputs": []
    },
    {
      "cell_type": "markdown",
      "metadata": {
        "id": "wVwp7b40OOpc"
      },
      "source": [
        "## Creation of arrays\n",
        "There are several ways of creating NumPy arrays. One way is to give a (nested) list as a parameter to the `array` constructor:"
      ]
    },
    {
      "cell_type": "code",
      "metadata": {
        "ExecuteTime": {
          "end_time": "2020-06-24T19:32:10.855322Z",
          "start_time": "2020-06-24T19:32:10.846600Z"
        },
        "id": "15riSSRyOOpd"
      },
      "source": [
        "np.array([1,2,3])   # one dimensional array"
      ],
      "execution_count": null,
      "outputs": []
    },
    {
      "cell_type": "markdown",
      "metadata": {
        "id": "-ekPVTD7OOpf"
      },
      "source": [
        "Note that leaving out the brackets from the above expression, i.e. calling `np.array(1,2,3)` will result in an error."
      ]
    },
    {
      "cell_type": "markdown",
      "metadata": {
        "id": "FzSeyyxgOOpg"
      },
      "source": [
        "Two dimensional array can be given by listing the rows of the array:"
      ]
    },
    {
      "cell_type": "code",
      "metadata": {
        "ExecuteTime": {
          "end_time": "2020-06-24T19:32:10.860761Z",
          "start_time": "2020-06-24T19:32:10.857018Z"
        },
        "id": "4kDbonYZOOpg"
      },
      "source": [
        "np.array([[1,2,3], [4,5,6]])"
      ],
      "execution_count": null,
      "outputs": []
    },
    {
      "cell_type": "markdown",
      "metadata": {
        "id": "tHjsptIIOOpi"
      },
      "source": [
        "Similarly, three dimensional array can be described as a list of lists of lists:"
      ]
    },
    {
      "cell_type": "code",
      "metadata": {
        "ExecuteTime": {
          "end_time": "2020-06-24T19:32:10.866603Z",
          "start_time": "2020-06-24T19:32:10.862465Z"
        },
        "id": "5C0GxwiWOOpi"
      },
      "source": [
        "np.array([[[1,2], [3,4]], [[5,6], [7,8]]])"
      ],
      "execution_count": null,
      "outputs": []
    },
    {
      "cell_type": "markdown",
      "metadata": {
        "id": "l5ZcbOuGOOpl"
      },
      "source": [
        "There are some helper functions to create common types of arrays:"
      ]
    },
    {
      "cell_type": "code",
      "metadata": {
        "ExecuteTime": {
          "end_time": "2020-06-24T19:32:10.871596Z",
          "start_time": "2020-06-24T19:32:10.868042Z"
        },
        "id": "DNLdPO69OOpl"
      },
      "source": [
        "np.zeros((3,4))"
      ],
      "execution_count": null,
      "outputs": []
    },
    {
      "cell_type": "markdown",
      "metadata": {
        "id": "c4kt4iRZOOpn"
      },
      "source": [
        "To specify that elements are `int`s instead of `float`s, use the parameter `dtype`:"
      ]
    },
    {
      "cell_type": "code",
      "metadata": {
        "ExecuteTime": {
          "end_time": "2020-06-24T19:32:10.876445Z",
          "start_time": "2020-06-24T19:32:10.872814Z"
        },
        "id": "-BSsfiqDOOpn"
      },
      "source": [
        "np.zeros((3,4), dtype=int)"
      ],
      "execution_count": null,
      "outputs": []
    },
    {
      "cell_type": "markdown",
      "metadata": {
        "id": "SecPuqF5OOpq"
      },
      "source": [
        "Similarly `ones` initializes all elements to one, `full` initializes all elements to a specified value, and `empty` leaves the elements uninitialized:"
      ]
    },
    {
      "cell_type": "code",
      "metadata": {
        "ExecuteTime": {
          "end_time": "2020-06-24T19:32:10.881455Z",
          "start_time": "2020-06-24T19:32:10.877615Z"
        },
        "id": "h6CI8D4kOOpq"
      },
      "source": [
        "np.ones((2,3))"
      ],
      "execution_count": null,
      "outputs": []
    },
    {
      "cell_type": "code",
      "metadata": {
        "ExecuteTime": {
          "end_time": "2020-06-24T19:32:10.886975Z",
          "start_time": "2020-06-24T19:32:10.883535Z"
        },
        "id": "Zy1z4azaOOpt"
      },
      "source": [
        "np.full((2,3), fill_value=7)"
      ],
      "execution_count": null,
      "outputs": []
    },
    {
      "cell_type": "code",
      "metadata": {
        "ExecuteTime": {
          "end_time": "2020-06-24T19:32:10.892001Z",
          "start_time": "2020-06-24T19:32:10.888298Z"
        },
        "id": "S4Scu-2UOOpw"
      },
      "source": [
        "np.empty((2,4))"
      ],
      "execution_count": null,
      "outputs": []
    },
    {
      "cell_type": "markdown",
      "metadata": {
        "id": "uR793dN0OOpz"
      },
      "source": [
        "The `eye` function creates the identity matrix, that is, a matrix with elements on the diagonal are set to one, and non-diagonal elements are set to zero:"
      ]
    },
    {
      "cell_type": "code",
      "metadata": {
        "ExecuteTime": {
          "end_time": "2020-06-24T19:32:10.895751Z",
          "start_time": "2020-06-24T19:32:10.893008Z"
        },
        "id": "rGfgDFKyOOpz"
      },
      "source": [
        "np.eye(5, dtype=int)"
      ],
      "execution_count": null,
      "outputs": []
    },
    {
      "cell_type": "markdown",
      "metadata": {
        "id": "py5cvHW2OOp2"
      },
      "source": [
        "The `arange` function works like the `range` function, but produces an array instead of a list."
      ]
    },
    {
      "cell_type": "code",
      "metadata": {
        "ExecuteTime": {
          "end_time": "2020-06-24T19:32:10.900663Z",
          "start_time": "2020-06-24T19:32:10.897088Z"
        },
        "id": "SMcTOUjOOOp2"
      },
      "source": [
        "np.arange(0,10,2)"
      ],
      "execution_count": null,
      "outputs": []
    },
    {
      "cell_type": "markdown",
      "metadata": {
        "id": "gQAcbKQVOOp5"
      },
      "source": [
        "For non-integer ranges it is better to use `linspace`:"
      ]
    },
    {
      "cell_type": "code",
      "metadata": {
        "ExecuteTime": {
          "end_time": "2020-06-24T19:32:10.906019Z",
          "start_time": "2020-06-24T19:32:10.902158Z"
        },
        "id": "WBf8Z1NvOOp5"
      },
      "source": [
        "np.linspace(0, np.pi, 5)  # Evenly spaced range with 5 elements"
      ],
      "execution_count": null,
      "outputs": []
    },
    {
      "cell_type": "markdown",
      "metadata": {
        "id": "B1gvt3MSOOp8"
      },
      "source": [
        "With `linspace` one does not have to compute the length of the step, but instead one specifies the wanted number of elements. By default, the endpoint is included in the result, unlike with `arange`."
      ]
    },
    {
      "cell_type": "markdown",
      "metadata": {
        "id": "5aIXVLJ8OOp8"
      },
      "source": [
        "### Arrays with random elements\n",
        "\n",
        "To test our programs we might use real data as input. However, real data is not always available, and it may take time to gather. We could instead generate random numbers to use as substitute. They can be generated really easily with NumPy, and can be sampled from several different distributions, of which we mention below only a few. Random data can simulate real data better than, for example, ranges or constant arrays. Sometimes we also need random numbers in our programs to choose a subset of real data (sampling). NumPy can easily produce arrays of wanted shape filled with random numbers. Below are few examples."
      ]
    },
    {
      "cell_type": "code",
      "metadata": {
        "ExecuteTime": {
          "end_time": "2020-06-24T19:32:10.911367Z",
          "start_time": "2020-06-24T19:32:10.907263Z"
        },
        "id": "sEKO1ADwOOp9"
      },
      "source": [
        "np.random.random((3,4))          # Elements are uniformly distributed from half-open interval [0.0,1.0)"
      ],
      "execution_count": null,
      "outputs": []
    },
    {
      "cell_type": "code",
      "metadata": {
        "ExecuteTime": {
          "end_time": "2020-06-24T19:32:10.917298Z",
          "start_time": "2020-06-24T19:32:10.912754Z"
        },
        "id": "OFkCDBoDOOqA"
      },
      "source": [
        "np.random.normal(0, 1, (3,4))    # Elements are normally distributed with mean 0 and standard deviation 1"
      ],
      "execution_count": null,
      "outputs": []
    },
    {
      "cell_type": "code",
      "metadata": {
        "ExecuteTime": {
          "end_time": "2020-06-24T19:32:10.922900Z",
          "start_time": "2020-06-24T19:32:10.918533Z"
        },
        "id": "RJ7sSPE0OOqC"
      },
      "source": [
        "np.random.randint(-2, 10, (3,4))  # Elements are uniformly distributed integers from the half-open interval [-2,10)"
      ],
      "execution_count": null,
      "outputs": []
    },
    {
      "cell_type": "markdown",
      "metadata": {
        "id": "-vLej0I1OOqE"
      },
      "source": [
        "Sometimes it is useful to be able to recreate exactly the same data in every run of our program. For example, if there is a bug in our program, which manifests itself only with certain input, then to debug our program it needs to behave deterministically. We can create random numbers deterministically, if we always start from the same starting point. This starting point is usually an integer, and we call it a *seed*. Example of use:"
      ]
    },
    {
      "cell_type": "code",
      "metadata": {
        "ExecuteTime": {
          "end_time": "2020-06-24T19:32:10.929180Z",
          "start_time": "2020-06-24T19:32:10.924551Z"
        },
        "id": "awpvkfNAOOqE"
      },
      "source": [
        "np.random.seed(0)\n",
        "print(np.random.randint(0, 100, 10))\n",
        "print(np.random.normal(0, 1, 10))"
      ],
      "execution_count": null,
      "outputs": []
    },
    {
      "cell_type": "markdown",
      "metadata": {
        "id": "Fa3YlkjfOOqH"
      },
      "source": [
        "If you run the above cell multiple times, it will always give the same numbers, unlike the earlier examples. Try rerunning them now!"
      ]
    },
    {
      "cell_type": "markdown",
      "metadata": {
        "id": "3vz1tD6cOOqH"
      },
      "source": [
        "The call to `np.random.seed` initializes the *global* random number generator. The calls `np.random.random`, `np.random.normal`, etc all use this global random number generator. It is however possible to create new random number generators, and use those to sample random numbers from a distribution. Example on usage:"
      ]
    },
    {
      "cell_type": "code",
      "metadata": {
        "ExecuteTime": {
          "end_time": "2020-06-24T19:32:10.934667Z",
          "start_time": "2020-06-24T19:32:10.930613Z"
        },
        "id": "ztbhSMzxOOqI"
      },
      "source": [
        "new_generator = np.random.RandomState(seed=123)  # RandomState is a class, so we give the seed to its constructor\n",
        "new_generator.randint(0, 100, 10)"
      ],
      "execution_count": null,
      "outputs": []
    },
    {
      "cell_type": "markdown",
      "metadata": {
        "id": "ZvojQBQKOOqK"
      },
      "source": [
        "You will see these used later in the materials and in the exercises, just so we can agree what the random input data is. How else could we agree whether result is correct or not, if we can't agree what the input is!"
      ]
    },
    {
      "cell_type": "markdown",
      "metadata": {
        "id": "PXPeg74NOOqK"
      },
      "source": [
        "## Array types and attributes\n",
        "\n",
        "An array has several attributes: `ndim` tells the number of dimensions, `shape` tells the size in each dimension, `size` tells the number of elements, and `dtype` tells the element type. Let's create a helper function to explore these attributes:"
      ]
    },
    {
      "cell_type": "code",
      "metadata": {
        "ExecuteTime": {
          "end_time": "2020-06-24T19:32:10.938834Z",
          "start_time": "2020-06-24T19:32:10.936008Z"
        },
        "id": "ztHsOP_ROOqK"
      },
      "source": [
        "def info(name, a):\n",
        "    print(f\"{name} has dim {a.ndim}, shape {a.shape}, size {a.size}, and dtype {a.dtype}:\")\n",
        "    print(a)"
      ],
      "execution_count": null,
      "outputs": []
    },
    {
      "cell_type": "code",
      "metadata": {
        "ExecuteTime": {
          "end_time": "2020-06-24T19:32:10.945268Z",
          "start_time": "2020-06-24T19:32:10.941728Z"
        },
        "id": "VSbb1xljOOqN"
      },
      "source": [
        "b=np.array([[1,2,3], [4,5,6]])\n",
        "info(\"b\", b)"
      ],
      "execution_count": null,
      "outputs": []
    },
    {
      "cell_type": "code",
      "metadata": {
        "ExecuteTime": {
          "end_time": "2020-06-24T19:32:10.950549Z",
          "start_time": "2020-06-24T19:32:10.947220Z"
        },
        "id": "IcFVKnlAOOqP"
      },
      "source": [
        "c=np.array([b, b])          # Creates a 3-dimensional array\n",
        "info(\"c\", c)"
      ],
      "execution_count": null,
      "outputs": []
    },
    {
      "cell_type": "code",
      "metadata": {
        "ExecuteTime": {
          "end_time": "2020-06-24T19:32:10.955541Z",
          "start_time": "2020-06-24T19:32:10.951988Z"
        },
        "id": "_zBAyk7zOOqR"
      },
      "source": [
        "d=np.array([[1,2,3,4]])                # a row vector\n",
        "info(\"d\", d)"
      ],
      "execution_count": null,
      "outputs": []
    },
    {
      "cell_type": "markdown",
      "metadata": {
        "id": "R5TYNK9wOOqU"
      },
      "source": [
        "Note above how Python printed the three dimensional array. The general rules of printing an n-dimensional array as a nested list are:\n",
        "\n",
        "* the last dimension is printed from left to right,\n",
        "* the second-to-last is printed from top to bottom,\n",
        "* the rest are also printed from top to bottom, with each slice separated from the next by an empty line."
      ]
    },
    {
      "cell_type": "markdown",
      "metadata": {
        "id": "ehISt8TPOOqU"
      },
      "source": [
        "## Indexing, slicing and reshaping"
      ]
    },
    {
      "cell_type": "markdown",
      "metadata": {
        "id": "3f-JmHiiOOqV"
      },
      "source": [
        "### Indexing\n",
        "One dimensional array behaves like the list in Python:"
      ]
    },
    {
      "cell_type": "code",
      "metadata": {
        "ExecuteTime": {
          "end_time": "2020-06-24T19:32:10.961534Z",
          "start_time": "2020-06-24T19:32:10.957314Z"
        },
        "id": "b8eZHX2EOOqV"
      },
      "source": [
        "a=np.array([1,4,2,7,9,5])\n",
        "print(a[1])\n",
        "print(a[-2])"
      ],
      "execution_count": null,
      "outputs": []
    },
    {
      "cell_type": "markdown",
      "metadata": {
        "id": "f1zWwTX4OOqX"
      },
      "source": [
        "For multi-dimensional array the index is a comma separated tuple instead of a single integer:"
      ]
    },
    {
      "cell_type": "code",
      "metadata": {
        "ExecuteTime": {
          "end_time": "2020-06-24T19:32:10.967365Z",
          "start_time": "2020-06-24T19:32:10.963235Z"
        },
        "id": "69ulxBGTOOqY"
      },
      "source": [
        "b=np.array([[1,2,3], [4,5,6]])\n",
        "print(b)\n",
        "print(b[1,2])    # row index 1, column index 2\n",
        "print(b[0,-1])   # row index 0, column index -1"
      ],
      "execution_count": null,
      "outputs": []
    },
    {
      "cell_type": "code",
      "metadata": {
        "ExecuteTime": {
          "end_time": "2020-06-24T19:32:10.971587Z",
          "start_time": "2020-06-24T19:32:10.968787Z"
        },
        "id": "Tm3j5n8XOOqZ"
      },
      "source": [
        "# As with lists, modification through indexing is possible\n",
        "b[0,0] = 10\n",
        "print(b)"
      ],
      "execution_count": null,
      "outputs": []
    },
    {
      "cell_type": "markdown",
      "metadata": {
        "id": "ekDMfV8POOqb"
      },
      "source": [
        "Note that if you give only a single index to a multi-dimensional array, it indexes the first dimension of the array, that is the rows. For example:"
      ]
    },
    {
      "cell_type": "code",
      "metadata": {
        "ExecuteTime": {
          "end_time": "2020-06-24T19:32:10.976191Z",
          "start_time": "2020-06-24T19:32:10.973080Z"
        },
        "id": "-KRV0hO9OOqb"
      },
      "source": [
        "print(b[0])    # First row\n",
        "print(b[1])    # Second row"
      ],
      "execution_count": null,
      "outputs": []
    },
    {
      "cell_type": "markdown",
      "metadata": {
        "id": "oeq0q7TTOOqh"
      },
      "source": [
        "#### Slicing\n",
        "Slicing works similarly to lists, but now we can have slices in different dimensions:"
      ]
    },
    {
      "cell_type": "code",
      "metadata": {
        "ExecuteTime": {
          "end_time": "2020-06-24T19:32:10.981718Z",
          "start_time": "2020-06-24T19:32:10.977821Z"
        },
        "id": "UDBsKh64OOqh"
      },
      "source": [
        "print(a)\n",
        "print(a[1:3])\n",
        "print(a[::-1])    # Reverses the array"
      ],
      "execution_count": null,
      "outputs": []
    },
    {
      "cell_type": "code",
      "metadata": {
        "ExecuteTime": {
          "end_time": "2020-06-24T19:32:10.987037Z",
          "start_time": "2020-06-24T19:32:10.983156Z"
        },
        "id": "Ny7Ph_OcOOqj"
      },
      "source": [
        "print(b)\n",
        "print(b[:,0])\n",
        "print(b[0,:])\n",
        "print(b[:,1:])"
      ],
      "execution_count": null,
      "outputs": []
    },
    {
      "cell_type": "markdown",
      "metadata": {
        "id": "1aReCWywOOql"
      },
      "source": [
        "We can even assign to a slice:"
      ]
    },
    {
      "cell_type": "code",
      "metadata": {
        "ExecuteTime": {
          "end_time": "2020-06-24T19:32:10.991506Z",
          "start_time": "2020-06-24T19:32:10.988462Z"
        },
        "id": "5_3NmbwrOOql"
      },
      "source": [
        "b[:,1:] = 7\n",
        "print(b)"
      ],
      "execution_count": null,
      "outputs": []
    },
    {
      "cell_type": "markdown",
      "metadata": {
        "id": "ZDCGEn2wOOqn"
      },
      "source": [
        "A common idiom is to extract rows or columns from an array:"
      ]
    },
    {
      "cell_type": "code",
      "metadata": {
        "ExecuteTime": {
          "end_time": "2020-06-24T19:32:10.996502Z",
          "start_time": "2020-06-24T19:32:10.992992Z"
        },
        "id": "D0RjLMNiOOqn"
      },
      "source": [
        "print(b[:,0])    # First column\n",
        "print(b[1,:])    # Second row"
      ],
      "execution_count": null,
      "outputs": []
    },
    {
      "cell_type": "markdown",
      "metadata": {
        "id": "Jg3jcuEfOOqp"
      },
      "source": [
        "### Reshaping\n",
        "\n",
        "When an array is reshaped, its number of elements stays the same, but they are reinterpreted to have a different shape. An example of this is to interpret a one dimensional array as two dimension array:"
      ]
    },
    {
      "cell_type": "code",
      "metadata": {
        "ExecuteTime": {
          "end_time": "2020-06-24T19:32:11.001456Z",
          "start_time": "2020-06-24T19:32:10.997760Z"
        },
        "id": "-oCEkGaeOOqq"
      },
      "source": [
        "a=np.arange(9)\n",
        "anew=a.reshape(3,3)\n",
        "info(\"anew\", anew)\n",
        "info(\"a\", a)"
      ],
      "execution_count": null,
      "outputs": []
    },
    {
      "cell_type": "code",
      "metadata": {
        "ExecuteTime": {
          "end_time": "2020-06-24T19:32:11.008219Z",
          "start_time": "2020-06-24T19:32:11.003102Z"
        },
        "id": "PAhZSvF2OOqs"
      },
      "source": [
        "d=np.arange(4)             # 1d array\n",
        "dr=d.reshape(1,4)          # row vector\n",
        "dc=d.reshape(4,1)          # column vector\n",
        "info(\"d\", d)\n",
        "info(\"dr\", dr)\n",
        "info(\"dc\", dc)"
      ],
      "execution_count": null,
      "outputs": []
    },
    {
      "cell_type": "markdown",
      "metadata": {
        "id": "xGARyDlmOOqv"
      },
      "source": [
        "<div class=\"alert alert-warning\">\n",
        "Note the 1d array and the row and column vectors, which are 2d arrays, are fundamentally different objects, even though they look similar. They behave differently when we combine or otherwise operate arrays of different shapes, as we shall see in the next section and later in this material.\n",
        "</div>"
      ]
    },
    {
      "cell_type": "markdown",
      "metadata": {
        "id": "bme4O_8kOOqv"
      },
      "source": [
        "An alternative syntax to create, for example, column or row vectors is through the `np.newaxis` keyword. Sometimes this is easier or more natural than with the `reshape` method:"
      ]
    },
    {
      "cell_type": "code",
      "metadata": {
        "ExecuteTime": {
          "end_time": "2020-06-24T19:32:11.014150Z",
          "start_time": "2020-06-24T19:32:11.009604Z"
        },
        "id": "SCcCJbLIOOqw"
      },
      "source": [
        "info(\"d\", d)\n",
        "info(\"drow\", d[:, np.newaxis])\n",
        "info(\"drow\", d[np.newaxis, :])\n",
        "info(\"dcol\", d[:, np.newaxis])"
      ],
      "execution_count": null,
      "outputs": []
    },
    {
      "cell_type": "markdown",
      "metadata": {
        "id": "vTPX8OoqOOq0"
      },
      "source": [
        "## Array concatenation, splitting and stacking\n",
        "\n",
        "The are two ways of combining several arrays into one bigger array: `concatenate` and `stack`. `Concatenate` takes n-dimensional arrays and returns an n-dimensional array, whereas `stack` takes n-dimensional arrays and returns n+1-dimensional array. Few examples of these:"
      ]
    },
    {
      "cell_type": "code",
      "metadata": {
        "ExecuteTime": {
          "end_time": "2020-06-24T19:32:11.024727Z",
          "start_time": "2020-06-24T19:32:11.019940Z"
        },
        "id": "0ww3LL_7OOq0"
      },
      "source": [
        "a=np.arange(2)\n",
        "b=np.arange(2,5)\n",
        "print(f\"a has shape {a.shape}: {a}\")\n",
        "print(f\"b has shape {b.shape}: {b}\")\n",
        "np.concatenate((a,b))  # concatenating 1d arrays"
      ],
      "execution_count": null,
      "outputs": []
    },
    {
      "cell_type": "code",
      "metadata": {
        "ExecuteTime": {
          "end_time": "2020-06-24T19:32:11.032578Z",
          "start_time": "2020-06-24T19:32:11.027974Z"
        },
        "id": "7Vo9CWJxOOq3"
      },
      "source": [
        "c=np.arange(1,5).reshape(2,2)\n",
        "print(f\"c has shape {c.shape}:\", c, sep=\"\\n\")\n",
        "np.concatenate((c,c))   # concatenating 2d arrays"
      ],
      "execution_count": null,
      "outputs": []
    },
    {
      "cell_type": "markdown",
      "metadata": {
        "id": "5sV0nFz3OOq6"
      },
      "source": [
        "By default `concatenate` joins the arrays along axis 0. To join the arrays horizontally, add parameter `axis=1`:"
      ]
    },
    {
      "cell_type": "code",
      "metadata": {
        "ExecuteTime": {
          "end_time": "2020-06-24T19:32:11.037723Z",
          "start_time": "2020-06-24T19:32:11.034204Z"
        },
        "id": "Uu9VVXfjOOq7"
      },
      "source": [
        "np.concatenate((c,c), axis=1)"
      ],
      "execution_count": null,
      "outputs": []
    },
    {
      "cell_type": "markdown",
      "metadata": {
        "id": "9cxnGgNMOOq9"
      },
      "source": [
        "If you want to catenate arrays with different dimensions, for example to add a new column to a 2d array, you must first  reshape the arrays to have same number of dimensions:"
      ]
    },
    {
      "cell_type": "code",
      "metadata": {
        "ExecuteTime": {
          "end_time": "2020-06-24T19:32:11.043203Z",
          "start_time": "2020-06-24T19:32:11.039134Z"
        },
        "id": "AtV_ViypOOq_"
      },
      "source": [
        "print(\"New row:\")\n",
        "print(np.concatenate((c,a.reshape(1,2))))\n",
        "print(\"New column:\")\n",
        "print(np.concatenate((c,a.reshape(2,1)), axis=1))"
      ],
      "execution_count": null,
      "outputs": []
    },
    {
      "cell_type": "markdown",
      "metadata": {
        "id": "LwT2u6RhOOrC"
      },
      "source": [
        "Use `stack` to create higher dimensional arrays from lower dimensional arrays:"
      ]
    },
    {
      "cell_type": "code",
      "metadata": {
        "ExecuteTime": {
          "end_time": "2020-06-24T19:32:11.049617Z",
          "start_time": "2020-06-24T19:32:11.045171Z"
        },
        "id": "15judeenOOrC"
      },
      "source": [
        "np.stack((b,b))"
      ],
      "execution_count": null,
      "outputs": []
    },
    {
      "cell_type": "code",
      "metadata": {
        "ExecuteTime": {
          "end_time": "2020-06-24T19:32:11.055378Z",
          "start_time": "2020-06-24T19:32:11.051621Z"
        },
        "id": "vzc7WUcCOOrF"
      },
      "source": [
        "np.stack((b,b), axis=1)"
      ],
      "execution_count": null,
      "outputs": []
    },
    {
      "cell_type": "markdown",
      "metadata": {
        "id": "xJOTochXOOrG"
      },
      "source": [
        "Inverse operation of `concatenate` is `split`. Its argument specifies either the number of equal parts the array is divided into, or it specifies explicitly the break points."
      ]
    },
    {
      "cell_type": "code",
      "metadata": {
        "ExecuteTime": {
          "end_time": "2020-06-24T19:32:11.061866Z",
          "start_time": "2020-06-24T19:32:11.056748Z"
        },
        "id": "-BRlv1NgOOrH"
      },
      "source": [
        "d=np.arange(12).reshape(6,2)\n",
        "print(\"d:\")\n",
        "print(d)\n",
        "d1,d2 = np.split(d, 2)\n",
        "print(\"d1:\")\n",
        "print(d1)\n",
        "print(\"d2:\")\n",
        "print(d2)"
      ],
      "execution_count": null,
      "outputs": []
    },
    {
      "cell_type": "code",
      "metadata": {
        "ExecuteTime": {
          "end_time": "2020-06-24T19:32:11.068452Z",
          "start_time": "2020-06-24T19:32:11.063485Z"
        },
        "id": "TDv1SvyIOOrI"
      },
      "source": [
        "d=np.arange(12).reshape(2,6)\n",
        "print(\"d:\")\n",
        "print(d)\n",
        "parts=np.split(d, (2,3,5), axis=1)\n",
        "for i, p in enumerate(parts):\n",
        "    print(\"part %i:\" % i)\n",
        "    print(p)"
      ],
      "execution_count": null,
      "outputs": []
    },
    {
      "cell_type": "markdown",
      "metadata": {
        "id": "zmqt8MBbquM0"
      },
      "source": [
        "# Introduction to Pandas\n",
        "\n",
        "[*pandas*](http://pandas.pydata.org/) is a column-oriented data analysis API. It's a great tool for handling and analyzing input data, and many ML frameworks support *pandas* data structures as inputs.\n",
        "Although a comprehensive introduction to the *pandas* API would span many pages, the core concepts are fairly straightforward, and we'll present them below. For a more complete reference, the [*pandas* docs site](http://pandas.pydata.org/pandas-docs/stable/index.html) contains extensive documentation and many tutorials.\n",
        "\n",
        "**Learning Objectives:**\n",
        "  * Gain an introduction to the `DataFrame` and `Series` data structures of the *pandas* library\n",
        "  * Access and manipulate data within a `DataFrame` and `Series`\n",
        "  * Import CSV data into a *pandas* `DataFrame`\n",
        "  * Reindex a `DataFrame` to shuffle data\n",
        "  \n"
      ]
    },
    {
      "cell_type": "code",
      "metadata": {
        "id": "Yzzofiw7quM0",
        "outputId": "69211f8f-3765-4800-8a14-c57953b53255"
      },
      "source": [
        "#lets start by importing the pandas library\n",
        "import pandas as pd\n",
        "\n",
        "#to know the version of your pandas \n",
        "pd.__version__"
      ],
      "execution_count": null,
      "outputs": [
        {
          "output_type": "execute_result",
          "data": {
            "text/plain": [
              "'0.24.2'"
            ]
          },
          "metadata": {
            "tags": []
          },
          "execution_count": 4
        }
      ]
    },
    {
      "cell_type": "markdown",
      "metadata": {
        "id": "HQPShy8PquM2"
      },
      "source": [
        "### Primary Data structures in Pandas\n",
        "\n",
        "The primary data structures in *pandas* are implemented as two classes:\n",
        "\n",
        "  * **`DataFrame`**, which you can imagine as a relational data table, with rows and named columns.\n",
        "  * **`Series`**, which is a single column. A `DataFrame` contains one or more `Series` and a name for each `Series`.\n",
        "\n",
        "The data frame is a commonly used abstraction for data manipulation."
      ]
    },
    {
      "cell_type": "code",
      "metadata": {
        "id": "T2hsFPcgquM2",
        "outputId": "950ac0dd-1f90-4499-de64-78e2ef10a910"
      },
      "source": [
        "# One way to create a Series is to construct a Series object. For example:\n",
        "pd.Series(['San Francisco', 'San Jose', 'Sacramento'])"
      ],
      "execution_count": null,
      "outputs": [
        {
          "output_type": "execute_result",
          "data": {
            "text/plain": [
              "0    San Francisco\n",
              "1         San Jose\n",
              "2       Sacramento\n",
              "dtype: object"
            ]
          },
          "metadata": {
            "tags": []
          },
          "execution_count": 5
        }
      ]
    },
    {
      "cell_type": "code",
      "metadata": {
        "id": "eueNlKsyquM4"
      },
      "source": [
        "# creating Dataframe objects\n",
        "\n",
        "city_names = pd.Series(['San Francisco', 'San Jose', 'Sacramento'])\n",
        "population = pd.Series([852469, 1015785, 485199])\n",
        "\n",
        "pd.DataFrame({ 'City name': city_names, 'Population': population })"
      ],
      "execution_count": null,
      "outputs": []
    },
    {
      "cell_type": "markdown",
      "metadata": {
        "id": "8F3ZI-sdquM6"
      },
      "source": [
        "But most of the time, you load an entire file into a DataFrame. The following example loads a file with California housing data. Run the following cell to load the data and create feature definitions:"
      ]
    },
    {
      "cell_type": "code",
      "metadata": {
        "id": "I9n5Qjr3quM6"
      },
      "source": [
        "california_housing_dataframe = pd.read_csv(\"https://download.mlcc.google.com/mledu-datasets/california_housing_train.csv\", sep=\",\")\n",
        "california_housing_dataframe.head(3)"
      ],
      "execution_count": null,
      "outputs": []
    },
    {
      "cell_type": "markdown",
      "metadata": {
        "id": "8BliIE3equM8"
      },
      "source": [
        "Another powerful feature of *pandas* is graphing. For example, `DataFrame.hist` lets you quickly study the distribution of values in a column:"
      ]
    },
    {
      "cell_type": "code",
      "metadata": {
        "id": "dh5ViwuhquM8"
      },
      "source": [
        "california_housing_dataframe.hist('housing_median_age')"
      ],
      "execution_count": null,
      "outputs": []
    },
    {
      "cell_type": "markdown",
      "metadata": {
        "id": "GtoRyTH2rF3i"
      },
      "source": [
        "***Deepak KC, 2020***"
      ]
    }
  ]
}