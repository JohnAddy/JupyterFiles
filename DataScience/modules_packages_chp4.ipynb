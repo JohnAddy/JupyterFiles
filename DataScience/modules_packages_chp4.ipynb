{
  "nbformat": 4,
  "nbformat_minor": 0,
  "metadata": {
    "kernelspec": {
      "display_name": "Python 3",
      "language": "python",
      "name": "python3"
    },
    "language_info": {
      "codemirror_mode": {
        "name": "ipython",
        "version": 3
      },
      "file_extension": ".py",
      "mimetype": "text/x-python",
      "name": "python",
      "nbconvert_exporter": "python",
      "pygments_lexer": "ipython3",
      "version": "3.7.3"
    },
    "colab": {
      "name": "modules_packages_chp4.ipynb",
      "provenance": [],
      "collapsed_sections": []
    }
  },
  "cells": [
    {
      "cell_type": "markdown",
      "metadata": {
        "id": "gJXPBS8NAIh4"
      },
      "source": [
        "<center> Business Analytics & Business Intelligence  <br>\n",
        "Deepak KC, deepak.kc@hamk.fi, 2020 <br> Modules and Packages in Python  </center>"
      ]
    },
    {
      "cell_type": "markdown",
      "metadata": {
        "id": "WguyVt3gAIh5"
      },
      "source": [
        "### Python Module\n",
        "\n",
        "A module is simply a text file named with a .py suffix, whose contents consist of Python code. It can be imported into an interactive console environment (e.g. a Jupyter notebook) or into another module. Importing a module executes that module’s code and produces a module-type object instance. Any variables that were assigned during the import are bound as attributes to that object.\n",
        "\n",
        "**Watch the video tutorial below to understand Python Module**\n",
        "https://www.youtube.com/watch?v=-jENvXPO2WQ\n"
      ]
    },
    {
      "cell_type": "markdown",
      "metadata": {
        "id": "VCbj9uMaAIh5"
      },
      "source": [
        "### Creating a Module\n",
        "\n",
        "Copy the following Python code in any of your text editor and save it as module.py\n",
        "At the time of installing anaconda, you have also installed Spyder IDE for Python. You can use that as well.\n",
        "\n",
        "#### # my first python module\n",
        "print(\"Hello World this is my first python module\")\n",
        "\n",
        "my_info = [\"Deepak\", \"00980\", \"Helsinki\"]\n",
        "\n",
        "def square(x):\n",
        "    return x ** 2\n",
        "\n",
        "def cube(x):\n",
        "    return x ** 3\n",
        "    \n",
        "## importing local python module\n",
        "\n",
        "Make sure that your module is located in the current working directory. You can check your current working directory by typing the following Python Code\n",
        "\n",
        "import os \n",
        "os.getcwd()\n",
        "\n",
        "Note:When you import a file, Python only searches the current directory, the directory that  script is running from, and sys.path which includes locations such as the package installation directory. Therefore, I recommend you to have your modules in the current directory or otherwise if it's in a separate directory, you need to add to the Python path at the run time \n",
        "\n",
        "### import module_file_name \n",
        "\n",
        "The above import does not entes the name of the functions defined in module directly in the current symbol table, it only enters the module named module. You can access the functions by using the module name \n",
        "\n",
        "#### module.square(25)\n",
        "\n",
        "To import names from a module directory \n",
        "\n",
        "#### from module import square,cube\n",
        "\n",
        "To import all names that a module defines\n",
        "\n",
        "#### from module import *\n",
        "Note: It is not a good practice to import with * from a module or package as it causes poorly readable code.\n",
        "\n",
        "The built in help function can help to summarize module's content. \n",
        "#### help(module)"
      ]
    },
    {
      "cell_type": "code",
      "metadata": {
        "scrolled": true,
        "id": "Oe99QIMoAIh6"
      },
      "source": [
        "import module"
      ],
      "execution_count": null,
      "outputs": []
    },
    {
      "cell_type": "code",
      "metadata": {
        "id": "4sgur_dMAIh9"
      },
      "source": [
        "import os\n",
        "os.getcwd()"
      ],
      "execution_count": null,
      "outputs": []
    },
    {
      "cell_type": "code",
      "metadata": {
        "id": "iHQdZT66AIh_"
      },
      "source": [
        "help(module)"
      ],
      "execution_count": null,
      "outputs": []
    },
    {
      "cell_type": "code",
      "metadata": {
        "id": "_LpJWQ7EAIiB"
      },
      "source": [
        "cube(3)"
      ],
      "execution_count": null,
      "outputs": []
    },
    {
      "cell_type": "code",
      "metadata": {
        "id": "kvKK2D99AIiD"
      },
      "source": [
        "module.cube(3)"
      ],
      "execution_count": null,
      "outputs": []
    },
    {
      "cell_type": "code",
      "metadata": {
        "id": "15PYaI1gAIiF"
      },
      "source": [
        "module.square(2)"
      ],
      "execution_count": null,
      "outputs": []
    },
    {
      "cell_type": "code",
      "metadata": {
        "id": "3q-ll2g0AIiH"
      },
      "source": [
        "from module import square"
      ],
      "execution_count": null,
      "outputs": []
    },
    {
      "cell_type": "code",
      "metadata": {
        "id": "OBUOA3DdAIiJ"
      },
      "source": [
        "square(2)"
      ],
      "execution_count": null,
      "outputs": []
    },
    {
      "cell_type": "code",
      "metadata": {
        "id": "_foDwyOqAIiM"
      },
      "source": [
        "from module import square, cube"
      ],
      "execution_count": null,
      "outputs": []
    },
    {
      "cell_type": "code",
      "metadata": {
        "id": "Ara0hm8hAIiO"
      },
      "source": [
        "cube(56)"
      ],
      "execution_count": null,
      "outputs": []
    },
    {
      "cell_type": "markdown",
      "metadata": {
        "id": "-_n6kFESBZB_"
      },
      "source": [
        "# Importing Modules \n",
        "\n",
        "* Python provides a flexible framework for importing modules such as Numpy or pandas\n",
        "* We can specify an alias in our import statement; this is convenient when importing modules with long names. "
      ]
    },
    {
      "cell_type": "code",
      "metadata": {
        "id": "JGYMaCQtCBDC",
        "colab": {
          "base_uri": "https://localhost:8080/"
        },
        "outputId": "18a6c054-10d2-42d6-be30-7bf4ff1c2f02"
      },
      "source": [
        "#lets import the numpy module with an alias np\n",
        "import numpy as np\n",
        "np.array([1,3])"
      ],
      "execution_count": null,
      "outputs": [
        {
          "output_type": "execute_result",
          "data": {
            "text/plain": [
              "array([1, 3])"
            ]
          },
          "metadata": {
            "tags": []
          },
          "execution_count": 1
        }
      ]
    },
    {
      "cell_type": "code",
      "metadata": {
        "id": "y8lbGtsLCV9s"
      },
      "source": [
        "# to import specific object from the module instead of importing the entiure module\n",
        "from numpy import random, array"
      ],
      "execution_count": null,
      "outputs": []
    },
    {
      "cell_type": "markdown",
      "metadata": {
        "id": "WdEHJbrcAIiQ"
      },
      "source": [
        "### Python Packages\n",
        "\n",
        "Packages are a way of structuring Python’s module namespace by using “dotted module names”. For example, the module name A.B designates a submodule named B in a package named A. Just like the use of modules saves the authors of different modules from having to worry about each other’s global variable names, the use of dotted module names saves the authors of multi-module packages like NumPy or Pillow from having to worry about each other’s module names.\n",
        "\n",
        "**Watch the video tutorial to understand Python Packages**\n",
        "https://www.youtube.com/watch?v=d7HV8xEvfsc\n",
        "\n",
        "### Creating a package\n",
        "- Create a folder named mypackage1 \n",
        "- Create an empty file and save it as __init__.py\n",
        "- Crete different modules mod1.py mod2.py mod3.py\n",
        "mypackage1/\n",
        "    __init__.py\n",
        "    mod1.py\n",
        "    mod2.py\n",
        "    mod3.py\n",
        "    subpackage/\n",
        "        __init__.py\n",
        "        mod4.py\n",
        "        mod5.py\n",
        "    subpackage1/\n",
        "        __init__.py\n",
        "        mod6.py\n",
        "        mod7.py\n",
        "        \n",
        "#### Codes for mod1.py\n",
        "    def fun11():\n",
        "        print(\"this statement is exceuted from module 1\")\n",
        "        \n",
        "#### Codes for mod2.py\n",
        "    def fun2():\n",
        "        print(\"this statement is exceuted from module 2\")\n",
        "    def happyBirthday(person):\n",
        "        print(\"Happy Birthday to you!\")\n",
        "        print(\"Happy Birthday to you!\")\n",
        "        print(\"Happy Birthday, dear \" + person + \".\")\n",
        "        print(\"Happy Birthday to you!\")\n",
        "\n",
        "    def main():\n",
        "        userName = input(\"Enter the Birthday person's name: \")\n",
        "        happyBirthday(userName)\n",
        "        \n",
        "#### Codes for mod3.py\n",
        "    def fun3():\n",
        "        print(\"this statement is exceuted from module 3\")\n",
        "        \n",
        "        \n",
        "#### Importing package\n",
        "\n",
        "When importing a package, Python looks through the directory on sys.path. The __init__.py file sérves as the indicator that this particular directory is to be treated as a package.\n",
        "\n",
        "import mypackage.mod1\n",
        "or \n",
        "from mypackage import mod1"
      ]
    },
    {
      "cell_type": "code",
      "metadata": {
        "id": "QT90_tgmAIiQ"
      },
      "source": [
        "import mypackage1 #importing a python package\n",
        "mypackage1.mod1.fun11()"
      ],
      "execution_count": null,
      "outputs": []
    },
    {
      "cell_type": "code",
      "metadata": {
        "id": "1DH2R6BdAIiS"
      },
      "source": [
        "import mypackage1.mod1 #to import enitre mod1 module"
      ],
      "execution_count": null,
      "outputs": []
    },
    {
      "cell_type": "code",
      "metadata": {
        "scrolled": true,
        "id": "inM9uZeqAIiU"
      },
      "source": [
        "mypackage1.mod1.fun11()"
      ],
      "execution_count": null,
      "outputs": []
    },
    {
      "cell_type": "code",
      "metadata": {
        "id": "_IaJCS_nAIiW"
      },
      "source": [
        "from mypackage1.mod2 import fun2 #importing a function"
      ],
      "execution_count": null,
      "outputs": []
    },
    {
      "cell_type": "code",
      "metadata": {
        "id": "CQ59AixcAIiY"
      },
      "source": [
        "from mypackage1.mod3 import fun3"
      ],
      "execution_count": null,
      "outputs": []
    },
    {
      "cell_type": "code",
      "metadata": {
        "id": "TP41TSoBAIiZ"
      },
      "source": [
        "fun3()"
      ],
      "execution_count": null,
      "outputs": []
    },
    {
      "cell_type": "code",
      "metadata": {
        "id": "sfBllf_UAIib"
      },
      "source": [
        "fun2()"
      ],
      "execution_count": null,
      "outputs": []
    },
    {
      "cell_type": "markdown",
      "metadata": {
        "id": "38zxa-_Omwqc"
      },
      "source": [
        "# Installing Conda Packages\n",
        "\n",
        "- Conda is an open source package management system and environment management system that runs on Windows, macOS and Linux.\n",
        "- Conda quickly installs, runs and updates packages and their dependencies.\n",
        "- Conda as a package manager helps you find and install packages\n",
        "- The conda package and environment manager is included in all versions of Anaconda\n",
        "\n",
        "Read More: https://docs.conda.io/en/latest/\n",
        "\n",
        "### Installing conda packages \n",
        "\n",
        "1. Open an Anaconda Prompt in Windows (terminal on Linux or macOS) \n",
        "2. Include the desired version number or its prefix after the package name:  **conda install package-name=2.3.4**\n",
        "3. To specify only a major version: **conda install package-name=2**\n",
        "\n",
        "***List of conda pacakges: https://docs.anaconda.com/anaconda/packages/pkg-docs/***\n",
        "\n",
        "\n",
        "Practice by installing a few pacakges that are useful for data analysis: \n",
        "- Pandas\n",
        "- Numpy\n",
        "- Scipy\n",
        "- Matplotlib for visualization"
      ]
    },
    {
      "cell_type": "code",
      "metadata": {
        "id": "l9s-m8tXnGCG"
      },
      "source": [
        "import pandas as pd\n",
        "import numpy as np\n",
        "df = pd.read_excel('anyfile.xlsx')\n",
        "print(df.head)"
      ],
      "execution_count": null,
      "outputs": []
    },
    {
      "cell_type": "code",
      "metadata": {
        "id": "O0T32Zo3oRO2",
        "colab": {
          "base_uri": "https://localhost:8080/",
          "height": 153
        },
        "outputId": "88811a96-9772-48db-f33c-7c30302b0a86"
      },
      "source": [
        "import pandas as pd\n",
        "import numpy as np\n",
        "df = pd.read_csv('https://gist.githubusercontent.com/michhar/2dfd2de0d4f8727f873422c5d959fff5/raw/fa71405126017e6a37bea592440b4bee94bf7b9e/titanic.csv')\n",
        "print(\"Example of data objects: Each row represents a data object:\")\n",
        "df.head(3)\n"
      ],
      "execution_count": null,
      "outputs": [
        {
          "output_type": "stream",
          "text": [
            "Example of data objects: Each row represents a data object:\n"
          ],
          "name": "stdout"
        },
        {
          "output_type": "execute_result",
          "data": {
            "text/html": [
              "<div>\n",
              "<style scoped>\n",
              "    .dataframe tbody tr th:only-of-type {\n",
              "        vertical-align: middle;\n",
              "    }\n",
              "\n",
              "    .dataframe tbody tr th {\n",
              "        vertical-align: top;\n",
              "    }\n",
              "\n",
              "    .dataframe thead th {\n",
              "        text-align: right;\n",
              "    }\n",
              "</style>\n",
              "<table border=\"1\" class=\"dataframe\">\n",
              "  <thead>\n",
              "    <tr style=\"text-align: right;\">\n",
              "      <th></th>\n",
              "      <th>PassengerId</th>\n",
              "      <th>Survived</th>\n",
              "      <th>Pclass</th>\n",
              "      <th>Name</th>\n",
              "      <th>Sex</th>\n",
              "      <th>Age</th>\n",
              "      <th>SibSp</th>\n",
              "      <th>Parch</th>\n",
              "      <th>Ticket</th>\n",
              "      <th>Fare</th>\n",
              "      <th>Cabin</th>\n",
              "      <th>Embarked</th>\n",
              "    </tr>\n",
              "  </thead>\n",
              "  <tbody>\n",
              "    <tr>\n",
              "      <th>0</th>\n",
              "      <td>1</td>\n",
              "      <td>0</td>\n",
              "      <td>3</td>\n",
              "      <td>Braund, Mr. Owen Harris</td>\n",
              "      <td>male</td>\n",
              "      <td>22.0</td>\n",
              "      <td>1</td>\n",
              "      <td>0</td>\n",
              "      <td>A/5 21171</td>\n",
              "      <td>7.2500</td>\n",
              "      <td>NaN</td>\n",
              "      <td>S</td>\n",
              "    </tr>\n",
              "    <tr>\n",
              "      <th>1</th>\n",
              "      <td>2</td>\n",
              "      <td>1</td>\n",
              "      <td>1</td>\n",
              "      <td>Cumings, Mrs. John Bradley (Florence Briggs Th...</td>\n",
              "      <td>female</td>\n",
              "      <td>38.0</td>\n",
              "      <td>1</td>\n",
              "      <td>0</td>\n",
              "      <td>PC 17599</td>\n",
              "      <td>71.2833</td>\n",
              "      <td>C85</td>\n",
              "      <td>C</td>\n",
              "    </tr>\n",
              "    <tr>\n",
              "      <th>2</th>\n",
              "      <td>3</td>\n",
              "      <td>1</td>\n",
              "      <td>3</td>\n",
              "      <td>Heikkinen, Miss. Laina</td>\n",
              "      <td>female</td>\n",
              "      <td>26.0</td>\n",
              "      <td>0</td>\n",
              "      <td>0</td>\n",
              "      <td>STON/O2. 3101282</td>\n",
              "      <td>7.9250</td>\n",
              "      <td>NaN</td>\n",
              "      <td>S</td>\n",
              "    </tr>\n",
              "  </tbody>\n",
              "</table>\n",
              "</div>"
            ],
            "text/plain": [
              "   PassengerId  Survived  Pclass  ...     Fare Cabin  Embarked\n",
              "0            1         0       3  ...   7.2500   NaN         S\n",
              "1            2         1       1  ...  71.2833   C85         C\n",
              "2            3         1       3  ...   7.9250   NaN         S\n",
              "\n",
              "[3 rows x 12 columns]"
            ]
          },
          "metadata": {
            "tags": []
          },
          "execution_count": 2
        }
      ]
    }
  ]
}