{
 "cells": [
  {
   "cell_type": "code",
   "execution_count": 11,
   "metadata": {},
   "outputs": [
    {
     "data": {
      "text/html": [
       "        <script type=\"text/javascript\">\n",
       "        window.PlotlyConfig = {MathJaxConfig: 'local'};\n",
       "        if (window.MathJax) {MathJax.Hub.Config({SVG: {font: \"STIX-Web\"}});}\n",
       "        if (typeof require !== 'undefined') {\n",
       "        require.undef(\"plotly\");\n",
       "        requirejs.config({\n",
       "            paths: {\n",
       "                'plotly': ['https://cdn.plot.ly/plotly-2.3.1.min']\n",
       "            }\n",
       "        });\n",
       "        require(['plotly'], function(Plotly) {\n",
       "            window._Plotly = Plotly;\n",
       "        });\n",
       "        }\n",
       "        </script>\n",
       "        "
      ]
     },
     "metadata": {},
     "output_type": "display_data"
    }
   ],
   "source": [
    "#importing Pandas \n",
    "import pandas as pd\n",
    "import numpy as np\n",
    "#importing plotly and cufflinks in offline mode\n",
    "import cufflinks as cf\n",
    "import plotly.offline\n",
    "cf.go_offline()\n",
    "cf.set_config_file(offline=False, world_readable=True)\n",
    "import plotly.graph_objs as go"
   ]
  },
  {
   "cell_type": "markdown",
   "metadata": {},
   "source": [
    "#This dataset contains information on all 802 Pokemon from all Seven Generations of Pokemon. \n",
    "#The information contained in this dataset include Base Stats, Performance against Other Types, Height, Weight, Classification, Egg Steps, Experience Points, Abilities, etc. The information was scraped from http://serebii.net/"
   ]
  },
  {
   "cell_type": "code",
   "execution_count": 2,
   "metadata": {},
   "outputs": [
    {
     "data": {
      "text/html": [
       "<div>\n",
       "<style scoped>\n",
       "    .dataframe tbody tr th:only-of-type {\n",
       "        vertical-align: middle;\n",
       "    }\n",
       "\n",
       "    .dataframe tbody tr th {\n",
       "        vertical-align: top;\n",
       "    }\n",
       "\n",
       "    .dataframe thead th {\n",
       "        text-align: right;\n",
       "    }\n",
       "</style>\n",
       "<table border=\"1\" class=\"dataframe\">\n",
       "  <thead>\n",
       "    <tr style=\"text-align: right;\">\n",
       "      <th></th>\n",
       "      <th>#</th>\n",
       "      <th>Name</th>\n",
       "      <th>Type 1</th>\n",
       "      <th>Type 2</th>\n",
       "      <th>Total</th>\n",
       "      <th>HP</th>\n",
       "      <th>Attack</th>\n",
       "      <th>Defense</th>\n",
       "      <th>Sp. Atk</th>\n",
       "      <th>Sp. Def</th>\n",
       "      <th>Speed</th>\n",
       "      <th>Generation</th>\n",
       "      <th>Legendary</th>\n",
       "    </tr>\n",
       "  </thead>\n",
       "  <tbody>\n",
       "    <tr>\n",
       "      <th>0</th>\n",
       "      <td>1</td>\n",
       "      <td>Bulbasaur</td>\n",
       "      <td>Grass</td>\n",
       "      <td>Poison</td>\n",
       "      <td>318</td>\n",
       "      <td>45</td>\n",
       "      <td>49</td>\n",
       "      <td>49</td>\n",
       "      <td>65</td>\n",
       "      <td>65</td>\n",
       "      <td>45</td>\n",
       "      <td>1</td>\n",
       "      <td>False</td>\n",
       "    </tr>\n",
       "    <tr>\n",
       "      <th>1</th>\n",
       "      <td>2</td>\n",
       "      <td>Ivysaur</td>\n",
       "      <td>Grass</td>\n",
       "      <td>Poison</td>\n",
       "      <td>405</td>\n",
       "      <td>60</td>\n",
       "      <td>62</td>\n",
       "      <td>63</td>\n",
       "      <td>80</td>\n",
       "      <td>80</td>\n",
       "      <td>60</td>\n",
       "      <td>1</td>\n",
       "      <td>False</td>\n",
       "    </tr>\n",
       "    <tr>\n",
       "      <th>2</th>\n",
       "      <td>3</td>\n",
       "      <td>Venusaur</td>\n",
       "      <td>Grass</td>\n",
       "      <td>Poison</td>\n",
       "      <td>525</td>\n",
       "      <td>80</td>\n",
       "      <td>82</td>\n",
       "      <td>83</td>\n",
       "      <td>100</td>\n",
       "      <td>100</td>\n",
       "      <td>80</td>\n",
       "      <td>1</td>\n",
       "      <td>False</td>\n",
       "    </tr>\n",
       "    <tr>\n",
       "      <th>3</th>\n",
       "      <td>3</td>\n",
       "      <td>VenusaurMega Venusaur</td>\n",
       "      <td>Grass</td>\n",
       "      <td>Poison</td>\n",
       "      <td>625</td>\n",
       "      <td>80</td>\n",
       "      <td>100</td>\n",
       "      <td>123</td>\n",
       "      <td>122</td>\n",
       "      <td>120</td>\n",
       "      <td>80</td>\n",
       "      <td>1</td>\n",
       "      <td>False</td>\n",
       "    </tr>\n",
       "    <tr>\n",
       "      <th>4</th>\n",
       "      <td>4</td>\n",
       "      <td>Charmander</td>\n",
       "      <td>Fire</td>\n",
       "      <td>NaN</td>\n",
       "      <td>309</td>\n",
       "      <td>39</td>\n",
       "      <td>52</td>\n",
       "      <td>43</td>\n",
       "      <td>60</td>\n",
       "      <td>50</td>\n",
       "      <td>65</td>\n",
       "      <td>1</td>\n",
       "      <td>False</td>\n",
       "    </tr>\n",
       "  </tbody>\n",
       "</table>\n",
       "</div>"
      ],
      "text/plain": [
       "   #                   Name Type 1  Type 2  Total  HP  Attack  Defense  \\\n",
       "0  1              Bulbasaur  Grass  Poison    318  45      49       49   \n",
       "1  2                Ivysaur  Grass  Poison    405  60      62       63   \n",
       "2  3               Venusaur  Grass  Poison    525  80      82       83   \n",
       "3  3  VenusaurMega Venusaur  Grass  Poison    625  80     100      123   \n",
       "4  4             Charmander   Fire     NaN    309  39      52       43   \n",
       "\n",
       "   Sp. Atk  Sp. Def  Speed  Generation  Legendary  \n",
       "0       65       65     45           1      False  \n",
       "1       80       80     60           1      False  \n",
       "2      100      100     80           1      False  \n",
       "3      122      120     80           1      False  \n",
       "4       60       50     65           1      False  "
      ]
     },
     "execution_count": 2,
     "metadata": {},
     "output_type": "execute_result"
    }
   ],
   "source": [
    "df1=pd.read_csv(\"Pokemon.csv\")\n",
    "df1.head()"
   ]
  },
  {
   "cell_type": "markdown",
   "metadata": {},
   "source": [
    "#It is good habbit to have a good look at the data in the beginning itself so that we can plan our process"
   ]
  },
  {
   "cell_type": "markdown",
   "metadata": {},
   "source": [
    "# we can see all the different columns and we can also see that one pokemon has type 2 value missing\n",
    "#lets investigate further"
   ]
  },
  {
   "cell_type": "code",
   "execution_count": 3,
   "metadata": {},
   "outputs": [
    {
     "name": "stdout",
     "output_type": "stream",
     "text": [
      "<class 'pandas.core.frame.DataFrame'>\n",
      "RangeIndex: 800 entries, 0 to 799\n",
      "Data columns (total 13 columns):\n",
      " #   Column      Non-Null Count  Dtype \n",
      "---  ------      --------------  ----- \n",
      " 0   #           800 non-null    int64 \n",
      " 1   Name        800 non-null    object\n",
      " 2   Type 1      800 non-null    object\n",
      " 3   Type 2      414 non-null    object\n",
      " 4   Total       800 non-null    int64 \n",
      " 5   HP          800 non-null    int64 \n",
      " 6   Attack      800 non-null    int64 \n",
      " 7   Defense     800 non-null    int64 \n",
      " 8   Sp. Atk     800 non-null    int64 \n",
      " 9   Sp. Def     800 non-null    int64 \n",
      " 10  Speed       800 non-null    int64 \n",
      " 11  Generation  800 non-null    int64 \n",
      " 12  Legendary   800 non-null    bool  \n",
      "dtypes: bool(1), int64(9), object(3)\n",
      "memory usage: 75.9+ KB\n"
     ]
    }
   ],
   "source": [
    "#Check the datatype and number of columns\n",
    "df1.info()"
   ]
  },
  {
   "cell_type": "code",
   "execution_count": 4,
   "metadata": {},
   "outputs": [
    {
     "data": {
      "text/html": [
       "<div>\n",
       "<style scoped>\n",
       "    .dataframe tbody tr th:only-of-type {\n",
       "        vertical-align: middle;\n",
       "    }\n",
       "\n",
       "    .dataframe tbody tr th {\n",
       "        vertical-align: top;\n",
       "    }\n",
       "\n",
       "    .dataframe thead th {\n",
       "        text-align: right;\n",
       "    }\n",
       "</style>\n",
       "<table border=\"1\" class=\"dataframe\">\n",
       "  <thead>\n",
       "    <tr style=\"text-align: right;\">\n",
       "      <th></th>\n",
       "      <th>#</th>\n",
       "      <th>Total</th>\n",
       "      <th>HP</th>\n",
       "      <th>Attack</th>\n",
       "      <th>Defense</th>\n",
       "      <th>Sp. Atk</th>\n",
       "      <th>Sp. Def</th>\n",
       "      <th>Speed</th>\n",
       "      <th>Generation</th>\n",
       "    </tr>\n",
       "  </thead>\n",
       "  <tbody>\n",
       "    <tr>\n",
       "      <th>count</th>\n",
       "      <td>800.000000</td>\n",
       "      <td>800.00000</td>\n",
       "      <td>800.000000</td>\n",
       "      <td>800.000000</td>\n",
       "      <td>800.000000</td>\n",
       "      <td>800.000000</td>\n",
       "      <td>800.000000</td>\n",
       "      <td>800.000000</td>\n",
       "      <td>800.00000</td>\n",
       "    </tr>\n",
       "    <tr>\n",
       "      <th>mean</th>\n",
       "      <td>362.813750</td>\n",
       "      <td>435.10250</td>\n",
       "      <td>69.258750</td>\n",
       "      <td>79.001250</td>\n",
       "      <td>73.842500</td>\n",
       "      <td>72.820000</td>\n",
       "      <td>71.902500</td>\n",
       "      <td>68.277500</td>\n",
       "      <td>3.32375</td>\n",
       "    </tr>\n",
       "    <tr>\n",
       "      <th>std</th>\n",
       "      <td>208.343798</td>\n",
       "      <td>119.96304</td>\n",
       "      <td>25.534669</td>\n",
       "      <td>32.457366</td>\n",
       "      <td>31.183501</td>\n",
       "      <td>32.722294</td>\n",
       "      <td>27.828916</td>\n",
       "      <td>29.060474</td>\n",
       "      <td>1.66129</td>\n",
       "    </tr>\n",
       "    <tr>\n",
       "      <th>min</th>\n",
       "      <td>1.000000</td>\n",
       "      <td>180.00000</td>\n",
       "      <td>1.000000</td>\n",
       "      <td>5.000000</td>\n",
       "      <td>5.000000</td>\n",
       "      <td>10.000000</td>\n",
       "      <td>20.000000</td>\n",
       "      <td>5.000000</td>\n",
       "      <td>1.00000</td>\n",
       "    </tr>\n",
       "    <tr>\n",
       "      <th>25%</th>\n",
       "      <td>184.750000</td>\n",
       "      <td>330.00000</td>\n",
       "      <td>50.000000</td>\n",
       "      <td>55.000000</td>\n",
       "      <td>50.000000</td>\n",
       "      <td>49.750000</td>\n",
       "      <td>50.000000</td>\n",
       "      <td>45.000000</td>\n",
       "      <td>2.00000</td>\n",
       "    </tr>\n",
       "    <tr>\n",
       "      <th>50%</th>\n",
       "      <td>364.500000</td>\n",
       "      <td>450.00000</td>\n",
       "      <td>65.000000</td>\n",
       "      <td>75.000000</td>\n",
       "      <td>70.000000</td>\n",
       "      <td>65.000000</td>\n",
       "      <td>70.000000</td>\n",
       "      <td>65.000000</td>\n",
       "      <td>3.00000</td>\n",
       "    </tr>\n",
       "    <tr>\n",
       "      <th>75%</th>\n",
       "      <td>539.250000</td>\n",
       "      <td>515.00000</td>\n",
       "      <td>80.000000</td>\n",
       "      <td>100.000000</td>\n",
       "      <td>90.000000</td>\n",
       "      <td>95.000000</td>\n",
       "      <td>90.000000</td>\n",
       "      <td>90.000000</td>\n",
       "      <td>5.00000</td>\n",
       "    </tr>\n",
       "    <tr>\n",
       "      <th>max</th>\n",
       "      <td>721.000000</td>\n",
       "      <td>780.00000</td>\n",
       "      <td>255.000000</td>\n",
       "      <td>190.000000</td>\n",
       "      <td>230.000000</td>\n",
       "      <td>194.000000</td>\n",
       "      <td>230.000000</td>\n",
       "      <td>180.000000</td>\n",
       "      <td>6.00000</td>\n",
       "    </tr>\n",
       "  </tbody>\n",
       "</table>\n",
       "</div>"
      ],
      "text/plain": [
       "                #      Total          HP      Attack     Defense     Sp. Atk  \\\n",
       "count  800.000000  800.00000  800.000000  800.000000  800.000000  800.000000   \n",
       "mean   362.813750  435.10250   69.258750   79.001250   73.842500   72.820000   \n",
       "std    208.343798  119.96304   25.534669   32.457366   31.183501   32.722294   \n",
       "min      1.000000  180.00000    1.000000    5.000000    5.000000   10.000000   \n",
       "25%    184.750000  330.00000   50.000000   55.000000   50.000000   49.750000   \n",
       "50%    364.500000  450.00000   65.000000   75.000000   70.000000   65.000000   \n",
       "75%    539.250000  515.00000   80.000000  100.000000   90.000000   95.000000   \n",
       "max    721.000000  780.00000  255.000000  190.000000  230.000000  194.000000   \n",
       "\n",
       "          Sp. Def       Speed  Generation  \n",
       "count  800.000000  800.000000   800.00000  \n",
       "mean    71.902500   68.277500     3.32375  \n",
       "std     27.828916   29.060474     1.66129  \n",
       "min     20.000000    5.000000     1.00000  \n",
       "25%     50.000000   45.000000     2.00000  \n",
       "50%     70.000000   65.000000     3.00000  \n",
       "75%     90.000000   90.000000     5.00000  \n",
       "max    230.000000  180.000000     6.00000  "
      ]
     },
     "execution_count": 4,
     "metadata": {},
     "output_type": "execute_result"
    }
   ],
   "source": [
    "df1.describe()"
   ]
  },
  {
   "cell_type": "markdown",
   "metadata": {},
   "source": [
    "#we can see the maximum , minimum, mean, std.... all the value and can have some idea about the range of the all numerical fields"
   ]
  },
  {
   "cell_type": "markdown",
   "metadata": {},
   "source": [
    "Let's run a few more bar-chart examples to visualize the strength differences between different Pokemon types."
   ]
  },
  {
   "cell_type": "code",
   "execution_count": 5,
   "metadata": {},
   "outputs": [
    {
     "data": {
      "application/vnd.plotly.v1+json": {
       "config": {
        "linkText": "Export to plot.ly",
        "plotlyServerURL": "https://plot.ly",
        "showLink": true
       },
       "data": [
        {
         "marker": {
          "color": "rgba(252, 141, 89, 0.6)",
          "line": {
           "color": "rgba(252, 141, 89, 1.0)",
           "width": 1
          }
         },
         "name": "Attack",
         "orientation": "h",
         "text": "",
         "type": "bar",
         "x": [
          70.97101449275362,
          88.38709677419355,
          112.125,
          69.0909090909091,
          61.529411764705884,
          96.77777777777777,
          84.76923076923077,
          78.75,
          73.78125,
          73.21428571428571,
          95.75,
          72.75,
          73.46938775510205,
          74.67857142857143,
          71.45614035087719,
          92.86363636363636,
          92.70370370370371,
          74.15178571428571
         ],
         "y": [
          "Bug",
          "Dark",
          "Dragon",
          "Electric",
          "Fairy",
          "Fighting",
          "Fire",
          "Flying",
          "Ghost",
          "Grass",
          "Ground",
          "Ice",
          "Normal",
          "Poison",
          "Psychic",
          "Rock",
          "Steel",
          "Water"
         ]
        }
       ],
       "layout": {
        "legend": {
         "bgcolor": "#F5F6F9",
         "font": {
          "color": "#4D5663"
         }
        },
        "paper_bgcolor": "#F5F6F9",
        "plot_bgcolor": "#F5F6F9",
        "template": {
         "data": {
          "bar": [
           {
            "error_x": {
             "color": "#2a3f5f"
            },
            "error_y": {
             "color": "#2a3f5f"
            },
            "marker": {
             "line": {
              "color": "#E5ECF6",
              "width": 0.5
             },
             "pattern": {
              "fillmode": "overlay",
              "size": 10,
              "solidity": 0.2
             }
            },
            "type": "bar"
           }
          ],
          "barpolar": [
           {
            "marker": {
             "line": {
              "color": "#E5ECF6",
              "width": 0.5
             },
             "pattern": {
              "fillmode": "overlay",
              "size": 10,
              "solidity": 0.2
             }
            },
            "type": "barpolar"
           }
          ],
          "carpet": [
           {
            "aaxis": {
             "endlinecolor": "#2a3f5f",
             "gridcolor": "white",
             "linecolor": "white",
             "minorgridcolor": "white",
             "startlinecolor": "#2a3f5f"
            },
            "baxis": {
             "endlinecolor": "#2a3f5f",
             "gridcolor": "white",
             "linecolor": "white",
             "minorgridcolor": "white",
             "startlinecolor": "#2a3f5f"
            },
            "type": "carpet"
           }
          ],
          "choropleth": [
           {
            "colorbar": {
             "outlinewidth": 0,
             "ticks": ""
            },
            "type": "choropleth"
           }
          ],
          "contour": [
           {
            "colorbar": {
             "outlinewidth": 0,
             "ticks": ""
            },
            "colorscale": [
             [
              0,
              "#0d0887"
             ],
             [
              0.1111111111111111,
              "#46039f"
             ],
             [
              0.2222222222222222,
              "#7201a8"
             ],
             [
              0.3333333333333333,
              "#9c179e"
             ],
             [
              0.4444444444444444,
              "#bd3786"
             ],
             [
              0.5555555555555556,
              "#d8576b"
             ],
             [
              0.6666666666666666,
              "#ed7953"
             ],
             [
              0.7777777777777778,
              "#fb9f3a"
             ],
             [
              0.8888888888888888,
              "#fdca26"
             ],
             [
              1,
              "#f0f921"
             ]
            ],
            "type": "contour"
           }
          ],
          "contourcarpet": [
           {
            "colorbar": {
             "outlinewidth": 0,
             "ticks": ""
            },
            "type": "contourcarpet"
           }
          ],
          "heatmap": [
           {
            "colorbar": {
             "outlinewidth": 0,
             "ticks": ""
            },
            "colorscale": [
             [
              0,
              "#0d0887"
             ],
             [
              0.1111111111111111,
              "#46039f"
             ],
             [
              0.2222222222222222,
              "#7201a8"
             ],
             [
              0.3333333333333333,
              "#9c179e"
             ],
             [
              0.4444444444444444,
              "#bd3786"
             ],
             [
              0.5555555555555556,
              "#d8576b"
             ],
             [
              0.6666666666666666,
              "#ed7953"
             ],
             [
              0.7777777777777778,
              "#fb9f3a"
             ],
             [
              0.8888888888888888,
              "#fdca26"
             ],
             [
              1,
              "#f0f921"
             ]
            ],
            "type": "heatmap"
           }
          ],
          "heatmapgl": [
           {
            "colorbar": {
             "outlinewidth": 0,
             "ticks": ""
            },
            "colorscale": [
             [
              0,
              "#0d0887"
             ],
             [
              0.1111111111111111,
              "#46039f"
             ],
             [
              0.2222222222222222,
              "#7201a8"
             ],
             [
              0.3333333333333333,
              "#9c179e"
             ],
             [
              0.4444444444444444,
              "#bd3786"
             ],
             [
              0.5555555555555556,
              "#d8576b"
             ],
             [
              0.6666666666666666,
              "#ed7953"
             ],
             [
              0.7777777777777778,
              "#fb9f3a"
             ],
             [
              0.8888888888888888,
              "#fdca26"
             ],
             [
              1,
              "#f0f921"
             ]
            ],
            "type": "heatmapgl"
           }
          ],
          "histogram": [
           {
            "marker": {
             "pattern": {
              "fillmode": "overlay",
              "size": 10,
              "solidity": 0.2
             }
            },
            "type": "histogram"
           }
          ],
          "histogram2d": [
           {
            "colorbar": {
             "outlinewidth": 0,
             "ticks": ""
            },
            "colorscale": [
             [
              0,
              "#0d0887"
             ],
             [
              0.1111111111111111,
              "#46039f"
             ],
             [
              0.2222222222222222,
              "#7201a8"
             ],
             [
              0.3333333333333333,
              "#9c179e"
             ],
             [
              0.4444444444444444,
              "#bd3786"
             ],
             [
              0.5555555555555556,
              "#d8576b"
             ],
             [
              0.6666666666666666,
              "#ed7953"
             ],
             [
              0.7777777777777778,
              "#fb9f3a"
             ],
             [
              0.8888888888888888,
              "#fdca26"
             ],
             [
              1,
              "#f0f921"
             ]
            ],
            "type": "histogram2d"
           }
          ],
          "histogram2dcontour": [
           {
            "colorbar": {
             "outlinewidth": 0,
             "ticks": ""
            },
            "colorscale": [
             [
              0,
              "#0d0887"
             ],
             [
              0.1111111111111111,
              "#46039f"
             ],
             [
              0.2222222222222222,
              "#7201a8"
             ],
             [
              0.3333333333333333,
              "#9c179e"
             ],
             [
              0.4444444444444444,
              "#bd3786"
             ],
             [
              0.5555555555555556,
              "#d8576b"
             ],
             [
              0.6666666666666666,
              "#ed7953"
             ],
             [
              0.7777777777777778,
              "#fb9f3a"
             ],
             [
              0.8888888888888888,
              "#fdca26"
             ],
             [
              1,
              "#f0f921"
             ]
            ],
            "type": "histogram2dcontour"
           }
          ],
          "mesh3d": [
           {
            "colorbar": {
             "outlinewidth": 0,
             "ticks": ""
            },
            "type": "mesh3d"
           }
          ],
          "parcoords": [
           {
            "line": {
             "colorbar": {
              "outlinewidth": 0,
              "ticks": ""
             }
            },
            "type": "parcoords"
           }
          ],
          "pie": [
           {
            "automargin": true,
            "type": "pie"
           }
          ],
          "scatter": [
           {
            "marker": {
             "colorbar": {
              "outlinewidth": 0,
              "ticks": ""
             }
            },
            "type": "scatter"
           }
          ],
          "scatter3d": [
           {
            "line": {
             "colorbar": {
              "outlinewidth": 0,
              "ticks": ""
             }
            },
            "marker": {
             "colorbar": {
              "outlinewidth": 0,
              "ticks": ""
             }
            },
            "type": "scatter3d"
           }
          ],
          "scattercarpet": [
           {
            "marker": {
             "colorbar": {
              "outlinewidth": 0,
              "ticks": ""
             }
            },
            "type": "scattercarpet"
           }
          ],
          "scattergeo": [
           {
            "marker": {
             "colorbar": {
              "outlinewidth": 0,
              "ticks": ""
             }
            },
            "type": "scattergeo"
           }
          ],
          "scattergl": [
           {
            "marker": {
             "colorbar": {
              "outlinewidth": 0,
              "ticks": ""
             }
            },
            "type": "scattergl"
           }
          ],
          "scattermapbox": [
           {
            "marker": {
             "colorbar": {
              "outlinewidth": 0,
              "ticks": ""
             }
            },
            "type": "scattermapbox"
           }
          ],
          "scatterpolar": [
           {
            "marker": {
             "colorbar": {
              "outlinewidth": 0,
              "ticks": ""
             }
            },
            "type": "scatterpolar"
           }
          ],
          "scatterpolargl": [
           {
            "marker": {
             "colorbar": {
              "outlinewidth": 0,
              "ticks": ""
             }
            },
            "type": "scatterpolargl"
           }
          ],
          "scatterternary": [
           {
            "marker": {
             "colorbar": {
              "outlinewidth": 0,
              "ticks": ""
             }
            },
            "type": "scatterternary"
           }
          ],
          "surface": [
           {
            "colorbar": {
             "outlinewidth": 0,
             "ticks": ""
            },
            "colorscale": [
             [
              0,
              "#0d0887"
             ],
             [
              0.1111111111111111,
              "#46039f"
             ],
             [
              0.2222222222222222,
              "#7201a8"
             ],
             [
              0.3333333333333333,
              "#9c179e"
             ],
             [
              0.4444444444444444,
              "#bd3786"
             ],
             [
              0.5555555555555556,
              "#d8576b"
             ],
             [
              0.6666666666666666,
              "#ed7953"
             ],
             [
              0.7777777777777778,
              "#fb9f3a"
             ],
             [
              0.8888888888888888,
              "#fdca26"
             ],
             [
              1,
              "#f0f921"
             ]
            ],
            "type": "surface"
           }
          ],
          "table": [
           {
            "cells": {
             "fill": {
              "color": "#EBF0F8"
             },
             "line": {
              "color": "white"
             }
            },
            "header": {
             "fill": {
              "color": "#C8D4E3"
             },
             "line": {
              "color": "white"
             }
            },
            "type": "table"
           }
          ]
         },
         "layout": {
          "annotationdefaults": {
           "arrowcolor": "#2a3f5f",
           "arrowhead": 0,
           "arrowwidth": 1
          },
          "autotypenumbers": "strict",
          "coloraxis": {
           "colorbar": {
            "outlinewidth": 0,
            "ticks": ""
           }
          },
          "colorscale": {
           "diverging": [
            [
             0,
             "#8e0152"
            ],
            [
             0.1,
             "#c51b7d"
            ],
            [
             0.2,
             "#de77ae"
            ],
            [
             0.3,
             "#f1b6da"
            ],
            [
             0.4,
             "#fde0ef"
            ],
            [
             0.5,
             "#f7f7f7"
            ],
            [
             0.6,
             "#e6f5d0"
            ],
            [
             0.7,
             "#b8e186"
            ],
            [
             0.8,
             "#7fbc41"
            ],
            [
             0.9,
             "#4d9221"
            ],
            [
             1,
             "#276419"
            ]
           ],
           "sequential": [
            [
             0,
             "#0d0887"
            ],
            [
             0.1111111111111111,
             "#46039f"
            ],
            [
             0.2222222222222222,
             "#7201a8"
            ],
            [
             0.3333333333333333,
             "#9c179e"
            ],
            [
             0.4444444444444444,
             "#bd3786"
            ],
            [
             0.5555555555555556,
             "#d8576b"
            ],
            [
             0.6666666666666666,
             "#ed7953"
            ],
            [
             0.7777777777777778,
             "#fb9f3a"
            ],
            [
             0.8888888888888888,
             "#fdca26"
            ],
            [
             1,
             "#f0f921"
            ]
           ],
           "sequentialminus": [
            [
             0,
             "#0d0887"
            ],
            [
             0.1111111111111111,
             "#46039f"
            ],
            [
             0.2222222222222222,
             "#7201a8"
            ],
            [
             0.3333333333333333,
             "#9c179e"
            ],
            [
             0.4444444444444444,
             "#bd3786"
            ],
            [
             0.5555555555555556,
             "#d8576b"
            ],
            [
             0.6666666666666666,
             "#ed7953"
            ],
            [
             0.7777777777777778,
             "#fb9f3a"
            ],
            [
             0.8888888888888888,
             "#fdca26"
            ],
            [
             1,
             "#f0f921"
            ]
           ]
          },
          "colorway": [
           "#636efa",
           "#EF553B",
           "#00cc96",
           "#ab63fa",
           "#FFA15A",
           "#19d3f3",
           "#FF6692",
           "#B6E880",
           "#FF97FF",
           "#FECB52"
          ],
          "font": {
           "color": "#2a3f5f"
          },
          "geo": {
           "bgcolor": "white",
           "lakecolor": "white",
           "landcolor": "#E5ECF6",
           "showlakes": true,
           "showland": true,
           "subunitcolor": "white"
          },
          "hoverlabel": {
           "align": "left"
          },
          "hovermode": "closest",
          "mapbox": {
           "style": "light"
          },
          "paper_bgcolor": "white",
          "plot_bgcolor": "#E5ECF6",
          "polar": {
           "angularaxis": {
            "gridcolor": "white",
            "linecolor": "white",
            "ticks": ""
           },
           "bgcolor": "#E5ECF6",
           "radialaxis": {
            "gridcolor": "white",
            "linecolor": "white",
            "ticks": ""
           }
          },
          "scene": {
           "xaxis": {
            "backgroundcolor": "#E5ECF6",
            "gridcolor": "white",
            "gridwidth": 2,
            "linecolor": "white",
            "showbackground": true,
            "ticks": "",
            "zerolinecolor": "white"
           },
           "yaxis": {
            "backgroundcolor": "#E5ECF6",
            "gridcolor": "white",
            "gridwidth": 2,
            "linecolor": "white",
            "showbackground": true,
            "ticks": "",
            "zerolinecolor": "white"
           },
           "zaxis": {
            "backgroundcolor": "#E5ECF6",
            "gridcolor": "white",
            "gridwidth": 2,
            "linecolor": "white",
            "showbackground": true,
            "ticks": "",
            "zerolinecolor": "white"
           }
          },
          "shapedefaults": {
           "line": {
            "color": "#2a3f5f"
           }
          },
          "ternary": {
           "aaxis": {
            "gridcolor": "white",
            "linecolor": "white",
            "ticks": ""
           },
           "baxis": {
            "gridcolor": "white",
            "linecolor": "white",
            "ticks": ""
           },
           "bgcolor": "#E5ECF6",
           "caxis": {
            "gridcolor": "white",
            "linecolor": "white",
            "ticks": ""
           }
          },
          "title": {
           "x": 0.05
          },
          "xaxis": {
           "automargin": true,
           "gridcolor": "white",
           "linecolor": "white",
           "ticks": "",
           "title": {
            "standoff": 15
           },
           "zerolinecolor": "white",
           "zerolinewidth": 2
          },
          "yaxis": {
           "automargin": true,
           "gridcolor": "white",
           "linecolor": "white",
           "ticks": "",
           "title": {
            "standoff": 15
           },
           "zerolinecolor": "white",
           "zerolinewidth": 2
          }
         }
        },
        "title": {
         "font": {
          "color": "#4D5663"
         },
         "text": "Attack Strength"
        },
        "xaxis": {
         "gridcolor": "#E1E5ED",
         "showgrid": true,
         "tickfont": {
          "color": "#4D5663"
         },
         "title": {
          "font": {
           "color": "#4D5663"
          },
          "text": ""
         },
         "zerolinecolor": "#E1E5ED"
        },
        "yaxis": {
         "gridcolor": "#E1E5ED",
         "showgrid": true,
         "tickfont": {
          "color": "#4D5663"
         },
         "title": {
          "font": {
           "color": "#4D5663"
          },
          "text": ""
         },
         "zerolinecolor": "#E1E5ED"
        }
       }
      },
      "text/html": [
       "<div>                            <div id=\"63eea871-b339-4411-85d7-1d29cd818312\" class=\"plotly-graph-div\" style=\"height:525px; width:100%;\"></div>            <script type=\"text/javascript\">                require([\"plotly\"], function(Plotly) {                    window.PLOTLYENV=window.PLOTLYENV || {};\n",
       "                    window.PLOTLYENV.BASE_URL='https://plot.ly';                                    if (document.getElementById(\"63eea871-b339-4411-85d7-1d29cd818312\")) {                    Plotly.newPlot(                        \"63eea871-b339-4411-85d7-1d29cd818312\",                        [{\"marker\":{\"color\":\"rgba(252, 141, 89, 0.6)\",\"line\":{\"color\":\"rgba(252, 141, 89, 1.0)\",\"width\":1}},\"name\":\"Attack\",\"orientation\":\"h\",\"text\":\"\",\"type\":\"bar\",\"x\":[70.97101449275362,88.38709677419355,112.125,69.0909090909091,61.529411764705884,96.77777777777777,84.76923076923077,78.75,73.78125,73.21428571428571,95.75,72.75,73.46938775510205,74.67857142857143,71.45614035087719,92.86363636363636,92.70370370370371,74.15178571428571],\"y\":[\"Bug\",\"Dark\",\"Dragon\",\"Electric\",\"Fairy\",\"Fighting\",\"Fire\",\"Flying\",\"Ghost\",\"Grass\",\"Ground\",\"Ice\",\"Normal\",\"Poison\",\"Psychic\",\"Rock\",\"Steel\",\"Water\"]}],                        {\"legend\":{\"bgcolor\":\"#F5F6F9\",\"font\":{\"color\":\"#4D5663\"}},\"paper_bgcolor\":\"#F5F6F9\",\"plot_bgcolor\":\"#F5F6F9\",\"template\":{\"data\":{\"bar\":[{\"error_x\":{\"color\":\"#2a3f5f\"},\"error_y\":{\"color\":\"#2a3f5f\"},\"marker\":{\"line\":{\"color\":\"#E5ECF6\",\"width\":0.5},\"pattern\":{\"fillmode\":\"overlay\",\"size\":10,\"solidity\":0.2}},\"type\":\"bar\"}],\"barpolar\":[{\"marker\":{\"line\":{\"color\":\"#E5ECF6\",\"width\":0.5},\"pattern\":{\"fillmode\":\"overlay\",\"size\":10,\"solidity\":0.2}},\"type\":\"barpolar\"}],\"carpet\":[{\"aaxis\":{\"endlinecolor\":\"#2a3f5f\",\"gridcolor\":\"white\",\"linecolor\":\"white\",\"minorgridcolor\":\"white\",\"startlinecolor\":\"#2a3f5f\"},\"baxis\":{\"endlinecolor\":\"#2a3f5f\",\"gridcolor\":\"white\",\"linecolor\":\"white\",\"minorgridcolor\":\"white\",\"startlinecolor\":\"#2a3f5f\"},\"type\":\"carpet\"}],\"choropleth\":[{\"colorbar\":{\"outlinewidth\":0,\"ticks\":\"\"},\"type\":\"choropleth\"}],\"contour\":[{\"colorbar\":{\"outlinewidth\":0,\"ticks\":\"\"},\"colorscale\":[[0.0,\"#0d0887\"],[0.1111111111111111,\"#46039f\"],[0.2222222222222222,\"#7201a8\"],[0.3333333333333333,\"#9c179e\"],[0.4444444444444444,\"#bd3786\"],[0.5555555555555556,\"#d8576b\"],[0.6666666666666666,\"#ed7953\"],[0.7777777777777778,\"#fb9f3a\"],[0.8888888888888888,\"#fdca26\"],[1.0,\"#f0f921\"]],\"type\":\"contour\"}],\"contourcarpet\":[{\"colorbar\":{\"outlinewidth\":0,\"ticks\":\"\"},\"type\":\"contourcarpet\"}],\"heatmap\":[{\"colorbar\":{\"outlinewidth\":0,\"ticks\":\"\"},\"colorscale\":[[0.0,\"#0d0887\"],[0.1111111111111111,\"#46039f\"],[0.2222222222222222,\"#7201a8\"],[0.3333333333333333,\"#9c179e\"],[0.4444444444444444,\"#bd3786\"],[0.5555555555555556,\"#d8576b\"],[0.6666666666666666,\"#ed7953\"],[0.7777777777777778,\"#fb9f3a\"],[0.8888888888888888,\"#fdca26\"],[1.0,\"#f0f921\"]],\"type\":\"heatmap\"}],\"heatmapgl\":[{\"colorbar\":{\"outlinewidth\":0,\"ticks\":\"\"},\"colorscale\":[[0.0,\"#0d0887\"],[0.1111111111111111,\"#46039f\"],[0.2222222222222222,\"#7201a8\"],[0.3333333333333333,\"#9c179e\"],[0.4444444444444444,\"#bd3786\"],[0.5555555555555556,\"#d8576b\"],[0.6666666666666666,\"#ed7953\"],[0.7777777777777778,\"#fb9f3a\"],[0.8888888888888888,\"#fdca26\"],[1.0,\"#f0f921\"]],\"type\":\"heatmapgl\"}],\"histogram\":[{\"marker\":{\"pattern\":{\"fillmode\":\"overlay\",\"size\":10,\"solidity\":0.2}},\"type\":\"histogram\"}],\"histogram2d\":[{\"colorbar\":{\"outlinewidth\":0,\"ticks\":\"\"},\"colorscale\":[[0.0,\"#0d0887\"],[0.1111111111111111,\"#46039f\"],[0.2222222222222222,\"#7201a8\"],[0.3333333333333333,\"#9c179e\"],[0.4444444444444444,\"#bd3786\"],[0.5555555555555556,\"#d8576b\"],[0.6666666666666666,\"#ed7953\"],[0.7777777777777778,\"#fb9f3a\"],[0.8888888888888888,\"#fdca26\"],[1.0,\"#f0f921\"]],\"type\":\"histogram2d\"}],\"histogram2dcontour\":[{\"colorbar\":{\"outlinewidth\":0,\"ticks\":\"\"},\"colorscale\":[[0.0,\"#0d0887\"],[0.1111111111111111,\"#46039f\"],[0.2222222222222222,\"#7201a8\"],[0.3333333333333333,\"#9c179e\"],[0.4444444444444444,\"#bd3786\"],[0.5555555555555556,\"#d8576b\"],[0.6666666666666666,\"#ed7953\"],[0.7777777777777778,\"#fb9f3a\"],[0.8888888888888888,\"#fdca26\"],[1.0,\"#f0f921\"]],\"type\":\"histogram2dcontour\"}],\"mesh3d\":[{\"colorbar\":{\"outlinewidth\":0,\"ticks\":\"\"},\"type\":\"mesh3d\"}],\"parcoords\":[{\"line\":{\"colorbar\":{\"outlinewidth\":0,\"ticks\":\"\"}},\"type\":\"parcoords\"}],\"pie\":[{\"automargin\":true,\"type\":\"pie\"}],\"scatter\":[{\"marker\":{\"colorbar\":{\"outlinewidth\":0,\"ticks\":\"\"}},\"type\":\"scatter\"}],\"scatter3d\":[{\"line\":{\"colorbar\":{\"outlinewidth\":0,\"ticks\":\"\"}},\"marker\":{\"colorbar\":{\"outlinewidth\":0,\"ticks\":\"\"}},\"type\":\"scatter3d\"}],\"scattercarpet\":[{\"marker\":{\"colorbar\":{\"outlinewidth\":0,\"ticks\":\"\"}},\"type\":\"scattercarpet\"}],\"scattergeo\":[{\"marker\":{\"colorbar\":{\"outlinewidth\":0,\"ticks\":\"\"}},\"type\":\"scattergeo\"}],\"scattergl\":[{\"marker\":{\"colorbar\":{\"outlinewidth\":0,\"ticks\":\"\"}},\"type\":\"scattergl\"}],\"scattermapbox\":[{\"marker\":{\"colorbar\":{\"outlinewidth\":0,\"ticks\":\"\"}},\"type\":\"scattermapbox\"}],\"scatterpolar\":[{\"marker\":{\"colorbar\":{\"outlinewidth\":0,\"ticks\":\"\"}},\"type\":\"scatterpolar\"}],\"scatterpolargl\":[{\"marker\":{\"colorbar\":{\"outlinewidth\":0,\"ticks\":\"\"}},\"type\":\"scatterpolargl\"}],\"scatterternary\":[{\"marker\":{\"colorbar\":{\"outlinewidth\":0,\"ticks\":\"\"}},\"type\":\"scatterternary\"}],\"surface\":[{\"colorbar\":{\"outlinewidth\":0,\"ticks\":\"\"},\"colorscale\":[[0.0,\"#0d0887\"],[0.1111111111111111,\"#46039f\"],[0.2222222222222222,\"#7201a8\"],[0.3333333333333333,\"#9c179e\"],[0.4444444444444444,\"#bd3786\"],[0.5555555555555556,\"#d8576b\"],[0.6666666666666666,\"#ed7953\"],[0.7777777777777778,\"#fb9f3a\"],[0.8888888888888888,\"#fdca26\"],[1.0,\"#f0f921\"]],\"type\":\"surface\"}],\"table\":[{\"cells\":{\"fill\":{\"color\":\"#EBF0F8\"},\"line\":{\"color\":\"white\"}},\"header\":{\"fill\":{\"color\":\"#C8D4E3\"},\"line\":{\"color\":\"white\"}},\"type\":\"table\"}]},\"layout\":{\"annotationdefaults\":{\"arrowcolor\":\"#2a3f5f\",\"arrowhead\":0,\"arrowwidth\":1},\"autotypenumbers\":\"strict\",\"coloraxis\":{\"colorbar\":{\"outlinewidth\":0,\"ticks\":\"\"}},\"colorscale\":{\"diverging\":[[0,\"#8e0152\"],[0.1,\"#c51b7d\"],[0.2,\"#de77ae\"],[0.3,\"#f1b6da\"],[0.4,\"#fde0ef\"],[0.5,\"#f7f7f7\"],[0.6,\"#e6f5d0\"],[0.7,\"#b8e186\"],[0.8,\"#7fbc41\"],[0.9,\"#4d9221\"],[1,\"#276419\"]],\"sequential\":[[0.0,\"#0d0887\"],[0.1111111111111111,\"#46039f\"],[0.2222222222222222,\"#7201a8\"],[0.3333333333333333,\"#9c179e\"],[0.4444444444444444,\"#bd3786\"],[0.5555555555555556,\"#d8576b\"],[0.6666666666666666,\"#ed7953\"],[0.7777777777777778,\"#fb9f3a\"],[0.8888888888888888,\"#fdca26\"],[1.0,\"#f0f921\"]],\"sequentialminus\":[[0.0,\"#0d0887\"],[0.1111111111111111,\"#46039f\"],[0.2222222222222222,\"#7201a8\"],[0.3333333333333333,\"#9c179e\"],[0.4444444444444444,\"#bd3786\"],[0.5555555555555556,\"#d8576b\"],[0.6666666666666666,\"#ed7953\"],[0.7777777777777778,\"#fb9f3a\"],[0.8888888888888888,\"#fdca26\"],[1.0,\"#f0f921\"]]},\"colorway\":[\"#636efa\",\"#EF553B\",\"#00cc96\",\"#ab63fa\",\"#FFA15A\",\"#19d3f3\",\"#FF6692\",\"#B6E880\",\"#FF97FF\",\"#FECB52\"],\"font\":{\"color\":\"#2a3f5f\"},\"geo\":{\"bgcolor\":\"white\",\"lakecolor\":\"white\",\"landcolor\":\"#E5ECF6\",\"showlakes\":true,\"showland\":true,\"subunitcolor\":\"white\"},\"hoverlabel\":{\"align\":\"left\"},\"hovermode\":\"closest\",\"mapbox\":{\"style\":\"light\"},\"paper_bgcolor\":\"white\",\"plot_bgcolor\":\"#E5ECF6\",\"polar\":{\"angularaxis\":{\"gridcolor\":\"white\",\"linecolor\":\"white\",\"ticks\":\"\"},\"bgcolor\":\"#E5ECF6\",\"radialaxis\":{\"gridcolor\":\"white\",\"linecolor\":\"white\",\"ticks\":\"\"}},\"scene\":{\"xaxis\":{\"backgroundcolor\":\"#E5ECF6\",\"gridcolor\":\"white\",\"gridwidth\":2,\"linecolor\":\"white\",\"showbackground\":true,\"ticks\":\"\",\"zerolinecolor\":\"white\"},\"yaxis\":{\"backgroundcolor\":\"#E5ECF6\",\"gridcolor\":\"white\",\"gridwidth\":2,\"linecolor\":\"white\",\"showbackground\":true,\"ticks\":\"\",\"zerolinecolor\":\"white\"},\"zaxis\":{\"backgroundcolor\":\"#E5ECF6\",\"gridcolor\":\"white\",\"gridwidth\":2,\"linecolor\":\"white\",\"showbackground\":true,\"ticks\":\"\",\"zerolinecolor\":\"white\"}},\"shapedefaults\":{\"line\":{\"color\":\"#2a3f5f\"}},\"ternary\":{\"aaxis\":{\"gridcolor\":\"white\",\"linecolor\":\"white\",\"ticks\":\"\"},\"baxis\":{\"gridcolor\":\"white\",\"linecolor\":\"white\",\"ticks\":\"\"},\"bgcolor\":\"#E5ECF6\",\"caxis\":{\"gridcolor\":\"white\",\"linecolor\":\"white\",\"ticks\":\"\"}},\"title\":{\"x\":0.05},\"xaxis\":{\"automargin\":true,\"gridcolor\":\"white\",\"linecolor\":\"white\",\"ticks\":\"\",\"title\":{\"standoff\":15},\"zerolinecolor\":\"white\",\"zerolinewidth\":2},\"yaxis\":{\"automargin\":true,\"gridcolor\":\"white\",\"linecolor\":\"white\",\"ticks\":\"\",\"title\":{\"standoff\":15},\"zerolinecolor\":\"white\",\"zerolinewidth\":2}}},\"title\":{\"font\":{\"color\":\"#4D5663\"},\"text\":\"Attack Strength\"},\"xaxis\":{\"gridcolor\":\"#E1E5ED\",\"showgrid\":true,\"tickfont\":{\"color\":\"#4D5663\"},\"title\":{\"font\":{\"color\":\"#4D5663\"},\"text\":\"\"},\"zerolinecolor\":\"#E1E5ED\"},\"yaxis\":{\"gridcolor\":\"#E1E5ED\",\"showgrid\":true,\"tickfont\":{\"color\":\"#4D5663\"},\"title\":{\"font\":{\"color\":\"#4D5663\"},\"text\":\"\"},\"zerolinecolor\":\"#E1E5ED\"}},                        {\"showLink\": true, \"linkText\": \"Export to plot.ly\", \"plotlyServerURL\": \"https://plot.ly\", \"responsive\": true}                    ).then(function(){\n",
       "                            \n",
       "var gd = document.getElementById('63eea871-b339-4411-85d7-1d29cd818312');\n",
       "var x = new MutationObserver(function (mutations, observer) {{\n",
       "        var display = window.getComputedStyle(gd).display;\n",
       "        if (!display || display === 'none') {{\n",
       "            console.log([gd, 'removed!']);\n",
       "            Plotly.purge(gd);\n",
       "            observer.disconnect();\n",
       "        }}\n",
       "}});\n",
       "\n",
       "// Listen for the removal of the full notebook cells\n",
       "var notebookContainer = gd.closest('#notebook-container');\n",
       "if (notebookContainer) {{\n",
       "    x.observe(notebookContainer, {childList: true});\n",
       "}}\n",
       "\n",
       "// Listen for the clearing of the current output cell\n",
       "var outputEl = gd.closest('.output');\n",
       "if (outputEl) {{\n",
       "    x.observe(outputEl, {childList: true});\n",
       "}}\n",
       "\n",
       "                        })                };                });            </script>        </div>"
      ]
     },
     "metadata": {},
     "output_type": "display_data"
    }
   ],
   "source": [
    "df = df1.drop(['Name','Type 2','Legendary','Generation'],axis=1)\n",
    "df = df.groupby('Type 1').mean()\n",
    "df['Type 1'] = df.index\n",
    "\n",
    "df.iplot(kind='barh', y='Attack', x='Type 1', colorscale='rdylbu', title='Attack Strength')"
   ]
  },
  {
   "cell_type": "code",
   "execution_count": 6,
   "metadata": {},
   "outputs": [],
   "source": [
    "#Dragon seem to have more strenght than other counterpart..Fairy seem to have least attack hint for players"
   ]
  },
  {
   "cell_type": "code",
   "execution_count": 7,
   "metadata": {},
   "outputs": [
    {
     "data": {
      "application/vnd.plotly.v1+json": {
       "config": {
        "linkText": "Export to plot.ly",
        "plotlyServerURL": "https://plot.ly",
        "showLink": true
       },
       "data": [
        {
         "marker": {
          "color": "rgba(255, 153, 51, 0.6)",
          "line": {
           "color": "rgba(255, 153, 51, 1.0)",
           "width": 1
          }
         },
         "name": "#",
         "orientation": "v",
         "text": "",
         "type": "bar",
         "x": [
          "Bug",
          "Dark",
          "Dragon",
          "Electric",
          "Fairy",
          "Fighting",
          "Fire",
          "Flying",
          "Ghost",
          "Grass",
          "Ground",
          "Ice",
          "Normal",
          "Poison",
          "Psychic",
          "Rock",
          "Steel",
          "Water"
         ],
         "y": [
          334.4927536231884,
          461.35483870967744,
          474.375,
          363.5,
          449.52941176470586,
          363.85185185185185,
          327.40384615384613,
          677.75,
          486.5,
          344.87142857142857,
          356.28125,
          423.5416666666667,
          319.1734693877551,
          251.78571428571428,
          380.8070175438597,
          392.72727272727275,
          442.85185185185185,
          303.0892857142857
         ]
        },
        {
         "marker": {
          "color": "rgba(55, 128, 191, 0.6)",
          "line": {
           "color": "rgba(55, 128, 191, 1.0)",
           "width": 1
          }
         },
         "name": "Sp. Atk",
         "orientation": "v",
         "text": "",
         "type": "bar",
         "x": [
          "Bug",
          "Dark",
          "Dragon",
          "Electric",
          "Fairy",
          "Fighting",
          "Fire",
          "Flying",
          "Ghost",
          "Grass",
          "Ground",
          "Ice",
          "Normal",
          "Poison",
          "Psychic",
          "Rock",
          "Steel",
          "Water"
         ],
         "y": [
          53.869565217391305,
          74.64516129032258,
          96.84375,
          90.02272727272727,
          78.52941176470588,
          53.111111111111114,
          88.98076923076923,
          94.25,
          79.34375,
          77.5,
          56.46875,
          77.54166666666667,
          55.816326530612244,
          60.42857142857143,
          98.40350877192982,
          63.34090909090909,
          67.51851851851852,
          74.8125
         ]
        },
        {
         "marker": {
          "color": "rgba(50, 171, 96, 0.6)",
          "line": {
           "color": "rgba(50, 171, 96, 1.0)",
           "width": 1
          }
         },
         "name": "Sp. Def",
         "orientation": "v",
         "text": "",
         "type": "bar",
         "x": [
          "Bug",
          "Dark",
          "Dragon",
          "Electric",
          "Fairy",
          "Fighting",
          "Fire",
          "Flying",
          "Ghost",
          "Grass",
          "Ground",
          "Ice",
          "Normal",
          "Poison",
          "Psychic",
          "Rock",
          "Steel",
          "Water"
         ],
         "y": [
          64.79710144927536,
          69.51612903225806,
          88.84375,
          73.70454545454545,
          84.70588235294117,
          64.70370370370371,
          72.21153846153847,
          72.5,
          76.46875,
          70.42857142857143,
          62.75,
          76.29166666666667,
          63.724489795918366,
          64.39285714285714,
          86.28070175438596,
          75.47727272727273,
          80.62962962962963,
          70.51785714285714
         ]
        }
       ],
       "layout": {
        "legend": {
         "bgcolor": "#F5F6F9",
         "font": {
          "color": "#4D5663"
         }
        },
        "paper_bgcolor": "#F5F6F9",
        "plot_bgcolor": "#F5F6F9",
        "template": {
         "data": {
          "bar": [
           {
            "error_x": {
             "color": "#2a3f5f"
            },
            "error_y": {
             "color": "#2a3f5f"
            },
            "marker": {
             "line": {
              "color": "#E5ECF6",
              "width": 0.5
             },
             "pattern": {
              "fillmode": "overlay",
              "size": 10,
              "solidity": 0.2
             }
            },
            "type": "bar"
           }
          ],
          "barpolar": [
           {
            "marker": {
             "line": {
              "color": "#E5ECF6",
              "width": 0.5
             },
             "pattern": {
              "fillmode": "overlay",
              "size": 10,
              "solidity": 0.2
             }
            },
            "type": "barpolar"
           }
          ],
          "carpet": [
           {
            "aaxis": {
             "endlinecolor": "#2a3f5f",
             "gridcolor": "white",
             "linecolor": "white",
             "minorgridcolor": "white",
             "startlinecolor": "#2a3f5f"
            },
            "baxis": {
             "endlinecolor": "#2a3f5f",
             "gridcolor": "white",
             "linecolor": "white",
             "minorgridcolor": "white",
             "startlinecolor": "#2a3f5f"
            },
            "type": "carpet"
           }
          ],
          "choropleth": [
           {
            "colorbar": {
             "outlinewidth": 0,
             "ticks": ""
            },
            "type": "choropleth"
           }
          ],
          "contour": [
           {
            "colorbar": {
             "outlinewidth": 0,
             "ticks": ""
            },
            "colorscale": [
             [
              0,
              "#0d0887"
             ],
             [
              0.1111111111111111,
              "#46039f"
             ],
             [
              0.2222222222222222,
              "#7201a8"
             ],
             [
              0.3333333333333333,
              "#9c179e"
             ],
             [
              0.4444444444444444,
              "#bd3786"
             ],
             [
              0.5555555555555556,
              "#d8576b"
             ],
             [
              0.6666666666666666,
              "#ed7953"
             ],
             [
              0.7777777777777778,
              "#fb9f3a"
             ],
             [
              0.8888888888888888,
              "#fdca26"
             ],
             [
              1,
              "#f0f921"
             ]
            ],
            "type": "contour"
           }
          ],
          "contourcarpet": [
           {
            "colorbar": {
             "outlinewidth": 0,
             "ticks": ""
            },
            "type": "contourcarpet"
           }
          ],
          "heatmap": [
           {
            "colorbar": {
             "outlinewidth": 0,
             "ticks": ""
            },
            "colorscale": [
             [
              0,
              "#0d0887"
             ],
             [
              0.1111111111111111,
              "#46039f"
             ],
             [
              0.2222222222222222,
              "#7201a8"
             ],
             [
              0.3333333333333333,
              "#9c179e"
             ],
             [
              0.4444444444444444,
              "#bd3786"
             ],
             [
              0.5555555555555556,
              "#d8576b"
             ],
             [
              0.6666666666666666,
              "#ed7953"
             ],
             [
              0.7777777777777778,
              "#fb9f3a"
             ],
             [
              0.8888888888888888,
              "#fdca26"
             ],
             [
              1,
              "#f0f921"
             ]
            ],
            "type": "heatmap"
           }
          ],
          "heatmapgl": [
           {
            "colorbar": {
             "outlinewidth": 0,
             "ticks": ""
            },
            "colorscale": [
             [
              0,
              "#0d0887"
             ],
             [
              0.1111111111111111,
              "#46039f"
             ],
             [
              0.2222222222222222,
              "#7201a8"
             ],
             [
              0.3333333333333333,
              "#9c179e"
             ],
             [
              0.4444444444444444,
              "#bd3786"
             ],
             [
              0.5555555555555556,
              "#d8576b"
             ],
             [
              0.6666666666666666,
              "#ed7953"
             ],
             [
              0.7777777777777778,
              "#fb9f3a"
             ],
             [
              0.8888888888888888,
              "#fdca26"
             ],
             [
              1,
              "#f0f921"
             ]
            ],
            "type": "heatmapgl"
           }
          ],
          "histogram": [
           {
            "marker": {
             "pattern": {
              "fillmode": "overlay",
              "size": 10,
              "solidity": 0.2
             }
            },
            "type": "histogram"
           }
          ],
          "histogram2d": [
           {
            "colorbar": {
             "outlinewidth": 0,
             "ticks": ""
            },
            "colorscale": [
             [
              0,
              "#0d0887"
             ],
             [
              0.1111111111111111,
              "#46039f"
             ],
             [
              0.2222222222222222,
              "#7201a8"
             ],
             [
              0.3333333333333333,
              "#9c179e"
             ],
             [
              0.4444444444444444,
              "#bd3786"
             ],
             [
              0.5555555555555556,
              "#d8576b"
             ],
             [
              0.6666666666666666,
              "#ed7953"
             ],
             [
              0.7777777777777778,
              "#fb9f3a"
             ],
             [
              0.8888888888888888,
              "#fdca26"
             ],
             [
              1,
              "#f0f921"
             ]
            ],
            "type": "histogram2d"
           }
          ],
          "histogram2dcontour": [
           {
            "colorbar": {
             "outlinewidth": 0,
             "ticks": ""
            },
            "colorscale": [
             [
              0,
              "#0d0887"
             ],
             [
              0.1111111111111111,
              "#46039f"
             ],
             [
              0.2222222222222222,
              "#7201a8"
             ],
             [
              0.3333333333333333,
              "#9c179e"
             ],
             [
              0.4444444444444444,
              "#bd3786"
             ],
             [
              0.5555555555555556,
              "#d8576b"
             ],
             [
              0.6666666666666666,
              "#ed7953"
             ],
             [
              0.7777777777777778,
              "#fb9f3a"
             ],
             [
              0.8888888888888888,
              "#fdca26"
             ],
             [
              1,
              "#f0f921"
             ]
            ],
            "type": "histogram2dcontour"
           }
          ],
          "mesh3d": [
           {
            "colorbar": {
             "outlinewidth": 0,
             "ticks": ""
            },
            "type": "mesh3d"
           }
          ],
          "parcoords": [
           {
            "line": {
             "colorbar": {
              "outlinewidth": 0,
              "ticks": ""
             }
            },
            "type": "parcoords"
           }
          ],
          "pie": [
           {
            "automargin": true,
            "type": "pie"
           }
          ],
          "scatter": [
           {
            "marker": {
             "colorbar": {
              "outlinewidth": 0,
              "ticks": ""
             }
            },
            "type": "scatter"
           }
          ],
          "scatter3d": [
           {
            "line": {
             "colorbar": {
              "outlinewidth": 0,
              "ticks": ""
             }
            },
            "marker": {
             "colorbar": {
              "outlinewidth": 0,
              "ticks": ""
             }
            },
            "type": "scatter3d"
           }
          ],
          "scattercarpet": [
           {
            "marker": {
             "colorbar": {
              "outlinewidth": 0,
              "ticks": ""
             }
            },
            "type": "scattercarpet"
           }
          ],
          "scattergeo": [
           {
            "marker": {
             "colorbar": {
              "outlinewidth": 0,
              "ticks": ""
             }
            },
            "type": "scattergeo"
           }
          ],
          "scattergl": [
           {
            "marker": {
             "colorbar": {
              "outlinewidth": 0,
              "ticks": ""
             }
            },
            "type": "scattergl"
           }
          ],
          "scattermapbox": [
           {
            "marker": {
             "colorbar": {
              "outlinewidth": 0,
              "ticks": ""
             }
            },
            "type": "scattermapbox"
           }
          ],
          "scatterpolar": [
           {
            "marker": {
             "colorbar": {
              "outlinewidth": 0,
              "ticks": ""
             }
            },
            "type": "scatterpolar"
           }
          ],
          "scatterpolargl": [
           {
            "marker": {
             "colorbar": {
              "outlinewidth": 0,
              "ticks": ""
             }
            },
            "type": "scatterpolargl"
           }
          ],
          "scatterternary": [
           {
            "marker": {
             "colorbar": {
              "outlinewidth": 0,
              "ticks": ""
             }
            },
            "type": "scatterternary"
           }
          ],
          "surface": [
           {
            "colorbar": {
             "outlinewidth": 0,
             "ticks": ""
            },
            "colorscale": [
             [
              0,
              "#0d0887"
             ],
             [
              0.1111111111111111,
              "#46039f"
             ],
             [
              0.2222222222222222,
              "#7201a8"
             ],
             [
              0.3333333333333333,
              "#9c179e"
             ],
             [
              0.4444444444444444,
              "#bd3786"
             ],
             [
              0.5555555555555556,
              "#d8576b"
             ],
             [
              0.6666666666666666,
              "#ed7953"
             ],
             [
              0.7777777777777778,
              "#fb9f3a"
             ],
             [
              0.8888888888888888,
              "#fdca26"
             ],
             [
              1,
              "#f0f921"
             ]
            ],
            "type": "surface"
           }
          ],
          "table": [
           {
            "cells": {
             "fill": {
              "color": "#EBF0F8"
             },
             "line": {
              "color": "white"
             }
            },
            "header": {
             "fill": {
              "color": "#C8D4E3"
             },
             "line": {
              "color": "white"
             }
            },
            "type": "table"
           }
          ]
         },
         "layout": {
          "annotationdefaults": {
           "arrowcolor": "#2a3f5f",
           "arrowhead": 0,
           "arrowwidth": 1
          },
          "autotypenumbers": "strict",
          "coloraxis": {
           "colorbar": {
            "outlinewidth": 0,
            "ticks": ""
           }
          },
          "colorscale": {
           "diverging": [
            [
             0,
             "#8e0152"
            ],
            [
             0.1,
             "#c51b7d"
            ],
            [
             0.2,
             "#de77ae"
            ],
            [
             0.3,
             "#f1b6da"
            ],
            [
             0.4,
             "#fde0ef"
            ],
            [
             0.5,
             "#f7f7f7"
            ],
            [
             0.6,
             "#e6f5d0"
            ],
            [
             0.7,
             "#b8e186"
            ],
            [
             0.8,
             "#7fbc41"
            ],
            [
             0.9,
             "#4d9221"
            ],
            [
             1,
             "#276419"
            ]
           ],
           "sequential": [
            [
             0,
             "#0d0887"
            ],
            [
             0.1111111111111111,
             "#46039f"
            ],
            [
             0.2222222222222222,
             "#7201a8"
            ],
            [
             0.3333333333333333,
             "#9c179e"
            ],
            [
             0.4444444444444444,
             "#bd3786"
            ],
            [
             0.5555555555555556,
             "#d8576b"
            ],
            [
             0.6666666666666666,
             "#ed7953"
            ],
            [
             0.7777777777777778,
             "#fb9f3a"
            ],
            [
             0.8888888888888888,
             "#fdca26"
            ],
            [
             1,
             "#f0f921"
            ]
           ],
           "sequentialminus": [
            [
             0,
             "#0d0887"
            ],
            [
             0.1111111111111111,
             "#46039f"
            ],
            [
             0.2222222222222222,
             "#7201a8"
            ],
            [
             0.3333333333333333,
             "#9c179e"
            ],
            [
             0.4444444444444444,
             "#bd3786"
            ],
            [
             0.5555555555555556,
             "#d8576b"
            ],
            [
             0.6666666666666666,
             "#ed7953"
            ],
            [
             0.7777777777777778,
             "#fb9f3a"
            ],
            [
             0.8888888888888888,
             "#fdca26"
            ],
            [
             1,
             "#f0f921"
            ]
           ]
          },
          "colorway": [
           "#636efa",
           "#EF553B",
           "#00cc96",
           "#ab63fa",
           "#FFA15A",
           "#19d3f3",
           "#FF6692",
           "#B6E880",
           "#FF97FF",
           "#FECB52"
          ],
          "font": {
           "color": "#2a3f5f"
          },
          "geo": {
           "bgcolor": "white",
           "lakecolor": "white",
           "landcolor": "#E5ECF6",
           "showlakes": true,
           "showland": true,
           "subunitcolor": "white"
          },
          "hoverlabel": {
           "align": "left"
          },
          "hovermode": "closest",
          "mapbox": {
           "style": "light"
          },
          "paper_bgcolor": "white",
          "plot_bgcolor": "#E5ECF6",
          "polar": {
           "angularaxis": {
            "gridcolor": "white",
            "linecolor": "white",
            "ticks": ""
           },
           "bgcolor": "#E5ECF6",
           "radialaxis": {
            "gridcolor": "white",
            "linecolor": "white",
            "ticks": ""
           }
          },
          "scene": {
           "xaxis": {
            "backgroundcolor": "#E5ECF6",
            "gridcolor": "white",
            "gridwidth": 2,
            "linecolor": "white",
            "showbackground": true,
            "ticks": "",
            "zerolinecolor": "white"
           },
           "yaxis": {
            "backgroundcolor": "#E5ECF6",
            "gridcolor": "white",
            "gridwidth": 2,
            "linecolor": "white",
            "showbackground": true,
            "ticks": "",
            "zerolinecolor": "white"
           },
           "zaxis": {
            "backgroundcolor": "#E5ECF6",
            "gridcolor": "white",
            "gridwidth": 2,
            "linecolor": "white",
            "showbackground": true,
            "ticks": "",
            "zerolinecolor": "white"
           }
          },
          "shapedefaults": {
           "line": {
            "color": "#2a3f5f"
           }
          },
          "ternary": {
           "aaxis": {
            "gridcolor": "white",
            "linecolor": "white",
            "ticks": ""
           },
           "baxis": {
            "gridcolor": "white",
            "linecolor": "white",
            "ticks": ""
           },
           "bgcolor": "#E5ECF6",
           "caxis": {
            "gridcolor": "white",
            "linecolor": "white",
            "ticks": ""
           }
          },
          "title": {
           "x": 0.05
          },
          "xaxis": {
           "automargin": true,
           "gridcolor": "white",
           "linecolor": "white",
           "ticks": "",
           "title": {
            "standoff": 15
           },
           "zerolinecolor": "white",
           "zerolinewidth": 2
          },
          "yaxis": {
           "automargin": true,
           "gridcolor": "white",
           "linecolor": "white",
           "ticks": "",
           "title": {
            "standoff": 15
           },
           "zerolinecolor": "white",
           "zerolinewidth": 2
          }
         }
        },
        "title": {
         "font": {
          "color": "#4D5663"
         },
         "text": "Special Attack and Defense Scores"
        },
        "xaxis": {
         "gridcolor": "#E1E5ED",
         "showgrid": true,
         "tickfont": {
          "color": "#4D5663"
         },
         "title": {
          "font": {
           "color": "#4D5663"
          },
          "text": ""
         },
         "zerolinecolor": "#E1E5ED"
        },
        "yaxis": {
         "gridcolor": "#E1E5ED",
         "showgrid": true,
         "tickfont": {
          "color": "#4D5663"
         },
         "title": {
          "font": {
           "color": "#4D5663"
          },
          "text": ""
         },
         "zerolinecolor": "#E1E5ED"
        }
       }
      },
      "text/html": [
       "<div>                            <div id=\"f58e912a-39a6-46d7-8469-25a02f211672\" class=\"plotly-graph-div\" style=\"height:525px; width:100%;\"></div>            <script type=\"text/javascript\">                require([\"plotly\"], function(Plotly) {                    window.PLOTLYENV=window.PLOTLYENV || {};\n",
       "                    window.PLOTLYENV.BASE_URL='https://plot.ly';                                    if (document.getElementById(\"f58e912a-39a6-46d7-8469-25a02f211672\")) {                    Plotly.newPlot(                        \"f58e912a-39a6-46d7-8469-25a02f211672\",                        [{\"marker\":{\"color\":\"rgba(255, 153, 51, 0.6)\",\"line\":{\"color\":\"rgba(255, 153, 51, 1.0)\",\"width\":1}},\"name\":\"#\",\"orientation\":\"v\",\"text\":\"\",\"type\":\"bar\",\"x\":[\"Bug\",\"Dark\",\"Dragon\",\"Electric\",\"Fairy\",\"Fighting\",\"Fire\",\"Flying\",\"Ghost\",\"Grass\",\"Ground\",\"Ice\",\"Normal\",\"Poison\",\"Psychic\",\"Rock\",\"Steel\",\"Water\"],\"y\":[334.4927536231884,461.35483870967744,474.375,363.5,449.52941176470586,363.85185185185185,327.40384615384613,677.75,486.5,344.87142857142857,356.28125,423.5416666666667,319.1734693877551,251.78571428571428,380.8070175438597,392.72727272727275,442.85185185185185,303.0892857142857]},{\"marker\":{\"color\":\"rgba(55, 128, 191, 0.6)\",\"line\":{\"color\":\"rgba(55, 128, 191, 1.0)\",\"width\":1}},\"name\":\"Sp. Atk\",\"orientation\":\"v\",\"text\":\"\",\"type\":\"bar\",\"x\":[\"Bug\",\"Dark\",\"Dragon\",\"Electric\",\"Fairy\",\"Fighting\",\"Fire\",\"Flying\",\"Ghost\",\"Grass\",\"Ground\",\"Ice\",\"Normal\",\"Poison\",\"Psychic\",\"Rock\",\"Steel\",\"Water\"],\"y\":[53.869565217391305,74.64516129032258,96.84375,90.02272727272727,78.52941176470588,53.111111111111114,88.98076923076923,94.25,79.34375,77.5,56.46875,77.54166666666667,55.816326530612244,60.42857142857143,98.40350877192982,63.34090909090909,67.51851851851852,74.8125]},{\"marker\":{\"color\":\"rgba(50, 171, 96, 0.6)\",\"line\":{\"color\":\"rgba(50, 171, 96, 1.0)\",\"width\":1}},\"name\":\"Sp. Def\",\"orientation\":\"v\",\"text\":\"\",\"type\":\"bar\",\"x\":[\"Bug\",\"Dark\",\"Dragon\",\"Electric\",\"Fairy\",\"Fighting\",\"Fire\",\"Flying\",\"Ghost\",\"Grass\",\"Ground\",\"Ice\",\"Normal\",\"Poison\",\"Psychic\",\"Rock\",\"Steel\",\"Water\"],\"y\":[64.79710144927536,69.51612903225806,88.84375,73.70454545454545,84.70588235294117,64.70370370370371,72.21153846153847,72.5,76.46875,70.42857142857143,62.75,76.29166666666667,63.724489795918366,64.39285714285714,86.28070175438596,75.47727272727273,80.62962962962963,70.51785714285714]}],                        {\"legend\":{\"bgcolor\":\"#F5F6F9\",\"font\":{\"color\":\"#4D5663\"}},\"paper_bgcolor\":\"#F5F6F9\",\"plot_bgcolor\":\"#F5F6F9\",\"template\":{\"data\":{\"bar\":[{\"error_x\":{\"color\":\"#2a3f5f\"},\"error_y\":{\"color\":\"#2a3f5f\"},\"marker\":{\"line\":{\"color\":\"#E5ECF6\",\"width\":0.5},\"pattern\":{\"fillmode\":\"overlay\",\"size\":10,\"solidity\":0.2}},\"type\":\"bar\"}],\"barpolar\":[{\"marker\":{\"line\":{\"color\":\"#E5ECF6\",\"width\":0.5},\"pattern\":{\"fillmode\":\"overlay\",\"size\":10,\"solidity\":0.2}},\"type\":\"barpolar\"}],\"carpet\":[{\"aaxis\":{\"endlinecolor\":\"#2a3f5f\",\"gridcolor\":\"white\",\"linecolor\":\"white\",\"minorgridcolor\":\"white\",\"startlinecolor\":\"#2a3f5f\"},\"baxis\":{\"endlinecolor\":\"#2a3f5f\",\"gridcolor\":\"white\",\"linecolor\":\"white\",\"minorgridcolor\":\"white\",\"startlinecolor\":\"#2a3f5f\"},\"type\":\"carpet\"}],\"choropleth\":[{\"colorbar\":{\"outlinewidth\":0,\"ticks\":\"\"},\"type\":\"choropleth\"}],\"contour\":[{\"colorbar\":{\"outlinewidth\":0,\"ticks\":\"\"},\"colorscale\":[[0.0,\"#0d0887\"],[0.1111111111111111,\"#46039f\"],[0.2222222222222222,\"#7201a8\"],[0.3333333333333333,\"#9c179e\"],[0.4444444444444444,\"#bd3786\"],[0.5555555555555556,\"#d8576b\"],[0.6666666666666666,\"#ed7953\"],[0.7777777777777778,\"#fb9f3a\"],[0.8888888888888888,\"#fdca26\"],[1.0,\"#f0f921\"]],\"type\":\"contour\"}],\"contourcarpet\":[{\"colorbar\":{\"outlinewidth\":0,\"ticks\":\"\"},\"type\":\"contourcarpet\"}],\"heatmap\":[{\"colorbar\":{\"outlinewidth\":0,\"ticks\":\"\"},\"colorscale\":[[0.0,\"#0d0887\"],[0.1111111111111111,\"#46039f\"],[0.2222222222222222,\"#7201a8\"],[0.3333333333333333,\"#9c179e\"],[0.4444444444444444,\"#bd3786\"],[0.5555555555555556,\"#d8576b\"],[0.6666666666666666,\"#ed7953\"],[0.7777777777777778,\"#fb9f3a\"],[0.8888888888888888,\"#fdca26\"],[1.0,\"#f0f921\"]],\"type\":\"heatmap\"}],\"heatmapgl\":[{\"colorbar\":{\"outlinewidth\":0,\"ticks\":\"\"},\"colorscale\":[[0.0,\"#0d0887\"],[0.1111111111111111,\"#46039f\"],[0.2222222222222222,\"#7201a8\"],[0.3333333333333333,\"#9c179e\"],[0.4444444444444444,\"#bd3786\"],[0.5555555555555556,\"#d8576b\"],[0.6666666666666666,\"#ed7953\"],[0.7777777777777778,\"#fb9f3a\"],[0.8888888888888888,\"#fdca26\"],[1.0,\"#f0f921\"]],\"type\":\"heatmapgl\"}],\"histogram\":[{\"marker\":{\"pattern\":{\"fillmode\":\"overlay\",\"size\":10,\"solidity\":0.2}},\"type\":\"histogram\"}],\"histogram2d\":[{\"colorbar\":{\"outlinewidth\":0,\"ticks\":\"\"},\"colorscale\":[[0.0,\"#0d0887\"],[0.1111111111111111,\"#46039f\"],[0.2222222222222222,\"#7201a8\"],[0.3333333333333333,\"#9c179e\"],[0.4444444444444444,\"#bd3786\"],[0.5555555555555556,\"#d8576b\"],[0.6666666666666666,\"#ed7953\"],[0.7777777777777778,\"#fb9f3a\"],[0.8888888888888888,\"#fdca26\"],[1.0,\"#f0f921\"]],\"type\":\"histogram2d\"}],\"histogram2dcontour\":[{\"colorbar\":{\"outlinewidth\":0,\"ticks\":\"\"},\"colorscale\":[[0.0,\"#0d0887\"],[0.1111111111111111,\"#46039f\"],[0.2222222222222222,\"#7201a8\"],[0.3333333333333333,\"#9c179e\"],[0.4444444444444444,\"#bd3786\"],[0.5555555555555556,\"#d8576b\"],[0.6666666666666666,\"#ed7953\"],[0.7777777777777778,\"#fb9f3a\"],[0.8888888888888888,\"#fdca26\"],[1.0,\"#f0f921\"]],\"type\":\"histogram2dcontour\"}],\"mesh3d\":[{\"colorbar\":{\"outlinewidth\":0,\"ticks\":\"\"},\"type\":\"mesh3d\"}],\"parcoords\":[{\"line\":{\"colorbar\":{\"outlinewidth\":0,\"ticks\":\"\"}},\"type\":\"parcoords\"}],\"pie\":[{\"automargin\":true,\"type\":\"pie\"}],\"scatter\":[{\"marker\":{\"colorbar\":{\"outlinewidth\":0,\"ticks\":\"\"}},\"type\":\"scatter\"}],\"scatter3d\":[{\"line\":{\"colorbar\":{\"outlinewidth\":0,\"ticks\":\"\"}},\"marker\":{\"colorbar\":{\"outlinewidth\":0,\"ticks\":\"\"}},\"type\":\"scatter3d\"}],\"scattercarpet\":[{\"marker\":{\"colorbar\":{\"outlinewidth\":0,\"ticks\":\"\"}},\"type\":\"scattercarpet\"}],\"scattergeo\":[{\"marker\":{\"colorbar\":{\"outlinewidth\":0,\"ticks\":\"\"}},\"type\":\"scattergeo\"}],\"scattergl\":[{\"marker\":{\"colorbar\":{\"outlinewidth\":0,\"ticks\":\"\"}},\"type\":\"scattergl\"}],\"scattermapbox\":[{\"marker\":{\"colorbar\":{\"outlinewidth\":0,\"ticks\":\"\"}},\"type\":\"scattermapbox\"}],\"scatterpolar\":[{\"marker\":{\"colorbar\":{\"outlinewidth\":0,\"ticks\":\"\"}},\"type\":\"scatterpolar\"}],\"scatterpolargl\":[{\"marker\":{\"colorbar\":{\"outlinewidth\":0,\"ticks\":\"\"}},\"type\":\"scatterpolargl\"}],\"scatterternary\":[{\"marker\":{\"colorbar\":{\"outlinewidth\":0,\"ticks\":\"\"}},\"type\":\"scatterternary\"}],\"surface\":[{\"colorbar\":{\"outlinewidth\":0,\"ticks\":\"\"},\"colorscale\":[[0.0,\"#0d0887\"],[0.1111111111111111,\"#46039f\"],[0.2222222222222222,\"#7201a8\"],[0.3333333333333333,\"#9c179e\"],[0.4444444444444444,\"#bd3786\"],[0.5555555555555556,\"#d8576b\"],[0.6666666666666666,\"#ed7953\"],[0.7777777777777778,\"#fb9f3a\"],[0.8888888888888888,\"#fdca26\"],[1.0,\"#f0f921\"]],\"type\":\"surface\"}],\"table\":[{\"cells\":{\"fill\":{\"color\":\"#EBF0F8\"},\"line\":{\"color\":\"white\"}},\"header\":{\"fill\":{\"color\":\"#C8D4E3\"},\"line\":{\"color\":\"white\"}},\"type\":\"table\"}]},\"layout\":{\"annotationdefaults\":{\"arrowcolor\":\"#2a3f5f\",\"arrowhead\":0,\"arrowwidth\":1},\"autotypenumbers\":\"strict\",\"coloraxis\":{\"colorbar\":{\"outlinewidth\":0,\"ticks\":\"\"}},\"colorscale\":{\"diverging\":[[0,\"#8e0152\"],[0.1,\"#c51b7d\"],[0.2,\"#de77ae\"],[0.3,\"#f1b6da\"],[0.4,\"#fde0ef\"],[0.5,\"#f7f7f7\"],[0.6,\"#e6f5d0\"],[0.7,\"#b8e186\"],[0.8,\"#7fbc41\"],[0.9,\"#4d9221\"],[1,\"#276419\"]],\"sequential\":[[0.0,\"#0d0887\"],[0.1111111111111111,\"#46039f\"],[0.2222222222222222,\"#7201a8\"],[0.3333333333333333,\"#9c179e\"],[0.4444444444444444,\"#bd3786\"],[0.5555555555555556,\"#d8576b\"],[0.6666666666666666,\"#ed7953\"],[0.7777777777777778,\"#fb9f3a\"],[0.8888888888888888,\"#fdca26\"],[1.0,\"#f0f921\"]],\"sequentialminus\":[[0.0,\"#0d0887\"],[0.1111111111111111,\"#46039f\"],[0.2222222222222222,\"#7201a8\"],[0.3333333333333333,\"#9c179e\"],[0.4444444444444444,\"#bd3786\"],[0.5555555555555556,\"#d8576b\"],[0.6666666666666666,\"#ed7953\"],[0.7777777777777778,\"#fb9f3a\"],[0.8888888888888888,\"#fdca26\"],[1.0,\"#f0f921\"]]},\"colorway\":[\"#636efa\",\"#EF553B\",\"#00cc96\",\"#ab63fa\",\"#FFA15A\",\"#19d3f3\",\"#FF6692\",\"#B6E880\",\"#FF97FF\",\"#FECB52\"],\"font\":{\"color\":\"#2a3f5f\"},\"geo\":{\"bgcolor\":\"white\",\"lakecolor\":\"white\",\"landcolor\":\"#E5ECF6\",\"showlakes\":true,\"showland\":true,\"subunitcolor\":\"white\"},\"hoverlabel\":{\"align\":\"left\"},\"hovermode\":\"closest\",\"mapbox\":{\"style\":\"light\"},\"paper_bgcolor\":\"white\",\"plot_bgcolor\":\"#E5ECF6\",\"polar\":{\"angularaxis\":{\"gridcolor\":\"white\",\"linecolor\":\"white\",\"ticks\":\"\"},\"bgcolor\":\"#E5ECF6\",\"radialaxis\":{\"gridcolor\":\"white\",\"linecolor\":\"white\",\"ticks\":\"\"}},\"scene\":{\"xaxis\":{\"backgroundcolor\":\"#E5ECF6\",\"gridcolor\":\"white\",\"gridwidth\":2,\"linecolor\":\"white\",\"showbackground\":true,\"ticks\":\"\",\"zerolinecolor\":\"white\"},\"yaxis\":{\"backgroundcolor\":\"#E5ECF6\",\"gridcolor\":\"white\",\"gridwidth\":2,\"linecolor\":\"white\",\"showbackground\":true,\"ticks\":\"\",\"zerolinecolor\":\"white\"},\"zaxis\":{\"backgroundcolor\":\"#E5ECF6\",\"gridcolor\":\"white\",\"gridwidth\":2,\"linecolor\":\"white\",\"showbackground\":true,\"ticks\":\"\",\"zerolinecolor\":\"white\"}},\"shapedefaults\":{\"line\":{\"color\":\"#2a3f5f\"}},\"ternary\":{\"aaxis\":{\"gridcolor\":\"white\",\"linecolor\":\"white\",\"ticks\":\"\"},\"baxis\":{\"gridcolor\":\"white\",\"linecolor\":\"white\",\"ticks\":\"\"},\"bgcolor\":\"#E5ECF6\",\"caxis\":{\"gridcolor\":\"white\",\"linecolor\":\"white\",\"ticks\":\"\"}},\"title\":{\"x\":0.05},\"xaxis\":{\"automargin\":true,\"gridcolor\":\"white\",\"linecolor\":\"white\",\"ticks\":\"\",\"title\":{\"standoff\":15},\"zerolinecolor\":\"white\",\"zerolinewidth\":2},\"yaxis\":{\"automargin\":true,\"gridcolor\":\"white\",\"linecolor\":\"white\",\"ticks\":\"\",\"title\":{\"standoff\":15},\"zerolinecolor\":\"white\",\"zerolinewidth\":2}}},\"title\":{\"font\":{\"color\":\"#4D5663\"},\"text\":\"Special Attack and Defense Scores\"},\"xaxis\":{\"gridcolor\":\"#E1E5ED\",\"showgrid\":true,\"tickfont\":{\"color\":\"#4D5663\"},\"title\":{\"font\":{\"color\":\"#4D5663\"},\"text\":\"\"},\"zerolinecolor\":\"#E1E5ED\"},\"yaxis\":{\"gridcolor\":\"#E1E5ED\",\"showgrid\":true,\"tickfont\":{\"color\":\"#4D5663\"},\"title\":{\"font\":{\"color\":\"#4D5663\"},\"text\":\"\"},\"zerolinecolor\":\"#E1E5ED\"}},                        {\"showLink\": true, \"linkText\": \"Export to plot.ly\", \"plotlyServerURL\": \"https://plot.ly\", \"responsive\": true}                    ).then(function(){\n",
       "                            \n",
       "var gd = document.getElementById('f58e912a-39a6-46d7-8469-25a02f211672');\n",
       "var x = new MutationObserver(function (mutations, observer) {{\n",
       "        var display = window.getComputedStyle(gd).display;\n",
       "        if (!display || display === 'none') {{\n",
       "            console.log([gd, 'removed!']);\n",
       "            Plotly.purge(gd);\n",
       "            observer.disconnect();\n",
       "        }}\n",
       "}});\n",
       "\n",
       "// Listen for the removal of the full notebook cells\n",
       "var notebookContainer = gd.closest('#notebook-container');\n",
       "if (notebookContainer) {{\n",
       "    x.observe(notebookContainer, {childList: true});\n",
       "}}\n",
       "\n",
       "// Listen for the clearing of the current output cell\n",
       "var outputEl = gd.closest('.output');\n",
       "if (outputEl) {{\n",
       "    x.observe(outputEl, {childList: true});\n",
       "}}\n",
       "\n",
       "                        })                };                });            </script>        </div>"
      ]
     },
     "metadata": {},
     "output_type": "display_data"
    }
   ],
   "source": [
    "df = df1.drop(['Total', 'Attack', 'Defense', 'Speed', 'HP', 'Type 2', 'Generation', 'Legendary'], axis=1)\n",
    "df = df.groupby('Type 1').mean()\n",
    "\n",
    "df.iplot(kind='bar', title='Special Attack and Defense Scores')"
   ]
  },
  {
   "cell_type": "markdown",
   "metadata": {},
   "source": [
    "Generating a box plot to demonstrate the shape of the distribution of each stat:"
   ]
  },
  {
   "cell_type": "code",
   "execution_count": 8,
   "metadata": {},
   "outputs": [
    {
     "data": {
      "application/vnd.plotly.v1+json": {
       "config": {
        "linkText": "Export to plot.ly",
        "plotlyServerURL": "https://plot.ly",
        "showLink": true
       },
       "data": [
        {
         "boxpoints": false,
         "line": {
          "width": 1.3
         },
         "marker": {
          "color": "rgba(255, 153, 51, 1.0)"
         },
         "name": "HP",
         "orientation": "v",
         "type": "box",
         "y": [
          45,
          60,
          80,
          80,
          39,
          58,
          78,
          78,
          78,
          44,
          59,
          79,
          79,
          45,
          50,
          60,
          40,
          45,
          65,
          65,
          40,
          63,
          83,
          83,
          30,
          55,
          40,
          65,
          35,
          60,
          35,
          60,
          50,
          75,
          55,
          70,
          90,
          46,
          61,
          81,
          70,
          95,
          38,
          73,
          115,
          140,
          40,
          75,
          45,
          60,
          75,
          35,
          60,
          60,
          70,
          10,
          35,
          40,
          65,
          50,
          80,
          40,
          65,
          55,
          90,
          40,
          65,
          90,
          25,
          40,
          55,
          55,
          70,
          80,
          90,
          50,
          65,
          80,
          40,
          80,
          40,
          55,
          80,
          50,
          65,
          90,
          95,
          95,
          25,
          50,
          52,
          35,
          60,
          65,
          90,
          80,
          105,
          30,
          50,
          30,
          45,
          60,
          60,
          35,
          60,
          85,
          30,
          55,
          40,
          60,
          60,
          95,
          50,
          60,
          50,
          50,
          90,
          40,
          65,
          80,
          105,
          250,
          65,
          105,
          105,
          30,
          55,
          45,
          80,
          30,
          60,
          40,
          70,
          65,
          65,
          65,
          65,
          65,
          75,
          20,
          95,
          95,
          130,
          48,
          55,
          130,
          65,
          65,
          65,
          35,
          70,
          30,
          60,
          80,
          80,
          160,
          90,
          90,
          90,
          41,
          61,
          91,
          106,
          106,
          106,
          100,
          45,
          60,
          80,
          39,
          58,
          78,
          50,
          65,
          85,
          35,
          85,
          60,
          100,
          40,
          55,
          40,
          70,
          85,
          75,
          125,
          20,
          50,
          90,
          35,
          55,
          40,
          65,
          55,
          70,
          90,
          90,
          75,
          70,
          100,
          70,
          90,
          35,
          55,
          75,
          55,
          30,
          75,
          65,
          55,
          95,
          65,
          95,
          60,
          95,
          60,
          48,
          190,
          70,
          50,
          75,
          100,
          65,
          75,
          75,
          60,
          90,
          65,
          70,
          70,
          20,
          80,
          80,
          55,
          60,
          90,
          40,
          50,
          50,
          100,
          55,
          35,
          75,
          45,
          65,
          65,
          45,
          75,
          75,
          75,
          90,
          90,
          85,
          73,
          55,
          35,
          50,
          45,
          45,
          45,
          95,
          255,
          90,
          115,
          100,
          50,
          70,
          100,
          100,
          106,
          106,
          100,
          40,
          50,
          70,
          70,
          45,
          60,
          80,
          80,
          50,
          70,
          100,
          100,
          35,
          70,
          38,
          78,
          45,
          50,
          60,
          50,
          60,
          40,
          60,
          80,
          40,
          70,
          90,
          40,
          60,
          40,
          60,
          28,
          38,
          68,
          68,
          40,
          70,
          60,
          60,
          60,
          80,
          150,
          31,
          61,
          1,
          64,
          84,
          104,
          72,
          144,
          50,
          30,
          50,
          70,
          50,
          50,
          50,
          50,
          50,
          60,
          70,
          70,
          30,
          60,
          60,
          40,
          70,
          70,
          60,
          60,
          65,
          65,
          50,
          70,
          100,
          45,
          70,
          70,
          130,
          170,
          60,
          70,
          70,
          70,
          60,
          80,
          60,
          45,
          50,
          80,
          50,
          70,
          45,
          75,
          75,
          73,
          73,
          70,
          70,
          50,
          110,
          43,
          63,
          40,
          60,
          66,
          86,
          45,
          75,
          20,
          95,
          70,
          60,
          44,
          64,
          64,
          20,
          40,
          99,
          65,
          65,
          65,
          95,
          50,
          80,
          80,
          70,
          90,
          110,
          35,
          55,
          55,
          100,
          43,
          45,
          65,
          95,
          95,
          40,
          60,
          80,
          80,
          80,
          80,
          80,
          80,
          80,
          80,
          80,
          100,
          100,
          100,
          100,
          105,
          105,
          100,
          50,
          50,
          50,
          50,
          55,
          75,
          95,
          44,
          64,
          76,
          53,
          64,
          84,
          40,
          55,
          85,
          59,
          79,
          37,
          77,
          45,
          60,
          80,
          40,
          60,
          67,
          97,
          30,
          60,
          40,
          60,
          60,
          60,
          70,
          30,
          70,
          60,
          55,
          85,
          45,
          70,
          76,
          111,
          75,
          90,
          150,
          55,
          65,
          65,
          60,
          100,
          49,
          71,
          45,
          63,
          103,
          57,
          67,
          50,
          20,
          100,
          76,
          50,
          58,
          68,
          108,
          108,
          135,
          40,
          70,
          70,
          68,
          108,
          40,
          70,
          48,
          83,
          74,
          49,
          69,
          45,
          60,
          90,
          90,
          70,
          70,
          110,
          115,
          100,
          75,
          75,
          85,
          86,
          65,
          65,
          75,
          110,
          85,
          68,
          68,
          60,
          45,
          70,
          50,
          50,
          50,
          50,
          50,
          50,
          75,
          80,
          75,
          100,
          90,
          91,
          110,
          150,
          150,
          120,
          80,
          100,
          70,
          100,
          100,
          120,
          100,
          45,
          60,
          75,
          65,
          90,
          110,
          55,
          75,
          95,
          45,
          60,
          45,
          65,
          85,
          41,
          64,
          50,
          75,
          50,
          75,
          50,
          75,
          76,
          116,
          50,
          62,
          80,
          45,
          75,
          55,
          70,
          85,
          55,
          67,
          60,
          110,
          103,
          103,
          75,
          85,
          105,
          50,
          75,
          105,
          120,
          75,
          45,
          55,
          75,
          30,
          40,
          60,
          40,
          60,
          45,
          70,
          70,
          50,
          60,
          95,
          70,
          105,
          105,
          75,
          50,
          70,
          50,
          65,
          72,
          38,
          58,
          54,
          74,
          55,
          75,
          50,
          80,
          40,
          60,
          55,
          75,
          45,
          60,
          70,
          45,
          65,
          110,
          62,
          75,
          36,
          51,
          71,
          60,
          80,
          55,
          50,
          70,
          69,
          114,
          55,
          100,
          165,
          50,
          70,
          44,
          74,
          40,
          60,
          60,
          35,
          65,
          85,
          55,
          75,
          50,
          60,
          60,
          46,
          66,
          76,
          55,
          95,
          70,
          50,
          80,
          109,
          45,
          65,
          77,
          59,
          89,
          45,
          65,
          95,
          70,
          100,
          70,
          110,
          85,
          58,
          52,
          72,
          92,
          55,
          85,
          91,
          91,
          91,
          79,
          79,
          79,
          79,
          100,
          100,
          89,
          89,
          125,
          125,
          125,
          91,
          91,
          100,
          100,
          71,
          56,
          61,
          88,
          40,
          59,
          75,
          41,
          54,
          72,
          38,
          85,
          45,
          62,
          78,
          38,
          45,
          80,
          62,
          86,
          44,
          54,
          78,
          66,
          123,
          67,
          95,
          75,
          62,
          74,
          74,
          45,
          59,
          60,
          60,
          78,
          101,
          62,
          82,
          53,
          86,
          42,
          72,
          50,
          65,
          50,
          71,
          44,
          62,
          58,
          82,
          77,
          123,
          95,
          78,
          67,
          50,
          45,
          68,
          90,
          57,
          43,
          85,
          49,
          44,
          54,
          59,
          65,
          55,
          75,
          85,
          55,
          95,
          40,
          85,
          126,
          126,
          108,
          50,
          50,
          80,
          80,
          80
         ]
        },
        {
         "boxpoints": false,
         "line": {
          "width": 1.3
         },
         "marker": {
          "color": "rgba(55, 128, 191, 1.0)"
         },
         "name": "Attack",
         "orientation": "v",
         "type": "box",
         "y": [
          49,
          62,
          82,
          100,
          52,
          64,
          84,
          130,
          104,
          48,
          63,
          83,
          103,
          30,
          20,
          45,
          35,
          25,
          90,
          150,
          45,
          60,
          80,
          80,
          56,
          81,
          60,
          90,
          60,
          85,
          55,
          90,
          75,
          100,
          47,
          62,
          92,
          57,
          72,
          102,
          45,
          70,
          41,
          76,
          45,
          70,
          45,
          80,
          50,
          65,
          80,
          70,
          95,
          55,
          65,
          55,
          80,
          45,
          70,
          52,
          82,
          80,
          105,
          70,
          110,
          50,
          65,
          95,
          20,
          35,
          50,
          50,
          80,
          100,
          130,
          75,
          90,
          105,
          40,
          70,
          80,
          95,
          120,
          85,
          100,
          65,
          75,
          75,
          35,
          60,
          65,
          85,
          110,
          45,
          70,
          80,
          105,
          65,
          95,
          35,
          50,
          65,
          65,
          45,
          48,
          73,
          105,
          130,
          30,
          50,
          40,
          95,
          50,
          80,
          120,
          105,
          55,
          65,
          90,
          85,
          130,
          5,
          55,
          95,
          125,
          40,
          65,
          67,
          92,
          45,
          75,
          45,
          110,
          50,
          83,
          95,
          125,
          155,
          100,
          10,
          125,
          155,
          85,
          48,
          55,
          65,
          65,
          130,
          60,
          40,
          60,
          80,
          115,
          105,
          135,
          110,
          85,
          90,
          100,
          64,
          84,
          134,
          110,
          190,
          150,
          100,
          49,
          62,
          82,
          52,
          64,
          84,
          65,
          80,
          105,
          46,
          76,
          30,
          50,
          20,
          35,
          60,
          90,
          90,
          38,
          58,
          40,
          25,
          30,
          20,
          40,
          50,
          75,
          40,
          55,
          75,
          95,
          80,
          20,
          50,
          100,
          75,
          35,
          45,
          55,
          70,
          30,
          75,
          65,
          45,
          85,
          65,
          65,
          85,
          75,
          60,
          72,
          33,
          80,
          65,
          90,
          70,
          75,
          85,
          125,
          80,
          120,
          95,
          130,
          150,
          10,
          125,
          185,
          95,
          80,
          130,
          40,
          50,
          50,
          100,
          55,
          65,
          105,
          55,
          40,
          80,
          60,
          90,
          90,
          95,
          60,
          120,
          80,
          95,
          20,
          35,
          95,
          30,
          63,
          75,
          80,
          10,
          85,
          115,
          75,
          64,
          84,
          134,
          164,
          90,
          130,
          100,
          45,
          65,
          85,
          110,
          60,
          85,
          120,
          160,
          70,
          85,
          110,
          150,
          55,
          90,
          30,
          70,
          45,
          35,
          70,
          35,
          50,
          30,
          50,
          70,
          40,
          70,
          100,
          55,
          85,
          30,
          50,
          25,
          35,
          65,
          85,
          30,
          60,
          40,
          130,
          60,
          80,
          160,
          45,
          90,
          90,
          51,
          71,
          91,
          60,
          120,
          20,
          45,
          45,
          65,
          75,
          85,
          85,
          105,
          70,
          90,
          110,
          140,
          40,
          60,
          100,
          45,
          75,
          75,
          50,
          40,
          73,
          47,
          60,
          43,
          73,
          90,
          120,
          140,
          70,
          90,
          60,
          100,
          120,
          85,
          25,
          45,
          60,
          100,
          70,
          100,
          85,
          115,
          40,
          70,
          110,
          115,
          100,
          55,
          95,
          48,
          78,
          80,
          120,
          40,
          70,
          41,
          81,
          95,
          125,
          15,
          60,
          70,
          90,
          75,
          115,
          165,
          40,
          70,
          68,
          50,
          130,
          150,
          23,
          50,
          80,
          120,
          40,
          60,
          80,
          64,
          104,
          84,
          90,
          30,
          75,
          95,
          135,
          145,
          55,
          75,
          135,
          145,
          100,
          50,
          75,
          80,
          100,
          90,
          130,
          100,
          150,
          150,
          180,
          150,
          180,
          100,
          150,
          180,
          70,
          95,
          68,
          89,
          109,
          58,
          78,
          104,
          51,
          66,
          86,
          55,
          75,
          120,
          45,
          85,
          25,
          85,
          65,
          85,
          120,
          30,
          70,
          125,
          165,
          42,
          52,
          29,
          59,
          79,
          69,
          94,
          30,
          80,
          45,
          65,
          105,
          35,
          60,
          48,
          83,
          100,
          50,
          80,
          66,
          76,
          136,
          60,
          125,
          55,
          82,
          30,
          63,
          93,
          24,
          89,
          80,
          25,
          5,
          65,
          92,
          70,
          90,
          130,
          170,
          85,
          70,
          110,
          145,
          72,
          112,
          50,
          90,
          61,
          106,
          100,
          49,
          69,
          20,
          62,
          92,
          132,
          120,
          70,
          85,
          140,
          100,
          123,
          95,
          50,
          76,
          110,
          60,
          95,
          130,
          80,
          125,
          165,
          55,
          100,
          80,
          50,
          65,
          65,
          65,
          65,
          65,
          75,
          105,
          125,
          120,
          120,
          90,
          160,
          100,
          120,
          70,
          80,
          100,
          90,
          100,
          103,
          120,
          100,
          45,
          60,
          75,
          63,
          93,
          123,
          55,
          75,
          100,
          55,
          85,
          60,
          80,
          110,
          50,
          88,
          53,
          98,
          53,
          98,
          53,
          98,
          25,
          55,
          55,
          77,
          115,
          60,
          100,
          75,
          105,
          135,
          45,
          57,
          85,
          135,
          60,
          60,
          80,
          105,
          140,
          50,
          65,
          95,
          100,
          125,
          53,
          63,
          103,
          45,
          55,
          100,
          27,
          67,
          35,
          60,
          92,
          72,
          82,
          117,
          90,
          140,
          30,
          86,
          65,
          95,
          75,
          90,
          58,
          30,
          50,
          78,
          108,
          112,
          140,
          50,
          95,
          65,
          105,
          50,
          95,
          30,
          45,
          55,
          30,
          40,
          65,
          44,
          87,
          50,
          65,
          95,
          60,
          100,
          75,
          75,
          135,
          55,
          85,
          40,
          60,
          75,
          47,
          77,
          50,
          94,
          55,
          80,
          100,
          55,
          85,
          115,
          55,
          75,
          30,
          40,
          55,
          87,
          117,
          147,
          70,
          110,
          50,
          40,
          70,
          66,
          85,
          125,
          120,
          74,
          124,
          85,
          125,
          110,
          83,
          123,
          55,
          65,
          97,
          109,
          65,
          85,
          105,
          85,
          60,
          90,
          129,
          90,
          115,
          100,
          115,
          105,
          120,
          150,
          125,
          145,
          130,
          170,
          120,
          72,
          72,
          77,
          128,
          120,
          61,
          78,
          107,
          45,
          59,
          69,
          56,
          63,
          95,
          36,
          56,
          50,
          73,
          81,
          35,
          22,
          52,
          50,
          68,
          38,
          45,
          65,
          65,
          100,
          82,
          124,
          80,
          48,
          48,
          48,
          80,
          110,
          150,
          50,
          52,
          72,
          48,
          80,
          54,
          92,
          52,
          105,
          60,
          75,
          53,
          73,
          38,
          55,
          89,
          121,
          59,
          77,
          65,
          92,
          58,
          50,
          50,
          75,
          100,
          80,
          70,
          110,
          66,
          66,
          66,
          66,
          90,
          85,
          95,
          100,
          69,
          117,
          30,
          70,
          131,
          131,
          100,
          100,
          160,
          110,
          160,
          110
         ]
        },
        {
         "boxpoints": false,
         "line": {
          "width": 1.3
         },
         "marker": {
          "color": "rgba(50, 171, 96, 1.0)"
         },
         "name": "Defense",
         "orientation": "v",
         "type": "box",
         "y": [
          49,
          63,
          83,
          123,
          43,
          58,
          78,
          111,
          78,
          65,
          80,
          100,
          120,
          35,
          55,
          50,
          30,
          50,
          40,
          40,
          40,
          55,
          75,
          80,
          35,
          60,
          30,
          65,
          44,
          69,
          40,
          55,
          85,
          110,
          52,
          67,
          87,
          40,
          57,
          77,
          48,
          73,
          40,
          75,
          20,
          45,
          35,
          70,
          55,
          70,
          85,
          55,
          80,
          50,
          60,
          25,
          50,
          35,
          60,
          48,
          78,
          35,
          60,
          45,
          80,
          40,
          65,
          95,
          15,
          30,
          45,
          65,
          50,
          70,
          80,
          35,
          50,
          65,
          35,
          65,
          100,
          115,
          130,
          55,
          70,
          65,
          110,
          180,
          70,
          95,
          55,
          45,
          70,
          55,
          80,
          50,
          75,
          100,
          180,
          30,
          45,
          60,
          80,
          160,
          45,
          70,
          90,
          115,
          50,
          70,
          80,
          85,
          95,
          110,
          53,
          79,
          75,
          95,
          120,
          95,
          120,
          5,
          115,
          80,
          100,
          70,
          95,
          60,
          65,
          55,
          85,
          65,
          80,
          35,
          57,
          57,
          100,
          120,
          95,
          55,
          79,
          109,
          80,
          48,
          50,
          60,
          60,
          60,
          70,
          100,
          125,
          90,
          105,
          65,
          85,
          65,
          100,
          85,
          90,
          45,
          65,
          95,
          90,
          100,
          70,
          100,
          65,
          80,
          100,
          43,
          58,
          78,
          64,
          80,
          100,
          34,
          64,
          30,
          50,
          30,
          50,
          40,
          70,
          80,
          38,
          58,
          15,
          28,
          15,
          65,
          85,
          45,
          70,
          40,
          55,
          85,
          105,
          95,
          50,
          80,
          115,
          75,
          40,
          50,
          70,
          55,
          30,
          55,
          45,
          45,
          85,
          60,
          110,
          42,
          80,
          60,
          48,
          58,
          65,
          90,
          140,
          70,
          105,
          200,
          230,
          50,
          75,
          75,
          100,
          140,
          230,
          75,
          115,
          55,
          50,
          75,
          40,
          120,
          40,
          80,
          85,
          35,
          75,
          45,
          70,
          140,
          30,
          50,
          90,
          95,
          60,
          120,
          90,
          62,
          35,
          35,
          95,
          15,
          37,
          37,
          105,
          10,
          75,
          85,
          115,
          50,
          70,
          110,
          150,
          130,
          90,
          100,
          35,
          45,
          65,
          75,
          40,
          60,
          70,
          80,
          50,
          70,
          90,
          110,
          35,
          70,
          41,
          61,
          35,
          55,
          50,
          55,
          70,
          30,
          50,
          70,
          50,
          40,
          60,
          30,
          60,
          30,
          100,
          25,
          35,
          65,
          65,
          32,
          62,
          60,
          80,
          60,
          80,
          100,
          90,
          45,
          45,
          23,
          43,
          63,
          30,
          60,
          40,
          135,
          45,
          65,
          75,
          125,
          85,
          125,
          100,
          140,
          180,
          230,
          55,
          75,
          85,
          40,
          60,
          80,
          40,
          50,
          55,
          55,
          45,
          53,
          83,
          20,
          40,
          70,
          35,
          45,
          40,
          70,
          100,
          140,
          35,
          65,
          60,
          45,
          50,
          80,
          40,
          60,
          60,
          90,
          110,
          60,
          60,
          65,
          85,
          43,
          73,
          65,
          85,
          55,
          105,
          77,
          97,
          50,
          100,
          20,
          79,
          70,
          70,
          35,
          65,
          75,
          90,
          130,
          83,
          70,
          60,
          60,
          48,
          50,
          80,
          80,
          50,
          70,
          90,
          85,
          105,
          105,
          130,
          55,
          60,
          100,
          80,
          130,
          80,
          100,
          130,
          150,
          200,
          100,
          150,
          90,
          120,
          80,
          100,
          90,
          90,
          140,
          160,
          90,
          100,
          100,
          50,
          20,
          160,
          90,
          64,
          85,
          105,
          44,
          52,
          71,
          53,
          68,
          88,
          30,
          50,
          70,
          40,
          60,
          41,
          51,
          34,
          49,
          79,
          35,
          65,
          40,
          60,
          118,
          168,
          45,
          85,
          105,
          95,
          50,
          42,
          102,
          70,
          35,
          55,
          45,
          70,
          48,
          68,
          66,
          34,
          44,
          44,
          84,
          94,
          60,
          52,
          42,
          64,
          50,
          47,
          67,
          86,
          116,
          95,
          45,
          5,
          45,
          108,
          45,
          65,
          95,
          115,
          40,
          40,
          70,
          88,
          78,
          118,
          90,
          110,
          40,
          65,
          72,
          56,
          76,
          50,
          50,
          75,
          105,
          65,
          115,
          95,
          130,
          125,
          67,
          67,
          95,
          86,
          130,
          110,
          125,
          80,
          70,
          65,
          95,
          145,
          135,
          70,
          77,
          107,
          107,
          107,
          107,
          107,
          130,
          105,
          70,
          120,
          100,
          106,
          110,
          120,
          100,
          120,
          80,
          100,
          90,
          100,
          75,
          120,
          100,
          55,
          75,
          95,
          45,
          55,
          65,
          45,
          60,
          85,
          39,
          69,
          45,
          65,
          90,
          37,
          50,
          48,
          63,
          48,
          63,
          48,
          63,
          45,
          85,
          50,
          62,
          80,
          32,
          63,
          85,
          105,
          130,
          43,
          55,
          40,
          60,
          86,
          126,
          55,
          85,
          95,
          40,
          55,
          75,
          85,
          75,
          70,
          90,
          80,
          59,
          99,
          89,
          60,
          85,
          50,
          75,
          65,
          35,
          45,
          80,
          45,
          55,
          105,
          67,
          85,
          125,
          70,
          115,
          80,
          85,
          145,
          103,
          133,
          45,
          65,
          62,
          82,
          40,
          60,
          40,
          60,
          50,
          70,
          95,
          40,
          50,
          75,
          50,
          63,
          50,
          65,
          85,
          50,
          70,
          60,
          45,
          105,
          45,
          70,
          50,
          70,
          80,
          50,
          60,
          91,
          131,
          70,
          95,
          115,
          40,
          70,
          80,
          55,
          75,
          55,
          60,
          90,
          60,
          70,
          90,
          40,
          80,
          30,
          85,
          40,
          84,
          50,
          60,
          90,
          50,
          80,
          70,
          100,
          95,
          50,
          75,
          75,
          105,
          66,
          112,
          50,
          70,
          90,
          55,
          65,
          129,
          90,
          72,
          70,
          80,
          70,
          70,
          100,
          120,
          90,
          90,
          90,
          100,
          90,
          90,
          90,
          77,
          90,
          95,
          65,
          95,
          122,
          40,
          58,
          72,
          40,
          52,
          67,
          38,
          77,
          43,
          55,
          71,
          40,
          60,
          50,
          58,
          72,
          39,
          47,
          68,
          48,
          62,
          62,
          78,
          60,
          54,
          76,
          76,
          100,
          150,
          50,
          150,
          60,
          72,
          66,
          86,
          53,
          88,
          67,
          115,
          60,
          90,
          62,
          88,
          33,
          52,
          77,
          119,
          50,
          72,
          65,
          75,
          57,
          150,
          35,
          53,
          70,
          91,
          48,
          76,
          70,
          70,
          70,
          70,
          122,
          122,
          122,
          122,
          85,
          184,
          35,
          80,
          95,
          95,
          121,
          150,
          110,
          60,
          60,
          120
         ]
        },
        {
         "boxpoints": false,
         "line": {
          "width": 1.3
         },
         "marker": {
          "color": "rgba(128, 0, 128, 1.0)"
         },
         "name": "Sp. Atk",
         "orientation": "v",
         "type": "box",
         "y": [
          65,
          80,
          100,
          122,
          60,
          80,
          109,
          130,
          159,
          50,
          65,
          85,
          135,
          20,
          25,
          90,
          20,
          25,
          45,
          15,
          35,
          50,
          70,
          135,
          25,
          50,
          31,
          61,
          40,
          65,
          50,
          90,
          20,
          45,
          40,
          55,
          75,
          40,
          55,
          85,
          60,
          95,
          50,
          81,
          45,
          85,
          30,
          65,
          75,
          85,
          110,
          45,
          60,
          40,
          90,
          35,
          50,
          40,
          65,
          65,
          95,
          35,
          60,
          70,
          100,
          40,
          50,
          70,
          105,
          120,
          135,
          175,
          35,
          50,
          65,
          70,
          85,
          100,
          50,
          80,
          30,
          45,
          55,
          65,
          80,
          40,
          100,
          130,
          95,
          120,
          58,
          35,
          60,
          45,
          70,
          40,
          65,
          45,
          85,
          100,
          115,
          130,
          170,
          30,
          43,
          73,
          25,
          50,
          55,
          80,
          60,
          125,
          40,
          50,
          35,
          35,
          60,
          60,
          85,
          30,
          45,
          35,
          100,
          40,
          60,
          70,
          95,
          35,
          65,
          70,
          100,
          100,
          55,
          115,
          95,
          100,
          55,
          65,
          40,
          15,
          60,
          70,
          85,
          48,
          45,
          110,
          110,
          95,
          85,
          90,
          115,
          55,
          65,
          60,
          70,
          65,
          95,
          125,
          125,
          50,
          70,
          100,
          154,
          154,
          194,
          100,
          49,
          63,
          83,
          60,
          80,
          109,
          44,
          59,
          79,
          35,
          45,
          36,
          76,
          40,
          55,
          40,
          60,
          70,
          56,
          76,
          35,
          45,
          40,
          40,
          80,
          70,
          95,
          65,
          80,
          115,
          165,
          90,
          20,
          60,
          30,
          90,
          35,
          45,
          55,
          40,
          30,
          105,
          75,
          25,
          65,
          130,
          60,
          85,
          100,
          85,
          72,
          33,
          90,
          35,
          60,
          65,
          35,
          55,
          55,
          40,
          60,
          55,
          55,
          65,
          10,
          40,
          40,
          35,
          50,
          75,
          70,
          80,
          30,
          60,
          65,
          65,
          105,
          65,
          80,
          40,
          80,
          110,
          140,
          95,
          40,
          60,
          105,
          85,
          20,
          35,
          35,
          85,
          65,
          70,
          40,
          75,
          115,
          90,
          90,
          45,
          65,
          95,
          95,
          90,
          110,
          100,
          65,
          85,
          105,
          145,
          70,
          85,
          110,
          130,
          50,
          60,
          85,
          95,
          30,
          60,
          30,
          50,
          20,
          25,
          100,
          25,
          50,
          40,
          60,
          90,
          30,
          60,
          90,
          30,
          50,
          55,
          85,
          45,
          65,
          125,
          165,
          50,
          80,
          40,
          60,
          35,
          55,
          95,
          30,
          50,
          30,
          51,
          71,
          91,
          20,
          40,
          20,
          45,
          35,
          55,
          65,
          85,
          55,
          55,
          40,
          50,
          60,
          60,
          40,
          60,
          80,
          65,
          105,
          135,
          85,
          75,
          47,
          73,
          100,
          43,
          73,
          65,
          95,
          110,
          70,
          90,
          65,
          105,
          145,
          85,
          70,
          90,
          60,
          45,
          50,
          80,
          85,
          115,
          40,
          70,
          110,
          60,
          100,
          95,
          55,
          46,
          76,
          50,
          90,
          40,
          70,
          61,
          81,
          40,
          70,
          10,
          100,
          70,
          60,
          63,
          83,
          93,
          30,
          60,
          72,
          95,
          75,
          115,
          23,
          50,
          80,
          120,
          55,
          75,
          95,
          74,
          94,
          114,
          45,
          40,
          40,
          60,
          110,
          120,
          35,
          55,
          95,
          105,
          50,
          100,
          75,
          110,
          140,
          130,
          160,
          150,
          180,
          100,
          150,
          150,
          180,
          100,
          150,
          180,
          70,
          95,
          45,
          55,
          75,
          58,
          78,
          104,
          61,
          81,
          111,
          30,
          40,
          50,
          35,
          55,
          25,
          55,
          40,
          60,
          95,
          50,
          125,
          30,
          65,
          42,
          47,
          29,
          79,
          59,
          69,
          94,
          30,
          80,
          45,
          60,
          85,
          62,
          87,
          57,
          92,
          60,
          60,
          90,
          44,
          54,
          54,
          105,
          105,
          42,
          64,
          65,
          41,
          71,
          24,
          79,
          10,
          70,
          15,
          92,
          92,
          40,
          50,
          80,
          120,
          40,
          35,
          115,
          140,
          38,
          68,
          30,
          60,
          61,
          86,
          90,
          49,
          69,
          60,
          62,
          92,
          132,
          45,
          130,
          80,
          55,
          110,
          95,
          125,
          120,
          116,
          60,
          130,
          45,
          70,
          135,
          65,
          65,
          75,
          65,
          80,
          95,
          105,
          105,
          105,
          105,
          105,
          75,
          105,
          125,
          150,
          150,
          130,
          80,
          100,
          120,
          75,
          80,
          100,
          135,
          100,
          120,
          120,
          100,
          45,
          60,
          75,
          45,
          70,
          100,
          63,
          83,
          108,
          35,
          60,
          25,
          35,
          45,
          50,
          88,
          53,
          98,
          53,
          98,
          53,
          98,
          67,
          107,
          36,
          50,
          65,
          50,
          80,
          25,
          50,
          60,
          55,
          77,
          30,
          50,
          60,
          80,
          25,
          40,
          55,
          50,
          65,
          85,
          30,
          30,
          40,
          50,
          70,
          30,
          40,
          55,
          37,
          77,
          70,
          110,
          80,
          35,
          45,
          65,
          15,
          30,
          140,
          106,
          35,
          65,
          35,
          45,
          103,
          55,
          95,
          53,
          83,
          74,
          112,
          40,
          60,
          80,
          120,
          40,
          65,
          55,
          75,
          95,
          105,
          125,
          125,
          44,
          87,
          65,
          80,
          110,
          40,
          60,
          75,
          40,
          60,
          55,
          85,
          65,
          85,
          40,
          57,
          97,
          24,
          54,
          45,
          70,
          70,
          45,
          75,
          105,
          85,
          125,
          65,
          95,
          145,
          30,
          40,
          60,
          60,
          70,
          95,
          40,
          100,
          81,
          55,
          95,
          60,
          35,
          55,
          40,
          60,
          40,
          37,
          57,
          45,
          55,
          105,
          48,
          45,
          65,
          125,
          50,
          135,
          90,
          72,
          90,
          125,
          110,
          125,
          145,
          150,
          120,
          115,
          105,
          130,
          120,
          170,
          129,
          129,
          128,
          77,
          120,
          48,
          56,
          74,
          62,
          90,
          114,
          62,
          83,
          103,
          32,
          50,
          40,
          56,
          74,
          27,
          27,
          90,
          73,
          109,
          61,
          75,
          112,
          62,
          97,
          46,
          69,
          65,
          63,
          83,
          83,
          35,
          45,
          150,
          50,
          63,
          99,
          59,
          85,
          37,
          68,
          39,
          54,
          60,
          97,
          58,
          120,
          61,
          109,
          45,
          69,
          67,
          99,
          110,
          74,
          81,
          50,
          55,
          83,
          110,
          80,
          50,
          65,
          44,
          44,
          44,
          44,
          58,
          58,
          58,
          58,
          32,
          44,
          45,
          97,
          131,
          131,
          81,
          100,
          160,
          150,
          170,
          130
         ]
        },
        {
         "boxpoints": false,
         "line": {
          "width": 1.3
         },
         "marker": {
          "color": "rgba(219, 64, 82, 1.0)"
         },
         "name": "Sp. Def",
         "orientation": "v",
         "type": "box",
         "y": [
          65,
          80,
          100,
          120,
          50,
          65,
          85,
          85,
          115,
          64,
          80,
          105,
          115,
          20,
          25,
          80,
          20,
          25,
          80,
          80,
          35,
          50,
          70,
          80,
          35,
          70,
          31,
          61,
          54,
          79,
          50,
          80,
          30,
          55,
          40,
          55,
          85,
          40,
          55,
          75,
          65,
          90,
          65,
          100,
          25,
          50,
          40,
          75,
          65,
          75,
          90,
          55,
          80,
          55,
          75,
          45,
          70,
          40,
          65,
          50,
          80,
          45,
          70,
          50,
          80,
          40,
          50,
          90,
          55,
          70,
          95,
          95,
          35,
          60,
          85,
          30,
          45,
          70,
          100,
          120,
          30,
          45,
          65,
          65,
          80,
          40,
          80,
          80,
          55,
          70,
          62,
          35,
          60,
          70,
          95,
          50,
          100,
          25,
          45,
          35,
          55,
          75,
          95,
          45,
          90,
          115,
          25,
          50,
          55,
          80,
          45,
          65,
          50,
          80,
          110,
          110,
          75,
          45,
          70,
          30,
          45,
          105,
          40,
          80,
          100,
          25,
          45,
          50,
          80,
          55,
          85,
          120,
          80,
          95,
          85,
          85,
          70,
          90,
          70,
          20,
          100,
          130,
          95,
          48,
          65,
          95,
          95,
          110,
          75,
          55,
          70,
          45,
          70,
          75,
          95,
          110,
          125,
          90,
          85,
          50,
          70,
          100,
          90,
          100,
          120,
          100,
          65,
          80,
          100,
          50,
          65,
          85,
          48,
          63,
          83,
          45,
          55,
          56,
          96,
          80,
          110,
          40,
          60,
          80,
          56,
          76,
          35,
          55,
          20,
          65,
          105,
          45,
          70,
          45,
          60,
          90,
          110,
          100,
          50,
          80,
          65,
          100,
          55,
          65,
          95,
          55,
          30,
          85,
          45,
          25,
          65,
          95,
          130,
          42,
          110,
          85,
          48,
          58,
          65,
          35,
          60,
          65,
          65,
          65,
          95,
          40,
          60,
          55,
          80,
          100,
          230,
          95,
          105,
          75,
          50,
          75,
          40,
          80,
          30,
          60,
          85,
          35,
          75,
          45,
          140,
          70,
          50,
          80,
          90,
          95,
          40,
          60,
          95,
          65,
          45,
          35,
          110,
          65,
          55,
          55,
          70,
          135,
          100,
          75,
          115,
          50,
          70,
          100,
          120,
          154,
          154,
          100,
          55,
          65,
          85,
          85,
          50,
          60,
          70,
          80,
          50,
          70,
          90,
          110,
          30,
          60,
          41,
          61,
          30,
          25,
          50,
          25,
          90,
          50,
          70,
          100,
          30,
          40,
          60,
          30,
          50,
          30,
          70,
          35,
          55,
          115,
          135,
          52,
          82,
          60,
          60,
          35,
          55,
          65,
          30,
          50,
          30,
          23,
          43,
          73,
          30,
          60,
          40,
          90,
          35,
          55,
          65,
          115,
          55,
          95,
          40,
          50,
          60,
          80,
          55,
          75,
          85,
          40,
          60,
          80,
          75,
          85,
          75,
          75,
          80,
          53,
          83,
          20,
          40,
          65,
          35,
          45,
          45,
          75,
          105,
          70,
          80,
          110,
          60,
          45,
          50,
          80,
          40,
          60,
          75,
          105,
          105,
          60,
          60,
          85,
          65,
          41,
          71,
          35,
          55,
          70,
          120,
          87,
          107,
          50,
          80,
          55,
          125,
          70,
          120,
          33,
          63,
          83,
          90,
          130,
          87,
          80,
          60,
          60,
          48,
          50,
          80,
          80,
          50,
          70,
          90,
          55,
          75,
          75,
          65,
          65,
          30,
          50,
          80,
          90,
          60,
          80,
          90,
          110,
          100,
          200,
          150,
          130,
          150,
          110,
          120,
          140,
          160,
          90,
          90,
          90,
          100,
          100,
          50,
          20,
          160,
          90,
          55,
          65,
          85,
          44,
          52,
          71,
          56,
          76,
          101,
          30,
          40,
          60,
          40,
          60,
          41,
          51,
          34,
          49,
          79,
          70,
          105,
          30,
          50,
          88,
          138,
          45,
          105,
          85,
          95,
          50,
          42,
          102,
          90,
          30,
          50,
          53,
          78,
          62,
          82,
          66,
          44,
          54,
          56,
          96,
          96,
          105,
          52,
          37,
          59,
          50,
          41,
          61,
          86,
          116,
          45,
          90,
          65,
          42,
          108,
          45,
          55,
          85,
          95,
          85,
          40,
          70,
          70,
          42,
          72,
          55,
          75,
          40,
          65,
          72,
          61,
          86,
          120,
          60,
          85,
          105,
          85,
          90,
          95,
          55,
          50,
          85,
          95,
          115,
          56,
          65,
          95,
          75,
          60,
          75,
          115,
          115,
          150,
          135,
          70,
          77,
          107,
          107,
          107,
          107,
          107,
          130,
          105,
          70,
          100,
          120,
          106,
          110,
          120,
          100,
          130,
          80,
          100,
          90,
          100,
          75,
          120,
          100,
          55,
          75,
          95,
          45,
          55,
          65,
          45,
          60,
          70,
          39,
          69,
          45,
          65,
          90,
          37,
          50,
          48,
          63,
          48,
          63,
          48,
          63,
          55,
          95,
          30,
          42,
          55,
          32,
          63,
          25,
          40,
          80,
          43,
          55,
          45,
          65,
          86,
          126,
          35,
          50,
          65,
          40,
          55,
          75,
          85,
          75,
          60,
          80,
          80,
          39,
          79,
          69,
          50,
          75,
          50,
          75,
          55,
          35,
          45,
          70,
          45,
          55,
          105,
          67,
          35,
          75,
          70,
          115,
          80,
          65,
          105,
          45,
          65,
          45,
          65,
          62,
          82,
          40,
          60,
          40,
          60,
          65,
          85,
          110,
          50,
          60,
          85,
          50,
          63,
          60,
          75,
          95,
          50,
          70,
          60,
          45,
          105,
          55,
          80,
          85,
          105,
          45,
          50,
          60,
          86,
          116,
          60,
          85,
          85,
          40,
          70,
          80,
          55,
          95,
          55,
          60,
          90,
          40,
          50,
          70,
          40,
          80,
          135,
          65,
          60,
          99,
          50,
          60,
          90,
          50,
          80,
          40,
          70,
          95,
          50,
          75,
          65,
          95,
          66,
          48,
          50,
          70,
          90,
          55,
          105,
          72,
          90,
          129,
          80,
          90,
          80,
          80,
          120,
          100,
          80,
          80,
          90,
          90,
          100,
          90,
          90,
          128,
          77,
          95,
          45,
          58,
          75,
          60,
          70,
          100,
          44,
          56,
          71,
          36,
          77,
          38,
          52,
          69,
          25,
          30,
          50,
          54,
          66,
          79,
          98,
          154,
          57,
          81,
          48,
          71,
          90,
          60,
          81,
          81,
          37,
          49,
          50,
          150,
          65,
          89,
          57,
          75,
          46,
          75,
          56,
          86,
          60,
          123,
          63,
          89,
          43,
          94,
          45,
          59,
          63,
          92,
          130,
          63,
          67,
          150,
          75,
          113,
          150,
          87,
          60,
          82,
          55,
          55,
          55,
          55,
          75,
          75,
          75,
          75,
          35,
          46,
          40,
          80,
          98,
          98,
          95,
          150,
          110,
          130,
          130,
          90
         ]
        },
        {
         "boxpoints": false,
         "line": {
          "width": 1.3
         },
         "marker": {
          "color": "rgba(0, 128, 128, 1.0)"
         },
         "name": "Speed",
         "orientation": "v",
         "type": "box",
         "y": [
          45,
          60,
          80,
          80,
          65,
          80,
          100,
          100,
          100,
          43,
          58,
          78,
          78,
          45,
          30,
          70,
          50,
          35,
          75,
          145,
          56,
          71,
          101,
          121,
          72,
          97,
          70,
          100,
          55,
          80,
          90,
          110,
          40,
          65,
          41,
          56,
          76,
          50,
          65,
          85,
          35,
          60,
          65,
          100,
          20,
          45,
          55,
          90,
          30,
          40,
          50,
          25,
          30,
          45,
          90,
          95,
          120,
          90,
          115,
          55,
          85,
          70,
          95,
          60,
          95,
          90,
          90,
          70,
          90,
          105,
          120,
          150,
          35,
          45,
          55,
          40,
          55,
          70,
          70,
          100,
          20,
          35,
          45,
          90,
          105,
          15,
          30,
          30,
          45,
          70,
          60,
          75,
          100,
          45,
          70,
          25,
          50,
          40,
          70,
          80,
          95,
          110,
          130,
          70,
          42,
          67,
          50,
          75,
          100,
          140,
          40,
          55,
          35,
          45,
          87,
          76,
          30,
          35,
          60,
          25,
          40,
          50,
          60,
          90,
          100,
          60,
          85,
          63,
          68,
          85,
          115,
          90,
          105,
          95,
          105,
          93,
          85,
          105,
          110,
          80,
          81,
          81,
          60,
          48,
          55,
          65,
          130,
          65,
          40,
          35,
          55,
          55,
          80,
          130,
          150,
          30,
          85,
          100,
          90,
          50,
          70,
          80,
          130,
          130,
          140,
          100,
          45,
          60,
          80,
          65,
          80,
          100,
          43,
          58,
          78,
          20,
          90,
          50,
          70,
          55,
          85,
          30,
          40,
          130,
          67,
          67,
          60,
          15,
          15,
          20,
          40,
          70,
          95,
          35,
          45,
          55,
          45,
          50,
          40,
          50,
          30,
          70,
          50,
          80,
          110,
          85,
          30,
          30,
          95,
          15,
          35,
          110,
          65,
          91,
          30,
          85,
          48,
          33,
          85,
          15,
          40,
          45,
          85,
          30,
          30,
          30,
          45,
          85,
          65,
          75,
          5,
          85,
          75,
          115,
          40,
          55,
          20,
          30,
          50,
          50,
          35,
          65,
          45,
          75,
          70,
          70,
          65,
          95,
          115,
          85,
          40,
          50,
          60,
          85,
          75,
          35,
          70,
          65,
          95,
          83,
          100,
          55,
          115,
          100,
          85,
          41,
          51,
          61,
          71,
          110,
          90,
          100,
          70,
          95,
          120,
          145,
          45,
          55,
          80,
          100,
          40,
          50,
          60,
          70,
          35,
          70,
          60,
          100,
          20,
          15,
          65,
          15,
          65,
          30,
          50,
          70,
          30,
          60,
          80,
          85,
          125,
          85,
          65,
          40,
          50,
          80,
          100,
          65,
          60,
          35,
          70,
          30,
          90,
          100,
          40,
          160,
          40,
          28,
          48,
          68,
          25,
          50,
          20,
          30,
          50,
          70,
          50,
          20,
          50,
          50,
          30,
          40,
          50,
          50,
          60,
          80,
          100,
          65,
          105,
          135,
          95,
          95,
          85,
          85,
          65,
          40,
          55,
          65,
          95,
          105,
          60,
          60,
          35,
          40,
          20,
          20,
          60,
          80,
          60,
          10,
          70,
          100,
          35,
          55,
          50,
          80,
          80,
          90,
          65,
          70,
          70,
          60,
          60,
          35,
          55,
          55,
          75,
          23,
          43,
          75,
          45,
          80,
          81,
          70,
          40,
          45,
          65,
          75,
          25,
          25,
          51,
          65,
          75,
          115,
          23,
          50,
          80,
          100,
          25,
          45,
          65,
          32,
          52,
          52,
          55,
          97,
          50,
          50,
          100,
          120,
          30,
          50,
          70,
          110,
          50,
          50,
          50,
          110,
          110,
          110,
          110,
          90,
          90,
          90,
          90,
          95,
          115,
          100,
          150,
          150,
          90,
          180,
          31,
          36,
          56,
          61,
          81,
          108,
          40,
          50,
          60,
          60,
          80,
          100,
          31,
          71,
          25,
          65,
          45,
          60,
          70,
          55,
          90,
          58,
          58,
          30,
          30,
          36,
          36,
          36,
          36,
          66,
          70,
          40,
          95,
          85,
          115,
          35,
          85,
          34,
          39,
          115,
          70,
          80,
          85,
          105,
          135,
          105,
          71,
          85,
          112,
          45,
          74,
          84,
          23,
          33,
          10,
          60,
          30,
          91,
          35,
          42,
          82,
          102,
          92,
          5,
          60,
          90,
          112,
          32,
          47,
          65,
          95,
          50,
          85,
          46,
          66,
          91,
          50,
          40,
          60,
          30,
          125,
          60,
          50,
          40,
          50,
          95,
          83,
          80,
          95,
          95,
          65,
          95,
          80,
          90,
          80,
          110,
          40,
          45,
          110,
          91,
          86,
          86,
          86,
          86,
          86,
          95,
          80,
          115,
          90,
          100,
          77,
          100,
          90,
          90,
          85,
          80,
          100,
          125,
          100,
          127,
          120,
          100,
          63,
          83,
          113,
          45,
          55,
          65,
          45,
          60,
          70,
          42,
          77,
          55,
          60,
          80,
          66,
          106,
          64,
          101,
          64,
          101,
          64,
          101,
          24,
          29,
          43,
          65,
          93,
          76,
          116,
          15,
          20,
          25,
          72,
          114,
          68,
          88,
          50,
          50,
          35,
          40,
          45,
          64,
          69,
          74,
          45,
          85,
          42,
          42,
          92,
          57,
          47,
          112,
          66,
          116,
          30,
          90,
          98,
          65,
          74,
          92,
          50,
          95,
          55,
          60,
          55,
          45,
          48,
          58,
          97,
          30,
          30,
          22,
          32,
          70,
          110,
          65,
          75,
          65,
          105,
          75,
          115,
          45,
          55,
          65,
          20,
          30,
          30,
          55,
          98,
          44,
          59,
          79,
          75,
          95,
          103,
          60,
          20,
          15,
          30,
          40,
          60,
          65,
          65,
          108,
          10,
          20,
          30,
          50,
          90,
          60,
          40,
          50,
          30,
          40,
          20,
          55,
          80,
          57,
          67,
          97,
          40,
          50,
          105,
          25,
          145,
          32,
          65,
          105,
          48,
          35,
          55,
          60,
          70,
          55,
          60,
          80,
          60,
          80,
          65,
          109,
          38,
          58,
          98,
          60,
          100,
          108,
          108,
          108,
          111,
          121,
          111,
          101,
          90,
          90,
          101,
          91,
          95,
          95,
          95,
          108,
          108,
          90,
          128,
          99,
          38,
          57,
          64,
          60,
          73,
          104,
          71,
          97,
          122,
          57,
          78,
          62,
          84,
          126,
          35,
          29,
          89,
          72,
          106,
          42,
          52,
          75,
          52,
          68,
          43,
          58,
          102,
          68,
          104,
          104,
          28,
          35,
          60,
          60,
          23,
          29,
          49,
          72,
          45,
          73,
          50,
          68,
          30,
          44,
          44,
          59,
          70,
          109,
          48,
          71,
          46,
          58,
          60,
          118,
          101,
          50,
          40,
          60,
          80,
          75,
          38,
          56,
          51,
          56,
          46,
          41,
          84,
          99,
          69,
          54,
          28,
          28,
          55,
          123,
          99,
          99,
          95,
          50,
          110,
          70,
          80,
          70
         ]
        }
       ],
       "layout": {
        "legend": {
         "bgcolor": "#F5F6F9",
         "font": {
          "color": "#4D5663"
         }
        },
        "paper_bgcolor": "#F5F6F9",
        "plot_bgcolor": "#F5F6F9",
        "template": {
         "data": {
          "bar": [
           {
            "error_x": {
             "color": "#2a3f5f"
            },
            "error_y": {
             "color": "#2a3f5f"
            },
            "marker": {
             "line": {
              "color": "#E5ECF6",
              "width": 0.5
             },
             "pattern": {
              "fillmode": "overlay",
              "size": 10,
              "solidity": 0.2
             }
            },
            "type": "bar"
           }
          ],
          "barpolar": [
           {
            "marker": {
             "line": {
              "color": "#E5ECF6",
              "width": 0.5
             },
             "pattern": {
              "fillmode": "overlay",
              "size": 10,
              "solidity": 0.2
             }
            },
            "type": "barpolar"
           }
          ],
          "carpet": [
           {
            "aaxis": {
             "endlinecolor": "#2a3f5f",
             "gridcolor": "white",
             "linecolor": "white",
             "minorgridcolor": "white",
             "startlinecolor": "#2a3f5f"
            },
            "baxis": {
             "endlinecolor": "#2a3f5f",
             "gridcolor": "white",
             "linecolor": "white",
             "minorgridcolor": "white",
             "startlinecolor": "#2a3f5f"
            },
            "type": "carpet"
           }
          ],
          "choropleth": [
           {
            "colorbar": {
             "outlinewidth": 0,
             "ticks": ""
            },
            "type": "choropleth"
           }
          ],
          "contour": [
           {
            "colorbar": {
             "outlinewidth": 0,
             "ticks": ""
            },
            "colorscale": [
             [
              0,
              "#0d0887"
             ],
             [
              0.1111111111111111,
              "#46039f"
             ],
             [
              0.2222222222222222,
              "#7201a8"
             ],
             [
              0.3333333333333333,
              "#9c179e"
             ],
             [
              0.4444444444444444,
              "#bd3786"
             ],
             [
              0.5555555555555556,
              "#d8576b"
             ],
             [
              0.6666666666666666,
              "#ed7953"
             ],
             [
              0.7777777777777778,
              "#fb9f3a"
             ],
             [
              0.8888888888888888,
              "#fdca26"
             ],
             [
              1,
              "#f0f921"
             ]
            ],
            "type": "contour"
           }
          ],
          "contourcarpet": [
           {
            "colorbar": {
             "outlinewidth": 0,
             "ticks": ""
            },
            "type": "contourcarpet"
           }
          ],
          "heatmap": [
           {
            "colorbar": {
             "outlinewidth": 0,
             "ticks": ""
            },
            "colorscale": [
             [
              0,
              "#0d0887"
             ],
             [
              0.1111111111111111,
              "#46039f"
             ],
             [
              0.2222222222222222,
              "#7201a8"
             ],
             [
              0.3333333333333333,
              "#9c179e"
             ],
             [
              0.4444444444444444,
              "#bd3786"
             ],
             [
              0.5555555555555556,
              "#d8576b"
             ],
             [
              0.6666666666666666,
              "#ed7953"
             ],
             [
              0.7777777777777778,
              "#fb9f3a"
             ],
             [
              0.8888888888888888,
              "#fdca26"
             ],
             [
              1,
              "#f0f921"
             ]
            ],
            "type": "heatmap"
           }
          ],
          "heatmapgl": [
           {
            "colorbar": {
             "outlinewidth": 0,
             "ticks": ""
            },
            "colorscale": [
             [
              0,
              "#0d0887"
             ],
             [
              0.1111111111111111,
              "#46039f"
             ],
             [
              0.2222222222222222,
              "#7201a8"
             ],
             [
              0.3333333333333333,
              "#9c179e"
             ],
             [
              0.4444444444444444,
              "#bd3786"
             ],
             [
              0.5555555555555556,
              "#d8576b"
             ],
             [
              0.6666666666666666,
              "#ed7953"
             ],
             [
              0.7777777777777778,
              "#fb9f3a"
             ],
             [
              0.8888888888888888,
              "#fdca26"
             ],
             [
              1,
              "#f0f921"
             ]
            ],
            "type": "heatmapgl"
           }
          ],
          "histogram": [
           {
            "marker": {
             "pattern": {
              "fillmode": "overlay",
              "size": 10,
              "solidity": 0.2
             }
            },
            "type": "histogram"
           }
          ],
          "histogram2d": [
           {
            "colorbar": {
             "outlinewidth": 0,
             "ticks": ""
            },
            "colorscale": [
             [
              0,
              "#0d0887"
             ],
             [
              0.1111111111111111,
              "#46039f"
             ],
             [
              0.2222222222222222,
              "#7201a8"
             ],
             [
              0.3333333333333333,
              "#9c179e"
             ],
             [
              0.4444444444444444,
              "#bd3786"
             ],
             [
              0.5555555555555556,
              "#d8576b"
             ],
             [
              0.6666666666666666,
              "#ed7953"
             ],
             [
              0.7777777777777778,
              "#fb9f3a"
             ],
             [
              0.8888888888888888,
              "#fdca26"
             ],
             [
              1,
              "#f0f921"
             ]
            ],
            "type": "histogram2d"
           }
          ],
          "histogram2dcontour": [
           {
            "colorbar": {
             "outlinewidth": 0,
             "ticks": ""
            },
            "colorscale": [
             [
              0,
              "#0d0887"
             ],
             [
              0.1111111111111111,
              "#46039f"
             ],
             [
              0.2222222222222222,
              "#7201a8"
             ],
             [
              0.3333333333333333,
              "#9c179e"
             ],
             [
              0.4444444444444444,
              "#bd3786"
             ],
             [
              0.5555555555555556,
              "#d8576b"
             ],
             [
              0.6666666666666666,
              "#ed7953"
             ],
             [
              0.7777777777777778,
              "#fb9f3a"
             ],
             [
              0.8888888888888888,
              "#fdca26"
             ],
             [
              1,
              "#f0f921"
             ]
            ],
            "type": "histogram2dcontour"
           }
          ],
          "mesh3d": [
           {
            "colorbar": {
             "outlinewidth": 0,
             "ticks": ""
            },
            "type": "mesh3d"
           }
          ],
          "parcoords": [
           {
            "line": {
             "colorbar": {
              "outlinewidth": 0,
              "ticks": ""
             }
            },
            "type": "parcoords"
           }
          ],
          "pie": [
           {
            "automargin": true,
            "type": "pie"
           }
          ],
          "scatter": [
           {
            "marker": {
             "colorbar": {
              "outlinewidth": 0,
              "ticks": ""
             }
            },
            "type": "scatter"
           }
          ],
          "scatter3d": [
           {
            "line": {
             "colorbar": {
              "outlinewidth": 0,
              "ticks": ""
             }
            },
            "marker": {
             "colorbar": {
              "outlinewidth": 0,
              "ticks": ""
             }
            },
            "type": "scatter3d"
           }
          ],
          "scattercarpet": [
           {
            "marker": {
             "colorbar": {
              "outlinewidth": 0,
              "ticks": ""
             }
            },
            "type": "scattercarpet"
           }
          ],
          "scattergeo": [
           {
            "marker": {
             "colorbar": {
              "outlinewidth": 0,
              "ticks": ""
             }
            },
            "type": "scattergeo"
           }
          ],
          "scattergl": [
           {
            "marker": {
             "colorbar": {
              "outlinewidth": 0,
              "ticks": ""
             }
            },
            "type": "scattergl"
           }
          ],
          "scattermapbox": [
           {
            "marker": {
             "colorbar": {
              "outlinewidth": 0,
              "ticks": ""
             }
            },
            "type": "scattermapbox"
           }
          ],
          "scatterpolar": [
           {
            "marker": {
             "colorbar": {
              "outlinewidth": 0,
              "ticks": ""
             }
            },
            "type": "scatterpolar"
           }
          ],
          "scatterpolargl": [
           {
            "marker": {
             "colorbar": {
              "outlinewidth": 0,
              "ticks": ""
             }
            },
            "type": "scatterpolargl"
           }
          ],
          "scatterternary": [
           {
            "marker": {
             "colorbar": {
              "outlinewidth": 0,
              "ticks": ""
             }
            },
            "type": "scatterternary"
           }
          ],
          "surface": [
           {
            "colorbar": {
             "outlinewidth": 0,
             "ticks": ""
            },
            "colorscale": [
             [
              0,
              "#0d0887"
             ],
             [
              0.1111111111111111,
              "#46039f"
             ],
             [
              0.2222222222222222,
              "#7201a8"
             ],
             [
              0.3333333333333333,
              "#9c179e"
             ],
             [
              0.4444444444444444,
              "#bd3786"
             ],
             [
              0.5555555555555556,
              "#d8576b"
             ],
             [
              0.6666666666666666,
              "#ed7953"
             ],
             [
              0.7777777777777778,
              "#fb9f3a"
             ],
             [
              0.8888888888888888,
              "#fdca26"
             ],
             [
              1,
              "#f0f921"
             ]
            ],
            "type": "surface"
           }
          ],
          "table": [
           {
            "cells": {
             "fill": {
              "color": "#EBF0F8"
             },
             "line": {
              "color": "white"
             }
            },
            "header": {
             "fill": {
              "color": "#C8D4E3"
             },
             "line": {
              "color": "white"
             }
            },
            "type": "table"
           }
          ]
         },
         "layout": {
          "annotationdefaults": {
           "arrowcolor": "#2a3f5f",
           "arrowhead": 0,
           "arrowwidth": 1
          },
          "autotypenumbers": "strict",
          "coloraxis": {
           "colorbar": {
            "outlinewidth": 0,
            "ticks": ""
           }
          },
          "colorscale": {
           "diverging": [
            [
             0,
             "#8e0152"
            ],
            [
             0.1,
             "#c51b7d"
            ],
            [
             0.2,
             "#de77ae"
            ],
            [
             0.3,
             "#f1b6da"
            ],
            [
             0.4,
             "#fde0ef"
            ],
            [
             0.5,
             "#f7f7f7"
            ],
            [
             0.6,
             "#e6f5d0"
            ],
            [
             0.7,
             "#b8e186"
            ],
            [
             0.8,
             "#7fbc41"
            ],
            [
             0.9,
             "#4d9221"
            ],
            [
             1,
             "#276419"
            ]
           ],
           "sequential": [
            [
             0,
             "#0d0887"
            ],
            [
             0.1111111111111111,
             "#46039f"
            ],
            [
             0.2222222222222222,
             "#7201a8"
            ],
            [
             0.3333333333333333,
             "#9c179e"
            ],
            [
             0.4444444444444444,
             "#bd3786"
            ],
            [
             0.5555555555555556,
             "#d8576b"
            ],
            [
             0.6666666666666666,
             "#ed7953"
            ],
            [
             0.7777777777777778,
             "#fb9f3a"
            ],
            [
             0.8888888888888888,
             "#fdca26"
            ],
            [
             1,
             "#f0f921"
            ]
           ],
           "sequentialminus": [
            [
             0,
             "#0d0887"
            ],
            [
             0.1111111111111111,
             "#46039f"
            ],
            [
             0.2222222222222222,
             "#7201a8"
            ],
            [
             0.3333333333333333,
             "#9c179e"
            ],
            [
             0.4444444444444444,
             "#bd3786"
            ],
            [
             0.5555555555555556,
             "#d8576b"
            ],
            [
             0.6666666666666666,
             "#ed7953"
            ],
            [
             0.7777777777777778,
             "#fb9f3a"
            ],
            [
             0.8888888888888888,
             "#fdca26"
            ],
            [
             1,
             "#f0f921"
            ]
           ]
          },
          "colorway": [
           "#636efa",
           "#EF553B",
           "#00cc96",
           "#ab63fa",
           "#FFA15A",
           "#19d3f3",
           "#FF6692",
           "#B6E880",
           "#FF97FF",
           "#FECB52"
          ],
          "font": {
           "color": "#2a3f5f"
          },
          "geo": {
           "bgcolor": "white",
           "lakecolor": "white",
           "landcolor": "#E5ECF6",
           "showlakes": true,
           "showland": true,
           "subunitcolor": "white"
          },
          "hoverlabel": {
           "align": "left"
          },
          "hovermode": "closest",
          "mapbox": {
           "style": "light"
          },
          "paper_bgcolor": "white",
          "plot_bgcolor": "#E5ECF6",
          "polar": {
           "angularaxis": {
            "gridcolor": "white",
            "linecolor": "white",
            "ticks": ""
           },
           "bgcolor": "#E5ECF6",
           "radialaxis": {
            "gridcolor": "white",
            "linecolor": "white",
            "ticks": ""
           }
          },
          "scene": {
           "xaxis": {
            "backgroundcolor": "#E5ECF6",
            "gridcolor": "white",
            "gridwidth": 2,
            "linecolor": "white",
            "showbackground": true,
            "ticks": "",
            "zerolinecolor": "white"
           },
           "yaxis": {
            "backgroundcolor": "#E5ECF6",
            "gridcolor": "white",
            "gridwidth": 2,
            "linecolor": "white",
            "showbackground": true,
            "ticks": "",
            "zerolinecolor": "white"
           },
           "zaxis": {
            "backgroundcolor": "#E5ECF6",
            "gridcolor": "white",
            "gridwidth": 2,
            "linecolor": "white",
            "showbackground": true,
            "ticks": "",
            "zerolinecolor": "white"
           }
          },
          "shapedefaults": {
           "line": {
            "color": "#2a3f5f"
           }
          },
          "ternary": {
           "aaxis": {
            "gridcolor": "white",
            "linecolor": "white",
            "ticks": ""
           },
           "baxis": {
            "gridcolor": "white",
            "linecolor": "white",
            "ticks": ""
           },
           "bgcolor": "#E5ECF6",
           "caxis": {
            "gridcolor": "white",
            "linecolor": "white",
            "ticks": ""
           }
          },
          "title": {
           "x": 0.05
          },
          "xaxis": {
           "automargin": true,
           "gridcolor": "white",
           "linecolor": "white",
           "ticks": "",
           "title": {
            "standoff": 15
           },
           "zerolinecolor": "white",
           "zerolinewidth": 2
          },
          "yaxis": {
           "automargin": true,
           "gridcolor": "white",
           "linecolor": "white",
           "ticks": "",
           "title": {
            "standoff": 15
           },
           "zerolinecolor": "white",
           "zerolinewidth": 2
          }
         }
        },
        "title": {
         "font": {
          "color": "#4D5663"
         }
        },
        "xaxis": {
         "gridcolor": "#E1E5ED",
         "showgrid": true,
         "tickfont": {
          "color": "#4D5663"
         },
         "title": {
          "font": {
           "color": "#4D5663"
          },
          "text": ""
         },
         "zerolinecolor": "#E1E5ED"
        },
        "yaxis": {
         "gridcolor": "#E1E5ED",
         "showgrid": true,
         "tickfont": {
          "color": "#4D5663"
         },
         "title": {
          "font": {
           "color": "#4D5663"
          },
          "text": ""
         },
         "zerolinecolor": "#E1E5ED"
        }
       }
      },
      "text/html": [
       "<div>                            <div id=\"b44bed18-d8fd-414c-bde3-6d80f89594f8\" class=\"plotly-graph-div\" style=\"height:525px; width:100%;\"></div>            <script type=\"text/javascript\">                require([\"plotly\"], function(Plotly) {                    window.PLOTLYENV=window.PLOTLYENV || {};\n",
       "                    window.PLOTLYENV.BASE_URL='https://plot.ly';                                    if (document.getElementById(\"b44bed18-d8fd-414c-bde3-6d80f89594f8\")) {                    Plotly.newPlot(                        \"b44bed18-d8fd-414c-bde3-6d80f89594f8\",                        [{\"boxpoints\":false,\"line\":{\"width\":1.3},\"marker\":{\"color\":\"rgba(255, 153, 51, 1.0)\"},\"name\":\"HP\",\"orientation\":\"v\",\"type\":\"box\",\"y\":[45,60,80,80,39,58,78,78,78,44,59,79,79,45,50,60,40,45,65,65,40,63,83,83,30,55,40,65,35,60,35,60,50,75,55,70,90,46,61,81,70,95,38,73,115,140,40,75,45,60,75,35,60,60,70,10,35,40,65,50,80,40,65,55,90,40,65,90,25,40,55,55,70,80,90,50,65,80,40,80,40,55,80,50,65,90,95,95,25,50,52,35,60,65,90,80,105,30,50,30,45,60,60,35,60,85,30,55,40,60,60,95,50,60,50,50,90,40,65,80,105,250,65,105,105,30,55,45,80,30,60,40,70,65,65,65,65,65,75,20,95,95,130,48,55,130,65,65,65,35,70,30,60,80,80,160,90,90,90,41,61,91,106,106,106,100,45,60,80,39,58,78,50,65,85,35,85,60,100,40,55,40,70,85,75,125,20,50,90,35,55,40,65,55,70,90,90,75,70,100,70,90,35,55,75,55,30,75,65,55,95,65,95,60,95,60,48,190,70,50,75,100,65,75,75,60,90,65,70,70,20,80,80,55,60,90,40,50,50,100,55,35,75,45,65,65,45,75,75,75,90,90,85,73,55,35,50,45,45,45,95,255,90,115,100,50,70,100,100,106,106,100,40,50,70,70,45,60,80,80,50,70,100,100,35,70,38,78,45,50,60,50,60,40,60,80,40,70,90,40,60,40,60,28,38,68,68,40,70,60,60,60,80,150,31,61,1,64,84,104,72,144,50,30,50,70,50,50,50,50,50,60,70,70,30,60,60,40,70,70,60,60,65,65,50,70,100,45,70,70,130,170,60,70,70,70,60,80,60,45,50,80,50,70,45,75,75,73,73,70,70,50,110,43,63,40,60,66,86,45,75,20,95,70,60,44,64,64,20,40,99,65,65,65,95,50,80,80,70,90,110,35,55,55,100,43,45,65,95,95,40,60,80,80,80,80,80,80,80,80,80,100,100,100,100,105,105,100,50,50,50,50,55,75,95,44,64,76,53,64,84,40,55,85,59,79,37,77,45,60,80,40,60,67,97,30,60,40,60,60,60,70,30,70,60,55,85,45,70,76,111,75,90,150,55,65,65,60,100,49,71,45,63,103,57,67,50,20,100,76,50,58,68,108,108,135,40,70,70,68,108,40,70,48,83,74,49,69,45,60,90,90,70,70,110,115,100,75,75,85,86,65,65,75,110,85,68,68,60,45,70,50,50,50,50,50,50,75,80,75,100,90,91,110,150,150,120,80,100,70,100,100,120,100,45,60,75,65,90,110,55,75,95,45,60,45,65,85,41,64,50,75,50,75,50,75,76,116,50,62,80,45,75,55,70,85,55,67,60,110,103,103,75,85,105,50,75,105,120,75,45,55,75,30,40,60,40,60,45,70,70,50,60,95,70,105,105,75,50,70,50,65,72,38,58,54,74,55,75,50,80,40,60,55,75,45,60,70,45,65,110,62,75,36,51,71,60,80,55,50,70,69,114,55,100,165,50,70,44,74,40,60,60,35,65,85,55,75,50,60,60,46,66,76,55,95,70,50,80,109,45,65,77,59,89,45,65,95,70,100,70,110,85,58,52,72,92,55,85,91,91,91,79,79,79,79,100,100,89,89,125,125,125,91,91,100,100,71,56,61,88,40,59,75,41,54,72,38,85,45,62,78,38,45,80,62,86,44,54,78,66,123,67,95,75,62,74,74,45,59,60,60,78,101,62,82,53,86,42,72,50,65,50,71,44,62,58,82,77,123,95,78,67,50,45,68,90,57,43,85,49,44,54,59,65,55,75,85,55,95,40,85,126,126,108,50,50,80,80,80]},{\"boxpoints\":false,\"line\":{\"width\":1.3},\"marker\":{\"color\":\"rgba(55, 128, 191, 1.0)\"},\"name\":\"Attack\",\"orientation\":\"v\",\"type\":\"box\",\"y\":[49,62,82,100,52,64,84,130,104,48,63,83,103,30,20,45,35,25,90,150,45,60,80,80,56,81,60,90,60,85,55,90,75,100,47,62,92,57,72,102,45,70,41,76,45,70,45,80,50,65,80,70,95,55,65,55,80,45,70,52,82,80,105,70,110,50,65,95,20,35,50,50,80,100,130,75,90,105,40,70,80,95,120,85,100,65,75,75,35,60,65,85,110,45,70,80,105,65,95,35,50,65,65,45,48,73,105,130,30,50,40,95,50,80,120,105,55,65,90,85,130,5,55,95,125,40,65,67,92,45,75,45,110,50,83,95,125,155,100,10,125,155,85,48,55,65,65,130,60,40,60,80,115,105,135,110,85,90,100,64,84,134,110,190,150,100,49,62,82,52,64,84,65,80,105,46,76,30,50,20,35,60,90,90,38,58,40,25,30,20,40,50,75,40,55,75,95,80,20,50,100,75,35,45,55,70,30,75,65,45,85,65,65,85,75,60,72,33,80,65,90,70,75,85,125,80,120,95,130,150,10,125,185,95,80,130,40,50,50,100,55,65,105,55,40,80,60,90,90,95,60,120,80,95,20,35,95,30,63,75,80,10,85,115,75,64,84,134,164,90,130,100,45,65,85,110,60,85,120,160,70,85,110,150,55,90,30,70,45,35,70,35,50,30,50,70,40,70,100,55,85,30,50,25,35,65,85,30,60,40,130,60,80,160,45,90,90,51,71,91,60,120,20,45,45,65,75,85,85,105,70,90,110,140,40,60,100,45,75,75,50,40,73,47,60,43,73,90,120,140,70,90,60,100,120,85,25,45,60,100,70,100,85,115,40,70,110,115,100,55,95,48,78,80,120,40,70,41,81,95,125,15,60,70,90,75,115,165,40,70,68,50,130,150,23,50,80,120,40,60,80,64,104,84,90,30,75,95,135,145,55,75,135,145,100,50,75,80,100,90,130,100,150,150,180,150,180,100,150,180,70,95,68,89,109,58,78,104,51,66,86,55,75,120,45,85,25,85,65,85,120,30,70,125,165,42,52,29,59,79,69,94,30,80,45,65,105,35,60,48,83,100,50,80,66,76,136,60,125,55,82,30,63,93,24,89,80,25,5,65,92,70,90,130,170,85,70,110,145,72,112,50,90,61,106,100,49,69,20,62,92,132,120,70,85,140,100,123,95,50,76,110,60,95,130,80,125,165,55,100,80,50,65,65,65,65,65,75,105,125,120,120,90,160,100,120,70,80,100,90,100,103,120,100,45,60,75,63,93,123,55,75,100,55,85,60,80,110,50,88,53,98,53,98,53,98,25,55,55,77,115,60,100,75,105,135,45,57,85,135,60,60,80,105,140,50,65,95,100,125,53,63,103,45,55,100,27,67,35,60,92,72,82,117,90,140,30,86,65,95,75,90,58,30,50,78,108,112,140,50,95,65,105,50,95,30,45,55,30,40,65,44,87,50,65,95,60,100,75,75,135,55,85,40,60,75,47,77,50,94,55,80,100,55,85,115,55,75,30,40,55,87,117,147,70,110,50,40,70,66,85,125,120,74,124,85,125,110,83,123,55,65,97,109,65,85,105,85,60,90,129,90,115,100,115,105,120,150,125,145,130,170,120,72,72,77,128,120,61,78,107,45,59,69,56,63,95,36,56,50,73,81,35,22,52,50,68,38,45,65,65,100,82,124,80,48,48,48,80,110,150,50,52,72,48,80,54,92,52,105,60,75,53,73,38,55,89,121,59,77,65,92,58,50,50,75,100,80,70,110,66,66,66,66,90,85,95,100,69,117,30,70,131,131,100,100,160,110,160,110]},{\"boxpoints\":false,\"line\":{\"width\":1.3},\"marker\":{\"color\":\"rgba(50, 171, 96, 1.0)\"},\"name\":\"Defense\",\"orientation\":\"v\",\"type\":\"box\",\"y\":[49,63,83,123,43,58,78,111,78,65,80,100,120,35,55,50,30,50,40,40,40,55,75,80,35,60,30,65,44,69,40,55,85,110,52,67,87,40,57,77,48,73,40,75,20,45,35,70,55,70,85,55,80,50,60,25,50,35,60,48,78,35,60,45,80,40,65,95,15,30,45,65,50,70,80,35,50,65,35,65,100,115,130,55,70,65,110,180,70,95,55,45,70,55,80,50,75,100,180,30,45,60,80,160,45,70,90,115,50,70,80,85,95,110,53,79,75,95,120,95,120,5,115,80,100,70,95,60,65,55,85,65,80,35,57,57,100,120,95,55,79,109,80,48,50,60,60,60,70,100,125,90,105,65,85,65,100,85,90,45,65,95,90,100,70,100,65,80,100,43,58,78,64,80,100,34,64,30,50,30,50,40,70,80,38,58,15,28,15,65,85,45,70,40,55,85,105,95,50,80,115,75,40,50,70,55,30,55,45,45,85,60,110,42,80,60,48,58,65,90,140,70,105,200,230,50,75,75,100,140,230,75,115,55,50,75,40,120,40,80,85,35,75,45,70,140,30,50,90,95,60,120,90,62,35,35,95,15,37,37,105,10,75,85,115,50,70,110,150,130,90,100,35,45,65,75,40,60,70,80,50,70,90,110,35,70,41,61,35,55,50,55,70,30,50,70,50,40,60,30,60,30,100,25,35,65,65,32,62,60,80,60,80,100,90,45,45,23,43,63,30,60,40,135,45,65,75,125,85,125,100,140,180,230,55,75,85,40,60,80,40,50,55,55,45,53,83,20,40,70,35,45,40,70,100,140,35,65,60,45,50,80,40,60,60,90,110,60,60,65,85,43,73,65,85,55,105,77,97,50,100,20,79,70,70,35,65,75,90,130,83,70,60,60,48,50,80,80,50,70,90,85,105,105,130,55,60,100,80,130,80,100,130,150,200,100,150,90,120,80,100,90,90,140,160,90,100,100,50,20,160,90,64,85,105,44,52,71,53,68,88,30,50,70,40,60,41,51,34,49,79,35,65,40,60,118,168,45,85,105,95,50,42,102,70,35,55,45,70,48,68,66,34,44,44,84,94,60,52,42,64,50,47,67,86,116,95,45,5,45,108,45,65,95,115,40,40,70,88,78,118,90,110,40,65,72,56,76,50,50,75,105,65,115,95,130,125,67,67,95,86,130,110,125,80,70,65,95,145,135,70,77,107,107,107,107,107,130,105,70,120,100,106,110,120,100,120,80,100,90,100,75,120,100,55,75,95,45,55,65,45,60,85,39,69,45,65,90,37,50,48,63,48,63,48,63,45,85,50,62,80,32,63,85,105,130,43,55,40,60,86,126,55,85,95,40,55,75,85,75,70,90,80,59,99,89,60,85,50,75,65,35,45,80,45,55,105,67,85,125,70,115,80,85,145,103,133,45,65,62,82,40,60,40,60,50,70,95,40,50,75,50,63,50,65,85,50,70,60,45,105,45,70,50,70,80,50,60,91,131,70,95,115,40,70,80,55,75,55,60,90,60,70,90,40,80,30,85,40,84,50,60,90,50,80,70,100,95,50,75,75,105,66,112,50,70,90,55,65,129,90,72,70,80,70,70,100,120,90,90,90,100,90,90,90,77,90,95,65,95,122,40,58,72,40,52,67,38,77,43,55,71,40,60,50,58,72,39,47,68,48,62,62,78,60,54,76,76,100,150,50,150,60,72,66,86,53,88,67,115,60,90,62,88,33,52,77,119,50,72,65,75,57,150,35,53,70,91,48,76,70,70,70,70,122,122,122,122,85,184,35,80,95,95,121,150,110,60,60,120]},{\"boxpoints\":false,\"line\":{\"width\":1.3},\"marker\":{\"color\":\"rgba(128, 0, 128, 1.0)\"},\"name\":\"Sp. Atk\",\"orientation\":\"v\",\"type\":\"box\",\"y\":[65,80,100,122,60,80,109,130,159,50,65,85,135,20,25,90,20,25,45,15,35,50,70,135,25,50,31,61,40,65,50,90,20,45,40,55,75,40,55,85,60,95,50,81,45,85,30,65,75,85,110,45,60,40,90,35,50,40,65,65,95,35,60,70,100,40,50,70,105,120,135,175,35,50,65,70,85,100,50,80,30,45,55,65,80,40,100,130,95,120,58,35,60,45,70,40,65,45,85,100,115,130,170,30,43,73,25,50,55,80,60,125,40,50,35,35,60,60,85,30,45,35,100,40,60,70,95,35,65,70,100,100,55,115,95,100,55,65,40,15,60,70,85,48,45,110,110,95,85,90,115,55,65,60,70,65,95,125,125,50,70,100,154,154,194,100,49,63,83,60,80,109,44,59,79,35,45,36,76,40,55,40,60,70,56,76,35,45,40,40,80,70,95,65,80,115,165,90,20,60,30,90,35,45,55,40,30,105,75,25,65,130,60,85,100,85,72,33,90,35,60,65,35,55,55,40,60,55,55,65,10,40,40,35,50,75,70,80,30,60,65,65,105,65,80,40,80,110,140,95,40,60,105,85,20,35,35,85,65,70,40,75,115,90,90,45,65,95,95,90,110,100,65,85,105,145,70,85,110,130,50,60,85,95,30,60,30,50,20,25,100,25,50,40,60,90,30,60,90,30,50,55,85,45,65,125,165,50,80,40,60,35,55,95,30,50,30,51,71,91,20,40,20,45,35,55,65,85,55,55,40,50,60,60,40,60,80,65,105,135,85,75,47,73,100,43,73,65,95,110,70,90,65,105,145,85,70,90,60,45,50,80,85,115,40,70,110,60,100,95,55,46,76,50,90,40,70,61,81,40,70,10,100,70,60,63,83,93,30,60,72,95,75,115,23,50,80,120,55,75,95,74,94,114,45,40,40,60,110,120,35,55,95,105,50,100,75,110,140,130,160,150,180,100,150,150,180,100,150,180,70,95,45,55,75,58,78,104,61,81,111,30,40,50,35,55,25,55,40,60,95,50,125,30,65,42,47,29,79,59,69,94,30,80,45,60,85,62,87,57,92,60,60,90,44,54,54,105,105,42,64,65,41,71,24,79,10,70,15,92,92,40,50,80,120,40,35,115,140,38,68,30,60,61,86,90,49,69,60,62,92,132,45,130,80,55,110,95,125,120,116,60,130,45,70,135,65,65,75,65,80,95,105,105,105,105,105,75,105,125,150,150,130,80,100,120,75,80,100,135,100,120,120,100,45,60,75,45,70,100,63,83,108,35,60,25,35,45,50,88,53,98,53,98,53,98,67,107,36,50,65,50,80,25,50,60,55,77,30,50,60,80,25,40,55,50,65,85,30,30,40,50,70,30,40,55,37,77,70,110,80,35,45,65,15,30,140,106,35,65,35,45,103,55,95,53,83,74,112,40,60,80,120,40,65,55,75,95,105,125,125,44,87,65,80,110,40,60,75,40,60,55,85,65,85,40,57,97,24,54,45,70,70,45,75,105,85,125,65,95,145,30,40,60,60,70,95,40,100,81,55,95,60,35,55,40,60,40,37,57,45,55,105,48,45,65,125,50,135,90,72,90,125,110,125,145,150,120,115,105,130,120,170,129,129,128,77,120,48,56,74,62,90,114,62,83,103,32,50,40,56,74,27,27,90,73,109,61,75,112,62,97,46,69,65,63,83,83,35,45,150,50,63,99,59,85,37,68,39,54,60,97,58,120,61,109,45,69,67,99,110,74,81,50,55,83,110,80,50,65,44,44,44,44,58,58,58,58,32,44,45,97,131,131,81,100,160,150,170,130]},{\"boxpoints\":false,\"line\":{\"width\":1.3},\"marker\":{\"color\":\"rgba(219, 64, 82, 1.0)\"},\"name\":\"Sp. Def\",\"orientation\":\"v\",\"type\":\"box\",\"y\":[65,80,100,120,50,65,85,85,115,64,80,105,115,20,25,80,20,25,80,80,35,50,70,80,35,70,31,61,54,79,50,80,30,55,40,55,85,40,55,75,65,90,65,100,25,50,40,75,65,75,90,55,80,55,75,45,70,40,65,50,80,45,70,50,80,40,50,90,55,70,95,95,35,60,85,30,45,70,100,120,30,45,65,65,80,40,80,80,55,70,62,35,60,70,95,50,100,25,45,35,55,75,95,45,90,115,25,50,55,80,45,65,50,80,110,110,75,45,70,30,45,105,40,80,100,25,45,50,80,55,85,120,80,95,85,85,70,90,70,20,100,130,95,48,65,95,95,110,75,55,70,45,70,75,95,110,125,90,85,50,70,100,90,100,120,100,65,80,100,50,65,85,48,63,83,45,55,56,96,80,110,40,60,80,56,76,35,55,20,65,105,45,70,45,60,90,110,100,50,80,65,100,55,65,95,55,30,85,45,25,65,95,130,42,110,85,48,58,65,35,60,65,65,65,95,40,60,55,80,100,230,95,105,75,50,75,40,80,30,60,85,35,75,45,140,70,50,80,90,95,40,60,95,65,45,35,110,65,55,55,70,135,100,75,115,50,70,100,120,154,154,100,55,65,85,85,50,60,70,80,50,70,90,110,30,60,41,61,30,25,50,25,90,50,70,100,30,40,60,30,50,30,70,35,55,115,135,52,82,60,60,35,55,65,30,50,30,23,43,73,30,60,40,90,35,55,65,115,55,95,40,50,60,80,55,75,85,40,60,80,75,85,75,75,80,53,83,20,40,65,35,45,45,75,105,70,80,110,60,45,50,80,40,60,75,105,105,60,60,85,65,41,71,35,55,70,120,87,107,50,80,55,125,70,120,33,63,83,90,130,87,80,60,60,48,50,80,80,50,70,90,55,75,75,65,65,30,50,80,90,60,80,90,110,100,200,150,130,150,110,120,140,160,90,90,90,100,100,50,20,160,90,55,65,85,44,52,71,56,76,101,30,40,60,40,60,41,51,34,49,79,70,105,30,50,88,138,45,105,85,95,50,42,102,90,30,50,53,78,62,82,66,44,54,56,96,96,105,52,37,59,50,41,61,86,116,45,90,65,42,108,45,55,85,95,85,40,70,70,42,72,55,75,40,65,72,61,86,120,60,85,105,85,90,95,55,50,85,95,115,56,65,95,75,60,75,115,115,150,135,70,77,107,107,107,107,107,130,105,70,100,120,106,110,120,100,130,80,100,90,100,75,120,100,55,75,95,45,55,65,45,60,70,39,69,45,65,90,37,50,48,63,48,63,48,63,55,95,30,42,55,32,63,25,40,80,43,55,45,65,86,126,35,50,65,40,55,75,85,75,60,80,80,39,79,69,50,75,50,75,55,35,45,70,45,55,105,67,35,75,70,115,80,65,105,45,65,45,65,62,82,40,60,40,60,65,85,110,50,60,85,50,63,60,75,95,50,70,60,45,105,55,80,85,105,45,50,60,86,116,60,85,85,40,70,80,55,95,55,60,90,40,50,70,40,80,135,65,60,99,50,60,90,50,80,40,70,95,50,75,65,95,66,48,50,70,90,55,105,72,90,129,80,90,80,80,120,100,80,80,90,90,100,90,90,128,77,95,45,58,75,60,70,100,44,56,71,36,77,38,52,69,25,30,50,54,66,79,98,154,57,81,48,71,90,60,81,81,37,49,50,150,65,89,57,75,46,75,56,86,60,123,63,89,43,94,45,59,63,92,130,63,67,150,75,113,150,87,60,82,55,55,55,55,75,75,75,75,35,46,40,80,98,98,95,150,110,130,130,90]},{\"boxpoints\":false,\"line\":{\"width\":1.3},\"marker\":{\"color\":\"rgba(0, 128, 128, 1.0)\"},\"name\":\"Speed\",\"orientation\":\"v\",\"type\":\"box\",\"y\":[45,60,80,80,65,80,100,100,100,43,58,78,78,45,30,70,50,35,75,145,56,71,101,121,72,97,70,100,55,80,90,110,40,65,41,56,76,50,65,85,35,60,65,100,20,45,55,90,30,40,50,25,30,45,90,95,120,90,115,55,85,70,95,60,95,90,90,70,90,105,120,150,35,45,55,40,55,70,70,100,20,35,45,90,105,15,30,30,45,70,60,75,100,45,70,25,50,40,70,80,95,110,130,70,42,67,50,75,100,140,40,55,35,45,87,76,30,35,60,25,40,50,60,90,100,60,85,63,68,85,115,90,105,95,105,93,85,105,110,80,81,81,60,48,55,65,130,65,40,35,55,55,80,130,150,30,85,100,90,50,70,80,130,130,140,100,45,60,80,65,80,100,43,58,78,20,90,50,70,55,85,30,40,130,67,67,60,15,15,20,40,70,95,35,45,55,45,50,40,50,30,70,50,80,110,85,30,30,95,15,35,110,65,91,30,85,48,33,85,15,40,45,85,30,30,30,45,85,65,75,5,85,75,115,40,55,20,30,50,50,35,65,45,75,70,70,65,95,115,85,40,50,60,85,75,35,70,65,95,83,100,55,115,100,85,41,51,61,71,110,90,100,70,95,120,145,45,55,80,100,40,50,60,70,35,70,60,100,20,15,65,15,65,30,50,70,30,60,80,85,125,85,65,40,50,80,100,65,60,35,70,30,90,100,40,160,40,28,48,68,25,50,20,30,50,70,50,20,50,50,30,40,50,50,60,80,100,65,105,135,95,95,85,85,65,40,55,65,95,105,60,60,35,40,20,20,60,80,60,10,70,100,35,55,50,80,80,90,65,70,70,60,60,35,55,55,75,23,43,75,45,80,81,70,40,45,65,75,25,25,51,65,75,115,23,50,80,100,25,45,65,32,52,52,55,97,50,50,100,120,30,50,70,110,50,50,50,110,110,110,110,90,90,90,90,95,115,100,150,150,90,180,31,36,56,61,81,108,40,50,60,60,80,100,31,71,25,65,45,60,70,55,90,58,58,30,30,36,36,36,36,66,70,40,95,85,115,35,85,34,39,115,70,80,85,105,135,105,71,85,112,45,74,84,23,33,10,60,30,91,35,42,82,102,92,5,60,90,112,32,47,65,95,50,85,46,66,91,50,40,60,30,125,60,50,40,50,95,83,80,95,95,65,95,80,90,80,110,40,45,110,91,86,86,86,86,86,95,80,115,90,100,77,100,90,90,85,80,100,125,100,127,120,100,63,83,113,45,55,65,45,60,70,42,77,55,60,80,66,106,64,101,64,101,64,101,24,29,43,65,93,76,116,15,20,25,72,114,68,88,50,50,35,40,45,64,69,74,45,85,42,42,92,57,47,112,66,116,30,90,98,65,74,92,50,95,55,60,55,45,48,58,97,30,30,22,32,70,110,65,75,65,105,75,115,45,55,65,20,30,30,55,98,44,59,79,75,95,103,60,20,15,30,40,60,65,65,108,10,20,30,50,90,60,40,50,30,40,20,55,80,57,67,97,40,50,105,25,145,32,65,105,48,35,55,60,70,55,60,80,60,80,65,109,38,58,98,60,100,108,108,108,111,121,111,101,90,90,101,91,95,95,95,108,108,90,128,99,38,57,64,60,73,104,71,97,122,57,78,62,84,126,35,29,89,72,106,42,52,75,52,68,43,58,102,68,104,104,28,35,60,60,23,29,49,72,45,73,50,68,30,44,44,59,70,109,48,71,46,58,60,118,101,50,40,60,80,75,38,56,51,56,46,41,84,99,69,54,28,28,55,123,99,99,95,50,110,70,80,70]}],                        {\"legend\":{\"bgcolor\":\"#F5F6F9\",\"font\":{\"color\":\"#4D5663\"}},\"paper_bgcolor\":\"#F5F6F9\",\"plot_bgcolor\":\"#F5F6F9\",\"template\":{\"data\":{\"bar\":[{\"error_x\":{\"color\":\"#2a3f5f\"},\"error_y\":{\"color\":\"#2a3f5f\"},\"marker\":{\"line\":{\"color\":\"#E5ECF6\",\"width\":0.5},\"pattern\":{\"fillmode\":\"overlay\",\"size\":10,\"solidity\":0.2}},\"type\":\"bar\"}],\"barpolar\":[{\"marker\":{\"line\":{\"color\":\"#E5ECF6\",\"width\":0.5},\"pattern\":{\"fillmode\":\"overlay\",\"size\":10,\"solidity\":0.2}},\"type\":\"barpolar\"}],\"carpet\":[{\"aaxis\":{\"endlinecolor\":\"#2a3f5f\",\"gridcolor\":\"white\",\"linecolor\":\"white\",\"minorgridcolor\":\"white\",\"startlinecolor\":\"#2a3f5f\"},\"baxis\":{\"endlinecolor\":\"#2a3f5f\",\"gridcolor\":\"white\",\"linecolor\":\"white\",\"minorgridcolor\":\"white\",\"startlinecolor\":\"#2a3f5f\"},\"type\":\"carpet\"}],\"choropleth\":[{\"colorbar\":{\"outlinewidth\":0,\"ticks\":\"\"},\"type\":\"choropleth\"}],\"contour\":[{\"colorbar\":{\"outlinewidth\":0,\"ticks\":\"\"},\"colorscale\":[[0.0,\"#0d0887\"],[0.1111111111111111,\"#46039f\"],[0.2222222222222222,\"#7201a8\"],[0.3333333333333333,\"#9c179e\"],[0.4444444444444444,\"#bd3786\"],[0.5555555555555556,\"#d8576b\"],[0.6666666666666666,\"#ed7953\"],[0.7777777777777778,\"#fb9f3a\"],[0.8888888888888888,\"#fdca26\"],[1.0,\"#f0f921\"]],\"type\":\"contour\"}],\"contourcarpet\":[{\"colorbar\":{\"outlinewidth\":0,\"ticks\":\"\"},\"type\":\"contourcarpet\"}],\"heatmap\":[{\"colorbar\":{\"outlinewidth\":0,\"ticks\":\"\"},\"colorscale\":[[0.0,\"#0d0887\"],[0.1111111111111111,\"#46039f\"],[0.2222222222222222,\"#7201a8\"],[0.3333333333333333,\"#9c179e\"],[0.4444444444444444,\"#bd3786\"],[0.5555555555555556,\"#d8576b\"],[0.6666666666666666,\"#ed7953\"],[0.7777777777777778,\"#fb9f3a\"],[0.8888888888888888,\"#fdca26\"],[1.0,\"#f0f921\"]],\"type\":\"heatmap\"}],\"heatmapgl\":[{\"colorbar\":{\"outlinewidth\":0,\"ticks\":\"\"},\"colorscale\":[[0.0,\"#0d0887\"],[0.1111111111111111,\"#46039f\"],[0.2222222222222222,\"#7201a8\"],[0.3333333333333333,\"#9c179e\"],[0.4444444444444444,\"#bd3786\"],[0.5555555555555556,\"#d8576b\"],[0.6666666666666666,\"#ed7953\"],[0.7777777777777778,\"#fb9f3a\"],[0.8888888888888888,\"#fdca26\"],[1.0,\"#f0f921\"]],\"type\":\"heatmapgl\"}],\"histogram\":[{\"marker\":{\"pattern\":{\"fillmode\":\"overlay\",\"size\":10,\"solidity\":0.2}},\"type\":\"histogram\"}],\"histogram2d\":[{\"colorbar\":{\"outlinewidth\":0,\"ticks\":\"\"},\"colorscale\":[[0.0,\"#0d0887\"],[0.1111111111111111,\"#46039f\"],[0.2222222222222222,\"#7201a8\"],[0.3333333333333333,\"#9c179e\"],[0.4444444444444444,\"#bd3786\"],[0.5555555555555556,\"#d8576b\"],[0.6666666666666666,\"#ed7953\"],[0.7777777777777778,\"#fb9f3a\"],[0.8888888888888888,\"#fdca26\"],[1.0,\"#f0f921\"]],\"type\":\"histogram2d\"}],\"histogram2dcontour\":[{\"colorbar\":{\"outlinewidth\":0,\"ticks\":\"\"},\"colorscale\":[[0.0,\"#0d0887\"],[0.1111111111111111,\"#46039f\"],[0.2222222222222222,\"#7201a8\"],[0.3333333333333333,\"#9c179e\"],[0.4444444444444444,\"#bd3786\"],[0.5555555555555556,\"#d8576b\"],[0.6666666666666666,\"#ed7953\"],[0.7777777777777778,\"#fb9f3a\"],[0.8888888888888888,\"#fdca26\"],[1.0,\"#f0f921\"]],\"type\":\"histogram2dcontour\"}],\"mesh3d\":[{\"colorbar\":{\"outlinewidth\":0,\"ticks\":\"\"},\"type\":\"mesh3d\"}],\"parcoords\":[{\"line\":{\"colorbar\":{\"outlinewidth\":0,\"ticks\":\"\"}},\"type\":\"parcoords\"}],\"pie\":[{\"automargin\":true,\"type\":\"pie\"}],\"scatter\":[{\"marker\":{\"colorbar\":{\"outlinewidth\":0,\"ticks\":\"\"}},\"type\":\"scatter\"}],\"scatter3d\":[{\"line\":{\"colorbar\":{\"outlinewidth\":0,\"ticks\":\"\"}},\"marker\":{\"colorbar\":{\"outlinewidth\":0,\"ticks\":\"\"}},\"type\":\"scatter3d\"}],\"scattercarpet\":[{\"marker\":{\"colorbar\":{\"outlinewidth\":0,\"ticks\":\"\"}},\"type\":\"scattercarpet\"}],\"scattergeo\":[{\"marker\":{\"colorbar\":{\"outlinewidth\":0,\"ticks\":\"\"}},\"type\":\"scattergeo\"}],\"scattergl\":[{\"marker\":{\"colorbar\":{\"outlinewidth\":0,\"ticks\":\"\"}},\"type\":\"scattergl\"}],\"scattermapbox\":[{\"marker\":{\"colorbar\":{\"outlinewidth\":0,\"ticks\":\"\"}},\"type\":\"scattermapbox\"}],\"scatterpolar\":[{\"marker\":{\"colorbar\":{\"outlinewidth\":0,\"ticks\":\"\"}},\"type\":\"scatterpolar\"}],\"scatterpolargl\":[{\"marker\":{\"colorbar\":{\"outlinewidth\":0,\"ticks\":\"\"}},\"type\":\"scatterpolargl\"}],\"scatterternary\":[{\"marker\":{\"colorbar\":{\"outlinewidth\":0,\"ticks\":\"\"}},\"type\":\"scatterternary\"}],\"surface\":[{\"colorbar\":{\"outlinewidth\":0,\"ticks\":\"\"},\"colorscale\":[[0.0,\"#0d0887\"],[0.1111111111111111,\"#46039f\"],[0.2222222222222222,\"#7201a8\"],[0.3333333333333333,\"#9c179e\"],[0.4444444444444444,\"#bd3786\"],[0.5555555555555556,\"#d8576b\"],[0.6666666666666666,\"#ed7953\"],[0.7777777777777778,\"#fb9f3a\"],[0.8888888888888888,\"#fdca26\"],[1.0,\"#f0f921\"]],\"type\":\"surface\"}],\"table\":[{\"cells\":{\"fill\":{\"color\":\"#EBF0F8\"},\"line\":{\"color\":\"white\"}},\"header\":{\"fill\":{\"color\":\"#C8D4E3\"},\"line\":{\"color\":\"white\"}},\"type\":\"table\"}]},\"layout\":{\"annotationdefaults\":{\"arrowcolor\":\"#2a3f5f\",\"arrowhead\":0,\"arrowwidth\":1},\"autotypenumbers\":\"strict\",\"coloraxis\":{\"colorbar\":{\"outlinewidth\":0,\"ticks\":\"\"}},\"colorscale\":{\"diverging\":[[0,\"#8e0152\"],[0.1,\"#c51b7d\"],[0.2,\"#de77ae\"],[0.3,\"#f1b6da\"],[0.4,\"#fde0ef\"],[0.5,\"#f7f7f7\"],[0.6,\"#e6f5d0\"],[0.7,\"#b8e186\"],[0.8,\"#7fbc41\"],[0.9,\"#4d9221\"],[1,\"#276419\"]],\"sequential\":[[0.0,\"#0d0887\"],[0.1111111111111111,\"#46039f\"],[0.2222222222222222,\"#7201a8\"],[0.3333333333333333,\"#9c179e\"],[0.4444444444444444,\"#bd3786\"],[0.5555555555555556,\"#d8576b\"],[0.6666666666666666,\"#ed7953\"],[0.7777777777777778,\"#fb9f3a\"],[0.8888888888888888,\"#fdca26\"],[1.0,\"#f0f921\"]],\"sequentialminus\":[[0.0,\"#0d0887\"],[0.1111111111111111,\"#46039f\"],[0.2222222222222222,\"#7201a8\"],[0.3333333333333333,\"#9c179e\"],[0.4444444444444444,\"#bd3786\"],[0.5555555555555556,\"#d8576b\"],[0.6666666666666666,\"#ed7953\"],[0.7777777777777778,\"#fb9f3a\"],[0.8888888888888888,\"#fdca26\"],[1.0,\"#f0f921\"]]},\"colorway\":[\"#636efa\",\"#EF553B\",\"#00cc96\",\"#ab63fa\",\"#FFA15A\",\"#19d3f3\",\"#FF6692\",\"#B6E880\",\"#FF97FF\",\"#FECB52\"],\"font\":{\"color\":\"#2a3f5f\"},\"geo\":{\"bgcolor\":\"white\",\"lakecolor\":\"white\",\"landcolor\":\"#E5ECF6\",\"showlakes\":true,\"showland\":true,\"subunitcolor\":\"white\"},\"hoverlabel\":{\"align\":\"left\"},\"hovermode\":\"closest\",\"mapbox\":{\"style\":\"light\"},\"paper_bgcolor\":\"white\",\"plot_bgcolor\":\"#E5ECF6\",\"polar\":{\"angularaxis\":{\"gridcolor\":\"white\",\"linecolor\":\"white\",\"ticks\":\"\"},\"bgcolor\":\"#E5ECF6\",\"radialaxis\":{\"gridcolor\":\"white\",\"linecolor\":\"white\",\"ticks\":\"\"}},\"scene\":{\"xaxis\":{\"backgroundcolor\":\"#E5ECF6\",\"gridcolor\":\"white\",\"gridwidth\":2,\"linecolor\":\"white\",\"showbackground\":true,\"ticks\":\"\",\"zerolinecolor\":\"white\"},\"yaxis\":{\"backgroundcolor\":\"#E5ECF6\",\"gridcolor\":\"white\",\"gridwidth\":2,\"linecolor\":\"white\",\"showbackground\":true,\"ticks\":\"\",\"zerolinecolor\":\"white\"},\"zaxis\":{\"backgroundcolor\":\"#E5ECF6\",\"gridcolor\":\"white\",\"gridwidth\":2,\"linecolor\":\"white\",\"showbackground\":true,\"ticks\":\"\",\"zerolinecolor\":\"white\"}},\"shapedefaults\":{\"line\":{\"color\":\"#2a3f5f\"}},\"ternary\":{\"aaxis\":{\"gridcolor\":\"white\",\"linecolor\":\"white\",\"ticks\":\"\"},\"baxis\":{\"gridcolor\":\"white\",\"linecolor\":\"white\",\"ticks\":\"\"},\"bgcolor\":\"#E5ECF6\",\"caxis\":{\"gridcolor\":\"white\",\"linecolor\":\"white\",\"ticks\":\"\"}},\"title\":{\"x\":0.05},\"xaxis\":{\"automargin\":true,\"gridcolor\":\"white\",\"linecolor\":\"white\",\"ticks\":\"\",\"title\":{\"standoff\":15},\"zerolinecolor\":\"white\",\"zerolinewidth\":2},\"yaxis\":{\"automargin\":true,\"gridcolor\":\"white\",\"linecolor\":\"white\",\"ticks\":\"\",\"title\":{\"standoff\":15},\"zerolinecolor\":\"white\",\"zerolinewidth\":2}}},\"title\":{\"font\":{\"color\":\"#4D5663\"}},\"xaxis\":{\"gridcolor\":\"#E1E5ED\",\"showgrid\":true,\"tickfont\":{\"color\":\"#4D5663\"},\"title\":{\"font\":{\"color\":\"#4D5663\"},\"text\":\"\"},\"zerolinecolor\":\"#E1E5ED\"},\"yaxis\":{\"gridcolor\":\"#E1E5ED\",\"showgrid\":true,\"tickfont\":{\"color\":\"#4D5663\"},\"title\":{\"font\":{\"color\":\"#4D5663\"},\"text\":\"\"},\"zerolinecolor\":\"#E1E5ED\"}},                        {\"showLink\": true, \"linkText\": \"Export to plot.ly\", \"plotlyServerURL\": \"https://plot.ly\", \"responsive\": true}                    ).then(function(){\n",
       "                            \n",
       "var gd = document.getElementById('b44bed18-d8fd-414c-bde3-6d80f89594f8');\n",
       "var x = new MutationObserver(function (mutations, observer) {{\n",
       "        var display = window.getComputedStyle(gd).display;\n",
       "        if (!display || display === 'none') {{\n",
       "            console.log([gd, 'removed!']);\n",
       "            Plotly.purge(gd);\n",
       "            observer.disconnect();\n",
       "        }}\n",
       "}});\n",
       "\n",
       "// Listen for the removal of the full notebook cells\n",
       "var notebookContainer = gd.closest('#notebook-container');\n",
       "if (notebookContainer) {{\n",
       "    x.observe(notebookContainer, {childList: true});\n",
       "}}\n",
       "\n",
       "// Listen for the clearing of the current output cell\n",
       "var outputEl = gd.closest('.output');\n",
       "if (outputEl) {{\n",
       "    x.observe(outputEl, {childList: true});\n",
       "}}\n",
       "\n",
       "                        })                };                });            </script>        </div>"
      ]
     },
     "metadata": {},
     "output_type": "display_data"
    }
   ],
   "source": [
    "df = df1[['HP', 'Attack', 'Defense', 'Sp. Atk', 'Sp. Def', 'Speed']]\n",
    "df.iplot(kind='box')"
   ]
  },
  {
   "cell_type": "markdown",
   "metadata": {},
   "source": [
    "Heatmap\n",
    "Heatmap has lots of usage but as an example we will check correlation between features in dataset."
   ]
  },
  {
   "cell_type": "markdown",
   "metadata": {},
   "source": [
    "Observing the total of each pokemon breed by their name, using Scatter graph."
   ]
  },
  {
   "cell_type": "code",
   "execution_count": 73,
   "metadata": {},
   "outputs": [
    {
     "data": {
      "application/vnd.plotly.v1+json": {
       "config": {
        "linkText": "Export to plot.ly",
        "plotlyServerURL": "https://plot.ly",
        "showLink": true
       },
       "data": [
        {
         "marker": {
          "color": "rgba(255, 153, 51, 1.0)",
          "line": {
           "width": 1.3
          },
          "opacity": 0.8,
          "size": 12,
          "symbol": "circle"
         },
         "mode": "markers",
         "name": "Bulbasaur",
         "textfont": {
          "color": "#4D5663"
         },
         "type": "scatter",
         "x": [
          318
         ],
         "y": [
          45
         ]
        },
        {
         "marker": {
          "color": "rgba(55, 128, 191, 1.0)",
          "line": {
           "width": 1.3
          },
          "opacity": 0.8,
          "size": 12,
          "symbol": "circle"
         },
         "mode": "markers",
         "name": "Ivysaur",
         "textfont": {
          "color": "#4D5663"
         },
         "type": "scatter",
         "x": [
          405
         ],
         "y": [
          60
         ]
        },
        {
         "marker": {
          "color": "rgba(50, 171, 96, 1.0)",
          "line": {
           "width": 1.3
          },
          "opacity": 0.8,
          "size": 12,
          "symbol": "circle"
         },
         "mode": "markers",
         "name": "Venusaur",
         "textfont": {
          "color": "#4D5663"
         },
         "type": "scatter",
         "x": [
          525
         ],
         "y": [
          80
         ]
        },
        {
         "marker": {
          "color": "rgba(128, 0, 128, 1.0)",
          "line": {
           "width": 1.3
          },
          "opacity": 0.8,
          "size": 12,
          "symbol": "circle"
         },
         "mode": "markers",
         "name": "VenusaurMega Venusaur",
         "textfont": {
          "color": "#4D5663"
         },
         "type": "scatter",
         "x": [
          625
         ],
         "y": [
          80
         ]
        },
        {
         "marker": {
          "color": "rgba(219, 64, 82, 1.0)",
          "line": {
           "width": 1.3
          },
          "opacity": 0.8,
          "size": 12,
          "symbol": "circle"
         },
         "mode": "markers",
         "name": "Charmander",
         "textfont": {
          "color": "#4D5663"
         },
         "type": "scatter",
         "x": [
          309
         ],
         "y": [
          65
         ]
        },
        {
         "marker": {
          "color": "rgba(0, 128, 128, 1.0)",
          "line": {
           "width": 1.3
          },
          "opacity": 0.8,
          "size": 12,
          "symbol": "circle"
         },
         "mode": "markers",
         "name": "Charmeleon",
         "textfont": {
          "color": "#4D5663"
         },
         "type": "scatter",
         "x": [
          405
         ],
         "y": [
          80
         ]
        },
        {
         "marker": {
          "color": "rgba(255, 255, 51, 1.0)",
          "line": {
           "width": 1.3
          },
          "opacity": 0.8,
          "size": 12,
          "symbol": "circle"
         },
         "mode": "markers",
         "name": "Charizard",
         "textfont": {
          "color": "#4D5663"
         },
         "type": "scatter",
         "x": [
          534
         ],
         "y": [
          100
         ]
        },
        {
         "marker": {
          "color": "rgba(128, 128, 0, 1.0)",
          "line": {
           "width": 1.3
          },
          "opacity": 0.8,
          "size": 12,
          "symbol": "circle"
         },
         "mode": "markers",
         "name": "CharizardMega Charizard X",
         "textfont": {
          "color": "#4D5663"
         },
         "type": "scatter",
         "x": [
          634
         ],
         "y": [
          100
         ]
        },
        {
         "marker": {
          "color": "rgba(251, 128, 114, 1.0)",
          "line": {
           "width": 1.3
          },
          "opacity": 0.8,
          "size": 12,
          "symbol": "circle"
         },
         "mode": "markers",
         "name": "CharizardMega Charizard Y",
         "textfont": {
          "color": "#4D5663"
         },
         "type": "scatter",
         "x": [
          634
         ],
         "y": [
          100
         ]
        },
        {
         "marker": {
          "color": "rgba(128, 177, 211, 1.0)",
          "line": {
           "width": 1.3
          },
          "opacity": 0.8,
          "size": 12,
          "symbol": "circle"
         },
         "mode": "markers",
         "name": "Squirtle",
         "textfont": {
          "color": "#4D5663"
         },
         "type": "scatter",
         "x": [
          314
         ],
         "y": [
          43
         ]
        },
        {
         "marker": {
          "color": "rgba(128, 177, 211, 0.99)",
          "line": {
           "width": 1.3
          },
          "opacity": 0.8,
          "size": 12,
          "symbol": "circle"
         },
         "mode": "markers",
         "name": "Wartortle",
         "textfont": {
          "color": "#4D5663"
         },
         "type": "scatter",
         "x": [
          405
         ],
         "y": [
          58
         ]
        },
        {
         "marker": {
          "color": "rgba(255, 153, 51, 0.99)",
          "line": {
           "width": 1.3
          },
          "opacity": 0.8,
          "size": 12,
          "symbol": "circle"
         },
         "mode": "markers",
         "name": "Blastoise",
         "textfont": {
          "color": "#4D5663"
         },
         "type": "scatter",
         "x": [
          530
         ],
         "y": [
          78
         ]
        },
        {
         "marker": {
          "color": "rgba(55, 128, 191, 0.99)",
          "line": {
           "width": 1.3
          },
          "opacity": 0.8,
          "size": 12,
          "symbol": "circle"
         },
         "mode": "markers",
         "name": "BlastoiseMega Blastoise",
         "textfont": {
          "color": "#4D5663"
         },
         "type": "scatter",
         "x": [
          630
         ],
         "y": [
          78
         ]
        },
        {
         "marker": {
          "color": "rgba(50, 171, 96, 0.99)",
          "line": {
           "width": 1.3
          },
          "opacity": 0.8,
          "size": 12,
          "symbol": "circle"
         },
         "mode": "markers",
         "name": "Caterpie",
         "textfont": {
          "color": "#4D5663"
         },
         "type": "scatter",
         "x": [
          195
         ],
         "y": [
          45
         ]
        },
        {
         "marker": {
          "color": "rgba(128, 0, 128, 0.99)",
          "line": {
           "width": 1.3
          },
          "opacity": 0.8,
          "size": 12,
          "symbol": "circle"
         },
         "mode": "markers",
         "name": "Metapod",
         "textfont": {
          "color": "#4D5663"
         },
         "type": "scatter",
         "x": [
          205
         ],
         "y": [
          30
         ]
        },
        {
         "marker": {
          "color": "rgba(219, 64, 82, 0.99)",
          "line": {
           "width": 1.3
          },
          "opacity": 0.8,
          "size": 12,
          "symbol": "circle"
         },
         "mode": "markers",
         "name": "Butterfree",
         "textfont": {
          "color": "#4D5663"
         },
         "type": "scatter",
         "x": [
          395
         ],
         "y": [
          70
         ]
        },
        {
         "marker": {
          "color": "rgba(0, 128, 128, 0.99)",
          "line": {
           "width": 1.3
          },
          "opacity": 0.8,
          "size": 12,
          "symbol": "circle"
         },
         "mode": "markers",
         "name": "Weedle",
         "textfont": {
          "color": "#4D5663"
         },
         "type": "scatter",
         "x": [
          195
         ],
         "y": [
          50
         ]
        },
        {
         "marker": {
          "color": "rgba(255, 255, 51, 0.99)",
          "line": {
           "width": 1.3
          },
          "opacity": 0.8,
          "size": 12,
          "symbol": "circle"
         },
         "mode": "markers",
         "name": "Kakuna",
         "textfont": {
          "color": "#4D5663"
         },
         "type": "scatter",
         "x": [
          205
         ],
         "y": [
          35
         ]
        },
        {
         "marker": {
          "color": "rgba(128, 128, 0, 0.99)",
          "line": {
           "width": 1.3
          },
          "opacity": 0.8,
          "size": 12,
          "symbol": "circle"
         },
         "mode": "markers",
         "name": "Beedrill",
         "textfont": {
          "color": "#4D5663"
         },
         "type": "scatter",
         "x": [
          395
         ],
         "y": [
          75
         ]
        },
        {
         "marker": {
          "color": "rgba(251, 128, 114, 0.99)",
          "line": {
           "width": 1.3
          },
          "opacity": 0.8,
          "size": 12,
          "symbol": "circle"
         },
         "mode": "markers",
         "name": "BeedrillMega Beedrill",
         "textfont": {
          "color": "#4D5663"
         },
         "type": "scatter",
         "x": [
          495
         ],
         "y": [
          145
         ]
        },
        {
         "marker": {
          "color": "rgba(251, 128, 114, 0.98)",
          "line": {
           "width": 1.3
          },
          "opacity": 0.8,
          "size": 12,
          "symbol": "circle"
         },
         "mode": "markers",
         "name": "Pidgey",
         "textfont": {
          "color": "#4D5663"
         },
         "type": "scatter",
         "x": [
          251
         ],
         "y": [
          56
         ]
        },
        {
         "marker": {
          "color": "rgba(128, 177, 211, 0.98)",
          "line": {
           "width": 1.3
          },
          "opacity": 0.8,
          "size": 12,
          "symbol": "circle"
         },
         "mode": "markers",
         "name": "Pidgeotto",
         "textfont": {
          "color": "#4D5663"
         },
         "type": "scatter",
         "x": [
          349
         ],
         "y": [
          71
         ]
        },
        {
         "marker": {
          "color": "rgba(255, 153, 51, 0.98)",
          "line": {
           "width": 1.3
          },
          "opacity": 0.8,
          "size": 12,
          "symbol": "circle"
         },
         "mode": "markers",
         "name": "Pidgeot",
         "textfont": {
          "color": "#4D5663"
         },
         "type": "scatter",
         "x": [
          479
         ],
         "y": [
          101
         ]
        },
        {
         "marker": {
          "color": "rgba(55, 128, 191, 0.98)",
          "line": {
           "width": 1.3
          },
          "opacity": 0.8,
          "size": 12,
          "symbol": "circle"
         },
         "mode": "markers",
         "name": "PidgeotMega Pidgeot",
         "textfont": {
          "color": "#4D5663"
         },
         "type": "scatter",
         "x": [
          579
         ],
         "y": [
          121
         ]
        },
        {
         "marker": {
          "color": "rgba(50, 171, 96, 0.98)",
          "line": {
           "width": 1.3
          },
          "opacity": 0.8,
          "size": 12,
          "symbol": "circle"
         },
         "mode": "markers",
         "name": "Rattata",
         "textfont": {
          "color": "#4D5663"
         },
         "type": "scatter",
         "x": [
          253
         ],
         "y": [
          72
         ]
        },
        {
         "marker": {
          "color": "rgba(128, 0, 128, 0.98)",
          "line": {
           "width": 1.3
          },
          "opacity": 0.8,
          "size": 12,
          "symbol": "circle"
         },
         "mode": "markers",
         "name": "Raticate",
         "textfont": {
          "color": "#4D5663"
         },
         "type": "scatter",
         "x": [
          413
         ],
         "y": [
          97
         ]
        },
        {
         "marker": {
          "color": "rgba(219, 64, 82, 0.98)",
          "line": {
           "width": 1.3
          },
          "opacity": 0.8,
          "size": 12,
          "symbol": "circle"
         },
         "mode": "markers",
         "name": "Spearow",
         "textfont": {
          "color": "#4D5663"
         },
         "type": "scatter",
         "x": [
          262
         ],
         "y": [
          70
         ]
        },
        {
         "marker": {
          "color": "rgba(0, 128, 128, 0.98)",
          "line": {
           "width": 1.3
          },
          "opacity": 0.8,
          "size": 12,
          "symbol": "circle"
         },
         "mode": "markers",
         "name": "Fearow",
         "textfont": {
          "color": "#4D5663"
         },
         "type": "scatter",
         "x": [
          442
         ],
         "y": [
          100
         ]
        },
        {
         "marker": {
          "color": "rgba(255, 255, 51, 0.98)",
          "line": {
           "width": 1.3
          },
          "opacity": 0.8,
          "size": 12,
          "symbol": "circle"
         },
         "mode": "markers",
         "name": "Ekans",
         "textfont": {
          "color": "#4D5663"
         },
         "type": "scatter",
         "x": [
          288
         ],
         "y": [
          55
         ]
        },
        {
         "marker": {
          "color": "rgba(128, 128, 0, 0.98)",
          "line": {
           "width": 1.3
          },
          "opacity": 0.8,
          "size": 12,
          "symbol": "circle"
         },
         "mode": "markers",
         "name": "Arbok",
         "textfont": {
          "color": "#4D5663"
         },
         "type": "scatter",
         "x": [
          438
         ],
         "y": [
          80
         ]
        },
        {
         "marker": {
          "color": "rgba(128, 128, 0, 0.97)",
          "line": {
           "width": 1.3
          },
          "opacity": 0.8,
          "size": 12,
          "symbol": "circle"
         },
         "mode": "markers",
         "name": "Pikachu",
         "textfont": {
          "color": "#4D5663"
         },
         "type": "scatter",
         "x": [
          320
         ],
         "y": [
          90
         ]
        },
        {
         "marker": {
          "color": "rgba(251, 128, 114, 0.97)",
          "line": {
           "width": 1.3
          },
          "opacity": 0.8,
          "size": 12,
          "symbol": "circle"
         },
         "mode": "markers",
         "name": "Raichu",
         "textfont": {
          "color": "#4D5663"
         },
         "type": "scatter",
         "x": [
          485
         ],
         "y": [
          110
         ]
        },
        {
         "marker": {
          "color": "rgba(128, 177, 211, 0.97)",
          "line": {
           "width": 1.3
          },
          "opacity": 0.8,
          "size": 12,
          "symbol": "circle"
         },
         "mode": "markers",
         "name": "Sandshrew",
         "textfont": {
          "color": "#4D5663"
         },
         "type": "scatter",
         "x": [
          300
         ],
         "y": [
          40
         ]
        },
        {
         "marker": {
          "color": "rgba(255, 153, 51, 0.97)",
          "line": {
           "width": 1.3
          },
          "opacity": 0.8,
          "size": 12,
          "symbol": "circle"
         },
         "mode": "markers",
         "name": "Sandslash",
         "textfont": {
          "color": "#4D5663"
         },
         "type": "scatter",
         "x": [
          450
         ],
         "y": [
          65
         ]
        },
        {
         "marker": {
          "color": "rgba(55, 128, 191, 0.97)",
          "line": {
           "width": 1.3
          },
          "opacity": 0.8,
          "size": 12,
          "symbol": "circle"
         },
         "mode": "markers",
         "name": "Nidoran♀",
         "textfont": {
          "color": "#4D5663"
         },
         "type": "scatter",
         "x": [
          275
         ],
         "y": [
          41
         ]
        },
        {
         "marker": {
          "color": "rgba(50, 171, 96, 0.97)",
          "line": {
           "width": 1.3
          },
          "opacity": 0.8,
          "size": 12,
          "symbol": "circle"
         },
         "mode": "markers",
         "name": "Nidorina",
         "textfont": {
          "color": "#4D5663"
         },
         "type": "scatter",
         "x": [
          365
         ],
         "y": [
          56
         ]
        },
        {
         "marker": {
          "color": "rgba(128, 0, 128, 0.97)",
          "line": {
           "width": 1.3
          },
          "opacity": 0.8,
          "size": 12,
          "symbol": "circle"
         },
         "mode": "markers",
         "name": "Nidoqueen",
         "textfont": {
          "color": "#4D5663"
         },
         "type": "scatter",
         "x": [
          505
         ],
         "y": [
          76
         ]
        },
        {
         "marker": {
          "color": "rgba(219, 64, 82, 0.97)",
          "line": {
           "width": 1.3
          },
          "opacity": 0.8,
          "size": 12,
          "symbol": "circle"
         },
         "mode": "markers",
         "name": "Nidoran♂",
         "textfont": {
          "color": "#4D5663"
         },
         "type": "scatter",
         "x": [
          273
         ],
         "y": [
          50
         ]
        },
        {
         "marker": {
          "color": "rgba(0, 128, 128, 0.97)",
          "line": {
           "width": 1.3
          },
          "opacity": 0.8,
          "size": 12,
          "symbol": "circle"
         },
         "mode": "markers",
         "name": "Nidorino",
         "textfont": {
          "color": "#4D5663"
         },
         "type": "scatter",
         "x": [
          365
         ],
         "y": [
          65
         ]
        },
        {
         "marker": {
          "color": "rgba(255, 255, 51, 0.97)",
          "line": {
           "width": 1.3
          },
          "opacity": 0.8,
          "size": 12,
          "symbol": "circle"
         },
         "mode": "markers",
         "name": "Nidoking",
         "textfont": {
          "color": "#4D5663"
         },
         "type": "scatter",
         "x": [
          505
         ],
         "y": [
          85
         ]
        },
        {
         "marker": {
          "color": "rgba(255, 255, 51, 0.96)",
          "line": {
           "width": 1.3
          },
          "opacity": 0.8,
          "size": 12,
          "symbol": "circle"
         },
         "mode": "markers",
         "name": "Clefairy",
         "textfont": {
          "color": "#4D5663"
         },
         "type": "scatter",
         "x": [
          323
         ],
         "y": [
          35
         ]
        },
        {
         "marker": {
          "color": "rgba(128, 128, 0, 0.96)",
          "line": {
           "width": 1.3
          },
          "opacity": 0.8,
          "size": 12,
          "symbol": "circle"
         },
         "mode": "markers",
         "name": "Clefable",
         "textfont": {
          "color": "#4D5663"
         },
         "type": "scatter",
         "x": [
          483
         ],
         "y": [
          60
         ]
        },
        {
         "marker": {
          "color": "rgba(251, 128, 114, 0.96)",
          "line": {
           "width": 1.3
          },
          "opacity": 0.8,
          "size": 12,
          "symbol": "circle"
         },
         "mode": "markers",
         "name": "Vulpix",
         "textfont": {
          "color": "#4D5663"
         },
         "type": "scatter",
         "x": [
          299
         ],
         "y": [
          65
         ]
        },
        {
         "marker": {
          "color": "rgba(128, 177, 211, 0.96)",
          "line": {
           "width": 1.3
          },
          "opacity": 0.8,
          "size": 12,
          "symbol": "circle"
         },
         "mode": "markers",
         "name": "Ninetales",
         "textfont": {
          "color": "#4D5663"
         },
         "type": "scatter",
         "x": [
          505
         ],
         "y": [
          100
         ]
        },
        {
         "marker": {
          "color": "rgba(255, 153, 51, 0.96)",
          "line": {
           "width": 1.3
          },
          "opacity": 0.8,
          "size": 12,
          "symbol": "circle"
         },
         "mode": "markers",
         "name": "Jigglypuff",
         "textfont": {
          "color": "#4D5663"
         },
         "type": "scatter",
         "x": [
          270
         ],
         "y": [
          20
         ]
        },
        {
         "marker": {
          "color": "rgba(55, 128, 191, 0.96)",
          "line": {
           "width": 1.3
          },
          "opacity": 0.8,
          "size": 12,
          "symbol": "circle"
         },
         "mode": "markers",
         "name": "Wigglytuff",
         "textfont": {
          "color": "#4D5663"
         },
         "type": "scatter",
         "x": [
          435
         ],
         "y": [
          45
         ]
        },
        {
         "marker": {
          "color": "rgba(50, 171, 96, 0.96)",
          "line": {
           "width": 1.3
          },
          "opacity": 0.8,
          "size": 12,
          "symbol": "circle"
         },
         "mode": "markers",
         "name": "Zubat",
         "textfont": {
          "color": "#4D5663"
         },
         "type": "scatter",
         "x": [
          245
         ],
         "y": [
          55
         ]
        },
        {
         "marker": {
          "color": "rgba(128, 0, 128, 0.96)",
          "line": {
           "width": 1.3
          },
          "opacity": 0.8,
          "size": 12,
          "symbol": "circle"
         },
         "mode": "markers",
         "name": "Golbat",
         "textfont": {
          "color": "#4D5663"
         },
         "type": "scatter",
         "x": [
          455
         ],
         "y": [
          90
         ]
        },
        {
         "marker": {
          "color": "rgba(219, 64, 82, 0.96)",
          "line": {
           "width": 1.3
          },
          "opacity": 0.8,
          "size": 12,
          "symbol": "circle"
         },
         "mode": "markers",
         "name": "Oddish",
         "textfont": {
          "color": "#4D5663"
         },
         "type": "scatter",
         "x": [
          320
         ],
         "y": [
          30
         ]
        },
        {
         "marker": {
          "color": "rgba(0, 128, 128, 0.96)",
          "line": {
           "width": 1.3
          },
          "opacity": 0.8,
          "size": 12,
          "symbol": "circle"
         },
         "mode": "markers",
         "name": "Gloom",
         "textfont": {
          "color": "#4D5663"
         },
         "type": "scatter",
         "x": [
          395
         ],
         "y": [
          40
         ]
        },
        {
         "marker": {
          "color": "rgba(0, 128, 128, 0.95)",
          "line": {
           "width": 1.3
          },
          "opacity": 0.8,
          "size": 12,
          "symbol": "circle"
         },
         "mode": "markers",
         "name": "Vileplume",
         "textfont": {
          "color": "#4D5663"
         },
         "type": "scatter",
         "x": [
          490
         ],
         "y": [
          50
         ]
        },
        {
         "marker": {
          "color": "rgba(255, 255, 51, 0.95)",
          "line": {
           "width": 1.3
          },
          "opacity": 0.8,
          "size": 12,
          "symbol": "circle"
         },
         "mode": "markers",
         "name": "Paras",
         "textfont": {
          "color": "#4D5663"
         },
         "type": "scatter",
         "x": [
          285
         ],
         "y": [
          25
         ]
        },
        {
         "marker": {
          "color": "rgba(128, 128, 0, 0.95)",
          "line": {
           "width": 1.3
          },
          "opacity": 0.8,
          "size": 12,
          "symbol": "circle"
         },
         "mode": "markers",
         "name": "Parasect",
         "textfont": {
          "color": "#4D5663"
         },
         "type": "scatter",
         "x": [
          405
         ],
         "y": [
          30
         ]
        },
        {
         "marker": {
          "color": "rgba(251, 128, 114, 0.95)",
          "line": {
           "width": 1.3
          },
          "opacity": 0.8,
          "size": 12,
          "symbol": "circle"
         },
         "mode": "markers",
         "name": "Venonat",
         "textfont": {
          "color": "#4D5663"
         },
         "type": "scatter",
         "x": [
          305
         ],
         "y": [
          45
         ]
        },
        {
         "marker": {
          "color": "rgba(128, 177, 211, 0.95)",
          "line": {
           "width": 1.3
          },
          "opacity": 0.8,
          "size": 12,
          "symbol": "circle"
         },
         "mode": "markers",
         "name": "Venomoth",
         "textfont": {
          "color": "#4D5663"
         },
         "type": "scatter",
         "x": [
          450
         ],
         "y": [
          90
         ]
        },
        {
         "marker": {
          "color": "rgba(255, 153, 51, 0.95)",
          "line": {
           "width": 1.3
          },
          "opacity": 0.8,
          "size": 12,
          "symbol": "circle"
         },
         "mode": "markers",
         "name": "Diglett",
         "textfont": {
          "color": "#4D5663"
         },
         "type": "scatter",
         "x": [
          265
         ],
         "y": [
          95
         ]
        },
        {
         "marker": {
          "color": "rgba(55, 128, 191, 0.95)",
          "line": {
           "width": 1.3
          },
          "opacity": 0.8,
          "size": 12,
          "symbol": "circle"
         },
         "mode": "markers",
         "name": "Dugtrio",
         "textfont": {
          "color": "#4D5663"
         },
         "type": "scatter",
         "x": [
          405
         ],
         "y": [
          120
         ]
        },
        {
         "marker": {
          "color": "rgba(50, 171, 96, 0.95)",
          "line": {
           "width": 1.3
          },
          "opacity": 0.8,
          "size": 12,
          "symbol": "circle"
         },
         "mode": "markers",
         "name": "Meowth",
         "textfont": {
          "color": "#4D5663"
         },
         "type": "scatter",
         "x": [
          290
         ],
         "y": [
          90
         ]
        },
        {
         "marker": {
          "color": "rgba(128, 0, 128, 0.95)",
          "line": {
           "width": 1.3
          },
          "opacity": 0.8,
          "size": 12,
          "symbol": "circle"
         },
         "mode": "markers",
         "name": "Persian",
         "textfont": {
          "color": "#4D5663"
         },
         "type": "scatter",
         "x": [
          440
         ],
         "y": [
          115
         ]
        },
        {
         "marker": {
          "color": "rgba(219, 64, 82, 0.95)",
          "line": {
           "width": 1.3
          },
          "opacity": 0.8,
          "size": 12,
          "symbol": "circle"
         },
         "mode": "markers",
         "name": "Psyduck",
         "textfont": {
          "color": "#4D5663"
         },
         "type": "scatter",
         "x": [
          320
         ],
         "y": [
          55
         ]
        },
        {
         "marker": {
          "color": "rgba(219, 64, 82, 0.94)",
          "line": {
           "width": 1.3
          },
          "opacity": 0.8,
          "size": 12,
          "symbol": "circle"
         },
         "mode": "markers",
         "name": "Golduck",
         "textfont": {
          "color": "#4D5663"
         },
         "type": "scatter",
         "x": [
          500
         ],
         "y": [
          85
         ]
        },
        {
         "marker": {
          "color": "rgba(0, 128, 128, 0.94)",
          "line": {
           "width": 1.3
          },
          "opacity": 0.8,
          "size": 12,
          "symbol": "circle"
         },
         "mode": "markers",
         "name": "Mankey",
         "textfont": {
          "color": "#4D5663"
         },
         "type": "scatter",
         "x": [
          305
         ],
         "y": [
          70
         ]
        },
        {
         "marker": {
          "color": "rgba(255, 255, 51, 0.94)",
          "line": {
           "width": 1.3
          },
          "opacity": 0.8,
          "size": 12,
          "symbol": "circle"
         },
         "mode": "markers",
         "name": "Primeape",
         "textfont": {
          "color": "#4D5663"
         },
         "type": "scatter",
         "x": [
          455
         ],
         "y": [
          95
         ]
        },
        {
         "marker": {
          "color": "rgba(128, 128, 0, 0.94)",
          "line": {
           "width": 1.3
          },
          "opacity": 0.8,
          "size": 12,
          "symbol": "circle"
         },
         "mode": "markers",
         "name": "Growlithe",
         "textfont": {
          "color": "#4D5663"
         },
         "type": "scatter",
         "x": [
          350
         ],
         "y": [
          60
         ]
        },
        {
         "marker": {
          "color": "rgba(251, 128, 114, 0.94)",
          "line": {
           "width": 1.3
          },
          "opacity": 0.8,
          "size": 12,
          "symbol": "circle"
         },
         "mode": "markers",
         "name": "Arcanine",
         "textfont": {
          "color": "#4D5663"
         },
         "type": "scatter",
         "x": [
          555
         ],
         "y": [
          95
         ]
        },
        {
         "marker": {
          "color": "rgba(128, 177, 211, 0.94)",
          "line": {
           "width": 1.3
          },
          "opacity": 0.8,
          "size": 12,
          "symbol": "circle"
         },
         "mode": "markers",
         "name": "Poliwag",
         "textfont": {
          "color": "#4D5663"
         },
         "type": "scatter",
         "x": [
          300
         ],
         "y": [
          90
         ]
        },
        {
         "marker": {
          "color": "rgba(255, 153, 51, 0.94)",
          "line": {
           "width": 1.3
          },
          "opacity": 0.8,
          "size": 12,
          "symbol": "circle"
         },
         "mode": "markers",
         "name": "Poliwhirl",
         "textfont": {
          "color": "#4D5663"
         },
         "type": "scatter",
         "x": [
          385
         ],
         "y": [
          90
         ]
        },
        {
         "marker": {
          "color": "rgba(55, 128, 191, 0.94)",
          "line": {
           "width": 1.3
          },
          "opacity": 0.8,
          "size": 12,
          "symbol": "circle"
         },
         "mode": "markers",
         "name": "Poliwrath",
         "textfont": {
          "color": "#4D5663"
         },
         "type": "scatter",
         "x": [
          510
         ],
         "y": [
          70
         ]
        },
        {
         "marker": {
          "color": "rgba(50, 171, 96, 0.94)",
          "line": {
           "width": 1.3
          },
          "opacity": 0.8,
          "size": 12,
          "symbol": "circle"
         },
         "mode": "markers",
         "name": "Abra",
         "textfont": {
          "color": "#4D5663"
         },
         "type": "scatter",
         "x": [
          310
         ],
         "y": [
          90
         ]
        },
        {
         "marker": {
          "color": "rgba(128, 0, 128, 0.94)",
          "line": {
           "width": 1.3
          },
          "opacity": 0.8,
          "size": 12,
          "symbol": "circle"
         },
         "mode": "markers",
         "name": "Kadabra",
         "textfont": {
          "color": "#4D5663"
         },
         "type": "scatter",
         "x": [
          400
         ],
         "y": [
          105
         ]
        },
        {
         "marker": {
          "color": "rgba(128, 0, 128, 0.9299999999999999)",
          "line": {
           "width": 1.3
          },
          "opacity": 0.8,
          "size": 12,
          "symbol": "circle"
         },
         "mode": "markers",
         "name": "Alakazam",
         "textfont": {
          "color": "#4D5663"
         },
         "type": "scatter",
         "x": [
          500
         ],
         "y": [
          120
         ]
        },
        {
         "marker": {
          "color": "rgba(219, 64, 82, 0.9299999999999999)",
          "line": {
           "width": 1.3
          },
          "opacity": 0.8,
          "size": 12,
          "symbol": "circle"
         },
         "mode": "markers",
         "name": "AlakazamMega Alakazam",
         "textfont": {
          "color": "#4D5663"
         },
         "type": "scatter",
         "x": [
          590
         ],
         "y": [
          150
         ]
        },
        {
         "marker": {
          "color": "rgba(0, 128, 128, 0.9299999999999999)",
          "line": {
           "width": 1.3
          },
          "opacity": 0.8,
          "size": 12,
          "symbol": "circle"
         },
         "mode": "markers",
         "name": "Machop",
         "textfont": {
          "color": "#4D5663"
         },
         "type": "scatter",
         "x": [
          305
         ],
         "y": [
          35
         ]
        },
        {
         "marker": {
          "color": "rgba(255, 255, 51, 0.9299999999999999)",
          "line": {
           "width": 1.3
          },
          "opacity": 0.8,
          "size": 12,
          "symbol": "circle"
         },
         "mode": "markers",
         "name": "Machoke",
         "textfont": {
          "color": "#4D5663"
         },
         "type": "scatter",
         "x": [
          405
         ],
         "y": [
          45
         ]
        },
        {
         "marker": {
          "color": "rgba(128, 128, 0, 0.9299999999999999)",
          "line": {
           "width": 1.3
          },
          "opacity": 0.8,
          "size": 12,
          "symbol": "circle"
         },
         "mode": "markers",
         "name": "Machamp",
         "textfont": {
          "color": "#4D5663"
         },
         "type": "scatter",
         "x": [
          505
         ],
         "y": [
          55
         ]
        },
        {
         "marker": {
          "color": "rgba(251, 128, 114, 0.9299999999999999)",
          "line": {
           "width": 1.3
          },
          "opacity": 0.8,
          "size": 12,
          "symbol": "circle"
         },
         "mode": "markers",
         "name": "Bellsprout",
         "textfont": {
          "color": "#4D5663"
         },
         "type": "scatter",
         "x": [
          300
         ],
         "y": [
          40
         ]
        },
        {
         "marker": {
          "color": "rgba(128, 177, 211, 0.9299999999999999)",
          "line": {
           "width": 1.3
          },
          "opacity": 0.8,
          "size": 12,
          "symbol": "circle"
         },
         "mode": "markers",
         "name": "Weepinbell",
         "textfont": {
          "color": "#4D5663"
         },
         "type": "scatter",
         "x": [
          390
         ],
         "y": [
          55
         ]
        },
        {
         "marker": {
          "color": "rgba(255, 153, 51, 0.9299999999999999)",
          "line": {
           "width": 1.3
          },
          "opacity": 0.8,
          "size": 12,
          "symbol": "circle"
         },
         "mode": "markers",
         "name": "Victreebel",
         "textfont": {
          "color": "#4D5663"
         },
         "type": "scatter",
         "x": [
          490
         ],
         "y": [
          70
         ]
        },
        {
         "marker": {
          "color": "rgba(55, 128, 191, 0.9299999999999999)",
          "line": {
           "width": 1.3
          },
          "opacity": 0.8,
          "size": 12,
          "symbol": "circle"
         },
         "mode": "markers",
         "name": "Tentacool",
         "textfont": {
          "color": "#4D5663"
         },
         "type": "scatter",
         "x": [
          335
         ],
         "y": [
          70
         ]
        },
        {
         "marker": {
          "color": "rgba(50, 171, 96, 0.9299999999999999)",
          "line": {
           "width": 1.3
          },
          "opacity": 0.8,
          "size": 12,
          "symbol": "circle"
         },
         "mode": "markers",
         "name": "Tentacruel",
         "textfont": {
          "color": "#4D5663"
         },
         "type": "scatter",
         "x": [
          515
         ],
         "y": [
          100
         ]
        },
        {
         "marker": {
          "color": "rgba(50, 171, 96, 0.9199999999999999)",
          "line": {
           "width": 1.3
          },
          "opacity": 0.8,
          "size": 12,
          "symbol": "circle"
         },
         "mode": "markers",
         "name": "Geodude",
         "textfont": {
          "color": "#4D5663"
         },
         "type": "scatter",
         "x": [
          300
         ],
         "y": [
          20
         ]
        },
        {
         "marker": {
          "color": "rgba(128, 0, 128, 0.9199999999999999)",
          "line": {
           "width": 1.3
          },
          "opacity": 0.8,
          "size": 12,
          "symbol": "circle"
         },
         "mode": "markers",
         "name": "Graveler",
         "textfont": {
          "color": "#4D5663"
         },
         "type": "scatter",
         "x": [
          390
         ],
         "y": [
          35
         ]
        },
        {
         "marker": {
          "color": "rgba(219, 64, 82, 0.9199999999999999)",
          "line": {
           "width": 1.3
          },
          "opacity": 0.8,
          "size": 12,
          "symbol": "circle"
         },
         "mode": "markers",
         "name": "Golem",
         "textfont": {
          "color": "#4D5663"
         },
         "type": "scatter",
         "x": [
          495
         ],
         "y": [
          45
         ]
        },
        {
         "marker": {
          "color": "rgba(0, 128, 128, 0.9199999999999999)",
          "line": {
           "width": 1.3
          },
          "opacity": 0.8,
          "size": 12,
          "symbol": "circle"
         },
         "mode": "markers",
         "name": "Ponyta",
         "textfont": {
          "color": "#4D5663"
         },
         "type": "scatter",
         "x": [
          410
         ],
         "y": [
          90
         ]
        },
        {
         "marker": {
          "color": "rgba(255, 255, 51, 0.9199999999999999)",
          "line": {
           "width": 1.3
          },
          "opacity": 0.8,
          "size": 12,
          "symbol": "circle"
         },
         "mode": "markers",
         "name": "Rapidash",
         "textfont": {
          "color": "#4D5663"
         },
         "type": "scatter",
         "x": [
          500
         ],
         "y": [
          105
         ]
        },
        {
         "marker": {
          "color": "rgba(128, 128, 0, 0.9199999999999999)",
          "line": {
           "width": 1.3
          },
          "opacity": 0.8,
          "size": 12,
          "symbol": "circle"
         },
         "mode": "markers",
         "name": "Slowpoke",
         "textfont": {
          "color": "#4D5663"
         },
         "type": "scatter",
         "x": [
          315
         ],
         "y": [
          15
         ]
        },
        {
         "marker": {
          "color": "rgba(251, 128, 114, 0.9199999999999999)",
          "line": {
           "width": 1.3
          },
          "opacity": 0.8,
          "size": 12,
          "symbol": "circle"
         },
         "mode": "markers",
         "name": "Slowbro",
         "textfont": {
          "color": "#4D5663"
         },
         "type": "scatter",
         "x": [
          490
         ],
         "y": [
          30
         ]
        },
        {
         "marker": {
          "color": "rgba(128, 177, 211, 0.9199999999999999)",
          "line": {
           "width": 1.3
          },
          "opacity": 0.8,
          "size": 12,
          "symbol": "circle"
         },
         "mode": "markers",
         "name": "SlowbroMega Slowbro",
         "textfont": {
          "color": "#4D5663"
         },
         "type": "scatter",
         "x": [
          590
         ],
         "y": [
          30
         ]
        },
        {
         "marker": {
          "color": "rgba(255, 153, 51, 0.9199999999999999)",
          "line": {
           "width": 1.3
          },
          "opacity": 0.8,
          "size": 12,
          "symbol": "circle"
         },
         "mode": "markers",
         "name": "Magnemite",
         "textfont": {
          "color": "#4D5663"
         },
         "type": "scatter",
         "x": [
          325
         ],
         "y": [
          45
         ]
        },
        {
         "marker": {
          "color": "rgba(55, 128, 191, 0.9199999999999999)",
          "line": {
           "width": 1.3
          },
          "opacity": 0.8,
          "size": 12,
          "symbol": "circle"
         },
         "mode": "markers",
         "name": "Magneton",
         "textfont": {
          "color": "#4D5663"
         },
         "type": "scatter",
         "x": [
          465
         ],
         "y": [
          70
         ]
        },
        {
         "marker": {
          "color": "rgba(55, 128, 191, 0.9099999999999999)",
          "line": {
           "width": 1.3
          },
          "opacity": 0.8,
          "size": 12,
          "symbol": "circle"
         },
         "mode": "markers",
         "name": "Farfetch'd",
         "textfont": {
          "color": "#4D5663"
         },
         "type": "scatter",
         "x": [
          352
         ],
         "y": [
          60
         ]
        },
        {
         "marker": {
          "color": "rgba(50, 171, 96, 0.9099999999999999)",
          "line": {
           "width": 1.3
          },
          "opacity": 0.8,
          "size": 12,
          "symbol": "circle"
         },
         "mode": "markers",
         "name": "Doduo",
         "textfont": {
          "color": "#4D5663"
         },
         "type": "scatter",
         "x": [
          310
         ],
         "y": [
          75
         ]
        },
        {
         "marker": {
          "color": "rgba(128, 0, 128, 0.9099999999999999)",
          "line": {
           "width": 1.3
          },
          "opacity": 0.8,
          "size": 12,
          "symbol": "circle"
         },
         "mode": "markers",
         "name": "Dodrio",
         "textfont": {
          "color": "#4D5663"
         },
         "type": "scatter",
         "x": [
          460
         ],
         "y": [
          100
         ]
        },
        {
         "marker": {
          "color": "rgba(219, 64, 82, 0.9099999999999999)",
          "line": {
           "width": 1.3
          },
          "opacity": 0.8,
          "size": 12,
          "symbol": "circle"
         },
         "mode": "markers",
         "name": "Seel",
         "textfont": {
          "color": "#4D5663"
         },
         "type": "scatter",
         "x": [
          325
         ],
         "y": [
          45
         ]
        },
        {
         "marker": {
          "color": "rgba(0, 128, 128, 0.9099999999999999)",
          "line": {
           "width": 1.3
          },
          "opacity": 0.8,
          "size": 12,
          "symbol": "circle"
         },
         "mode": "markers",
         "name": "Dewgong",
         "textfont": {
          "color": "#4D5663"
         },
         "type": "scatter",
         "x": [
          475
         ],
         "y": [
          70
         ]
        },
        {
         "marker": {
          "color": "rgba(255, 255, 51, 0.9099999999999999)",
          "line": {
           "width": 1.3
          },
          "opacity": 0.8,
          "size": 12,
          "symbol": "circle"
         },
         "mode": "markers",
         "name": "Grimer",
         "textfont": {
          "color": "#4D5663"
         },
         "type": "scatter",
         "x": [
          325
         ],
         "y": [
          25
         ]
        },
        {
         "marker": {
          "color": "rgba(128, 128, 0, 0.9099999999999999)",
          "line": {
           "width": 1.3
          },
          "opacity": 0.8,
          "size": 12,
          "symbol": "circle"
         },
         "mode": "markers",
         "name": "Muk",
         "textfont": {
          "color": "#4D5663"
         },
         "type": "scatter",
         "x": [
          500
         ],
         "y": [
          50
         ]
        },
        {
         "marker": {
          "color": "rgba(251, 128, 114, 0.9099999999999999)",
          "line": {
           "width": 1.3
          },
          "opacity": 0.8,
          "size": 12,
          "symbol": "circle"
         },
         "mode": "markers",
         "name": "Shellder",
         "textfont": {
          "color": "#4D5663"
         },
         "type": "scatter",
         "x": [
          305
         ],
         "y": [
          40
         ]
        },
        {
         "marker": {
          "color": "rgba(128, 177, 211, 0.9099999999999999)",
          "line": {
           "width": 1.3
          },
          "opacity": 0.8,
          "size": 12,
          "symbol": "circle"
         },
         "mode": "markers",
         "name": "Cloyster",
         "textfont": {
          "color": "#4D5663"
         },
         "type": "scatter",
         "x": [
          525
         ],
         "y": [
          70
         ]
        },
        {
         "marker": {
          "color": "rgba(255, 153, 51, 0.9099999999999999)",
          "line": {
           "width": 1.3
          },
          "opacity": 0.8,
          "size": 12,
          "symbol": "circle"
         },
         "mode": "markers",
         "name": "Gastly",
         "textfont": {
          "color": "#4D5663"
         },
         "type": "scatter",
         "x": [
          310
         ],
         "y": [
          80
         ]
        },
        {
         "marker": {
          "color": "rgba(255, 153, 51, 0.8999999999999999)",
          "line": {
           "width": 1.3
          },
          "opacity": 0.8,
          "size": 12,
          "symbol": "circle"
         },
         "mode": "markers",
         "name": "Haunter",
         "textfont": {
          "color": "#4D5663"
         },
         "type": "scatter",
         "x": [
          405
         ],
         "y": [
          95
         ]
        },
        {
         "marker": {
          "color": "rgba(55, 128, 191, 0.8999999999999999)",
          "line": {
           "width": 1.3
          },
          "opacity": 0.8,
          "size": 12,
          "symbol": "circle"
         },
         "mode": "markers",
         "name": "Gengar",
         "textfont": {
          "color": "#4D5663"
         },
         "type": "scatter",
         "x": [
          500
         ],
         "y": [
          110
         ]
        },
        {
         "marker": {
          "color": "rgba(50, 171, 96, 0.8999999999999999)",
          "line": {
           "width": 1.3
          },
          "opacity": 0.8,
          "size": 12,
          "symbol": "circle"
         },
         "mode": "markers",
         "name": "GengarMega Gengar",
         "textfont": {
          "color": "#4D5663"
         },
         "type": "scatter",
         "x": [
          600
         ],
         "y": [
          130
         ]
        },
        {
         "marker": {
          "color": "rgba(128, 0, 128, 0.8999999999999999)",
          "line": {
           "width": 1.3
          },
          "opacity": 0.8,
          "size": 12,
          "symbol": "circle"
         },
         "mode": "markers",
         "name": "Onix",
         "textfont": {
          "color": "#4D5663"
         },
         "type": "scatter",
         "x": [
          385
         ],
         "y": [
          70
         ]
        },
        {
         "marker": {
          "color": "rgba(219, 64, 82, 0.8999999999999999)",
          "line": {
           "width": 1.3
          },
          "opacity": 0.8,
          "size": 12,
          "symbol": "circle"
         },
         "mode": "markers",
         "name": "Drowzee",
         "textfont": {
          "color": "#4D5663"
         },
         "type": "scatter",
         "x": [
          328
         ],
         "y": [
          42
         ]
        },
        {
         "marker": {
          "color": "rgba(0, 128, 128, 0.8999999999999999)",
          "line": {
           "width": 1.3
          },
          "opacity": 0.8,
          "size": 12,
          "symbol": "circle"
         },
         "mode": "markers",
         "name": "Hypno",
         "textfont": {
          "color": "#4D5663"
         },
         "type": "scatter",
         "x": [
          483
         ],
         "y": [
          67
         ]
        },
        {
         "marker": {
          "color": "rgba(255, 255, 51, 0.8999999999999999)",
          "line": {
           "width": 1.3
          },
          "opacity": 0.8,
          "size": 12,
          "symbol": "circle"
         },
         "mode": "markers",
         "name": "Krabby",
         "textfont": {
          "color": "#4D5663"
         },
         "type": "scatter",
         "x": [
          325
         ],
         "y": [
          50
         ]
        },
        {
         "marker": {
          "color": "rgba(128, 128, 0, 0.8999999999999999)",
          "line": {
           "width": 1.3
          },
          "opacity": 0.8,
          "size": 12,
          "symbol": "circle"
         },
         "mode": "markers",
         "name": "Kingler",
         "textfont": {
          "color": "#4D5663"
         },
         "type": "scatter",
         "x": [
          475
         ],
         "y": [
          75
         ]
        },
        {
         "marker": {
          "color": "rgba(251, 128, 114, 0.8999999999999999)",
          "line": {
           "width": 1.3
          },
          "opacity": 0.8,
          "size": 12,
          "symbol": "circle"
         },
         "mode": "markers",
         "name": "Voltorb",
         "textfont": {
          "color": "#4D5663"
         },
         "type": "scatter",
         "x": [
          330
         ],
         "y": [
          100
         ]
        },
        {
         "marker": {
          "color": "rgba(128, 177, 211, 0.8999999999999999)",
          "line": {
           "width": 1.3
          },
          "opacity": 0.8,
          "size": 12,
          "symbol": "circle"
         },
         "mode": "markers",
         "name": "Electrode",
         "textfont": {
          "color": "#4D5663"
         },
         "type": "scatter",
         "x": [
          480
         ],
         "y": [
          140
         ]
        },
        {
         "marker": {
          "color": "rgba(128, 177, 211, 0.8899999999999999)",
          "line": {
           "width": 1.3
          },
          "opacity": 0.8,
          "size": 12,
          "symbol": "circle"
         },
         "mode": "markers",
         "name": "Exeggcute",
         "textfont": {
          "color": "#4D5663"
         },
         "type": "scatter",
         "x": [
          325
         ],
         "y": [
          40
         ]
        },
        {
         "marker": {
          "color": "rgba(255, 153, 51, 0.8899999999999999)",
          "line": {
           "width": 1.3
          },
          "opacity": 0.8,
          "size": 12,
          "symbol": "circle"
         },
         "mode": "markers",
         "name": "Exeggutor",
         "textfont": {
          "color": "#4D5663"
         },
         "type": "scatter",
         "x": [
          520
         ],
         "y": [
          55
         ]
        },
        {
         "marker": {
          "color": "rgba(55, 128, 191, 0.8899999999999999)",
          "line": {
           "width": 1.3
          },
          "opacity": 0.8,
          "size": 12,
          "symbol": "circle"
         },
         "mode": "markers",
         "name": "Cubone",
         "textfont": {
          "color": "#4D5663"
         },
         "type": "scatter",
         "x": [
          320
         ],
         "y": [
          35
         ]
        },
        {
         "marker": {
          "color": "rgba(50, 171, 96, 0.8899999999999999)",
          "line": {
           "width": 1.3
          },
          "opacity": 0.8,
          "size": 12,
          "symbol": "circle"
         },
         "mode": "markers",
         "name": "Marowak",
         "textfont": {
          "color": "#4D5663"
         },
         "type": "scatter",
         "x": [
          425
         ],
         "y": [
          45
         ]
        },
        {
         "marker": {
          "color": "rgba(128, 0, 128, 0.8899999999999999)",
          "line": {
           "width": 1.3
          },
          "opacity": 0.8,
          "size": 12,
          "symbol": "circle"
         },
         "mode": "markers",
         "name": "Hitmonlee",
         "textfont": {
          "color": "#4D5663"
         },
         "type": "scatter",
         "x": [
          455
         ],
         "y": [
          87
         ]
        },
        {
         "marker": {
          "color": "rgba(219, 64, 82, 0.8899999999999999)",
          "line": {
           "width": 1.3
          },
          "opacity": 0.8,
          "size": 12,
          "symbol": "circle"
         },
         "mode": "markers",
         "name": "Hitmonchan",
         "textfont": {
          "color": "#4D5663"
         },
         "type": "scatter",
         "x": [
          455
         ],
         "y": [
          76
         ]
        },
        {
         "marker": {
          "color": "rgba(0, 128, 128, 0.8899999999999999)",
          "line": {
           "width": 1.3
          },
          "opacity": 0.8,
          "size": 12,
          "symbol": "circle"
         },
         "mode": "markers",
         "name": "Lickitung",
         "textfont": {
          "color": "#4D5663"
         },
         "type": "scatter",
         "x": [
          385
         ],
         "y": [
          30
         ]
        },
        {
         "marker": {
          "color": "rgba(255, 255, 51, 0.8899999999999999)",
          "line": {
           "width": 1.3
          },
          "opacity": 0.8,
          "size": 12,
          "symbol": "circle"
         },
         "mode": "markers",
         "name": "Koffing",
         "textfont": {
          "color": "#4D5663"
         },
         "type": "scatter",
         "x": [
          340
         ],
         "y": [
          35
         ]
        },
        {
         "marker": {
          "color": "rgba(128, 128, 0, 0.8899999999999999)",
          "line": {
           "width": 1.3
          },
          "opacity": 0.8,
          "size": 12,
          "symbol": "circle"
         },
         "mode": "markers",
         "name": "Weezing",
         "textfont": {
          "color": "#4D5663"
         },
         "type": "scatter",
         "x": [
          490
         ],
         "y": [
          60
         ]
        },
        {
         "marker": {
          "color": "rgba(251, 128, 114, 0.8899999999999999)",
          "line": {
           "width": 1.3
          },
          "opacity": 0.8,
          "size": 12,
          "symbol": "circle"
         },
         "mode": "markers",
         "name": "Rhyhorn",
         "textfont": {
          "color": "#4D5663"
         },
         "type": "scatter",
         "x": [
          345
         ],
         "y": [
          25
         ]
        },
        {
         "marker": {
          "color": "rgba(251, 128, 114, 0.8799999999999999)",
          "line": {
           "width": 1.3
          },
          "opacity": 0.8,
          "size": 12,
          "symbol": "circle"
         },
         "mode": "markers",
         "name": "Rhydon",
         "textfont": {
          "color": "#4D5663"
         },
         "type": "scatter",
         "x": [
          485
         ],
         "y": [
          40
         ]
        },
        {
         "marker": {
          "color": "rgba(128, 177, 211, 0.8799999999999999)",
          "line": {
           "width": 1.3
          },
          "opacity": 0.8,
          "size": 12,
          "symbol": "circle"
         },
         "mode": "markers",
         "name": "Chansey",
         "textfont": {
          "color": "#4D5663"
         },
         "type": "scatter",
         "x": [
          450
         ],
         "y": [
          50
         ]
        },
        {
         "marker": {
          "color": "rgba(255, 153, 51, 0.8799999999999999)",
          "line": {
           "width": 1.3
          },
          "opacity": 0.8,
          "size": 12,
          "symbol": "circle"
         },
         "mode": "markers",
         "name": "Tangela",
         "textfont": {
          "color": "#4D5663"
         },
         "type": "scatter",
         "x": [
          435
         ],
         "y": [
          60
         ]
        },
        {
         "marker": {
          "color": "rgba(55, 128, 191, 0.8799999999999999)",
          "line": {
           "width": 1.3
          },
          "opacity": 0.8,
          "size": 12,
          "symbol": "circle"
         },
         "mode": "markers",
         "name": "Kangaskhan",
         "textfont": {
          "color": "#4D5663"
         },
         "type": "scatter",
         "x": [
          490
         ],
         "y": [
          90
         ]
        },
        {
         "marker": {
          "color": "rgba(50, 171, 96, 0.8799999999999999)",
          "line": {
           "width": 1.3
          },
          "opacity": 0.8,
          "size": 12,
          "symbol": "circle"
         },
         "mode": "markers",
         "name": "KangaskhanMega Kangaskhan",
         "textfont": {
          "color": "#4D5663"
         },
         "type": "scatter",
         "x": [
          590
         ],
         "y": [
          100
         ]
        },
        {
         "marker": {
          "color": "rgba(128, 0, 128, 0.8799999999999999)",
          "line": {
           "width": 1.3
          },
          "opacity": 0.8,
          "size": 12,
          "symbol": "circle"
         },
         "mode": "markers",
         "name": "Horsea",
         "textfont": {
          "color": "#4D5663"
         },
         "type": "scatter",
         "x": [
          295
         ],
         "y": [
          60
         ]
        },
        {
         "marker": {
          "color": "rgba(219, 64, 82, 0.8799999999999999)",
          "line": {
           "width": 1.3
          },
          "opacity": 0.8,
          "size": 12,
          "symbol": "circle"
         },
         "mode": "markers",
         "name": "Seadra",
         "textfont": {
          "color": "#4D5663"
         },
         "type": "scatter",
         "x": [
          440
         ],
         "y": [
          85
         ]
        },
        {
         "marker": {
          "color": "rgba(0, 128, 128, 0.8799999999999999)",
          "line": {
           "width": 1.3
          },
          "opacity": 0.8,
          "size": 12,
          "symbol": "circle"
         },
         "mode": "markers",
         "name": "Goldeen",
         "textfont": {
          "color": "#4D5663"
         },
         "type": "scatter",
         "x": [
          320
         ],
         "y": [
          63
         ]
        },
        {
         "marker": {
          "color": "rgba(255, 255, 51, 0.8799999999999999)",
          "line": {
           "width": 1.3
          },
          "opacity": 0.8,
          "size": 12,
          "symbol": "circle"
         },
         "mode": "markers",
         "name": "Seaking",
         "textfont": {
          "color": "#4D5663"
         },
         "type": "scatter",
         "x": [
          450
         ],
         "y": [
          68
         ]
        },
        {
         "marker": {
          "color": "rgba(128, 128, 0, 0.8799999999999999)",
          "line": {
           "width": 1.3
          },
          "opacity": 0.8,
          "size": 12,
          "symbol": "circle"
         },
         "mode": "markers",
         "name": "Staryu",
         "textfont": {
          "color": "#4D5663"
         },
         "type": "scatter",
         "x": [
          340
         ],
         "y": [
          85
         ]
        },
        {
         "marker": {
          "color": "rgba(128, 128, 0, 0.8699999999999999)",
          "line": {
           "width": 1.3
          },
          "opacity": 0.8,
          "size": 12,
          "symbol": "circle"
         },
         "mode": "markers",
         "name": "Starmie",
         "textfont": {
          "color": "#4D5663"
         },
         "type": "scatter",
         "x": [
          520
         ],
         "y": [
          115
         ]
        },
        {
         "marker": {
          "color": "rgba(251, 128, 114, 0.8699999999999999)",
          "line": {
           "width": 1.3
          },
          "opacity": 0.8,
          "size": 12,
          "symbol": "circle"
         },
         "mode": "markers",
         "name": "Mr. Mime",
         "textfont": {
          "color": "#4D5663"
         },
         "type": "scatter",
         "x": [
          460
         ],
         "y": [
          90
         ]
        },
        {
         "marker": {
          "color": "rgba(128, 177, 211, 0.8699999999999999)",
          "line": {
           "width": 1.3
          },
          "opacity": 0.8,
          "size": 12,
          "symbol": "circle"
         },
         "mode": "markers",
         "name": "Scyther",
         "textfont": {
          "color": "#4D5663"
         },
         "type": "scatter",
         "x": [
          500
         ],
         "y": [
          105
         ]
        },
        {
         "marker": {
          "color": "rgba(255, 153, 51, 0.8699999999999999)",
          "line": {
           "width": 1.3
          },
          "opacity": 0.8,
          "size": 12,
          "symbol": "circle"
         },
         "mode": "markers",
         "name": "Jynx",
         "textfont": {
          "color": "#4D5663"
         },
         "type": "scatter",
         "x": [
          455
         ],
         "y": [
          95
         ]
        },
        {
         "marker": {
          "color": "rgba(55, 128, 191, 0.8699999999999999)",
          "line": {
           "width": 1.3
          },
          "opacity": 0.8,
          "size": 12,
          "symbol": "circle"
         },
         "mode": "markers",
         "name": "Electabuzz",
         "textfont": {
          "color": "#4D5663"
         },
         "type": "scatter",
         "x": [
          490
         ],
         "y": [
          105
         ]
        },
        {
         "marker": {
          "color": "rgba(50, 171, 96, 0.8699999999999999)",
          "line": {
           "width": 1.3
          },
          "opacity": 0.8,
          "size": 12,
          "symbol": "circle"
         },
         "mode": "markers",
         "name": "Magmar",
         "textfont": {
          "color": "#4D5663"
         },
         "type": "scatter",
         "x": [
          495
         ],
         "y": [
          93
         ]
        },
        {
         "marker": {
          "color": "rgba(128, 0, 128, 0.8699999999999999)",
          "line": {
           "width": 1.3
          },
          "opacity": 0.8,
          "size": 12,
          "symbol": "circle"
         },
         "mode": "markers",
         "name": "Pinsir",
         "textfont": {
          "color": "#4D5663"
         },
         "type": "scatter",
         "x": [
          500
         ],
         "y": [
          85
         ]
        },
        {
         "marker": {
          "color": "rgba(219, 64, 82, 0.8699999999999999)",
          "line": {
           "width": 1.3
          },
          "opacity": 0.8,
          "size": 12,
          "symbol": "circle"
         },
         "mode": "markers",
         "name": "PinsirMega Pinsir",
         "textfont": {
          "color": "#4D5663"
         },
         "type": "scatter",
         "x": [
          600
         ],
         "y": [
          105
         ]
        },
        {
         "marker": {
          "color": "rgba(0, 128, 128, 0.8699999999999999)",
          "line": {
           "width": 1.3
          },
          "opacity": 0.8,
          "size": 12,
          "symbol": "circle"
         },
         "mode": "markers",
         "name": "Tauros",
         "textfont": {
          "color": "#4D5663"
         },
         "type": "scatter",
         "x": [
          490
         ],
         "y": [
          110
         ]
        },
        {
         "marker": {
          "color": "rgba(255, 255, 51, 0.8699999999999999)",
          "line": {
           "width": 1.3
          },
          "opacity": 0.8,
          "size": 12,
          "symbol": "circle"
         },
         "mode": "markers",
         "name": "Magikarp",
         "textfont": {
          "color": "#4D5663"
         },
         "type": "scatter",
         "x": [
          200
         ],
         "y": [
          80
         ]
        },
        {
         "marker": {
          "color": "rgba(255, 255, 51, 0.8599999999999999)",
          "line": {
           "width": 1.3
          },
          "opacity": 0.8,
          "size": 12,
          "symbol": "circle"
         },
         "mode": "markers",
         "name": "Gyarados",
         "textfont": {
          "color": "#4D5663"
         },
         "type": "scatter",
         "x": [
          540
         ],
         "y": [
          81
         ]
        },
        {
         "marker": {
          "color": "rgba(128, 128, 0, 0.8599999999999999)",
          "line": {
           "width": 1.3
          },
          "opacity": 0.8,
          "size": 12,
          "symbol": "circle"
         },
         "mode": "markers",
         "name": "GyaradosMega Gyarados",
         "textfont": {
          "color": "#4D5663"
         },
         "type": "scatter",
         "x": [
          640
         ],
         "y": [
          81
         ]
        },
        {
         "marker": {
          "color": "rgba(251, 128, 114, 0.8599999999999999)",
          "line": {
           "width": 1.3
          },
          "opacity": 0.8,
          "size": 12,
          "symbol": "circle"
         },
         "mode": "markers",
         "name": "Lapras",
         "textfont": {
          "color": "#4D5663"
         },
         "type": "scatter",
         "x": [
          535
         ],
         "y": [
          60
         ]
        },
        {
         "marker": {
          "color": "rgba(128, 177, 211, 0.8599999999999999)",
          "line": {
           "width": 1.3
          },
          "opacity": 0.8,
          "size": 12,
          "symbol": "circle"
         },
         "mode": "markers",
         "name": "Ditto",
         "textfont": {
          "color": "#4D5663"
         },
         "type": "scatter",
         "x": [
          288
         ],
         "y": [
          48
         ]
        },
        {
         "marker": {
          "color": "rgba(255, 153, 51, 0.8599999999999999)",
          "line": {
           "width": 1.3
          },
          "opacity": 0.8,
          "size": 12,
          "symbol": "circle"
         },
         "mode": "markers",
         "name": "Eevee",
         "textfont": {
          "color": "#4D5663"
         },
         "type": "scatter",
         "x": [
          325
         ],
         "y": [
          55
         ]
        },
        {
         "marker": {
          "color": "rgba(55, 128, 191, 0.8599999999999999)",
          "line": {
           "width": 1.3
          },
          "opacity": 0.8,
          "size": 12,
          "symbol": "circle"
         },
         "mode": "markers",
         "name": "Vaporeon",
         "textfont": {
          "color": "#4D5663"
         },
         "type": "scatter",
         "x": [
          525
         ],
         "y": [
          65
         ]
        },
        {
         "marker": {
          "color": "rgba(50, 171, 96, 0.8599999999999999)",
          "line": {
           "width": 1.3
          },
          "opacity": 0.8,
          "size": 12,
          "symbol": "circle"
         },
         "mode": "markers",
         "name": "Jolteon",
         "textfont": {
          "color": "#4D5663"
         },
         "type": "scatter",
         "x": [
          525
         ],
         "y": [
          130
         ]
        },
        {
         "marker": {
          "color": "rgba(128, 0, 128, 0.8599999999999999)",
          "line": {
           "width": 1.3
          },
          "opacity": 0.8,
          "size": 12,
          "symbol": "circle"
         },
         "mode": "markers",
         "name": "Flareon",
         "textfont": {
          "color": "#4D5663"
         },
         "type": "scatter",
         "x": [
          525
         ],
         "y": [
          65
         ]
        },
        {
         "marker": {
          "color": "rgba(219, 64, 82, 0.8599999999999999)",
          "line": {
           "width": 1.3
          },
          "opacity": 0.8,
          "size": 12,
          "symbol": "circle"
         },
         "mode": "markers",
         "name": "Porygon",
         "textfont": {
          "color": "#4D5663"
         },
         "type": "scatter",
         "x": [
          395
         ],
         "y": [
          40
         ]
        },
        {
         "marker": {
          "color": "rgba(0, 128, 128, 0.8599999999999999)",
          "line": {
           "width": 1.3
          },
          "opacity": 0.8,
          "size": 12,
          "symbol": "circle"
         },
         "mode": "markers",
         "name": "Omanyte",
         "textfont": {
          "color": "#4D5663"
         },
         "type": "scatter",
         "x": [
          355
         ],
         "y": [
          35
         ]
        },
        {
         "marker": {
          "color": "rgba(0, 128, 128, 0.8499999999999999)",
          "line": {
           "width": 1.3
          },
          "opacity": 0.8,
          "size": 12,
          "symbol": "circle"
         },
         "mode": "markers",
         "name": "Omastar",
         "textfont": {
          "color": "#4D5663"
         },
         "type": "scatter",
         "x": [
          495
         ],
         "y": [
          55
         ]
        },
        {
         "marker": {
          "color": "rgba(255, 255, 51, 0.8499999999999999)",
          "line": {
           "width": 1.3
          },
          "opacity": 0.8,
          "size": 12,
          "symbol": "circle"
         },
         "mode": "markers",
         "name": "Kabuto",
         "textfont": {
          "color": "#4D5663"
         },
         "type": "scatter",
         "x": [
          355
         ],
         "y": [
          55
         ]
        },
        {
         "marker": {
          "color": "rgba(128, 128, 0, 0.8499999999999999)",
          "line": {
           "width": 1.3
          },
          "opacity": 0.8,
          "size": 12,
          "symbol": "circle"
         },
         "mode": "markers",
         "name": "Kabutops",
         "textfont": {
          "color": "#4D5663"
         },
         "type": "scatter",
         "x": [
          495
         ],
         "y": [
          80
         ]
        },
        {
         "marker": {
          "color": "rgba(251, 128, 114, 0.8499999999999999)",
          "line": {
           "width": 1.3
          },
          "opacity": 0.8,
          "size": 12,
          "symbol": "circle"
         },
         "mode": "markers",
         "name": "Aerodactyl",
         "textfont": {
          "color": "#4D5663"
         },
         "type": "scatter",
         "x": [
          515
         ],
         "y": [
          130
         ]
        },
        {
         "marker": {
          "color": "rgba(128, 177, 211, 0.8499999999999999)",
          "line": {
           "width": 1.3
          },
          "opacity": 0.8,
          "size": 12,
          "symbol": "circle"
         },
         "mode": "markers",
         "name": "AerodactylMega Aerodactyl",
         "textfont": {
          "color": "#4D5663"
         },
         "type": "scatter",
         "x": [
          615
         ],
         "y": [
          150
         ]
        },
        {
         "marker": {
          "color": "rgba(255, 153, 51, 0.8499999999999999)",
          "line": {
           "width": 1.3
          },
          "opacity": 0.8,
          "size": 12,
          "symbol": "circle"
         },
         "mode": "markers",
         "name": "Snorlax",
         "textfont": {
          "color": "#4D5663"
         },
         "type": "scatter",
         "x": [
          540
         ],
         "y": [
          30
         ]
        },
        {
         "marker": {
          "color": "rgba(55, 128, 191, 0.8499999999999999)",
          "line": {
           "width": 1.3
          },
          "opacity": 0.8,
          "size": 12,
          "symbol": "circle"
         },
         "mode": "markers",
         "name": "Articuno",
         "textfont": {
          "color": "#4D5663"
         },
         "type": "scatter",
         "x": [
          580
         ],
         "y": [
          85
         ]
        },
        {
         "marker": {
          "color": "rgba(50, 171, 96, 0.8499999999999999)",
          "line": {
           "width": 1.3
          },
          "opacity": 0.8,
          "size": 12,
          "symbol": "circle"
         },
         "mode": "markers",
         "name": "Zapdos",
         "textfont": {
          "color": "#4D5663"
         },
         "type": "scatter",
         "x": [
          580
         ],
         "y": [
          100
         ]
        },
        {
         "marker": {
          "color": "rgba(128, 0, 128, 0.8499999999999999)",
          "line": {
           "width": 1.3
          },
          "opacity": 0.8,
          "size": 12,
          "symbol": "circle"
         },
         "mode": "markers",
         "name": "Moltres",
         "textfont": {
          "color": "#4D5663"
         },
         "type": "scatter",
         "x": [
          580
         ],
         "y": [
          90
         ]
        },
        {
         "marker": {
          "color": "rgba(219, 64, 82, 0.8499999999999999)",
          "line": {
           "width": 1.3
          },
          "opacity": 0.8,
          "size": 12,
          "symbol": "circle"
         },
         "mode": "markers",
         "name": "Dratini",
         "textfont": {
          "color": "#4D5663"
         },
         "type": "scatter",
         "x": [
          300
         ],
         "y": [
          50
         ]
        },
        {
         "marker": {
          "color": "rgba(219, 64, 82, 0.8399999999999999)",
          "line": {
           "width": 1.3
          },
          "opacity": 0.8,
          "size": 12,
          "symbol": "circle"
         },
         "mode": "markers",
         "name": "Dragonair",
         "textfont": {
          "color": "#4D5663"
         },
         "type": "scatter",
         "x": [
          420
         ],
         "y": [
          70
         ]
        },
        {
         "marker": {
          "color": "rgba(0, 128, 128, 0.8399999999999999)",
          "line": {
           "width": 1.3
          },
          "opacity": 0.8,
          "size": 12,
          "symbol": "circle"
         },
         "mode": "markers",
         "name": "Dragonite",
         "textfont": {
          "color": "#4D5663"
         },
         "type": "scatter",
         "x": [
          600
         ],
         "y": [
          80
         ]
        },
        {
         "marker": {
          "color": "rgba(255, 255, 51, 0.8399999999999999)",
          "line": {
           "width": 1.3
          },
          "opacity": 0.8,
          "size": 12,
          "symbol": "circle"
         },
         "mode": "markers",
         "name": "Mewtwo",
         "textfont": {
          "color": "#4D5663"
         },
         "type": "scatter",
         "x": [
          680
         ],
         "y": [
          130
         ]
        },
        {
         "marker": {
          "color": "rgba(128, 128, 0, 0.8399999999999999)",
          "line": {
           "width": 1.3
          },
          "opacity": 0.8,
          "size": 12,
          "symbol": "circle"
         },
         "mode": "markers",
         "name": "MewtwoMega Mewtwo X",
         "textfont": {
          "color": "#4D5663"
         },
         "type": "scatter",
         "x": [
          780
         ],
         "y": [
          130
         ]
        },
        {
         "marker": {
          "color": "rgba(251, 128, 114, 0.8399999999999999)",
          "line": {
           "width": 1.3
          },
          "opacity": 0.8,
          "size": 12,
          "symbol": "circle"
         },
         "mode": "markers",
         "name": "MewtwoMega Mewtwo Y",
         "textfont": {
          "color": "#4D5663"
         },
         "type": "scatter",
         "x": [
          780
         ],
         "y": [
          140
         ]
        },
        {
         "marker": {
          "color": "rgba(128, 177, 211, 0.8399999999999999)",
          "line": {
           "width": 1.3
          },
          "opacity": 0.8,
          "size": 12,
          "symbol": "circle"
         },
         "mode": "markers",
         "name": "Mew",
         "textfont": {
          "color": "#4D5663"
         },
         "type": "scatter",
         "x": [
          600
         ],
         "y": [
          100
         ]
        },
        {
         "marker": {
          "color": "rgba(255, 153, 51, 0.8399999999999999)",
          "line": {
           "width": 1.3
          },
          "opacity": 0.8,
          "size": 12,
          "symbol": "circle"
         },
         "mode": "markers",
         "name": "Chikorita",
         "textfont": {
          "color": "#4D5663"
         },
         "type": "scatter",
         "x": [
          318
         ],
         "y": [
          45
         ]
        },
        {
         "marker": {
          "color": "rgba(55, 128, 191, 0.8399999999999999)",
          "line": {
           "width": 1.3
          },
          "opacity": 0.8,
          "size": 12,
          "symbol": "circle"
         },
         "mode": "markers",
         "name": "Bayleef",
         "textfont": {
          "color": "#4D5663"
         },
         "type": "scatter",
         "x": [
          405
         ],
         "y": [
          60
         ]
        },
        {
         "marker": {
          "color": "rgba(50, 171, 96, 0.8399999999999999)",
          "line": {
           "width": 1.3
          },
          "opacity": 0.8,
          "size": 12,
          "symbol": "circle"
         },
         "mode": "markers",
         "name": "Meganium",
         "textfont": {
          "color": "#4D5663"
         },
         "type": "scatter",
         "x": [
          525
         ],
         "y": [
          80
         ]
        },
        {
         "marker": {
          "color": "rgba(128, 0, 128, 0.8399999999999999)",
          "line": {
           "width": 1.3
          },
          "opacity": 0.8,
          "size": 12,
          "symbol": "circle"
         },
         "mode": "markers",
         "name": "Cyndaquil",
         "textfont": {
          "color": "#4D5663"
         },
         "type": "scatter",
         "x": [
          309
         ],
         "y": [
          65
         ]
        },
        {
         "marker": {
          "color": "rgba(128, 0, 128, 0.8299999999999998)",
          "line": {
           "width": 1.3
          },
          "opacity": 0.8,
          "size": 12,
          "symbol": "circle"
         },
         "mode": "markers",
         "name": "Quilava",
         "textfont": {
          "color": "#4D5663"
         },
         "type": "scatter",
         "x": [
          405
         ],
         "y": [
          80
         ]
        },
        {
         "marker": {
          "color": "rgba(219, 64, 82, 0.8299999999999998)",
          "line": {
           "width": 1.3
          },
          "opacity": 0.8,
          "size": 12,
          "symbol": "circle"
         },
         "mode": "markers",
         "name": "Typhlosion",
         "textfont": {
          "color": "#4D5663"
         },
         "type": "scatter",
         "x": [
          534
         ],
         "y": [
          100
         ]
        },
        {
         "marker": {
          "color": "rgba(0, 128, 128, 0.8299999999999998)",
          "line": {
           "width": 1.3
          },
          "opacity": 0.8,
          "size": 12,
          "symbol": "circle"
         },
         "mode": "markers",
         "name": "Totodile",
         "textfont": {
          "color": "#4D5663"
         },
         "type": "scatter",
         "x": [
          314
         ],
         "y": [
          43
         ]
        },
        {
         "marker": {
          "color": "rgba(255, 255, 51, 0.8299999999999998)",
          "line": {
           "width": 1.3
          },
          "opacity": 0.8,
          "size": 12,
          "symbol": "circle"
         },
         "mode": "markers",
         "name": "Croconaw",
         "textfont": {
          "color": "#4D5663"
         },
         "type": "scatter",
         "x": [
          405
         ],
         "y": [
          58
         ]
        },
        {
         "marker": {
          "color": "rgba(128, 128, 0, 0.8299999999999998)",
          "line": {
           "width": 1.3
          },
          "opacity": 0.8,
          "size": 12,
          "symbol": "circle"
         },
         "mode": "markers",
         "name": "Feraligatr",
         "textfont": {
          "color": "#4D5663"
         },
         "type": "scatter",
         "x": [
          530
         ],
         "y": [
          78
         ]
        },
        {
         "marker": {
          "color": "rgba(251, 128, 114, 0.8299999999999998)",
          "line": {
           "width": 1.3
          },
          "opacity": 0.8,
          "size": 12,
          "symbol": "circle"
         },
         "mode": "markers",
         "name": "Sentret",
         "textfont": {
          "color": "#4D5663"
         },
         "type": "scatter",
         "x": [
          215
         ],
         "y": [
          20
         ]
        },
        {
         "marker": {
          "color": "rgba(128, 177, 211, 0.8299999999999998)",
          "line": {
           "width": 1.3
          },
          "opacity": 0.8,
          "size": 12,
          "symbol": "circle"
         },
         "mode": "markers",
         "name": "Furret",
         "textfont": {
          "color": "#4D5663"
         },
         "type": "scatter",
         "x": [
          415
         ],
         "y": [
          90
         ]
        },
        {
         "marker": {
          "color": "rgba(255, 153, 51, 0.8299999999999998)",
          "line": {
           "width": 1.3
          },
          "opacity": 0.8,
          "size": 12,
          "symbol": "circle"
         },
         "mode": "markers",
         "name": "Hoothoot",
         "textfont": {
          "color": "#4D5663"
         },
         "type": "scatter",
         "x": [
          262
         ],
         "y": [
          50
         ]
        },
        {
         "marker": {
          "color": "rgba(55, 128, 191, 0.8299999999999998)",
          "line": {
           "width": 1.3
          },
          "opacity": 0.8,
          "size": 12,
          "symbol": "circle"
         },
         "mode": "markers",
         "name": "Noctowl",
         "textfont": {
          "color": "#4D5663"
         },
         "type": "scatter",
         "x": [
          442
         ],
         "y": [
          70
         ]
        },
        {
         "marker": {
          "color": "rgba(50, 171, 96, 0.8299999999999998)",
          "line": {
           "width": 1.3
          },
          "opacity": 0.8,
          "size": 12,
          "symbol": "circle"
         },
         "mode": "markers",
         "name": "Ledyba",
         "textfont": {
          "color": "#4D5663"
         },
         "type": "scatter",
         "x": [
          265
         ],
         "y": [
          55
         ]
        },
        {
         "marker": {
          "color": "rgba(50, 171, 96, 0.8199999999999998)",
          "line": {
           "width": 1.3
          },
          "opacity": 0.8,
          "size": 12,
          "symbol": "circle"
         },
         "mode": "markers",
         "name": "Ledian",
         "textfont": {
          "color": "#4D5663"
         },
         "type": "scatter",
         "x": [
          390
         ],
         "y": [
          85
         ]
        },
        {
         "marker": {
          "color": "rgba(128, 0, 128, 0.8199999999999998)",
          "line": {
           "width": 1.3
          },
          "opacity": 0.8,
          "size": 12,
          "symbol": "circle"
         },
         "mode": "markers",
         "name": "Spinarak",
         "textfont": {
          "color": "#4D5663"
         },
         "type": "scatter",
         "x": [
          250
         ],
         "y": [
          30
         ]
        },
        {
         "marker": {
          "color": "rgba(219, 64, 82, 0.8199999999999998)",
          "line": {
           "width": 1.3
          },
          "opacity": 0.8,
          "size": 12,
          "symbol": "circle"
         },
         "mode": "markers",
         "name": "Ariados",
         "textfont": {
          "color": "#4D5663"
         },
         "type": "scatter",
         "x": [
          390
         ],
         "y": [
          40
         ]
        },
        {
         "marker": {
          "color": "rgba(0, 128, 128, 0.8199999999999998)",
          "line": {
           "width": 1.3
          },
          "opacity": 0.8,
          "size": 12,
          "symbol": "circle"
         },
         "mode": "markers",
         "name": "Crobat",
         "textfont": {
          "color": "#4D5663"
         },
         "type": "scatter",
         "x": [
          535
         ],
         "y": [
          130
         ]
        },
        {
         "marker": {
          "color": "rgba(255, 255, 51, 0.8199999999999998)",
          "line": {
           "width": 1.3
          },
          "opacity": 0.8,
          "size": 12,
          "symbol": "circle"
         },
         "mode": "markers",
         "name": "Chinchou",
         "textfont": {
          "color": "#4D5663"
         },
         "type": "scatter",
         "x": [
          330
         ],
         "y": [
          67
         ]
        },
        {
         "marker": {
          "color": "rgba(128, 128, 0, 0.8199999999999998)",
          "line": {
           "width": 1.3
          },
          "opacity": 0.8,
          "size": 12,
          "symbol": "circle"
         },
         "mode": "markers",
         "name": "Lanturn",
         "textfont": {
          "color": "#4D5663"
         },
         "type": "scatter",
         "x": [
          460
         ],
         "y": [
          67
         ]
        },
        {
         "marker": {
          "color": "rgba(251, 128, 114, 0.8199999999999998)",
          "line": {
           "width": 1.3
          },
          "opacity": 0.8,
          "size": 12,
          "symbol": "circle"
         },
         "mode": "markers",
         "name": "Pichu",
         "textfont": {
          "color": "#4D5663"
         },
         "type": "scatter",
         "x": [
          205
         ],
         "y": [
          60
         ]
        },
        {
         "marker": {
          "color": "rgba(128, 177, 211, 0.8199999999999998)",
          "line": {
           "width": 1.3
          },
          "opacity": 0.8,
          "size": 12,
          "symbol": "circle"
         },
         "mode": "markers",
         "name": "Cleffa",
         "textfont": {
          "color": "#4D5663"
         },
         "type": "scatter",
         "x": [
          218
         ],
         "y": [
          15
         ]
        },
        {
         "marker": {
          "color": "rgba(255, 153, 51, 0.8199999999999998)",
          "line": {
           "width": 1.3
          },
          "opacity": 0.8,
          "size": 12,
          "symbol": "circle"
         },
         "mode": "markers",
         "name": "Igglybuff",
         "textfont": {
          "color": "#4D5663"
         },
         "type": "scatter",
         "x": [
          210
         ],
         "y": [
          15
         ]
        },
        {
         "marker": {
          "color": "rgba(55, 128, 191, 0.8199999999999998)",
          "line": {
           "width": 1.3
          },
          "opacity": 0.8,
          "size": 12,
          "symbol": "circle"
         },
         "mode": "markers",
         "name": "Togepi",
         "textfont": {
          "color": "#4D5663"
         },
         "type": "scatter",
         "x": [
          245
         ],
         "y": [
          20
         ]
        },
        {
         "marker": {
          "color": "rgba(55, 128, 191, 0.8099999999999998)",
          "line": {
           "width": 1.3
          },
          "opacity": 0.8,
          "size": 12,
          "symbol": "circle"
         },
         "mode": "markers",
         "name": "Togetic",
         "textfont": {
          "color": "#4D5663"
         },
         "type": "scatter",
         "x": [
          405
         ],
         "y": [
          40
         ]
        },
        {
         "marker": {
          "color": "rgba(50, 171, 96, 0.8099999999999998)",
          "line": {
           "width": 1.3
          },
          "opacity": 0.8,
          "size": 12,
          "symbol": "circle"
         },
         "mode": "markers",
         "name": "Natu",
         "textfont": {
          "color": "#4D5663"
         },
         "type": "scatter",
         "x": [
          320
         ],
         "y": [
          70
         ]
        },
        {
         "marker": {
          "color": "rgba(128, 0, 128, 0.8099999999999998)",
          "line": {
           "width": 1.3
          },
          "opacity": 0.8,
          "size": 12,
          "symbol": "circle"
         },
         "mode": "markers",
         "name": "Xatu",
         "textfont": {
          "color": "#4D5663"
         },
         "type": "scatter",
         "x": [
          470
         ],
         "y": [
          95
         ]
        },
        {
         "marker": {
          "color": "rgba(219, 64, 82, 0.8099999999999998)",
          "line": {
           "width": 1.3
          },
          "opacity": 0.8,
          "size": 12,
          "symbol": "circle"
         },
         "mode": "markers",
         "name": "Mareep",
         "textfont": {
          "color": "#4D5663"
         },
         "type": "scatter",
         "x": [
          280
         ],
         "y": [
          35
         ]
        },
        {
         "marker": {
          "color": "rgba(0, 128, 128, 0.8099999999999998)",
          "line": {
           "width": 1.3
          },
          "opacity": 0.8,
          "size": 12,
          "symbol": "circle"
         },
         "mode": "markers",
         "name": "Flaaffy",
         "textfont": {
          "color": "#4D5663"
         },
         "type": "scatter",
         "x": [
          365
         ],
         "y": [
          45
         ]
        },
        {
         "marker": {
          "color": "rgba(255, 255, 51, 0.8099999999999998)",
          "line": {
           "width": 1.3
          },
          "opacity": 0.8,
          "size": 12,
          "symbol": "circle"
         },
         "mode": "markers",
         "name": "Ampharos",
         "textfont": {
          "color": "#4D5663"
         },
         "type": "scatter",
         "x": [
          510
         ],
         "y": [
          55
         ]
        },
        {
         "marker": {
          "color": "rgba(128, 128, 0, 0.8099999999999998)",
          "line": {
           "width": 1.3
          },
          "opacity": 0.8,
          "size": 12,
          "symbol": "circle"
         },
         "mode": "markers",
         "name": "AmpharosMega Ampharos",
         "textfont": {
          "color": "#4D5663"
         },
         "type": "scatter",
         "x": [
          610
         ],
         "y": [
          45
         ]
        },
        {
         "marker": {
          "color": "rgba(251, 128, 114, 0.8099999999999998)",
          "line": {
           "width": 1.3
          },
          "opacity": 0.8,
          "size": 12,
          "symbol": "circle"
         },
         "mode": "markers",
         "name": "Bellossom",
         "textfont": {
          "color": "#4D5663"
         },
         "type": "scatter",
         "x": [
          490
         ],
         "y": [
          50
         ]
        },
        {
         "marker": {
          "color": "rgba(128, 177, 211, 0.8099999999999998)",
          "line": {
           "width": 1.3
          },
          "opacity": 0.8,
          "size": 12,
          "symbol": "circle"
         },
         "mode": "markers",
         "name": "Marill",
         "textfont": {
          "color": "#4D5663"
         },
         "type": "scatter",
         "x": [
          250
         ],
         "y": [
          40
         ]
        },
        {
         "marker": {
          "color": "rgba(255, 153, 51, 0.8099999999999998)",
          "line": {
           "width": 1.3
          },
          "opacity": 0.8,
          "size": 12,
          "symbol": "circle"
         },
         "mode": "markers",
         "name": "Azumarill",
         "textfont": {
          "color": "#4D5663"
         },
         "type": "scatter",
         "x": [
          420
         ],
         "y": [
          50
         ]
        },
        {
         "marker": {
          "color": "rgba(255, 153, 51, 0.7999999999999998)",
          "line": {
           "width": 1.3
          },
          "opacity": 0.8,
          "size": 12,
          "symbol": "circle"
         },
         "mode": "markers",
         "name": "Sudowoodo",
         "textfont": {
          "color": "#4D5663"
         },
         "type": "scatter",
         "x": [
          410
         ],
         "y": [
          30
         ]
        },
        {
         "marker": {
          "color": "rgba(55, 128, 191, 0.7999999999999998)",
          "line": {
           "width": 1.3
          },
          "opacity": 0.8,
          "size": 12,
          "symbol": "circle"
         },
         "mode": "markers",
         "name": "Politoed",
         "textfont": {
          "color": "#4D5663"
         },
         "type": "scatter",
         "x": [
          500
         ],
         "y": [
          70
         ]
        },
        {
         "marker": {
          "color": "rgba(50, 171, 96, 0.7999999999999998)",
          "line": {
           "width": 1.3
          },
          "opacity": 0.8,
          "size": 12,
          "symbol": "circle"
         },
         "mode": "markers",
         "name": "Hoppip",
         "textfont": {
          "color": "#4D5663"
         },
         "type": "scatter",
         "x": [
          250
         ],
         "y": [
          50
         ]
        },
        {
         "marker": {
          "color": "rgba(128, 0, 128, 0.7999999999999998)",
          "line": {
           "width": 1.3
          },
          "opacity": 0.8,
          "size": 12,
          "symbol": "circle"
         },
         "mode": "markers",
         "name": "Skiploom",
         "textfont": {
          "color": "#4D5663"
         },
         "type": "scatter",
         "x": [
          340
         ],
         "y": [
          80
         ]
        },
        {
         "marker": {
          "color": "rgba(219, 64, 82, 0.7999999999999998)",
          "line": {
           "width": 1.3
          },
          "opacity": 0.8,
          "size": 12,
          "symbol": "circle"
         },
         "mode": "markers",
         "name": "Jumpluff",
         "textfont": {
          "color": "#4D5663"
         },
         "type": "scatter",
         "x": [
          460
         ],
         "y": [
          110
         ]
        },
        {
         "marker": {
          "color": "rgba(0, 128, 128, 0.7999999999999998)",
          "line": {
           "width": 1.3
          },
          "opacity": 0.8,
          "size": 12,
          "symbol": "circle"
         },
         "mode": "markers",
         "name": "Aipom",
         "textfont": {
          "color": "#4D5663"
         },
         "type": "scatter",
         "x": [
          360
         ],
         "y": [
          85
         ]
        },
        {
         "marker": {
          "color": "rgba(255, 255, 51, 0.7999999999999998)",
          "line": {
           "width": 1.3
          },
          "opacity": 0.8,
          "size": 12,
          "symbol": "circle"
         },
         "mode": "markers",
         "name": "Sunkern",
         "textfont": {
          "color": "#4D5663"
         },
         "type": "scatter",
         "x": [
          180
         ],
         "y": [
          30
         ]
        },
        {
         "marker": {
          "color": "rgba(128, 128, 0, 0.7999999999999998)",
          "line": {
           "width": 1.3
          },
          "opacity": 0.8,
          "size": 12,
          "symbol": "circle"
         },
         "mode": "markers",
         "name": "Sunflora",
         "textfont": {
          "color": "#4D5663"
         },
         "type": "scatter",
         "x": [
          425
         ],
         "y": [
          30
         ]
        },
        {
         "marker": {
          "color": "rgba(251, 128, 114, 0.7999999999999998)",
          "line": {
           "width": 1.3
          },
          "opacity": 0.8,
          "size": 12,
          "symbol": "circle"
         },
         "mode": "markers",
         "name": "Yanma",
         "textfont": {
          "color": "#4D5663"
         },
         "type": "scatter",
         "x": [
          390
         ],
         "y": [
          95
         ]
        },
        {
         "marker": {
          "color": "rgba(128, 177, 211, 0.7999999999999998)",
          "line": {
           "width": 1.3
          },
          "opacity": 0.8,
          "size": 12,
          "symbol": "circle"
         },
         "mode": "markers",
         "name": "Wooper",
         "textfont": {
          "color": "#4D5663"
         },
         "type": "scatter",
         "x": [
          210
         ],
         "y": [
          15
         ]
        },
        {
         "marker": {
          "color": "rgba(128, 177, 211, 0.7899999999999998)",
          "line": {
           "width": 1.3
          },
          "opacity": 0.8,
          "size": 12,
          "symbol": "circle"
         },
         "mode": "markers",
         "name": "Quagsire",
         "textfont": {
          "color": "#4D5663"
         },
         "type": "scatter",
         "x": [
          430
         ],
         "y": [
          35
         ]
        },
        {
         "marker": {
          "color": "rgba(255, 153, 51, 0.7899999999999998)",
          "line": {
           "width": 1.3
          },
          "opacity": 0.8,
          "size": 12,
          "symbol": "circle"
         },
         "mode": "markers",
         "name": "Espeon",
         "textfont": {
          "color": "#4D5663"
         },
         "type": "scatter",
         "x": [
          525
         ],
         "y": [
          110
         ]
        },
        {
         "marker": {
          "color": "rgba(55, 128, 191, 0.7899999999999998)",
          "line": {
           "width": 1.3
          },
          "opacity": 0.8,
          "size": 12,
          "symbol": "circle"
         },
         "mode": "markers",
         "name": "Umbreon",
         "textfont": {
          "color": "#4D5663"
         },
         "type": "scatter",
         "x": [
          525
         ],
         "y": [
          65
         ]
        },
        {
         "marker": {
          "color": "rgba(50, 171, 96, 0.7899999999999998)",
          "line": {
           "width": 1.3
          },
          "opacity": 0.8,
          "size": 12,
          "symbol": "circle"
         },
         "mode": "markers",
         "name": "Murkrow",
         "textfont": {
          "color": "#4D5663"
         },
         "type": "scatter",
         "x": [
          405
         ],
         "y": [
          91
         ]
        },
        {
         "marker": {
          "color": "rgba(128, 0, 128, 0.7899999999999998)",
          "line": {
           "width": 1.3
          },
          "opacity": 0.8,
          "size": 12,
          "symbol": "circle"
         },
         "mode": "markers",
         "name": "Slowking",
         "textfont": {
          "color": "#4D5663"
         },
         "type": "scatter",
         "x": [
          490
         ],
         "y": [
          30
         ]
        },
        {
         "marker": {
          "color": "rgba(219, 64, 82, 0.7899999999999998)",
          "line": {
           "width": 1.3
          },
          "opacity": 0.8,
          "size": 12,
          "symbol": "circle"
         },
         "mode": "markers",
         "name": "Misdreavus",
         "textfont": {
          "color": "#4D5663"
         },
         "type": "scatter",
         "x": [
          435
         ],
         "y": [
          85
         ]
        },
        {
         "marker": {
          "color": "rgba(0, 128, 128, 0.7899999999999998)",
          "line": {
           "width": 1.3
          },
          "opacity": 0.8,
          "size": 12,
          "symbol": "circle"
         },
         "mode": "markers",
         "name": "Unown",
         "textfont": {
          "color": "#4D5663"
         },
         "type": "scatter",
         "x": [
          336
         ],
         "y": [
          48
         ]
        },
        {
         "marker": {
          "color": "rgba(255, 255, 51, 0.7899999999999998)",
          "line": {
           "width": 1.3
          },
          "opacity": 0.8,
          "size": 12,
          "symbol": "circle"
         },
         "mode": "markers",
         "name": "Wobbuffet",
         "textfont": {
          "color": "#4D5663"
         },
         "type": "scatter",
         "x": [
          405
         ],
         "y": [
          33
         ]
        },
        {
         "marker": {
          "color": "rgba(128, 128, 0, 0.7899999999999998)",
          "line": {
           "width": 1.3
          },
          "opacity": 0.8,
          "size": 12,
          "symbol": "circle"
         },
         "mode": "markers",
         "name": "Girafarig",
         "textfont": {
          "color": "#4D5663"
         },
         "type": "scatter",
         "x": [
          455
         ],
         "y": [
          85
         ]
        },
        {
         "marker": {
          "color": "rgba(251, 128, 114, 0.7899999999999998)",
          "line": {
           "width": 1.3
          },
          "opacity": 0.8,
          "size": 12,
          "symbol": "circle"
         },
         "mode": "markers",
         "name": "Pineco",
         "textfont": {
          "color": "#4D5663"
         },
         "type": "scatter",
         "x": [
          290
         ],
         "y": [
          15
         ]
        },
        {
         "marker": {
          "color": "rgba(251, 128, 114, 0.7799999999999998)",
          "line": {
           "width": 1.3
          },
          "opacity": 0.8,
          "size": 12,
          "symbol": "circle"
         },
         "mode": "markers",
         "name": "Forretress",
         "textfont": {
          "color": "#4D5663"
         },
         "type": "scatter",
         "x": [
          465
         ],
         "y": [
          40
         ]
        },
        {
         "marker": {
          "color": "rgba(128, 177, 211, 0.7799999999999998)",
          "line": {
           "width": 1.3
          },
          "opacity": 0.8,
          "size": 12,
          "symbol": "circle"
         },
         "mode": "markers",
         "name": "Dunsparce",
         "textfont": {
          "color": "#4D5663"
         },
         "type": "scatter",
         "x": [
          415
         ],
         "y": [
          45
         ]
        },
        {
         "marker": {
          "color": "rgba(255, 153, 51, 0.7799999999999998)",
          "line": {
           "width": 1.3
          },
          "opacity": 0.8,
          "size": 12,
          "symbol": "circle"
         },
         "mode": "markers",
         "name": "Gligar",
         "textfont": {
          "color": "#4D5663"
         },
         "type": "scatter",
         "x": [
          430
         ],
         "y": [
          85
         ]
        },
        {
         "marker": {
          "color": "rgba(55, 128, 191, 0.7799999999999998)",
          "line": {
           "width": 1.3
          },
          "opacity": 0.8,
          "size": 12,
          "symbol": "circle"
         },
         "mode": "markers",
         "name": "Steelix",
         "textfont": {
          "color": "#4D5663"
         },
         "type": "scatter",
         "x": [
          510
         ],
         "y": [
          30
         ]
        },
        {
         "marker": {
          "color": "rgba(50, 171, 96, 0.7799999999999998)",
          "line": {
           "width": 1.3
          },
          "opacity": 0.8,
          "size": 12,
          "symbol": "circle"
         },
         "mode": "markers",
         "name": "SteelixMega Steelix",
         "textfont": {
          "color": "#4D5663"
         },
         "type": "scatter",
         "x": [
          610
         ],
         "y": [
          30
         ]
        },
        {
         "marker": {
          "color": "rgba(128, 0, 128, 0.7799999999999998)",
          "line": {
           "width": 1.3
          },
          "opacity": 0.8,
          "size": 12,
          "symbol": "circle"
         },
         "mode": "markers",
         "name": "Snubbull",
         "textfont": {
          "color": "#4D5663"
         },
         "type": "scatter",
         "x": [
          300
         ],
         "y": [
          30
         ]
        },
        {
         "marker": {
          "color": "rgba(219, 64, 82, 0.7799999999999998)",
          "line": {
           "width": 1.3
          },
          "opacity": 0.8,
          "size": 12,
          "symbol": "circle"
         },
         "mode": "markers",
         "name": "Granbull",
         "textfont": {
          "color": "#4D5663"
         },
         "type": "scatter",
         "x": [
          450
         ],
         "y": [
          45
         ]
        },
        {
         "marker": {
          "color": "rgba(0, 128, 128, 0.7799999999999998)",
          "line": {
           "width": 1.3
          },
          "opacity": 0.8,
          "size": 12,
          "symbol": "circle"
         },
         "mode": "markers",
         "name": "Qwilfish",
         "textfont": {
          "color": "#4D5663"
         },
         "type": "scatter",
         "x": [
          430
         ],
         "y": [
          85
         ]
        },
        {
         "marker": {
          "color": "rgba(255, 255, 51, 0.7799999999999998)",
          "line": {
           "width": 1.3
          },
          "opacity": 0.8,
          "size": 12,
          "symbol": "circle"
         },
         "mode": "markers",
         "name": "Scizor",
         "textfont": {
          "color": "#4D5663"
         },
         "type": "scatter",
         "x": [
          500
         ],
         "y": [
          65
         ]
        },
        {
         "marker": {
          "color": "rgba(128, 128, 0, 0.7799999999999998)",
          "line": {
           "width": 1.3
          },
          "opacity": 0.8,
          "size": 12,
          "symbol": "circle"
         },
         "mode": "markers",
         "name": "ScizorMega Scizor",
         "textfont": {
          "color": "#4D5663"
         },
         "type": "scatter",
         "x": [
          600
         ],
         "y": [
          75
         ]
        },
        {
         "marker": {
          "color": "rgba(128, 128, 0, 0.7699999999999998)",
          "line": {
           "width": 1.3
          },
          "opacity": 0.8,
          "size": 12,
          "symbol": "circle"
         },
         "mode": "markers",
         "name": "Shuckle",
         "textfont": {
          "color": "#4D5663"
         },
         "type": "scatter",
         "x": [
          505
         ],
         "y": [
          5
         ]
        },
        {
         "marker": {
          "color": "rgba(251, 128, 114, 0.7699999999999998)",
          "line": {
           "width": 1.3
          },
          "opacity": 0.8,
          "size": 12,
          "symbol": "circle"
         },
         "mode": "markers",
         "name": "Heracross",
         "textfont": {
          "color": "#4D5663"
         },
         "type": "scatter",
         "x": [
          500
         ],
         "y": [
          85
         ]
        },
        {
         "marker": {
          "color": "rgba(128, 177, 211, 0.7699999999999998)",
          "line": {
           "width": 1.3
          },
          "opacity": 0.8,
          "size": 12,
          "symbol": "circle"
         },
         "mode": "markers",
         "name": "HeracrossMega Heracross",
         "textfont": {
          "color": "#4D5663"
         },
         "type": "scatter",
         "x": [
          600
         ],
         "y": [
          75
         ]
        },
        {
         "marker": {
          "color": "rgba(255, 153, 51, 0.7699999999999998)",
          "line": {
           "width": 1.3
          },
          "opacity": 0.8,
          "size": 12,
          "symbol": "circle"
         },
         "mode": "markers",
         "name": "Sneasel",
         "textfont": {
          "color": "#4D5663"
         },
         "type": "scatter",
         "x": [
          430
         ],
         "y": [
          115
         ]
        },
        {
         "marker": {
          "color": "rgba(55, 128, 191, 0.7699999999999998)",
          "line": {
           "width": 1.3
          },
          "opacity": 0.8,
          "size": 12,
          "symbol": "circle"
         },
         "mode": "markers",
         "name": "Teddiursa",
         "textfont": {
          "color": "#4D5663"
         },
         "type": "scatter",
         "x": [
          330
         ],
         "y": [
          40
         ]
        },
        {
         "marker": {
          "color": "rgba(50, 171, 96, 0.7699999999999998)",
          "line": {
           "width": 1.3
          },
          "opacity": 0.8,
          "size": 12,
          "symbol": "circle"
         },
         "mode": "markers",
         "name": "Ursaring",
         "textfont": {
          "color": "#4D5663"
         },
         "type": "scatter",
         "x": [
          500
         ],
         "y": [
          55
         ]
        },
        {
         "marker": {
          "color": "rgba(128, 0, 128, 0.7699999999999998)",
          "line": {
           "width": 1.3
          },
          "opacity": 0.8,
          "size": 12,
          "symbol": "circle"
         },
         "mode": "markers",
         "name": "Slugma",
         "textfont": {
          "color": "#4D5663"
         },
         "type": "scatter",
         "x": [
          250
         ],
         "y": [
          20
         ]
        },
        {
         "marker": {
          "color": "rgba(219, 64, 82, 0.7699999999999998)",
          "line": {
           "width": 1.3
          },
          "opacity": 0.8,
          "size": 12,
          "symbol": "circle"
         },
         "mode": "markers",
         "name": "Magcargo",
         "textfont": {
          "color": "#4D5663"
         },
         "type": "scatter",
         "x": [
          410
         ],
         "y": [
          30
         ]
        },
        {
         "marker": {
          "color": "rgba(0, 128, 128, 0.7699999999999998)",
          "line": {
           "width": 1.3
          },
          "opacity": 0.8,
          "size": 12,
          "symbol": "circle"
         },
         "mode": "markers",
         "name": "Swinub",
         "textfont": {
          "color": "#4D5663"
         },
         "type": "scatter",
         "x": [
          250
         ],
         "y": [
          50
         ]
        },
        {
         "marker": {
          "color": "rgba(255, 255, 51, 0.7699999999999998)",
          "line": {
           "width": 1.3
          },
          "opacity": 0.8,
          "size": 12,
          "symbol": "circle"
         },
         "mode": "markers",
         "name": "Piloswine",
         "textfont": {
          "color": "#4D5663"
         },
         "type": "scatter",
         "x": [
          450
         ],
         "y": [
          50
         ]
        },
        {
         "marker": {
          "color": "rgba(255, 255, 51, 0.7599999999999998)",
          "line": {
           "width": 1.3
          },
          "opacity": 0.8,
          "size": 12,
          "symbol": "circle"
         },
         "mode": "markers",
         "name": "Corsola",
         "textfont": {
          "color": "#4D5663"
         },
         "type": "scatter",
         "x": [
          380
         ],
         "y": [
          35
         ]
        },
        {
         "marker": {
          "color": "rgba(128, 128, 0, 0.7599999999999998)",
          "line": {
           "width": 1.3
          },
          "opacity": 0.8,
          "size": 12,
          "symbol": "circle"
         },
         "mode": "markers",
         "name": "Remoraid",
         "textfont": {
          "color": "#4D5663"
         },
         "type": "scatter",
         "x": [
          300
         ],
         "y": [
          65
         ]
        },
        {
         "marker": {
          "color": "rgba(251, 128, 114, 0.7599999999999998)",
          "line": {
           "width": 1.3
          },
          "opacity": 0.8,
          "size": 12,
          "symbol": "circle"
         },
         "mode": "markers",
         "name": "Octillery",
         "textfont": {
          "color": "#4D5663"
         },
         "type": "scatter",
         "x": [
          480
         ],
         "y": [
          45
         ]
        },
        {
         "marker": {
          "color": "rgba(128, 177, 211, 0.7599999999999998)",
          "line": {
           "width": 1.3
          },
          "opacity": 0.8,
          "size": 12,
          "symbol": "circle"
         },
         "mode": "markers",
         "name": "Delibird",
         "textfont": {
          "color": "#4D5663"
         },
         "type": "scatter",
         "x": [
          330
         ],
         "y": [
          75
         ]
        },
        {
         "marker": {
          "color": "rgba(255, 153, 51, 0.7599999999999998)",
          "line": {
           "width": 1.3
          },
          "opacity": 0.8,
          "size": 12,
          "symbol": "circle"
         },
         "mode": "markers",
         "name": "Mantine",
         "textfont": {
          "color": "#4D5663"
         },
         "type": "scatter",
         "x": [
          465
         ],
         "y": [
          70
         ]
        },
        {
         "marker": {
          "color": "rgba(55, 128, 191, 0.7599999999999998)",
          "line": {
           "width": 1.3
          },
          "opacity": 0.8,
          "size": 12,
          "symbol": "circle"
         },
         "mode": "markers",
         "name": "Skarmory",
         "textfont": {
          "color": "#4D5663"
         },
         "type": "scatter",
         "x": [
          465
         ],
         "y": [
          70
         ]
        },
        {
         "marker": {
          "color": "rgba(50, 171, 96, 0.7599999999999998)",
          "line": {
           "width": 1.3
          },
          "opacity": 0.8,
          "size": 12,
          "symbol": "circle"
         },
         "mode": "markers",
         "name": "Houndour",
         "textfont": {
          "color": "#4D5663"
         },
         "type": "scatter",
         "x": [
          330
         ],
         "y": [
          65
         ]
        },
        {
         "marker": {
          "color": "rgba(128, 0, 128, 0.7599999999999998)",
          "line": {
           "width": 1.3
          },
          "opacity": 0.8,
          "size": 12,
          "symbol": "circle"
         },
         "mode": "markers",
         "name": "Houndoom",
         "textfont": {
          "color": "#4D5663"
         },
         "type": "scatter",
         "x": [
          500
         ],
         "y": [
          95
         ]
        },
        {
         "marker": {
          "color": "rgba(219, 64, 82, 0.7599999999999998)",
          "line": {
           "width": 1.3
          },
          "opacity": 0.8,
          "size": 12,
          "symbol": "circle"
         },
         "mode": "markers",
         "name": "HoundoomMega Houndoom",
         "textfont": {
          "color": "#4D5663"
         },
         "type": "scatter",
         "x": [
          600
         ],
         "y": [
          115
         ]
        },
        {
         "marker": {
          "color": "rgba(0, 128, 128, 0.7599999999999998)",
          "line": {
           "width": 1.3
          },
          "opacity": 0.8,
          "size": 12,
          "symbol": "circle"
         },
         "mode": "markers",
         "name": "Kingdra",
         "textfont": {
          "color": "#4D5663"
         },
         "type": "scatter",
         "x": [
          540
         ],
         "y": [
          85
         ]
        },
        {
         "marker": {
          "color": "rgba(0, 128, 128, 0.7499999999999998)",
          "line": {
           "width": 1.3
          },
          "opacity": 0.8,
          "size": 12,
          "symbol": "circle"
         },
         "mode": "markers",
         "name": "Phanpy",
         "textfont": {
          "color": "#4D5663"
         },
         "type": "scatter",
         "x": [
          330
         ],
         "y": [
          40
         ]
        },
        {
         "marker": {
          "color": "rgba(255, 255, 51, 0.7499999999999998)",
          "line": {
           "width": 1.3
          },
          "opacity": 0.8,
          "size": 12,
          "symbol": "circle"
         },
         "mode": "markers",
         "name": "Donphan",
         "textfont": {
          "color": "#4D5663"
         },
         "type": "scatter",
         "x": [
          500
         ],
         "y": [
          50
         ]
        },
        {
         "marker": {
          "color": "rgba(128, 128, 0, 0.7499999999999998)",
          "line": {
           "width": 1.3
          },
          "opacity": 0.8,
          "size": 12,
          "symbol": "circle"
         },
         "mode": "markers",
         "name": "Porygon2",
         "textfont": {
          "color": "#4D5663"
         },
         "type": "scatter",
         "x": [
          515
         ],
         "y": [
          60
         ]
        },
        {
         "marker": {
          "color": "rgba(251, 128, 114, 0.7499999999999998)",
          "line": {
           "width": 1.3
          },
          "opacity": 0.8,
          "size": 12,
          "symbol": "circle"
         },
         "mode": "markers",
         "name": "Stantler",
         "textfont": {
          "color": "#4D5663"
         },
         "type": "scatter",
         "x": [
          465
         ],
         "y": [
          85
         ]
        },
        {
         "marker": {
          "color": "rgba(128, 177, 211, 0.7499999999999998)",
          "line": {
           "width": 1.3
          },
          "opacity": 0.8,
          "size": 12,
          "symbol": "circle"
         },
         "mode": "markers",
         "name": "Smeargle",
         "textfont": {
          "color": "#4D5663"
         },
         "type": "scatter",
         "x": [
          250
         ],
         "y": [
          75
         ]
        },
        {
         "marker": {
          "color": "rgba(255, 153, 51, 0.7499999999999998)",
          "line": {
           "width": 1.3
          },
          "opacity": 0.8,
          "size": 12,
          "symbol": "circle"
         },
         "mode": "markers",
         "name": "Tyrogue",
         "textfont": {
          "color": "#4D5663"
         },
         "type": "scatter",
         "x": [
          210
         ],
         "y": [
          35
         ]
        },
        {
         "marker": {
          "color": "rgba(55, 128, 191, 0.7499999999999998)",
          "line": {
           "width": 1.3
          },
          "opacity": 0.8,
          "size": 12,
          "symbol": "circle"
         },
         "mode": "markers",
         "name": "Hitmontop",
         "textfont": {
          "color": "#4D5663"
         },
         "type": "scatter",
         "x": [
          455
         ],
         "y": [
          70
         ]
        },
        {
         "marker": {
          "color": "rgba(50, 171, 96, 0.7499999999999998)",
          "line": {
           "width": 1.3
          },
          "opacity": 0.8,
          "size": 12,
          "symbol": "circle"
         },
         "mode": "markers",
         "name": "Smoochum",
         "textfont": {
          "color": "#4D5663"
         },
         "type": "scatter",
         "x": [
          305
         ],
         "y": [
          65
         ]
        },
        {
         "marker": {
          "color": "rgba(128, 0, 128, 0.7499999999999998)",
          "line": {
           "width": 1.3
          },
          "opacity": 0.8,
          "size": 12,
          "symbol": "circle"
         },
         "mode": "markers",
         "name": "Elekid",
         "textfont": {
          "color": "#4D5663"
         },
         "type": "scatter",
         "x": [
          360
         ],
         "y": [
          95
         ]
        },
        {
         "marker": {
          "color": "rgba(219, 64, 82, 0.7499999999999998)",
          "line": {
           "width": 1.3
          },
          "opacity": 0.8,
          "size": 12,
          "symbol": "circle"
         },
         "mode": "markers",
         "name": "Magby",
         "textfont": {
          "color": "#4D5663"
         },
         "type": "scatter",
         "x": [
          365
         ],
         "y": [
          83
         ]
        },
        {
         "marker": {
          "color": "rgba(219, 64, 82, 0.7399999999999998)",
          "line": {
           "width": 1.3
          },
          "opacity": 0.8,
          "size": 12,
          "symbol": "circle"
         },
         "mode": "markers",
         "name": "Miltank",
         "textfont": {
          "color": "#4D5663"
         },
         "type": "scatter",
         "x": [
          490
         ],
         "y": [
          100
         ]
        },
        {
         "marker": {
          "color": "rgba(0, 128, 128, 0.7399999999999998)",
          "line": {
           "width": 1.3
          },
          "opacity": 0.8,
          "size": 12,
          "symbol": "circle"
         },
         "mode": "markers",
         "name": "Blissey",
         "textfont": {
          "color": "#4D5663"
         },
         "type": "scatter",
         "x": [
          540
         ],
         "y": [
          55
         ]
        },
        {
         "marker": {
          "color": "rgba(255, 255, 51, 0.7399999999999998)",
          "line": {
           "width": 1.3
          },
          "opacity": 0.8,
          "size": 12,
          "symbol": "circle"
         },
         "mode": "markers",
         "name": "Raikou",
         "textfont": {
          "color": "#4D5663"
         },
         "type": "scatter",
         "x": [
          580
         ],
         "y": [
          115
         ]
        },
        {
         "marker": {
          "color": "rgba(128, 128, 0, 0.7399999999999998)",
          "line": {
           "width": 1.3
          },
          "opacity": 0.8,
          "size": 12,
          "symbol": "circle"
         },
         "mode": "markers",
         "name": "Entei",
         "textfont": {
          "color": "#4D5663"
         },
         "type": "scatter",
         "x": [
          580
         ],
         "y": [
          100
         ]
        },
        {
         "marker": {
          "color": "rgba(251, 128, 114, 0.7399999999999998)",
          "line": {
           "width": 1.3
          },
          "opacity": 0.8,
          "size": 12,
          "symbol": "circle"
         },
         "mode": "markers",
         "name": "Suicune",
         "textfont": {
          "color": "#4D5663"
         },
         "type": "scatter",
         "x": [
          580
         ],
         "y": [
          85
         ]
        },
        {
         "marker": {
          "color": "rgba(128, 177, 211, 0.7399999999999998)",
          "line": {
           "width": 1.3
          },
          "opacity": 0.8,
          "size": 12,
          "symbol": "circle"
         },
         "mode": "markers",
         "name": "Larvitar",
         "textfont": {
          "color": "#4D5663"
         },
         "type": "scatter",
         "x": [
          300
         ],
         "y": [
          41
         ]
        },
        {
         "marker": {
          "color": "rgba(255, 153, 51, 0.7399999999999998)",
          "line": {
           "width": 1.3
          },
          "opacity": 0.8,
          "size": 12,
          "symbol": "circle"
         },
         "mode": "markers",
         "name": "Pupitar",
         "textfont": {
          "color": "#4D5663"
         },
         "type": "scatter",
         "x": [
          410
         ],
         "y": [
          51
         ]
        },
        {
         "marker": {
          "color": "rgba(55, 128, 191, 0.7399999999999998)",
          "line": {
           "width": 1.3
          },
          "opacity": 0.8,
          "size": 12,
          "symbol": "circle"
         },
         "mode": "markers",
         "name": "Tyranitar",
         "textfont": {
          "color": "#4D5663"
         },
         "type": "scatter",
         "x": [
          600
         ],
         "y": [
          61
         ]
        },
        {
         "marker": {
          "color": "rgba(50, 171, 96, 0.7399999999999998)",
          "line": {
           "width": 1.3
          },
          "opacity": 0.8,
          "size": 12,
          "symbol": "circle"
         },
         "mode": "markers",
         "name": "TyranitarMega Tyranitar",
         "textfont": {
          "color": "#4D5663"
         },
         "type": "scatter",
         "x": [
          700
         ],
         "y": [
          71
         ]
        },
        {
         "marker": {
          "color": "rgba(128, 0, 128, 0.7399999999999998)",
          "line": {
           "width": 1.3
          },
          "opacity": 0.8,
          "size": 12,
          "symbol": "circle"
         },
         "mode": "markers",
         "name": "Lugia",
         "textfont": {
          "color": "#4D5663"
         },
         "type": "scatter",
         "x": [
          680
         ],
         "y": [
          110
         ]
        },
        {
         "marker": {
          "color": "rgba(128, 0, 128, 0.7299999999999998)",
          "line": {
           "width": 1.3
          },
          "opacity": 0.8,
          "size": 12,
          "symbol": "circle"
         },
         "mode": "markers",
         "name": "Ho-oh",
         "textfont": {
          "color": "#4D5663"
         },
         "type": "scatter",
         "x": [
          680
         ],
         "y": [
          90
         ]
        },
        {
         "marker": {
          "color": "rgba(219, 64, 82, 0.7299999999999998)",
          "line": {
           "width": 1.3
          },
          "opacity": 0.8,
          "size": 12,
          "symbol": "circle"
         },
         "mode": "markers",
         "name": "Celebi",
         "textfont": {
          "color": "#4D5663"
         },
         "type": "scatter",
         "x": [
          600
         ],
         "y": [
          100
         ]
        },
        {
         "marker": {
          "color": "rgba(0, 128, 128, 0.7299999999999998)",
          "line": {
           "width": 1.3
          },
          "opacity": 0.8,
          "size": 12,
          "symbol": "circle"
         },
         "mode": "markers",
         "name": "Treecko",
         "textfont": {
          "color": "#4D5663"
         },
         "type": "scatter",
         "x": [
          310
         ],
         "y": [
          70
         ]
        },
        {
         "marker": {
          "color": "rgba(255, 255, 51, 0.7299999999999998)",
          "line": {
           "width": 1.3
          },
          "opacity": 0.8,
          "size": 12,
          "symbol": "circle"
         },
         "mode": "markers",
         "name": "Grovyle",
         "textfont": {
          "color": "#4D5663"
         },
         "type": "scatter",
         "x": [
          405
         ],
         "y": [
          95
         ]
        },
        {
         "marker": {
          "color": "rgba(128, 128, 0, 0.7299999999999998)",
          "line": {
           "width": 1.3
          },
          "opacity": 0.8,
          "size": 12,
          "symbol": "circle"
         },
         "mode": "markers",
         "name": "Sceptile",
         "textfont": {
          "color": "#4D5663"
         },
         "type": "scatter",
         "x": [
          530
         ],
         "y": [
          120
         ]
        },
        {
         "marker": {
          "color": "rgba(251, 128, 114, 0.7299999999999998)",
          "line": {
           "width": 1.3
          },
          "opacity": 0.8,
          "size": 12,
          "symbol": "circle"
         },
         "mode": "markers",
         "name": "SceptileMega Sceptile",
         "textfont": {
          "color": "#4D5663"
         },
         "type": "scatter",
         "x": [
          630
         ],
         "y": [
          145
         ]
        },
        {
         "marker": {
          "color": "rgba(128, 177, 211, 0.7299999999999998)",
          "line": {
           "width": 1.3
          },
          "opacity": 0.8,
          "size": 12,
          "symbol": "circle"
         },
         "mode": "markers",
         "name": "Torchic",
         "textfont": {
          "color": "#4D5663"
         },
         "type": "scatter",
         "x": [
          310
         ],
         "y": [
          45
         ]
        },
        {
         "marker": {
          "color": "rgba(255, 153, 51, 0.7299999999999998)",
          "line": {
           "width": 1.3
          },
          "opacity": 0.8,
          "size": 12,
          "symbol": "circle"
         },
         "mode": "markers",
         "name": "Combusken",
         "textfont": {
          "color": "#4D5663"
         },
         "type": "scatter",
         "x": [
          405
         ],
         "y": [
          55
         ]
        },
        {
         "marker": {
          "color": "rgba(55, 128, 191, 0.7299999999999998)",
          "line": {
           "width": 1.3
          },
          "opacity": 0.8,
          "size": 12,
          "symbol": "circle"
         },
         "mode": "markers",
         "name": "Blaziken",
         "textfont": {
          "color": "#4D5663"
         },
         "type": "scatter",
         "x": [
          530
         ],
         "y": [
          80
         ]
        },
        {
         "marker": {
          "color": "rgba(50, 171, 96, 0.7299999999999998)",
          "line": {
           "width": 1.3
          },
          "opacity": 0.8,
          "size": 12,
          "symbol": "circle"
         },
         "mode": "markers",
         "name": "BlazikenMega Blaziken",
         "textfont": {
          "color": "#4D5663"
         },
         "type": "scatter",
         "x": [
          630
         ],
         "y": [
          100
         ]
        },
        {
         "marker": {
          "color": "rgba(50, 171, 96, 0.7199999999999998)",
          "line": {
           "width": 1.3
          },
          "opacity": 0.8,
          "size": 12,
          "symbol": "circle"
         },
         "mode": "markers",
         "name": "Mudkip",
         "textfont": {
          "color": "#4D5663"
         },
         "type": "scatter",
         "x": [
          310
         ],
         "y": [
          40
         ]
        },
        {
         "marker": {
          "color": "rgba(128, 0, 128, 0.7199999999999998)",
          "line": {
           "width": 1.3
          },
          "opacity": 0.8,
          "size": 12,
          "symbol": "circle"
         },
         "mode": "markers",
         "name": "Marshtomp",
         "textfont": {
          "color": "#4D5663"
         },
         "type": "scatter",
         "x": [
          405
         ],
         "y": [
          50
         ]
        },
        {
         "marker": {
          "color": "rgba(219, 64, 82, 0.7199999999999998)",
          "line": {
           "width": 1.3
          },
          "opacity": 0.8,
          "size": 12,
          "symbol": "circle"
         },
         "mode": "markers",
         "name": "Swampert",
         "textfont": {
          "color": "#4D5663"
         },
         "type": "scatter",
         "x": [
          535
         ],
         "y": [
          60
         ]
        },
        {
         "marker": {
          "color": "rgba(0, 128, 128, 0.7199999999999998)",
          "line": {
           "width": 1.3
          },
          "opacity": 0.8,
          "size": 12,
          "symbol": "circle"
         },
         "mode": "markers",
         "name": "SwampertMega Swampert",
         "textfont": {
          "color": "#4D5663"
         },
         "type": "scatter",
         "x": [
          635
         ],
         "y": [
          70
         ]
        },
        {
         "marker": {
          "color": "rgba(255, 255, 51, 0.7199999999999998)",
          "line": {
           "width": 1.3
          },
          "opacity": 0.8,
          "size": 12,
          "symbol": "circle"
         },
         "mode": "markers",
         "name": "Poochyena",
         "textfont": {
          "color": "#4D5663"
         },
         "type": "scatter",
         "x": [
          220
         ],
         "y": [
          35
         ]
        },
        {
         "marker": {
          "color": "rgba(128, 128, 0, 0.7199999999999998)",
          "line": {
           "width": 1.3
          },
          "opacity": 0.8,
          "size": 12,
          "symbol": "circle"
         },
         "mode": "markers",
         "name": "Mightyena",
         "textfont": {
          "color": "#4D5663"
         },
         "type": "scatter",
         "x": [
          420
         ],
         "y": [
          70
         ]
        },
        {
         "marker": {
          "color": "rgba(251, 128, 114, 0.7199999999999998)",
          "line": {
           "width": 1.3
          },
          "opacity": 0.8,
          "size": 12,
          "symbol": "circle"
         },
         "mode": "markers",
         "name": "Zigzagoon",
         "textfont": {
          "color": "#4D5663"
         },
         "type": "scatter",
         "x": [
          240
         ],
         "y": [
          60
         ]
        },
        {
         "marker": {
          "color": "rgba(128, 177, 211, 0.7199999999999998)",
          "line": {
           "width": 1.3
          },
          "opacity": 0.8,
          "size": 12,
          "symbol": "circle"
         },
         "mode": "markers",
         "name": "Linoone",
         "textfont": {
          "color": "#4D5663"
         },
         "type": "scatter",
         "x": [
          420
         ],
         "y": [
          100
         ]
        },
        {
         "marker": {
          "color": "rgba(255, 153, 51, 0.7199999999999998)",
          "line": {
           "width": 1.3
          },
          "opacity": 0.8,
          "size": 12,
          "symbol": "circle"
         },
         "mode": "markers",
         "name": "Wurmple",
         "textfont": {
          "color": "#4D5663"
         },
         "type": "scatter",
         "x": [
          195
         ],
         "y": [
          20
         ]
        },
        {
         "marker": {
          "color": "rgba(55, 128, 191, 0.7199999999999998)",
          "line": {
           "width": 1.3
          },
          "opacity": 0.8,
          "size": 12,
          "symbol": "circle"
         },
         "mode": "markers",
         "name": "Silcoon",
         "textfont": {
          "color": "#4D5663"
         },
         "type": "scatter",
         "x": [
          205
         ],
         "y": [
          15
         ]
        },
        {
         "marker": {
          "color": "rgba(55, 128, 191, 0.7099999999999997)",
          "line": {
           "width": 1.3
          },
          "opacity": 0.8,
          "size": 12,
          "symbol": "circle"
         },
         "mode": "markers",
         "name": "Beautifly",
         "textfont": {
          "color": "#4D5663"
         },
         "type": "scatter",
         "x": [
          395
         ],
         "y": [
          65
         ]
        },
        {
         "marker": {
          "color": "rgba(50, 171, 96, 0.7099999999999997)",
          "line": {
           "width": 1.3
          },
          "opacity": 0.8,
          "size": 12,
          "symbol": "circle"
         },
         "mode": "markers",
         "name": "Cascoon",
         "textfont": {
          "color": "#4D5663"
         },
         "type": "scatter",
         "x": [
          205
         ],
         "y": [
          15
         ]
        },
        {
         "marker": {
          "color": "rgba(128, 0, 128, 0.7099999999999997)",
          "line": {
           "width": 1.3
          },
          "opacity": 0.8,
          "size": 12,
          "symbol": "circle"
         },
         "mode": "markers",
         "name": "Dustox",
         "textfont": {
          "color": "#4D5663"
         },
         "type": "scatter",
         "x": [
          385
         ],
         "y": [
          65
         ]
        },
        {
         "marker": {
          "color": "rgba(219, 64, 82, 0.7099999999999997)",
          "line": {
           "width": 1.3
          },
          "opacity": 0.8,
          "size": 12,
          "symbol": "circle"
         },
         "mode": "markers",
         "name": "Lotad",
         "textfont": {
          "color": "#4D5663"
         },
         "type": "scatter",
         "x": [
          220
         ],
         "y": [
          30
         ]
        },
        {
         "marker": {
          "color": "rgba(0, 128, 128, 0.7099999999999997)",
          "line": {
           "width": 1.3
          },
          "opacity": 0.8,
          "size": 12,
          "symbol": "circle"
         },
         "mode": "markers",
         "name": "Lombre",
         "textfont": {
          "color": "#4D5663"
         },
         "type": "scatter",
         "x": [
          340
         ],
         "y": [
          50
         ]
        },
        {
         "marker": {
          "color": "rgba(255, 255, 51, 0.7099999999999997)",
          "line": {
           "width": 1.3
          },
          "opacity": 0.8,
          "size": 12,
          "symbol": "circle"
         },
         "mode": "markers",
         "name": "Ludicolo",
         "textfont": {
          "color": "#4D5663"
         },
         "type": "scatter",
         "x": [
          480
         ],
         "y": [
          70
         ]
        },
        {
         "marker": {
          "color": "rgba(128, 128, 0, 0.7099999999999997)",
          "line": {
           "width": 1.3
          },
          "opacity": 0.8,
          "size": 12,
          "symbol": "circle"
         },
         "mode": "markers",
         "name": "Seedot",
         "textfont": {
          "color": "#4D5663"
         },
         "type": "scatter",
         "x": [
          220
         ],
         "y": [
          30
         ]
        },
        {
         "marker": {
          "color": "rgba(251, 128, 114, 0.7099999999999997)",
          "line": {
           "width": 1.3
          },
          "opacity": 0.8,
          "size": 12,
          "symbol": "circle"
         },
         "mode": "markers",
         "name": "Nuzleaf",
         "textfont": {
          "color": "#4D5663"
         },
         "type": "scatter",
         "x": [
          340
         ],
         "y": [
          60
         ]
        },
        {
         "marker": {
          "color": "rgba(128, 177, 211, 0.7099999999999997)",
          "line": {
           "width": 1.3
          },
          "opacity": 0.8,
          "size": 12,
          "symbol": "circle"
         },
         "mode": "markers",
         "name": "Shiftry",
         "textfont": {
          "color": "#4D5663"
         },
         "type": "scatter",
         "x": [
          480
         ],
         "y": [
          80
         ]
        },
        {
         "marker": {
          "color": "rgba(255, 153, 51, 0.7099999999999997)",
          "line": {
           "width": 1.3
          },
          "opacity": 0.8,
          "size": 12,
          "symbol": "circle"
         },
         "mode": "markers",
         "name": "Taillow",
         "textfont": {
          "color": "#4D5663"
         },
         "type": "scatter",
         "x": [
          270
         ],
         "y": [
          85
         ]
        },
        {
         "marker": {
          "color": "rgba(255, 153, 51, 0.6999999999999997)",
          "line": {
           "width": 1.3
          },
          "opacity": 0.8,
          "size": 12,
          "symbol": "circle"
         },
         "mode": "markers",
         "name": "Swellow",
         "textfont": {
          "color": "#4D5663"
         },
         "type": "scatter",
         "x": [
          430
         ],
         "y": [
          125
         ]
        },
        {
         "marker": {
          "color": "rgba(55, 128, 191, 0.6999999999999997)",
          "line": {
           "width": 1.3
          },
          "opacity": 0.8,
          "size": 12,
          "symbol": "circle"
         },
         "mode": "markers",
         "name": "Wingull",
         "textfont": {
          "color": "#4D5663"
         },
         "type": "scatter",
         "x": [
          270
         ],
         "y": [
          85
         ]
        },
        {
         "marker": {
          "color": "rgba(50, 171, 96, 0.6999999999999997)",
          "line": {
           "width": 1.3
          },
          "opacity": 0.8,
          "size": 12,
          "symbol": "circle"
         },
         "mode": "markers",
         "name": "Pelipper",
         "textfont": {
          "color": "#4D5663"
         },
         "type": "scatter",
         "x": [
          430
         ],
         "y": [
          65
         ]
        },
        {
         "marker": {
          "color": "rgba(128, 0, 128, 0.6999999999999997)",
          "line": {
           "width": 1.3
          },
          "opacity": 0.8,
          "size": 12,
          "symbol": "circle"
         },
         "mode": "markers",
         "name": "Ralts",
         "textfont": {
          "color": "#4D5663"
         },
         "type": "scatter",
         "x": [
          198
         ],
         "y": [
          40
         ]
        },
        {
         "marker": {
          "color": "rgba(219, 64, 82, 0.6999999999999997)",
          "line": {
           "width": 1.3
          },
          "opacity": 0.8,
          "size": 12,
          "symbol": "circle"
         },
         "mode": "markers",
         "name": "Kirlia",
         "textfont": {
          "color": "#4D5663"
         },
         "type": "scatter",
         "x": [
          278
         ],
         "y": [
          50
         ]
        },
        {
         "marker": {
          "color": "rgba(0, 128, 128, 0.6999999999999997)",
          "line": {
           "width": 1.3
          },
          "opacity": 0.8,
          "size": 12,
          "symbol": "circle"
         },
         "mode": "markers",
         "name": "Gardevoir",
         "textfont": {
          "color": "#4D5663"
         },
         "type": "scatter",
         "x": [
          518
         ],
         "y": [
          80
         ]
        },
        {
         "marker": {
          "color": "rgba(255, 255, 51, 0.6999999999999997)",
          "line": {
           "width": 1.3
          },
          "opacity": 0.8,
          "size": 12,
          "symbol": "circle"
         },
         "mode": "markers",
         "name": "GardevoirMega Gardevoir",
         "textfont": {
          "color": "#4D5663"
         },
         "type": "scatter",
         "x": [
          618
         ],
         "y": [
          100
         ]
        },
        {
         "marker": {
          "color": "rgba(128, 128, 0, 0.6999999999999997)",
          "line": {
           "width": 1.3
          },
          "opacity": 0.8,
          "size": 12,
          "symbol": "circle"
         },
         "mode": "markers",
         "name": "Surskit",
         "textfont": {
          "color": "#4D5663"
         },
         "type": "scatter",
         "x": [
          269
         ],
         "y": [
          65
         ]
        },
        {
         "marker": {
          "color": "rgba(251, 128, 114, 0.6999999999999997)",
          "line": {
           "width": 1.3
          },
          "opacity": 0.8,
          "size": 12,
          "symbol": "circle"
         },
         "mode": "markers",
         "name": "Masquerain",
         "textfont": {
          "color": "#4D5663"
         },
         "type": "scatter",
         "x": [
          414
         ],
         "y": [
          60
         ]
        },
        {
         "marker": {
          "color": "rgba(128, 177, 211, 0.6999999999999997)",
          "line": {
           "width": 1.3
          },
          "opacity": 0.8,
          "size": 12,
          "symbol": "circle"
         },
         "mode": "markers",
         "name": "Shroomish",
         "textfont": {
          "color": "#4D5663"
         },
         "type": "scatter",
         "x": [
          295
         ],
         "y": [
          35
         ]
        },
        {
         "marker": {
          "color": "rgba(128, 177, 211, 0.6899999999999997)",
          "line": {
           "width": 1.3
          },
          "opacity": 0.8,
          "size": 12,
          "symbol": "circle"
         },
         "mode": "markers",
         "name": "Breloom",
         "textfont": {
          "color": "#4D5663"
         },
         "type": "scatter",
         "x": [
          460
         ],
         "y": [
          70
         ]
        },
        {
         "marker": {
          "color": "rgba(255, 153, 51, 0.6899999999999997)",
          "line": {
           "width": 1.3
          },
          "opacity": 0.8,
          "size": 12,
          "symbol": "circle"
         },
         "mode": "markers",
         "name": "Slakoth",
         "textfont": {
          "color": "#4D5663"
         },
         "type": "scatter",
         "x": [
          280
         ],
         "y": [
          30
         ]
        },
        {
         "marker": {
          "color": "rgba(55, 128, 191, 0.6899999999999997)",
          "line": {
           "width": 1.3
          },
          "opacity": 0.8,
          "size": 12,
          "symbol": "circle"
         },
         "mode": "markers",
         "name": "Vigoroth",
         "textfont": {
          "color": "#4D5663"
         },
         "type": "scatter",
         "x": [
          440
         ],
         "y": [
          90
         ]
        },
        {
         "marker": {
          "color": "rgba(50, 171, 96, 0.6899999999999997)",
          "line": {
           "width": 1.3
          },
          "opacity": 0.8,
          "size": 12,
          "symbol": "circle"
         },
         "mode": "markers",
         "name": "Slaking",
         "textfont": {
          "color": "#4D5663"
         },
         "type": "scatter",
         "x": [
          670
         ],
         "y": [
          100
         ]
        },
        {
         "marker": {
          "color": "rgba(128, 0, 128, 0.6899999999999997)",
          "line": {
           "width": 1.3
          },
          "opacity": 0.8,
          "size": 12,
          "symbol": "circle"
         },
         "mode": "markers",
         "name": "Nincada",
         "textfont": {
          "color": "#4D5663"
         },
         "type": "scatter",
         "x": [
          266
         ],
         "y": [
          40
         ]
        },
        {
         "marker": {
          "color": "rgba(219, 64, 82, 0.6899999999999997)",
          "line": {
           "width": 1.3
          },
          "opacity": 0.8,
          "size": 12,
          "symbol": "circle"
         },
         "mode": "markers",
         "name": "Ninjask",
         "textfont": {
          "color": "#4D5663"
         },
         "type": "scatter",
         "x": [
          456
         ],
         "y": [
          160
         ]
        },
        {
         "marker": {
          "color": "rgba(0, 128, 128, 0.6899999999999997)",
          "line": {
           "width": 1.3
          },
          "opacity": 0.8,
          "size": 12,
          "symbol": "circle"
         },
         "mode": "markers",
         "name": "Shedinja",
         "textfont": {
          "color": "#4D5663"
         },
         "type": "scatter",
         "x": [
          236
         ],
         "y": [
          40
         ]
        },
        {
         "marker": {
          "color": "rgba(255, 255, 51, 0.6899999999999997)",
          "line": {
           "width": 1.3
          },
          "opacity": 0.8,
          "size": 12,
          "symbol": "circle"
         },
         "mode": "markers",
         "name": "Whismur",
         "textfont": {
          "color": "#4D5663"
         },
         "type": "scatter",
         "x": [
          240
         ],
         "y": [
          28
         ]
        },
        {
         "marker": {
          "color": "rgba(128, 128, 0, 0.6899999999999997)",
          "line": {
           "width": 1.3
          },
          "opacity": 0.8,
          "size": 12,
          "symbol": "circle"
         },
         "mode": "markers",
         "name": "Loudred",
         "textfont": {
          "color": "#4D5663"
         },
         "type": "scatter",
         "x": [
          360
         ],
         "y": [
          48
         ]
        },
        {
         "marker": {
          "color": "rgba(251, 128, 114, 0.6899999999999997)",
          "line": {
           "width": 1.3
          },
          "opacity": 0.8,
          "size": 12,
          "symbol": "circle"
         },
         "mode": "markers",
         "name": "Exploud",
         "textfont": {
          "color": "#4D5663"
         },
         "type": "scatter",
         "x": [
          490
         ],
         "y": [
          68
         ]
        },
        {
         "marker": {
          "color": "rgba(251, 128, 114, 0.6799999999999997)",
          "line": {
           "width": 1.3
          },
          "opacity": 0.8,
          "size": 12,
          "symbol": "circle"
         },
         "mode": "markers",
         "name": "Makuhita",
         "textfont": {
          "color": "#4D5663"
         },
         "type": "scatter",
         "x": [
          237
         ],
         "y": [
          25
         ]
        },
        {
         "marker": {
          "color": "rgba(128, 177, 211, 0.6799999999999997)",
          "line": {
           "width": 1.3
          },
          "opacity": 0.8,
          "size": 12,
          "symbol": "circle"
         },
         "mode": "markers",
         "name": "Hariyama",
         "textfont": {
          "color": "#4D5663"
         },
         "type": "scatter",
         "x": [
          474
         ],
         "y": [
          50
         ]
        },
        {
         "marker": {
          "color": "rgba(255, 153, 51, 0.6799999999999997)",
          "line": {
           "width": 1.3
          },
          "opacity": 0.8,
          "size": 12,
          "symbol": "circle"
         },
         "mode": "markers",
         "name": "Azurill",
         "textfont": {
          "color": "#4D5663"
         },
         "type": "scatter",
         "x": [
          190
         ],
         "y": [
          20
         ]
        },
        {
         "marker": {
          "color": "rgba(55, 128, 191, 0.6799999999999997)",
          "line": {
           "width": 1.3
          },
          "opacity": 0.8,
          "size": 12,
          "symbol": "circle"
         },
         "mode": "markers",
         "name": "Nosepass",
         "textfont": {
          "color": "#4D5663"
         },
         "type": "scatter",
         "x": [
          375
         ],
         "y": [
          30
         ]
        },
        {
         "marker": {
          "color": "rgba(50, 171, 96, 0.6799999999999997)",
          "line": {
           "width": 1.3
          },
          "opacity": 0.8,
          "size": 12,
          "symbol": "circle"
         },
         "mode": "markers",
         "name": "Skitty",
         "textfont": {
          "color": "#4D5663"
         },
         "type": "scatter",
         "x": [
          260
         ],
         "y": [
          50
         ]
        },
        {
         "marker": {
          "color": "rgba(128, 0, 128, 0.6799999999999997)",
          "line": {
           "width": 1.3
          },
          "opacity": 0.8,
          "size": 12,
          "symbol": "circle"
         },
         "mode": "markers",
         "name": "Delcatty",
         "textfont": {
          "color": "#4D5663"
         },
         "type": "scatter",
         "x": [
          380
         ],
         "y": [
          70
         ]
        },
        {
         "marker": {
          "color": "rgba(219, 64, 82, 0.6799999999999997)",
          "line": {
           "width": 1.3
          },
          "opacity": 0.8,
          "size": 12,
          "symbol": "circle"
         },
         "mode": "markers",
         "name": "Sableye",
         "textfont": {
          "color": "#4D5663"
         },
         "type": "scatter",
         "x": [
          380
         ],
         "y": [
          50
         ]
        },
        {
         "marker": {
          "color": "rgba(0, 128, 128, 0.6799999999999997)",
          "line": {
           "width": 1.3
          },
          "opacity": 0.8,
          "size": 12,
          "symbol": "circle"
         },
         "mode": "markers",
         "name": "SableyeMega Sableye",
         "textfont": {
          "color": "#4D5663"
         },
         "type": "scatter",
         "x": [
          480
         ],
         "y": [
          20
         ]
        },
        {
         "marker": {
          "color": "rgba(255, 255, 51, 0.6799999999999997)",
          "line": {
           "width": 1.3
          },
          "opacity": 0.8,
          "size": 12,
          "symbol": "circle"
         },
         "mode": "markers",
         "name": "Mawile",
         "textfont": {
          "color": "#4D5663"
         },
         "type": "scatter",
         "x": [
          380
         ],
         "y": [
          50
         ]
        },
        {
         "marker": {
          "color": "rgba(128, 128, 0, 0.6799999999999997)",
          "line": {
           "width": 1.3
          },
          "opacity": 0.8,
          "size": 12,
          "symbol": "circle"
         },
         "mode": "markers",
         "name": "MawileMega Mawile",
         "textfont": {
          "color": "#4D5663"
         },
         "type": "scatter",
         "x": [
          480
         ],
         "y": [
          50
         ]
        },
        {
         "marker": {
          "color": "rgba(128, 128, 0, 0.6699999999999997)",
          "line": {
           "width": 1.3
          },
          "opacity": 0.8,
          "size": 12,
          "symbol": "circle"
         },
         "mode": "markers",
         "name": "Aron",
         "textfont": {
          "color": "#4D5663"
         },
         "type": "scatter",
         "x": [
          330
         ],
         "y": [
          30
         ]
        },
        {
         "marker": {
          "color": "rgba(251, 128, 114, 0.6699999999999997)",
          "line": {
           "width": 1.3
          },
          "opacity": 0.8,
          "size": 12,
          "symbol": "circle"
         },
         "mode": "markers",
         "name": "Lairon",
         "textfont": {
          "color": "#4D5663"
         },
         "type": "scatter",
         "x": [
          430
         ],
         "y": [
          40
         ]
        },
        {
         "marker": {
          "color": "rgba(128, 177, 211, 0.6699999999999997)",
          "line": {
           "width": 1.3
          },
          "opacity": 0.8,
          "size": 12,
          "symbol": "circle"
         },
         "mode": "markers",
         "name": "Aggron",
         "textfont": {
          "color": "#4D5663"
         },
         "type": "scatter",
         "x": [
          530
         ],
         "y": [
          50
         ]
        },
        {
         "marker": {
          "color": "rgba(255, 153, 51, 0.6699999999999997)",
          "line": {
           "width": 1.3
          },
          "opacity": 0.8,
          "size": 12,
          "symbol": "circle"
         },
         "mode": "markers",
         "name": "AggronMega Aggron",
         "textfont": {
          "color": "#4D5663"
         },
         "type": "scatter",
         "x": [
          630
         ],
         "y": [
          50
         ]
        },
        {
         "marker": {
          "color": "rgba(55, 128, 191, 0.6699999999999997)",
          "line": {
           "width": 1.3
          },
          "opacity": 0.8,
          "size": 12,
          "symbol": "circle"
         },
         "mode": "markers",
         "name": "Meditite",
         "textfont": {
          "color": "#4D5663"
         },
         "type": "scatter",
         "x": [
          280
         ],
         "y": [
          60
         ]
        },
        {
         "marker": {
          "color": "rgba(50, 171, 96, 0.6699999999999997)",
          "line": {
           "width": 1.3
          },
          "opacity": 0.8,
          "size": 12,
          "symbol": "circle"
         },
         "mode": "markers",
         "name": "Medicham",
         "textfont": {
          "color": "#4D5663"
         },
         "type": "scatter",
         "x": [
          410
         ],
         "y": [
          80
         ]
        },
        {
         "marker": {
          "color": "rgba(128, 0, 128, 0.6699999999999997)",
          "line": {
           "width": 1.3
          },
          "opacity": 0.8,
          "size": 12,
          "symbol": "circle"
         },
         "mode": "markers",
         "name": "MedichamMega Medicham",
         "textfont": {
          "color": "#4D5663"
         },
         "type": "scatter",
         "x": [
          510
         ],
         "y": [
          100
         ]
        },
        {
         "marker": {
          "color": "rgba(219, 64, 82, 0.6699999999999997)",
          "line": {
           "width": 1.3
          },
          "opacity": 0.8,
          "size": 12,
          "symbol": "circle"
         },
         "mode": "markers",
         "name": "Electrike",
         "textfont": {
          "color": "#4D5663"
         },
         "type": "scatter",
         "x": [
          295
         ],
         "y": [
          65
         ]
        },
        {
         "marker": {
          "color": "rgba(0, 128, 128, 0.6699999999999997)",
          "line": {
           "width": 1.3
          },
          "opacity": 0.8,
          "size": 12,
          "symbol": "circle"
         },
         "mode": "markers",
         "name": "Manectric",
         "textfont": {
          "color": "#4D5663"
         },
         "type": "scatter",
         "x": [
          475
         ],
         "y": [
          105
         ]
        },
        {
         "marker": {
          "color": "rgba(255, 255, 51, 0.6699999999999997)",
          "line": {
           "width": 1.3
          },
          "opacity": 0.8,
          "size": 12,
          "symbol": "circle"
         },
         "mode": "markers",
         "name": "ManectricMega Manectric",
         "textfont": {
          "color": "#4D5663"
         },
         "type": "scatter",
         "x": [
          575
         ],
         "y": [
          135
         ]
        },
        {
         "marker": {
          "color": "rgba(255, 255, 51, 0.6599999999999997)",
          "line": {
           "width": 1.3
          },
          "opacity": 0.8,
          "size": 12,
          "symbol": "circle"
         },
         "mode": "markers",
         "name": "Plusle",
         "textfont": {
          "color": "#4D5663"
         },
         "type": "scatter",
         "x": [
          405
         ],
         "y": [
          95
         ]
        },
        {
         "marker": {
          "color": "rgba(128, 128, 0, 0.6599999999999997)",
          "line": {
           "width": 1.3
          },
          "opacity": 0.8,
          "size": 12,
          "symbol": "circle"
         },
         "mode": "markers",
         "name": "Minun",
         "textfont": {
          "color": "#4D5663"
         },
         "type": "scatter",
         "x": [
          405
         ],
         "y": [
          95
         ]
        },
        {
         "marker": {
          "color": "rgba(251, 128, 114, 0.6599999999999997)",
          "line": {
           "width": 1.3
          },
          "opacity": 0.8,
          "size": 12,
          "symbol": "circle"
         },
         "mode": "markers",
         "name": "Volbeat",
         "textfont": {
          "color": "#4D5663"
         },
         "type": "scatter",
         "x": [
          400
         ],
         "y": [
          85
         ]
        },
        {
         "marker": {
          "color": "rgba(128, 177, 211, 0.6599999999999997)",
          "line": {
           "width": 1.3
          },
          "opacity": 0.8,
          "size": 12,
          "symbol": "circle"
         },
         "mode": "markers",
         "name": "Illumise",
         "textfont": {
          "color": "#4D5663"
         },
         "type": "scatter",
         "x": [
          400
         ],
         "y": [
          85
         ]
        },
        {
         "marker": {
          "color": "rgba(255, 153, 51, 0.6599999999999997)",
          "line": {
           "width": 1.3
          },
          "opacity": 0.8,
          "size": 12,
          "symbol": "circle"
         },
         "mode": "markers",
         "name": "Roselia",
         "textfont": {
          "color": "#4D5663"
         },
         "type": "scatter",
         "x": [
          400
         ],
         "y": [
          65
         ]
        },
        {
         "marker": {
          "color": "rgba(55, 128, 191, 0.6599999999999997)",
          "line": {
           "width": 1.3
          },
          "opacity": 0.8,
          "size": 12,
          "symbol": "circle"
         },
         "mode": "markers",
         "name": "Gulpin",
         "textfont": {
          "color": "#4D5663"
         },
         "type": "scatter",
         "x": [
          302
         ],
         "y": [
          40
         ]
        },
        {
         "marker": {
          "color": "rgba(50, 171, 96, 0.6599999999999997)",
          "line": {
           "width": 1.3
          },
          "opacity": 0.8,
          "size": 12,
          "symbol": "circle"
         },
         "mode": "markers",
         "name": "Swalot",
         "textfont": {
          "color": "#4D5663"
         },
         "type": "scatter",
         "x": [
          467
         ],
         "y": [
          55
         ]
        },
        {
         "marker": {
          "color": "rgba(128, 0, 128, 0.6599999999999997)",
          "line": {
           "width": 1.3
          },
          "opacity": 0.8,
          "size": 12,
          "symbol": "circle"
         },
         "mode": "markers",
         "name": "Carvanha",
         "textfont": {
          "color": "#4D5663"
         },
         "type": "scatter",
         "x": [
          305
         ],
         "y": [
          65
         ]
        },
        {
         "marker": {
          "color": "rgba(219, 64, 82, 0.6599999999999997)",
          "line": {
           "width": 1.3
          },
          "opacity": 0.8,
          "size": 12,
          "symbol": "circle"
         },
         "mode": "markers",
         "name": "Sharpedo",
         "textfont": {
          "color": "#4D5663"
         },
         "type": "scatter",
         "x": [
          460
         ],
         "y": [
          95
         ]
        },
        {
         "marker": {
          "color": "rgba(0, 128, 128, 0.6599999999999997)",
          "line": {
           "width": 1.3
          },
          "opacity": 0.8,
          "size": 12,
          "symbol": "circle"
         },
         "mode": "markers",
         "name": "SharpedoMega Sharpedo",
         "textfont": {
          "color": "#4D5663"
         },
         "type": "scatter",
         "x": [
          560
         ],
         "y": [
          105
         ]
        },
        {
         "marker": {
          "color": "rgba(0, 128, 128, 0.6499999999999997)",
          "line": {
           "width": 1.3
          },
          "opacity": 0.8,
          "size": 12,
          "symbol": "circle"
         },
         "mode": "markers",
         "name": "Wailmer",
         "textfont": {
          "color": "#4D5663"
         },
         "type": "scatter",
         "x": [
          400
         ],
         "y": [
          60
         ]
        },
        {
         "marker": {
          "color": "rgba(255, 255, 51, 0.6499999999999997)",
          "line": {
           "width": 1.3
          },
          "opacity": 0.8,
          "size": 12,
          "symbol": "circle"
         },
         "mode": "markers",
         "name": "Wailord",
         "textfont": {
          "color": "#4D5663"
         },
         "type": "scatter",
         "x": [
          500
         ],
         "y": [
          60
         ]
        },
        {
         "marker": {
          "color": "rgba(128, 128, 0, 0.6499999999999997)",
          "line": {
           "width": 1.3
          },
          "opacity": 0.8,
          "size": 12,
          "symbol": "circle"
         },
         "mode": "markers",
         "name": "Numel",
         "textfont": {
          "color": "#4D5663"
         },
         "type": "scatter",
         "x": [
          305
         ],
         "y": [
          35
         ]
        },
        {
         "marker": {
          "color": "rgba(251, 128, 114, 0.6499999999999997)",
          "line": {
           "width": 1.3
          },
          "opacity": 0.8,
          "size": 12,
          "symbol": "circle"
         },
         "mode": "markers",
         "name": "Camerupt",
         "textfont": {
          "color": "#4D5663"
         },
         "type": "scatter",
         "x": [
          460
         ],
         "y": [
          40
         ]
        },
        {
         "marker": {
          "color": "rgba(128, 177, 211, 0.6499999999999997)",
          "line": {
           "width": 1.3
          },
          "opacity": 0.8,
          "size": 12,
          "symbol": "circle"
         },
         "mode": "markers",
         "name": "CameruptMega Camerupt",
         "textfont": {
          "color": "#4D5663"
         },
         "type": "scatter",
         "x": [
          560
         ],
         "y": [
          20
         ]
        },
        {
         "marker": {
          "color": "rgba(255, 153, 51, 0.6499999999999997)",
          "line": {
           "width": 1.3
          },
          "opacity": 0.8,
          "size": 12,
          "symbol": "circle"
         },
         "mode": "markers",
         "name": "Torkoal",
         "textfont": {
          "color": "#4D5663"
         },
         "type": "scatter",
         "x": [
          470
         ],
         "y": [
          20
         ]
        },
        {
         "marker": {
          "color": "rgba(55, 128, 191, 0.6499999999999997)",
          "line": {
           "width": 1.3
          },
          "opacity": 0.8,
          "size": 12,
          "symbol": "circle"
         },
         "mode": "markers",
         "name": "Spoink",
         "textfont": {
          "color": "#4D5663"
         },
         "type": "scatter",
         "x": [
          330
         ],
         "y": [
          60
         ]
        },
        {
         "marker": {
          "color": "rgba(50, 171, 96, 0.6499999999999997)",
          "line": {
           "width": 1.3
          },
          "opacity": 0.8,
          "size": 12,
          "symbol": "circle"
         },
         "mode": "markers",
         "name": "Grumpig",
         "textfont": {
          "color": "#4D5663"
         },
         "type": "scatter",
         "x": [
          470
         ],
         "y": [
          80
         ]
        },
        {
         "marker": {
          "color": "rgba(128, 0, 128, 0.6499999999999997)",
          "line": {
           "width": 1.3
          },
          "opacity": 0.8,
          "size": 12,
          "symbol": "circle"
         },
         "mode": "markers",
         "name": "Spinda",
         "textfont": {
          "color": "#4D5663"
         },
         "type": "scatter",
         "x": [
          360
         ],
         "y": [
          60
         ]
        },
        {
         "marker": {
          "color": "rgba(219, 64, 82, 0.6499999999999997)",
          "line": {
           "width": 1.3
          },
          "opacity": 0.8,
          "size": 12,
          "symbol": "circle"
         },
         "mode": "markers",
         "name": "Trapinch",
         "textfont": {
          "color": "#4D5663"
         },
         "type": "scatter",
         "x": [
          290
         ],
         "y": [
          10
         ]
        },
        {
         "marker": {
          "color": "rgba(219, 64, 82, 0.6399999999999997)",
          "line": {
           "width": 1.3
          },
          "opacity": 0.8,
          "size": 12,
          "symbol": "circle"
         },
         "mode": "markers",
         "name": "Vibrava",
         "textfont": {
          "color": "#4D5663"
         },
         "type": "scatter",
         "x": [
          340
         ],
         "y": [
          70
         ]
        },
        {
         "marker": {
          "color": "rgba(0, 128, 128, 0.6399999999999997)",
          "line": {
           "width": 1.3
          },
          "opacity": 0.8,
          "size": 12,
          "symbol": "circle"
         },
         "mode": "markers",
         "name": "Flygon",
         "textfont": {
          "color": "#4D5663"
         },
         "type": "scatter",
         "x": [
          520
         ],
         "y": [
          100
         ]
        },
        {
         "marker": {
          "color": "rgba(255, 255, 51, 0.6399999999999997)",
          "line": {
           "width": 1.3
          },
          "opacity": 0.8,
          "size": 12,
          "symbol": "circle"
         },
         "mode": "markers",
         "name": "Cacnea",
         "textfont": {
          "color": "#4D5663"
         },
         "type": "scatter",
         "x": [
          335
         ],
         "y": [
          35
         ]
        },
        {
         "marker": {
          "color": "rgba(128, 128, 0, 0.6399999999999997)",
          "line": {
           "width": 1.3
          },
          "opacity": 0.8,
          "size": 12,
          "symbol": "circle"
         },
         "mode": "markers",
         "name": "Cacturne",
         "textfont": {
          "color": "#4D5663"
         },
         "type": "scatter",
         "x": [
          475
         ],
         "y": [
          55
         ]
        },
        {
         "marker": {
          "color": "rgba(251, 128, 114, 0.6399999999999997)",
          "line": {
           "width": 1.3
          },
          "opacity": 0.8,
          "size": 12,
          "symbol": "circle"
         },
         "mode": "markers",
         "name": "Swablu",
         "textfont": {
          "color": "#4D5663"
         },
         "type": "scatter",
         "x": [
          310
         ],
         "y": [
          50
         ]
        },
        {
         "marker": {
          "color": "rgba(128, 177, 211, 0.6399999999999997)",
          "line": {
           "width": 1.3
          },
          "opacity": 0.8,
          "size": 12,
          "symbol": "circle"
         },
         "mode": "markers",
         "name": "Altaria",
         "textfont": {
          "color": "#4D5663"
         },
         "type": "scatter",
         "x": [
          490
         ],
         "y": [
          80
         ]
        },
        {
         "marker": {
          "color": "rgba(255, 153, 51, 0.6399999999999997)",
          "line": {
           "width": 1.3
          },
          "opacity": 0.8,
          "size": 12,
          "symbol": "circle"
         },
         "mode": "markers",
         "name": "AltariaMega Altaria",
         "textfont": {
          "color": "#4D5663"
         },
         "type": "scatter",
         "x": [
          590
         ],
         "y": [
          80
         ]
        },
        {
         "marker": {
          "color": "rgba(55, 128, 191, 0.6399999999999997)",
          "line": {
           "width": 1.3
          },
          "opacity": 0.8,
          "size": 12,
          "symbol": "circle"
         },
         "mode": "markers",
         "name": "Zangoose",
         "textfont": {
          "color": "#4D5663"
         },
         "type": "scatter",
         "x": [
          458
         ],
         "y": [
          90
         ]
        },
        {
         "marker": {
          "color": "rgba(50, 171, 96, 0.6399999999999997)",
          "line": {
           "width": 1.3
          },
          "opacity": 0.8,
          "size": 12,
          "symbol": "circle"
         },
         "mode": "markers",
         "name": "Seviper",
         "textfont": {
          "color": "#4D5663"
         },
         "type": "scatter",
         "x": [
          458
         ],
         "y": [
          65
         ]
        },
        {
         "marker": {
          "color": "rgba(128, 0, 128, 0.6399999999999997)",
          "line": {
           "width": 1.3
          },
          "opacity": 0.8,
          "size": 12,
          "symbol": "circle"
         },
         "mode": "markers",
         "name": "Lunatone",
         "textfont": {
          "color": "#4D5663"
         },
         "type": "scatter",
         "x": [
          440
         ],
         "y": [
          70
         ]
        },
        {
         "marker": {
          "color": "rgba(128, 0, 128, 0.6299999999999997)",
          "line": {
           "width": 1.3
          },
          "opacity": 0.8,
          "size": 12,
          "symbol": "circle"
         },
         "mode": "markers",
         "name": "Solrock",
         "textfont": {
          "color": "#4D5663"
         },
         "type": "scatter",
         "x": [
          440
         ],
         "y": [
          70
         ]
        },
        {
         "marker": {
          "color": "rgba(219, 64, 82, 0.6299999999999997)",
          "line": {
           "width": 1.3
          },
          "opacity": 0.8,
          "size": 12,
          "symbol": "circle"
         },
         "mode": "markers",
         "name": "Barboach",
         "textfont": {
          "color": "#4D5663"
         },
         "type": "scatter",
         "x": [
          288
         ],
         "y": [
          60
         ]
        },
        {
         "marker": {
          "color": "rgba(0, 128, 128, 0.6299999999999997)",
          "line": {
           "width": 1.3
          },
          "opacity": 0.8,
          "size": 12,
          "symbol": "circle"
         },
         "mode": "markers",
         "name": "Whiscash",
         "textfont": {
          "color": "#4D5663"
         },
         "type": "scatter",
         "x": [
          468
         ],
         "y": [
          60
         ]
        },
        {
         "marker": {
          "color": "rgba(255, 255, 51, 0.6299999999999997)",
          "line": {
           "width": 1.3
          },
          "opacity": 0.8,
          "size": 12,
          "symbol": "circle"
         },
         "mode": "markers",
         "name": "Corphish",
         "textfont": {
          "color": "#4D5663"
         },
         "type": "scatter",
         "x": [
          308
         ],
         "y": [
          35
         ]
        },
        {
         "marker": {
          "color": "rgba(128, 128, 0, 0.6299999999999997)",
          "line": {
           "width": 1.3
          },
          "opacity": 0.8,
          "size": 12,
          "symbol": "circle"
         },
         "mode": "markers",
         "name": "Crawdaunt",
         "textfont": {
          "color": "#4D5663"
         },
         "type": "scatter",
         "x": [
          468
         ],
         "y": [
          55
         ]
        },
        {
         "marker": {
          "color": "rgba(251, 128, 114, 0.6299999999999997)",
          "line": {
           "width": 1.3
          },
          "opacity": 0.8,
          "size": 12,
          "symbol": "circle"
         },
         "mode": "markers",
         "name": "Baltoy",
         "textfont": {
          "color": "#4D5663"
         },
         "type": "scatter",
         "x": [
          300
         ],
         "y": [
          55
         ]
        },
        {
         "marker": {
          "color": "rgba(128, 177, 211, 0.6299999999999997)",
          "line": {
           "width": 1.3
          },
          "opacity": 0.8,
          "size": 12,
          "symbol": "circle"
         },
         "mode": "markers",
         "name": "Claydol",
         "textfont": {
          "color": "#4D5663"
         },
         "type": "scatter",
         "x": [
          500
         ],
         "y": [
          75
         ]
        },
        {
         "marker": {
          "color": "rgba(255, 153, 51, 0.6299999999999997)",
          "line": {
           "width": 1.3
          },
          "opacity": 0.8,
          "size": 12,
          "symbol": "circle"
         },
         "mode": "markers",
         "name": "Lileep",
         "textfont": {
          "color": "#4D5663"
         },
         "type": "scatter",
         "x": [
          355
         ],
         "y": [
          23
         ]
        },
        {
         "marker": {
          "color": "rgba(55, 128, 191, 0.6299999999999997)",
          "line": {
           "width": 1.3
          },
          "opacity": 0.8,
          "size": 12,
          "symbol": "circle"
         },
         "mode": "markers",
         "name": "Cradily",
         "textfont": {
          "color": "#4D5663"
         },
         "type": "scatter",
         "x": [
          495
         ],
         "y": [
          43
         ]
        },
        {
         "marker": {
          "color": "rgba(50, 171, 96, 0.6299999999999997)",
          "line": {
           "width": 1.3
          },
          "opacity": 0.8,
          "size": 12,
          "symbol": "circle"
         },
         "mode": "markers",
         "name": "Anorith",
         "textfont": {
          "color": "#4D5663"
         },
         "type": "scatter",
         "x": [
          355
         ],
         "y": [
          75
         ]
        },
        {
         "marker": {
          "color": "rgba(50, 171, 96, 0.6199999999999997)",
          "line": {
           "width": 1.3
          },
          "opacity": 0.8,
          "size": 12,
          "symbol": "circle"
         },
         "mode": "markers",
         "name": "Armaldo",
         "textfont": {
          "color": "#4D5663"
         },
         "type": "scatter",
         "x": [
          495
         ],
         "y": [
          45
         ]
        },
        {
         "marker": {
          "color": "rgba(128, 0, 128, 0.6199999999999997)",
          "line": {
           "width": 1.3
          },
          "opacity": 0.8,
          "size": 12,
          "symbol": "circle"
         },
         "mode": "markers",
         "name": "Feebas",
         "textfont": {
          "color": "#4D5663"
         },
         "type": "scatter",
         "x": [
          200
         ],
         "y": [
          80
         ]
        },
        {
         "marker": {
          "color": "rgba(219, 64, 82, 0.6199999999999997)",
          "line": {
           "width": 1.3
          },
          "opacity": 0.8,
          "size": 12,
          "symbol": "circle"
         },
         "mode": "markers",
         "name": "Milotic",
         "textfont": {
          "color": "#4D5663"
         },
         "type": "scatter",
         "x": [
          540
         ],
         "y": [
          81
         ]
        },
        {
         "marker": {
          "color": "rgba(0, 128, 128, 0.6199999999999997)",
          "line": {
           "width": 1.3
          },
          "opacity": 0.8,
          "size": 12,
          "symbol": "circle"
         },
         "mode": "markers",
         "name": "Castform",
         "textfont": {
          "color": "#4D5663"
         },
         "type": "scatter",
         "x": [
          420
         ],
         "y": [
          70
         ]
        },
        {
         "marker": {
          "color": "rgba(255, 255, 51, 0.6199999999999997)",
          "line": {
           "width": 1.3
          },
          "opacity": 0.8,
          "size": 12,
          "symbol": "circle"
         },
         "mode": "markers",
         "name": "Kecleon",
         "textfont": {
          "color": "#4D5663"
         },
         "type": "scatter",
         "x": [
          440
         ],
         "y": [
          40
         ]
        },
        {
         "marker": {
          "color": "rgba(128, 128, 0, 0.6199999999999997)",
          "line": {
           "width": 1.3
          },
          "opacity": 0.8,
          "size": 12,
          "symbol": "circle"
         },
         "mode": "markers",
         "name": "Shuppet",
         "textfont": {
          "color": "#4D5663"
         },
         "type": "scatter",
         "x": [
          295
         ],
         "y": [
          45
         ]
        },
        {
         "marker": {
          "color": "rgba(251, 128, 114, 0.6199999999999997)",
          "line": {
           "width": 1.3
          },
          "opacity": 0.8,
          "size": 12,
          "symbol": "circle"
         },
         "mode": "markers",
         "name": "Banette",
         "textfont": {
          "color": "#4D5663"
         },
         "type": "scatter",
         "x": [
          455
         ],
         "y": [
          65
         ]
        },
        {
         "marker": {
          "color": "rgba(128, 177, 211, 0.6199999999999997)",
          "line": {
           "width": 1.3
          },
          "opacity": 0.8,
          "size": 12,
          "symbol": "circle"
         },
         "mode": "markers",
         "name": "BanetteMega Banette",
         "textfont": {
          "color": "#4D5663"
         },
         "type": "scatter",
         "x": [
          555
         ],
         "y": [
          75
         ]
        },
        {
         "marker": {
          "color": "rgba(255, 153, 51, 0.6199999999999997)",
          "line": {
           "width": 1.3
          },
          "opacity": 0.8,
          "size": 12,
          "symbol": "circle"
         },
         "mode": "markers",
         "name": "Duskull",
         "textfont": {
          "color": "#4D5663"
         },
         "type": "scatter",
         "x": [
          295
         ],
         "y": [
          25
         ]
        },
        {
         "marker": {
          "color": "rgba(55, 128, 191, 0.6199999999999997)",
          "line": {
           "width": 1.3
          },
          "opacity": 0.8,
          "size": 12,
          "symbol": "circle"
         },
         "mode": "markers",
         "name": "Dusclops",
         "textfont": {
          "color": "#4D5663"
         },
         "type": "scatter",
         "x": [
          455
         ],
         "y": [
          25
         ]
        },
        {
         "marker": {
          "color": "rgba(55, 128, 191, 0.6099999999999997)",
          "line": {
           "width": 1.3
          },
          "opacity": 0.8,
          "size": 12,
          "symbol": "circle"
         },
         "mode": "markers",
         "name": "Tropius",
         "textfont": {
          "color": "#4D5663"
         },
         "type": "scatter",
         "x": [
          460
         ],
         "y": [
          51
         ]
        },
        {
         "marker": {
          "color": "rgba(50, 171, 96, 0.6099999999999997)",
          "line": {
           "width": 1.3
          },
          "opacity": 0.8,
          "size": 12,
          "symbol": "circle"
         },
         "mode": "markers",
         "name": "Chimecho",
         "textfont": {
          "color": "#4D5663"
         },
         "type": "scatter",
         "x": [
          425
         ],
         "y": [
          65
         ]
        },
        {
         "marker": {
          "color": "rgba(128, 0, 128, 0.6099999999999997)",
          "line": {
           "width": 1.3
          },
          "opacity": 0.8,
          "size": 12,
          "symbol": "circle"
         },
         "mode": "markers",
         "name": "Absol",
         "textfont": {
          "color": "#4D5663"
         },
         "type": "scatter",
         "x": [
          465
         ],
         "y": [
          75
         ]
        },
        {
         "marker": {
          "color": "rgba(219, 64, 82, 0.6099999999999997)",
          "line": {
           "width": 1.3
          },
          "opacity": 0.8,
          "size": 12,
          "symbol": "circle"
         },
         "mode": "markers",
         "name": "AbsolMega Absol",
         "textfont": {
          "color": "#4D5663"
         },
         "type": "scatter",
         "x": [
          565
         ],
         "y": [
          115
         ]
        },
        {
         "marker": {
          "color": "rgba(0, 128, 128, 0.6099999999999997)",
          "line": {
           "width": 1.3
          },
          "opacity": 0.8,
          "size": 12,
          "symbol": "circle"
         },
         "mode": "markers",
         "name": "Wynaut",
         "textfont": {
          "color": "#4D5663"
         },
         "type": "scatter",
         "x": [
          260
         ],
         "y": [
          23
         ]
        },
        {
         "marker": {
          "color": "rgba(255, 255, 51, 0.6099999999999997)",
          "line": {
           "width": 1.3
          },
          "opacity": 0.8,
          "size": 12,
          "symbol": "circle"
         },
         "mode": "markers",
         "name": "Snorunt",
         "textfont": {
          "color": "#4D5663"
         },
         "type": "scatter",
         "x": [
          300
         ],
         "y": [
          50
         ]
        },
        {
         "marker": {
          "color": "rgba(128, 128, 0, 0.6099999999999997)",
          "line": {
           "width": 1.3
          },
          "opacity": 0.8,
          "size": 12,
          "symbol": "circle"
         },
         "mode": "markers",
         "name": "Glalie",
         "textfont": {
          "color": "#4D5663"
         },
         "type": "scatter",
         "x": [
          480
         ],
         "y": [
          80
         ]
        },
        {
         "marker": {
          "color": "rgba(251, 128, 114, 0.6099999999999997)",
          "line": {
           "width": 1.3
          },
          "opacity": 0.8,
          "size": 12,
          "symbol": "circle"
         },
         "mode": "markers",
         "name": "GlalieMega Glalie",
         "textfont": {
          "color": "#4D5663"
         },
         "type": "scatter",
         "x": [
          580
         ],
         "y": [
          100
         ]
        },
        {
         "marker": {
          "color": "rgba(128, 177, 211, 0.6099999999999997)",
          "line": {
           "width": 1.3
          },
          "opacity": 0.8,
          "size": 12,
          "symbol": "circle"
         },
         "mode": "markers",
         "name": "Spheal",
         "textfont": {
          "color": "#4D5663"
         },
         "type": "scatter",
         "x": [
          290
         ],
         "y": [
          25
         ]
        },
        {
         "marker": {
          "color": "rgba(255, 153, 51, 0.6099999999999997)",
          "line": {
           "width": 1.3
          },
          "opacity": 0.8,
          "size": 12,
          "symbol": "circle"
         },
         "mode": "markers",
         "name": "Sealeo",
         "textfont": {
          "color": "#4D5663"
         },
         "type": "scatter",
         "x": [
          410
         ],
         "y": [
          45
         ]
        },
        {
         "marker": {
          "color": "rgba(255, 153, 51, 0.5999999999999996)",
          "line": {
           "width": 1.3
          },
          "opacity": 0.8,
          "size": 12,
          "symbol": "circle"
         },
         "mode": "markers",
         "name": "Walrein",
         "textfont": {
          "color": "#4D5663"
         },
         "type": "scatter",
         "x": [
          530
         ],
         "y": [
          65
         ]
        },
        {
         "marker": {
          "color": "rgba(55, 128, 191, 0.5999999999999996)",
          "line": {
           "width": 1.3
          },
          "opacity": 0.8,
          "size": 12,
          "symbol": "circle"
         },
         "mode": "markers",
         "name": "Clamperl",
         "textfont": {
          "color": "#4D5663"
         },
         "type": "scatter",
         "x": [
          345
         ],
         "y": [
          32
         ]
        },
        {
         "marker": {
          "color": "rgba(50, 171, 96, 0.5999999999999996)",
          "line": {
           "width": 1.3
          },
          "opacity": 0.8,
          "size": 12,
          "symbol": "circle"
         },
         "mode": "markers",
         "name": "Huntail",
         "textfont": {
          "color": "#4D5663"
         },
         "type": "scatter",
         "x": [
          485
         ],
         "y": [
          52
         ]
        },
        {
         "marker": {
          "color": "rgba(128, 0, 128, 0.5999999999999996)",
          "line": {
           "width": 1.3
          },
          "opacity": 0.8,
          "size": 12,
          "symbol": "circle"
         },
         "mode": "markers",
         "name": "Gorebyss",
         "textfont": {
          "color": "#4D5663"
         },
         "type": "scatter",
         "x": [
          485
         ],
         "y": [
          52
         ]
        },
        {
         "marker": {
          "color": "rgba(219, 64, 82, 0.5999999999999996)",
          "line": {
           "width": 1.3
          },
          "opacity": 0.8,
          "size": 12,
          "symbol": "circle"
         },
         "mode": "markers",
         "name": "Relicanth",
         "textfont": {
          "color": "#4D5663"
         },
         "type": "scatter",
         "x": [
          485
         ],
         "y": [
          55
         ]
        },
        {
         "marker": {
          "color": "rgba(0, 128, 128, 0.5999999999999996)",
          "line": {
           "width": 1.3
          },
          "opacity": 0.8,
          "size": 12,
          "symbol": "circle"
         },
         "mode": "markers",
         "name": "Luvdisc",
         "textfont": {
          "color": "#4D5663"
         },
         "type": "scatter",
         "x": [
          330
         ],
         "y": [
          97
         ]
        },
        {
         "marker": {
          "color": "rgba(255, 255, 51, 0.5999999999999996)",
          "line": {
           "width": 1.3
          },
          "opacity": 0.8,
          "size": 12,
          "symbol": "circle"
         },
         "mode": "markers",
         "name": "Bagon",
         "textfont": {
          "color": "#4D5663"
         },
         "type": "scatter",
         "x": [
          300
         ],
         "y": [
          50
         ]
        },
        {
         "marker": {
          "color": "rgba(128, 128, 0, 0.5999999999999996)",
          "line": {
           "width": 1.3
          },
          "opacity": 0.8,
          "size": 12,
          "symbol": "circle"
         },
         "mode": "markers",
         "name": "Shelgon",
         "textfont": {
          "color": "#4D5663"
         },
         "type": "scatter",
         "x": [
          420
         ],
         "y": [
          50
         ]
        },
        {
         "marker": {
          "color": "rgba(251, 128, 114, 0.5999999999999996)",
          "line": {
           "width": 1.3
          },
          "opacity": 0.8,
          "size": 12,
          "symbol": "circle"
         },
         "mode": "markers",
         "name": "Salamence",
         "textfont": {
          "color": "#4D5663"
         },
         "type": "scatter",
         "x": [
          600
         ],
         "y": [
          100
         ]
        },
        {
         "marker": {
          "color": "rgba(128, 177, 211, 0.5999999999999996)",
          "line": {
           "width": 1.3
          },
          "opacity": 0.8,
          "size": 12,
          "symbol": "circle"
         },
         "mode": "markers",
         "name": "SalamenceMega Salamence",
         "textfont": {
          "color": "#4D5663"
         },
         "type": "scatter",
         "x": [
          700
         ],
         "y": [
          120
         ]
        },
        {
         "marker": {
          "color": "rgba(128, 177, 211, 0.5899999999999996)",
          "line": {
           "width": 1.3
          },
          "opacity": 0.8,
          "size": 12,
          "symbol": "circle"
         },
         "mode": "markers",
         "name": "Beldum",
         "textfont": {
          "color": "#4D5663"
         },
         "type": "scatter",
         "x": [
          300
         ],
         "y": [
          30
         ]
        },
        {
         "marker": {
          "color": "rgba(255, 153, 51, 0.5899999999999996)",
          "line": {
           "width": 1.3
          },
          "opacity": 0.8,
          "size": 12,
          "symbol": "circle"
         },
         "mode": "markers",
         "name": "Metang",
         "textfont": {
          "color": "#4D5663"
         },
         "type": "scatter",
         "x": [
          420
         ],
         "y": [
          50
         ]
        },
        {
         "marker": {
          "color": "rgba(55, 128, 191, 0.5899999999999996)",
          "line": {
           "width": 1.3
          },
          "opacity": 0.8,
          "size": 12,
          "symbol": "circle"
         },
         "mode": "markers",
         "name": "Metagross",
         "textfont": {
          "color": "#4D5663"
         },
         "type": "scatter",
         "x": [
          600
         ],
         "y": [
          70
         ]
        },
        {
         "marker": {
          "color": "rgba(50, 171, 96, 0.5899999999999996)",
          "line": {
           "width": 1.3
          },
          "opacity": 0.8,
          "size": 12,
          "symbol": "circle"
         },
         "mode": "markers",
         "name": "MetagrossMega Metagross",
         "textfont": {
          "color": "#4D5663"
         },
         "type": "scatter",
         "x": [
          700
         ],
         "y": [
          110
         ]
        },
        {
         "marker": {
          "color": "rgba(128, 0, 128, 0.5899999999999996)",
          "line": {
           "width": 1.3
          },
          "opacity": 0.8,
          "size": 12,
          "symbol": "circle"
         },
         "mode": "markers",
         "name": "Regirock",
         "textfont": {
          "color": "#4D5663"
         },
         "type": "scatter",
         "x": [
          580
         ],
         "y": [
          50
         ]
        },
        {
         "marker": {
          "color": "rgba(219, 64, 82, 0.5899999999999996)",
          "line": {
           "width": 1.3
          },
          "opacity": 0.8,
          "size": 12,
          "symbol": "circle"
         },
         "mode": "markers",
         "name": "Regice",
         "textfont": {
          "color": "#4D5663"
         },
         "type": "scatter",
         "x": [
          580
         ],
         "y": [
          50
         ]
        },
        {
         "marker": {
          "color": "rgba(0, 128, 128, 0.5899999999999996)",
          "line": {
           "width": 1.3
          },
          "opacity": 0.8,
          "size": 12,
          "symbol": "circle"
         },
         "mode": "markers",
         "name": "Registeel",
         "textfont": {
          "color": "#4D5663"
         },
         "type": "scatter",
         "x": [
          580
         ],
         "y": [
          50
         ]
        },
        {
         "marker": {
          "color": "rgba(255, 255, 51, 0.5899999999999996)",
          "line": {
           "width": 1.3
          },
          "opacity": 0.8,
          "size": 12,
          "symbol": "circle"
         },
         "mode": "markers",
         "name": "Latias",
         "textfont": {
          "color": "#4D5663"
         },
         "type": "scatter",
         "x": [
          600
         ],
         "y": [
          110
         ]
        },
        {
         "marker": {
          "color": "rgba(128, 128, 0, 0.5899999999999996)",
          "line": {
           "width": 1.3
          },
          "opacity": 0.8,
          "size": 12,
          "symbol": "circle"
         },
         "mode": "markers",
         "name": "LatiasMega Latias",
         "textfont": {
          "color": "#4D5663"
         },
         "type": "scatter",
         "x": [
          700
         ],
         "y": [
          110
         ]
        },
        {
         "marker": {
          "color": "rgba(251, 128, 114, 0.5899999999999996)",
          "line": {
           "width": 1.3
          },
          "opacity": 0.8,
          "size": 12,
          "symbol": "circle"
         },
         "mode": "markers",
         "name": "Latios",
         "textfont": {
          "color": "#4D5663"
         },
         "type": "scatter",
         "x": [
          600
         ],
         "y": [
          110
         ]
        },
        {
         "marker": {
          "color": "rgba(251, 128, 114, 0.5799999999999996)",
          "line": {
           "width": 1.3
          },
          "opacity": 0.8,
          "size": 12,
          "symbol": "circle"
         },
         "mode": "markers",
         "name": "LatiosMega Latios",
         "textfont": {
          "color": "#4D5663"
         },
         "type": "scatter",
         "x": [
          700
         ],
         "y": [
          110
         ]
        },
        {
         "marker": {
          "color": "rgba(128, 177, 211, 0.5799999999999996)",
          "line": {
           "width": 1.3
          },
          "opacity": 0.8,
          "size": 12,
          "symbol": "circle"
         },
         "mode": "markers",
         "name": "Kyogre",
         "textfont": {
          "color": "#4D5663"
         },
         "type": "scatter",
         "x": [
          670
         ],
         "y": [
          90
         ]
        },
        {
         "marker": {
          "color": "rgba(255, 153, 51, 0.5799999999999996)",
          "line": {
           "width": 1.3
          },
          "opacity": 0.8,
          "size": 12,
          "symbol": "circle"
         },
         "mode": "markers",
         "name": "KyogrePrimal Kyogre",
         "textfont": {
          "color": "#4D5663"
         },
         "type": "scatter",
         "x": [
          770
         ],
         "y": [
          90
         ]
        },
        {
         "marker": {
          "color": "rgba(55, 128, 191, 0.5799999999999996)",
          "line": {
           "width": 1.3
          },
          "opacity": 0.8,
          "size": 12,
          "symbol": "circle"
         },
         "mode": "markers",
         "name": "Groudon",
         "textfont": {
          "color": "#4D5663"
         },
         "type": "scatter",
         "x": [
          670
         ],
         "y": [
          90
         ]
        },
        {
         "marker": {
          "color": "rgba(50, 171, 96, 0.5799999999999996)",
          "line": {
           "width": 1.3
          },
          "opacity": 0.8,
          "size": 12,
          "symbol": "circle"
         },
         "mode": "markers",
         "name": "GroudonPrimal Groudon",
         "textfont": {
          "color": "#4D5663"
         },
         "type": "scatter",
         "x": [
          770
         ],
         "y": [
          90
         ]
        },
        {
         "marker": {
          "color": "rgba(128, 0, 128, 0.5799999999999996)",
          "line": {
           "width": 1.3
          },
          "opacity": 0.8,
          "size": 12,
          "symbol": "circle"
         },
         "mode": "markers",
         "name": "Rayquaza",
         "textfont": {
          "color": "#4D5663"
         },
         "type": "scatter",
         "x": [
          680
         ],
         "y": [
          95
         ]
        },
        {
         "marker": {
          "color": "rgba(219, 64, 82, 0.5799999999999996)",
          "line": {
           "width": 1.3
          },
          "opacity": 0.8,
          "size": 12,
          "symbol": "circle"
         },
         "mode": "markers",
         "name": "RayquazaMega Rayquaza",
         "textfont": {
          "color": "#4D5663"
         },
         "type": "scatter",
         "x": [
          780
         ],
         "y": [
          115
         ]
        },
        {
         "marker": {
          "color": "rgba(0, 128, 128, 0.5799999999999996)",
          "line": {
           "width": 1.3
          },
          "opacity": 0.8,
          "size": 12,
          "symbol": "circle"
         },
         "mode": "markers",
         "name": "Jirachi",
         "textfont": {
          "color": "#4D5663"
         },
         "type": "scatter",
         "x": [
          600
         ],
         "y": [
          100
         ]
        },
        {
         "marker": {
          "color": "rgba(255, 255, 51, 0.5799999999999996)",
          "line": {
           "width": 1.3
          },
          "opacity": 0.8,
          "size": 12,
          "symbol": "circle"
         },
         "mode": "markers",
         "name": "DeoxysNormal Forme",
         "textfont": {
          "color": "#4D5663"
         },
         "type": "scatter",
         "x": [
          600
         ],
         "y": [
          150
         ]
        },
        {
         "marker": {
          "color": "rgba(128, 128, 0, 0.5799999999999996)",
          "line": {
           "width": 1.3
          },
          "opacity": 0.8,
          "size": 12,
          "symbol": "circle"
         },
         "mode": "markers",
         "name": "DeoxysAttack Forme",
         "textfont": {
          "color": "#4D5663"
         },
         "type": "scatter",
         "x": [
          600
         ],
         "y": [
          150
         ]
        },
        {
         "marker": {
          "color": "rgba(128, 128, 0, 0.5699999999999996)",
          "line": {
           "width": 1.3
          },
          "opacity": 0.8,
          "size": 12,
          "symbol": "circle"
         },
         "mode": "markers",
         "name": "DeoxysDefense Forme",
         "textfont": {
          "color": "#4D5663"
         },
         "type": "scatter",
         "x": [
          600
         ],
         "y": [
          90
         ]
        },
        {
         "marker": {
          "color": "rgba(251, 128, 114, 0.5699999999999996)",
          "line": {
           "width": 1.3
          },
          "opacity": 0.8,
          "size": 12,
          "symbol": "circle"
         },
         "mode": "markers",
         "name": "DeoxysSpeed Forme",
         "textfont": {
          "color": "#4D5663"
         },
         "type": "scatter",
         "x": [
          600
         ],
         "y": [
          180
         ]
        },
        {
         "marker": {
          "color": "rgba(128, 177, 211, 0.5699999999999996)",
          "line": {
           "width": 1.3
          },
          "opacity": 0.8,
          "size": 12,
          "symbol": "circle"
         },
         "mode": "markers",
         "name": "Turtwig",
         "textfont": {
          "color": "#4D5663"
         },
         "type": "scatter",
         "x": [
          318
         ],
         "y": [
          31
         ]
        },
        {
         "marker": {
          "color": "rgba(255, 153, 51, 0.5699999999999996)",
          "line": {
           "width": 1.3
          },
          "opacity": 0.8,
          "size": 12,
          "symbol": "circle"
         },
         "mode": "markers",
         "name": "Grotle",
         "textfont": {
          "color": "#4D5663"
         },
         "type": "scatter",
         "x": [
          405
         ],
         "y": [
          36
         ]
        },
        {
         "marker": {
          "color": "rgba(55, 128, 191, 0.5699999999999996)",
          "line": {
           "width": 1.3
          },
          "opacity": 0.8,
          "size": 12,
          "symbol": "circle"
         },
         "mode": "markers",
         "name": "Torterra",
         "textfont": {
          "color": "#4D5663"
         },
         "type": "scatter",
         "x": [
          525
         ],
         "y": [
          56
         ]
        },
        {
         "marker": {
          "color": "rgba(50, 171, 96, 0.5699999999999996)",
          "line": {
           "width": 1.3
          },
          "opacity": 0.8,
          "size": 12,
          "symbol": "circle"
         },
         "mode": "markers",
         "name": "Chimchar",
         "textfont": {
          "color": "#4D5663"
         },
         "type": "scatter",
         "x": [
          309
         ],
         "y": [
          61
         ]
        },
        {
         "marker": {
          "color": "rgba(128, 0, 128, 0.5699999999999996)",
          "line": {
           "width": 1.3
          },
          "opacity": 0.8,
          "size": 12,
          "symbol": "circle"
         },
         "mode": "markers",
         "name": "Monferno",
         "textfont": {
          "color": "#4D5663"
         },
         "type": "scatter",
         "x": [
          405
         ],
         "y": [
          81
         ]
        },
        {
         "marker": {
          "color": "rgba(219, 64, 82, 0.5699999999999996)",
          "line": {
           "width": 1.3
          },
          "opacity": 0.8,
          "size": 12,
          "symbol": "circle"
         },
         "mode": "markers",
         "name": "Infernape",
         "textfont": {
          "color": "#4D5663"
         },
         "type": "scatter",
         "x": [
          534
         ],
         "y": [
          108
         ]
        },
        {
         "marker": {
          "color": "rgba(0, 128, 128, 0.5699999999999996)",
          "line": {
           "width": 1.3
          },
          "opacity": 0.8,
          "size": 12,
          "symbol": "circle"
         },
         "mode": "markers",
         "name": "Piplup",
         "textfont": {
          "color": "#4D5663"
         },
         "type": "scatter",
         "x": [
          314
         ],
         "y": [
          40
         ]
        },
        {
         "marker": {
          "color": "rgba(255, 255, 51, 0.5699999999999996)",
          "line": {
           "width": 1.3
          },
          "opacity": 0.8,
          "size": 12,
          "symbol": "circle"
         },
         "mode": "markers",
         "name": "Prinplup",
         "textfont": {
          "color": "#4D5663"
         },
         "type": "scatter",
         "x": [
          405
         ],
         "y": [
          50
         ]
        },
        {
         "marker": {
          "color": "rgba(255, 255, 51, 0.5599999999999996)",
          "line": {
           "width": 1.3
          },
          "opacity": 0.8,
          "size": 12,
          "symbol": "circle"
         },
         "mode": "markers",
         "name": "Empoleon",
         "textfont": {
          "color": "#4D5663"
         },
         "type": "scatter",
         "x": [
          530
         ],
         "y": [
          60
         ]
        },
        {
         "marker": {
          "color": "rgba(128, 128, 0, 0.5599999999999996)",
          "line": {
           "width": 1.3
          },
          "opacity": 0.8,
          "size": 12,
          "symbol": "circle"
         },
         "mode": "markers",
         "name": "Starly",
         "textfont": {
          "color": "#4D5663"
         },
         "type": "scatter",
         "x": [
          245
         ],
         "y": [
          60
         ]
        },
        {
         "marker": {
          "color": "rgba(251, 128, 114, 0.5599999999999996)",
          "line": {
           "width": 1.3
          },
          "opacity": 0.8,
          "size": 12,
          "symbol": "circle"
         },
         "mode": "markers",
         "name": "Staravia",
         "textfont": {
          "color": "#4D5663"
         },
         "type": "scatter",
         "x": [
          340
         ],
         "y": [
          80
         ]
        },
        {
         "marker": {
          "color": "rgba(128, 177, 211, 0.5599999999999996)",
          "line": {
           "width": 1.3
          },
          "opacity": 0.8,
          "size": 12,
          "symbol": "circle"
         },
         "mode": "markers",
         "name": "Staraptor",
         "textfont": {
          "color": "#4D5663"
         },
         "type": "scatter",
         "x": [
          485
         ],
         "y": [
          100
         ]
        },
        {
         "marker": {
          "color": "rgba(255, 153, 51, 0.5599999999999996)",
          "line": {
           "width": 1.3
          },
          "opacity": 0.8,
          "size": 12,
          "symbol": "circle"
         },
         "mode": "markers",
         "name": "Bidoof",
         "textfont": {
          "color": "#4D5663"
         },
         "type": "scatter",
         "x": [
          250
         ],
         "y": [
          31
         ]
        },
        {
         "marker": {
          "color": "rgba(55, 128, 191, 0.5599999999999996)",
          "line": {
           "width": 1.3
          },
          "opacity": 0.8,
          "size": 12,
          "symbol": "circle"
         },
         "mode": "markers",
         "name": "Bibarel",
         "textfont": {
          "color": "#4D5663"
         },
         "type": "scatter",
         "x": [
          410
         ],
         "y": [
          71
         ]
        },
        {
         "marker": {
          "color": "rgba(50, 171, 96, 0.5599999999999996)",
          "line": {
           "width": 1.3
          },
          "opacity": 0.8,
          "size": 12,
          "symbol": "circle"
         },
         "mode": "markers",
         "name": "Kricketot",
         "textfont": {
          "color": "#4D5663"
         },
         "type": "scatter",
         "x": [
          194
         ],
         "y": [
          25
         ]
        },
        {
         "marker": {
          "color": "rgba(128, 0, 128, 0.5599999999999996)",
          "line": {
           "width": 1.3
          },
          "opacity": 0.8,
          "size": 12,
          "symbol": "circle"
         },
         "mode": "markers",
         "name": "Kricketune",
         "textfont": {
          "color": "#4D5663"
         },
         "type": "scatter",
         "x": [
          384
         ],
         "y": [
          65
         ]
        },
        {
         "marker": {
          "color": "rgba(219, 64, 82, 0.5599999999999996)",
          "line": {
           "width": 1.3
          },
          "opacity": 0.8,
          "size": 12,
          "symbol": "circle"
         },
         "mode": "markers",
         "name": "Shinx",
         "textfont": {
          "color": "#4D5663"
         },
         "type": "scatter",
         "x": [
          263
         ],
         "y": [
          45
         ]
        },
        {
         "marker": {
          "color": "rgba(0, 128, 128, 0.5599999999999996)",
          "line": {
           "width": 1.3
          },
          "opacity": 0.8,
          "size": 12,
          "symbol": "circle"
         },
         "mode": "markers",
         "name": "Luxio",
         "textfont": {
          "color": "#4D5663"
         },
         "type": "scatter",
         "x": [
          363
         ],
         "y": [
          60
         ]
        },
        {
         "marker": {
          "color": "rgba(0, 128, 128, 0.5499999999999996)",
          "line": {
           "width": 1.3
          },
          "opacity": 0.8,
          "size": 12,
          "symbol": "circle"
         },
         "mode": "markers",
         "name": "Luxray",
         "textfont": {
          "color": "#4D5663"
         },
         "type": "scatter",
         "x": [
          523
         ],
         "y": [
          70
         ]
        },
        {
         "marker": {
          "color": "rgba(255, 255, 51, 0.5499999999999996)",
          "line": {
           "width": 1.3
          },
          "opacity": 0.8,
          "size": 12,
          "symbol": "circle"
         },
         "mode": "markers",
         "name": "Budew",
         "textfont": {
          "color": "#4D5663"
         },
         "type": "scatter",
         "x": [
          280
         ],
         "y": [
          55
         ]
        },
        {
         "marker": {
          "color": "rgba(128, 128, 0, 0.5499999999999996)",
          "line": {
           "width": 1.3
          },
          "opacity": 0.8,
          "size": 12,
          "symbol": "circle"
         },
         "mode": "markers",
         "name": "Roserade",
         "textfont": {
          "color": "#4D5663"
         },
         "type": "scatter",
         "x": [
          515
         ],
         "y": [
          90
         ]
        },
        {
         "marker": {
          "color": "rgba(251, 128, 114, 0.5499999999999996)",
          "line": {
           "width": 1.3
          },
          "opacity": 0.8,
          "size": 12,
          "symbol": "circle"
         },
         "mode": "markers",
         "name": "Cranidos",
         "textfont": {
          "color": "#4D5663"
         },
         "type": "scatter",
         "x": [
          350
         ],
         "y": [
          58
         ]
        },
        {
         "marker": {
          "color": "rgba(128, 177, 211, 0.5499999999999996)",
          "line": {
           "width": 1.3
          },
          "opacity": 0.8,
          "size": 12,
          "symbol": "circle"
         },
         "mode": "markers",
         "name": "Rampardos",
         "textfont": {
          "color": "#4D5663"
         },
         "type": "scatter",
         "x": [
          495
         ],
         "y": [
          58
         ]
        },
        {
         "marker": {
          "color": "rgba(255, 153, 51, 0.5499999999999996)",
          "line": {
           "width": 1.3
          },
          "opacity": 0.8,
          "size": 12,
          "symbol": "circle"
         },
         "mode": "markers",
         "name": "Shieldon",
         "textfont": {
          "color": "#4D5663"
         },
         "type": "scatter",
         "x": [
          350
         ],
         "y": [
          30
         ]
        },
        {
         "marker": {
          "color": "rgba(55, 128, 191, 0.5499999999999996)",
          "line": {
           "width": 1.3
          },
          "opacity": 0.8,
          "size": 12,
          "symbol": "circle"
         },
         "mode": "markers",
         "name": "Bastiodon",
         "textfont": {
          "color": "#4D5663"
         },
         "type": "scatter",
         "x": [
          495
         ],
         "y": [
          30
         ]
        },
        {
         "marker": {
          "color": "rgba(50, 171, 96, 0.5499999999999996)",
          "line": {
           "width": 1.3
          },
          "opacity": 0.8,
          "size": 12,
          "symbol": "circle"
         },
         "mode": "markers",
         "name": "Burmy",
         "textfont": {
          "color": "#4D5663"
         },
         "type": "scatter",
         "x": [
          224
         ],
         "y": [
          36
         ]
        },
        {
         "marker": {
          "color": "rgba(128, 0, 128, 0.5499999999999996)",
          "line": {
           "width": 1.3
          },
          "opacity": 0.8,
          "size": 12,
          "symbol": "circle"
         },
         "mode": "markers",
         "name": "WormadamPlant Cloak",
         "textfont": {
          "color": "#4D5663"
         },
         "type": "scatter",
         "x": [
          424
         ],
         "y": [
          36
         ]
        },
        {
         "marker": {
          "color": "rgba(219, 64, 82, 0.5499999999999996)",
          "line": {
           "width": 1.3
          },
          "opacity": 0.8,
          "size": 12,
          "symbol": "circle"
         },
         "mode": "markers",
         "name": "WormadamSandy Cloak",
         "textfont": {
          "color": "#4D5663"
         },
         "type": "scatter",
         "x": [
          424
         ],
         "y": [
          36
         ]
        },
        {
         "marker": {
          "color": "rgba(219, 64, 82, 0.5399999999999996)",
          "line": {
           "width": 1.3
          },
          "opacity": 0.8,
          "size": 12,
          "symbol": "circle"
         },
         "mode": "markers",
         "name": "WormadamTrash Cloak",
         "textfont": {
          "color": "#4D5663"
         },
         "type": "scatter",
         "x": [
          424
         ],
         "y": [
          36
         ]
        },
        {
         "marker": {
          "color": "rgba(0, 128, 128, 0.5399999999999996)",
          "line": {
           "width": 1.3
          },
          "opacity": 0.8,
          "size": 12,
          "symbol": "circle"
         },
         "mode": "markers",
         "name": "Mothim",
         "textfont": {
          "color": "#4D5663"
         },
         "type": "scatter",
         "x": [
          424
         ],
         "y": [
          66
         ]
        },
        {
         "marker": {
          "color": "rgba(255, 255, 51, 0.5399999999999996)",
          "line": {
           "width": 1.3
          },
          "opacity": 0.8,
          "size": 12,
          "symbol": "circle"
         },
         "mode": "markers",
         "name": "Combee",
         "textfont": {
          "color": "#4D5663"
         },
         "type": "scatter",
         "x": [
          244
         ],
         "y": [
          70
         ]
        },
        {
         "marker": {
          "color": "rgba(128, 128, 0, 0.5399999999999996)",
          "line": {
           "width": 1.3
          },
          "opacity": 0.8,
          "size": 12,
          "symbol": "circle"
         },
         "mode": "markers",
         "name": "Vespiquen",
         "textfont": {
          "color": "#4D5663"
         },
         "type": "scatter",
         "x": [
          474
         ],
         "y": [
          40
         ]
        },
        {
         "marker": {
          "color": "rgba(251, 128, 114, 0.5399999999999996)",
          "line": {
           "width": 1.3
          },
          "opacity": 0.8,
          "size": 12,
          "symbol": "circle"
         },
         "mode": "markers",
         "name": "Pachirisu",
         "textfont": {
          "color": "#4D5663"
         },
         "type": "scatter",
         "x": [
          405
         ],
         "y": [
          95
         ]
        },
        {
         "marker": {
          "color": "rgba(128, 177, 211, 0.5399999999999996)",
          "line": {
           "width": 1.3
          },
          "opacity": 0.8,
          "size": 12,
          "symbol": "circle"
         },
         "mode": "markers",
         "name": "Buizel",
         "textfont": {
          "color": "#4D5663"
         },
         "type": "scatter",
         "x": [
          330
         ],
         "y": [
          85
         ]
        },
        {
         "marker": {
          "color": "rgba(255, 153, 51, 0.5399999999999996)",
          "line": {
           "width": 1.3
          },
          "opacity": 0.8,
          "size": 12,
          "symbol": "circle"
         },
         "mode": "markers",
         "name": "Floatzel",
         "textfont": {
          "color": "#4D5663"
         },
         "type": "scatter",
         "x": [
          495
         ],
         "y": [
          115
         ]
        },
        {
         "marker": {
          "color": "rgba(55, 128, 191, 0.5399999999999996)",
          "line": {
           "width": 1.3
          },
          "opacity": 0.8,
          "size": 12,
          "symbol": "circle"
         },
         "mode": "markers",
         "name": "Cherubi",
         "textfont": {
          "color": "#4D5663"
         },
         "type": "scatter",
         "x": [
          275
         ],
         "y": [
          35
         ]
        },
        {
         "marker": {
          "color": "rgba(50, 171, 96, 0.5399999999999996)",
          "line": {
           "width": 1.3
          },
          "opacity": 0.8,
          "size": 12,
          "symbol": "circle"
         },
         "mode": "markers",
         "name": "Cherrim",
         "textfont": {
          "color": "#4D5663"
         },
         "type": "scatter",
         "x": [
          450
         ],
         "y": [
          85
         ]
        },
        {
         "marker": {
          "color": "rgba(128, 0, 128, 0.5399999999999996)",
          "line": {
           "width": 1.3
          },
          "opacity": 0.8,
          "size": 12,
          "symbol": "circle"
         },
         "mode": "markers",
         "name": "Shellos",
         "textfont": {
          "color": "#4D5663"
         },
         "type": "scatter",
         "x": [
          325
         ],
         "y": [
          34
         ]
        },
        {
         "marker": {
          "color": "rgba(128, 0, 128, 0.5299999999999996)",
          "line": {
           "width": 1.3
          },
          "opacity": 0.8,
          "size": 12,
          "symbol": "circle"
         },
         "mode": "markers",
         "name": "Gastrodon",
         "textfont": {
          "color": "#4D5663"
         },
         "type": "scatter",
         "x": [
          475
         ],
         "y": [
          39
         ]
        },
        {
         "marker": {
          "color": "rgba(219, 64, 82, 0.5299999999999996)",
          "line": {
           "width": 1.3
          },
          "opacity": 0.8,
          "size": 12,
          "symbol": "circle"
         },
         "mode": "markers",
         "name": "Ambipom",
         "textfont": {
          "color": "#4D5663"
         },
         "type": "scatter",
         "x": [
          482
         ],
         "y": [
          115
         ]
        },
        {
         "marker": {
          "color": "rgba(0, 128, 128, 0.5299999999999996)",
          "line": {
           "width": 1.3
          },
          "opacity": 0.8,
          "size": 12,
          "symbol": "circle"
         },
         "mode": "markers",
         "name": "Drifloon",
         "textfont": {
          "color": "#4D5663"
         },
         "type": "scatter",
         "x": [
          348
         ],
         "y": [
          70
         ]
        },
        {
         "marker": {
          "color": "rgba(255, 255, 51, 0.5299999999999996)",
          "line": {
           "width": 1.3
          },
          "opacity": 0.8,
          "size": 12,
          "symbol": "circle"
         },
         "mode": "markers",
         "name": "Drifblim",
         "textfont": {
          "color": "#4D5663"
         },
         "type": "scatter",
         "x": [
          498
         ],
         "y": [
          80
         ]
        },
        {
         "marker": {
          "color": "rgba(128, 128, 0, 0.5299999999999996)",
          "line": {
           "width": 1.3
          },
          "opacity": 0.8,
          "size": 12,
          "symbol": "circle"
         },
         "mode": "markers",
         "name": "Buneary",
         "textfont": {
          "color": "#4D5663"
         },
         "type": "scatter",
         "x": [
          350
         ],
         "y": [
          85
         ]
        },
        {
         "marker": {
          "color": "rgba(251, 128, 114, 0.5299999999999996)",
          "line": {
           "width": 1.3
          },
          "opacity": 0.8,
          "size": 12,
          "symbol": "circle"
         },
         "mode": "markers",
         "name": "Lopunny",
         "textfont": {
          "color": "#4D5663"
         },
         "type": "scatter",
         "x": [
          480
         ],
         "y": [
          105
         ]
        },
        {
         "marker": {
          "color": "rgba(128, 177, 211, 0.5299999999999996)",
          "line": {
           "width": 1.3
          },
          "opacity": 0.8,
          "size": 12,
          "symbol": "circle"
         },
         "mode": "markers",
         "name": "LopunnyMega Lopunny",
         "textfont": {
          "color": "#4D5663"
         },
         "type": "scatter",
         "x": [
          580
         ],
         "y": [
          135
         ]
        },
        {
         "marker": {
          "color": "rgba(255, 153, 51, 0.5299999999999996)",
          "line": {
           "width": 1.3
          },
          "opacity": 0.8,
          "size": 12,
          "symbol": "circle"
         },
         "mode": "markers",
         "name": "Mismagius",
         "textfont": {
          "color": "#4D5663"
         },
         "type": "scatter",
         "x": [
          495
         ],
         "y": [
          105
         ]
        },
        {
         "marker": {
          "color": "rgba(55, 128, 191, 0.5299999999999996)",
          "line": {
           "width": 1.3
          },
          "opacity": 0.8,
          "size": 12,
          "symbol": "circle"
         },
         "mode": "markers",
         "name": "Honchkrow",
         "textfont": {
          "color": "#4D5663"
         },
         "type": "scatter",
         "x": [
          505
         ],
         "y": [
          71
         ]
        },
        {
         "marker": {
          "color": "rgba(50, 171, 96, 0.5299999999999996)",
          "line": {
           "width": 1.3
          },
          "opacity": 0.8,
          "size": 12,
          "symbol": "circle"
         },
         "mode": "markers",
         "name": "Glameow",
         "textfont": {
          "color": "#4D5663"
         },
         "type": "scatter",
         "x": [
          310
         ],
         "y": [
          85
         ]
        },
        {
         "marker": {
          "color": "rgba(50, 171, 96, 0.5199999999999996)",
          "line": {
           "width": 1.3
          },
          "opacity": 0.8,
          "size": 12,
          "symbol": "circle"
         },
         "mode": "markers",
         "name": "Purugly",
         "textfont": {
          "color": "#4D5663"
         },
         "type": "scatter",
         "x": [
          452
         ],
         "y": [
          112
         ]
        },
        {
         "marker": {
          "color": "rgba(128, 0, 128, 0.5199999999999996)",
          "line": {
           "width": 1.3
          },
          "opacity": 0.8,
          "size": 12,
          "symbol": "circle"
         },
         "mode": "markers",
         "name": "Chingling",
         "textfont": {
          "color": "#4D5663"
         },
         "type": "scatter",
         "x": [
          285
         ],
         "y": [
          45
         ]
        },
        {
         "marker": {
          "color": "rgba(219, 64, 82, 0.5199999999999996)",
          "line": {
           "width": 1.3
          },
          "opacity": 0.8,
          "size": 12,
          "symbol": "circle"
         },
         "mode": "markers",
         "name": "Stunky",
         "textfont": {
          "color": "#4D5663"
         },
         "type": "scatter",
         "x": [
          329
         ],
         "y": [
          74
         ]
        },
        {
         "marker": {
          "color": "rgba(0, 128, 128, 0.5199999999999996)",
          "line": {
           "width": 1.3
          },
          "opacity": 0.8,
          "size": 12,
          "symbol": "circle"
         },
         "mode": "markers",
         "name": "Skuntank",
         "textfont": {
          "color": "#4D5663"
         },
         "type": "scatter",
         "x": [
          479
         ],
         "y": [
          84
         ]
        },
        {
         "marker": {
          "color": "rgba(255, 255, 51, 0.5199999999999996)",
          "line": {
           "width": 1.3
          },
          "opacity": 0.8,
          "size": 12,
          "symbol": "circle"
         },
         "mode": "markers",
         "name": "Bronzor",
         "textfont": {
          "color": "#4D5663"
         },
         "type": "scatter",
         "x": [
          300
         ],
         "y": [
          23
         ]
        },
        {
         "marker": {
          "color": "rgba(128, 128, 0, 0.5199999999999996)",
          "line": {
           "width": 1.3
          },
          "opacity": 0.8,
          "size": 12,
          "symbol": "circle"
         },
         "mode": "markers",
         "name": "Bronzong",
         "textfont": {
          "color": "#4D5663"
         },
         "type": "scatter",
         "x": [
          500
         ],
         "y": [
          33
         ]
        },
        {
         "marker": {
          "color": "rgba(251, 128, 114, 0.5199999999999996)",
          "line": {
           "width": 1.3
          },
          "opacity": 0.8,
          "size": 12,
          "symbol": "circle"
         },
         "mode": "markers",
         "name": "Bonsly",
         "textfont": {
          "color": "#4D5663"
         },
         "type": "scatter",
         "x": [
          290
         ],
         "y": [
          10
         ]
        },
        {
         "marker": {
          "color": "rgba(128, 177, 211, 0.5199999999999996)",
          "line": {
           "width": 1.3
          },
          "opacity": 0.8,
          "size": 12,
          "symbol": "circle"
         },
         "mode": "markers",
         "name": "Mime Jr.",
         "textfont": {
          "color": "#4D5663"
         },
         "type": "scatter",
         "x": [
          310
         ],
         "y": [
          60
         ]
        },
        {
         "marker": {
          "color": "rgba(255, 153, 51, 0.5199999999999996)",
          "line": {
           "width": 1.3
          },
          "opacity": 0.8,
          "size": 12,
          "symbol": "circle"
         },
         "mode": "markers",
         "name": "Happiny",
         "textfont": {
          "color": "#4D5663"
         },
         "type": "scatter",
         "x": [
          220
         ],
         "y": [
          30
         ]
        },
        {
         "marker": {
          "color": "rgba(55, 128, 191, 0.5199999999999996)",
          "line": {
           "width": 1.3
          },
          "opacity": 0.8,
          "size": 12,
          "symbol": "circle"
         },
         "mode": "markers",
         "name": "Chatot",
         "textfont": {
          "color": "#4D5663"
         },
         "type": "scatter",
         "x": [
          411
         ],
         "y": [
          91
         ]
        },
        {
         "marker": {
          "color": "rgba(55, 128, 191, 0.5099999999999996)",
          "line": {
           "width": 1.3
          },
          "opacity": 0.8,
          "size": 12,
          "symbol": "circle"
         },
         "mode": "markers",
         "name": "Spiritomb",
         "textfont": {
          "color": "#4D5663"
         },
         "type": "scatter",
         "x": [
          485
         ],
         "y": [
          35
         ]
        },
        {
         "marker": {
          "color": "rgba(50, 171, 96, 0.5099999999999996)",
          "line": {
           "width": 1.3
          },
          "opacity": 0.8,
          "size": 12,
          "symbol": "circle"
         },
         "mode": "markers",
         "name": "Gible",
         "textfont": {
          "color": "#4D5663"
         },
         "type": "scatter",
         "x": [
          300
         ],
         "y": [
          42
         ]
        },
        {
         "marker": {
          "color": "rgba(128, 0, 128, 0.5099999999999996)",
          "line": {
           "width": 1.3
          },
          "opacity": 0.8,
          "size": 12,
          "symbol": "circle"
         },
         "mode": "markers",
         "name": "Gabite",
         "textfont": {
          "color": "#4D5663"
         },
         "type": "scatter",
         "x": [
          410
         ],
         "y": [
          82
         ]
        },
        {
         "marker": {
          "color": "rgba(219, 64, 82, 0.5099999999999996)",
          "line": {
           "width": 1.3
          },
          "opacity": 0.8,
          "size": 12,
          "symbol": "circle"
         },
         "mode": "markers",
         "name": "Garchomp",
         "textfont": {
          "color": "#4D5663"
         },
         "type": "scatter",
         "x": [
          600
         ],
         "y": [
          102
         ]
        },
        {
         "marker": {
          "color": "rgba(0, 128, 128, 0.5099999999999996)",
          "line": {
           "width": 1.3
          },
          "opacity": 0.8,
          "size": 12,
          "symbol": "circle"
         },
         "mode": "markers",
         "name": "GarchompMega Garchomp",
         "textfont": {
          "color": "#4D5663"
         },
         "type": "scatter",
         "x": [
          700
         ],
         "y": [
          92
         ]
        },
        {
         "marker": {
          "color": "rgba(255, 255, 51, 0.5099999999999996)",
          "line": {
           "width": 1.3
          },
          "opacity": 0.8,
          "size": 12,
          "symbol": "circle"
         },
         "mode": "markers",
         "name": "Munchlax",
         "textfont": {
          "color": "#4D5663"
         },
         "type": "scatter",
         "x": [
          390
         ],
         "y": [
          5
         ]
        },
        {
         "marker": {
          "color": "rgba(128, 128, 0, 0.5099999999999996)",
          "line": {
           "width": 1.3
          },
          "opacity": 0.8,
          "size": 12,
          "symbol": "circle"
         },
         "mode": "markers",
         "name": "Riolu",
         "textfont": {
          "color": "#4D5663"
         },
         "type": "scatter",
         "x": [
          285
         ],
         "y": [
          60
         ]
        },
        {
         "marker": {
          "color": "rgba(251, 128, 114, 0.5099999999999996)",
          "line": {
           "width": 1.3
          },
          "opacity": 0.8,
          "size": 12,
          "symbol": "circle"
         },
         "mode": "markers",
         "name": "Lucario",
         "textfont": {
          "color": "#4D5663"
         },
         "type": "scatter",
         "x": [
          525
         ],
         "y": [
          90
         ]
        },
        {
         "marker": {
          "color": "rgba(128, 177, 211, 0.5099999999999996)",
          "line": {
           "width": 1.3
          },
          "opacity": 0.8,
          "size": 12,
          "symbol": "circle"
         },
         "mode": "markers",
         "name": "LucarioMega Lucario",
         "textfont": {
          "color": "#4D5663"
         },
         "type": "scatter",
         "x": [
          625
         ],
         "y": [
          112
         ]
        },
        {
         "marker": {
          "color": "rgba(255, 153, 51, 0.5099999999999996)",
          "line": {
           "width": 1.3
          },
          "opacity": 0.8,
          "size": 12,
          "symbol": "circle"
         },
         "mode": "markers",
         "name": "Hippopotas",
         "textfont": {
          "color": "#4D5663"
         },
         "type": "scatter",
         "x": [
          330
         ],
         "y": [
          32
         ]
        },
        {
         "marker": {
          "color": "rgba(255, 153, 51, 0.4999999999999996)",
          "line": {
           "width": 1.3
          },
          "opacity": 0.8,
          "size": 12,
          "symbol": "circle"
         },
         "mode": "markers",
         "name": "Hippowdon",
         "textfont": {
          "color": "#4D5663"
         },
         "type": "scatter",
         "x": [
          525
         ],
         "y": [
          47
         ]
        },
        {
         "marker": {
          "color": "rgba(55, 128, 191, 0.4999999999999996)",
          "line": {
           "width": 1.3
          },
          "opacity": 0.8,
          "size": 12,
          "symbol": "circle"
         },
         "mode": "markers",
         "name": "Skorupi",
         "textfont": {
          "color": "#4D5663"
         },
         "type": "scatter",
         "x": [
          330
         ],
         "y": [
          65
         ]
        },
        {
         "marker": {
          "color": "rgba(50, 171, 96, 0.4999999999999996)",
          "line": {
           "width": 1.3
          },
          "opacity": 0.8,
          "size": 12,
          "symbol": "circle"
         },
         "mode": "markers",
         "name": "Drapion",
         "textfont": {
          "color": "#4D5663"
         },
         "type": "scatter",
         "x": [
          500
         ],
         "y": [
          95
         ]
        },
        {
         "marker": {
          "color": "rgba(128, 0, 128, 0.4999999999999996)",
          "line": {
           "width": 1.3
          },
          "opacity": 0.8,
          "size": 12,
          "symbol": "circle"
         },
         "mode": "markers",
         "name": "Croagunk",
         "textfont": {
          "color": "#4D5663"
         },
         "type": "scatter",
         "x": [
          300
         ],
         "y": [
          50
         ]
        },
        {
         "marker": {
          "color": "rgba(219, 64, 82, 0.4999999999999996)",
          "line": {
           "width": 1.3
          },
          "opacity": 0.8,
          "size": 12,
          "symbol": "circle"
         },
         "mode": "markers",
         "name": "Toxicroak",
         "textfont": {
          "color": "#4D5663"
         },
         "type": "scatter",
         "x": [
          490
         ],
         "y": [
          85
         ]
        },
        {
         "marker": {
          "color": "rgba(0, 128, 128, 0.4999999999999996)",
          "line": {
           "width": 1.3
          },
          "opacity": 0.8,
          "size": 12,
          "symbol": "circle"
         },
         "mode": "markers",
         "name": "Carnivine",
         "textfont": {
          "color": "#4D5663"
         },
         "type": "scatter",
         "x": [
          454
         ],
         "y": [
          46
         ]
        },
        {
         "marker": {
          "color": "rgba(255, 255, 51, 0.4999999999999996)",
          "line": {
           "width": 1.3
          },
          "opacity": 0.8,
          "size": 12,
          "symbol": "circle"
         },
         "mode": "markers",
         "name": "Finneon",
         "textfont": {
          "color": "#4D5663"
         },
         "type": "scatter",
         "x": [
          330
         ],
         "y": [
          66
         ]
        },
        {
         "marker": {
          "color": "rgba(128, 128, 0, 0.4999999999999996)",
          "line": {
           "width": 1.3
          },
          "opacity": 0.8,
          "size": 12,
          "symbol": "circle"
         },
         "mode": "markers",
         "name": "Lumineon",
         "textfont": {
          "color": "#4D5663"
         },
         "type": "scatter",
         "x": [
          460
         ],
         "y": [
          91
         ]
        },
        {
         "marker": {
          "color": "rgba(251, 128, 114, 0.4999999999999996)",
          "line": {
           "width": 1.3
          },
          "opacity": 0.8,
          "size": 12,
          "symbol": "circle"
         },
         "mode": "markers",
         "name": "Mantyke",
         "textfont": {
          "color": "#4D5663"
         },
         "type": "scatter",
         "x": [
          345
         ],
         "y": [
          50
         ]
        },
        {
         "marker": {
          "color": "rgba(128, 177, 211, 0.4999999999999996)",
          "line": {
           "width": 1.3
          },
          "opacity": 0.8,
          "size": 12,
          "symbol": "circle"
         },
         "mode": "markers",
         "name": "Snover",
         "textfont": {
          "color": "#4D5663"
         },
         "type": "scatter",
         "x": [
          334
         ],
         "y": [
          40
         ]
        },
        {
         "marker": {
          "color": "rgba(128, 177, 211, 0.4899999999999996)",
          "line": {
           "width": 1.3
          },
          "opacity": 0.8,
          "size": 12,
          "symbol": "circle"
         },
         "mode": "markers",
         "name": "Abomasnow",
         "textfont": {
          "color": "#4D5663"
         },
         "type": "scatter",
         "x": [
          494
         ],
         "y": [
          60
         ]
        },
        {
         "marker": {
          "color": "rgba(255, 153, 51, 0.4899999999999996)",
          "line": {
           "width": 1.3
          },
          "opacity": 0.8,
          "size": 12,
          "symbol": "circle"
         },
         "mode": "markers",
         "name": "AbomasnowMega Abomasnow",
         "textfont": {
          "color": "#4D5663"
         },
         "type": "scatter",
         "x": [
          594
         ],
         "y": [
          30
         ]
        },
        {
         "marker": {
          "color": "rgba(55, 128, 191, 0.4899999999999996)",
          "line": {
           "width": 1.3
          },
          "opacity": 0.8,
          "size": 12,
          "symbol": "circle"
         },
         "mode": "markers",
         "name": "Weavile",
         "textfont": {
          "color": "#4D5663"
         },
         "type": "scatter",
         "x": [
          510
         ],
         "y": [
          125
         ]
        },
        {
         "marker": {
          "color": "rgba(50, 171, 96, 0.4899999999999996)",
          "line": {
           "width": 1.3
          },
          "opacity": 0.8,
          "size": 12,
          "symbol": "circle"
         },
         "mode": "markers",
         "name": "Magnezone",
         "textfont": {
          "color": "#4D5663"
         },
         "type": "scatter",
         "x": [
          535
         ],
         "y": [
          60
         ]
        },
        {
         "marker": {
          "color": "rgba(128, 0, 128, 0.4899999999999996)",
          "line": {
           "width": 1.3
          },
          "opacity": 0.8,
          "size": 12,
          "symbol": "circle"
         },
         "mode": "markers",
         "name": "Lickilicky",
         "textfont": {
          "color": "#4D5663"
         },
         "type": "scatter",
         "x": [
          515
         ],
         "y": [
          50
         ]
        },
        {
         "marker": {
          "color": "rgba(219, 64, 82, 0.4899999999999996)",
          "line": {
           "width": 1.3
          },
          "opacity": 0.8,
          "size": 12,
          "symbol": "circle"
         },
         "mode": "markers",
         "name": "Rhyperior",
         "textfont": {
          "color": "#4D5663"
         },
         "type": "scatter",
         "x": [
          535
         ],
         "y": [
          40
         ]
        },
        {
         "marker": {
          "color": "rgba(0, 128, 128, 0.4899999999999996)",
          "line": {
           "width": 1.3
          },
          "opacity": 0.8,
          "size": 12,
          "symbol": "circle"
         },
         "mode": "markers",
         "name": "Tangrowth",
         "textfont": {
          "color": "#4D5663"
         },
         "type": "scatter",
         "x": [
          535
         ],
         "y": [
          50
         ]
        },
        {
         "marker": {
          "color": "rgba(255, 255, 51, 0.4899999999999996)",
          "line": {
           "width": 1.3
          },
          "opacity": 0.8,
          "size": 12,
          "symbol": "circle"
         },
         "mode": "markers",
         "name": "Electivire",
         "textfont": {
          "color": "#4D5663"
         },
         "type": "scatter",
         "x": [
          540
         ],
         "y": [
          95
         ]
        },
        {
         "marker": {
          "color": "rgba(128, 128, 0, 0.4899999999999996)",
          "line": {
           "width": 1.3
          },
          "opacity": 0.8,
          "size": 12,
          "symbol": "circle"
         },
         "mode": "markers",
         "name": "Magmortar",
         "textfont": {
          "color": "#4D5663"
         },
         "type": "scatter",
         "x": [
          540
         ],
         "y": [
          83
         ]
        },
        {
         "marker": {
          "color": "rgba(251, 128, 114, 0.4899999999999996)",
          "line": {
           "width": 1.3
          },
          "opacity": 0.8,
          "size": 12,
          "symbol": "circle"
         },
         "mode": "markers",
         "name": "Togekiss",
         "textfont": {
          "color": "#4D5663"
         },
         "type": "scatter",
         "x": [
          545
         ],
         "y": [
          80
         ]
        },
        {
         "marker": {
          "color": "rgba(251, 128, 114, 0.4799999999999996)",
          "line": {
           "width": 1.3
          },
          "opacity": 0.8,
          "size": 12,
          "symbol": "circle"
         },
         "mode": "markers",
         "name": "Yanmega",
         "textfont": {
          "color": "#4D5663"
         },
         "type": "scatter",
         "x": [
          515
         ],
         "y": [
          95
         ]
        },
        {
         "marker": {
          "color": "rgba(128, 177, 211, 0.4799999999999996)",
          "line": {
           "width": 1.3
          },
          "opacity": 0.8,
          "size": 12,
          "symbol": "circle"
         },
         "mode": "markers",
         "name": "Leafeon",
         "textfont": {
          "color": "#4D5663"
         },
         "type": "scatter",
         "x": [
          525
         ],
         "y": [
          95
         ]
        },
        {
         "marker": {
          "color": "rgba(255, 153, 51, 0.4799999999999996)",
          "line": {
           "width": 1.3
          },
          "opacity": 0.8,
          "size": 12,
          "symbol": "circle"
         },
         "mode": "markers",
         "name": "Glaceon",
         "textfont": {
          "color": "#4D5663"
         },
         "type": "scatter",
         "x": [
          525
         ],
         "y": [
          65
         ]
        },
        {
         "marker": {
          "color": "rgba(55, 128, 191, 0.4799999999999996)",
          "line": {
           "width": 1.3
          },
          "opacity": 0.8,
          "size": 12,
          "symbol": "circle"
         },
         "mode": "markers",
         "name": "Gliscor",
         "textfont": {
          "color": "#4D5663"
         },
         "type": "scatter",
         "x": [
          510
         ],
         "y": [
          95
         ]
        },
        {
         "marker": {
          "color": "rgba(50, 171, 96, 0.4799999999999996)",
          "line": {
           "width": 1.3
          },
          "opacity": 0.8,
          "size": 12,
          "symbol": "circle"
         },
         "mode": "markers",
         "name": "Mamoswine",
         "textfont": {
          "color": "#4D5663"
         },
         "type": "scatter",
         "x": [
          530
         ],
         "y": [
          80
         ]
        },
        {
         "marker": {
          "color": "rgba(128, 0, 128, 0.4799999999999996)",
          "line": {
           "width": 1.3
          },
          "opacity": 0.8,
          "size": 12,
          "symbol": "circle"
         },
         "mode": "markers",
         "name": "Porygon-Z",
         "textfont": {
          "color": "#4D5663"
         },
         "type": "scatter",
         "x": [
          535
         ],
         "y": [
          90
         ]
        },
        {
         "marker": {
          "color": "rgba(219, 64, 82, 0.4799999999999996)",
          "line": {
           "width": 1.3
          },
          "opacity": 0.8,
          "size": 12,
          "symbol": "circle"
         },
         "mode": "markers",
         "name": "Gallade",
         "textfont": {
          "color": "#4D5663"
         },
         "type": "scatter",
         "x": [
          518
         ],
         "y": [
          80
         ]
        },
        {
         "marker": {
          "color": "rgba(0, 128, 128, 0.4799999999999996)",
          "line": {
           "width": 1.3
          },
          "opacity": 0.8,
          "size": 12,
          "symbol": "circle"
         },
         "mode": "markers",
         "name": "GalladeMega Gallade",
         "textfont": {
          "color": "#4D5663"
         },
         "type": "scatter",
         "x": [
          618
         ],
         "y": [
          110
         ]
        },
        {
         "marker": {
          "color": "rgba(255, 255, 51, 0.4799999999999996)",
          "line": {
           "width": 1.3
          },
          "opacity": 0.8,
          "size": 12,
          "symbol": "circle"
         },
         "mode": "markers",
         "name": "Probopass",
         "textfont": {
          "color": "#4D5663"
         },
         "type": "scatter",
         "x": [
          525
         ],
         "y": [
          40
         ]
        },
        {
         "marker": {
          "color": "rgba(128, 128, 0, 0.4799999999999996)",
          "line": {
           "width": 1.3
          },
          "opacity": 0.8,
          "size": 12,
          "symbol": "circle"
         },
         "mode": "markers",
         "name": "Dusknoir",
         "textfont": {
          "color": "#4D5663"
         },
         "type": "scatter",
         "x": [
          525
         ],
         "y": [
          45
         ]
        },
        {
         "marker": {
          "color": "rgba(128, 128, 0, 0.4699999999999996)",
          "line": {
           "width": 1.3
          },
          "opacity": 0.8,
          "size": 12,
          "symbol": "circle"
         },
         "mode": "markers",
         "name": "Froslass",
         "textfont": {
          "color": "#4D5663"
         },
         "type": "scatter",
         "x": [
          480
         ],
         "y": [
          110
         ]
        },
        {
         "marker": {
          "color": "rgba(251, 128, 114, 0.4699999999999996)",
          "line": {
           "width": 1.3
          },
          "opacity": 0.8,
          "size": 12,
          "symbol": "circle"
         },
         "mode": "markers",
         "name": "Rotom",
         "textfont": {
          "color": "#4D5663"
         },
         "type": "scatter",
         "x": [
          440
         ],
         "y": [
          91
         ]
        },
        {
         "marker": {
          "color": "rgba(128, 177, 211, 0.4699999999999996)",
          "line": {
           "width": 1.3
          },
          "opacity": 0.8,
          "size": 12,
          "symbol": "circle"
         },
         "mode": "markers",
         "name": "RotomHeat Rotom",
         "textfont": {
          "color": "#4D5663"
         },
         "type": "scatter",
         "x": [
          520
         ],
         "y": [
          86
         ]
        },
        {
         "marker": {
          "color": "rgba(255, 153, 51, 0.4699999999999996)",
          "line": {
           "width": 1.3
          },
          "opacity": 0.8,
          "size": 12,
          "symbol": "circle"
         },
         "mode": "markers",
         "name": "RotomWash Rotom",
         "textfont": {
          "color": "#4D5663"
         },
         "type": "scatter",
         "x": [
          520
         ],
         "y": [
          86
         ]
        },
        {
         "marker": {
          "color": "rgba(55, 128, 191, 0.4699999999999996)",
          "line": {
           "width": 1.3
          },
          "opacity": 0.8,
          "size": 12,
          "symbol": "circle"
         },
         "mode": "markers",
         "name": "RotomFrost Rotom",
         "textfont": {
          "color": "#4D5663"
         },
         "type": "scatter",
         "x": [
          520
         ],
         "y": [
          86
         ]
        },
        {
         "marker": {
          "color": "rgba(50, 171, 96, 0.4699999999999996)",
          "line": {
           "width": 1.3
          },
          "opacity": 0.8,
          "size": 12,
          "symbol": "circle"
         },
         "mode": "markers",
         "name": "RotomFan Rotom",
         "textfont": {
          "color": "#4D5663"
         },
         "type": "scatter",
         "x": [
          520
         ],
         "y": [
          86
         ]
        },
        {
         "marker": {
          "color": "rgba(128, 0, 128, 0.4699999999999996)",
          "line": {
           "width": 1.3
          },
          "opacity": 0.8,
          "size": 12,
          "symbol": "circle"
         },
         "mode": "markers",
         "name": "RotomMow Rotom",
         "textfont": {
          "color": "#4D5663"
         },
         "type": "scatter",
         "x": [
          520
         ],
         "y": [
          86
         ]
        },
        {
         "marker": {
          "color": "rgba(219, 64, 82, 0.4699999999999996)",
          "line": {
           "width": 1.3
          },
          "opacity": 0.8,
          "size": 12,
          "symbol": "circle"
         },
         "mode": "markers",
         "name": "Uxie",
         "textfont": {
          "color": "#4D5663"
         },
         "type": "scatter",
         "x": [
          580
         ],
         "y": [
          95
         ]
        },
        {
         "marker": {
          "color": "rgba(0, 128, 128, 0.4699999999999996)",
          "line": {
           "width": 1.3
          },
          "opacity": 0.8,
          "size": 12,
          "symbol": "circle"
         },
         "mode": "markers",
         "name": "Mesprit",
         "textfont": {
          "color": "#4D5663"
         },
         "type": "scatter",
         "x": [
          580
         ],
         "y": [
          80
         ]
        },
        {
         "marker": {
          "color": "rgba(255, 255, 51, 0.4699999999999996)",
          "line": {
           "width": 1.3
          },
          "opacity": 0.8,
          "size": 12,
          "symbol": "circle"
         },
         "mode": "markers",
         "name": "Azelf",
         "textfont": {
          "color": "#4D5663"
         },
         "type": "scatter",
         "x": [
          580
         ],
         "y": [
          115
         ]
        },
        {
         "marker": {
          "color": "rgba(255, 255, 51, 0.4599999999999996)",
          "line": {
           "width": 1.3
          },
          "opacity": 0.8,
          "size": 12,
          "symbol": "circle"
         },
         "mode": "markers",
         "name": "Dialga",
         "textfont": {
          "color": "#4D5663"
         },
         "type": "scatter",
         "x": [
          680
         ],
         "y": [
          90
         ]
        },
        {
         "marker": {
          "color": "rgba(128, 128, 0, 0.4599999999999996)",
          "line": {
           "width": 1.3
          },
          "opacity": 0.8,
          "size": 12,
          "symbol": "circle"
         },
         "mode": "markers",
         "name": "Palkia",
         "textfont": {
          "color": "#4D5663"
         },
         "type": "scatter",
         "x": [
          680
         ],
         "y": [
          100
         ]
        },
        {
         "marker": {
          "color": "rgba(251, 128, 114, 0.4599999999999996)",
          "line": {
           "width": 1.3
          },
          "opacity": 0.8,
          "size": 12,
          "symbol": "circle"
         },
         "mode": "markers",
         "name": "Heatran",
         "textfont": {
          "color": "#4D5663"
         },
         "type": "scatter",
         "x": [
          600
         ],
         "y": [
          77
         ]
        },
        {
         "marker": {
          "color": "rgba(128, 177, 211, 0.4599999999999996)",
          "line": {
           "width": 1.3
          },
          "opacity": 0.8,
          "size": 12,
          "symbol": "circle"
         },
         "mode": "markers",
         "name": "Regigigas",
         "textfont": {
          "color": "#4D5663"
         },
         "type": "scatter",
         "x": [
          670
         ],
         "y": [
          100
         ]
        },
        {
         "marker": {
          "color": "rgba(255, 153, 51, 0.4599999999999996)",
          "line": {
           "width": 1.3
          },
          "opacity": 0.8,
          "size": 12,
          "symbol": "circle"
         },
         "mode": "markers",
         "name": "GiratinaAltered Forme",
         "textfont": {
          "color": "#4D5663"
         },
         "type": "scatter",
         "x": [
          680
         ],
         "y": [
          90
         ]
        },
        {
         "marker": {
          "color": "rgba(55, 128, 191, 0.4599999999999996)",
          "line": {
           "width": 1.3
          },
          "opacity": 0.8,
          "size": 12,
          "symbol": "circle"
         },
         "mode": "markers",
         "name": "GiratinaOrigin Forme",
         "textfont": {
          "color": "#4D5663"
         },
         "type": "scatter",
         "x": [
          680
         ],
         "y": [
          90
         ]
        },
        {
         "marker": {
          "color": "rgba(50, 171, 96, 0.4599999999999996)",
          "line": {
           "width": 1.3
          },
          "opacity": 0.8,
          "size": 12,
          "symbol": "circle"
         },
         "mode": "markers",
         "name": "Cresselia",
         "textfont": {
          "color": "#4D5663"
         },
         "type": "scatter",
         "x": [
          600
         ],
         "y": [
          85
         ]
        },
        {
         "marker": {
          "color": "rgba(128, 0, 128, 0.4599999999999996)",
          "line": {
           "width": 1.3
          },
          "opacity": 0.8,
          "size": 12,
          "symbol": "circle"
         },
         "mode": "markers",
         "name": "Phione",
         "textfont": {
          "color": "#4D5663"
         },
         "type": "scatter",
         "x": [
          480
         ],
         "y": [
          80
         ]
        },
        {
         "marker": {
          "color": "rgba(219, 64, 82, 0.4599999999999996)",
          "line": {
           "width": 1.3
          },
          "opacity": 0.8,
          "size": 12,
          "symbol": "circle"
         },
         "mode": "markers",
         "name": "Manaphy",
         "textfont": {
          "color": "#4D5663"
         },
         "type": "scatter",
         "x": [
          600
         ],
         "y": [
          100
         ]
        },
        {
         "marker": {
          "color": "rgba(0, 128, 128, 0.4599999999999996)",
          "line": {
           "width": 1.3
          },
          "opacity": 0.8,
          "size": 12,
          "symbol": "circle"
         },
         "mode": "markers",
         "name": "Darkrai",
         "textfont": {
          "color": "#4D5663"
         },
         "type": "scatter",
         "x": [
          600
         ],
         "y": [
          125
         ]
        },
        {
         "marker": {
          "color": "rgba(0, 128, 128, 0.44999999999999957)",
          "line": {
           "width": 1.3
          },
          "opacity": 0.8,
          "size": 12,
          "symbol": "circle"
         },
         "mode": "markers",
         "name": "ShayminLand Forme",
         "textfont": {
          "color": "#4D5663"
         },
         "type": "scatter",
         "x": [
          600
         ],
         "y": [
          100
         ]
        },
        {
         "marker": {
          "color": "rgba(255, 255, 51, 0.44999999999999957)",
          "line": {
           "width": 1.3
          },
          "opacity": 0.8,
          "size": 12,
          "symbol": "circle"
         },
         "mode": "markers",
         "name": "ShayminSky Forme",
         "textfont": {
          "color": "#4D5663"
         },
         "type": "scatter",
         "x": [
          600
         ],
         "y": [
          127
         ]
        },
        {
         "marker": {
          "color": "rgba(128, 128, 0, 0.44999999999999957)",
          "line": {
           "width": 1.3
          },
          "opacity": 0.8,
          "size": 12,
          "symbol": "circle"
         },
         "mode": "markers",
         "name": "Arceus",
         "textfont": {
          "color": "#4D5663"
         },
         "type": "scatter",
         "x": [
          720
         ],
         "y": [
          120
         ]
        },
        {
         "marker": {
          "color": "rgba(251, 128, 114, 0.44999999999999957)",
          "line": {
           "width": 1.3
          },
          "opacity": 0.8,
          "size": 12,
          "symbol": "circle"
         },
         "mode": "markers",
         "name": "Victini",
         "textfont": {
          "color": "#4D5663"
         },
         "type": "scatter",
         "x": [
          600
         ],
         "y": [
          100
         ]
        },
        {
         "marker": {
          "color": "rgba(128, 177, 211, 0.44999999999999957)",
          "line": {
           "width": 1.3
          },
          "opacity": 0.8,
          "size": 12,
          "symbol": "circle"
         },
         "mode": "markers",
         "name": "Snivy",
         "textfont": {
          "color": "#4D5663"
         },
         "type": "scatter",
         "x": [
          308
         ],
         "y": [
          63
         ]
        },
        {
         "marker": {
          "color": "rgba(255, 153, 51, 0.44999999999999957)",
          "line": {
           "width": 1.3
          },
          "opacity": 0.8,
          "size": 12,
          "symbol": "circle"
         },
         "mode": "markers",
         "name": "Servine",
         "textfont": {
          "color": "#4D5663"
         },
         "type": "scatter",
         "x": [
          413
         ],
         "y": [
          83
         ]
        },
        {
         "marker": {
          "color": "rgba(55, 128, 191, 0.44999999999999957)",
          "line": {
           "width": 1.3
          },
          "opacity": 0.8,
          "size": 12,
          "symbol": "circle"
         },
         "mode": "markers",
         "name": "Serperior",
         "textfont": {
          "color": "#4D5663"
         },
         "type": "scatter",
         "x": [
          528
         ],
         "y": [
          113
         ]
        },
        {
         "marker": {
          "color": "rgba(50, 171, 96, 0.44999999999999957)",
          "line": {
           "width": 1.3
          },
          "opacity": 0.8,
          "size": 12,
          "symbol": "circle"
         },
         "mode": "markers",
         "name": "Tepig",
         "textfont": {
          "color": "#4D5663"
         },
         "type": "scatter",
         "x": [
          308
         ],
         "y": [
          45
         ]
        },
        {
         "marker": {
          "color": "rgba(128, 0, 128, 0.44999999999999957)",
          "line": {
           "width": 1.3
          },
          "opacity": 0.8,
          "size": 12,
          "symbol": "circle"
         },
         "mode": "markers",
         "name": "Pignite",
         "textfont": {
          "color": "#4D5663"
         },
         "type": "scatter",
         "x": [
          418
         ],
         "y": [
          55
         ]
        },
        {
         "marker": {
          "color": "rgba(219, 64, 82, 0.44999999999999957)",
          "line": {
           "width": 1.3
          },
          "opacity": 0.8,
          "size": 12,
          "symbol": "circle"
         },
         "mode": "markers",
         "name": "Emboar",
         "textfont": {
          "color": "#4D5663"
         },
         "type": "scatter",
         "x": [
          528
         ],
         "y": [
          65
         ]
        },
        {
         "marker": {
          "color": "rgba(219, 64, 82, 0.43999999999999956)",
          "line": {
           "width": 1.3
          },
          "opacity": 0.8,
          "size": 12,
          "symbol": "circle"
         },
         "mode": "markers",
         "name": "Oshawott",
         "textfont": {
          "color": "#4D5663"
         },
         "type": "scatter",
         "x": [
          308
         ],
         "y": [
          45
         ]
        },
        {
         "marker": {
          "color": "rgba(0, 128, 128, 0.43999999999999956)",
          "line": {
           "width": 1.3
          },
          "opacity": 0.8,
          "size": 12,
          "symbol": "circle"
         },
         "mode": "markers",
         "name": "Dewott",
         "textfont": {
          "color": "#4D5663"
         },
         "type": "scatter",
         "x": [
          413
         ],
         "y": [
          60
         ]
        },
        {
         "marker": {
          "color": "rgba(255, 255, 51, 0.43999999999999956)",
          "line": {
           "width": 1.3
          },
          "opacity": 0.8,
          "size": 12,
          "symbol": "circle"
         },
         "mode": "markers",
         "name": "Samurott",
         "textfont": {
          "color": "#4D5663"
         },
         "type": "scatter",
         "x": [
          528
         ],
         "y": [
          70
         ]
        },
        {
         "marker": {
          "color": "rgba(128, 128, 0, 0.43999999999999956)",
          "line": {
           "width": 1.3
          },
          "opacity": 0.8,
          "size": 12,
          "symbol": "circle"
         },
         "mode": "markers",
         "name": "Patrat",
         "textfont": {
          "color": "#4D5663"
         },
         "type": "scatter",
         "x": [
          255
         ],
         "y": [
          42
         ]
        },
        {
         "marker": {
          "color": "rgba(251, 128, 114, 0.43999999999999956)",
          "line": {
           "width": 1.3
          },
          "opacity": 0.8,
          "size": 12,
          "symbol": "circle"
         },
         "mode": "markers",
         "name": "Watchog",
         "textfont": {
          "color": "#4D5663"
         },
         "type": "scatter",
         "x": [
          420
         ],
         "y": [
          77
         ]
        },
        {
         "marker": {
          "color": "rgba(128, 177, 211, 0.43999999999999956)",
          "line": {
           "width": 1.3
          },
          "opacity": 0.8,
          "size": 12,
          "symbol": "circle"
         },
         "mode": "markers",
         "name": "Lillipup",
         "textfont": {
          "color": "#4D5663"
         },
         "type": "scatter",
         "x": [
          275
         ],
         "y": [
          55
         ]
        },
        {
         "marker": {
          "color": "rgba(255, 153, 51, 0.43999999999999956)",
          "line": {
           "width": 1.3
          },
          "opacity": 0.8,
          "size": 12,
          "symbol": "circle"
         },
         "mode": "markers",
         "name": "Herdier",
         "textfont": {
          "color": "#4D5663"
         },
         "type": "scatter",
         "x": [
          370
         ],
         "y": [
          60
         ]
        },
        {
         "marker": {
          "color": "rgba(55, 128, 191, 0.43999999999999956)",
          "line": {
           "width": 1.3
          },
          "opacity": 0.8,
          "size": 12,
          "symbol": "circle"
         },
         "mode": "markers",
         "name": "Stoutland",
         "textfont": {
          "color": "#4D5663"
         },
         "type": "scatter",
         "x": [
          500
         ],
         "y": [
          80
         ]
        },
        {
         "marker": {
          "color": "rgba(50, 171, 96, 0.43999999999999956)",
          "line": {
           "width": 1.3
          },
          "opacity": 0.8,
          "size": 12,
          "symbol": "circle"
         },
         "mode": "markers",
         "name": "Purrloin",
         "textfont": {
          "color": "#4D5663"
         },
         "type": "scatter",
         "x": [
          281
         ],
         "y": [
          66
         ]
        },
        {
         "marker": {
          "color": "rgba(128, 0, 128, 0.43999999999999956)",
          "line": {
           "width": 1.3
          },
          "opacity": 0.8,
          "size": 12,
          "symbol": "circle"
         },
         "mode": "markers",
         "name": "Liepard",
         "textfont": {
          "color": "#4D5663"
         },
         "type": "scatter",
         "x": [
          446
         ],
         "y": [
          106
         ]
        },
        {
         "marker": {
          "color": "rgba(128, 0, 128, 0.42999999999999955)",
          "line": {
           "width": 1.3
          },
          "opacity": 0.8,
          "size": 12,
          "symbol": "circle"
         },
         "mode": "markers",
         "name": "Pansage",
         "textfont": {
          "color": "#4D5663"
         },
         "type": "scatter",
         "x": [
          316
         ],
         "y": [
          64
         ]
        },
        {
         "marker": {
          "color": "rgba(219, 64, 82, 0.42999999999999955)",
          "line": {
           "width": 1.3
          },
          "opacity": 0.8,
          "size": 12,
          "symbol": "circle"
         },
         "mode": "markers",
         "name": "Simisage",
         "textfont": {
          "color": "#4D5663"
         },
         "type": "scatter",
         "x": [
          498
         ],
         "y": [
          101
         ]
        },
        {
         "marker": {
          "color": "rgba(0, 128, 128, 0.42999999999999955)",
          "line": {
           "width": 1.3
          },
          "opacity": 0.8,
          "size": 12,
          "symbol": "circle"
         },
         "mode": "markers",
         "name": "Pansear",
         "textfont": {
          "color": "#4D5663"
         },
         "type": "scatter",
         "x": [
          316
         ],
         "y": [
          64
         ]
        },
        {
         "marker": {
          "color": "rgba(255, 255, 51, 0.42999999999999955)",
          "line": {
           "width": 1.3
          },
          "opacity": 0.8,
          "size": 12,
          "symbol": "circle"
         },
         "mode": "markers",
         "name": "Simisear",
         "textfont": {
          "color": "#4D5663"
         },
         "type": "scatter",
         "x": [
          498
         ],
         "y": [
          101
         ]
        },
        {
         "marker": {
          "color": "rgba(128, 128, 0, 0.42999999999999955)",
          "line": {
           "width": 1.3
          },
          "opacity": 0.8,
          "size": 12,
          "symbol": "circle"
         },
         "mode": "markers",
         "name": "Panpour",
         "textfont": {
          "color": "#4D5663"
         },
         "type": "scatter",
         "x": [
          316
         ],
         "y": [
          64
         ]
        },
        {
         "marker": {
          "color": "rgba(251, 128, 114, 0.42999999999999955)",
          "line": {
           "width": 1.3
          },
          "opacity": 0.8,
          "size": 12,
          "symbol": "circle"
         },
         "mode": "markers",
         "name": "Simipour",
         "textfont": {
          "color": "#4D5663"
         },
         "type": "scatter",
         "x": [
          498
         ],
         "y": [
          101
         ]
        },
        {
         "marker": {
          "color": "rgba(128, 177, 211, 0.42999999999999955)",
          "line": {
           "width": 1.3
          },
          "opacity": 0.8,
          "size": 12,
          "symbol": "circle"
         },
         "mode": "markers",
         "name": "Munna",
         "textfont": {
          "color": "#4D5663"
         },
         "type": "scatter",
         "x": [
          292
         ],
         "y": [
          24
         ]
        },
        {
         "marker": {
          "color": "rgba(255, 153, 51, 0.42999999999999955)",
          "line": {
           "width": 1.3
          },
          "opacity": 0.8,
          "size": 12,
          "symbol": "circle"
         },
         "mode": "markers",
         "name": "Musharna",
         "textfont": {
          "color": "#4D5663"
         },
         "type": "scatter",
         "x": [
          487
         ],
         "y": [
          29
         ]
        },
        {
         "marker": {
          "color": "rgba(55, 128, 191, 0.42999999999999955)",
          "line": {
           "width": 1.3
          },
          "opacity": 0.8,
          "size": 12,
          "symbol": "circle"
         },
         "mode": "markers",
         "name": "Pidove",
         "textfont": {
          "color": "#4D5663"
         },
         "type": "scatter",
         "x": [
          264
         ],
         "y": [
          43
         ]
        },
        {
         "marker": {
          "color": "rgba(50, 171, 96, 0.42999999999999955)",
          "line": {
           "width": 1.3
          },
          "opacity": 0.8,
          "size": 12,
          "symbol": "circle"
         },
         "mode": "markers",
         "name": "Tranquill",
         "textfont": {
          "color": "#4D5663"
         },
         "type": "scatter",
         "x": [
          358
         ],
         "y": [
          65
         ]
        },
        {
         "marker": {
          "color": "rgba(50, 171, 96, 0.41999999999999954)",
          "line": {
           "width": 1.3
          },
          "opacity": 0.8,
          "size": 12,
          "symbol": "circle"
         },
         "mode": "markers",
         "name": "Unfezant",
         "textfont": {
          "color": "#4D5663"
         },
         "type": "scatter",
         "x": [
          488
         ],
         "y": [
          93
         ]
        },
        {
         "marker": {
          "color": "rgba(128, 0, 128, 0.41999999999999954)",
          "line": {
           "width": 1.3
          },
          "opacity": 0.8,
          "size": 12,
          "symbol": "circle"
         },
         "mode": "markers",
         "name": "Blitzle",
         "textfont": {
          "color": "#4D5663"
         },
         "type": "scatter",
         "x": [
          295
         ],
         "y": [
          76
         ]
        },
        {
         "marker": {
          "color": "rgba(219, 64, 82, 0.41999999999999954)",
          "line": {
           "width": 1.3
          },
          "opacity": 0.8,
          "size": 12,
          "symbol": "circle"
         },
         "mode": "markers",
         "name": "Zebstrika",
         "textfont": {
          "color": "#4D5663"
         },
         "type": "scatter",
         "x": [
          497
         ],
         "y": [
          116
         ]
        },
        {
         "marker": {
          "color": "rgba(0, 128, 128, 0.41999999999999954)",
          "line": {
           "width": 1.3
          },
          "opacity": 0.8,
          "size": 12,
          "symbol": "circle"
         },
         "mode": "markers",
         "name": "Roggenrola",
         "textfont": {
          "color": "#4D5663"
         },
         "type": "scatter",
         "x": [
          280
         ],
         "y": [
          15
         ]
        },
        {
         "marker": {
          "color": "rgba(255, 255, 51, 0.41999999999999954)",
          "line": {
           "width": 1.3
          },
          "opacity": 0.8,
          "size": 12,
          "symbol": "circle"
         },
         "mode": "markers",
         "name": "Boldore",
         "textfont": {
          "color": "#4D5663"
         },
         "type": "scatter",
         "x": [
          390
         ],
         "y": [
          20
         ]
        },
        {
         "marker": {
          "color": "rgba(128, 128, 0, 0.41999999999999954)",
          "line": {
           "width": 1.3
          },
          "opacity": 0.8,
          "size": 12,
          "symbol": "circle"
         },
         "mode": "markers",
         "name": "Gigalith",
         "textfont": {
          "color": "#4D5663"
         },
         "type": "scatter",
         "x": [
          515
         ],
         "y": [
          25
         ]
        },
        {
         "marker": {
          "color": "rgba(251, 128, 114, 0.41999999999999954)",
          "line": {
           "width": 1.3
          },
          "opacity": 0.8,
          "size": 12,
          "symbol": "circle"
         },
         "mode": "markers",
         "name": "Woobat",
         "textfont": {
          "color": "#4D5663"
         },
         "type": "scatter",
         "x": [
          313
         ],
         "y": [
          72
         ]
        },
        {
         "marker": {
          "color": "rgba(128, 177, 211, 0.41999999999999954)",
          "line": {
           "width": 1.3
          },
          "opacity": 0.8,
          "size": 12,
          "symbol": "circle"
         },
         "mode": "markers",
         "name": "Swoobat",
         "textfont": {
          "color": "#4D5663"
         },
         "type": "scatter",
         "x": [
          425
         ],
         "y": [
          114
         ]
        },
        {
         "marker": {
          "color": "rgba(255, 153, 51, 0.41999999999999954)",
          "line": {
           "width": 1.3
          },
          "opacity": 0.8,
          "size": 12,
          "symbol": "circle"
         },
         "mode": "markers",
         "name": "Drilbur",
         "textfont": {
          "color": "#4D5663"
         },
         "type": "scatter",
         "x": [
          328
         ],
         "y": [
          68
         ]
        },
        {
         "marker": {
          "color": "rgba(55, 128, 191, 0.41999999999999954)",
          "line": {
           "width": 1.3
          },
          "opacity": 0.8,
          "size": 12,
          "symbol": "circle"
         },
         "mode": "markers",
         "name": "Excadrill",
         "textfont": {
          "color": "#4D5663"
         },
         "type": "scatter",
         "x": [
          508
         ],
         "y": [
          88
         ]
        },
        {
         "marker": {
          "color": "rgba(55, 128, 191, 0.40999999999999953)",
          "line": {
           "width": 1.3
          },
          "opacity": 0.8,
          "size": 12,
          "symbol": "circle"
         },
         "mode": "markers",
         "name": "Audino",
         "textfont": {
          "color": "#4D5663"
         },
         "type": "scatter",
         "x": [
          445
         ],
         "y": [
          50
         ]
        },
        {
         "marker": {
          "color": "rgba(50, 171, 96, 0.40999999999999953)",
          "line": {
           "width": 1.3
          },
          "opacity": 0.8,
          "size": 12,
          "symbol": "circle"
         },
         "mode": "markers",
         "name": "AudinoMega Audino",
         "textfont": {
          "color": "#4D5663"
         },
         "type": "scatter",
         "x": [
          545
         ],
         "y": [
          50
         ]
        },
        {
         "marker": {
          "color": "rgba(128, 0, 128, 0.40999999999999953)",
          "line": {
           "width": 1.3
          },
          "opacity": 0.8,
          "size": 12,
          "symbol": "circle"
         },
         "mode": "markers",
         "name": "Timburr",
         "textfont": {
          "color": "#4D5663"
         },
         "type": "scatter",
         "x": [
          305
         ],
         "y": [
          35
         ]
        },
        {
         "marker": {
          "color": "rgba(219, 64, 82, 0.40999999999999953)",
          "line": {
           "width": 1.3
          },
          "opacity": 0.8,
          "size": 12,
          "symbol": "circle"
         },
         "mode": "markers",
         "name": "Gurdurr",
         "textfont": {
          "color": "#4D5663"
         },
         "type": "scatter",
         "x": [
          405
         ],
         "y": [
          40
         ]
        },
        {
         "marker": {
          "color": "rgba(0, 128, 128, 0.40999999999999953)",
          "line": {
           "width": 1.3
          },
          "opacity": 0.8,
          "size": 12,
          "symbol": "circle"
         },
         "mode": "markers",
         "name": "Conkeldurr",
         "textfont": {
          "color": "#4D5663"
         },
         "type": "scatter",
         "x": [
          505
         ],
         "y": [
          45
         ]
        },
        {
         "marker": {
          "color": "rgba(255, 255, 51, 0.40999999999999953)",
          "line": {
           "width": 1.3
          },
          "opacity": 0.8,
          "size": 12,
          "symbol": "circle"
         },
         "mode": "markers",
         "name": "Tympole",
         "textfont": {
          "color": "#4D5663"
         },
         "type": "scatter",
         "x": [
          294
         ],
         "y": [
          64
         ]
        },
        {
         "marker": {
          "color": "rgba(128, 128, 0, 0.40999999999999953)",
          "line": {
           "width": 1.3
          },
          "opacity": 0.8,
          "size": 12,
          "symbol": "circle"
         },
         "mode": "markers",
         "name": "Palpitoad",
         "textfont": {
          "color": "#4D5663"
         },
         "type": "scatter",
         "x": [
          384
         ],
         "y": [
          69
         ]
        },
        {
         "marker": {
          "color": "rgba(251, 128, 114, 0.40999999999999953)",
          "line": {
           "width": 1.3
          },
          "opacity": 0.8,
          "size": 12,
          "symbol": "circle"
         },
         "mode": "markers",
         "name": "Seismitoad",
         "textfont": {
          "color": "#4D5663"
         },
         "type": "scatter",
         "x": [
          509
         ],
         "y": [
          74
         ]
        },
        {
         "marker": {
          "color": "rgba(128, 177, 211, 0.40999999999999953)",
          "line": {
           "width": 1.3
          },
          "opacity": 0.8,
          "size": 12,
          "symbol": "circle"
         },
         "mode": "markers",
         "name": "Throh",
         "textfont": {
          "color": "#4D5663"
         },
         "type": "scatter",
         "x": [
          465
         ],
         "y": [
          45
         ]
        },
        {
         "marker": {
          "color": "rgba(255, 153, 51, 0.40999999999999953)",
          "line": {
           "width": 1.3
          },
          "opacity": 0.8,
          "size": 12,
          "symbol": "circle"
         },
         "mode": "markers",
         "name": "Sawk",
         "textfont": {
          "color": "#4D5663"
         },
         "type": "scatter",
         "x": [
          465
         ],
         "y": [
          85
         ]
        },
        {
         "marker": {
          "color": "rgba(255, 153, 51, 0.3999999999999995)",
          "line": {
           "width": 1.3
          },
          "opacity": 0.8,
          "size": 12,
          "symbol": "circle"
         },
         "mode": "markers",
         "name": "Sewaddle",
         "textfont": {
          "color": "#4D5663"
         },
         "type": "scatter",
         "x": [
          310
         ],
         "y": [
          42
         ]
        },
        {
         "marker": {
          "color": "rgba(55, 128, 191, 0.3999999999999995)",
          "line": {
           "width": 1.3
          },
          "opacity": 0.8,
          "size": 12,
          "symbol": "circle"
         },
         "mode": "markers",
         "name": "Swadloon",
         "textfont": {
          "color": "#4D5663"
         },
         "type": "scatter",
         "x": [
          380
         ],
         "y": [
          42
         ]
        },
        {
         "marker": {
          "color": "rgba(50, 171, 96, 0.3999999999999995)",
          "line": {
           "width": 1.3
          },
          "opacity": 0.8,
          "size": 12,
          "symbol": "circle"
         },
         "mode": "markers",
         "name": "Leavanny",
         "textfont": {
          "color": "#4D5663"
         },
         "type": "scatter",
         "x": [
          500
         ],
         "y": [
          92
         ]
        },
        {
         "marker": {
          "color": "rgba(128, 0, 128, 0.3999999999999995)",
          "line": {
           "width": 1.3
          },
          "opacity": 0.8,
          "size": 12,
          "symbol": "circle"
         },
         "mode": "markers",
         "name": "Venipede",
         "textfont": {
          "color": "#4D5663"
         },
         "type": "scatter",
         "x": [
          260
         ],
         "y": [
          57
         ]
        },
        {
         "marker": {
          "color": "rgba(219, 64, 82, 0.3999999999999995)",
          "line": {
           "width": 1.3
          },
          "opacity": 0.8,
          "size": 12,
          "symbol": "circle"
         },
         "mode": "markers",
         "name": "Whirlipede",
         "textfont": {
          "color": "#4D5663"
         },
         "type": "scatter",
         "x": [
          360
         ],
         "y": [
          47
         ]
        },
        {
         "marker": {
          "color": "rgba(0, 128, 128, 0.3999999999999995)",
          "line": {
           "width": 1.3
          },
          "opacity": 0.8,
          "size": 12,
          "symbol": "circle"
         },
         "mode": "markers",
         "name": "Scolipede",
         "textfont": {
          "color": "#4D5663"
         },
         "type": "scatter",
         "x": [
          485
         ],
         "y": [
          112
         ]
        },
        {
         "marker": {
          "color": "rgba(255, 255, 51, 0.3999999999999995)",
          "line": {
           "width": 1.3
          },
          "opacity": 0.8,
          "size": 12,
          "symbol": "circle"
         },
         "mode": "markers",
         "name": "Cottonee",
         "textfont": {
          "color": "#4D5663"
         },
         "type": "scatter",
         "x": [
          280
         ],
         "y": [
          66
         ]
        },
        {
         "marker": {
          "color": "rgba(128, 128, 0, 0.3999999999999995)",
          "line": {
           "width": 1.3
          },
          "opacity": 0.8,
          "size": 12,
          "symbol": "circle"
         },
         "mode": "markers",
         "name": "Whimsicott",
         "textfont": {
          "color": "#4D5663"
         },
         "type": "scatter",
         "x": [
          480
         ],
         "y": [
          116
         ]
        },
        {
         "marker": {
          "color": "rgba(251, 128, 114, 0.3999999999999995)",
          "line": {
           "width": 1.3
          },
          "opacity": 0.8,
          "size": 12,
          "symbol": "circle"
         },
         "mode": "markers",
         "name": "Petilil",
         "textfont": {
          "color": "#4D5663"
         },
         "type": "scatter",
         "x": [
          280
         ],
         "y": [
          30
         ]
        },
        {
         "marker": {
          "color": "rgba(128, 177, 211, 0.3999999999999995)",
          "line": {
           "width": 1.3
          },
          "opacity": 0.8,
          "size": 12,
          "symbol": "circle"
         },
         "mode": "markers",
         "name": "Lilligant",
         "textfont": {
          "color": "#4D5663"
         },
         "type": "scatter",
         "x": [
          480
         ],
         "y": [
          90
         ]
        },
        {
         "marker": {
          "color": "rgba(128, 177, 211, 0.3899999999999995)",
          "line": {
           "width": 1.3
          },
          "opacity": 0.8,
          "size": 12,
          "symbol": "circle"
         },
         "mode": "markers",
         "name": "Basculin",
         "textfont": {
          "color": "#4D5663"
         },
         "type": "scatter",
         "x": [
          460
         ],
         "y": [
          98
         ]
        },
        {
         "marker": {
          "color": "rgba(255, 153, 51, 0.3899999999999995)",
          "line": {
           "width": 1.3
          },
          "opacity": 0.8,
          "size": 12,
          "symbol": "circle"
         },
         "mode": "markers",
         "name": "Sandile",
         "textfont": {
          "color": "#4D5663"
         },
         "type": "scatter",
         "x": [
          292
         ],
         "y": [
          65
         ]
        },
        {
         "marker": {
          "color": "rgba(55, 128, 191, 0.3899999999999995)",
          "line": {
           "width": 1.3
          },
          "opacity": 0.8,
          "size": 12,
          "symbol": "circle"
         },
         "mode": "markers",
         "name": "Krokorok",
         "textfont": {
          "color": "#4D5663"
         },
         "type": "scatter",
         "x": [
          351
         ],
         "y": [
          74
         ]
        },
        {
         "marker": {
          "color": "rgba(50, 171, 96, 0.3899999999999995)",
          "line": {
           "width": 1.3
          },
          "opacity": 0.8,
          "size": 12,
          "symbol": "circle"
         },
         "mode": "markers",
         "name": "Krookodile",
         "textfont": {
          "color": "#4D5663"
         },
         "type": "scatter",
         "x": [
          519
         ],
         "y": [
          92
         ]
        },
        {
         "marker": {
          "color": "rgba(128, 0, 128, 0.3899999999999995)",
          "line": {
           "width": 1.3
          },
          "opacity": 0.8,
          "size": 12,
          "symbol": "circle"
         },
         "mode": "markers",
         "name": "Darumaka",
         "textfont": {
          "color": "#4D5663"
         },
         "type": "scatter",
         "x": [
          315
         ],
         "y": [
          50
         ]
        },
        {
         "marker": {
          "color": "rgba(219, 64, 82, 0.3899999999999995)",
          "line": {
           "width": 1.3
          },
          "opacity": 0.8,
          "size": 12,
          "symbol": "circle"
         },
         "mode": "markers",
         "name": "DarmanitanStandard Mode",
         "textfont": {
          "color": "#4D5663"
         },
         "type": "scatter",
         "x": [
          480
         ],
         "y": [
          95
         ]
        },
        {
         "marker": {
          "color": "rgba(0, 128, 128, 0.3899999999999995)",
          "line": {
           "width": 1.3
          },
          "opacity": 0.8,
          "size": 12,
          "symbol": "circle"
         },
         "mode": "markers",
         "name": "DarmanitanZen Mode",
         "textfont": {
          "color": "#4D5663"
         },
         "type": "scatter",
         "x": [
          540
         ],
         "y": [
          55
         ]
        },
        {
         "marker": {
          "color": "rgba(255, 255, 51, 0.3899999999999995)",
          "line": {
           "width": 1.3
          },
          "opacity": 0.8,
          "size": 12,
          "symbol": "circle"
         },
         "mode": "markers",
         "name": "Maractus",
         "textfont": {
          "color": "#4D5663"
         },
         "type": "scatter",
         "x": [
          461
         ],
         "y": [
          60
         ]
        },
        {
         "marker": {
          "color": "rgba(128, 128, 0, 0.3899999999999995)",
          "line": {
           "width": 1.3
          },
          "opacity": 0.8,
          "size": 12,
          "symbol": "circle"
         },
         "mode": "markers",
         "name": "Dwebble",
         "textfont": {
          "color": "#4D5663"
         },
         "type": "scatter",
         "x": [
          325
         ],
         "y": [
          55
         ]
        },
        {
         "marker": {
          "color": "rgba(251, 128, 114, 0.3899999999999995)",
          "line": {
           "width": 1.3
          },
          "opacity": 0.8,
          "size": 12,
          "symbol": "circle"
         },
         "mode": "markers",
         "name": "Crustle",
         "textfont": {
          "color": "#4D5663"
         },
         "type": "scatter",
         "x": [
          475
         ],
         "y": [
          45
         ]
        },
        {
         "marker": {
          "color": "rgba(251, 128, 114, 0.3799999999999995)",
          "line": {
           "width": 1.3
          },
          "opacity": 0.8,
          "size": 12,
          "symbol": "circle"
         },
         "mode": "markers",
         "name": "Scraggy",
         "textfont": {
          "color": "#4D5663"
         },
         "type": "scatter",
         "x": [
          348
         ],
         "y": [
          48
         ]
        },
        {
         "marker": {
          "color": "rgba(128, 177, 211, 0.3799999999999995)",
          "line": {
           "width": 1.3
          },
          "opacity": 0.8,
          "size": 12,
          "symbol": "circle"
         },
         "mode": "markers",
         "name": "Scrafty",
         "textfont": {
          "color": "#4D5663"
         },
         "type": "scatter",
         "x": [
          488
         ],
         "y": [
          58
         ]
        },
        {
         "marker": {
          "color": "rgba(255, 153, 51, 0.3799999999999995)",
          "line": {
           "width": 1.3
          },
          "opacity": 0.8,
          "size": 12,
          "symbol": "circle"
         },
         "mode": "markers",
         "name": "Sigilyph",
         "textfont": {
          "color": "#4D5663"
         },
         "type": "scatter",
         "x": [
          490
         ],
         "y": [
          97
         ]
        },
        {
         "marker": {
          "color": "rgba(55, 128, 191, 0.3799999999999995)",
          "line": {
           "width": 1.3
          },
          "opacity": 0.8,
          "size": 12,
          "symbol": "circle"
         },
         "mode": "markers",
         "name": "Yamask",
         "textfont": {
          "color": "#4D5663"
         },
         "type": "scatter",
         "x": [
          303
         ],
         "y": [
          30
         ]
        },
        {
         "marker": {
          "color": "rgba(50, 171, 96, 0.3799999999999995)",
          "line": {
           "width": 1.3
          },
          "opacity": 0.8,
          "size": 12,
          "symbol": "circle"
         },
         "mode": "markers",
         "name": "Cofagrigus",
         "textfont": {
          "color": "#4D5663"
         },
         "type": "scatter",
         "x": [
          483
         ],
         "y": [
          30
         ]
        },
        {
         "marker": {
          "color": "rgba(128, 0, 128, 0.3799999999999995)",
          "line": {
           "width": 1.3
          },
          "opacity": 0.8,
          "size": 12,
          "symbol": "circle"
         },
         "mode": "markers",
         "name": "Tirtouga",
         "textfont": {
          "color": "#4D5663"
         },
         "type": "scatter",
         "x": [
          355
         ],
         "y": [
          22
         ]
        },
        {
         "marker": {
          "color": "rgba(219, 64, 82, 0.3799999999999995)",
          "line": {
           "width": 1.3
          },
          "opacity": 0.8,
          "size": 12,
          "symbol": "circle"
         },
         "mode": "markers",
         "name": "Carracosta",
         "textfont": {
          "color": "#4D5663"
         },
         "type": "scatter",
         "x": [
          495
         ],
         "y": [
          32
         ]
        },
        {
         "marker": {
          "color": "rgba(0, 128, 128, 0.3799999999999995)",
          "line": {
           "width": 1.3
          },
          "opacity": 0.8,
          "size": 12,
          "symbol": "circle"
         },
         "mode": "markers",
         "name": "Archen",
         "textfont": {
          "color": "#4D5663"
         },
         "type": "scatter",
         "x": [
          401
         ],
         "y": [
          70
         ]
        },
        {
         "marker": {
          "color": "rgba(255, 255, 51, 0.3799999999999995)",
          "line": {
           "width": 1.3
          },
          "opacity": 0.8,
          "size": 12,
          "symbol": "circle"
         },
         "mode": "markers",
         "name": "Archeops",
         "textfont": {
          "color": "#4D5663"
         },
         "type": "scatter",
         "x": [
          567
         ],
         "y": [
          110
         ]
        },
        {
         "marker": {
          "color": "rgba(128, 128, 0, 0.3799999999999995)",
          "line": {
           "width": 1.3
          },
          "opacity": 0.8,
          "size": 12,
          "symbol": "circle"
         },
         "mode": "markers",
         "name": "Trubbish",
         "textfont": {
          "color": "#4D5663"
         },
         "type": "scatter",
         "x": [
          329
         ],
         "y": [
          65
         ]
        },
        {
         "marker": {
          "color": "rgba(128, 128, 0, 0.3699999999999995)",
          "line": {
           "width": 1.3
          },
          "opacity": 0.8,
          "size": 12,
          "symbol": "circle"
         },
         "mode": "markers",
         "name": "Garbodor",
         "textfont": {
          "color": "#4D5663"
         },
         "type": "scatter",
         "x": [
          474
         ],
         "y": [
          75
         ]
        },
        {
         "marker": {
          "color": "rgba(251, 128, 114, 0.3699999999999995)",
          "line": {
           "width": 1.3
          },
          "opacity": 0.8,
          "size": 12,
          "symbol": "circle"
         },
         "mode": "markers",
         "name": "Zorua",
         "textfont": {
          "color": "#4D5663"
         },
         "type": "scatter",
         "x": [
          330
         ],
         "y": [
          65
         ]
        },
        {
         "marker": {
          "color": "rgba(128, 177, 211, 0.3699999999999995)",
          "line": {
           "width": 1.3
          },
          "opacity": 0.8,
          "size": 12,
          "symbol": "circle"
         },
         "mode": "markers",
         "name": "Zoroark",
         "textfont": {
          "color": "#4D5663"
         },
         "type": "scatter",
         "x": [
          510
         ],
         "y": [
          105
         ]
        },
        {
         "marker": {
          "color": "rgba(255, 153, 51, 0.3699999999999995)",
          "line": {
           "width": 1.3
          },
          "opacity": 0.8,
          "size": 12,
          "symbol": "circle"
         },
         "mode": "markers",
         "name": "Minccino",
         "textfont": {
          "color": "#4D5663"
         },
         "type": "scatter",
         "x": [
          300
         ],
         "y": [
          75
         ]
        },
        {
         "marker": {
          "color": "rgba(55, 128, 191, 0.3699999999999995)",
          "line": {
           "width": 1.3
          },
          "opacity": 0.8,
          "size": 12,
          "symbol": "circle"
         },
         "mode": "markers",
         "name": "Cinccino",
         "textfont": {
          "color": "#4D5663"
         },
         "type": "scatter",
         "x": [
          470
         ],
         "y": [
          115
         ]
        },
        {
         "marker": {
          "color": "rgba(50, 171, 96, 0.3699999999999995)",
          "line": {
           "width": 1.3
          },
          "opacity": 0.8,
          "size": 12,
          "symbol": "circle"
         },
         "mode": "markers",
         "name": "Gothita",
         "textfont": {
          "color": "#4D5663"
         },
         "type": "scatter",
         "x": [
          290
         ],
         "y": [
          45
         ]
        },
        {
         "marker": {
          "color": "rgba(128, 0, 128, 0.3699999999999995)",
          "line": {
           "width": 1.3
          },
          "opacity": 0.8,
          "size": 12,
          "symbol": "circle"
         },
         "mode": "markers",
         "name": "Gothorita",
         "textfont": {
          "color": "#4D5663"
         },
         "type": "scatter",
         "x": [
          390
         ],
         "y": [
          55
         ]
        },
        {
         "marker": {
          "color": "rgba(219, 64, 82, 0.3699999999999995)",
          "line": {
           "width": 1.3
          },
          "opacity": 0.8,
          "size": 12,
          "symbol": "circle"
         },
         "mode": "markers",
         "name": "Gothitelle",
         "textfont": {
          "color": "#4D5663"
         },
         "type": "scatter",
         "x": [
          490
         ],
         "y": [
          65
         ]
        },
        {
         "marker": {
          "color": "rgba(0, 128, 128, 0.3699999999999995)",
          "line": {
           "width": 1.3
          },
          "opacity": 0.8,
          "size": 12,
          "symbol": "circle"
         },
         "mode": "markers",
         "name": "Solosis",
         "textfont": {
          "color": "#4D5663"
         },
         "type": "scatter",
         "x": [
          290
         ],
         "y": [
          20
         ]
        },
        {
         "marker": {
          "color": "rgba(255, 255, 51, 0.3699999999999995)",
          "line": {
           "width": 1.3
          },
          "opacity": 0.8,
          "size": 12,
          "symbol": "circle"
         },
         "mode": "markers",
         "name": "Duosion",
         "textfont": {
          "color": "#4D5663"
         },
         "type": "scatter",
         "x": [
          370
         ],
         "y": [
          30
         ]
        },
        {
         "marker": {
          "color": "rgba(255, 255, 51, 0.3599999999999995)",
          "line": {
           "width": 1.3
          },
          "opacity": 0.8,
          "size": 12,
          "symbol": "circle"
         },
         "mode": "markers",
         "name": "Reuniclus",
         "textfont": {
          "color": "#4D5663"
         },
         "type": "scatter",
         "x": [
          490
         ],
         "y": [
          30
         ]
        },
        {
         "marker": {
          "color": "rgba(128, 128, 0, 0.3599999999999995)",
          "line": {
           "width": 1.3
          },
          "opacity": 0.8,
          "size": 12,
          "symbol": "circle"
         },
         "mode": "markers",
         "name": "Ducklett",
         "textfont": {
          "color": "#4D5663"
         },
         "type": "scatter",
         "x": [
          305
         ],
         "y": [
          55
         ]
        },
        {
         "marker": {
          "color": "rgba(251, 128, 114, 0.3599999999999995)",
          "line": {
           "width": 1.3
          },
          "opacity": 0.8,
          "size": 12,
          "symbol": "circle"
         },
         "mode": "markers",
         "name": "Swanna",
         "textfont": {
          "color": "#4D5663"
         },
         "type": "scatter",
         "x": [
          473
         ],
         "y": [
          98
         ]
        },
        {
         "marker": {
          "color": "rgba(128, 177, 211, 0.3599999999999995)",
          "line": {
           "width": 1.3
          },
          "opacity": 0.8,
          "size": 12,
          "symbol": "circle"
         },
         "mode": "markers",
         "name": "Vanillite",
         "textfont": {
          "color": "#4D5663"
         },
         "type": "scatter",
         "x": [
          305
         ],
         "y": [
          44
         ]
        },
        {
         "marker": {
          "color": "rgba(255, 153, 51, 0.3599999999999995)",
          "line": {
           "width": 1.3
          },
          "opacity": 0.8,
          "size": 12,
          "symbol": "circle"
         },
         "mode": "markers",
         "name": "Vanillish",
         "textfont": {
          "color": "#4D5663"
         },
         "type": "scatter",
         "x": [
          395
         ],
         "y": [
          59
         ]
        },
        {
         "marker": {
          "color": "rgba(55, 128, 191, 0.3599999999999995)",
          "line": {
           "width": 1.3
          },
          "opacity": 0.8,
          "size": 12,
          "symbol": "circle"
         },
         "mode": "markers",
         "name": "Vanilluxe",
         "textfont": {
          "color": "#4D5663"
         },
         "type": "scatter",
         "x": [
          535
         ],
         "y": [
          79
         ]
        },
        {
         "marker": {
          "color": "rgba(50, 171, 96, 0.3599999999999995)",
          "line": {
           "width": 1.3
          },
          "opacity": 0.8,
          "size": 12,
          "symbol": "circle"
         },
         "mode": "markers",
         "name": "Deerling",
         "textfont": {
          "color": "#4D5663"
         },
         "type": "scatter",
         "x": [
          335
         ],
         "y": [
          75
         ]
        },
        {
         "marker": {
          "color": "rgba(128, 0, 128, 0.3599999999999995)",
          "line": {
           "width": 1.3
          },
          "opacity": 0.8,
          "size": 12,
          "symbol": "circle"
         },
         "mode": "markers",
         "name": "Sawsbuck",
         "textfont": {
          "color": "#4D5663"
         },
         "type": "scatter",
         "x": [
          475
         ],
         "y": [
          95
         ]
        },
        {
         "marker": {
          "color": "rgba(219, 64, 82, 0.3599999999999995)",
          "line": {
           "width": 1.3
          },
          "opacity": 0.8,
          "size": 12,
          "symbol": "circle"
         },
         "mode": "markers",
         "name": "Emolga",
         "textfont": {
          "color": "#4D5663"
         },
         "type": "scatter",
         "x": [
          428
         ],
         "y": [
          103
         ]
        },
        {
         "marker": {
          "color": "rgba(0, 128, 128, 0.3599999999999995)",
          "line": {
           "width": 1.3
          },
          "opacity": 0.8,
          "size": 12,
          "symbol": "circle"
         },
         "mode": "markers",
         "name": "Karrablast",
         "textfont": {
          "color": "#4D5663"
         },
         "type": "scatter",
         "x": [
          315
         ],
         "y": [
          60
         ]
        },
        {
         "marker": {
          "color": "rgba(0, 128, 128, 0.3499999999999995)",
          "line": {
           "width": 1.3
          },
          "opacity": 0.8,
          "size": 12,
          "symbol": "circle"
         },
         "mode": "markers",
         "name": "Escavalier",
         "textfont": {
          "color": "#4D5663"
         },
         "type": "scatter",
         "x": [
          495
         ],
         "y": [
          20
         ]
        },
        {
         "marker": {
          "color": "rgba(255, 255, 51, 0.3499999999999995)",
          "line": {
           "width": 1.3
          },
          "opacity": 0.8,
          "size": 12,
          "symbol": "circle"
         },
         "mode": "markers",
         "name": "Foongus",
         "textfont": {
          "color": "#4D5663"
         },
         "type": "scatter",
         "x": [
          294
         ],
         "y": [
          15
         ]
        },
        {
         "marker": {
          "color": "rgba(128, 128, 0, 0.3499999999999995)",
          "line": {
           "width": 1.3
          },
          "opacity": 0.8,
          "size": 12,
          "symbol": "circle"
         },
         "mode": "markers",
         "name": "Amoonguss",
         "textfont": {
          "color": "#4D5663"
         },
         "type": "scatter",
         "x": [
          464
         ],
         "y": [
          30
         ]
        },
        {
         "marker": {
          "color": "rgba(251, 128, 114, 0.3499999999999995)",
          "line": {
           "width": 1.3
          },
          "opacity": 0.8,
          "size": 12,
          "symbol": "circle"
         },
         "mode": "markers",
         "name": "Frillish",
         "textfont": {
          "color": "#4D5663"
         },
         "type": "scatter",
         "x": [
          335
         ],
         "y": [
          40
         ]
        },
        {
         "marker": {
          "color": "rgba(128, 177, 211, 0.3499999999999995)",
          "line": {
           "width": 1.3
          },
          "opacity": 0.8,
          "size": 12,
          "symbol": "circle"
         },
         "mode": "markers",
         "name": "Jellicent",
         "textfont": {
          "color": "#4D5663"
         },
         "type": "scatter",
         "x": [
          480
         ],
         "y": [
          60
         ]
        },
        {
         "marker": {
          "color": "rgba(255, 153, 51, 0.3499999999999995)",
          "line": {
           "width": 1.3
          },
          "opacity": 0.8,
          "size": 12,
          "symbol": "circle"
         },
         "mode": "markers",
         "name": "Alomomola",
         "textfont": {
          "color": "#4D5663"
         },
         "type": "scatter",
         "x": [
          470
         ],
         "y": [
          65
         ]
        },
        {
         "marker": {
          "color": "rgba(55, 128, 191, 0.3499999999999995)",
          "line": {
           "width": 1.3
          },
          "opacity": 0.8,
          "size": 12,
          "symbol": "circle"
         },
         "mode": "markers",
         "name": "Joltik",
         "textfont": {
          "color": "#4D5663"
         },
         "type": "scatter",
         "x": [
          319
         ],
         "y": [
          65
         ]
        },
        {
         "marker": {
          "color": "rgba(50, 171, 96, 0.3499999999999995)",
          "line": {
           "width": 1.3
          },
          "opacity": 0.8,
          "size": 12,
          "symbol": "circle"
         },
         "mode": "markers",
         "name": "Galvantula",
         "textfont": {
          "color": "#4D5663"
         },
         "type": "scatter",
         "x": [
          472
         ],
         "y": [
          108
         ]
        },
        {
         "marker": {
          "color": "rgba(128, 0, 128, 0.3499999999999995)",
          "line": {
           "width": 1.3
          },
          "opacity": 0.8,
          "size": 12,
          "symbol": "circle"
         },
         "mode": "markers",
         "name": "Ferroseed",
         "textfont": {
          "color": "#4D5663"
         },
         "type": "scatter",
         "x": [
          305
         ],
         "y": [
          10
         ]
        },
        {
         "marker": {
          "color": "rgba(219, 64, 82, 0.3499999999999995)",
          "line": {
           "width": 1.3
          },
          "opacity": 0.8,
          "size": 12,
          "symbol": "circle"
         },
         "mode": "markers",
         "name": "Ferrothorn",
         "textfont": {
          "color": "#4D5663"
         },
         "type": "scatter",
         "x": [
          489
         ],
         "y": [
          20
         ]
        },
        {
         "marker": {
          "color": "rgba(219, 64, 82, 0.33999999999999947)",
          "line": {
           "width": 1.3
          },
          "opacity": 0.8,
          "size": 12,
          "symbol": "circle"
         },
         "mode": "markers",
         "name": "Klink",
         "textfont": {
          "color": "#4D5663"
         },
         "type": "scatter",
         "x": [
          300
         ],
         "y": [
          30
         ]
        },
        {
         "marker": {
          "color": "rgba(0, 128, 128, 0.33999999999999947)",
          "line": {
           "width": 1.3
          },
          "opacity": 0.8,
          "size": 12,
          "symbol": "circle"
         },
         "mode": "markers",
         "name": "Klang",
         "textfont": {
          "color": "#4D5663"
         },
         "type": "scatter",
         "x": [
          440
         ],
         "y": [
          50
         ]
        },
        {
         "marker": {
          "color": "rgba(255, 255, 51, 0.33999999999999947)",
          "line": {
           "width": 1.3
          },
          "opacity": 0.8,
          "size": 12,
          "symbol": "circle"
         },
         "mode": "markers",
         "name": "Klinklang",
         "textfont": {
          "color": "#4D5663"
         },
         "type": "scatter",
         "x": [
          520
         ],
         "y": [
          90
         ]
        },
        {
         "marker": {
          "color": "rgba(128, 128, 0, 0.33999999999999947)",
          "line": {
           "width": 1.3
          },
          "opacity": 0.8,
          "size": 12,
          "symbol": "circle"
         },
         "mode": "markers",
         "name": "Tynamo",
         "textfont": {
          "color": "#4D5663"
         },
         "type": "scatter",
         "x": [
          275
         ],
         "y": [
          60
         ]
        },
        {
         "marker": {
          "color": "rgba(251, 128, 114, 0.33999999999999947)",
          "line": {
           "width": 1.3
          },
          "opacity": 0.8,
          "size": 12,
          "symbol": "circle"
         },
         "mode": "markers",
         "name": "Eelektrik",
         "textfont": {
          "color": "#4D5663"
         },
         "type": "scatter",
         "x": [
          405
         ],
         "y": [
          40
         ]
        },
        {
         "marker": {
          "color": "rgba(128, 177, 211, 0.33999999999999947)",
          "line": {
           "width": 1.3
          },
          "opacity": 0.8,
          "size": 12,
          "symbol": "circle"
         },
         "mode": "markers",
         "name": "Eelektross",
         "textfont": {
          "color": "#4D5663"
         },
         "type": "scatter",
         "x": [
          515
         ],
         "y": [
          50
         ]
        },
        {
         "marker": {
          "color": "rgba(255, 153, 51, 0.33999999999999947)",
          "line": {
           "width": 1.3
          },
          "opacity": 0.8,
          "size": 12,
          "symbol": "circle"
         },
         "mode": "markers",
         "name": "Elgyem",
         "textfont": {
          "color": "#4D5663"
         },
         "type": "scatter",
         "x": [
          335
         ],
         "y": [
          30
         ]
        },
        {
         "marker": {
          "color": "rgba(55, 128, 191, 0.33999999999999947)",
          "line": {
           "width": 1.3
          },
          "opacity": 0.8,
          "size": 12,
          "symbol": "circle"
         },
         "mode": "markers",
         "name": "Beheeyem",
         "textfont": {
          "color": "#4D5663"
         },
         "type": "scatter",
         "x": [
          485
         ],
         "y": [
          40
         ]
        },
        {
         "marker": {
          "color": "rgba(50, 171, 96, 0.33999999999999947)",
          "line": {
           "width": 1.3
          },
          "opacity": 0.8,
          "size": 12,
          "symbol": "circle"
         },
         "mode": "markers",
         "name": "Litwick",
         "textfont": {
          "color": "#4D5663"
         },
         "type": "scatter",
         "x": [
          275
         ],
         "y": [
          20
         ]
        },
        {
         "marker": {
          "color": "rgba(128, 0, 128, 0.33999999999999947)",
          "line": {
           "width": 1.3
          },
          "opacity": 0.8,
          "size": 12,
          "symbol": "circle"
         },
         "mode": "markers",
         "name": "Lampent",
         "textfont": {
          "color": "#4D5663"
         },
         "type": "scatter",
         "x": [
          370
         ],
         "y": [
          55
         ]
        },
        {
         "marker": {
          "color": "rgba(128, 0, 128, 0.32999999999999946)",
          "line": {
           "width": 1.3
          },
          "opacity": 0.8,
          "size": 12,
          "symbol": "circle"
         },
         "mode": "markers",
         "name": "Chandelure",
         "textfont": {
          "color": "#4D5663"
         },
         "type": "scatter",
         "x": [
          520
         ],
         "y": [
          80
         ]
        },
        {
         "marker": {
          "color": "rgba(219, 64, 82, 0.32999999999999946)",
          "line": {
           "width": 1.3
          },
          "opacity": 0.8,
          "size": 12,
          "symbol": "circle"
         },
         "mode": "markers",
         "name": "Axew",
         "textfont": {
          "color": "#4D5663"
         },
         "type": "scatter",
         "x": [
          320
         ],
         "y": [
          57
         ]
        },
        {
         "marker": {
          "color": "rgba(0, 128, 128, 0.32999999999999946)",
          "line": {
           "width": 1.3
          },
          "opacity": 0.8,
          "size": 12,
          "symbol": "circle"
         },
         "mode": "markers",
         "name": "Fraxure",
         "textfont": {
          "color": "#4D5663"
         },
         "type": "scatter",
         "x": [
          410
         ],
         "y": [
          67
         ]
        },
        {
         "marker": {
          "color": "rgba(255, 255, 51, 0.32999999999999946)",
          "line": {
           "width": 1.3
          },
          "opacity": 0.8,
          "size": 12,
          "symbol": "circle"
         },
         "mode": "markers",
         "name": "Haxorus",
         "textfont": {
          "color": "#4D5663"
         },
         "type": "scatter",
         "x": [
          540
         ],
         "y": [
          97
         ]
        },
        {
         "marker": {
          "color": "rgba(128, 128, 0, 0.32999999999999946)",
          "line": {
           "width": 1.3
          },
          "opacity": 0.8,
          "size": 12,
          "symbol": "circle"
         },
         "mode": "markers",
         "name": "Cubchoo",
         "textfont": {
          "color": "#4D5663"
         },
         "type": "scatter",
         "x": [
          305
         ],
         "y": [
          40
         ]
        },
        {
         "marker": {
          "color": "rgba(251, 128, 114, 0.32999999999999946)",
          "line": {
           "width": 1.3
          },
          "opacity": 0.8,
          "size": 12,
          "symbol": "circle"
         },
         "mode": "markers",
         "name": "Beartic",
         "textfont": {
          "color": "#4D5663"
         },
         "type": "scatter",
         "x": [
          485
         ],
         "y": [
          50
         ]
        },
        {
         "marker": {
          "color": "rgba(128, 177, 211, 0.32999999999999946)",
          "line": {
           "width": 1.3
          },
          "opacity": 0.8,
          "size": 12,
          "symbol": "circle"
         },
         "mode": "markers",
         "name": "Cryogonal",
         "textfont": {
          "color": "#4D5663"
         },
         "type": "scatter",
         "x": [
          485
         ],
         "y": [
          105
         ]
        },
        {
         "marker": {
          "color": "rgba(255, 153, 51, 0.32999999999999946)",
          "line": {
           "width": 1.3
          },
          "opacity": 0.8,
          "size": 12,
          "symbol": "circle"
         },
         "mode": "markers",
         "name": "Shelmet",
         "textfont": {
          "color": "#4D5663"
         },
         "type": "scatter",
         "x": [
          305
         ],
         "y": [
          25
         ]
        },
        {
         "marker": {
          "color": "rgba(55, 128, 191, 0.32999999999999946)",
          "line": {
           "width": 1.3
          },
          "opacity": 0.8,
          "size": 12,
          "symbol": "circle"
         },
         "mode": "markers",
         "name": "Accelgor",
         "textfont": {
          "color": "#4D5663"
         },
         "type": "scatter",
         "x": [
          495
         ],
         "y": [
          145
         ]
        },
        {
         "marker": {
          "color": "rgba(50, 171, 96, 0.32999999999999946)",
          "line": {
           "width": 1.3
          },
          "opacity": 0.8,
          "size": 12,
          "symbol": "circle"
         },
         "mode": "markers",
         "name": "Stunfisk",
         "textfont": {
          "color": "#4D5663"
         },
         "type": "scatter",
         "x": [
          471
         ],
         "y": [
          32
         ]
        },
        {
         "marker": {
          "color": "rgba(50, 171, 96, 0.31999999999999945)",
          "line": {
           "width": 1.3
          },
          "opacity": 0.8,
          "size": 12,
          "symbol": "circle"
         },
         "mode": "markers",
         "name": "Mienfoo",
         "textfont": {
          "color": "#4D5663"
         },
         "type": "scatter",
         "x": [
          350
         ],
         "y": [
          65
         ]
        },
        {
         "marker": {
          "color": "rgba(128, 0, 128, 0.31999999999999945)",
          "line": {
           "width": 1.3
          },
          "opacity": 0.8,
          "size": 12,
          "symbol": "circle"
         },
         "mode": "markers",
         "name": "Mienshao",
         "textfont": {
          "color": "#4D5663"
         },
         "type": "scatter",
         "x": [
          510
         ],
         "y": [
          105
         ]
        },
        {
         "marker": {
          "color": "rgba(219, 64, 82, 0.31999999999999945)",
          "line": {
           "width": 1.3
          },
          "opacity": 0.8,
          "size": 12,
          "symbol": "circle"
         },
         "mode": "markers",
         "name": "Druddigon",
         "textfont": {
          "color": "#4D5663"
         },
         "type": "scatter",
         "x": [
          485
         ],
         "y": [
          48
         ]
        },
        {
         "marker": {
          "color": "rgba(0, 128, 128, 0.31999999999999945)",
          "line": {
           "width": 1.3
          },
          "opacity": 0.8,
          "size": 12,
          "symbol": "circle"
         },
         "mode": "markers",
         "name": "Golett",
         "textfont": {
          "color": "#4D5663"
         },
         "type": "scatter",
         "x": [
          303
         ],
         "y": [
          35
         ]
        },
        {
         "marker": {
          "color": "rgba(255, 255, 51, 0.31999999999999945)",
          "line": {
           "width": 1.3
          },
          "opacity": 0.8,
          "size": 12,
          "symbol": "circle"
         },
         "mode": "markers",
         "name": "Golurk",
         "textfont": {
          "color": "#4D5663"
         },
         "type": "scatter",
         "x": [
          483
         ],
         "y": [
          55
         ]
        },
        {
         "marker": {
          "color": "rgba(128, 128, 0, 0.31999999999999945)",
          "line": {
           "width": 1.3
          },
          "opacity": 0.8,
          "size": 12,
          "symbol": "circle"
         },
         "mode": "markers",
         "name": "Pawniard",
         "textfont": {
          "color": "#4D5663"
         },
         "type": "scatter",
         "x": [
          340
         ],
         "y": [
          60
         ]
        },
        {
         "marker": {
          "color": "rgba(251, 128, 114, 0.31999999999999945)",
          "line": {
           "width": 1.3
          },
          "opacity": 0.8,
          "size": 12,
          "symbol": "circle"
         },
         "mode": "markers",
         "name": "Bisharp",
         "textfont": {
          "color": "#4D5663"
         },
         "type": "scatter",
         "x": [
          490
         ],
         "y": [
          70
         ]
        },
        {
         "marker": {
          "color": "rgba(128, 177, 211, 0.31999999999999945)",
          "line": {
           "width": 1.3
          },
          "opacity": 0.8,
          "size": 12,
          "symbol": "circle"
         },
         "mode": "markers",
         "name": "Bouffalant",
         "textfont": {
          "color": "#4D5663"
         },
         "type": "scatter",
         "x": [
          490
         ],
         "y": [
          55
         ]
        },
        {
         "marker": {
          "color": "rgba(255, 153, 51, 0.31999999999999945)",
          "line": {
           "width": 1.3
          },
          "opacity": 0.8,
          "size": 12,
          "symbol": "circle"
         },
         "mode": "markers",
         "name": "Rufflet",
         "textfont": {
          "color": "#4D5663"
         },
         "type": "scatter",
         "x": [
          350
         ],
         "y": [
          60
         ]
        },
        {
         "marker": {
          "color": "rgba(55, 128, 191, 0.31999999999999945)",
          "line": {
           "width": 1.3
          },
          "opacity": 0.8,
          "size": 12,
          "symbol": "circle"
         },
         "mode": "markers",
         "name": "Braviary",
         "textfont": {
          "color": "#4D5663"
         },
         "type": "scatter",
         "x": [
          510
         ],
         "y": [
          80
         ]
        },
        {
         "marker": {
          "color": "rgba(55, 128, 191, 0.30999999999999944)",
          "line": {
           "width": 1.3
          },
          "opacity": 0.8,
          "size": 12,
          "symbol": "circle"
         },
         "mode": "markers",
         "name": "Vullaby",
         "textfont": {
          "color": "#4D5663"
         },
         "type": "scatter",
         "x": [
          370
         ],
         "y": [
          60
         ]
        },
        {
         "marker": {
          "color": "rgba(50, 171, 96, 0.30999999999999944)",
          "line": {
           "width": 1.3
          },
          "opacity": 0.8,
          "size": 12,
          "symbol": "circle"
         },
         "mode": "markers",
         "name": "Mandibuzz",
         "textfont": {
          "color": "#4D5663"
         },
         "type": "scatter",
         "x": [
          510
         ],
         "y": [
          80
         ]
        },
        {
         "marker": {
          "color": "rgba(128, 0, 128, 0.30999999999999944)",
          "line": {
           "width": 1.3
          },
          "opacity": 0.8,
          "size": 12,
          "symbol": "circle"
         },
         "mode": "markers",
         "name": "Heatmor",
         "textfont": {
          "color": "#4D5663"
         },
         "type": "scatter",
         "x": [
          484
         ],
         "y": [
          65
         ]
        },
        {
         "marker": {
          "color": "rgba(219, 64, 82, 0.30999999999999944)",
          "line": {
           "width": 1.3
          },
          "opacity": 0.8,
          "size": 12,
          "symbol": "circle"
         },
         "mode": "markers",
         "name": "Durant",
         "textfont": {
          "color": "#4D5663"
         },
         "type": "scatter",
         "x": [
          484
         ],
         "y": [
          109
         ]
        },
        {
         "marker": {
          "color": "rgba(0, 128, 128, 0.30999999999999944)",
          "line": {
           "width": 1.3
          },
          "opacity": 0.8,
          "size": 12,
          "symbol": "circle"
         },
         "mode": "markers",
         "name": "Deino",
         "textfont": {
          "color": "#4D5663"
         },
         "type": "scatter",
         "x": [
          300
         ],
         "y": [
          38
         ]
        },
        {
         "marker": {
          "color": "rgba(255, 255, 51, 0.30999999999999944)",
          "line": {
           "width": 1.3
          },
          "opacity": 0.8,
          "size": 12,
          "symbol": "circle"
         },
         "mode": "markers",
         "name": "Zweilous",
         "textfont": {
          "color": "#4D5663"
         },
         "type": "scatter",
         "x": [
          420
         ],
         "y": [
          58
         ]
        },
        {
         "marker": {
          "color": "rgba(128, 128, 0, 0.30999999999999944)",
          "line": {
           "width": 1.3
          },
          "opacity": 0.8,
          "size": 12,
          "symbol": "circle"
         },
         "mode": "markers",
         "name": "Hydreigon",
         "textfont": {
          "color": "#4D5663"
         },
         "type": "scatter",
         "x": [
          600
         ],
         "y": [
          98
         ]
        },
        {
         "marker": {
          "color": "rgba(251, 128, 114, 0.30999999999999944)",
          "line": {
           "width": 1.3
          },
          "opacity": 0.8,
          "size": 12,
          "symbol": "circle"
         },
         "mode": "markers",
         "name": "Larvesta",
         "textfont": {
          "color": "#4D5663"
         },
         "type": "scatter",
         "x": [
          360
         ],
         "y": [
          60
         ]
        },
        {
         "marker": {
          "color": "rgba(128, 177, 211, 0.30999999999999944)",
          "line": {
           "width": 1.3
          },
          "opacity": 0.8,
          "size": 12,
          "symbol": "circle"
         },
         "mode": "markers",
         "name": "Volcarona",
         "textfont": {
          "color": "#4D5663"
         },
         "type": "scatter",
         "x": [
          550
         ],
         "y": [
          100
         ]
        },
        {
         "marker": {
          "color": "rgba(255, 153, 51, 0.30999999999999944)",
          "line": {
           "width": 1.3
          },
          "opacity": 0.8,
          "size": 12,
          "symbol": "circle"
         },
         "mode": "markers",
         "name": "Cobalion",
         "textfont": {
          "color": "#4D5663"
         },
         "type": "scatter",
         "x": [
          580
         ],
         "y": [
          108
         ]
        },
        {
         "marker": {
          "color": "rgba(255, 153, 51, 0.29999999999999943)",
          "line": {
           "width": 1.3
          },
          "opacity": 0.8,
          "size": 12,
          "symbol": "circle"
         },
         "mode": "markers",
         "name": "Terrakion",
         "textfont": {
          "color": "#4D5663"
         },
         "type": "scatter",
         "x": [
          580
         ],
         "y": [
          108
         ]
        },
        {
         "marker": {
          "color": "rgba(55, 128, 191, 0.29999999999999943)",
          "line": {
           "width": 1.3
          },
          "opacity": 0.8,
          "size": 12,
          "symbol": "circle"
         },
         "mode": "markers",
         "name": "Virizion",
         "textfont": {
          "color": "#4D5663"
         },
         "type": "scatter",
         "x": [
          580
         ],
         "y": [
          108
         ]
        },
        {
         "marker": {
          "color": "rgba(50, 171, 96, 0.29999999999999943)",
          "line": {
           "width": 1.3
          },
          "opacity": 0.8,
          "size": 12,
          "symbol": "circle"
         },
         "mode": "markers",
         "name": "TornadusIncarnate Forme",
         "textfont": {
          "color": "#4D5663"
         },
         "type": "scatter",
         "x": [
          580
         ],
         "y": [
          111
         ]
        },
        {
         "marker": {
          "color": "rgba(128, 0, 128, 0.29999999999999943)",
          "line": {
           "width": 1.3
          },
          "opacity": 0.8,
          "size": 12,
          "symbol": "circle"
         },
         "mode": "markers",
         "name": "TornadusTherian Forme",
         "textfont": {
          "color": "#4D5663"
         },
         "type": "scatter",
         "x": [
          580
         ],
         "y": [
          121
         ]
        },
        {
         "marker": {
          "color": "rgba(219, 64, 82, 0.29999999999999943)",
          "line": {
           "width": 1.3
          },
          "opacity": 0.8,
          "size": 12,
          "symbol": "circle"
         },
         "mode": "markers",
         "name": "ThundurusIncarnate Forme",
         "textfont": {
          "color": "#4D5663"
         },
         "type": "scatter",
         "x": [
          580
         ],
         "y": [
          111
         ]
        },
        {
         "marker": {
          "color": "rgba(0, 128, 128, 0.29999999999999943)",
          "line": {
           "width": 1.3
          },
          "opacity": 0.8,
          "size": 12,
          "symbol": "circle"
         },
         "mode": "markers",
         "name": "ThundurusTherian Forme",
         "textfont": {
          "color": "#4D5663"
         },
         "type": "scatter",
         "x": [
          580
         ],
         "y": [
          101
         ]
        },
        {
         "marker": {
          "color": "rgba(255, 255, 51, 0.29999999999999943)",
          "line": {
           "width": 1.3
          },
          "opacity": 0.8,
          "size": 12,
          "symbol": "circle"
         },
         "mode": "markers",
         "name": "Reshiram",
         "textfont": {
          "color": "#4D5663"
         },
         "type": "scatter",
         "x": [
          680
         ],
         "y": [
          90
         ]
        },
        {
         "marker": {
          "color": "rgba(128, 128, 0, 0.29999999999999943)",
          "line": {
           "width": 1.3
          },
          "opacity": 0.8,
          "size": 12,
          "symbol": "circle"
         },
         "mode": "markers",
         "name": "Zekrom",
         "textfont": {
          "color": "#4D5663"
         },
         "type": "scatter",
         "x": [
          680
         ],
         "y": [
          90
         ]
        },
        {
         "marker": {
          "color": "rgba(251, 128, 114, 0.29999999999999943)",
          "line": {
           "width": 1.3
          },
          "opacity": 0.8,
          "size": 12,
          "symbol": "circle"
         },
         "mode": "markers",
         "name": "LandorusIncarnate Forme",
         "textfont": {
          "color": "#4D5663"
         },
         "type": "scatter",
         "x": [
          600
         ],
         "y": [
          101
         ]
        },
        {
         "marker": {
          "color": "rgba(128, 177, 211, 0.29999999999999943)",
          "line": {
           "width": 1.3
          },
          "opacity": 0.8,
          "size": 12,
          "symbol": "circle"
         },
         "mode": "markers",
         "name": "LandorusTherian Forme",
         "textfont": {
          "color": "#4D5663"
         },
         "type": "scatter",
         "x": [
          600
         ],
         "y": [
          91
         ]
        },
        {
         "marker": {
          "color": "rgba(128, 177, 211, 0.2899999999999994)",
          "line": {
           "width": 1.3
          },
          "opacity": 0.8,
          "size": 12,
          "symbol": "circle"
         },
         "mode": "markers",
         "name": "Kyurem",
         "textfont": {
          "color": "#4D5663"
         },
         "type": "scatter",
         "x": [
          660
         ],
         "y": [
          95
         ]
        },
        {
         "marker": {
          "color": "rgba(255, 153, 51, 0.2899999999999994)",
          "line": {
           "width": 1.3
          },
          "opacity": 0.8,
          "size": 12,
          "symbol": "circle"
         },
         "mode": "markers",
         "name": "KyuremBlack Kyurem",
         "textfont": {
          "color": "#4D5663"
         },
         "type": "scatter",
         "x": [
          700
         ],
         "y": [
          95
         ]
        },
        {
         "marker": {
          "color": "rgba(55, 128, 191, 0.2899999999999994)",
          "line": {
           "width": 1.3
          },
          "opacity": 0.8,
          "size": 12,
          "symbol": "circle"
         },
         "mode": "markers",
         "name": "KyuremWhite Kyurem",
         "textfont": {
          "color": "#4D5663"
         },
         "type": "scatter",
         "x": [
          700
         ],
         "y": [
          95
         ]
        },
        {
         "marker": {
          "color": "rgba(50, 171, 96, 0.2899999999999994)",
          "line": {
           "width": 1.3
          },
          "opacity": 0.8,
          "size": 12,
          "symbol": "circle"
         },
         "mode": "markers",
         "name": "KeldeoOrdinary Forme",
         "textfont": {
          "color": "#4D5663"
         },
         "type": "scatter",
         "x": [
          580
         ],
         "y": [
          108
         ]
        },
        {
         "marker": {
          "color": "rgba(128, 0, 128, 0.2899999999999994)",
          "line": {
           "width": 1.3
          },
          "opacity": 0.8,
          "size": 12,
          "symbol": "circle"
         },
         "mode": "markers",
         "name": "KeldeoResolute Forme",
         "textfont": {
          "color": "#4D5663"
         },
         "type": "scatter",
         "x": [
          580
         ],
         "y": [
          108
         ]
        },
        {
         "marker": {
          "color": "rgba(219, 64, 82, 0.2899999999999994)",
          "line": {
           "width": 1.3
          },
          "opacity": 0.8,
          "size": 12,
          "symbol": "circle"
         },
         "mode": "markers",
         "name": "MeloettaAria Forme",
         "textfont": {
          "color": "#4D5663"
         },
         "type": "scatter",
         "x": [
          600
         ],
         "y": [
          90
         ]
        },
        {
         "marker": {
          "color": "rgba(0, 128, 128, 0.2899999999999994)",
          "line": {
           "width": 1.3
          },
          "opacity": 0.8,
          "size": 12,
          "symbol": "circle"
         },
         "mode": "markers",
         "name": "MeloettaPirouette Forme",
         "textfont": {
          "color": "#4D5663"
         },
         "type": "scatter",
         "x": [
          600
         ],
         "y": [
          128
         ]
        },
        {
         "marker": {
          "color": "rgba(255, 255, 51, 0.2899999999999994)",
          "line": {
           "width": 1.3
          },
          "opacity": 0.8,
          "size": 12,
          "symbol": "circle"
         },
         "mode": "markers",
         "name": "Genesect",
         "textfont": {
          "color": "#4D5663"
         },
         "type": "scatter",
         "x": [
          600
         ],
         "y": [
          99
         ]
        },
        {
         "marker": {
          "color": "rgba(128, 128, 0, 0.2899999999999994)",
          "line": {
           "width": 1.3
          },
          "opacity": 0.8,
          "size": 12,
          "symbol": "circle"
         },
         "mode": "markers",
         "name": "Chespin",
         "textfont": {
          "color": "#4D5663"
         },
         "type": "scatter",
         "x": [
          313
         ],
         "y": [
          38
         ]
        },
        {
         "marker": {
          "color": "rgba(251, 128, 114, 0.2899999999999994)",
          "line": {
           "width": 1.3
          },
          "opacity": 0.8,
          "size": 12,
          "symbol": "circle"
         },
         "mode": "markers",
         "name": "Quilladin",
         "textfont": {
          "color": "#4D5663"
         },
         "type": "scatter",
         "x": [
          405
         ],
         "y": [
          57
         ]
        },
        {
         "marker": {
          "color": "rgba(251, 128, 114, 0.2799999999999994)",
          "line": {
           "width": 1.3
          },
          "opacity": 0.8,
          "size": 12,
          "symbol": "circle"
         },
         "mode": "markers",
         "name": "Chesnaught",
         "textfont": {
          "color": "#4D5663"
         },
         "type": "scatter",
         "x": [
          530
         ],
         "y": [
          64
         ]
        },
        {
         "marker": {
          "color": "rgba(128, 177, 211, 0.2799999999999994)",
          "line": {
           "width": 1.3
          },
          "opacity": 0.8,
          "size": 12,
          "symbol": "circle"
         },
         "mode": "markers",
         "name": "Fennekin",
         "textfont": {
          "color": "#4D5663"
         },
         "type": "scatter",
         "x": [
          307
         ],
         "y": [
          60
         ]
        },
        {
         "marker": {
          "color": "rgba(255, 153, 51, 0.2799999999999994)",
          "line": {
           "width": 1.3
          },
          "opacity": 0.8,
          "size": 12,
          "symbol": "circle"
         },
         "mode": "markers",
         "name": "Braixen",
         "textfont": {
          "color": "#4D5663"
         },
         "type": "scatter",
         "x": [
          409
         ],
         "y": [
          73
         ]
        },
        {
         "marker": {
          "color": "rgba(55, 128, 191, 0.2799999999999994)",
          "line": {
           "width": 1.3
          },
          "opacity": 0.8,
          "size": 12,
          "symbol": "circle"
         },
         "mode": "markers",
         "name": "Delphox",
         "textfont": {
          "color": "#4D5663"
         },
         "type": "scatter",
         "x": [
          534
         ],
         "y": [
          104
         ]
        },
        {
         "marker": {
          "color": "rgba(50, 171, 96, 0.2799999999999994)",
          "line": {
           "width": 1.3
          },
          "opacity": 0.8,
          "size": 12,
          "symbol": "circle"
         },
         "mode": "markers",
         "name": "Froakie",
         "textfont": {
          "color": "#4D5663"
         },
         "type": "scatter",
         "x": [
          314
         ],
         "y": [
          71
         ]
        },
        {
         "marker": {
          "color": "rgba(128, 0, 128, 0.2799999999999994)",
          "line": {
           "width": 1.3
          },
          "opacity": 0.8,
          "size": 12,
          "symbol": "circle"
         },
         "mode": "markers",
         "name": "Frogadier",
         "textfont": {
          "color": "#4D5663"
         },
         "type": "scatter",
         "x": [
          405
         ],
         "y": [
          97
         ]
        },
        {
         "marker": {
          "color": "rgba(219, 64, 82, 0.2799999999999994)",
          "line": {
           "width": 1.3
          },
          "opacity": 0.8,
          "size": 12,
          "symbol": "circle"
         },
         "mode": "markers",
         "name": "Greninja",
         "textfont": {
          "color": "#4D5663"
         },
         "type": "scatter",
         "x": [
          530
         ],
         "y": [
          122
         ]
        },
        {
         "marker": {
          "color": "rgba(0, 128, 128, 0.2799999999999994)",
          "line": {
           "width": 1.3
          },
          "opacity": 0.8,
          "size": 12,
          "symbol": "circle"
         },
         "mode": "markers",
         "name": "Bunnelby",
         "textfont": {
          "color": "#4D5663"
         },
         "type": "scatter",
         "x": [
          237
         ],
         "y": [
          57
         ]
        },
        {
         "marker": {
          "color": "rgba(255, 255, 51, 0.2799999999999994)",
          "line": {
           "width": 1.3
          },
          "opacity": 0.8,
          "size": 12,
          "symbol": "circle"
         },
         "mode": "markers",
         "name": "Diggersby",
         "textfont": {
          "color": "#4D5663"
         },
         "type": "scatter",
         "x": [
          423
         ],
         "y": [
          78
         ]
        },
        {
         "marker": {
          "color": "rgba(128, 128, 0, 0.2799999999999994)",
          "line": {
           "width": 1.3
          },
          "opacity": 0.8,
          "size": 12,
          "symbol": "circle"
         },
         "mode": "markers",
         "name": "Fletchling",
         "textfont": {
          "color": "#4D5663"
         },
         "type": "scatter",
         "x": [
          278
         ],
         "y": [
          62
         ]
        },
        {
         "marker": {
          "color": "rgba(128, 128, 0, 0.2699999999999994)",
          "line": {
           "width": 1.3
          },
          "opacity": 0.8,
          "size": 12,
          "symbol": "circle"
         },
         "mode": "markers",
         "name": "Fletchinder",
         "textfont": {
          "color": "#4D5663"
         },
         "type": "scatter",
         "x": [
          382
         ],
         "y": [
          84
         ]
        },
        {
         "marker": {
          "color": "rgba(251, 128, 114, 0.2699999999999994)",
          "line": {
           "width": 1.3
          },
          "opacity": 0.8,
          "size": 12,
          "symbol": "circle"
         },
         "mode": "markers",
         "name": "Talonflame",
         "textfont": {
          "color": "#4D5663"
         },
         "type": "scatter",
         "x": [
          499
         ],
         "y": [
          126
         ]
        },
        {
         "marker": {
          "color": "rgba(128, 177, 211, 0.2699999999999994)",
          "line": {
           "width": 1.3
          },
          "opacity": 0.8,
          "size": 12,
          "symbol": "circle"
         },
         "mode": "markers",
         "name": "Scatterbug",
         "textfont": {
          "color": "#4D5663"
         },
         "type": "scatter",
         "x": [
          200
         ],
         "y": [
          35
         ]
        },
        {
         "marker": {
          "color": "rgba(255, 153, 51, 0.2699999999999994)",
          "line": {
           "width": 1.3
          },
          "opacity": 0.8,
          "size": 12,
          "symbol": "circle"
         },
         "mode": "markers",
         "name": "Spewpa",
         "textfont": {
          "color": "#4D5663"
         },
         "type": "scatter",
         "x": [
          213
         ],
         "y": [
          29
         ]
        },
        {
         "marker": {
          "color": "rgba(55, 128, 191, 0.2699999999999994)",
          "line": {
           "width": 1.3
          },
          "opacity": 0.8,
          "size": 12,
          "symbol": "circle"
         },
         "mode": "markers",
         "name": "Vivillon",
         "textfont": {
          "color": "#4D5663"
         },
         "type": "scatter",
         "x": [
          411
         ],
         "y": [
          89
         ]
        },
        {
         "marker": {
          "color": "rgba(50, 171, 96, 0.2699999999999994)",
          "line": {
           "width": 1.3
          },
          "opacity": 0.8,
          "size": 12,
          "symbol": "circle"
         },
         "mode": "markers",
         "name": "Litleo",
         "textfont": {
          "color": "#4D5663"
         },
         "type": "scatter",
         "x": [
          369
         ],
         "y": [
          72
         ]
        },
        {
         "marker": {
          "color": "rgba(128, 0, 128, 0.2699999999999994)",
          "line": {
           "width": 1.3
          },
          "opacity": 0.8,
          "size": 12,
          "symbol": "circle"
         },
         "mode": "markers",
         "name": "Pyroar",
         "textfont": {
          "color": "#4D5663"
         },
         "type": "scatter",
         "x": [
          507
         ],
         "y": [
          106
         ]
        },
        {
         "marker": {
          "color": "rgba(219, 64, 82, 0.2699999999999994)",
          "line": {
           "width": 1.3
          },
          "opacity": 0.8,
          "size": 12,
          "symbol": "circle"
         },
         "mode": "markers",
         "name": "Flabébé",
         "textfont": {
          "color": "#4D5663"
         },
         "type": "scatter",
         "x": [
          303
         ],
         "y": [
          42
         ]
        },
        {
         "marker": {
          "color": "rgba(0, 128, 128, 0.2699999999999994)",
          "line": {
           "width": 1.3
          },
          "opacity": 0.8,
          "size": 12,
          "symbol": "circle"
         },
         "mode": "markers",
         "name": "Floette",
         "textfont": {
          "color": "#4D5663"
         },
         "type": "scatter",
         "x": [
          371
         ],
         "y": [
          52
         ]
        },
        {
         "marker": {
          "color": "rgba(255, 255, 51, 0.2699999999999994)",
          "line": {
           "width": 1.3
          },
          "opacity": 0.8,
          "size": 12,
          "symbol": "circle"
         },
         "mode": "markers",
         "name": "Florges",
         "textfont": {
          "color": "#4D5663"
         },
         "type": "scatter",
         "x": [
          552
         ],
         "y": [
          75
         ]
        },
        {
         "marker": {
          "color": "rgba(255, 255, 51, 0.2599999999999994)",
          "line": {
           "width": 1.3
          },
          "opacity": 0.8,
          "size": 12,
          "symbol": "circle"
         },
         "mode": "markers",
         "name": "Skiddo",
         "textfont": {
          "color": "#4D5663"
         },
         "type": "scatter",
         "x": [
          350
         ],
         "y": [
          52
         ]
        },
        {
         "marker": {
          "color": "rgba(128, 128, 0, 0.2599999999999994)",
          "line": {
           "width": 1.3
          },
          "opacity": 0.8,
          "size": 12,
          "symbol": "circle"
         },
         "mode": "markers",
         "name": "Gogoat",
         "textfont": {
          "color": "#4D5663"
         },
         "type": "scatter",
         "x": [
          531
         ],
         "y": [
          68
         ]
        },
        {
         "marker": {
          "color": "rgba(251, 128, 114, 0.2599999999999994)",
          "line": {
           "width": 1.3
          },
          "opacity": 0.8,
          "size": 12,
          "symbol": "circle"
         },
         "mode": "markers",
         "name": "Pancham",
         "textfont": {
          "color": "#4D5663"
         },
         "type": "scatter",
         "x": [
          348
         ],
         "y": [
          43
         ]
        },
        {
         "marker": {
          "color": "rgba(128, 177, 211, 0.2599999999999994)",
          "line": {
           "width": 1.3
          },
          "opacity": 0.8,
          "size": 12,
          "symbol": "circle"
         },
         "mode": "markers",
         "name": "Pangoro",
         "textfont": {
          "color": "#4D5663"
         },
         "type": "scatter",
         "x": [
          495
         ],
         "y": [
          58
         ]
        },
        {
         "marker": {
          "color": "rgba(255, 153, 51, 0.2599999999999994)",
          "line": {
           "width": 1.3
          },
          "opacity": 0.8,
          "size": 12,
          "symbol": "circle"
         },
         "mode": "markers",
         "name": "Furfrou",
         "textfont": {
          "color": "#4D5663"
         },
         "type": "scatter",
         "x": [
          472
         ],
         "y": [
          102
         ]
        },
        {
         "marker": {
          "color": "rgba(55, 128, 191, 0.2599999999999994)",
          "line": {
           "width": 1.3
          },
          "opacity": 0.8,
          "size": 12,
          "symbol": "circle"
         },
         "mode": "markers",
         "name": "Espurr",
         "textfont": {
          "color": "#4D5663"
         },
         "type": "scatter",
         "x": [
          355
         ],
         "y": [
          68
         ]
        },
        {
         "marker": {
          "color": "rgba(50, 171, 96, 0.2599999999999994)",
          "line": {
           "width": 1.3
          },
          "opacity": 0.8,
          "size": 12,
          "symbol": "circle"
         },
         "mode": "markers",
         "name": "MeowsticMale",
         "textfont": {
          "color": "#4D5663"
         },
         "type": "scatter",
         "x": [
          466
         ],
         "y": [
          104
         ]
        },
        {
         "marker": {
          "color": "rgba(128, 0, 128, 0.2599999999999994)",
          "line": {
           "width": 1.3
          },
          "opacity": 0.8,
          "size": 12,
          "symbol": "circle"
         },
         "mode": "markers",
         "name": "MeowsticFemale",
         "textfont": {
          "color": "#4D5663"
         },
         "type": "scatter",
         "x": [
          466
         ],
         "y": [
          104
         ]
        },
        {
         "marker": {
          "color": "rgba(219, 64, 82, 0.2599999999999994)",
          "line": {
           "width": 1.3
          },
          "opacity": 0.8,
          "size": 12,
          "symbol": "circle"
         },
         "mode": "markers",
         "name": "Honedge",
         "textfont": {
          "color": "#4D5663"
         },
         "type": "scatter",
         "x": [
          325
         ],
         "y": [
          28
         ]
        },
        {
         "marker": {
          "color": "rgba(0, 128, 128, 0.2599999999999994)",
          "line": {
           "width": 1.3
          },
          "opacity": 0.8,
          "size": 12,
          "symbol": "circle"
         },
         "mode": "markers",
         "name": "Doublade",
         "textfont": {
          "color": "#4D5663"
         },
         "type": "scatter",
         "x": [
          448
         ],
         "y": [
          35
         ]
        },
        {
         "marker": {
          "color": "rgba(0, 128, 128, 0.2499999999999994)",
          "line": {
           "width": 1.3
          },
          "opacity": 0.8,
          "size": 12,
          "symbol": "circle"
         },
         "mode": "markers",
         "name": "AegislashBlade Forme",
         "textfont": {
          "color": "#4D5663"
         },
         "type": "scatter",
         "x": [
          520
         ],
         "y": [
          60
         ]
        },
        {
         "marker": {
          "color": "rgba(255, 255, 51, 0.2499999999999994)",
          "line": {
           "width": 1.3
          },
          "opacity": 0.8,
          "size": 12,
          "symbol": "circle"
         },
         "mode": "markers",
         "name": "AegislashShield Forme",
         "textfont": {
          "color": "#4D5663"
         },
         "type": "scatter",
         "x": [
          520
         ],
         "y": [
          60
         ]
        },
        {
         "marker": {
          "color": "rgba(128, 128, 0, 0.2499999999999994)",
          "line": {
           "width": 1.3
          },
          "opacity": 0.8,
          "size": 12,
          "symbol": "circle"
         },
         "mode": "markers",
         "name": "Spritzee",
         "textfont": {
          "color": "#4D5663"
         },
         "type": "scatter",
         "x": [
          341
         ],
         "y": [
          23
         ]
        },
        {
         "marker": {
          "color": "rgba(251, 128, 114, 0.2499999999999994)",
          "line": {
           "width": 1.3
          },
          "opacity": 0.8,
          "size": 12,
          "symbol": "circle"
         },
         "mode": "markers",
         "name": "Aromatisse",
         "textfont": {
          "color": "#4D5663"
         },
         "type": "scatter",
         "x": [
          462
         ],
         "y": [
          29
         ]
        },
        {
         "marker": {
          "color": "rgba(128, 177, 211, 0.2499999999999994)",
          "line": {
           "width": 1.3
          },
          "opacity": 0.8,
          "size": 12,
          "symbol": "circle"
         },
         "mode": "markers",
         "name": "Swirlix",
         "textfont": {
          "color": "#4D5663"
         },
         "type": "scatter",
         "x": [
          341
         ],
         "y": [
          49
         ]
        },
        {
         "marker": {
          "color": "rgba(255, 153, 51, 0.2499999999999994)",
          "line": {
           "width": 1.3
          },
          "opacity": 0.8,
          "size": 12,
          "symbol": "circle"
         },
         "mode": "markers",
         "name": "Slurpuff",
         "textfont": {
          "color": "#4D5663"
         },
         "type": "scatter",
         "x": [
          480
         ],
         "y": [
          72
         ]
        },
        {
         "marker": {
          "color": "rgba(55, 128, 191, 0.2499999999999994)",
          "line": {
           "width": 1.3
          },
          "opacity": 0.8,
          "size": 12,
          "symbol": "circle"
         },
         "mode": "markers",
         "name": "Inkay",
         "textfont": {
          "color": "#4D5663"
         },
         "type": "scatter",
         "x": [
          288
         ],
         "y": [
          45
         ]
        },
        {
         "marker": {
          "color": "rgba(50, 171, 96, 0.2499999999999994)",
          "line": {
           "width": 1.3
          },
          "opacity": 0.8,
          "size": 12,
          "symbol": "circle"
         },
         "mode": "markers",
         "name": "Malamar",
         "textfont": {
          "color": "#4D5663"
         },
         "type": "scatter",
         "x": [
          482
         ],
         "y": [
          73
         ]
        },
        {
         "marker": {
          "color": "rgba(128, 0, 128, 0.2499999999999994)",
          "line": {
           "width": 1.3
          },
          "opacity": 0.8,
          "size": 12,
          "symbol": "circle"
         },
         "mode": "markers",
         "name": "Binacle",
         "textfont": {
          "color": "#4D5663"
         },
         "type": "scatter",
         "x": [
          306
         ],
         "y": [
          50
         ]
        },
        {
         "marker": {
          "color": "rgba(219, 64, 82, 0.2499999999999994)",
          "line": {
           "width": 1.3
          },
          "opacity": 0.8,
          "size": 12,
          "symbol": "circle"
         },
         "mode": "markers",
         "name": "Barbaracle",
         "textfont": {
          "color": "#4D5663"
         },
         "type": "scatter",
         "x": [
          500
         ],
         "y": [
          68
         ]
        },
        {
         "marker": {
          "color": "rgba(219, 64, 82, 0.23999999999999938)",
          "line": {
           "width": 1.3
          },
          "opacity": 0.8,
          "size": 12,
          "symbol": "circle"
         },
         "mode": "markers",
         "name": "Skrelp",
         "textfont": {
          "color": "#4D5663"
         },
         "type": "scatter",
         "x": [
          320
         ],
         "y": [
          30
         ]
        },
        {
         "marker": {
          "color": "rgba(0, 128, 128, 0.23999999999999938)",
          "line": {
           "width": 1.3
          },
          "opacity": 0.8,
          "size": 12,
          "symbol": "circle"
         },
         "mode": "markers",
         "name": "Dragalge",
         "textfont": {
          "color": "#4D5663"
         },
         "type": "scatter",
         "x": [
          494
         ],
         "y": [
          44
         ]
        },
        {
         "marker": {
          "color": "rgba(255, 255, 51, 0.23999999999999938)",
          "line": {
           "width": 1.3
          },
          "opacity": 0.8,
          "size": 12,
          "symbol": "circle"
         },
         "mode": "markers",
         "name": "Clauncher",
         "textfont": {
          "color": "#4D5663"
         },
         "type": "scatter",
         "x": [
          330
         ],
         "y": [
          44
         ]
        },
        {
         "marker": {
          "color": "rgba(128, 128, 0, 0.23999999999999938)",
          "line": {
           "width": 1.3
          },
          "opacity": 0.8,
          "size": 12,
          "symbol": "circle"
         },
         "mode": "markers",
         "name": "Clawitzer",
         "textfont": {
          "color": "#4D5663"
         },
         "type": "scatter",
         "x": [
          500
         ],
         "y": [
          59
         ]
        },
        {
         "marker": {
          "color": "rgba(251, 128, 114, 0.23999999999999938)",
          "line": {
           "width": 1.3
          },
          "opacity": 0.8,
          "size": 12,
          "symbol": "circle"
         },
         "mode": "markers",
         "name": "Helioptile",
         "textfont": {
          "color": "#4D5663"
         },
         "type": "scatter",
         "x": [
          289
         ],
         "y": [
          70
         ]
        },
        {
         "marker": {
          "color": "rgba(128, 177, 211, 0.23999999999999938)",
          "line": {
           "width": 1.3
          },
          "opacity": 0.8,
          "size": 12,
          "symbol": "circle"
         },
         "mode": "markers",
         "name": "Heliolisk",
         "textfont": {
          "color": "#4D5663"
         },
         "type": "scatter",
         "x": [
          481
         ],
         "y": [
          109
         ]
        },
        {
         "marker": {
          "color": "rgba(255, 153, 51, 0.23999999999999938)",
          "line": {
           "width": 1.3
          },
          "opacity": 0.8,
          "size": 12,
          "symbol": "circle"
         },
         "mode": "markers",
         "name": "Tyrunt",
         "textfont": {
          "color": "#4D5663"
         },
         "type": "scatter",
         "x": [
          362
         ],
         "y": [
          48
         ]
        },
        {
         "marker": {
          "color": "rgba(55, 128, 191, 0.23999999999999938)",
          "line": {
           "width": 1.3
          },
          "opacity": 0.8,
          "size": 12,
          "symbol": "circle"
         },
         "mode": "markers",
         "name": "Tyrantrum",
         "textfont": {
          "color": "#4D5663"
         },
         "type": "scatter",
         "x": [
          521
         ],
         "y": [
          71
         ]
        },
        {
         "marker": {
          "color": "rgba(50, 171, 96, 0.23999999999999938)",
          "line": {
           "width": 1.3
          },
          "opacity": 0.8,
          "size": 12,
          "symbol": "circle"
         },
         "mode": "markers",
         "name": "Amaura",
         "textfont": {
          "color": "#4D5663"
         },
         "type": "scatter",
         "x": [
          362
         ],
         "y": [
          46
         ]
        },
        {
         "marker": {
          "color": "rgba(128, 0, 128, 0.23999999999999938)",
          "line": {
           "width": 1.3
          },
          "opacity": 0.8,
          "size": 12,
          "symbol": "circle"
         },
         "mode": "markers",
         "name": "Aurorus",
         "textfont": {
          "color": "#4D5663"
         },
         "type": "scatter",
         "x": [
          521
         ],
         "y": [
          58
         ]
        },
        {
         "marker": {
          "color": "rgba(128, 0, 128, 0.22999999999999937)",
          "line": {
           "width": 1.3
          },
          "opacity": 0.8,
          "size": 12,
          "symbol": "circle"
         },
         "mode": "markers",
         "name": "Sylveon",
         "textfont": {
          "color": "#4D5663"
         },
         "type": "scatter",
         "x": [
          525
         ],
         "y": [
          60
         ]
        },
        {
         "marker": {
          "color": "rgba(219, 64, 82, 0.22999999999999937)",
          "line": {
           "width": 1.3
          },
          "opacity": 0.8,
          "size": 12,
          "symbol": "circle"
         },
         "mode": "markers",
         "name": "Hawlucha",
         "textfont": {
          "color": "#4D5663"
         },
         "type": "scatter",
         "x": [
          500
         ],
         "y": [
          118
         ]
        },
        {
         "marker": {
          "color": "rgba(0, 128, 128, 0.22999999999999937)",
          "line": {
           "width": 1.3
          },
          "opacity": 0.8,
          "size": 12,
          "symbol": "circle"
         },
         "mode": "markers",
         "name": "Dedenne",
         "textfont": {
          "color": "#4D5663"
         },
         "type": "scatter",
         "x": [
          431
         ],
         "y": [
          101
         ]
        },
        {
         "marker": {
          "color": "rgba(255, 255, 51, 0.22999999999999937)",
          "line": {
           "width": 1.3
          },
          "opacity": 0.8,
          "size": 12,
          "symbol": "circle"
         },
         "mode": "markers",
         "name": "Carbink",
         "textfont": {
          "color": "#4D5663"
         },
         "type": "scatter",
         "x": [
          500
         ],
         "y": [
          50
         ]
        },
        {
         "marker": {
          "color": "rgba(128, 128, 0, 0.22999999999999937)",
          "line": {
           "width": 1.3
          },
          "opacity": 0.8,
          "size": 12,
          "symbol": "circle"
         },
         "mode": "markers",
         "name": "Goomy",
         "textfont": {
          "color": "#4D5663"
         },
         "type": "scatter",
         "x": [
          300
         ],
         "y": [
          40
         ]
        },
        {
         "marker": {
          "color": "rgba(251, 128, 114, 0.22999999999999937)",
          "line": {
           "width": 1.3
          },
          "opacity": 0.8,
          "size": 12,
          "symbol": "circle"
         },
         "mode": "markers",
         "name": "Sliggoo",
         "textfont": {
          "color": "#4D5663"
         },
         "type": "scatter",
         "x": [
          452
         ],
         "y": [
          60
         ]
        },
        {
         "marker": {
          "color": "rgba(128, 177, 211, 0.22999999999999937)",
          "line": {
           "width": 1.3
          },
          "opacity": 0.8,
          "size": 12,
          "symbol": "circle"
         },
         "mode": "markers",
         "name": "Goodra",
         "textfont": {
          "color": "#4D5663"
         },
         "type": "scatter",
         "x": [
          600
         ],
         "y": [
          80
         ]
        },
        {
         "marker": {
          "color": "rgba(255, 153, 51, 0.22999999999999937)",
          "line": {
           "width": 1.3
          },
          "opacity": 0.8,
          "size": 12,
          "symbol": "circle"
         },
         "mode": "markers",
         "name": "Klefki",
         "textfont": {
          "color": "#4D5663"
         },
         "type": "scatter",
         "x": [
          470
         ],
         "y": [
          75
         ]
        },
        {
         "marker": {
          "color": "rgba(55, 128, 191, 0.22999999999999937)",
          "line": {
           "width": 1.3
          },
          "opacity": 0.8,
          "size": 12,
          "symbol": "circle"
         },
         "mode": "markers",
         "name": "Phantump",
         "textfont": {
          "color": "#4D5663"
         },
         "type": "scatter",
         "x": [
          309
         ],
         "y": [
          38
         ]
        },
        {
         "marker": {
          "color": "rgba(50, 171, 96, 0.22999999999999937)",
          "line": {
           "width": 1.3
          },
          "opacity": 0.8,
          "size": 12,
          "symbol": "circle"
         },
         "mode": "markers",
         "name": "Trevenant",
         "textfont": {
          "color": "#4D5663"
         },
         "type": "scatter",
         "x": [
          474
         ],
         "y": [
          56
         ]
        },
        {
         "marker": {
          "color": "rgba(50, 171, 96, 0.21999999999999936)",
          "line": {
           "width": 1.3
          },
          "opacity": 0.8,
          "size": 12,
          "symbol": "circle"
         },
         "mode": "markers",
         "name": "PumpkabooAverage Size",
         "textfont": {
          "color": "#4D5663"
         },
         "type": "scatter",
         "x": [
          335
         ],
         "y": [
          51
         ]
        },
        {
         "marker": {
          "color": "rgba(128, 0, 128, 0.21999999999999936)",
          "line": {
           "width": 1.3
          },
          "opacity": 0.8,
          "size": 12,
          "symbol": "circle"
         },
         "mode": "markers",
         "name": "PumpkabooSmall Size",
         "textfont": {
          "color": "#4D5663"
         },
         "type": "scatter",
         "x": [
          335
         ],
         "y": [
          56
         ]
        },
        {
         "marker": {
          "color": "rgba(219, 64, 82, 0.21999999999999936)",
          "line": {
           "width": 1.3
          },
          "opacity": 0.8,
          "size": 12,
          "symbol": "circle"
         },
         "mode": "markers",
         "name": "PumpkabooLarge Size",
         "textfont": {
          "color": "#4D5663"
         },
         "type": "scatter",
         "x": [
          335
         ],
         "y": [
          46
         ]
        },
        {
         "marker": {
          "color": "rgba(0, 128, 128, 0.21999999999999936)",
          "line": {
           "width": 1.3
          },
          "opacity": 0.8,
          "size": 12,
          "symbol": "circle"
         },
         "mode": "markers",
         "name": "PumpkabooSuper Size",
         "textfont": {
          "color": "#4D5663"
         },
         "type": "scatter",
         "x": [
          335
         ],
         "y": [
          41
         ]
        },
        {
         "marker": {
          "color": "rgba(255, 255, 51, 0.21999999999999936)",
          "line": {
           "width": 1.3
          },
          "opacity": 0.8,
          "size": 12,
          "symbol": "circle"
         },
         "mode": "markers",
         "name": "GourgeistAverage Size",
         "textfont": {
          "color": "#4D5663"
         },
         "type": "scatter",
         "x": [
          494
         ],
         "y": [
          84
         ]
        },
        {
         "marker": {
          "color": "rgba(128, 128, 0, 0.21999999999999936)",
          "line": {
           "width": 1.3
          },
          "opacity": 0.8,
          "size": 12,
          "symbol": "circle"
         },
         "mode": "markers",
         "name": "GourgeistSmall Size",
         "textfont": {
          "color": "#4D5663"
         },
         "type": "scatter",
         "x": [
          494
         ],
         "y": [
          99
         ]
        },
        {
         "marker": {
          "color": "rgba(251, 128, 114, 0.21999999999999936)",
          "line": {
           "width": 1.3
          },
          "opacity": 0.8,
          "size": 12,
          "symbol": "circle"
         },
         "mode": "markers",
         "name": "GourgeistLarge Size",
         "textfont": {
          "color": "#4D5663"
         },
         "type": "scatter",
         "x": [
          494
         ],
         "y": [
          69
         ]
        },
        {
         "marker": {
          "color": "rgba(128, 177, 211, 0.21999999999999936)",
          "line": {
           "width": 1.3
          },
          "opacity": 0.8,
          "size": 12,
          "symbol": "circle"
         },
         "mode": "markers",
         "name": "GourgeistSuper Size",
         "textfont": {
          "color": "#4D5663"
         },
         "type": "scatter",
         "x": [
          494
         ],
         "y": [
          54
         ]
        },
        {
         "marker": {
          "color": "rgba(255, 153, 51, 0.21999999999999936)",
          "line": {
           "width": 1.3
          },
          "opacity": 0.8,
          "size": 12,
          "symbol": "circle"
         },
         "mode": "markers",
         "name": "Bergmite",
         "textfont": {
          "color": "#4D5663"
         },
         "type": "scatter",
         "x": [
          304
         ],
         "y": [
          28
         ]
        },
        {
         "marker": {
          "color": "rgba(55, 128, 191, 0.21999999999999936)",
          "line": {
           "width": 1.3
          },
          "opacity": 0.8,
          "size": 12,
          "symbol": "circle"
         },
         "mode": "markers",
         "name": "Avalugg",
         "textfont": {
          "color": "#4D5663"
         },
         "type": "scatter",
         "x": [
          514
         ],
         "y": [
          28
         ]
        },
        {
         "marker": {
          "color": "rgba(55, 128, 191, 0.20999999999999935)",
          "line": {
           "width": 1.3
          },
          "opacity": 0.8,
          "size": 12,
          "symbol": "circle"
         },
         "mode": "markers",
         "name": "Noibat",
         "textfont": {
          "color": "#4D5663"
         },
         "type": "scatter",
         "x": [
          245
         ],
         "y": [
          55
         ]
        },
        {
         "marker": {
          "color": "rgba(50, 171, 96, 0.20999999999999935)",
          "line": {
           "width": 1.3
          },
          "opacity": 0.8,
          "size": 12,
          "symbol": "circle"
         },
         "mode": "markers",
         "name": "Noivern",
         "textfont": {
          "color": "#4D5663"
         },
         "type": "scatter",
         "x": [
          535
         ],
         "y": [
          123
         ]
        },
        {
         "marker": {
          "color": "rgba(128, 0, 128, 0.20999999999999935)",
          "line": {
           "width": 1.3
          },
          "opacity": 0.8,
          "size": 12,
          "symbol": "circle"
         },
         "mode": "markers",
         "name": "Xerneas",
         "textfont": {
          "color": "#4D5663"
         },
         "type": "scatter",
         "x": [
          680
         ],
         "y": [
          99
         ]
        },
        {
         "marker": {
          "color": "rgba(219, 64, 82, 0.20999999999999935)",
          "line": {
           "width": 1.3
          },
          "opacity": 0.8,
          "size": 12,
          "symbol": "circle"
         },
         "mode": "markers",
         "name": "Yveltal",
         "textfont": {
          "color": "#4D5663"
         },
         "type": "scatter",
         "x": [
          680
         ],
         "y": [
          99
         ]
        },
        {
         "marker": {
          "color": "rgba(0, 128, 128, 0.20999999999999935)",
          "line": {
           "width": 1.3
          },
          "opacity": 0.8,
          "size": 12,
          "symbol": "circle"
         },
         "mode": "markers",
         "name": "Zygarde50% Forme",
         "textfont": {
          "color": "#4D5663"
         },
         "type": "scatter",
         "x": [
          600
         ],
         "y": [
          95
         ]
        },
        {
         "marker": {
          "color": "rgba(255, 255, 51, 0.20999999999999935)",
          "line": {
           "width": 1.3
          },
          "opacity": 0.8,
          "size": 12,
          "symbol": "circle"
         },
         "mode": "markers",
         "name": "Diancie",
         "textfont": {
          "color": "#4D5663"
         },
         "type": "scatter",
         "x": [
          600
         ],
         "y": [
          50
         ]
        },
        {
         "marker": {
          "color": "rgba(128, 128, 0, 0.20999999999999935)",
          "line": {
           "width": 1.3
          },
          "opacity": 0.8,
          "size": 12,
          "symbol": "circle"
         },
         "mode": "markers",
         "name": "DiancieMega Diancie",
         "textfont": {
          "color": "#4D5663"
         },
         "type": "scatter",
         "x": [
          700
         ],
         "y": [
          110
         ]
        },
        {
         "marker": {
          "color": "rgba(251, 128, 114, 0.20999999999999935)",
          "line": {
           "width": 1.3
          },
          "opacity": 0.8,
          "size": 12,
          "symbol": "circle"
         },
         "mode": "markers",
         "name": "HoopaHoopa Confined",
         "textfont": {
          "color": "#4D5663"
         },
         "type": "scatter",
         "x": [
          600
         ],
         "y": [
          70
         ]
        },
        {
         "marker": {
          "color": "rgba(128, 177, 211, 0.20999999999999935)",
          "line": {
           "width": 1.3
          },
          "opacity": 0.8,
          "size": 12,
          "symbol": "circle"
         },
         "mode": "markers",
         "name": "HoopaHoopa Unbound",
         "textfont": {
          "color": "#4D5663"
         },
         "type": "scatter",
         "x": [
          680
         ],
         "y": [
          80
         ]
        },
        {
         "marker": {
          "color": "rgba(255, 153, 51, 0.20999999999999935)",
          "line": {
           "width": 1.3
          },
          "opacity": 0.8,
          "size": 12,
          "symbol": "circle"
         },
         "mode": "markers",
         "name": "Volcanion",
         "textfont": {
          "color": "#4D5663"
         },
         "type": "scatter",
         "x": [
          600
         ],
         "y": [
          70
         ]
        }
       ],
       "layout": {
        "legend": {
         "bgcolor": "#FFFFFF",
         "font": {
          "color": "#4D5663"
         }
        },
        "paper_bgcolor": "#FFFFFF",
        "plot_bgcolor": "#FFFFFF",
        "template": {
         "data": {
          "bar": [
           {
            "error_x": {
             "color": "#2a3f5f"
            },
            "error_y": {
             "color": "#2a3f5f"
            },
            "marker": {
             "line": {
              "color": "#E5ECF6",
              "width": 0.5
             },
             "pattern": {
              "fillmode": "overlay",
              "size": 10,
              "solidity": 0.2
             }
            },
            "type": "bar"
           }
          ],
          "barpolar": [
           {
            "marker": {
             "line": {
              "color": "#E5ECF6",
              "width": 0.5
             },
             "pattern": {
              "fillmode": "overlay",
              "size": 10,
              "solidity": 0.2
             }
            },
            "type": "barpolar"
           }
          ],
          "carpet": [
           {
            "aaxis": {
             "endlinecolor": "#2a3f5f",
             "gridcolor": "white",
             "linecolor": "white",
             "minorgridcolor": "white",
             "startlinecolor": "#2a3f5f"
            },
            "baxis": {
             "endlinecolor": "#2a3f5f",
             "gridcolor": "white",
             "linecolor": "white",
             "minorgridcolor": "white",
             "startlinecolor": "#2a3f5f"
            },
            "type": "carpet"
           }
          ],
          "choropleth": [
           {
            "colorbar": {
             "outlinewidth": 0,
             "ticks": ""
            },
            "type": "choropleth"
           }
          ],
          "contour": [
           {
            "colorbar": {
             "outlinewidth": 0,
             "ticks": ""
            },
            "colorscale": [
             [
              0,
              "#0d0887"
             ],
             [
              0.1111111111111111,
              "#46039f"
             ],
             [
              0.2222222222222222,
              "#7201a8"
             ],
             [
              0.3333333333333333,
              "#9c179e"
             ],
             [
              0.4444444444444444,
              "#bd3786"
             ],
             [
              0.5555555555555556,
              "#d8576b"
             ],
             [
              0.6666666666666666,
              "#ed7953"
             ],
             [
              0.7777777777777778,
              "#fb9f3a"
             ],
             [
              0.8888888888888888,
              "#fdca26"
             ],
             [
              1,
              "#f0f921"
             ]
            ],
            "type": "contour"
           }
          ],
          "contourcarpet": [
           {
            "colorbar": {
             "outlinewidth": 0,
             "ticks": ""
            },
            "type": "contourcarpet"
           }
          ],
          "heatmap": [
           {
            "colorbar": {
             "outlinewidth": 0,
             "ticks": ""
            },
            "colorscale": [
             [
              0,
              "#0d0887"
             ],
             [
              0.1111111111111111,
              "#46039f"
             ],
             [
              0.2222222222222222,
              "#7201a8"
             ],
             [
              0.3333333333333333,
              "#9c179e"
             ],
             [
              0.4444444444444444,
              "#bd3786"
             ],
             [
              0.5555555555555556,
              "#d8576b"
             ],
             [
              0.6666666666666666,
              "#ed7953"
             ],
             [
              0.7777777777777778,
              "#fb9f3a"
             ],
             [
              0.8888888888888888,
              "#fdca26"
             ],
             [
              1,
              "#f0f921"
             ]
            ],
            "type": "heatmap"
           }
          ],
          "heatmapgl": [
           {
            "colorbar": {
             "outlinewidth": 0,
             "ticks": ""
            },
            "colorscale": [
             [
              0,
              "#0d0887"
             ],
             [
              0.1111111111111111,
              "#46039f"
             ],
             [
              0.2222222222222222,
              "#7201a8"
             ],
             [
              0.3333333333333333,
              "#9c179e"
             ],
             [
              0.4444444444444444,
              "#bd3786"
             ],
             [
              0.5555555555555556,
              "#d8576b"
             ],
             [
              0.6666666666666666,
              "#ed7953"
             ],
             [
              0.7777777777777778,
              "#fb9f3a"
             ],
             [
              0.8888888888888888,
              "#fdca26"
             ],
             [
              1,
              "#f0f921"
             ]
            ],
            "type": "heatmapgl"
           }
          ],
          "histogram": [
           {
            "marker": {
             "pattern": {
              "fillmode": "overlay",
              "size": 10,
              "solidity": 0.2
             }
            },
            "type": "histogram"
           }
          ],
          "histogram2d": [
           {
            "colorbar": {
             "outlinewidth": 0,
             "ticks": ""
            },
            "colorscale": [
             [
              0,
              "#0d0887"
             ],
             [
              0.1111111111111111,
              "#46039f"
             ],
             [
              0.2222222222222222,
              "#7201a8"
             ],
             [
              0.3333333333333333,
              "#9c179e"
             ],
             [
              0.4444444444444444,
              "#bd3786"
             ],
             [
              0.5555555555555556,
              "#d8576b"
             ],
             [
              0.6666666666666666,
              "#ed7953"
             ],
             [
              0.7777777777777778,
              "#fb9f3a"
             ],
             [
              0.8888888888888888,
              "#fdca26"
             ],
             [
              1,
              "#f0f921"
             ]
            ],
            "type": "histogram2d"
           }
          ],
          "histogram2dcontour": [
           {
            "colorbar": {
             "outlinewidth": 0,
             "ticks": ""
            },
            "colorscale": [
             [
              0,
              "#0d0887"
             ],
             [
              0.1111111111111111,
              "#46039f"
             ],
             [
              0.2222222222222222,
              "#7201a8"
             ],
             [
              0.3333333333333333,
              "#9c179e"
             ],
             [
              0.4444444444444444,
              "#bd3786"
             ],
             [
              0.5555555555555556,
              "#d8576b"
             ],
             [
              0.6666666666666666,
              "#ed7953"
             ],
             [
              0.7777777777777778,
              "#fb9f3a"
             ],
             [
              0.8888888888888888,
              "#fdca26"
             ],
             [
              1,
              "#f0f921"
             ]
            ],
            "type": "histogram2dcontour"
           }
          ],
          "mesh3d": [
           {
            "colorbar": {
             "outlinewidth": 0,
             "ticks": ""
            },
            "type": "mesh3d"
           }
          ],
          "parcoords": [
           {
            "line": {
             "colorbar": {
              "outlinewidth": 0,
              "ticks": ""
             }
            },
            "type": "parcoords"
           }
          ],
          "pie": [
           {
            "automargin": true,
            "type": "pie"
           }
          ],
          "scatter": [
           {
            "marker": {
             "colorbar": {
              "outlinewidth": 0,
              "ticks": ""
             }
            },
            "type": "scatter"
           }
          ],
          "scatter3d": [
           {
            "line": {
             "colorbar": {
              "outlinewidth": 0,
              "ticks": ""
             }
            },
            "marker": {
             "colorbar": {
              "outlinewidth": 0,
              "ticks": ""
             }
            },
            "type": "scatter3d"
           }
          ],
          "scattercarpet": [
           {
            "marker": {
             "colorbar": {
              "outlinewidth": 0,
              "ticks": ""
             }
            },
            "type": "scattercarpet"
           }
          ],
          "scattergeo": [
           {
            "marker": {
             "colorbar": {
              "outlinewidth": 0,
              "ticks": ""
             }
            },
            "type": "scattergeo"
           }
          ],
          "scattergl": [
           {
            "marker": {
             "colorbar": {
              "outlinewidth": 0,
              "ticks": ""
             }
            },
            "type": "scattergl"
           }
          ],
          "scattermapbox": [
           {
            "marker": {
             "colorbar": {
              "outlinewidth": 0,
              "ticks": ""
             }
            },
            "type": "scattermapbox"
           }
          ],
          "scatterpolar": [
           {
            "marker": {
             "colorbar": {
              "outlinewidth": 0,
              "ticks": ""
             }
            },
            "type": "scatterpolar"
           }
          ],
          "scatterpolargl": [
           {
            "marker": {
             "colorbar": {
              "outlinewidth": 0,
              "ticks": ""
             }
            },
            "type": "scatterpolargl"
           }
          ],
          "scatterternary": [
           {
            "marker": {
             "colorbar": {
              "outlinewidth": 0,
              "ticks": ""
             }
            },
            "type": "scatterternary"
           }
          ],
          "surface": [
           {
            "colorbar": {
             "outlinewidth": 0,
             "ticks": ""
            },
            "colorscale": [
             [
              0,
              "#0d0887"
             ],
             [
              0.1111111111111111,
              "#46039f"
             ],
             [
              0.2222222222222222,
              "#7201a8"
             ],
             [
              0.3333333333333333,
              "#9c179e"
             ],
             [
              0.4444444444444444,
              "#bd3786"
             ],
             [
              0.5555555555555556,
              "#d8576b"
             ],
             [
              0.6666666666666666,
              "#ed7953"
             ],
             [
              0.7777777777777778,
              "#fb9f3a"
             ],
             [
              0.8888888888888888,
              "#fdca26"
             ],
             [
              1,
              "#f0f921"
             ]
            ],
            "type": "surface"
           }
          ],
          "table": [
           {
            "cells": {
             "fill": {
              "color": "#EBF0F8"
             },
             "line": {
              "color": "white"
             }
            },
            "header": {
             "fill": {
              "color": "#C8D4E3"
             },
             "line": {
              "color": "white"
             }
            },
            "type": "table"
           }
          ]
         },
         "layout": {
          "annotationdefaults": {
           "arrowcolor": "#2a3f5f",
           "arrowhead": 0,
           "arrowwidth": 1
          },
          "autotypenumbers": "strict",
          "coloraxis": {
           "colorbar": {
            "outlinewidth": 0,
            "ticks": ""
           }
          },
          "colorscale": {
           "diverging": [
            [
             0,
             "#8e0152"
            ],
            [
             0.1,
             "#c51b7d"
            ],
            [
             0.2,
             "#de77ae"
            ],
            [
             0.3,
             "#f1b6da"
            ],
            [
             0.4,
             "#fde0ef"
            ],
            [
             0.5,
             "#f7f7f7"
            ],
            [
             0.6,
             "#e6f5d0"
            ],
            [
             0.7,
             "#b8e186"
            ],
            [
             0.8,
             "#7fbc41"
            ],
            [
             0.9,
             "#4d9221"
            ],
            [
             1,
             "#276419"
            ]
           ],
           "sequential": [
            [
             0,
             "#0d0887"
            ],
            [
             0.1111111111111111,
             "#46039f"
            ],
            [
             0.2222222222222222,
             "#7201a8"
            ],
            [
             0.3333333333333333,
             "#9c179e"
            ],
            [
             0.4444444444444444,
             "#bd3786"
            ],
            [
             0.5555555555555556,
             "#d8576b"
            ],
            [
             0.6666666666666666,
             "#ed7953"
            ],
            [
             0.7777777777777778,
             "#fb9f3a"
            ],
            [
             0.8888888888888888,
             "#fdca26"
            ],
            [
             1,
             "#f0f921"
            ]
           ],
           "sequentialminus": [
            [
             0,
             "#0d0887"
            ],
            [
             0.1111111111111111,
             "#46039f"
            ],
            [
             0.2222222222222222,
             "#7201a8"
            ],
            [
             0.3333333333333333,
             "#9c179e"
            ],
            [
             0.4444444444444444,
             "#bd3786"
            ],
            [
             0.5555555555555556,
             "#d8576b"
            ],
            [
             0.6666666666666666,
             "#ed7953"
            ],
            [
             0.7777777777777778,
             "#fb9f3a"
            ],
            [
             0.8888888888888888,
             "#fdca26"
            ],
            [
             1,
             "#f0f921"
            ]
           ]
          },
          "colorway": [
           "#636efa",
           "#EF553B",
           "#00cc96",
           "#ab63fa",
           "#FFA15A",
           "#19d3f3",
           "#FF6692",
           "#B6E880",
           "#FF97FF",
           "#FECB52"
          ],
          "font": {
           "color": "#2a3f5f"
          },
          "geo": {
           "bgcolor": "white",
           "lakecolor": "white",
           "landcolor": "#E5ECF6",
           "showlakes": true,
           "showland": true,
           "subunitcolor": "white"
          },
          "hoverlabel": {
           "align": "left"
          },
          "hovermode": "closest",
          "mapbox": {
           "style": "light"
          },
          "paper_bgcolor": "white",
          "plot_bgcolor": "#E5ECF6",
          "polar": {
           "angularaxis": {
            "gridcolor": "white",
            "linecolor": "white",
            "ticks": ""
           },
           "bgcolor": "#E5ECF6",
           "radialaxis": {
            "gridcolor": "white",
            "linecolor": "white",
            "ticks": ""
           }
          },
          "scene": {
           "xaxis": {
            "backgroundcolor": "#E5ECF6",
            "gridcolor": "white",
            "gridwidth": 2,
            "linecolor": "white",
            "showbackground": true,
            "ticks": "",
            "zerolinecolor": "white"
           },
           "yaxis": {
            "backgroundcolor": "#E5ECF6",
            "gridcolor": "white",
            "gridwidth": 2,
            "linecolor": "white",
            "showbackground": true,
            "ticks": "",
            "zerolinecolor": "white"
           },
           "zaxis": {
            "backgroundcolor": "#E5ECF6",
            "gridcolor": "white",
            "gridwidth": 2,
            "linecolor": "white",
            "showbackground": true,
            "ticks": "",
            "zerolinecolor": "white"
           }
          },
          "shapedefaults": {
           "line": {
            "color": "#2a3f5f"
           }
          },
          "ternary": {
           "aaxis": {
            "gridcolor": "white",
            "linecolor": "white",
            "ticks": ""
           },
           "baxis": {
            "gridcolor": "white",
            "linecolor": "white",
            "ticks": ""
           },
           "bgcolor": "#E5ECF6",
           "caxis": {
            "gridcolor": "white",
            "linecolor": "white",
            "ticks": ""
           }
          },
          "title": {
           "x": 0.05
          },
          "xaxis": {
           "automargin": true,
           "gridcolor": "white",
           "linecolor": "white",
           "ticks": "",
           "title": {
            "standoff": 15
           },
           "zerolinecolor": "white",
           "zerolinewidth": 2
          },
          "yaxis": {
           "automargin": true,
           "gridcolor": "white",
           "linecolor": "white",
           "ticks": "",
           "title": {
            "standoff": 15
           },
           "zerolinecolor": "white",
           "zerolinewidth": 2
          }
         }
        },
        "title": {
         "font": {
          "color": "#4D5663"
         },
         "text": "Pokemon Breed Count, Speed and Name"
        },
        "xaxis": {
         "gridcolor": "#E1E5ED",
         "showgrid": true,
         "tickfont": {
          "color": "#4D5663"
         },
         "title": {
          "font": {
           "color": "#4D5663"
          },
          "text": ""
         },
         "zerolinecolor": "#E1E5ED"
        },
        "yaxis": {
         "gridcolor": "#E1E5ED",
         "showgrid": true,
         "tickfont": {
          "color": "#4D5663"
         },
         "title": {
          "font": {
           "color": "#4D5663"
          },
          "text": ""
         },
         "zerolinecolor": "#E1E5ED"
        }
       }
      },
      "text/html": [
       "<div>                            <div id=\"f1360ab3-92bb-4441-bf41-44f6e13fc2fe\" class=\"plotly-graph-div\" style=\"height:525px; width:100%;\"></div>            <script type=\"text/javascript\">                require([\"plotly\"], function(Plotly) {                    window.PLOTLYENV=window.PLOTLYENV || {};\n",
       "                    window.PLOTLYENV.BASE_URL='https://plot.ly';                                    if (document.getElementById(\"f1360ab3-92bb-4441-bf41-44f6e13fc2fe\")) {                    Plotly.newPlot(                        \"f1360ab3-92bb-4441-bf41-44f6e13fc2fe\",                        [{\"marker\":{\"color\":\"rgba(255, 153, 51, 1.0)\",\"line\":{\"width\":1.3},\"opacity\":0.8,\"size\":12,\"symbol\":\"circle\"},\"mode\":\"markers\",\"name\":\"Bulbasaur\",\"textfont\":{\"color\":\"#4D5663\"},\"type\":\"scatter\",\"x\":[318],\"y\":[45]},{\"marker\":{\"color\":\"rgba(55, 128, 191, 1.0)\",\"line\":{\"width\":1.3},\"opacity\":0.8,\"size\":12,\"symbol\":\"circle\"},\"mode\":\"markers\",\"name\":\"Ivysaur\",\"textfont\":{\"color\":\"#4D5663\"},\"type\":\"scatter\",\"x\":[405],\"y\":[60]},{\"marker\":{\"color\":\"rgba(50, 171, 96, 1.0)\",\"line\":{\"width\":1.3},\"opacity\":0.8,\"size\":12,\"symbol\":\"circle\"},\"mode\":\"markers\",\"name\":\"Venusaur\",\"textfont\":{\"color\":\"#4D5663\"},\"type\":\"scatter\",\"x\":[525],\"y\":[80]},{\"marker\":{\"color\":\"rgba(128, 0, 128, 1.0)\",\"line\":{\"width\":1.3},\"opacity\":0.8,\"size\":12,\"symbol\":\"circle\"},\"mode\":\"markers\",\"name\":\"VenusaurMega Venusaur\",\"textfont\":{\"color\":\"#4D5663\"},\"type\":\"scatter\",\"x\":[625],\"y\":[80]},{\"marker\":{\"color\":\"rgba(219, 64, 82, 1.0)\",\"line\":{\"width\":1.3},\"opacity\":0.8,\"size\":12,\"symbol\":\"circle\"},\"mode\":\"markers\",\"name\":\"Charmander\",\"textfont\":{\"color\":\"#4D5663\"},\"type\":\"scatter\",\"x\":[309],\"y\":[65]},{\"marker\":{\"color\":\"rgba(0, 128, 128, 1.0)\",\"line\":{\"width\":1.3},\"opacity\":0.8,\"size\":12,\"symbol\":\"circle\"},\"mode\":\"markers\",\"name\":\"Charmeleon\",\"textfont\":{\"color\":\"#4D5663\"},\"type\":\"scatter\",\"x\":[405],\"y\":[80]},{\"marker\":{\"color\":\"rgba(255, 255, 51, 1.0)\",\"line\":{\"width\":1.3},\"opacity\":0.8,\"size\":12,\"symbol\":\"circle\"},\"mode\":\"markers\",\"name\":\"Charizard\",\"textfont\":{\"color\":\"#4D5663\"},\"type\":\"scatter\",\"x\":[534],\"y\":[100]},{\"marker\":{\"color\":\"rgba(128, 128, 0, 1.0)\",\"line\":{\"width\":1.3},\"opacity\":0.8,\"size\":12,\"symbol\":\"circle\"},\"mode\":\"markers\",\"name\":\"CharizardMega Charizard X\",\"textfont\":{\"color\":\"#4D5663\"},\"type\":\"scatter\",\"x\":[634],\"y\":[100]},{\"marker\":{\"color\":\"rgba(251, 128, 114, 1.0)\",\"line\":{\"width\":1.3},\"opacity\":0.8,\"size\":12,\"symbol\":\"circle\"},\"mode\":\"markers\",\"name\":\"CharizardMega Charizard Y\",\"textfont\":{\"color\":\"#4D5663\"},\"type\":\"scatter\",\"x\":[634],\"y\":[100]},{\"marker\":{\"color\":\"rgba(128, 177, 211, 1.0)\",\"line\":{\"width\":1.3},\"opacity\":0.8,\"size\":12,\"symbol\":\"circle\"},\"mode\":\"markers\",\"name\":\"Squirtle\",\"textfont\":{\"color\":\"#4D5663\"},\"type\":\"scatter\",\"x\":[314],\"y\":[43]},{\"marker\":{\"color\":\"rgba(128, 177, 211, 0.99)\",\"line\":{\"width\":1.3},\"opacity\":0.8,\"size\":12,\"symbol\":\"circle\"},\"mode\":\"markers\",\"name\":\"Wartortle\",\"textfont\":{\"color\":\"#4D5663\"},\"type\":\"scatter\",\"x\":[405],\"y\":[58]},{\"marker\":{\"color\":\"rgba(255, 153, 51, 0.99)\",\"line\":{\"width\":1.3},\"opacity\":0.8,\"size\":12,\"symbol\":\"circle\"},\"mode\":\"markers\",\"name\":\"Blastoise\",\"textfont\":{\"color\":\"#4D5663\"},\"type\":\"scatter\",\"x\":[530],\"y\":[78]},{\"marker\":{\"color\":\"rgba(55, 128, 191, 0.99)\",\"line\":{\"width\":1.3},\"opacity\":0.8,\"size\":12,\"symbol\":\"circle\"},\"mode\":\"markers\",\"name\":\"BlastoiseMega Blastoise\",\"textfont\":{\"color\":\"#4D5663\"},\"type\":\"scatter\",\"x\":[630],\"y\":[78]},{\"marker\":{\"color\":\"rgba(50, 171, 96, 0.99)\",\"line\":{\"width\":1.3},\"opacity\":0.8,\"size\":12,\"symbol\":\"circle\"},\"mode\":\"markers\",\"name\":\"Caterpie\",\"textfont\":{\"color\":\"#4D5663\"},\"type\":\"scatter\",\"x\":[195],\"y\":[45]},{\"marker\":{\"color\":\"rgba(128, 0, 128, 0.99)\",\"line\":{\"width\":1.3},\"opacity\":0.8,\"size\":12,\"symbol\":\"circle\"},\"mode\":\"markers\",\"name\":\"Metapod\",\"textfont\":{\"color\":\"#4D5663\"},\"type\":\"scatter\",\"x\":[205],\"y\":[30]},{\"marker\":{\"color\":\"rgba(219, 64, 82, 0.99)\",\"line\":{\"width\":1.3},\"opacity\":0.8,\"size\":12,\"symbol\":\"circle\"},\"mode\":\"markers\",\"name\":\"Butterfree\",\"textfont\":{\"color\":\"#4D5663\"},\"type\":\"scatter\",\"x\":[395],\"y\":[70]},{\"marker\":{\"color\":\"rgba(0, 128, 128, 0.99)\",\"line\":{\"width\":1.3},\"opacity\":0.8,\"size\":12,\"symbol\":\"circle\"},\"mode\":\"markers\",\"name\":\"Weedle\",\"textfont\":{\"color\":\"#4D5663\"},\"type\":\"scatter\",\"x\":[195],\"y\":[50]},{\"marker\":{\"color\":\"rgba(255, 255, 51, 0.99)\",\"line\":{\"width\":1.3},\"opacity\":0.8,\"size\":12,\"symbol\":\"circle\"},\"mode\":\"markers\",\"name\":\"Kakuna\",\"textfont\":{\"color\":\"#4D5663\"},\"type\":\"scatter\",\"x\":[205],\"y\":[35]},{\"marker\":{\"color\":\"rgba(128, 128, 0, 0.99)\",\"line\":{\"width\":1.3},\"opacity\":0.8,\"size\":12,\"symbol\":\"circle\"},\"mode\":\"markers\",\"name\":\"Beedrill\",\"textfont\":{\"color\":\"#4D5663\"},\"type\":\"scatter\",\"x\":[395],\"y\":[75]},{\"marker\":{\"color\":\"rgba(251, 128, 114, 0.99)\",\"line\":{\"width\":1.3},\"opacity\":0.8,\"size\":12,\"symbol\":\"circle\"},\"mode\":\"markers\",\"name\":\"BeedrillMega Beedrill\",\"textfont\":{\"color\":\"#4D5663\"},\"type\":\"scatter\",\"x\":[495],\"y\":[145]},{\"marker\":{\"color\":\"rgba(251, 128, 114, 0.98)\",\"line\":{\"width\":1.3},\"opacity\":0.8,\"size\":12,\"symbol\":\"circle\"},\"mode\":\"markers\",\"name\":\"Pidgey\",\"textfont\":{\"color\":\"#4D5663\"},\"type\":\"scatter\",\"x\":[251],\"y\":[56]},{\"marker\":{\"color\":\"rgba(128, 177, 211, 0.98)\",\"line\":{\"width\":1.3},\"opacity\":0.8,\"size\":12,\"symbol\":\"circle\"},\"mode\":\"markers\",\"name\":\"Pidgeotto\",\"textfont\":{\"color\":\"#4D5663\"},\"type\":\"scatter\",\"x\":[349],\"y\":[71]},{\"marker\":{\"color\":\"rgba(255, 153, 51, 0.98)\",\"line\":{\"width\":1.3},\"opacity\":0.8,\"size\":12,\"symbol\":\"circle\"},\"mode\":\"markers\",\"name\":\"Pidgeot\",\"textfont\":{\"color\":\"#4D5663\"},\"type\":\"scatter\",\"x\":[479],\"y\":[101]},{\"marker\":{\"color\":\"rgba(55, 128, 191, 0.98)\",\"line\":{\"width\":1.3},\"opacity\":0.8,\"size\":12,\"symbol\":\"circle\"},\"mode\":\"markers\",\"name\":\"PidgeotMega Pidgeot\",\"textfont\":{\"color\":\"#4D5663\"},\"type\":\"scatter\",\"x\":[579],\"y\":[121]},{\"marker\":{\"color\":\"rgba(50, 171, 96, 0.98)\",\"line\":{\"width\":1.3},\"opacity\":0.8,\"size\":12,\"symbol\":\"circle\"},\"mode\":\"markers\",\"name\":\"Rattata\",\"textfont\":{\"color\":\"#4D5663\"},\"type\":\"scatter\",\"x\":[253],\"y\":[72]},{\"marker\":{\"color\":\"rgba(128, 0, 128, 0.98)\",\"line\":{\"width\":1.3},\"opacity\":0.8,\"size\":12,\"symbol\":\"circle\"},\"mode\":\"markers\",\"name\":\"Raticate\",\"textfont\":{\"color\":\"#4D5663\"},\"type\":\"scatter\",\"x\":[413],\"y\":[97]},{\"marker\":{\"color\":\"rgba(219, 64, 82, 0.98)\",\"line\":{\"width\":1.3},\"opacity\":0.8,\"size\":12,\"symbol\":\"circle\"},\"mode\":\"markers\",\"name\":\"Spearow\",\"textfont\":{\"color\":\"#4D5663\"},\"type\":\"scatter\",\"x\":[262],\"y\":[70]},{\"marker\":{\"color\":\"rgba(0, 128, 128, 0.98)\",\"line\":{\"width\":1.3},\"opacity\":0.8,\"size\":12,\"symbol\":\"circle\"},\"mode\":\"markers\",\"name\":\"Fearow\",\"textfont\":{\"color\":\"#4D5663\"},\"type\":\"scatter\",\"x\":[442],\"y\":[100]},{\"marker\":{\"color\":\"rgba(255, 255, 51, 0.98)\",\"line\":{\"width\":1.3},\"opacity\":0.8,\"size\":12,\"symbol\":\"circle\"},\"mode\":\"markers\",\"name\":\"Ekans\",\"textfont\":{\"color\":\"#4D5663\"},\"type\":\"scatter\",\"x\":[288],\"y\":[55]},{\"marker\":{\"color\":\"rgba(128, 128, 0, 0.98)\",\"line\":{\"width\":1.3},\"opacity\":0.8,\"size\":12,\"symbol\":\"circle\"},\"mode\":\"markers\",\"name\":\"Arbok\",\"textfont\":{\"color\":\"#4D5663\"},\"type\":\"scatter\",\"x\":[438],\"y\":[80]},{\"marker\":{\"color\":\"rgba(128, 128, 0, 0.97)\",\"line\":{\"width\":1.3},\"opacity\":0.8,\"size\":12,\"symbol\":\"circle\"},\"mode\":\"markers\",\"name\":\"Pikachu\",\"textfont\":{\"color\":\"#4D5663\"},\"type\":\"scatter\",\"x\":[320],\"y\":[90]},{\"marker\":{\"color\":\"rgba(251, 128, 114, 0.97)\",\"line\":{\"width\":1.3},\"opacity\":0.8,\"size\":12,\"symbol\":\"circle\"},\"mode\":\"markers\",\"name\":\"Raichu\",\"textfont\":{\"color\":\"#4D5663\"},\"type\":\"scatter\",\"x\":[485],\"y\":[110]},{\"marker\":{\"color\":\"rgba(128, 177, 211, 0.97)\",\"line\":{\"width\":1.3},\"opacity\":0.8,\"size\":12,\"symbol\":\"circle\"},\"mode\":\"markers\",\"name\":\"Sandshrew\",\"textfont\":{\"color\":\"#4D5663\"},\"type\":\"scatter\",\"x\":[300],\"y\":[40]},{\"marker\":{\"color\":\"rgba(255, 153, 51, 0.97)\",\"line\":{\"width\":1.3},\"opacity\":0.8,\"size\":12,\"symbol\":\"circle\"},\"mode\":\"markers\",\"name\":\"Sandslash\",\"textfont\":{\"color\":\"#4D5663\"},\"type\":\"scatter\",\"x\":[450],\"y\":[65]},{\"marker\":{\"color\":\"rgba(55, 128, 191, 0.97)\",\"line\":{\"width\":1.3},\"opacity\":0.8,\"size\":12,\"symbol\":\"circle\"},\"mode\":\"markers\",\"name\":\"Nidoran\\u2640\",\"textfont\":{\"color\":\"#4D5663\"},\"type\":\"scatter\",\"x\":[275],\"y\":[41]},{\"marker\":{\"color\":\"rgba(50, 171, 96, 0.97)\",\"line\":{\"width\":1.3},\"opacity\":0.8,\"size\":12,\"symbol\":\"circle\"},\"mode\":\"markers\",\"name\":\"Nidorina\",\"textfont\":{\"color\":\"#4D5663\"},\"type\":\"scatter\",\"x\":[365],\"y\":[56]},{\"marker\":{\"color\":\"rgba(128, 0, 128, 0.97)\",\"line\":{\"width\":1.3},\"opacity\":0.8,\"size\":12,\"symbol\":\"circle\"},\"mode\":\"markers\",\"name\":\"Nidoqueen\",\"textfont\":{\"color\":\"#4D5663\"},\"type\":\"scatter\",\"x\":[505],\"y\":[76]},{\"marker\":{\"color\":\"rgba(219, 64, 82, 0.97)\",\"line\":{\"width\":1.3},\"opacity\":0.8,\"size\":12,\"symbol\":\"circle\"},\"mode\":\"markers\",\"name\":\"Nidoran\\u2642\",\"textfont\":{\"color\":\"#4D5663\"},\"type\":\"scatter\",\"x\":[273],\"y\":[50]},{\"marker\":{\"color\":\"rgba(0, 128, 128, 0.97)\",\"line\":{\"width\":1.3},\"opacity\":0.8,\"size\":12,\"symbol\":\"circle\"},\"mode\":\"markers\",\"name\":\"Nidorino\",\"textfont\":{\"color\":\"#4D5663\"},\"type\":\"scatter\",\"x\":[365],\"y\":[65]},{\"marker\":{\"color\":\"rgba(255, 255, 51, 0.97)\",\"line\":{\"width\":1.3},\"opacity\":0.8,\"size\":12,\"symbol\":\"circle\"},\"mode\":\"markers\",\"name\":\"Nidoking\",\"textfont\":{\"color\":\"#4D5663\"},\"type\":\"scatter\",\"x\":[505],\"y\":[85]},{\"marker\":{\"color\":\"rgba(255, 255, 51, 0.96)\",\"line\":{\"width\":1.3},\"opacity\":0.8,\"size\":12,\"symbol\":\"circle\"},\"mode\":\"markers\",\"name\":\"Clefairy\",\"textfont\":{\"color\":\"#4D5663\"},\"type\":\"scatter\",\"x\":[323],\"y\":[35]},{\"marker\":{\"color\":\"rgba(128, 128, 0, 0.96)\",\"line\":{\"width\":1.3},\"opacity\":0.8,\"size\":12,\"symbol\":\"circle\"},\"mode\":\"markers\",\"name\":\"Clefable\",\"textfont\":{\"color\":\"#4D5663\"},\"type\":\"scatter\",\"x\":[483],\"y\":[60]},{\"marker\":{\"color\":\"rgba(251, 128, 114, 0.96)\",\"line\":{\"width\":1.3},\"opacity\":0.8,\"size\":12,\"symbol\":\"circle\"},\"mode\":\"markers\",\"name\":\"Vulpix\",\"textfont\":{\"color\":\"#4D5663\"},\"type\":\"scatter\",\"x\":[299],\"y\":[65]},{\"marker\":{\"color\":\"rgba(128, 177, 211, 0.96)\",\"line\":{\"width\":1.3},\"opacity\":0.8,\"size\":12,\"symbol\":\"circle\"},\"mode\":\"markers\",\"name\":\"Ninetales\",\"textfont\":{\"color\":\"#4D5663\"},\"type\":\"scatter\",\"x\":[505],\"y\":[100]},{\"marker\":{\"color\":\"rgba(255, 153, 51, 0.96)\",\"line\":{\"width\":1.3},\"opacity\":0.8,\"size\":12,\"symbol\":\"circle\"},\"mode\":\"markers\",\"name\":\"Jigglypuff\",\"textfont\":{\"color\":\"#4D5663\"},\"type\":\"scatter\",\"x\":[270],\"y\":[20]},{\"marker\":{\"color\":\"rgba(55, 128, 191, 0.96)\",\"line\":{\"width\":1.3},\"opacity\":0.8,\"size\":12,\"symbol\":\"circle\"},\"mode\":\"markers\",\"name\":\"Wigglytuff\",\"textfont\":{\"color\":\"#4D5663\"},\"type\":\"scatter\",\"x\":[435],\"y\":[45]},{\"marker\":{\"color\":\"rgba(50, 171, 96, 0.96)\",\"line\":{\"width\":1.3},\"opacity\":0.8,\"size\":12,\"symbol\":\"circle\"},\"mode\":\"markers\",\"name\":\"Zubat\",\"textfont\":{\"color\":\"#4D5663\"},\"type\":\"scatter\",\"x\":[245],\"y\":[55]},{\"marker\":{\"color\":\"rgba(128, 0, 128, 0.96)\",\"line\":{\"width\":1.3},\"opacity\":0.8,\"size\":12,\"symbol\":\"circle\"},\"mode\":\"markers\",\"name\":\"Golbat\",\"textfont\":{\"color\":\"#4D5663\"},\"type\":\"scatter\",\"x\":[455],\"y\":[90]},{\"marker\":{\"color\":\"rgba(219, 64, 82, 0.96)\",\"line\":{\"width\":1.3},\"opacity\":0.8,\"size\":12,\"symbol\":\"circle\"},\"mode\":\"markers\",\"name\":\"Oddish\",\"textfont\":{\"color\":\"#4D5663\"},\"type\":\"scatter\",\"x\":[320],\"y\":[30]},{\"marker\":{\"color\":\"rgba(0, 128, 128, 0.96)\",\"line\":{\"width\":1.3},\"opacity\":0.8,\"size\":12,\"symbol\":\"circle\"},\"mode\":\"markers\",\"name\":\"Gloom\",\"textfont\":{\"color\":\"#4D5663\"},\"type\":\"scatter\",\"x\":[395],\"y\":[40]},{\"marker\":{\"color\":\"rgba(0, 128, 128, 0.95)\",\"line\":{\"width\":1.3},\"opacity\":0.8,\"size\":12,\"symbol\":\"circle\"},\"mode\":\"markers\",\"name\":\"Vileplume\",\"textfont\":{\"color\":\"#4D5663\"},\"type\":\"scatter\",\"x\":[490],\"y\":[50]},{\"marker\":{\"color\":\"rgba(255, 255, 51, 0.95)\",\"line\":{\"width\":1.3},\"opacity\":0.8,\"size\":12,\"symbol\":\"circle\"},\"mode\":\"markers\",\"name\":\"Paras\",\"textfont\":{\"color\":\"#4D5663\"},\"type\":\"scatter\",\"x\":[285],\"y\":[25]},{\"marker\":{\"color\":\"rgba(128, 128, 0, 0.95)\",\"line\":{\"width\":1.3},\"opacity\":0.8,\"size\":12,\"symbol\":\"circle\"},\"mode\":\"markers\",\"name\":\"Parasect\",\"textfont\":{\"color\":\"#4D5663\"},\"type\":\"scatter\",\"x\":[405],\"y\":[30]},{\"marker\":{\"color\":\"rgba(251, 128, 114, 0.95)\",\"line\":{\"width\":1.3},\"opacity\":0.8,\"size\":12,\"symbol\":\"circle\"},\"mode\":\"markers\",\"name\":\"Venonat\",\"textfont\":{\"color\":\"#4D5663\"},\"type\":\"scatter\",\"x\":[305],\"y\":[45]},{\"marker\":{\"color\":\"rgba(128, 177, 211, 0.95)\",\"line\":{\"width\":1.3},\"opacity\":0.8,\"size\":12,\"symbol\":\"circle\"},\"mode\":\"markers\",\"name\":\"Venomoth\",\"textfont\":{\"color\":\"#4D5663\"},\"type\":\"scatter\",\"x\":[450],\"y\":[90]},{\"marker\":{\"color\":\"rgba(255, 153, 51, 0.95)\",\"line\":{\"width\":1.3},\"opacity\":0.8,\"size\":12,\"symbol\":\"circle\"},\"mode\":\"markers\",\"name\":\"Diglett\",\"textfont\":{\"color\":\"#4D5663\"},\"type\":\"scatter\",\"x\":[265],\"y\":[95]},{\"marker\":{\"color\":\"rgba(55, 128, 191, 0.95)\",\"line\":{\"width\":1.3},\"opacity\":0.8,\"size\":12,\"symbol\":\"circle\"},\"mode\":\"markers\",\"name\":\"Dugtrio\",\"textfont\":{\"color\":\"#4D5663\"},\"type\":\"scatter\",\"x\":[405],\"y\":[120]},{\"marker\":{\"color\":\"rgba(50, 171, 96, 0.95)\",\"line\":{\"width\":1.3},\"opacity\":0.8,\"size\":12,\"symbol\":\"circle\"},\"mode\":\"markers\",\"name\":\"Meowth\",\"textfont\":{\"color\":\"#4D5663\"},\"type\":\"scatter\",\"x\":[290],\"y\":[90]},{\"marker\":{\"color\":\"rgba(128, 0, 128, 0.95)\",\"line\":{\"width\":1.3},\"opacity\":0.8,\"size\":12,\"symbol\":\"circle\"},\"mode\":\"markers\",\"name\":\"Persian\",\"textfont\":{\"color\":\"#4D5663\"},\"type\":\"scatter\",\"x\":[440],\"y\":[115]},{\"marker\":{\"color\":\"rgba(219, 64, 82, 0.95)\",\"line\":{\"width\":1.3},\"opacity\":0.8,\"size\":12,\"symbol\":\"circle\"},\"mode\":\"markers\",\"name\":\"Psyduck\",\"textfont\":{\"color\":\"#4D5663\"},\"type\":\"scatter\",\"x\":[320],\"y\":[55]},{\"marker\":{\"color\":\"rgba(219, 64, 82, 0.94)\",\"line\":{\"width\":1.3},\"opacity\":0.8,\"size\":12,\"symbol\":\"circle\"},\"mode\":\"markers\",\"name\":\"Golduck\",\"textfont\":{\"color\":\"#4D5663\"},\"type\":\"scatter\",\"x\":[500],\"y\":[85]},{\"marker\":{\"color\":\"rgba(0, 128, 128, 0.94)\",\"line\":{\"width\":1.3},\"opacity\":0.8,\"size\":12,\"symbol\":\"circle\"},\"mode\":\"markers\",\"name\":\"Mankey\",\"textfont\":{\"color\":\"#4D5663\"},\"type\":\"scatter\",\"x\":[305],\"y\":[70]},{\"marker\":{\"color\":\"rgba(255, 255, 51, 0.94)\",\"line\":{\"width\":1.3},\"opacity\":0.8,\"size\":12,\"symbol\":\"circle\"},\"mode\":\"markers\",\"name\":\"Primeape\",\"textfont\":{\"color\":\"#4D5663\"},\"type\":\"scatter\",\"x\":[455],\"y\":[95]},{\"marker\":{\"color\":\"rgba(128, 128, 0, 0.94)\",\"line\":{\"width\":1.3},\"opacity\":0.8,\"size\":12,\"symbol\":\"circle\"},\"mode\":\"markers\",\"name\":\"Growlithe\",\"textfont\":{\"color\":\"#4D5663\"},\"type\":\"scatter\",\"x\":[350],\"y\":[60]},{\"marker\":{\"color\":\"rgba(251, 128, 114, 0.94)\",\"line\":{\"width\":1.3},\"opacity\":0.8,\"size\":12,\"symbol\":\"circle\"},\"mode\":\"markers\",\"name\":\"Arcanine\",\"textfont\":{\"color\":\"#4D5663\"},\"type\":\"scatter\",\"x\":[555],\"y\":[95]},{\"marker\":{\"color\":\"rgba(128, 177, 211, 0.94)\",\"line\":{\"width\":1.3},\"opacity\":0.8,\"size\":12,\"symbol\":\"circle\"},\"mode\":\"markers\",\"name\":\"Poliwag\",\"textfont\":{\"color\":\"#4D5663\"},\"type\":\"scatter\",\"x\":[300],\"y\":[90]},{\"marker\":{\"color\":\"rgba(255, 153, 51, 0.94)\",\"line\":{\"width\":1.3},\"opacity\":0.8,\"size\":12,\"symbol\":\"circle\"},\"mode\":\"markers\",\"name\":\"Poliwhirl\",\"textfont\":{\"color\":\"#4D5663\"},\"type\":\"scatter\",\"x\":[385],\"y\":[90]},{\"marker\":{\"color\":\"rgba(55, 128, 191, 0.94)\",\"line\":{\"width\":1.3},\"opacity\":0.8,\"size\":12,\"symbol\":\"circle\"},\"mode\":\"markers\",\"name\":\"Poliwrath\",\"textfont\":{\"color\":\"#4D5663\"},\"type\":\"scatter\",\"x\":[510],\"y\":[70]},{\"marker\":{\"color\":\"rgba(50, 171, 96, 0.94)\",\"line\":{\"width\":1.3},\"opacity\":0.8,\"size\":12,\"symbol\":\"circle\"},\"mode\":\"markers\",\"name\":\"Abra\",\"textfont\":{\"color\":\"#4D5663\"},\"type\":\"scatter\",\"x\":[310],\"y\":[90]},{\"marker\":{\"color\":\"rgba(128, 0, 128, 0.94)\",\"line\":{\"width\":1.3},\"opacity\":0.8,\"size\":12,\"symbol\":\"circle\"},\"mode\":\"markers\",\"name\":\"Kadabra\",\"textfont\":{\"color\":\"#4D5663\"},\"type\":\"scatter\",\"x\":[400],\"y\":[105]},{\"marker\":{\"color\":\"rgba(128, 0, 128, 0.9299999999999999)\",\"line\":{\"width\":1.3},\"opacity\":0.8,\"size\":12,\"symbol\":\"circle\"},\"mode\":\"markers\",\"name\":\"Alakazam\",\"textfont\":{\"color\":\"#4D5663\"},\"type\":\"scatter\",\"x\":[500],\"y\":[120]},{\"marker\":{\"color\":\"rgba(219, 64, 82, 0.9299999999999999)\",\"line\":{\"width\":1.3},\"opacity\":0.8,\"size\":12,\"symbol\":\"circle\"},\"mode\":\"markers\",\"name\":\"AlakazamMega Alakazam\",\"textfont\":{\"color\":\"#4D5663\"},\"type\":\"scatter\",\"x\":[590],\"y\":[150]},{\"marker\":{\"color\":\"rgba(0, 128, 128, 0.9299999999999999)\",\"line\":{\"width\":1.3},\"opacity\":0.8,\"size\":12,\"symbol\":\"circle\"},\"mode\":\"markers\",\"name\":\"Machop\",\"textfont\":{\"color\":\"#4D5663\"},\"type\":\"scatter\",\"x\":[305],\"y\":[35]},{\"marker\":{\"color\":\"rgba(255, 255, 51, 0.9299999999999999)\",\"line\":{\"width\":1.3},\"opacity\":0.8,\"size\":12,\"symbol\":\"circle\"},\"mode\":\"markers\",\"name\":\"Machoke\",\"textfont\":{\"color\":\"#4D5663\"},\"type\":\"scatter\",\"x\":[405],\"y\":[45]},{\"marker\":{\"color\":\"rgba(128, 128, 0, 0.9299999999999999)\",\"line\":{\"width\":1.3},\"opacity\":0.8,\"size\":12,\"symbol\":\"circle\"},\"mode\":\"markers\",\"name\":\"Machamp\",\"textfont\":{\"color\":\"#4D5663\"},\"type\":\"scatter\",\"x\":[505],\"y\":[55]},{\"marker\":{\"color\":\"rgba(251, 128, 114, 0.9299999999999999)\",\"line\":{\"width\":1.3},\"opacity\":0.8,\"size\":12,\"symbol\":\"circle\"},\"mode\":\"markers\",\"name\":\"Bellsprout\",\"textfont\":{\"color\":\"#4D5663\"},\"type\":\"scatter\",\"x\":[300],\"y\":[40]},{\"marker\":{\"color\":\"rgba(128, 177, 211, 0.9299999999999999)\",\"line\":{\"width\":1.3},\"opacity\":0.8,\"size\":12,\"symbol\":\"circle\"},\"mode\":\"markers\",\"name\":\"Weepinbell\",\"textfont\":{\"color\":\"#4D5663\"},\"type\":\"scatter\",\"x\":[390],\"y\":[55]},{\"marker\":{\"color\":\"rgba(255, 153, 51, 0.9299999999999999)\",\"line\":{\"width\":1.3},\"opacity\":0.8,\"size\":12,\"symbol\":\"circle\"},\"mode\":\"markers\",\"name\":\"Victreebel\",\"textfont\":{\"color\":\"#4D5663\"},\"type\":\"scatter\",\"x\":[490],\"y\":[70]},{\"marker\":{\"color\":\"rgba(55, 128, 191, 0.9299999999999999)\",\"line\":{\"width\":1.3},\"opacity\":0.8,\"size\":12,\"symbol\":\"circle\"},\"mode\":\"markers\",\"name\":\"Tentacool\",\"textfont\":{\"color\":\"#4D5663\"},\"type\":\"scatter\",\"x\":[335],\"y\":[70]},{\"marker\":{\"color\":\"rgba(50, 171, 96, 0.9299999999999999)\",\"line\":{\"width\":1.3},\"opacity\":0.8,\"size\":12,\"symbol\":\"circle\"},\"mode\":\"markers\",\"name\":\"Tentacruel\",\"textfont\":{\"color\":\"#4D5663\"},\"type\":\"scatter\",\"x\":[515],\"y\":[100]},{\"marker\":{\"color\":\"rgba(50, 171, 96, 0.9199999999999999)\",\"line\":{\"width\":1.3},\"opacity\":0.8,\"size\":12,\"symbol\":\"circle\"},\"mode\":\"markers\",\"name\":\"Geodude\",\"textfont\":{\"color\":\"#4D5663\"},\"type\":\"scatter\",\"x\":[300],\"y\":[20]},{\"marker\":{\"color\":\"rgba(128, 0, 128, 0.9199999999999999)\",\"line\":{\"width\":1.3},\"opacity\":0.8,\"size\":12,\"symbol\":\"circle\"},\"mode\":\"markers\",\"name\":\"Graveler\",\"textfont\":{\"color\":\"#4D5663\"},\"type\":\"scatter\",\"x\":[390],\"y\":[35]},{\"marker\":{\"color\":\"rgba(219, 64, 82, 0.9199999999999999)\",\"line\":{\"width\":1.3},\"opacity\":0.8,\"size\":12,\"symbol\":\"circle\"},\"mode\":\"markers\",\"name\":\"Golem\",\"textfont\":{\"color\":\"#4D5663\"},\"type\":\"scatter\",\"x\":[495],\"y\":[45]},{\"marker\":{\"color\":\"rgba(0, 128, 128, 0.9199999999999999)\",\"line\":{\"width\":1.3},\"opacity\":0.8,\"size\":12,\"symbol\":\"circle\"},\"mode\":\"markers\",\"name\":\"Ponyta\",\"textfont\":{\"color\":\"#4D5663\"},\"type\":\"scatter\",\"x\":[410],\"y\":[90]},{\"marker\":{\"color\":\"rgba(255, 255, 51, 0.9199999999999999)\",\"line\":{\"width\":1.3},\"opacity\":0.8,\"size\":12,\"symbol\":\"circle\"},\"mode\":\"markers\",\"name\":\"Rapidash\",\"textfont\":{\"color\":\"#4D5663\"},\"type\":\"scatter\",\"x\":[500],\"y\":[105]},{\"marker\":{\"color\":\"rgba(128, 128, 0, 0.9199999999999999)\",\"line\":{\"width\":1.3},\"opacity\":0.8,\"size\":12,\"symbol\":\"circle\"},\"mode\":\"markers\",\"name\":\"Slowpoke\",\"textfont\":{\"color\":\"#4D5663\"},\"type\":\"scatter\",\"x\":[315],\"y\":[15]},{\"marker\":{\"color\":\"rgba(251, 128, 114, 0.9199999999999999)\",\"line\":{\"width\":1.3},\"opacity\":0.8,\"size\":12,\"symbol\":\"circle\"},\"mode\":\"markers\",\"name\":\"Slowbro\",\"textfont\":{\"color\":\"#4D5663\"},\"type\":\"scatter\",\"x\":[490],\"y\":[30]},{\"marker\":{\"color\":\"rgba(128, 177, 211, 0.9199999999999999)\",\"line\":{\"width\":1.3},\"opacity\":0.8,\"size\":12,\"symbol\":\"circle\"},\"mode\":\"markers\",\"name\":\"SlowbroMega Slowbro\",\"textfont\":{\"color\":\"#4D5663\"},\"type\":\"scatter\",\"x\":[590],\"y\":[30]},{\"marker\":{\"color\":\"rgba(255, 153, 51, 0.9199999999999999)\",\"line\":{\"width\":1.3},\"opacity\":0.8,\"size\":12,\"symbol\":\"circle\"},\"mode\":\"markers\",\"name\":\"Magnemite\",\"textfont\":{\"color\":\"#4D5663\"},\"type\":\"scatter\",\"x\":[325],\"y\":[45]},{\"marker\":{\"color\":\"rgba(55, 128, 191, 0.9199999999999999)\",\"line\":{\"width\":1.3},\"opacity\":0.8,\"size\":12,\"symbol\":\"circle\"},\"mode\":\"markers\",\"name\":\"Magneton\",\"textfont\":{\"color\":\"#4D5663\"},\"type\":\"scatter\",\"x\":[465],\"y\":[70]},{\"marker\":{\"color\":\"rgba(55, 128, 191, 0.9099999999999999)\",\"line\":{\"width\":1.3},\"opacity\":0.8,\"size\":12,\"symbol\":\"circle\"},\"mode\":\"markers\",\"name\":\"Farfetch'd\",\"textfont\":{\"color\":\"#4D5663\"},\"type\":\"scatter\",\"x\":[352],\"y\":[60]},{\"marker\":{\"color\":\"rgba(50, 171, 96, 0.9099999999999999)\",\"line\":{\"width\":1.3},\"opacity\":0.8,\"size\":12,\"symbol\":\"circle\"},\"mode\":\"markers\",\"name\":\"Doduo\",\"textfont\":{\"color\":\"#4D5663\"},\"type\":\"scatter\",\"x\":[310],\"y\":[75]},{\"marker\":{\"color\":\"rgba(128, 0, 128, 0.9099999999999999)\",\"line\":{\"width\":1.3},\"opacity\":0.8,\"size\":12,\"symbol\":\"circle\"},\"mode\":\"markers\",\"name\":\"Dodrio\",\"textfont\":{\"color\":\"#4D5663\"},\"type\":\"scatter\",\"x\":[460],\"y\":[100]},{\"marker\":{\"color\":\"rgba(219, 64, 82, 0.9099999999999999)\",\"line\":{\"width\":1.3},\"opacity\":0.8,\"size\":12,\"symbol\":\"circle\"},\"mode\":\"markers\",\"name\":\"Seel\",\"textfont\":{\"color\":\"#4D5663\"},\"type\":\"scatter\",\"x\":[325],\"y\":[45]},{\"marker\":{\"color\":\"rgba(0, 128, 128, 0.9099999999999999)\",\"line\":{\"width\":1.3},\"opacity\":0.8,\"size\":12,\"symbol\":\"circle\"},\"mode\":\"markers\",\"name\":\"Dewgong\",\"textfont\":{\"color\":\"#4D5663\"},\"type\":\"scatter\",\"x\":[475],\"y\":[70]},{\"marker\":{\"color\":\"rgba(255, 255, 51, 0.9099999999999999)\",\"line\":{\"width\":1.3},\"opacity\":0.8,\"size\":12,\"symbol\":\"circle\"},\"mode\":\"markers\",\"name\":\"Grimer\",\"textfont\":{\"color\":\"#4D5663\"},\"type\":\"scatter\",\"x\":[325],\"y\":[25]},{\"marker\":{\"color\":\"rgba(128, 128, 0, 0.9099999999999999)\",\"line\":{\"width\":1.3},\"opacity\":0.8,\"size\":12,\"symbol\":\"circle\"},\"mode\":\"markers\",\"name\":\"Muk\",\"textfont\":{\"color\":\"#4D5663\"},\"type\":\"scatter\",\"x\":[500],\"y\":[50]},{\"marker\":{\"color\":\"rgba(251, 128, 114, 0.9099999999999999)\",\"line\":{\"width\":1.3},\"opacity\":0.8,\"size\":12,\"symbol\":\"circle\"},\"mode\":\"markers\",\"name\":\"Shellder\",\"textfont\":{\"color\":\"#4D5663\"},\"type\":\"scatter\",\"x\":[305],\"y\":[40]},{\"marker\":{\"color\":\"rgba(128, 177, 211, 0.9099999999999999)\",\"line\":{\"width\":1.3},\"opacity\":0.8,\"size\":12,\"symbol\":\"circle\"},\"mode\":\"markers\",\"name\":\"Cloyster\",\"textfont\":{\"color\":\"#4D5663\"},\"type\":\"scatter\",\"x\":[525],\"y\":[70]},{\"marker\":{\"color\":\"rgba(255, 153, 51, 0.9099999999999999)\",\"line\":{\"width\":1.3},\"opacity\":0.8,\"size\":12,\"symbol\":\"circle\"},\"mode\":\"markers\",\"name\":\"Gastly\",\"textfont\":{\"color\":\"#4D5663\"},\"type\":\"scatter\",\"x\":[310],\"y\":[80]},{\"marker\":{\"color\":\"rgba(255, 153, 51, 0.8999999999999999)\",\"line\":{\"width\":1.3},\"opacity\":0.8,\"size\":12,\"symbol\":\"circle\"},\"mode\":\"markers\",\"name\":\"Haunter\",\"textfont\":{\"color\":\"#4D5663\"},\"type\":\"scatter\",\"x\":[405],\"y\":[95]},{\"marker\":{\"color\":\"rgba(55, 128, 191, 0.8999999999999999)\",\"line\":{\"width\":1.3},\"opacity\":0.8,\"size\":12,\"symbol\":\"circle\"},\"mode\":\"markers\",\"name\":\"Gengar\",\"textfont\":{\"color\":\"#4D5663\"},\"type\":\"scatter\",\"x\":[500],\"y\":[110]},{\"marker\":{\"color\":\"rgba(50, 171, 96, 0.8999999999999999)\",\"line\":{\"width\":1.3},\"opacity\":0.8,\"size\":12,\"symbol\":\"circle\"},\"mode\":\"markers\",\"name\":\"GengarMega Gengar\",\"textfont\":{\"color\":\"#4D5663\"},\"type\":\"scatter\",\"x\":[600],\"y\":[130]},{\"marker\":{\"color\":\"rgba(128, 0, 128, 0.8999999999999999)\",\"line\":{\"width\":1.3},\"opacity\":0.8,\"size\":12,\"symbol\":\"circle\"},\"mode\":\"markers\",\"name\":\"Onix\",\"textfont\":{\"color\":\"#4D5663\"},\"type\":\"scatter\",\"x\":[385],\"y\":[70]},{\"marker\":{\"color\":\"rgba(219, 64, 82, 0.8999999999999999)\",\"line\":{\"width\":1.3},\"opacity\":0.8,\"size\":12,\"symbol\":\"circle\"},\"mode\":\"markers\",\"name\":\"Drowzee\",\"textfont\":{\"color\":\"#4D5663\"},\"type\":\"scatter\",\"x\":[328],\"y\":[42]},{\"marker\":{\"color\":\"rgba(0, 128, 128, 0.8999999999999999)\",\"line\":{\"width\":1.3},\"opacity\":0.8,\"size\":12,\"symbol\":\"circle\"},\"mode\":\"markers\",\"name\":\"Hypno\",\"textfont\":{\"color\":\"#4D5663\"},\"type\":\"scatter\",\"x\":[483],\"y\":[67]},{\"marker\":{\"color\":\"rgba(255, 255, 51, 0.8999999999999999)\",\"line\":{\"width\":1.3},\"opacity\":0.8,\"size\":12,\"symbol\":\"circle\"},\"mode\":\"markers\",\"name\":\"Krabby\",\"textfont\":{\"color\":\"#4D5663\"},\"type\":\"scatter\",\"x\":[325],\"y\":[50]},{\"marker\":{\"color\":\"rgba(128, 128, 0, 0.8999999999999999)\",\"line\":{\"width\":1.3},\"opacity\":0.8,\"size\":12,\"symbol\":\"circle\"},\"mode\":\"markers\",\"name\":\"Kingler\",\"textfont\":{\"color\":\"#4D5663\"},\"type\":\"scatter\",\"x\":[475],\"y\":[75]},{\"marker\":{\"color\":\"rgba(251, 128, 114, 0.8999999999999999)\",\"line\":{\"width\":1.3},\"opacity\":0.8,\"size\":12,\"symbol\":\"circle\"},\"mode\":\"markers\",\"name\":\"Voltorb\",\"textfont\":{\"color\":\"#4D5663\"},\"type\":\"scatter\",\"x\":[330],\"y\":[100]},{\"marker\":{\"color\":\"rgba(128, 177, 211, 0.8999999999999999)\",\"line\":{\"width\":1.3},\"opacity\":0.8,\"size\":12,\"symbol\":\"circle\"},\"mode\":\"markers\",\"name\":\"Electrode\",\"textfont\":{\"color\":\"#4D5663\"},\"type\":\"scatter\",\"x\":[480],\"y\":[140]},{\"marker\":{\"color\":\"rgba(128, 177, 211, 0.8899999999999999)\",\"line\":{\"width\":1.3},\"opacity\":0.8,\"size\":12,\"symbol\":\"circle\"},\"mode\":\"markers\",\"name\":\"Exeggcute\",\"textfont\":{\"color\":\"#4D5663\"},\"type\":\"scatter\",\"x\":[325],\"y\":[40]},{\"marker\":{\"color\":\"rgba(255, 153, 51, 0.8899999999999999)\",\"line\":{\"width\":1.3},\"opacity\":0.8,\"size\":12,\"symbol\":\"circle\"},\"mode\":\"markers\",\"name\":\"Exeggutor\",\"textfont\":{\"color\":\"#4D5663\"},\"type\":\"scatter\",\"x\":[520],\"y\":[55]},{\"marker\":{\"color\":\"rgba(55, 128, 191, 0.8899999999999999)\",\"line\":{\"width\":1.3},\"opacity\":0.8,\"size\":12,\"symbol\":\"circle\"},\"mode\":\"markers\",\"name\":\"Cubone\",\"textfont\":{\"color\":\"#4D5663\"},\"type\":\"scatter\",\"x\":[320],\"y\":[35]},{\"marker\":{\"color\":\"rgba(50, 171, 96, 0.8899999999999999)\",\"line\":{\"width\":1.3},\"opacity\":0.8,\"size\":12,\"symbol\":\"circle\"},\"mode\":\"markers\",\"name\":\"Marowak\",\"textfont\":{\"color\":\"#4D5663\"},\"type\":\"scatter\",\"x\":[425],\"y\":[45]},{\"marker\":{\"color\":\"rgba(128, 0, 128, 0.8899999999999999)\",\"line\":{\"width\":1.3},\"opacity\":0.8,\"size\":12,\"symbol\":\"circle\"},\"mode\":\"markers\",\"name\":\"Hitmonlee\",\"textfont\":{\"color\":\"#4D5663\"},\"type\":\"scatter\",\"x\":[455],\"y\":[87]},{\"marker\":{\"color\":\"rgba(219, 64, 82, 0.8899999999999999)\",\"line\":{\"width\":1.3},\"opacity\":0.8,\"size\":12,\"symbol\":\"circle\"},\"mode\":\"markers\",\"name\":\"Hitmonchan\",\"textfont\":{\"color\":\"#4D5663\"},\"type\":\"scatter\",\"x\":[455],\"y\":[76]},{\"marker\":{\"color\":\"rgba(0, 128, 128, 0.8899999999999999)\",\"line\":{\"width\":1.3},\"opacity\":0.8,\"size\":12,\"symbol\":\"circle\"},\"mode\":\"markers\",\"name\":\"Lickitung\",\"textfont\":{\"color\":\"#4D5663\"},\"type\":\"scatter\",\"x\":[385],\"y\":[30]},{\"marker\":{\"color\":\"rgba(255, 255, 51, 0.8899999999999999)\",\"line\":{\"width\":1.3},\"opacity\":0.8,\"size\":12,\"symbol\":\"circle\"},\"mode\":\"markers\",\"name\":\"Koffing\",\"textfont\":{\"color\":\"#4D5663\"},\"type\":\"scatter\",\"x\":[340],\"y\":[35]},{\"marker\":{\"color\":\"rgba(128, 128, 0, 0.8899999999999999)\",\"line\":{\"width\":1.3},\"opacity\":0.8,\"size\":12,\"symbol\":\"circle\"},\"mode\":\"markers\",\"name\":\"Weezing\",\"textfont\":{\"color\":\"#4D5663\"},\"type\":\"scatter\",\"x\":[490],\"y\":[60]},{\"marker\":{\"color\":\"rgba(251, 128, 114, 0.8899999999999999)\",\"line\":{\"width\":1.3},\"opacity\":0.8,\"size\":12,\"symbol\":\"circle\"},\"mode\":\"markers\",\"name\":\"Rhyhorn\",\"textfont\":{\"color\":\"#4D5663\"},\"type\":\"scatter\",\"x\":[345],\"y\":[25]},{\"marker\":{\"color\":\"rgba(251, 128, 114, 0.8799999999999999)\",\"line\":{\"width\":1.3},\"opacity\":0.8,\"size\":12,\"symbol\":\"circle\"},\"mode\":\"markers\",\"name\":\"Rhydon\",\"textfont\":{\"color\":\"#4D5663\"},\"type\":\"scatter\",\"x\":[485],\"y\":[40]},{\"marker\":{\"color\":\"rgba(128, 177, 211, 0.8799999999999999)\",\"line\":{\"width\":1.3},\"opacity\":0.8,\"size\":12,\"symbol\":\"circle\"},\"mode\":\"markers\",\"name\":\"Chansey\",\"textfont\":{\"color\":\"#4D5663\"},\"type\":\"scatter\",\"x\":[450],\"y\":[50]},{\"marker\":{\"color\":\"rgba(255, 153, 51, 0.8799999999999999)\",\"line\":{\"width\":1.3},\"opacity\":0.8,\"size\":12,\"symbol\":\"circle\"},\"mode\":\"markers\",\"name\":\"Tangela\",\"textfont\":{\"color\":\"#4D5663\"},\"type\":\"scatter\",\"x\":[435],\"y\":[60]},{\"marker\":{\"color\":\"rgba(55, 128, 191, 0.8799999999999999)\",\"line\":{\"width\":1.3},\"opacity\":0.8,\"size\":12,\"symbol\":\"circle\"},\"mode\":\"markers\",\"name\":\"Kangaskhan\",\"textfont\":{\"color\":\"#4D5663\"},\"type\":\"scatter\",\"x\":[490],\"y\":[90]},{\"marker\":{\"color\":\"rgba(50, 171, 96, 0.8799999999999999)\",\"line\":{\"width\":1.3},\"opacity\":0.8,\"size\":12,\"symbol\":\"circle\"},\"mode\":\"markers\",\"name\":\"KangaskhanMega Kangaskhan\",\"textfont\":{\"color\":\"#4D5663\"},\"type\":\"scatter\",\"x\":[590],\"y\":[100]},{\"marker\":{\"color\":\"rgba(128, 0, 128, 0.8799999999999999)\",\"line\":{\"width\":1.3},\"opacity\":0.8,\"size\":12,\"symbol\":\"circle\"},\"mode\":\"markers\",\"name\":\"Horsea\",\"textfont\":{\"color\":\"#4D5663\"},\"type\":\"scatter\",\"x\":[295],\"y\":[60]},{\"marker\":{\"color\":\"rgba(219, 64, 82, 0.8799999999999999)\",\"line\":{\"width\":1.3},\"opacity\":0.8,\"size\":12,\"symbol\":\"circle\"},\"mode\":\"markers\",\"name\":\"Seadra\",\"textfont\":{\"color\":\"#4D5663\"},\"type\":\"scatter\",\"x\":[440],\"y\":[85]},{\"marker\":{\"color\":\"rgba(0, 128, 128, 0.8799999999999999)\",\"line\":{\"width\":1.3},\"opacity\":0.8,\"size\":12,\"symbol\":\"circle\"},\"mode\":\"markers\",\"name\":\"Goldeen\",\"textfont\":{\"color\":\"#4D5663\"},\"type\":\"scatter\",\"x\":[320],\"y\":[63]},{\"marker\":{\"color\":\"rgba(255, 255, 51, 0.8799999999999999)\",\"line\":{\"width\":1.3},\"opacity\":0.8,\"size\":12,\"symbol\":\"circle\"},\"mode\":\"markers\",\"name\":\"Seaking\",\"textfont\":{\"color\":\"#4D5663\"},\"type\":\"scatter\",\"x\":[450],\"y\":[68]},{\"marker\":{\"color\":\"rgba(128, 128, 0, 0.8799999999999999)\",\"line\":{\"width\":1.3},\"opacity\":0.8,\"size\":12,\"symbol\":\"circle\"},\"mode\":\"markers\",\"name\":\"Staryu\",\"textfont\":{\"color\":\"#4D5663\"},\"type\":\"scatter\",\"x\":[340],\"y\":[85]},{\"marker\":{\"color\":\"rgba(128, 128, 0, 0.8699999999999999)\",\"line\":{\"width\":1.3},\"opacity\":0.8,\"size\":12,\"symbol\":\"circle\"},\"mode\":\"markers\",\"name\":\"Starmie\",\"textfont\":{\"color\":\"#4D5663\"},\"type\":\"scatter\",\"x\":[520],\"y\":[115]},{\"marker\":{\"color\":\"rgba(251, 128, 114, 0.8699999999999999)\",\"line\":{\"width\":1.3},\"opacity\":0.8,\"size\":12,\"symbol\":\"circle\"},\"mode\":\"markers\",\"name\":\"Mr. Mime\",\"textfont\":{\"color\":\"#4D5663\"},\"type\":\"scatter\",\"x\":[460],\"y\":[90]},{\"marker\":{\"color\":\"rgba(128, 177, 211, 0.8699999999999999)\",\"line\":{\"width\":1.3},\"opacity\":0.8,\"size\":12,\"symbol\":\"circle\"},\"mode\":\"markers\",\"name\":\"Scyther\",\"textfont\":{\"color\":\"#4D5663\"},\"type\":\"scatter\",\"x\":[500],\"y\":[105]},{\"marker\":{\"color\":\"rgba(255, 153, 51, 0.8699999999999999)\",\"line\":{\"width\":1.3},\"opacity\":0.8,\"size\":12,\"symbol\":\"circle\"},\"mode\":\"markers\",\"name\":\"Jynx\",\"textfont\":{\"color\":\"#4D5663\"},\"type\":\"scatter\",\"x\":[455],\"y\":[95]},{\"marker\":{\"color\":\"rgba(55, 128, 191, 0.8699999999999999)\",\"line\":{\"width\":1.3},\"opacity\":0.8,\"size\":12,\"symbol\":\"circle\"},\"mode\":\"markers\",\"name\":\"Electabuzz\",\"textfont\":{\"color\":\"#4D5663\"},\"type\":\"scatter\",\"x\":[490],\"y\":[105]},{\"marker\":{\"color\":\"rgba(50, 171, 96, 0.8699999999999999)\",\"line\":{\"width\":1.3},\"opacity\":0.8,\"size\":12,\"symbol\":\"circle\"},\"mode\":\"markers\",\"name\":\"Magmar\",\"textfont\":{\"color\":\"#4D5663\"},\"type\":\"scatter\",\"x\":[495],\"y\":[93]},{\"marker\":{\"color\":\"rgba(128, 0, 128, 0.8699999999999999)\",\"line\":{\"width\":1.3},\"opacity\":0.8,\"size\":12,\"symbol\":\"circle\"},\"mode\":\"markers\",\"name\":\"Pinsir\",\"textfont\":{\"color\":\"#4D5663\"},\"type\":\"scatter\",\"x\":[500],\"y\":[85]},{\"marker\":{\"color\":\"rgba(219, 64, 82, 0.8699999999999999)\",\"line\":{\"width\":1.3},\"opacity\":0.8,\"size\":12,\"symbol\":\"circle\"},\"mode\":\"markers\",\"name\":\"PinsirMega Pinsir\",\"textfont\":{\"color\":\"#4D5663\"},\"type\":\"scatter\",\"x\":[600],\"y\":[105]},{\"marker\":{\"color\":\"rgba(0, 128, 128, 0.8699999999999999)\",\"line\":{\"width\":1.3},\"opacity\":0.8,\"size\":12,\"symbol\":\"circle\"},\"mode\":\"markers\",\"name\":\"Tauros\",\"textfont\":{\"color\":\"#4D5663\"},\"type\":\"scatter\",\"x\":[490],\"y\":[110]},{\"marker\":{\"color\":\"rgba(255, 255, 51, 0.8699999999999999)\",\"line\":{\"width\":1.3},\"opacity\":0.8,\"size\":12,\"symbol\":\"circle\"},\"mode\":\"markers\",\"name\":\"Magikarp\",\"textfont\":{\"color\":\"#4D5663\"},\"type\":\"scatter\",\"x\":[200],\"y\":[80]},{\"marker\":{\"color\":\"rgba(255, 255, 51, 0.8599999999999999)\",\"line\":{\"width\":1.3},\"opacity\":0.8,\"size\":12,\"symbol\":\"circle\"},\"mode\":\"markers\",\"name\":\"Gyarados\",\"textfont\":{\"color\":\"#4D5663\"},\"type\":\"scatter\",\"x\":[540],\"y\":[81]},{\"marker\":{\"color\":\"rgba(128, 128, 0, 0.8599999999999999)\",\"line\":{\"width\":1.3},\"opacity\":0.8,\"size\":12,\"symbol\":\"circle\"},\"mode\":\"markers\",\"name\":\"GyaradosMega Gyarados\",\"textfont\":{\"color\":\"#4D5663\"},\"type\":\"scatter\",\"x\":[640],\"y\":[81]},{\"marker\":{\"color\":\"rgba(251, 128, 114, 0.8599999999999999)\",\"line\":{\"width\":1.3},\"opacity\":0.8,\"size\":12,\"symbol\":\"circle\"},\"mode\":\"markers\",\"name\":\"Lapras\",\"textfont\":{\"color\":\"#4D5663\"},\"type\":\"scatter\",\"x\":[535],\"y\":[60]},{\"marker\":{\"color\":\"rgba(128, 177, 211, 0.8599999999999999)\",\"line\":{\"width\":1.3},\"opacity\":0.8,\"size\":12,\"symbol\":\"circle\"},\"mode\":\"markers\",\"name\":\"Ditto\",\"textfont\":{\"color\":\"#4D5663\"},\"type\":\"scatter\",\"x\":[288],\"y\":[48]},{\"marker\":{\"color\":\"rgba(255, 153, 51, 0.8599999999999999)\",\"line\":{\"width\":1.3},\"opacity\":0.8,\"size\":12,\"symbol\":\"circle\"},\"mode\":\"markers\",\"name\":\"Eevee\",\"textfont\":{\"color\":\"#4D5663\"},\"type\":\"scatter\",\"x\":[325],\"y\":[55]},{\"marker\":{\"color\":\"rgba(55, 128, 191, 0.8599999999999999)\",\"line\":{\"width\":1.3},\"opacity\":0.8,\"size\":12,\"symbol\":\"circle\"},\"mode\":\"markers\",\"name\":\"Vaporeon\",\"textfont\":{\"color\":\"#4D5663\"},\"type\":\"scatter\",\"x\":[525],\"y\":[65]},{\"marker\":{\"color\":\"rgba(50, 171, 96, 0.8599999999999999)\",\"line\":{\"width\":1.3},\"opacity\":0.8,\"size\":12,\"symbol\":\"circle\"},\"mode\":\"markers\",\"name\":\"Jolteon\",\"textfont\":{\"color\":\"#4D5663\"},\"type\":\"scatter\",\"x\":[525],\"y\":[130]},{\"marker\":{\"color\":\"rgba(128, 0, 128, 0.8599999999999999)\",\"line\":{\"width\":1.3},\"opacity\":0.8,\"size\":12,\"symbol\":\"circle\"},\"mode\":\"markers\",\"name\":\"Flareon\",\"textfont\":{\"color\":\"#4D5663\"},\"type\":\"scatter\",\"x\":[525],\"y\":[65]},{\"marker\":{\"color\":\"rgba(219, 64, 82, 0.8599999999999999)\",\"line\":{\"width\":1.3},\"opacity\":0.8,\"size\":12,\"symbol\":\"circle\"},\"mode\":\"markers\",\"name\":\"Porygon\",\"textfont\":{\"color\":\"#4D5663\"},\"type\":\"scatter\",\"x\":[395],\"y\":[40]},{\"marker\":{\"color\":\"rgba(0, 128, 128, 0.8599999999999999)\",\"line\":{\"width\":1.3},\"opacity\":0.8,\"size\":12,\"symbol\":\"circle\"},\"mode\":\"markers\",\"name\":\"Omanyte\",\"textfont\":{\"color\":\"#4D5663\"},\"type\":\"scatter\",\"x\":[355],\"y\":[35]},{\"marker\":{\"color\":\"rgba(0, 128, 128, 0.8499999999999999)\",\"line\":{\"width\":1.3},\"opacity\":0.8,\"size\":12,\"symbol\":\"circle\"},\"mode\":\"markers\",\"name\":\"Omastar\",\"textfont\":{\"color\":\"#4D5663\"},\"type\":\"scatter\",\"x\":[495],\"y\":[55]},{\"marker\":{\"color\":\"rgba(255, 255, 51, 0.8499999999999999)\",\"line\":{\"width\":1.3},\"opacity\":0.8,\"size\":12,\"symbol\":\"circle\"},\"mode\":\"markers\",\"name\":\"Kabuto\",\"textfont\":{\"color\":\"#4D5663\"},\"type\":\"scatter\",\"x\":[355],\"y\":[55]},{\"marker\":{\"color\":\"rgba(128, 128, 0, 0.8499999999999999)\",\"line\":{\"width\":1.3},\"opacity\":0.8,\"size\":12,\"symbol\":\"circle\"},\"mode\":\"markers\",\"name\":\"Kabutops\",\"textfont\":{\"color\":\"#4D5663\"},\"type\":\"scatter\",\"x\":[495],\"y\":[80]},{\"marker\":{\"color\":\"rgba(251, 128, 114, 0.8499999999999999)\",\"line\":{\"width\":1.3},\"opacity\":0.8,\"size\":12,\"symbol\":\"circle\"},\"mode\":\"markers\",\"name\":\"Aerodactyl\",\"textfont\":{\"color\":\"#4D5663\"},\"type\":\"scatter\",\"x\":[515],\"y\":[130]},{\"marker\":{\"color\":\"rgba(128, 177, 211, 0.8499999999999999)\",\"line\":{\"width\":1.3},\"opacity\":0.8,\"size\":12,\"symbol\":\"circle\"},\"mode\":\"markers\",\"name\":\"AerodactylMega Aerodactyl\",\"textfont\":{\"color\":\"#4D5663\"},\"type\":\"scatter\",\"x\":[615],\"y\":[150]},{\"marker\":{\"color\":\"rgba(255, 153, 51, 0.8499999999999999)\",\"line\":{\"width\":1.3},\"opacity\":0.8,\"size\":12,\"symbol\":\"circle\"},\"mode\":\"markers\",\"name\":\"Snorlax\",\"textfont\":{\"color\":\"#4D5663\"},\"type\":\"scatter\",\"x\":[540],\"y\":[30]},{\"marker\":{\"color\":\"rgba(55, 128, 191, 0.8499999999999999)\",\"line\":{\"width\":1.3},\"opacity\":0.8,\"size\":12,\"symbol\":\"circle\"},\"mode\":\"markers\",\"name\":\"Articuno\",\"textfont\":{\"color\":\"#4D5663\"},\"type\":\"scatter\",\"x\":[580],\"y\":[85]},{\"marker\":{\"color\":\"rgba(50, 171, 96, 0.8499999999999999)\",\"line\":{\"width\":1.3},\"opacity\":0.8,\"size\":12,\"symbol\":\"circle\"},\"mode\":\"markers\",\"name\":\"Zapdos\",\"textfont\":{\"color\":\"#4D5663\"},\"type\":\"scatter\",\"x\":[580],\"y\":[100]},{\"marker\":{\"color\":\"rgba(128, 0, 128, 0.8499999999999999)\",\"line\":{\"width\":1.3},\"opacity\":0.8,\"size\":12,\"symbol\":\"circle\"},\"mode\":\"markers\",\"name\":\"Moltres\",\"textfont\":{\"color\":\"#4D5663\"},\"type\":\"scatter\",\"x\":[580],\"y\":[90]},{\"marker\":{\"color\":\"rgba(219, 64, 82, 0.8499999999999999)\",\"line\":{\"width\":1.3},\"opacity\":0.8,\"size\":12,\"symbol\":\"circle\"},\"mode\":\"markers\",\"name\":\"Dratini\",\"textfont\":{\"color\":\"#4D5663\"},\"type\":\"scatter\",\"x\":[300],\"y\":[50]},{\"marker\":{\"color\":\"rgba(219, 64, 82, 0.8399999999999999)\",\"line\":{\"width\":1.3},\"opacity\":0.8,\"size\":12,\"symbol\":\"circle\"},\"mode\":\"markers\",\"name\":\"Dragonair\",\"textfont\":{\"color\":\"#4D5663\"},\"type\":\"scatter\",\"x\":[420],\"y\":[70]},{\"marker\":{\"color\":\"rgba(0, 128, 128, 0.8399999999999999)\",\"line\":{\"width\":1.3},\"opacity\":0.8,\"size\":12,\"symbol\":\"circle\"},\"mode\":\"markers\",\"name\":\"Dragonite\",\"textfont\":{\"color\":\"#4D5663\"},\"type\":\"scatter\",\"x\":[600],\"y\":[80]},{\"marker\":{\"color\":\"rgba(255, 255, 51, 0.8399999999999999)\",\"line\":{\"width\":1.3},\"opacity\":0.8,\"size\":12,\"symbol\":\"circle\"},\"mode\":\"markers\",\"name\":\"Mewtwo\",\"textfont\":{\"color\":\"#4D5663\"},\"type\":\"scatter\",\"x\":[680],\"y\":[130]},{\"marker\":{\"color\":\"rgba(128, 128, 0, 0.8399999999999999)\",\"line\":{\"width\":1.3},\"opacity\":0.8,\"size\":12,\"symbol\":\"circle\"},\"mode\":\"markers\",\"name\":\"MewtwoMega Mewtwo X\",\"textfont\":{\"color\":\"#4D5663\"},\"type\":\"scatter\",\"x\":[780],\"y\":[130]},{\"marker\":{\"color\":\"rgba(251, 128, 114, 0.8399999999999999)\",\"line\":{\"width\":1.3},\"opacity\":0.8,\"size\":12,\"symbol\":\"circle\"},\"mode\":\"markers\",\"name\":\"MewtwoMega Mewtwo Y\",\"textfont\":{\"color\":\"#4D5663\"},\"type\":\"scatter\",\"x\":[780],\"y\":[140]},{\"marker\":{\"color\":\"rgba(128, 177, 211, 0.8399999999999999)\",\"line\":{\"width\":1.3},\"opacity\":0.8,\"size\":12,\"symbol\":\"circle\"},\"mode\":\"markers\",\"name\":\"Mew\",\"textfont\":{\"color\":\"#4D5663\"},\"type\":\"scatter\",\"x\":[600],\"y\":[100]},{\"marker\":{\"color\":\"rgba(255, 153, 51, 0.8399999999999999)\",\"line\":{\"width\":1.3},\"opacity\":0.8,\"size\":12,\"symbol\":\"circle\"},\"mode\":\"markers\",\"name\":\"Chikorita\",\"textfont\":{\"color\":\"#4D5663\"},\"type\":\"scatter\",\"x\":[318],\"y\":[45]},{\"marker\":{\"color\":\"rgba(55, 128, 191, 0.8399999999999999)\",\"line\":{\"width\":1.3},\"opacity\":0.8,\"size\":12,\"symbol\":\"circle\"},\"mode\":\"markers\",\"name\":\"Bayleef\",\"textfont\":{\"color\":\"#4D5663\"},\"type\":\"scatter\",\"x\":[405],\"y\":[60]},{\"marker\":{\"color\":\"rgba(50, 171, 96, 0.8399999999999999)\",\"line\":{\"width\":1.3},\"opacity\":0.8,\"size\":12,\"symbol\":\"circle\"},\"mode\":\"markers\",\"name\":\"Meganium\",\"textfont\":{\"color\":\"#4D5663\"},\"type\":\"scatter\",\"x\":[525],\"y\":[80]},{\"marker\":{\"color\":\"rgba(128, 0, 128, 0.8399999999999999)\",\"line\":{\"width\":1.3},\"opacity\":0.8,\"size\":12,\"symbol\":\"circle\"},\"mode\":\"markers\",\"name\":\"Cyndaquil\",\"textfont\":{\"color\":\"#4D5663\"},\"type\":\"scatter\",\"x\":[309],\"y\":[65]},{\"marker\":{\"color\":\"rgba(128, 0, 128, 0.8299999999999998)\",\"line\":{\"width\":1.3},\"opacity\":0.8,\"size\":12,\"symbol\":\"circle\"},\"mode\":\"markers\",\"name\":\"Quilava\",\"textfont\":{\"color\":\"#4D5663\"},\"type\":\"scatter\",\"x\":[405],\"y\":[80]},{\"marker\":{\"color\":\"rgba(219, 64, 82, 0.8299999999999998)\",\"line\":{\"width\":1.3},\"opacity\":0.8,\"size\":12,\"symbol\":\"circle\"},\"mode\":\"markers\",\"name\":\"Typhlosion\",\"textfont\":{\"color\":\"#4D5663\"},\"type\":\"scatter\",\"x\":[534],\"y\":[100]},{\"marker\":{\"color\":\"rgba(0, 128, 128, 0.8299999999999998)\",\"line\":{\"width\":1.3},\"opacity\":0.8,\"size\":12,\"symbol\":\"circle\"},\"mode\":\"markers\",\"name\":\"Totodile\",\"textfont\":{\"color\":\"#4D5663\"},\"type\":\"scatter\",\"x\":[314],\"y\":[43]},{\"marker\":{\"color\":\"rgba(255, 255, 51, 0.8299999999999998)\",\"line\":{\"width\":1.3},\"opacity\":0.8,\"size\":12,\"symbol\":\"circle\"},\"mode\":\"markers\",\"name\":\"Croconaw\",\"textfont\":{\"color\":\"#4D5663\"},\"type\":\"scatter\",\"x\":[405],\"y\":[58]},{\"marker\":{\"color\":\"rgba(128, 128, 0, 0.8299999999999998)\",\"line\":{\"width\":1.3},\"opacity\":0.8,\"size\":12,\"symbol\":\"circle\"},\"mode\":\"markers\",\"name\":\"Feraligatr\",\"textfont\":{\"color\":\"#4D5663\"},\"type\":\"scatter\",\"x\":[530],\"y\":[78]},{\"marker\":{\"color\":\"rgba(251, 128, 114, 0.8299999999999998)\",\"line\":{\"width\":1.3},\"opacity\":0.8,\"size\":12,\"symbol\":\"circle\"},\"mode\":\"markers\",\"name\":\"Sentret\",\"textfont\":{\"color\":\"#4D5663\"},\"type\":\"scatter\",\"x\":[215],\"y\":[20]},{\"marker\":{\"color\":\"rgba(128, 177, 211, 0.8299999999999998)\",\"line\":{\"width\":1.3},\"opacity\":0.8,\"size\":12,\"symbol\":\"circle\"},\"mode\":\"markers\",\"name\":\"Furret\",\"textfont\":{\"color\":\"#4D5663\"},\"type\":\"scatter\",\"x\":[415],\"y\":[90]},{\"marker\":{\"color\":\"rgba(255, 153, 51, 0.8299999999999998)\",\"line\":{\"width\":1.3},\"opacity\":0.8,\"size\":12,\"symbol\":\"circle\"},\"mode\":\"markers\",\"name\":\"Hoothoot\",\"textfont\":{\"color\":\"#4D5663\"},\"type\":\"scatter\",\"x\":[262],\"y\":[50]},{\"marker\":{\"color\":\"rgba(55, 128, 191, 0.8299999999999998)\",\"line\":{\"width\":1.3},\"opacity\":0.8,\"size\":12,\"symbol\":\"circle\"},\"mode\":\"markers\",\"name\":\"Noctowl\",\"textfont\":{\"color\":\"#4D5663\"},\"type\":\"scatter\",\"x\":[442],\"y\":[70]},{\"marker\":{\"color\":\"rgba(50, 171, 96, 0.8299999999999998)\",\"line\":{\"width\":1.3},\"opacity\":0.8,\"size\":12,\"symbol\":\"circle\"},\"mode\":\"markers\",\"name\":\"Ledyba\",\"textfont\":{\"color\":\"#4D5663\"},\"type\":\"scatter\",\"x\":[265],\"y\":[55]},{\"marker\":{\"color\":\"rgba(50, 171, 96, 0.8199999999999998)\",\"line\":{\"width\":1.3},\"opacity\":0.8,\"size\":12,\"symbol\":\"circle\"},\"mode\":\"markers\",\"name\":\"Ledian\",\"textfont\":{\"color\":\"#4D5663\"},\"type\":\"scatter\",\"x\":[390],\"y\":[85]},{\"marker\":{\"color\":\"rgba(128, 0, 128, 0.8199999999999998)\",\"line\":{\"width\":1.3},\"opacity\":0.8,\"size\":12,\"symbol\":\"circle\"},\"mode\":\"markers\",\"name\":\"Spinarak\",\"textfont\":{\"color\":\"#4D5663\"},\"type\":\"scatter\",\"x\":[250],\"y\":[30]},{\"marker\":{\"color\":\"rgba(219, 64, 82, 0.8199999999999998)\",\"line\":{\"width\":1.3},\"opacity\":0.8,\"size\":12,\"symbol\":\"circle\"},\"mode\":\"markers\",\"name\":\"Ariados\",\"textfont\":{\"color\":\"#4D5663\"},\"type\":\"scatter\",\"x\":[390],\"y\":[40]},{\"marker\":{\"color\":\"rgba(0, 128, 128, 0.8199999999999998)\",\"line\":{\"width\":1.3},\"opacity\":0.8,\"size\":12,\"symbol\":\"circle\"},\"mode\":\"markers\",\"name\":\"Crobat\",\"textfont\":{\"color\":\"#4D5663\"},\"type\":\"scatter\",\"x\":[535],\"y\":[130]},{\"marker\":{\"color\":\"rgba(255, 255, 51, 0.8199999999999998)\",\"line\":{\"width\":1.3},\"opacity\":0.8,\"size\":12,\"symbol\":\"circle\"},\"mode\":\"markers\",\"name\":\"Chinchou\",\"textfont\":{\"color\":\"#4D5663\"},\"type\":\"scatter\",\"x\":[330],\"y\":[67]},{\"marker\":{\"color\":\"rgba(128, 128, 0, 0.8199999999999998)\",\"line\":{\"width\":1.3},\"opacity\":0.8,\"size\":12,\"symbol\":\"circle\"},\"mode\":\"markers\",\"name\":\"Lanturn\",\"textfont\":{\"color\":\"#4D5663\"},\"type\":\"scatter\",\"x\":[460],\"y\":[67]},{\"marker\":{\"color\":\"rgba(251, 128, 114, 0.8199999999999998)\",\"line\":{\"width\":1.3},\"opacity\":0.8,\"size\":12,\"symbol\":\"circle\"},\"mode\":\"markers\",\"name\":\"Pichu\",\"textfont\":{\"color\":\"#4D5663\"},\"type\":\"scatter\",\"x\":[205],\"y\":[60]},{\"marker\":{\"color\":\"rgba(128, 177, 211, 0.8199999999999998)\",\"line\":{\"width\":1.3},\"opacity\":0.8,\"size\":12,\"symbol\":\"circle\"},\"mode\":\"markers\",\"name\":\"Cleffa\",\"textfont\":{\"color\":\"#4D5663\"},\"type\":\"scatter\",\"x\":[218],\"y\":[15]},{\"marker\":{\"color\":\"rgba(255, 153, 51, 0.8199999999999998)\",\"line\":{\"width\":1.3},\"opacity\":0.8,\"size\":12,\"symbol\":\"circle\"},\"mode\":\"markers\",\"name\":\"Igglybuff\",\"textfont\":{\"color\":\"#4D5663\"},\"type\":\"scatter\",\"x\":[210],\"y\":[15]},{\"marker\":{\"color\":\"rgba(55, 128, 191, 0.8199999999999998)\",\"line\":{\"width\":1.3},\"opacity\":0.8,\"size\":12,\"symbol\":\"circle\"},\"mode\":\"markers\",\"name\":\"Togepi\",\"textfont\":{\"color\":\"#4D5663\"},\"type\":\"scatter\",\"x\":[245],\"y\":[20]},{\"marker\":{\"color\":\"rgba(55, 128, 191, 0.8099999999999998)\",\"line\":{\"width\":1.3},\"opacity\":0.8,\"size\":12,\"symbol\":\"circle\"},\"mode\":\"markers\",\"name\":\"Togetic\",\"textfont\":{\"color\":\"#4D5663\"},\"type\":\"scatter\",\"x\":[405],\"y\":[40]},{\"marker\":{\"color\":\"rgba(50, 171, 96, 0.8099999999999998)\",\"line\":{\"width\":1.3},\"opacity\":0.8,\"size\":12,\"symbol\":\"circle\"},\"mode\":\"markers\",\"name\":\"Natu\",\"textfont\":{\"color\":\"#4D5663\"},\"type\":\"scatter\",\"x\":[320],\"y\":[70]},{\"marker\":{\"color\":\"rgba(128, 0, 128, 0.8099999999999998)\",\"line\":{\"width\":1.3},\"opacity\":0.8,\"size\":12,\"symbol\":\"circle\"},\"mode\":\"markers\",\"name\":\"Xatu\",\"textfont\":{\"color\":\"#4D5663\"},\"type\":\"scatter\",\"x\":[470],\"y\":[95]},{\"marker\":{\"color\":\"rgba(219, 64, 82, 0.8099999999999998)\",\"line\":{\"width\":1.3},\"opacity\":0.8,\"size\":12,\"symbol\":\"circle\"},\"mode\":\"markers\",\"name\":\"Mareep\",\"textfont\":{\"color\":\"#4D5663\"},\"type\":\"scatter\",\"x\":[280],\"y\":[35]},{\"marker\":{\"color\":\"rgba(0, 128, 128, 0.8099999999999998)\",\"line\":{\"width\":1.3},\"opacity\":0.8,\"size\":12,\"symbol\":\"circle\"},\"mode\":\"markers\",\"name\":\"Flaaffy\",\"textfont\":{\"color\":\"#4D5663\"},\"type\":\"scatter\",\"x\":[365],\"y\":[45]},{\"marker\":{\"color\":\"rgba(255, 255, 51, 0.8099999999999998)\",\"line\":{\"width\":1.3},\"opacity\":0.8,\"size\":12,\"symbol\":\"circle\"},\"mode\":\"markers\",\"name\":\"Ampharos\",\"textfont\":{\"color\":\"#4D5663\"},\"type\":\"scatter\",\"x\":[510],\"y\":[55]},{\"marker\":{\"color\":\"rgba(128, 128, 0, 0.8099999999999998)\",\"line\":{\"width\":1.3},\"opacity\":0.8,\"size\":12,\"symbol\":\"circle\"},\"mode\":\"markers\",\"name\":\"AmpharosMega Ampharos\",\"textfont\":{\"color\":\"#4D5663\"},\"type\":\"scatter\",\"x\":[610],\"y\":[45]},{\"marker\":{\"color\":\"rgba(251, 128, 114, 0.8099999999999998)\",\"line\":{\"width\":1.3},\"opacity\":0.8,\"size\":12,\"symbol\":\"circle\"},\"mode\":\"markers\",\"name\":\"Bellossom\",\"textfont\":{\"color\":\"#4D5663\"},\"type\":\"scatter\",\"x\":[490],\"y\":[50]},{\"marker\":{\"color\":\"rgba(128, 177, 211, 0.8099999999999998)\",\"line\":{\"width\":1.3},\"opacity\":0.8,\"size\":12,\"symbol\":\"circle\"},\"mode\":\"markers\",\"name\":\"Marill\",\"textfont\":{\"color\":\"#4D5663\"},\"type\":\"scatter\",\"x\":[250],\"y\":[40]},{\"marker\":{\"color\":\"rgba(255, 153, 51, 0.8099999999999998)\",\"line\":{\"width\":1.3},\"opacity\":0.8,\"size\":12,\"symbol\":\"circle\"},\"mode\":\"markers\",\"name\":\"Azumarill\",\"textfont\":{\"color\":\"#4D5663\"},\"type\":\"scatter\",\"x\":[420],\"y\":[50]},{\"marker\":{\"color\":\"rgba(255, 153, 51, 0.7999999999999998)\",\"line\":{\"width\":1.3},\"opacity\":0.8,\"size\":12,\"symbol\":\"circle\"},\"mode\":\"markers\",\"name\":\"Sudowoodo\",\"textfont\":{\"color\":\"#4D5663\"},\"type\":\"scatter\",\"x\":[410],\"y\":[30]},{\"marker\":{\"color\":\"rgba(55, 128, 191, 0.7999999999999998)\",\"line\":{\"width\":1.3},\"opacity\":0.8,\"size\":12,\"symbol\":\"circle\"},\"mode\":\"markers\",\"name\":\"Politoed\",\"textfont\":{\"color\":\"#4D5663\"},\"type\":\"scatter\",\"x\":[500],\"y\":[70]},{\"marker\":{\"color\":\"rgba(50, 171, 96, 0.7999999999999998)\",\"line\":{\"width\":1.3},\"opacity\":0.8,\"size\":12,\"symbol\":\"circle\"},\"mode\":\"markers\",\"name\":\"Hoppip\",\"textfont\":{\"color\":\"#4D5663\"},\"type\":\"scatter\",\"x\":[250],\"y\":[50]},{\"marker\":{\"color\":\"rgba(128, 0, 128, 0.7999999999999998)\",\"line\":{\"width\":1.3},\"opacity\":0.8,\"size\":12,\"symbol\":\"circle\"},\"mode\":\"markers\",\"name\":\"Skiploom\",\"textfont\":{\"color\":\"#4D5663\"},\"type\":\"scatter\",\"x\":[340],\"y\":[80]},{\"marker\":{\"color\":\"rgba(219, 64, 82, 0.7999999999999998)\",\"line\":{\"width\":1.3},\"opacity\":0.8,\"size\":12,\"symbol\":\"circle\"},\"mode\":\"markers\",\"name\":\"Jumpluff\",\"textfont\":{\"color\":\"#4D5663\"},\"type\":\"scatter\",\"x\":[460],\"y\":[110]},{\"marker\":{\"color\":\"rgba(0, 128, 128, 0.7999999999999998)\",\"line\":{\"width\":1.3},\"opacity\":0.8,\"size\":12,\"symbol\":\"circle\"},\"mode\":\"markers\",\"name\":\"Aipom\",\"textfont\":{\"color\":\"#4D5663\"},\"type\":\"scatter\",\"x\":[360],\"y\":[85]},{\"marker\":{\"color\":\"rgba(255, 255, 51, 0.7999999999999998)\",\"line\":{\"width\":1.3},\"opacity\":0.8,\"size\":12,\"symbol\":\"circle\"},\"mode\":\"markers\",\"name\":\"Sunkern\",\"textfont\":{\"color\":\"#4D5663\"},\"type\":\"scatter\",\"x\":[180],\"y\":[30]},{\"marker\":{\"color\":\"rgba(128, 128, 0, 0.7999999999999998)\",\"line\":{\"width\":1.3},\"opacity\":0.8,\"size\":12,\"symbol\":\"circle\"},\"mode\":\"markers\",\"name\":\"Sunflora\",\"textfont\":{\"color\":\"#4D5663\"},\"type\":\"scatter\",\"x\":[425],\"y\":[30]},{\"marker\":{\"color\":\"rgba(251, 128, 114, 0.7999999999999998)\",\"line\":{\"width\":1.3},\"opacity\":0.8,\"size\":12,\"symbol\":\"circle\"},\"mode\":\"markers\",\"name\":\"Yanma\",\"textfont\":{\"color\":\"#4D5663\"},\"type\":\"scatter\",\"x\":[390],\"y\":[95]},{\"marker\":{\"color\":\"rgba(128, 177, 211, 0.7999999999999998)\",\"line\":{\"width\":1.3},\"opacity\":0.8,\"size\":12,\"symbol\":\"circle\"},\"mode\":\"markers\",\"name\":\"Wooper\",\"textfont\":{\"color\":\"#4D5663\"},\"type\":\"scatter\",\"x\":[210],\"y\":[15]},{\"marker\":{\"color\":\"rgba(128, 177, 211, 0.7899999999999998)\",\"line\":{\"width\":1.3},\"opacity\":0.8,\"size\":12,\"symbol\":\"circle\"},\"mode\":\"markers\",\"name\":\"Quagsire\",\"textfont\":{\"color\":\"#4D5663\"},\"type\":\"scatter\",\"x\":[430],\"y\":[35]},{\"marker\":{\"color\":\"rgba(255, 153, 51, 0.7899999999999998)\",\"line\":{\"width\":1.3},\"opacity\":0.8,\"size\":12,\"symbol\":\"circle\"},\"mode\":\"markers\",\"name\":\"Espeon\",\"textfont\":{\"color\":\"#4D5663\"},\"type\":\"scatter\",\"x\":[525],\"y\":[110]},{\"marker\":{\"color\":\"rgba(55, 128, 191, 0.7899999999999998)\",\"line\":{\"width\":1.3},\"opacity\":0.8,\"size\":12,\"symbol\":\"circle\"},\"mode\":\"markers\",\"name\":\"Umbreon\",\"textfont\":{\"color\":\"#4D5663\"},\"type\":\"scatter\",\"x\":[525],\"y\":[65]},{\"marker\":{\"color\":\"rgba(50, 171, 96, 0.7899999999999998)\",\"line\":{\"width\":1.3},\"opacity\":0.8,\"size\":12,\"symbol\":\"circle\"},\"mode\":\"markers\",\"name\":\"Murkrow\",\"textfont\":{\"color\":\"#4D5663\"},\"type\":\"scatter\",\"x\":[405],\"y\":[91]},{\"marker\":{\"color\":\"rgba(128, 0, 128, 0.7899999999999998)\",\"line\":{\"width\":1.3},\"opacity\":0.8,\"size\":12,\"symbol\":\"circle\"},\"mode\":\"markers\",\"name\":\"Slowking\",\"textfont\":{\"color\":\"#4D5663\"},\"type\":\"scatter\",\"x\":[490],\"y\":[30]},{\"marker\":{\"color\":\"rgba(219, 64, 82, 0.7899999999999998)\",\"line\":{\"width\":1.3},\"opacity\":0.8,\"size\":12,\"symbol\":\"circle\"},\"mode\":\"markers\",\"name\":\"Misdreavus\",\"textfont\":{\"color\":\"#4D5663\"},\"type\":\"scatter\",\"x\":[435],\"y\":[85]},{\"marker\":{\"color\":\"rgba(0, 128, 128, 0.7899999999999998)\",\"line\":{\"width\":1.3},\"opacity\":0.8,\"size\":12,\"symbol\":\"circle\"},\"mode\":\"markers\",\"name\":\"Unown\",\"textfont\":{\"color\":\"#4D5663\"},\"type\":\"scatter\",\"x\":[336],\"y\":[48]},{\"marker\":{\"color\":\"rgba(255, 255, 51, 0.7899999999999998)\",\"line\":{\"width\":1.3},\"opacity\":0.8,\"size\":12,\"symbol\":\"circle\"},\"mode\":\"markers\",\"name\":\"Wobbuffet\",\"textfont\":{\"color\":\"#4D5663\"},\"type\":\"scatter\",\"x\":[405],\"y\":[33]},{\"marker\":{\"color\":\"rgba(128, 128, 0, 0.7899999999999998)\",\"line\":{\"width\":1.3},\"opacity\":0.8,\"size\":12,\"symbol\":\"circle\"},\"mode\":\"markers\",\"name\":\"Girafarig\",\"textfont\":{\"color\":\"#4D5663\"},\"type\":\"scatter\",\"x\":[455],\"y\":[85]},{\"marker\":{\"color\":\"rgba(251, 128, 114, 0.7899999999999998)\",\"line\":{\"width\":1.3},\"opacity\":0.8,\"size\":12,\"symbol\":\"circle\"},\"mode\":\"markers\",\"name\":\"Pineco\",\"textfont\":{\"color\":\"#4D5663\"},\"type\":\"scatter\",\"x\":[290],\"y\":[15]},{\"marker\":{\"color\":\"rgba(251, 128, 114, 0.7799999999999998)\",\"line\":{\"width\":1.3},\"opacity\":0.8,\"size\":12,\"symbol\":\"circle\"},\"mode\":\"markers\",\"name\":\"Forretress\",\"textfont\":{\"color\":\"#4D5663\"},\"type\":\"scatter\",\"x\":[465],\"y\":[40]},{\"marker\":{\"color\":\"rgba(128, 177, 211, 0.7799999999999998)\",\"line\":{\"width\":1.3},\"opacity\":0.8,\"size\":12,\"symbol\":\"circle\"},\"mode\":\"markers\",\"name\":\"Dunsparce\",\"textfont\":{\"color\":\"#4D5663\"},\"type\":\"scatter\",\"x\":[415],\"y\":[45]},{\"marker\":{\"color\":\"rgba(255, 153, 51, 0.7799999999999998)\",\"line\":{\"width\":1.3},\"opacity\":0.8,\"size\":12,\"symbol\":\"circle\"},\"mode\":\"markers\",\"name\":\"Gligar\",\"textfont\":{\"color\":\"#4D5663\"},\"type\":\"scatter\",\"x\":[430],\"y\":[85]},{\"marker\":{\"color\":\"rgba(55, 128, 191, 0.7799999999999998)\",\"line\":{\"width\":1.3},\"opacity\":0.8,\"size\":12,\"symbol\":\"circle\"},\"mode\":\"markers\",\"name\":\"Steelix\",\"textfont\":{\"color\":\"#4D5663\"},\"type\":\"scatter\",\"x\":[510],\"y\":[30]},{\"marker\":{\"color\":\"rgba(50, 171, 96, 0.7799999999999998)\",\"line\":{\"width\":1.3},\"opacity\":0.8,\"size\":12,\"symbol\":\"circle\"},\"mode\":\"markers\",\"name\":\"SteelixMega Steelix\",\"textfont\":{\"color\":\"#4D5663\"},\"type\":\"scatter\",\"x\":[610],\"y\":[30]},{\"marker\":{\"color\":\"rgba(128, 0, 128, 0.7799999999999998)\",\"line\":{\"width\":1.3},\"opacity\":0.8,\"size\":12,\"symbol\":\"circle\"},\"mode\":\"markers\",\"name\":\"Snubbull\",\"textfont\":{\"color\":\"#4D5663\"},\"type\":\"scatter\",\"x\":[300],\"y\":[30]},{\"marker\":{\"color\":\"rgba(219, 64, 82, 0.7799999999999998)\",\"line\":{\"width\":1.3},\"opacity\":0.8,\"size\":12,\"symbol\":\"circle\"},\"mode\":\"markers\",\"name\":\"Granbull\",\"textfont\":{\"color\":\"#4D5663\"},\"type\":\"scatter\",\"x\":[450],\"y\":[45]},{\"marker\":{\"color\":\"rgba(0, 128, 128, 0.7799999999999998)\",\"line\":{\"width\":1.3},\"opacity\":0.8,\"size\":12,\"symbol\":\"circle\"},\"mode\":\"markers\",\"name\":\"Qwilfish\",\"textfont\":{\"color\":\"#4D5663\"},\"type\":\"scatter\",\"x\":[430],\"y\":[85]},{\"marker\":{\"color\":\"rgba(255, 255, 51, 0.7799999999999998)\",\"line\":{\"width\":1.3},\"opacity\":0.8,\"size\":12,\"symbol\":\"circle\"},\"mode\":\"markers\",\"name\":\"Scizor\",\"textfont\":{\"color\":\"#4D5663\"},\"type\":\"scatter\",\"x\":[500],\"y\":[65]},{\"marker\":{\"color\":\"rgba(128, 128, 0, 0.7799999999999998)\",\"line\":{\"width\":1.3},\"opacity\":0.8,\"size\":12,\"symbol\":\"circle\"},\"mode\":\"markers\",\"name\":\"ScizorMega Scizor\",\"textfont\":{\"color\":\"#4D5663\"},\"type\":\"scatter\",\"x\":[600],\"y\":[75]},{\"marker\":{\"color\":\"rgba(128, 128, 0, 0.7699999999999998)\",\"line\":{\"width\":1.3},\"opacity\":0.8,\"size\":12,\"symbol\":\"circle\"},\"mode\":\"markers\",\"name\":\"Shuckle\",\"textfont\":{\"color\":\"#4D5663\"},\"type\":\"scatter\",\"x\":[505],\"y\":[5]},{\"marker\":{\"color\":\"rgba(251, 128, 114, 0.7699999999999998)\",\"line\":{\"width\":1.3},\"opacity\":0.8,\"size\":12,\"symbol\":\"circle\"},\"mode\":\"markers\",\"name\":\"Heracross\",\"textfont\":{\"color\":\"#4D5663\"},\"type\":\"scatter\",\"x\":[500],\"y\":[85]},{\"marker\":{\"color\":\"rgba(128, 177, 211, 0.7699999999999998)\",\"line\":{\"width\":1.3},\"opacity\":0.8,\"size\":12,\"symbol\":\"circle\"},\"mode\":\"markers\",\"name\":\"HeracrossMega Heracross\",\"textfont\":{\"color\":\"#4D5663\"},\"type\":\"scatter\",\"x\":[600],\"y\":[75]},{\"marker\":{\"color\":\"rgba(255, 153, 51, 0.7699999999999998)\",\"line\":{\"width\":1.3},\"opacity\":0.8,\"size\":12,\"symbol\":\"circle\"},\"mode\":\"markers\",\"name\":\"Sneasel\",\"textfont\":{\"color\":\"#4D5663\"},\"type\":\"scatter\",\"x\":[430],\"y\":[115]},{\"marker\":{\"color\":\"rgba(55, 128, 191, 0.7699999999999998)\",\"line\":{\"width\":1.3},\"opacity\":0.8,\"size\":12,\"symbol\":\"circle\"},\"mode\":\"markers\",\"name\":\"Teddiursa\",\"textfont\":{\"color\":\"#4D5663\"},\"type\":\"scatter\",\"x\":[330],\"y\":[40]},{\"marker\":{\"color\":\"rgba(50, 171, 96, 0.7699999999999998)\",\"line\":{\"width\":1.3},\"opacity\":0.8,\"size\":12,\"symbol\":\"circle\"},\"mode\":\"markers\",\"name\":\"Ursaring\",\"textfont\":{\"color\":\"#4D5663\"},\"type\":\"scatter\",\"x\":[500],\"y\":[55]},{\"marker\":{\"color\":\"rgba(128, 0, 128, 0.7699999999999998)\",\"line\":{\"width\":1.3},\"opacity\":0.8,\"size\":12,\"symbol\":\"circle\"},\"mode\":\"markers\",\"name\":\"Slugma\",\"textfont\":{\"color\":\"#4D5663\"},\"type\":\"scatter\",\"x\":[250],\"y\":[20]},{\"marker\":{\"color\":\"rgba(219, 64, 82, 0.7699999999999998)\",\"line\":{\"width\":1.3},\"opacity\":0.8,\"size\":12,\"symbol\":\"circle\"},\"mode\":\"markers\",\"name\":\"Magcargo\",\"textfont\":{\"color\":\"#4D5663\"},\"type\":\"scatter\",\"x\":[410],\"y\":[30]},{\"marker\":{\"color\":\"rgba(0, 128, 128, 0.7699999999999998)\",\"line\":{\"width\":1.3},\"opacity\":0.8,\"size\":12,\"symbol\":\"circle\"},\"mode\":\"markers\",\"name\":\"Swinub\",\"textfont\":{\"color\":\"#4D5663\"},\"type\":\"scatter\",\"x\":[250],\"y\":[50]},{\"marker\":{\"color\":\"rgba(255, 255, 51, 0.7699999999999998)\",\"line\":{\"width\":1.3},\"opacity\":0.8,\"size\":12,\"symbol\":\"circle\"},\"mode\":\"markers\",\"name\":\"Piloswine\",\"textfont\":{\"color\":\"#4D5663\"},\"type\":\"scatter\",\"x\":[450],\"y\":[50]},{\"marker\":{\"color\":\"rgba(255, 255, 51, 0.7599999999999998)\",\"line\":{\"width\":1.3},\"opacity\":0.8,\"size\":12,\"symbol\":\"circle\"},\"mode\":\"markers\",\"name\":\"Corsola\",\"textfont\":{\"color\":\"#4D5663\"},\"type\":\"scatter\",\"x\":[380],\"y\":[35]},{\"marker\":{\"color\":\"rgba(128, 128, 0, 0.7599999999999998)\",\"line\":{\"width\":1.3},\"opacity\":0.8,\"size\":12,\"symbol\":\"circle\"},\"mode\":\"markers\",\"name\":\"Remoraid\",\"textfont\":{\"color\":\"#4D5663\"},\"type\":\"scatter\",\"x\":[300],\"y\":[65]},{\"marker\":{\"color\":\"rgba(251, 128, 114, 0.7599999999999998)\",\"line\":{\"width\":1.3},\"opacity\":0.8,\"size\":12,\"symbol\":\"circle\"},\"mode\":\"markers\",\"name\":\"Octillery\",\"textfont\":{\"color\":\"#4D5663\"},\"type\":\"scatter\",\"x\":[480],\"y\":[45]},{\"marker\":{\"color\":\"rgba(128, 177, 211, 0.7599999999999998)\",\"line\":{\"width\":1.3},\"opacity\":0.8,\"size\":12,\"symbol\":\"circle\"},\"mode\":\"markers\",\"name\":\"Delibird\",\"textfont\":{\"color\":\"#4D5663\"},\"type\":\"scatter\",\"x\":[330],\"y\":[75]},{\"marker\":{\"color\":\"rgba(255, 153, 51, 0.7599999999999998)\",\"line\":{\"width\":1.3},\"opacity\":0.8,\"size\":12,\"symbol\":\"circle\"},\"mode\":\"markers\",\"name\":\"Mantine\",\"textfont\":{\"color\":\"#4D5663\"},\"type\":\"scatter\",\"x\":[465],\"y\":[70]},{\"marker\":{\"color\":\"rgba(55, 128, 191, 0.7599999999999998)\",\"line\":{\"width\":1.3},\"opacity\":0.8,\"size\":12,\"symbol\":\"circle\"},\"mode\":\"markers\",\"name\":\"Skarmory\",\"textfont\":{\"color\":\"#4D5663\"},\"type\":\"scatter\",\"x\":[465],\"y\":[70]},{\"marker\":{\"color\":\"rgba(50, 171, 96, 0.7599999999999998)\",\"line\":{\"width\":1.3},\"opacity\":0.8,\"size\":12,\"symbol\":\"circle\"},\"mode\":\"markers\",\"name\":\"Houndour\",\"textfont\":{\"color\":\"#4D5663\"},\"type\":\"scatter\",\"x\":[330],\"y\":[65]},{\"marker\":{\"color\":\"rgba(128, 0, 128, 0.7599999999999998)\",\"line\":{\"width\":1.3},\"opacity\":0.8,\"size\":12,\"symbol\":\"circle\"},\"mode\":\"markers\",\"name\":\"Houndoom\",\"textfont\":{\"color\":\"#4D5663\"},\"type\":\"scatter\",\"x\":[500],\"y\":[95]},{\"marker\":{\"color\":\"rgba(219, 64, 82, 0.7599999999999998)\",\"line\":{\"width\":1.3},\"opacity\":0.8,\"size\":12,\"symbol\":\"circle\"},\"mode\":\"markers\",\"name\":\"HoundoomMega Houndoom\",\"textfont\":{\"color\":\"#4D5663\"},\"type\":\"scatter\",\"x\":[600],\"y\":[115]},{\"marker\":{\"color\":\"rgba(0, 128, 128, 0.7599999999999998)\",\"line\":{\"width\":1.3},\"opacity\":0.8,\"size\":12,\"symbol\":\"circle\"},\"mode\":\"markers\",\"name\":\"Kingdra\",\"textfont\":{\"color\":\"#4D5663\"},\"type\":\"scatter\",\"x\":[540],\"y\":[85]},{\"marker\":{\"color\":\"rgba(0, 128, 128, 0.7499999999999998)\",\"line\":{\"width\":1.3},\"opacity\":0.8,\"size\":12,\"symbol\":\"circle\"},\"mode\":\"markers\",\"name\":\"Phanpy\",\"textfont\":{\"color\":\"#4D5663\"},\"type\":\"scatter\",\"x\":[330],\"y\":[40]},{\"marker\":{\"color\":\"rgba(255, 255, 51, 0.7499999999999998)\",\"line\":{\"width\":1.3},\"opacity\":0.8,\"size\":12,\"symbol\":\"circle\"},\"mode\":\"markers\",\"name\":\"Donphan\",\"textfont\":{\"color\":\"#4D5663\"},\"type\":\"scatter\",\"x\":[500],\"y\":[50]},{\"marker\":{\"color\":\"rgba(128, 128, 0, 0.7499999999999998)\",\"line\":{\"width\":1.3},\"opacity\":0.8,\"size\":12,\"symbol\":\"circle\"},\"mode\":\"markers\",\"name\":\"Porygon2\",\"textfont\":{\"color\":\"#4D5663\"},\"type\":\"scatter\",\"x\":[515],\"y\":[60]},{\"marker\":{\"color\":\"rgba(251, 128, 114, 0.7499999999999998)\",\"line\":{\"width\":1.3},\"opacity\":0.8,\"size\":12,\"symbol\":\"circle\"},\"mode\":\"markers\",\"name\":\"Stantler\",\"textfont\":{\"color\":\"#4D5663\"},\"type\":\"scatter\",\"x\":[465],\"y\":[85]},{\"marker\":{\"color\":\"rgba(128, 177, 211, 0.7499999999999998)\",\"line\":{\"width\":1.3},\"opacity\":0.8,\"size\":12,\"symbol\":\"circle\"},\"mode\":\"markers\",\"name\":\"Smeargle\",\"textfont\":{\"color\":\"#4D5663\"},\"type\":\"scatter\",\"x\":[250],\"y\":[75]},{\"marker\":{\"color\":\"rgba(255, 153, 51, 0.7499999999999998)\",\"line\":{\"width\":1.3},\"opacity\":0.8,\"size\":12,\"symbol\":\"circle\"},\"mode\":\"markers\",\"name\":\"Tyrogue\",\"textfont\":{\"color\":\"#4D5663\"},\"type\":\"scatter\",\"x\":[210],\"y\":[35]},{\"marker\":{\"color\":\"rgba(55, 128, 191, 0.7499999999999998)\",\"line\":{\"width\":1.3},\"opacity\":0.8,\"size\":12,\"symbol\":\"circle\"},\"mode\":\"markers\",\"name\":\"Hitmontop\",\"textfont\":{\"color\":\"#4D5663\"},\"type\":\"scatter\",\"x\":[455],\"y\":[70]},{\"marker\":{\"color\":\"rgba(50, 171, 96, 0.7499999999999998)\",\"line\":{\"width\":1.3},\"opacity\":0.8,\"size\":12,\"symbol\":\"circle\"},\"mode\":\"markers\",\"name\":\"Smoochum\",\"textfont\":{\"color\":\"#4D5663\"},\"type\":\"scatter\",\"x\":[305],\"y\":[65]},{\"marker\":{\"color\":\"rgba(128, 0, 128, 0.7499999999999998)\",\"line\":{\"width\":1.3},\"opacity\":0.8,\"size\":12,\"symbol\":\"circle\"},\"mode\":\"markers\",\"name\":\"Elekid\",\"textfont\":{\"color\":\"#4D5663\"},\"type\":\"scatter\",\"x\":[360],\"y\":[95]},{\"marker\":{\"color\":\"rgba(219, 64, 82, 0.7499999999999998)\",\"line\":{\"width\":1.3},\"opacity\":0.8,\"size\":12,\"symbol\":\"circle\"},\"mode\":\"markers\",\"name\":\"Magby\",\"textfont\":{\"color\":\"#4D5663\"},\"type\":\"scatter\",\"x\":[365],\"y\":[83]},{\"marker\":{\"color\":\"rgba(219, 64, 82, 0.7399999999999998)\",\"line\":{\"width\":1.3},\"opacity\":0.8,\"size\":12,\"symbol\":\"circle\"},\"mode\":\"markers\",\"name\":\"Miltank\",\"textfont\":{\"color\":\"#4D5663\"},\"type\":\"scatter\",\"x\":[490],\"y\":[100]},{\"marker\":{\"color\":\"rgba(0, 128, 128, 0.7399999999999998)\",\"line\":{\"width\":1.3},\"opacity\":0.8,\"size\":12,\"symbol\":\"circle\"},\"mode\":\"markers\",\"name\":\"Blissey\",\"textfont\":{\"color\":\"#4D5663\"},\"type\":\"scatter\",\"x\":[540],\"y\":[55]},{\"marker\":{\"color\":\"rgba(255, 255, 51, 0.7399999999999998)\",\"line\":{\"width\":1.3},\"opacity\":0.8,\"size\":12,\"symbol\":\"circle\"},\"mode\":\"markers\",\"name\":\"Raikou\",\"textfont\":{\"color\":\"#4D5663\"},\"type\":\"scatter\",\"x\":[580],\"y\":[115]},{\"marker\":{\"color\":\"rgba(128, 128, 0, 0.7399999999999998)\",\"line\":{\"width\":1.3},\"opacity\":0.8,\"size\":12,\"symbol\":\"circle\"},\"mode\":\"markers\",\"name\":\"Entei\",\"textfont\":{\"color\":\"#4D5663\"},\"type\":\"scatter\",\"x\":[580],\"y\":[100]},{\"marker\":{\"color\":\"rgba(251, 128, 114, 0.7399999999999998)\",\"line\":{\"width\":1.3},\"opacity\":0.8,\"size\":12,\"symbol\":\"circle\"},\"mode\":\"markers\",\"name\":\"Suicune\",\"textfont\":{\"color\":\"#4D5663\"},\"type\":\"scatter\",\"x\":[580],\"y\":[85]},{\"marker\":{\"color\":\"rgba(128, 177, 211, 0.7399999999999998)\",\"line\":{\"width\":1.3},\"opacity\":0.8,\"size\":12,\"symbol\":\"circle\"},\"mode\":\"markers\",\"name\":\"Larvitar\",\"textfont\":{\"color\":\"#4D5663\"},\"type\":\"scatter\",\"x\":[300],\"y\":[41]},{\"marker\":{\"color\":\"rgba(255, 153, 51, 0.7399999999999998)\",\"line\":{\"width\":1.3},\"opacity\":0.8,\"size\":12,\"symbol\":\"circle\"},\"mode\":\"markers\",\"name\":\"Pupitar\",\"textfont\":{\"color\":\"#4D5663\"},\"type\":\"scatter\",\"x\":[410],\"y\":[51]},{\"marker\":{\"color\":\"rgba(55, 128, 191, 0.7399999999999998)\",\"line\":{\"width\":1.3},\"opacity\":0.8,\"size\":12,\"symbol\":\"circle\"},\"mode\":\"markers\",\"name\":\"Tyranitar\",\"textfont\":{\"color\":\"#4D5663\"},\"type\":\"scatter\",\"x\":[600],\"y\":[61]},{\"marker\":{\"color\":\"rgba(50, 171, 96, 0.7399999999999998)\",\"line\":{\"width\":1.3},\"opacity\":0.8,\"size\":12,\"symbol\":\"circle\"},\"mode\":\"markers\",\"name\":\"TyranitarMega Tyranitar\",\"textfont\":{\"color\":\"#4D5663\"},\"type\":\"scatter\",\"x\":[700],\"y\":[71]},{\"marker\":{\"color\":\"rgba(128, 0, 128, 0.7399999999999998)\",\"line\":{\"width\":1.3},\"opacity\":0.8,\"size\":12,\"symbol\":\"circle\"},\"mode\":\"markers\",\"name\":\"Lugia\",\"textfont\":{\"color\":\"#4D5663\"},\"type\":\"scatter\",\"x\":[680],\"y\":[110]},{\"marker\":{\"color\":\"rgba(128, 0, 128, 0.7299999999999998)\",\"line\":{\"width\":1.3},\"opacity\":0.8,\"size\":12,\"symbol\":\"circle\"},\"mode\":\"markers\",\"name\":\"Ho-oh\",\"textfont\":{\"color\":\"#4D5663\"},\"type\":\"scatter\",\"x\":[680],\"y\":[90]},{\"marker\":{\"color\":\"rgba(219, 64, 82, 0.7299999999999998)\",\"line\":{\"width\":1.3},\"opacity\":0.8,\"size\":12,\"symbol\":\"circle\"},\"mode\":\"markers\",\"name\":\"Celebi\",\"textfont\":{\"color\":\"#4D5663\"},\"type\":\"scatter\",\"x\":[600],\"y\":[100]},{\"marker\":{\"color\":\"rgba(0, 128, 128, 0.7299999999999998)\",\"line\":{\"width\":1.3},\"opacity\":0.8,\"size\":12,\"symbol\":\"circle\"},\"mode\":\"markers\",\"name\":\"Treecko\",\"textfont\":{\"color\":\"#4D5663\"},\"type\":\"scatter\",\"x\":[310],\"y\":[70]},{\"marker\":{\"color\":\"rgba(255, 255, 51, 0.7299999999999998)\",\"line\":{\"width\":1.3},\"opacity\":0.8,\"size\":12,\"symbol\":\"circle\"},\"mode\":\"markers\",\"name\":\"Grovyle\",\"textfont\":{\"color\":\"#4D5663\"},\"type\":\"scatter\",\"x\":[405],\"y\":[95]},{\"marker\":{\"color\":\"rgba(128, 128, 0, 0.7299999999999998)\",\"line\":{\"width\":1.3},\"opacity\":0.8,\"size\":12,\"symbol\":\"circle\"},\"mode\":\"markers\",\"name\":\"Sceptile\",\"textfont\":{\"color\":\"#4D5663\"},\"type\":\"scatter\",\"x\":[530],\"y\":[120]},{\"marker\":{\"color\":\"rgba(251, 128, 114, 0.7299999999999998)\",\"line\":{\"width\":1.3},\"opacity\":0.8,\"size\":12,\"symbol\":\"circle\"},\"mode\":\"markers\",\"name\":\"SceptileMega Sceptile\",\"textfont\":{\"color\":\"#4D5663\"},\"type\":\"scatter\",\"x\":[630],\"y\":[145]},{\"marker\":{\"color\":\"rgba(128, 177, 211, 0.7299999999999998)\",\"line\":{\"width\":1.3},\"opacity\":0.8,\"size\":12,\"symbol\":\"circle\"},\"mode\":\"markers\",\"name\":\"Torchic\",\"textfont\":{\"color\":\"#4D5663\"},\"type\":\"scatter\",\"x\":[310],\"y\":[45]},{\"marker\":{\"color\":\"rgba(255, 153, 51, 0.7299999999999998)\",\"line\":{\"width\":1.3},\"opacity\":0.8,\"size\":12,\"symbol\":\"circle\"},\"mode\":\"markers\",\"name\":\"Combusken\",\"textfont\":{\"color\":\"#4D5663\"},\"type\":\"scatter\",\"x\":[405],\"y\":[55]},{\"marker\":{\"color\":\"rgba(55, 128, 191, 0.7299999999999998)\",\"line\":{\"width\":1.3},\"opacity\":0.8,\"size\":12,\"symbol\":\"circle\"},\"mode\":\"markers\",\"name\":\"Blaziken\",\"textfont\":{\"color\":\"#4D5663\"},\"type\":\"scatter\",\"x\":[530],\"y\":[80]},{\"marker\":{\"color\":\"rgba(50, 171, 96, 0.7299999999999998)\",\"line\":{\"width\":1.3},\"opacity\":0.8,\"size\":12,\"symbol\":\"circle\"},\"mode\":\"markers\",\"name\":\"BlazikenMega Blaziken\",\"textfont\":{\"color\":\"#4D5663\"},\"type\":\"scatter\",\"x\":[630],\"y\":[100]},{\"marker\":{\"color\":\"rgba(50, 171, 96, 0.7199999999999998)\",\"line\":{\"width\":1.3},\"opacity\":0.8,\"size\":12,\"symbol\":\"circle\"},\"mode\":\"markers\",\"name\":\"Mudkip\",\"textfont\":{\"color\":\"#4D5663\"},\"type\":\"scatter\",\"x\":[310],\"y\":[40]},{\"marker\":{\"color\":\"rgba(128, 0, 128, 0.7199999999999998)\",\"line\":{\"width\":1.3},\"opacity\":0.8,\"size\":12,\"symbol\":\"circle\"},\"mode\":\"markers\",\"name\":\"Marshtomp\",\"textfont\":{\"color\":\"#4D5663\"},\"type\":\"scatter\",\"x\":[405],\"y\":[50]},{\"marker\":{\"color\":\"rgba(219, 64, 82, 0.7199999999999998)\",\"line\":{\"width\":1.3},\"opacity\":0.8,\"size\":12,\"symbol\":\"circle\"},\"mode\":\"markers\",\"name\":\"Swampert\",\"textfont\":{\"color\":\"#4D5663\"},\"type\":\"scatter\",\"x\":[535],\"y\":[60]},{\"marker\":{\"color\":\"rgba(0, 128, 128, 0.7199999999999998)\",\"line\":{\"width\":1.3},\"opacity\":0.8,\"size\":12,\"symbol\":\"circle\"},\"mode\":\"markers\",\"name\":\"SwampertMega Swampert\",\"textfont\":{\"color\":\"#4D5663\"},\"type\":\"scatter\",\"x\":[635],\"y\":[70]},{\"marker\":{\"color\":\"rgba(255, 255, 51, 0.7199999999999998)\",\"line\":{\"width\":1.3},\"opacity\":0.8,\"size\":12,\"symbol\":\"circle\"},\"mode\":\"markers\",\"name\":\"Poochyena\",\"textfont\":{\"color\":\"#4D5663\"},\"type\":\"scatter\",\"x\":[220],\"y\":[35]},{\"marker\":{\"color\":\"rgba(128, 128, 0, 0.7199999999999998)\",\"line\":{\"width\":1.3},\"opacity\":0.8,\"size\":12,\"symbol\":\"circle\"},\"mode\":\"markers\",\"name\":\"Mightyena\",\"textfont\":{\"color\":\"#4D5663\"},\"type\":\"scatter\",\"x\":[420],\"y\":[70]},{\"marker\":{\"color\":\"rgba(251, 128, 114, 0.7199999999999998)\",\"line\":{\"width\":1.3},\"opacity\":0.8,\"size\":12,\"symbol\":\"circle\"},\"mode\":\"markers\",\"name\":\"Zigzagoon\",\"textfont\":{\"color\":\"#4D5663\"},\"type\":\"scatter\",\"x\":[240],\"y\":[60]},{\"marker\":{\"color\":\"rgba(128, 177, 211, 0.7199999999999998)\",\"line\":{\"width\":1.3},\"opacity\":0.8,\"size\":12,\"symbol\":\"circle\"},\"mode\":\"markers\",\"name\":\"Linoone\",\"textfont\":{\"color\":\"#4D5663\"},\"type\":\"scatter\",\"x\":[420],\"y\":[100]},{\"marker\":{\"color\":\"rgba(255, 153, 51, 0.7199999999999998)\",\"line\":{\"width\":1.3},\"opacity\":0.8,\"size\":12,\"symbol\":\"circle\"},\"mode\":\"markers\",\"name\":\"Wurmple\",\"textfont\":{\"color\":\"#4D5663\"},\"type\":\"scatter\",\"x\":[195],\"y\":[20]},{\"marker\":{\"color\":\"rgba(55, 128, 191, 0.7199999999999998)\",\"line\":{\"width\":1.3},\"opacity\":0.8,\"size\":12,\"symbol\":\"circle\"},\"mode\":\"markers\",\"name\":\"Silcoon\",\"textfont\":{\"color\":\"#4D5663\"},\"type\":\"scatter\",\"x\":[205],\"y\":[15]},{\"marker\":{\"color\":\"rgba(55, 128, 191, 0.7099999999999997)\",\"line\":{\"width\":1.3},\"opacity\":0.8,\"size\":12,\"symbol\":\"circle\"},\"mode\":\"markers\",\"name\":\"Beautifly\",\"textfont\":{\"color\":\"#4D5663\"},\"type\":\"scatter\",\"x\":[395],\"y\":[65]},{\"marker\":{\"color\":\"rgba(50, 171, 96, 0.7099999999999997)\",\"line\":{\"width\":1.3},\"opacity\":0.8,\"size\":12,\"symbol\":\"circle\"},\"mode\":\"markers\",\"name\":\"Cascoon\",\"textfont\":{\"color\":\"#4D5663\"},\"type\":\"scatter\",\"x\":[205],\"y\":[15]},{\"marker\":{\"color\":\"rgba(128, 0, 128, 0.7099999999999997)\",\"line\":{\"width\":1.3},\"opacity\":0.8,\"size\":12,\"symbol\":\"circle\"},\"mode\":\"markers\",\"name\":\"Dustox\",\"textfont\":{\"color\":\"#4D5663\"},\"type\":\"scatter\",\"x\":[385],\"y\":[65]},{\"marker\":{\"color\":\"rgba(219, 64, 82, 0.7099999999999997)\",\"line\":{\"width\":1.3},\"opacity\":0.8,\"size\":12,\"symbol\":\"circle\"},\"mode\":\"markers\",\"name\":\"Lotad\",\"textfont\":{\"color\":\"#4D5663\"},\"type\":\"scatter\",\"x\":[220],\"y\":[30]},{\"marker\":{\"color\":\"rgba(0, 128, 128, 0.7099999999999997)\",\"line\":{\"width\":1.3},\"opacity\":0.8,\"size\":12,\"symbol\":\"circle\"},\"mode\":\"markers\",\"name\":\"Lombre\",\"textfont\":{\"color\":\"#4D5663\"},\"type\":\"scatter\",\"x\":[340],\"y\":[50]},{\"marker\":{\"color\":\"rgba(255, 255, 51, 0.7099999999999997)\",\"line\":{\"width\":1.3},\"opacity\":0.8,\"size\":12,\"symbol\":\"circle\"},\"mode\":\"markers\",\"name\":\"Ludicolo\",\"textfont\":{\"color\":\"#4D5663\"},\"type\":\"scatter\",\"x\":[480],\"y\":[70]},{\"marker\":{\"color\":\"rgba(128, 128, 0, 0.7099999999999997)\",\"line\":{\"width\":1.3},\"opacity\":0.8,\"size\":12,\"symbol\":\"circle\"},\"mode\":\"markers\",\"name\":\"Seedot\",\"textfont\":{\"color\":\"#4D5663\"},\"type\":\"scatter\",\"x\":[220],\"y\":[30]},{\"marker\":{\"color\":\"rgba(251, 128, 114, 0.7099999999999997)\",\"line\":{\"width\":1.3},\"opacity\":0.8,\"size\":12,\"symbol\":\"circle\"},\"mode\":\"markers\",\"name\":\"Nuzleaf\",\"textfont\":{\"color\":\"#4D5663\"},\"type\":\"scatter\",\"x\":[340],\"y\":[60]},{\"marker\":{\"color\":\"rgba(128, 177, 211, 0.7099999999999997)\",\"line\":{\"width\":1.3},\"opacity\":0.8,\"size\":12,\"symbol\":\"circle\"},\"mode\":\"markers\",\"name\":\"Shiftry\",\"textfont\":{\"color\":\"#4D5663\"},\"type\":\"scatter\",\"x\":[480],\"y\":[80]},{\"marker\":{\"color\":\"rgba(255, 153, 51, 0.7099999999999997)\",\"line\":{\"width\":1.3},\"opacity\":0.8,\"size\":12,\"symbol\":\"circle\"},\"mode\":\"markers\",\"name\":\"Taillow\",\"textfont\":{\"color\":\"#4D5663\"},\"type\":\"scatter\",\"x\":[270],\"y\":[85]},{\"marker\":{\"color\":\"rgba(255, 153, 51, 0.6999999999999997)\",\"line\":{\"width\":1.3},\"opacity\":0.8,\"size\":12,\"symbol\":\"circle\"},\"mode\":\"markers\",\"name\":\"Swellow\",\"textfont\":{\"color\":\"#4D5663\"},\"type\":\"scatter\",\"x\":[430],\"y\":[125]},{\"marker\":{\"color\":\"rgba(55, 128, 191, 0.6999999999999997)\",\"line\":{\"width\":1.3},\"opacity\":0.8,\"size\":12,\"symbol\":\"circle\"},\"mode\":\"markers\",\"name\":\"Wingull\",\"textfont\":{\"color\":\"#4D5663\"},\"type\":\"scatter\",\"x\":[270],\"y\":[85]},{\"marker\":{\"color\":\"rgba(50, 171, 96, 0.6999999999999997)\",\"line\":{\"width\":1.3},\"opacity\":0.8,\"size\":12,\"symbol\":\"circle\"},\"mode\":\"markers\",\"name\":\"Pelipper\",\"textfont\":{\"color\":\"#4D5663\"},\"type\":\"scatter\",\"x\":[430],\"y\":[65]},{\"marker\":{\"color\":\"rgba(128, 0, 128, 0.6999999999999997)\",\"line\":{\"width\":1.3},\"opacity\":0.8,\"size\":12,\"symbol\":\"circle\"},\"mode\":\"markers\",\"name\":\"Ralts\",\"textfont\":{\"color\":\"#4D5663\"},\"type\":\"scatter\",\"x\":[198],\"y\":[40]},{\"marker\":{\"color\":\"rgba(219, 64, 82, 0.6999999999999997)\",\"line\":{\"width\":1.3},\"opacity\":0.8,\"size\":12,\"symbol\":\"circle\"},\"mode\":\"markers\",\"name\":\"Kirlia\",\"textfont\":{\"color\":\"#4D5663\"},\"type\":\"scatter\",\"x\":[278],\"y\":[50]},{\"marker\":{\"color\":\"rgba(0, 128, 128, 0.6999999999999997)\",\"line\":{\"width\":1.3},\"opacity\":0.8,\"size\":12,\"symbol\":\"circle\"},\"mode\":\"markers\",\"name\":\"Gardevoir\",\"textfont\":{\"color\":\"#4D5663\"},\"type\":\"scatter\",\"x\":[518],\"y\":[80]},{\"marker\":{\"color\":\"rgba(255, 255, 51, 0.6999999999999997)\",\"line\":{\"width\":1.3},\"opacity\":0.8,\"size\":12,\"symbol\":\"circle\"},\"mode\":\"markers\",\"name\":\"GardevoirMega Gardevoir\",\"textfont\":{\"color\":\"#4D5663\"},\"type\":\"scatter\",\"x\":[618],\"y\":[100]},{\"marker\":{\"color\":\"rgba(128, 128, 0, 0.6999999999999997)\",\"line\":{\"width\":1.3},\"opacity\":0.8,\"size\":12,\"symbol\":\"circle\"},\"mode\":\"markers\",\"name\":\"Surskit\",\"textfont\":{\"color\":\"#4D5663\"},\"type\":\"scatter\",\"x\":[269],\"y\":[65]},{\"marker\":{\"color\":\"rgba(251, 128, 114, 0.6999999999999997)\",\"line\":{\"width\":1.3},\"opacity\":0.8,\"size\":12,\"symbol\":\"circle\"},\"mode\":\"markers\",\"name\":\"Masquerain\",\"textfont\":{\"color\":\"#4D5663\"},\"type\":\"scatter\",\"x\":[414],\"y\":[60]},{\"marker\":{\"color\":\"rgba(128, 177, 211, 0.6999999999999997)\",\"line\":{\"width\":1.3},\"opacity\":0.8,\"size\":12,\"symbol\":\"circle\"},\"mode\":\"markers\",\"name\":\"Shroomish\",\"textfont\":{\"color\":\"#4D5663\"},\"type\":\"scatter\",\"x\":[295],\"y\":[35]},{\"marker\":{\"color\":\"rgba(128, 177, 211, 0.6899999999999997)\",\"line\":{\"width\":1.3},\"opacity\":0.8,\"size\":12,\"symbol\":\"circle\"},\"mode\":\"markers\",\"name\":\"Breloom\",\"textfont\":{\"color\":\"#4D5663\"},\"type\":\"scatter\",\"x\":[460],\"y\":[70]},{\"marker\":{\"color\":\"rgba(255, 153, 51, 0.6899999999999997)\",\"line\":{\"width\":1.3},\"opacity\":0.8,\"size\":12,\"symbol\":\"circle\"},\"mode\":\"markers\",\"name\":\"Slakoth\",\"textfont\":{\"color\":\"#4D5663\"},\"type\":\"scatter\",\"x\":[280],\"y\":[30]},{\"marker\":{\"color\":\"rgba(55, 128, 191, 0.6899999999999997)\",\"line\":{\"width\":1.3},\"opacity\":0.8,\"size\":12,\"symbol\":\"circle\"},\"mode\":\"markers\",\"name\":\"Vigoroth\",\"textfont\":{\"color\":\"#4D5663\"},\"type\":\"scatter\",\"x\":[440],\"y\":[90]},{\"marker\":{\"color\":\"rgba(50, 171, 96, 0.6899999999999997)\",\"line\":{\"width\":1.3},\"opacity\":0.8,\"size\":12,\"symbol\":\"circle\"},\"mode\":\"markers\",\"name\":\"Slaking\",\"textfont\":{\"color\":\"#4D5663\"},\"type\":\"scatter\",\"x\":[670],\"y\":[100]},{\"marker\":{\"color\":\"rgba(128, 0, 128, 0.6899999999999997)\",\"line\":{\"width\":1.3},\"opacity\":0.8,\"size\":12,\"symbol\":\"circle\"},\"mode\":\"markers\",\"name\":\"Nincada\",\"textfont\":{\"color\":\"#4D5663\"},\"type\":\"scatter\",\"x\":[266],\"y\":[40]},{\"marker\":{\"color\":\"rgba(219, 64, 82, 0.6899999999999997)\",\"line\":{\"width\":1.3},\"opacity\":0.8,\"size\":12,\"symbol\":\"circle\"},\"mode\":\"markers\",\"name\":\"Ninjask\",\"textfont\":{\"color\":\"#4D5663\"},\"type\":\"scatter\",\"x\":[456],\"y\":[160]},{\"marker\":{\"color\":\"rgba(0, 128, 128, 0.6899999999999997)\",\"line\":{\"width\":1.3},\"opacity\":0.8,\"size\":12,\"symbol\":\"circle\"},\"mode\":\"markers\",\"name\":\"Shedinja\",\"textfont\":{\"color\":\"#4D5663\"},\"type\":\"scatter\",\"x\":[236],\"y\":[40]},{\"marker\":{\"color\":\"rgba(255, 255, 51, 0.6899999999999997)\",\"line\":{\"width\":1.3},\"opacity\":0.8,\"size\":12,\"symbol\":\"circle\"},\"mode\":\"markers\",\"name\":\"Whismur\",\"textfont\":{\"color\":\"#4D5663\"},\"type\":\"scatter\",\"x\":[240],\"y\":[28]},{\"marker\":{\"color\":\"rgba(128, 128, 0, 0.6899999999999997)\",\"line\":{\"width\":1.3},\"opacity\":0.8,\"size\":12,\"symbol\":\"circle\"},\"mode\":\"markers\",\"name\":\"Loudred\",\"textfont\":{\"color\":\"#4D5663\"},\"type\":\"scatter\",\"x\":[360],\"y\":[48]},{\"marker\":{\"color\":\"rgba(251, 128, 114, 0.6899999999999997)\",\"line\":{\"width\":1.3},\"opacity\":0.8,\"size\":12,\"symbol\":\"circle\"},\"mode\":\"markers\",\"name\":\"Exploud\",\"textfont\":{\"color\":\"#4D5663\"},\"type\":\"scatter\",\"x\":[490],\"y\":[68]},{\"marker\":{\"color\":\"rgba(251, 128, 114, 0.6799999999999997)\",\"line\":{\"width\":1.3},\"opacity\":0.8,\"size\":12,\"symbol\":\"circle\"},\"mode\":\"markers\",\"name\":\"Makuhita\",\"textfont\":{\"color\":\"#4D5663\"},\"type\":\"scatter\",\"x\":[237],\"y\":[25]},{\"marker\":{\"color\":\"rgba(128, 177, 211, 0.6799999999999997)\",\"line\":{\"width\":1.3},\"opacity\":0.8,\"size\":12,\"symbol\":\"circle\"},\"mode\":\"markers\",\"name\":\"Hariyama\",\"textfont\":{\"color\":\"#4D5663\"},\"type\":\"scatter\",\"x\":[474],\"y\":[50]},{\"marker\":{\"color\":\"rgba(255, 153, 51, 0.6799999999999997)\",\"line\":{\"width\":1.3},\"opacity\":0.8,\"size\":12,\"symbol\":\"circle\"},\"mode\":\"markers\",\"name\":\"Azurill\",\"textfont\":{\"color\":\"#4D5663\"},\"type\":\"scatter\",\"x\":[190],\"y\":[20]},{\"marker\":{\"color\":\"rgba(55, 128, 191, 0.6799999999999997)\",\"line\":{\"width\":1.3},\"opacity\":0.8,\"size\":12,\"symbol\":\"circle\"},\"mode\":\"markers\",\"name\":\"Nosepass\",\"textfont\":{\"color\":\"#4D5663\"},\"type\":\"scatter\",\"x\":[375],\"y\":[30]},{\"marker\":{\"color\":\"rgba(50, 171, 96, 0.6799999999999997)\",\"line\":{\"width\":1.3},\"opacity\":0.8,\"size\":12,\"symbol\":\"circle\"},\"mode\":\"markers\",\"name\":\"Skitty\",\"textfont\":{\"color\":\"#4D5663\"},\"type\":\"scatter\",\"x\":[260],\"y\":[50]},{\"marker\":{\"color\":\"rgba(128, 0, 128, 0.6799999999999997)\",\"line\":{\"width\":1.3},\"opacity\":0.8,\"size\":12,\"symbol\":\"circle\"},\"mode\":\"markers\",\"name\":\"Delcatty\",\"textfont\":{\"color\":\"#4D5663\"},\"type\":\"scatter\",\"x\":[380],\"y\":[70]},{\"marker\":{\"color\":\"rgba(219, 64, 82, 0.6799999999999997)\",\"line\":{\"width\":1.3},\"opacity\":0.8,\"size\":12,\"symbol\":\"circle\"},\"mode\":\"markers\",\"name\":\"Sableye\",\"textfont\":{\"color\":\"#4D5663\"},\"type\":\"scatter\",\"x\":[380],\"y\":[50]},{\"marker\":{\"color\":\"rgba(0, 128, 128, 0.6799999999999997)\",\"line\":{\"width\":1.3},\"opacity\":0.8,\"size\":12,\"symbol\":\"circle\"},\"mode\":\"markers\",\"name\":\"SableyeMega Sableye\",\"textfont\":{\"color\":\"#4D5663\"},\"type\":\"scatter\",\"x\":[480],\"y\":[20]},{\"marker\":{\"color\":\"rgba(255, 255, 51, 0.6799999999999997)\",\"line\":{\"width\":1.3},\"opacity\":0.8,\"size\":12,\"symbol\":\"circle\"},\"mode\":\"markers\",\"name\":\"Mawile\",\"textfont\":{\"color\":\"#4D5663\"},\"type\":\"scatter\",\"x\":[380],\"y\":[50]},{\"marker\":{\"color\":\"rgba(128, 128, 0, 0.6799999999999997)\",\"line\":{\"width\":1.3},\"opacity\":0.8,\"size\":12,\"symbol\":\"circle\"},\"mode\":\"markers\",\"name\":\"MawileMega Mawile\",\"textfont\":{\"color\":\"#4D5663\"},\"type\":\"scatter\",\"x\":[480],\"y\":[50]},{\"marker\":{\"color\":\"rgba(128, 128, 0, 0.6699999999999997)\",\"line\":{\"width\":1.3},\"opacity\":0.8,\"size\":12,\"symbol\":\"circle\"},\"mode\":\"markers\",\"name\":\"Aron\",\"textfont\":{\"color\":\"#4D5663\"},\"type\":\"scatter\",\"x\":[330],\"y\":[30]},{\"marker\":{\"color\":\"rgba(251, 128, 114, 0.6699999999999997)\",\"line\":{\"width\":1.3},\"opacity\":0.8,\"size\":12,\"symbol\":\"circle\"},\"mode\":\"markers\",\"name\":\"Lairon\",\"textfont\":{\"color\":\"#4D5663\"},\"type\":\"scatter\",\"x\":[430],\"y\":[40]},{\"marker\":{\"color\":\"rgba(128, 177, 211, 0.6699999999999997)\",\"line\":{\"width\":1.3},\"opacity\":0.8,\"size\":12,\"symbol\":\"circle\"},\"mode\":\"markers\",\"name\":\"Aggron\",\"textfont\":{\"color\":\"#4D5663\"},\"type\":\"scatter\",\"x\":[530],\"y\":[50]},{\"marker\":{\"color\":\"rgba(255, 153, 51, 0.6699999999999997)\",\"line\":{\"width\":1.3},\"opacity\":0.8,\"size\":12,\"symbol\":\"circle\"},\"mode\":\"markers\",\"name\":\"AggronMega Aggron\",\"textfont\":{\"color\":\"#4D5663\"},\"type\":\"scatter\",\"x\":[630],\"y\":[50]},{\"marker\":{\"color\":\"rgba(55, 128, 191, 0.6699999999999997)\",\"line\":{\"width\":1.3},\"opacity\":0.8,\"size\":12,\"symbol\":\"circle\"},\"mode\":\"markers\",\"name\":\"Meditite\",\"textfont\":{\"color\":\"#4D5663\"},\"type\":\"scatter\",\"x\":[280],\"y\":[60]},{\"marker\":{\"color\":\"rgba(50, 171, 96, 0.6699999999999997)\",\"line\":{\"width\":1.3},\"opacity\":0.8,\"size\":12,\"symbol\":\"circle\"},\"mode\":\"markers\",\"name\":\"Medicham\",\"textfont\":{\"color\":\"#4D5663\"},\"type\":\"scatter\",\"x\":[410],\"y\":[80]},{\"marker\":{\"color\":\"rgba(128, 0, 128, 0.6699999999999997)\",\"line\":{\"width\":1.3},\"opacity\":0.8,\"size\":12,\"symbol\":\"circle\"},\"mode\":\"markers\",\"name\":\"MedichamMega Medicham\",\"textfont\":{\"color\":\"#4D5663\"},\"type\":\"scatter\",\"x\":[510],\"y\":[100]},{\"marker\":{\"color\":\"rgba(219, 64, 82, 0.6699999999999997)\",\"line\":{\"width\":1.3},\"opacity\":0.8,\"size\":12,\"symbol\":\"circle\"},\"mode\":\"markers\",\"name\":\"Electrike\",\"textfont\":{\"color\":\"#4D5663\"},\"type\":\"scatter\",\"x\":[295],\"y\":[65]},{\"marker\":{\"color\":\"rgba(0, 128, 128, 0.6699999999999997)\",\"line\":{\"width\":1.3},\"opacity\":0.8,\"size\":12,\"symbol\":\"circle\"},\"mode\":\"markers\",\"name\":\"Manectric\",\"textfont\":{\"color\":\"#4D5663\"},\"type\":\"scatter\",\"x\":[475],\"y\":[105]},{\"marker\":{\"color\":\"rgba(255, 255, 51, 0.6699999999999997)\",\"line\":{\"width\":1.3},\"opacity\":0.8,\"size\":12,\"symbol\":\"circle\"},\"mode\":\"markers\",\"name\":\"ManectricMega Manectric\",\"textfont\":{\"color\":\"#4D5663\"},\"type\":\"scatter\",\"x\":[575],\"y\":[135]},{\"marker\":{\"color\":\"rgba(255, 255, 51, 0.6599999999999997)\",\"line\":{\"width\":1.3},\"opacity\":0.8,\"size\":12,\"symbol\":\"circle\"},\"mode\":\"markers\",\"name\":\"Plusle\",\"textfont\":{\"color\":\"#4D5663\"},\"type\":\"scatter\",\"x\":[405],\"y\":[95]},{\"marker\":{\"color\":\"rgba(128, 128, 0, 0.6599999999999997)\",\"line\":{\"width\":1.3},\"opacity\":0.8,\"size\":12,\"symbol\":\"circle\"},\"mode\":\"markers\",\"name\":\"Minun\",\"textfont\":{\"color\":\"#4D5663\"},\"type\":\"scatter\",\"x\":[405],\"y\":[95]},{\"marker\":{\"color\":\"rgba(251, 128, 114, 0.6599999999999997)\",\"line\":{\"width\":1.3},\"opacity\":0.8,\"size\":12,\"symbol\":\"circle\"},\"mode\":\"markers\",\"name\":\"Volbeat\",\"textfont\":{\"color\":\"#4D5663\"},\"type\":\"scatter\",\"x\":[400],\"y\":[85]},{\"marker\":{\"color\":\"rgba(128, 177, 211, 0.6599999999999997)\",\"line\":{\"width\":1.3},\"opacity\":0.8,\"size\":12,\"symbol\":\"circle\"},\"mode\":\"markers\",\"name\":\"Illumise\",\"textfont\":{\"color\":\"#4D5663\"},\"type\":\"scatter\",\"x\":[400],\"y\":[85]},{\"marker\":{\"color\":\"rgba(255, 153, 51, 0.6599999999999997)\",\"line\":{\"width\":1.3},\"opacity\":0.8,\"size\":12,\"symbol\":\"circle\"},\"mode\":\"markers\",\"name\":\"Roselia\",\"textfont\":{\"color\":\"#4D5663\"},\"type\":\"scatter\",\"x\":[400],\"y\":[65]},{\"marker\":{\"color\":\"rgba(55, 128, 191, 0.6599999999999997)\",\"line\":{\"width\":1.3},\"opacity\":0.8,\"size\":12,\"symbol\":\"circle\"},\"mode\":\"markers\",\"name\":\"Gulpin\",\"textfont\":{\"color\":\"#4D5663\"},\"type\":\"scatter\",\"x\":[302],\"y\":[40]},{\"marker\":{\"color\":\"rgba(50, 171, 96, 0.6599999999999997)\",\"line\":{\"width\":1.3},\"opacity\":0.8,\"size\":12,\"symbol\":\"circle\"},\"mode\":\"markers\",\"name\":\"Swalot\",\"textfont\":{\"color\":\"#4D5663\"},\"type\":\"scatter\",\"x\":[467],\"y\":[55]},{\"marker\":{\"color\":\"rgba(128, 0, 128, 0.6599999999999997)\",\"line\":{\"width\":1.3},\"opacity\":0.8,\"size\":12,\"symbol\":\"circle\"},\"mode\":\"markers\",\"name\":\"Carvanha\",\"textfont\":{\"color\":\"#4D5663\"},\"type\":\"scatter\",\"x\":[305],\"y\":[65]},{\"marker\":{\"color\":\"rgba(219, 64, 82, 0.6599999999999997)\",\"line\":{\"width\":1.3},\"opacity\":0.8,\"size\":12,\"symbol\":\"circle\"},\"mode\":\"markers\",\"name\":\"Sharpedo\",\"textfont\":{\"color\":\"#4D5663\"},\"type\":\"scatter\",\"x\":[460],\"y\":[95]},{\"marker\":{\"color\":\"rgba(0, 128, 128, 0.6599999999999997)\",\"line\":{\"width\":1.3},\"opacity\":0.8,\"size\":12,\"symbol\":\"circle\"},\"mode\":\"markers\",\"name\":\"SharpedoMega Sharpedo\",\"textfont\":{\"color\":\"#4D5663\"},\"type\":\"scatter\",\"x\":[560],\"y\":[105]},{\"marker\":{\"color\":\"rgba(0, 128, 128, 0.6499999999999997)\",\"line\":{\"width\":1.3},\"opacity\":0.8,\"size\":12,\"symbol\":\"circle\"},\"mode\":\"markers\",\"name\":\"Wailmer\",\"textfont\":{\"color\":\"#4D5663\"},\"type\":\"scatter\",\"x\":[400],\"y\":[60]},{\"marker\":{\"color\":\"rgba(255, 255, 51, 0.6499999999999997)\",\"line\":{\"width\":1.3},\"opacity\":0.8,\"size\":12,\"symbol\":\"circle\"},\"mode\":\"markers\",\"name\":\"Wailord\",\"textfont\":{\"color\":\"#4D5663\"},\"type\":\"scatter\",\"x\":[500],\"y\":[60]},{\"marker\":{\"color\":\"rgba(128, 128, 0, 0.6499999999999997)\",\"line\":{\"width\":1.3},\"opacity\":0.8,\"size\":12,\"symbol\":\"circle\"},\"mode\":\"markers\",\"name\":\"Numel\",\"textfont\":{\"color\":\"#4D5663\"},\"type\":\"scatter\",\"x\":[305],\"y\":[35]},{\"marker\":{\"color\":\"rgba(251, 128, 114, 0.6499999999999997)\",\"line\":{\"width\":1.3},\"opacity\":0.8,\"size\":12,\"symbol\":\"circle\"},\"mode\":\"markers\",\"name\":\"Camerupt\",\"textfont\":{\"color\":\"#4D5663\"},\"type\":\"scatter\",\"x\":[460],\"y\":[40]},{\"marker\":{\"color\":\"rgba(128, 177, 211, 0.6499999999999997)\",\"line\":{\"width\":1.3},\"opacity\":0.8,\"size\":12,\"symbol\":\"circle\"},\"mode\":\"markers\",\"name\":\"CameruptMega Camerupt\",\"textfont\":{\"color\":\"#4D5663\"},\"type\":\"scatter\",\"x\":[560],\"y\":[20]},{\"marker\":{\"color\":\"rgba(255, 153, 51, 0.6499999999999997)\",\"line\":{\"width\":1.3},\"opacity\":0.8,\"size\":12,\"symbol\":\"circle\"},\"mode\":\"markers\",\"name\":\"Torkoal\",\"textfont\":{\"color\":\"#4D5663\"},\"type\":\"scatter\",\"x\":[470],\"y\":[20]},{\"marker\":{\"color\":\"rgba(55, 128, 191, 0.6499999999999997)\",\"line\":{\"width\":1.3},\"opacity\":0.8,\"size\":12,\"symbol\":\"circle\"},\"mode\":\"markers\",\"name\":\"Spoink\",\"textfont\":{\"color\":\"#4D5663\"},\"type\":\"scatter\",\"x\":[330],\"y\":[60]},{\"marker\":{\"color\":\"rgba(50, 171, 96, 0.6499999999999997)\",\"line\":{\"width\":1.3},\"opacity\":0.8,\"size\":12,\"symbol\":\"circle\"},\"mode\":\"markers\",\"name\":\"Grumpig\",\"textfont\":{\"color\":\"#4D5663\"},\"type\":\"scatter\",\"x\":[470],\"y\":[80]},{\"marker\":{\"color\":\"rgba(128, 0, 128, 0.6499999999999997)\",\"line\":{\"width\":1.3},\"opacity\":0.8,\"size\":12,\"symbol\":\"circle\"},\"mode\":\"markers\",\"name\":\"Spinda\",\"textfont\":{\"color\":\"#4D5663\"},\"type\":\"scatter\",\"x\":[360],\"y\":[60]},{\"marker\":{\"color\":\"rgba(219, 64, 82, 0.6499999999999997)\",\"line\":{\"width\":1.3},\"opacity\":0.8,\"size\":12,\"symbol\":\"circle\"},\"mode\":\"markers\",\"name\":\"Trapinch\",\"textfont\":{\"color\":\"#4D5663\"},\"type\":\"scatter\",\"x\":[290],\"y\":[10]},{\"marker\":{\"color\":\"rgba(219, 64, 82, 0.6399999999999997)\",\"line\":{\"width\":1.3},\"opacity\":0.8,\"size\":12,\"symbol\":\"circle\"},\"mode\":\"markers\",\"name\":\"Vibrava\",\"textfont\":{\"color\":\"#4D5663\"},\"type\":\"scatter\",\"x\":[340],\"y\":[70]},{\"marker\":{\"color\":\"rgba(0, 128, 128, 0.6399999999999997)\",\"line\":{\"width\":1.3},\"opacity\":0.8,\"size\":12,\"symbol\":\"circle\"},\"mode\":\"markers\",\"name\":\"Flygon\",\"textfont\":{\"color\":\"#4D5663\"},\"type\":\"scatter\",\"x\":[520],\"y\":[100]},{\"marker\":{\"color\":\"rgba(255, 255, 51, 0.6399999999999997)\",\"line\":{\"width\":1.3},\"opacity\":0.8,\"size\":12,\"symbol\":\"circle\"},\"mode\":\"markers\",\"name\":\"Cacnea\",\"textfont\":{\"color\":\"#4D5663\"},\"type\":\"scatter\",\"x\":[335],\"y\":[35]},{\"marker\":{\"color\":\"rgba(128, 128, 0, 0.6399999999999997)\",\"line\":{\"width\":1.3},\"opacity\":0.8,\"size\":12,\"symbol\":\"circle\"},\"mode\":\"markers\",\"name\":\"Cacturne\",\"textfont\":{\"color\":\"#4D5663\"},\"type\":\"scatter\",\"x\":[475],\"y\":[55]},{\"marker\":{\"color\":\"rgba(251, 128, 114, 0.6399999999999997)\",\"line\":{\"width\":1.3},\"opacity\":0.8,\"size\":12,\"symbol\":\"circle\"},\"mode\":\"markers\",\"name\":\"Swablu\",\"textfont\":{\"color\":\"#4D5663\"},\"type\":\"scatter\",\"x\":[310],\"y\":[50]},{\"marker\":{\"color\":\"rgba(128, 177, 211, 0.6399999999999997)\",\"line\":{\"width\":1.3},\"opacity\":0.8,\"size\":12,\"symbol\":\"circle\"},\"mode\":\"markers\",\"name\":\"Altaria\",\"textfont\":{\"color\":\"#4D5663\"},\"type\":\"scatter\",\"x\":[490],\"y\":[80]},{\"marker\":{\"color\":\"rgba(255, 153, 51, 0.6399999999999997)\",\"line\":{\"width\":1.3},\"opacity\":0.8,\"size\":12,\"symbol\":\"circle\"},\"mode\":\"markers\",\"name\":\"AltariaMega Altaria\",\"textfont\":{\"color\":\"#4D5663\"},\"type\":\"scatter\",\"x\":[590],\"y\":[80]},{\"marker\":{\"color\":\"rgba(55, 128, 191, 0.6399999999999997)\",\"line\":{\"width\":1.3},\"opacity\":0.8,\"size\":12,\"symbol\":\"circle\"},\"mode\":\"markers\",\"name\":\"Zangoose\",\"textfont\":{\"color\":\"#4D5663\"},\"type\":\"scatter\",\"x\":[458],\"y\":[90]},{\"marker\":{\"color\":\"rgba(50, 171, 96, 0.6399999999999997)\",\"line\":{\"width\":1.3},\"opacity\":0.8,\"size\":12,\"symbol\":\"circle\"},\"mode\":\"markers\",\"name\":\"Seviper\",\"textfont\":{\"color\":\"#4D5663\"},\"type\":\"scatter\",\"x\":[458],\"y\":[65]},{\"marker\":{\"color\":\"rgba(128, 0, 128, 0.6399999999999997)\",\"line\":{\"width\":1.3},\"opacity\":0.8,\"size\":12,\"symbol\":\"circle\"},\"mode\":\"markers\",\"name\":\"Lunatone\",\"textfont\":{\"color\":\"#4D5663\"},\"type\":\"scatter\",\"x\":[440],\"y\":[70]},{\"marker\":{\"color\":\"rgba(128, 0, 128, 0.6299999999999997)\",\"line\":{\"width\":1.3},\"opacity\":0.8,\"size\":12,\"symbol\":\"circle\"},\"mode\":\"markers\",\"name\":\"Solrock\",\"textfont\":{\"color\":\"#4D5663\"},\"type\":\"scatter\",\"x\":[440],\"y\":[70]},{\"marker\":{\"color\":\"rgba(219, 64, 82, 0.6299999999999997)\",\"line\":{\"width\":1.3},\"opacity\":0.8,\"size\":12,\"symbol\":\"circle\"},\"mode\":\"markers\",\"name\":\"Barboach\",\"textfont\":{\"color\":\"#4D5663\"},\"type\":\"scatter\",\"x\":[288],\"y\":[60]},{\"marker\":{\"color\":\"rgba(0, 128, 128, 0.6299999999999997)\",\"line\":{\"width\":1.3},\"opacity\":0.8,\"size\":12,\"symbol\":\"circle\"},\"mode\":\"markers\",\"name\":\"Whiscash\",\"textfont\":{\"color\":\"#4D5663\"},\"type\":\"scatter\",\"x\":[468],\"y\":[60]},{\"marker\":{\"color\":\"rgba(255, 255, 51, 0.6299999999999997)\",\"line\":{\"width\":1.3},\"opacity\":0.8,\"size\":12,\"symbol\":\"circle\"},\"mode\":\"markers\",\"name\":\"Corphish\",\"textfont\":{\"color\":\"#4D5663\"},\"type\":\"scatter\",\"x\":[308],\"y\":[35]},{\"marker\":{\"color\":\"rgba(128, 128, 0, 0.6299999999999997)\",\"line\":{\"width\":1.3},\"opacity\":0.8,\"size\":12,\"symbol\":\"circle\"},\"mode\":\"markers\",\"name\":\"Crawdaunt\",\"textfont\":{\"color\":\"#4D5663\"},\"type\":\"scatter\",\"x\":[468],\"y\":[55]},{\"marker\":{\"color\":\"rgba(251, 128, 114, 0.6299999999999997)\",\"line\":{\"width\":1.3},\"opacity\":0.8,\"size\":12,\"symbol\":\"circle\"},\"mode\":\"markers\",\"name\":\"Baltoy\",\"textfont\":{\"color\":\"#4D5663\"},\"type\":\"scatter\",\"x\":[300],\"y\":[55]},{\"marker\":{\"color\":\"rgba(128, 177, 211, 0.6299999999999997)\",\"line\":{\"width\":1.3},\"opacity\":0.8,\"size\":12,\"symbol\":\"circle\"},\"mode\":\"markers\",\"name\":\"Claydol\",\"textfont\":{\"color\":\"#4D5663\"},\"type\":\"scatter\",\"x\":[500],\"y\":[75]},{\"marker\":{\"color\":\"rgba(255, 153, 51, 0.6299999999999997)\",\"line\":{\"width\":1.3},\"opacity\":0.8,\"size\":12,\"symbol\":\"circle\"},\"mode\":\"markers\",\"name\":\"Lileep\",\"textfont\":{\"color\":\"#4D5663\"},\"type\":\"scatter\",\"x\":[355],\"y\":[23]},{\"marker\":{\"color\":\"rgba(55, 128, 191, 0.6299999999999997)\",\"line\":{\"width\":1.3},\"opacity\":0.8,\"size\":12,\"symbol\":\"circle\"},\"mode\":\"markers\",\"name\":\"Cradily\",\"textfont\":{\"color\":\"#4D5663\"},\"type\":\"scatter\",\"x\":[495],\"y\":[43]},{\"marker\":{\"color\":\"rgba(50, 171, 96, 0.6299999999999997)\",\"line\":{\"width\":1.3},\"opacity\":0.8,\"size\":12,\"symbol\":\"circle\"},\"mode\":\"markers\",\"name\":\"Anorith\",\"textfont\":{\"color\":\"#4D5663\"},\"type\":\"scatter\",\"x\":[355],\"y\":[75]},{\"marker\":{\"color\":\"rgba(50, 171, 96, 0.6199999999999997)\",\"line\":{\"width\":1.3},\"opacity\":0.8,\"size\":12,\"symbol\":\"circle\"},\"mode\":\"markers\",\"name\":\"Armaldo\",\"textfont\":{\"color\":\"#4D5663\"},\"type\":\"scatter\",\"x\":[495],\"y\":[45]},{\"marker\":{\"color\":\"rgba(128, 0, 128, 0.6199999999999997)\",\"line\":{\"width\":1.3},\"opacity\":0.8,\"size\":12,\"symbol\":\"circle\"},\"mode\":\"markers\",\"name\":\"Feebas\",\"textfont\":{\"color\":\"#4D5663\"},\"type\":\"scatter\",\"x\":[200],\"y\":[80]},{\"marker\":{\"color\":\"rgba(219, 64, 82, 0.6199999999999997)\",\"line\":{\"width\":1.3},\"opacity\":0.8,\"size\":12,\"symbol\":\"circle\"},\"mode\":\"markers\",\"name\":\"Milotic\",\"textfont\":{\"color\":\"#4D5663\"},\"type\":\"scatter\",\"x\":[540],\"y\":[81]},{\"marker\":{\"color\":\"rgba(0, 128, 128, 0.6199999999999997)\",\"line\":{\"width\":1.3},\"opacity\":0.8,\"size\":12,\"symbol\":\"circle\"},\"mode\":\"markers\",\"name\":\"Castform\",\"textfont\":{\"color\":\"#4D5663\"},\"type\":\"scatter\",\"x\":[420],\"y\":[70]},{\"marker\":{\"color\":\"rgba(255, 255, 51, 0.6199999999999997)\",\"line\":{\"width\":1.3},\"opacity\":0.8,\"size\":12,\"symbol\":\"circle\"},\"mode\":\"markers\",\"name\":\"Kecleon\",\"textfont\":{\"color\":\"#4D5663\"},\"type\":\"scatter\",\"x\":[440],\"y\":[40]},{\"marker\":{\"color\":\"rgba(128, 128, 0, 0.6199999999999997)\",\"line\":{\"width\":1.3},\"opacity\":0.8,\"size\":12,\"symbol\":\"circle\"},\"mode\":\"markers\",\"name\":\"Shuppet\",\"textfont\":{\"color\":\"#4D5663\"},\"type\":\"scatter\",\"x\":[295],\"y\":[45]},{\"marker\":{\"color\":\"rgba(251, 128, 114, 0.6199999999999997)\",\"line\":{\"width\":1.3},\"opacity\":0.8,\"size\":12,\"symbol\":\"circle\"},\"mode\":\"markers\",\"name\":\"Banette\",\"textfont\":{\"color\":\"#4D5663\"},\"type\":\"scatter\",\"x\":[455],\"y\":[65]},{\"marker\":{\"color\":\"rgba(128, 177, 211, 0.6199999999999997)\",\"line\":{\"width\":1.3},\"opacity\":0.8,\"size\":12,\"symbol\":\"circle\"},\"mode\":\"markers\",\"name\":\"BanetteMega Banette\",\"textfont\":{\"color\":\"#4D5663\"},\"type\":\"scatter\",\"x\":[555],\"y\":[75]},{\"marker\":{\"color\":\"rgba(255, 153, 51, 0.6199999999999997)\",\"line\":{\"width\":1.3},\"opacity\":0.8,\"size\":12,\"symbol\":\"circle\"},\"mode\":\"markers\",\"name\":\"Duskull\",\"textfont\":{\"color\":\"#4D5663\"},\"type\":\"scatter\",\"x\":[295],\"y\":[25]},{\"marker\":{\"color\":\"rgba(55, 128, 191, 0.6199999999999997)\",\"line\":{\"width\":1.3},\"opacity\":0.8,\"size\":12,\"symbol\":\"circle\"},\"mode\":\"markers\",\"name\":\"Dusclops\",\"textfont\":{\"color\":\"#4D5663\"},\"type\":\"scatter\",\"x\":[455],\"y\":[25]},{\"marker\":{\"color\":\"rgba(55, 128, 191, 0.6099999999999997)\",\"line\":{\"width\":1.3},\"opacity\":0.8,\"size\":12,\"symbol\":\"circle\"},\"mode\":\"markers\",\"name\":\"Tropius\",\"textfont\":{\"color\":\"#4D5663\"},\"type\":\"scatter\",\"x\":[460],\"y\":[51]},{\"marker\":{\"color\":\"rgba(50, 171, 96, 0.6099999999999997)\",\"line\":{\"width\":1.3},\"opacity\":0.8,\"size\":12,\"symbol\":\"circle\"},\"mode\":\"markers\",\"name\":\"Chimecho\",\"textfont\":{\"color\":\"#4D5663\"},\"type\":\"scatter\",\"x\":[425],\"y\":[65]},{\"marker\":{\"color\":\"rgba(128, 0, 128, 0.6099999999999997)\",\"line\":{\"width\":1.3},\"opacity\":0.8,\"size\":12,\"symbol\":\"circle\"},\"mode\":\"markers\",\"name\":\"Absol\",\"textfont\":{\"color\":\"#4D5663\"},\"type\":\"scatter\",\"x\":[465],\"y\":[75]},{\"marker\":{\"color\":\"rgba(219, 64, 82, 0.6099999999999997)\",\"line\":{\"width\":1.3},\"opacity\":0.8,\"size\":12,\"symbol\":\"circle\"},\"mode\":\"markers\",\"name\":\"AbsolMega Absol\",\"textfont\":{\"color\":\"#4D5663\"},\"type\":\"scatter\",\"x\":[565],\"y\":[115]},{\"marker\":{\"color\":\"rgba(0, 128, 128, 0.6099999999999997)\",\"line\":{\"width\":1.3},\"opacity\":0.8,\"size\":12,\"symbol\":\"circle\"},\"mode\":\"markers\",\"name\":\"Wynaut\",\"textfont\":{\"color\":\"#4D5663\"},\"type\":\"scatter\",\"x\":[260],\"y\":[23]},{\"marker\":{\"color\":\"rgba(255, 255, 51, 0.6099999999999997)\",\"line\":{\"width\":1.3},\"opacity\":0.8,\"size\":12,\"symbol\":\"circle\"},\"mode\":\"markers\",\"name\":\"Snorunt\",\"textfont\":{\"color\":\"#4D5663\"},\"type\":\"scatter\",\"x\":[300],\"y\":[50]},{\"marker\":{\"color\":\"rgba(128, 128, 0, 0.6099999999999997)\",\"line\":{\"width\":1.3},\"opacity\":0.8,\"size\":12,\"symbol\":\"circle\"},\"mode\":\"markers\",\"name\":\"Glalie\",\"textfont\":{\"color\":\"#4D5663\"},\"type\":\"scatter\",\"x\":[480],\"y\":[80]},{\"marker\":{\"color\":\"rgba(251, 128, 114, 0.6099999999999997)\",\"line\":{\"width\":1.3},\"opacity\":0.8,\"size\":12,\"symbol\":\"circle\"},\"mode\":\"markers\",\"name\":\"GlalieMega Glalie\",\"textfont\":{\"color\":\"#4D5663\"},\"type\":\"scatter\",\"x\":[580],\"y\":[100]},{\"marker\":{\"color\":\"rgba(128, 177, 211, 0.6099999999999997)\",\"line\":{\"width\":1.3},\"opacity\":0.8,\"size\":12,\"symbol\":\"circle\"},\"mode\":\"markers\",\"name\":\"Spheal\",\"textfont\":{\"color\":\"#4D5663\"},\"type\":\"scatter\",\"x\":[290],\"y\":[25]},{\"marker\":{\"color\":\"rgba(255, 153, 51, 0.6099999999999997)\",\"line\":{\"width\":1.3},\"opacity\":0.8,\"size\":12,\"symbol\":\"circle\"},\"mode\":\"markers\",\"name\":\"Sealeo\",\"textfont\":{\"color\":\"#4D5663\"},\"type\":\"scatter\",\"x\":[410],\"y\":[45]},{\"marker\":{\"color\":\"rgba(255, 153, 51, 0.5999999999999996)\",\"line\":{\"width\":1.3},\"opacity\":0.8,\"size\":12,\"symbol\":\"circle\"},\"mode\":\"markers\",\"name\":\"Walrein\",\"textfont\":{\"color\":\"#4D5663\"},\"type\":\"scatter\",\"x\":[530],\"y\":[65]},{\"marker\":{\"color\":\"rgba(55, 128, 191, 0.5999999999999996)\",\"line\":{\"width\":1.3},\"opacity\":0.8,\"size\":12,\"symbol\":\"circle\"},\"mode\":\"markers\",\"name\":\"Clamperl\",\"textfont\":{\"color\":\"#4D5663\"},\"type\":\"scatter\",\"x\":[345],\"y\":[32]},{\"marker\":{\"color\":\"rgba(50, 171, 96, 0.5999999999999996)\",\"line\":{\"width\":1.3},\"opacity\":0.8,\"size\":12,\"symbol\":\"circle\"},\"mode\":\"markers\",\"name\":\"Huntail\",\"textfont\":{\"color\":\"#4D5663\"},\"type\":\"scatter\",\"x\":[485],\"y\":[52]},{\"marker\":{\"color\":\"rgba(128, 0, 128, 0.5999999999999996)\",\"line\":{\"width\":1.3},\"opacity\":0.8,\"size\":12,\"symbol\":\"circle\"},\"mode\":\"markers\",\"name\":\"Gorebyss\",\"textfont\":{\"color\":\"#4D5663\"},\"type\":\"scatter\",\"x\":[485],\"y\":[52]},{\"marker\":{\"color\":\"rgba(219, 64, 82, 0.5999999999999996)\",\"line\":{\"width\":1.3},\"opacity\":0.8,\"size\":12,\"symbol\":\"circle\"},\"mode\":\"markers\",\"name\":\"Relicanth\",\"textfont\":{\"color\":\"#4D5663\"},\"type\":\"scatter\",\"x\":[485],\"y\":[55]},{\"marker\":{\"color\":\"rgba(0, 128, 128, 0.5999999999999996)\",\"line\":{\"width\":1.3},\"opacity\":0.8,\"size\":12,\"symbol\":\"circle\"},\"mode\":\"markers\",\"name\":\"Luvdisc\",\"textfont\":{\"color\":\"#4D5663\"},\"type\":\"scatter\",\"x\":[330],\"y\":[97]},{\"marker\":{\"color\":\"rgba(255, 255, 51, 0.5999999999999996)\",\"line\":{\"width\":1.3},\"opacity\":0.8,\"size\":12,\"symbol\":\"circle\"},\"mode\":\"markers\",\"name\":\"Bagon\",\"textfont\":{\"color\":\"#4D5663\"},\"type\":\"scatter\",\"x\":[300],\"y\":[50]},{\"marker\":{\"color\":\"rgba(128, 128, 0, 0.5999999999999996)\",\"line\":{\"width\":1.3},\"opacity\":0.8,\"size\":12,\"symbol\":\"circle\"},\"mode\":\"markers\",\"name\":\"Shelgon\",\"textfont\":{\"color\":\"#4D5663\"},\"type\":\"scatter\",\"x\":[420],\"y\":[50]},{\"marker\":{\"color\":\"rgba(251, 128, 114, 0.5999999999999996)\",\"line\":{\"width\":1.3},\"opacity\":0.8,\"size\":12,\"symbol\":\"circle\"},\"mode\":\"markers\",\"name\":\"Salamence\",\"textfont\":{\"color\":\"#4D5663\"},\"type\":\"scatter\",\"x\":[600],\"y\":[100]},{\"marker\":{\"color\":\"rgba(128, 177, 211, 0.5999999999999996)\",\"line\":{\"width\":1.3},\"opacity\":0.8,\"size\":12,\"symbol\":\"circle\"},\"mode\":\"markers\",\"name\":\"SalamenceMega Salamence\",\"textfont\":{\"color\":\"#4D5663\"},\"type\":\"scatter\",\"x\":[700],\"y\":[120]},{\"marker\":{\"color\":\"rgba(128, 177, 211, 0.5899999999999996)\",\"line\":{\"width\":1.3},\"opacity\":0.8,\"size\":12,\"symbol\":\"circle\"},\"mode\":\"markers\",\"name\":\"Beldum\",\"textfont\":{\"color\":\"#4D5663\"},\"type\":\"scatter\",\"x\":[300],\"y\":[30]},{\"marker\":{\"color\":\"rgba(255, 153, 51, 0.5899999999999996)\",\"line\":{\"width\":1.3},\"opacity\":0.8,\"size\":12,\"symbol\":\"circle\"},\"mode\":\"markers\",\"name\":\"Metang\",\"textfont\":{\"color\":\"#4D5663\"},\"type\":\"scatter\",\"x\":[420],\"y\":[50]},{\"marker\":{\"color\":\"rgba(55, 128, 191, 0.5899999999999996)\",\"line\":{\"width\":1.3},\"opacity\":0.8,\"size\":12,\"symbol\":\"circle\"},\"mode\":\"markers\",\"name\":\"Metagross\",\"textfont\":{\"color\":\"#4D5663\"},\"type\":\"scatter\",\"x\":[600],\"y\":[70]},{\"marker\":{\"color\":\"rgba(50, 171, 96, 0.5899999999999996)\",\"line\":{\"width\":1.3},\"opacity\":0.8,\"size\":12,\"symbol\":\"circle\"},\"mode\":\"markers\",\"name\":\"MetagrossMega Metagross\",\"textfont\":{\"color\":\"#4D5663\"},\"type\":\"scatter\",\"x\":[700],\"y\":[110]},{\"marker\":{\"color\":\"rgba(128, 0, 128, 0.5899999999999996)\",\"line\":{\"width\":1.3},\"opacity\":0.8,\"size\":12,\"symbol\":\"circle\"},\"mode\":\"markers\",\"name\":\"Regirock\",\"textfont\":{\"color\":\"#4D5663\"},\"type\":\"scatter\",\"x\":[580],\"y\":[50]},{\"marker\":{\"color\":\"rgba(219, 64, 82, 0.5899999999999996)\",\"line\":{\"width\":1.3},\"opacity\":0.8,\"size\":12,\"symbol\":\"circle\"},\"mode\":\"markers\",\"name\":\"Regice\",\"textfont\":{\"color\":\"#4D5663\"},\"type\":\"scatter\",\"x\":[580],\"y\":[50]},{\"marker\":{\"color\":\"rgba(0, 128, 128, 0.5899999999999996)\",\"line\":{\"width\":1.3},\"opacity\":0.8,\"size\":12,\"symbol\":\"circle\"},\"mode\":\"markers\",\"name\":\"Registeel\",\"textfont\":{\"color\":\"#4D5663\"},\"type\":\"scatter\",\"x\":[580],\"y\":[50]},{\"marker\":{\"color\":\"rgba(255, 255, 51, 0.5899999999999996)\",\"line\":{\"width\":1.3},\"opacity\":0.8,\"size\":12,\"symbol\":\"circle\"},\"mode\":\"markers\",\"name\":\"Latias\",\"textfont\":{\"color\":\"#4D5663\"},\"type\":\"scatter\",\"x\":[600],\"y\":[110]},{\"marker\":{\"color\":\"rgba(128, 128, 0, 0.5899999999999996)\",\"line\":{\"width\":1.3},\"opacity\":0.8,\"size\":12,\"symbol\":\"circle\"},\"mode\":\"markers\",\"name\":\"LatiasMega Latias\",\"textfont\":{\"color\":\"#4D5663\"},\"type\":\"scatter\",\"x\":[700],\"y\":[110]},{\"marker\":{\"color\":\"rgba(251, 128, 114, 0.5899999999999996)\",\"line\":{\"width\":1.3},\"opacity\":0.8,\"size\":12,\"symbol\":\"circle\"},\"mode\":\"markers\",\"name\":\"Latios\",\"textfont\":{\"color\":\"#4D5663\"},\"type\":\"scatter\",\"x\":[600],\"y\":[110]},{\"marker\":{\"color\":\"rgba(251, 128, 114, 0.5799999999999996)\",\"line\":{\"width\":1.3},\"opacity\":0.8,\"size\":12,\"symbol\":\"circle\"},\"mode\":\"markers\",\"name\":\"LatiosMega Latios\",\"textfont\":{\"color\":\"#4D5663\"},\"type\":\"scatter\",\"x\":[700],\"y\":[110]},{\"marker\":{\"color\":\"rgba(128, 177, 211, 0.5799999999999996)\",\"line\":{\"width\":1.3},\"opacity\":0.8,\"size\":12,\"symbol\":\"circle\"},\"mode\":\"markers\",\"name\":\"Kyogre\",\"textfont\":{\"color\":\"#4D5663\"},\"type\":\"scatter\",\"x\":[670],\"y\":[90]},{\"marker\":{\"color\":\"rgba(255, 153, 51, 0.5799999999999996)\",\"line\":{\"width\":1.3},\"opacity\":0.8,\"size\":12,\"symbol\":\"circle\"},\"mode\":\"markers\",\"name\":\"KyogrePrimal Kyogre\",\"textfont\":{\"color\":\"#4D5663\"},\"type\":\"scatter\",\"x\":[770],\"y\":[90]},{\"marker\":{\"color\":\"rgba(55, 128, 191, 0.5799999999999996)\",\"line\":{\"width\":1.3},\"opacity\":0.8,\"size\":12,\"symbol\":\"circle\"},\"mode\":\"markers\",\"name\":\"Groudon\",\"textfont\":{\"color\":\"#4D5663\"},\"type\":\"scatter\",\"x\":[670],\"y\":[90]},{\"marker\":{\"color\":\"rgba(50, 171, 96, 0.5799999999999996)\",\"line\":{\"width\":1.3},\"opacity\":0.8,\"size\":12,\"symbol\":\"circle\"},\"mode\":\"markers\",\"name\":\"GroudonPrimal Groudon\",\"textfont\":{\"color\":\"#4D5663\"},\"type\":\"scatter\",\"x\":[770],\"y\":[90]},{\"marker\":{\"color\":\"rgba(128, 0, 128, 0.5799999999999996)\",\"line\":{\"width\":1.3},\"opacity\":0.8,\"size\":12,\"symbol\":\"circle\"},\"mode\":\"markers\",\"name\":\"Rayquaza\",\"textfont\":{\"color\":\"#4D5663\"},\"type\":\"scatter\",\"x\":[680],\"y\":[95]},{\"marker\":{\"color\":\"rgba(219, 64, 82, 0.5799999999999996)\",\"line\":{\"width\":1.3},\"opacity\":0.8,\"size\":12,\"symbol\":\"circle\"},\"mode\":\"markers\",\"name\":\"RayquazaMega Rayquaza\",\"textfont\":{\"color\":\"#4D5663\"},\"type\":\"scatter\",\"x\":[780],\"y\":[115]},{\"marker\":{\"color\":\"rgba(0, 128, 128, 0.5799999999999996)\",\"line\":{\"width\":1.3},\"opacity\":0.8,\"size\":12,\"symbol\":\"circle\"},\"mode\":\"markers\",\"name\":\"Jirachi\",\"textfont\":{\"color\":\"#4D5663\"},\"type\":\"scatter\",\"x\":[600],\"y\":[100]},{\"marker\":{\"color\":\"rgba(255, 255, 51, 0.5799999999999996)\",\"line\":{\"width\":1.3},\"opacity\":0.8,\"size\":12,\"symbol\":\"circle\"},\"mode\":\"markers\",\"name\":\"DeoxysNormal Forme\",\"textfont\":{\"color\":\"#4D5663\"},\"type\":\"scatter\",\"x\":[600],\"y\":[150]},{\"marker\":{\"color\":\"rgba(128, 128, 0, 0.5799999999999996)\",\"line\":{\"width\":1.3},\"opacity\":0.8,\"size\":12,\"symbol\":\"circle\"},\"mode\":\"markers\",\"name\":\"DeoxysAttack Forme\",\"textfont\":{\"color\":\"#4D5663\"},\"type\":\"scatter\",\"x\":[600],\"y\":[150]},{\"marker\":{\"color\":\"rgba(128, 128, 0, 0.5699999999999996)\",\"line\":{\"width\":1.3},\"opacity\":0.8,\"size\":12,\"symbol\":\"circle\"},\"mode\":\"markers\",\"name\":\"DeoxysDefense Forme\",\"textfont\":{\"color\":\"#4D5663\"},\"type\":\"scatter\",\"x\":[600],\"y\":[90]},{\"marker\":{\"color\":\"rgba(251, 128, 114, 0.5699999999999996)\",\"line\":{\"width\":1.3},\"opacity\":0.8,\"size\":12,\"symbol\":\"circle\"},\"mode\":\"markers\",\"name\":\"DeoxysSpeed Forme\",\"textfont\":{\"color\":\"#4D5663\"},\"type\":\"scatter\",\"x\":[600],\"y\":[180]},{\"marker\":{\"color\":\"rgba(128, 177, 211, 0.5699999999999996)\",\"line\":{\"width\":1.3},\"opacity\":0.8,\"size\":12,\"symbol\":\"circle\"},\"mode\":\"markers\",\"name\":\"Turtwig\",\"textfont\":{\"color\":\"#4D5663\"},\"type\":\"scatter\",\"x\":[318],\"y\":[31]},{\"marker\":{\"color\":\"rgba(255, 153, 51, 0.5699999999999996)\",\"line\":{\"width\":1.3},\"opacity\":0.8,\"size\":12,\"symbol\":\"circle\"},\"mode\":\"markers\",\"name\":\"Grotle\",\"textfont\":{\"color\":\"#4D5663\"},\"type\":\"scatter\",\"x\":[405],\"y\":[36]},{\"marker\":{\"color\":\"rgba(55, 128, 191, 0.5699999999999996)\",\"line\":{\"width\":1.3},\"opacity\":0.8,\"size\":12,\"symbol\":\"circle\"},\"mode\":\"markers\",\"name\":\"Torterra\",\"textfont\":{\"color\":\"#4D5663\"},\"type\":\"scatter\",\"x\":[525],\"y\":[56]},{\"marker\":{\"color\":\"rgba(50, 171, 96, 0.5699999999999996)\",\"line\":{\"width\":1.3},\"opacity\":0.8,\"size\":12,\"symbol\":\"circle\"},\"mode\":\"markers\",\"name\":\"Chimchar\",\"textfont\":{\"color\":\"#4D5663\"},\"type\":\"scatter\",\"x\":[309],\"y\":[61]},{\"marker\":{\"color\":\"rgba(128, 0, 128, 0.5699999999999996)\",\"line\":{\"width\":1.3},\"opacity\":0.8,\"size\":12,\"symbol\":\"circle\"},\"mode\":\"markers\",\"name\":\"Monferno\",\"textfont\":{\"color\":\"#4D5663\"},\"type\":\"scatter\",\"x\":[405],\"y\":[81]},{\"marker\":{\"color\":\"rgba(219, 64, 82, 0.5699999999999996)\",\"line\":{\"width\":1.3},\"opacity\":0.8,\"size\":12,\"symbol\":\"circle\"},\"mode\":\"markers\",\"name\":\"Infernape\",\"textfont\":{\"color\":\"#4D5663\"},\"type\":\"scatter\",\"x\":[534],\"y\":[108]},{\"marker\":{\"color\":\"rgba(0, 128, 128, 0.5699999999999996)\",\"line\":{\"width\":1.3},\"opacity\":0.8,\"size\":12,\"symbol\":\"circle\"},\"mode\":\"markers\",\"name\":\"Piplup\",\"textfont\":{\"color\":\"#4D5663\"},\"type\":\"scatter\",\"x\":[314],\"y\":[40]},{\"marker\":{\"color\":\"rgba(255, 255, 51, 0.5699999999999996)\",\"line\":{\"width\":1.3},\"opacity\":0.8,\"size\":12,\"symbol\":\"circle\"},\"mode\":\"markers\",\"name\":\"Prinplup\",\"textfont\":{\"color\":\"#4D5663\"},\"type\":\"scatter\",\"x\":[405],\"y\":[50]},{\"marker\":{\"color\":\"rgba(255, 255, 51, 0.5599999999999996)\",\"line\":{\"width\":1.3},\"opacity\":0.8,\"size\":12,\"symbol\":\"circle\"},\"mode\":\"markers\",\"name\":\"Empoleon\",\"textfont\":{\"color\":\"#4D5663\"},\"type\":\"scatter\",\"x\":[530],\"y\":[60]},{\"marker\":{\"color\":\"rgba(128, 128, 0, 0.5599999999999996)\",\"line\":{\"width\":1.3},\"opacity\":0.8,\"size\":12,\"symbol\":\"circle\"},\"mode\":\"markers\",\"name\":\"Starly\",\"textfont\":{\"color\":\"#4D5663\"},\"type\":\"scatter\",\"x\":[245],\"y\":[60]},{\"marker\":{\"color\":\"rgba(251, 128, 114, 0.5599999999999996)\",\"line\":{\"width\":1.3},\"opacity\":0.8,\"size\":12,\"symbol\":\"circle\"},\"mode\":\"markers\",\"name\":\"Staravia\",\"textfont\":{\"color\":\"#4D5663\"},\"type\":\"scatter\",\"x\":[340],\"y\":[80]},{\"marker\":{\"color\":\"rgba(128, 177, 211, 0.5599999999999996)\",\"line\":{\"width\":1.3},\"opacity\":0.8,\"size\":12,\"symbol\":\"circle\"},\"mode\":\"markers\",\"name\":\"Staraptor\",\"textfont\":{\"color\":\"#4D5663\"},\"type\":\"scatter\",\"x\":[485],\"y\":[100]},{\"marker\":{\"color\":\"rgba(255, 153, 51, 0.5599999999999996)\",\"line\":{\"width\":1.3},\"opacity\":0.8,\"size\":12,\"symbol\":\"circle\"},\"mode\":\"markers\",\"name\":\"Bidoof\",\"textfont\":{\"color\":\"#4D5663\"},\"type\":\"scatter\",\"x\":[250],\"y\":[31]},{\"marker\":{\"color\":\"rgba(55, 128, 191, 0.5599999999999996)\",\"line\":{\"width\":1.3},\"opacity\":0.8,\"size\":12,\"symbol\":\"circle\"},\"mode\":\"markers\",\"name\":\"Bibarel\",\"textfont\":{\"color\":\"#4D5663\"},\"type\":\"scatter\",\"x\":[410],\"y\":[71]},{\"marker\":{\"color\":\"rgba(50, 171, 96, 0.5599999999999996)\",\"line\":{\"width\":1.3},\"opacity\":0.8,\"size\":12,\"symbol\":\"circle\"},\"mode\":\"markers\",\"name\":\"Kricketot\",\"textfont\":{\"color\":\"#4D5663\"},\"type\":\"scatter\",\"x\":[194],\"y\":[25]},{\"marker\":{\"color\":\"rgba(128, 0, 128, 0.5599999999999996)\",\"line\":{\"width\":1.3},\"opacity\":0.8,\"size\":12,\"symbol\":\"circle\"},\"mode\":\"markers\",\"name\":\"Kricketune\",\"textfont\":{\"color\":\"#4D5663\"},\"type\":\"scatter\",\"x\":[384],\"y\":[65]},{\"marker\":{\"color\":\"rgba(219, 64, 82, 0.5599999999999996)\",\"line\":{\"width\":1.3},\"opacity\":0.8,\"size\":12,\"symbol\":\"circle\"},\"mode\":\"markers\",\"name\":\"Shinx\",\"textfont\":{\"color\":\"#4D5663\"},\"type\":\"scatter\",\"x\":[263],\"y\":[45]},{\"marker\":{\"color\":\"rgba(0, 128, 128, 0.5599999999999996)\",\"line\":{\"width\":1.3},\"opacity\":0.8,\"size\":12,\"symbol\":\"circle\"},\"mode\":\"markers\",\"name\":\"Luxio\",\"textfont\":{\"color\":\"#4D5663\"},\"type\":\"scatter\",\"x\":[363],\"y\":[60]},{\"marker\":{\"color\":\"rgba(0, 128, 128, 0.5499999999999996)\",\"line\":{\"width\":1.3},\"opacity\":0.8,\"size\":12,\"symbol\":\"circle\"},\"mode\":\"markers\",\"name\":\"Luxray\",\"textfont\":{\"color\":\"#4D5663\"},\"type\":\"scatter\",\"x\":[523],\"y\":[70]},{\"marker\":{\"color\":\"rgba(255, 255, 51, 0.5499999999999996)\",\"line\":{\"width\":1.3},\"opacity\":0.8,\"size\":12,\"symbol\":\"circle\"},\"mode\":\"markers\",\"name\":\"Budew\",\"textfont\":{\"color\":\"#4D5663\"},\"type\":\"scatter\",\"x\":[280],\"y\":[55]},{\"marker\":{\"color\":\"rgba(128, 128, 0, 0.5499999999999996)\",\"line\":{\"width\":1.3},\"opacity\":0.8,\"size\":12,\"symbol\":\"circle\"},\"mode\":\"markers\",\"name\":\"Roserade\",\"textfont\":{\"color\":\"#4D5663\"},\"type\":\"scatter\",\"x\":[515],\"y\":[90]},{\"marker\":{\"color\":\"rgba(251, 128, 114, 0.5499999999999996)\",\"line\":{\"width\":1.3},\"opacity\":0.8,\"size\":12,\"symbol\":\"circle\"},\"mode\":\"markers\",\"name\":\"Cranidos\",\"textfont\":{\"color\":\"#4D5663\"},\"type\":\"scatter\",\"x\":[350],\"y\":[58]},{\"marker\":{\"color\":\"rgba(128, 177, 211, 0.5499999999999996)\",\"line\":{\"width\":1.3},\"opacity\":0.8,\"size\":12,\"symbol\":\"circle\"},\"mode\":\"markers\",\"name\":\"Rampardos\",\"textfont\":{\"color\":\"#4D5663\"},\"type\":\"scatter\",\"x\":[495],\"y\":[58]},{\"marker\":{\"color\":\"rgba(255, 153, 51, 0.5499999999999996)\",\"line\":{\"width\":1.3},\"opacity\":0.8,\"size\":12,\"symbol\":\"circle\"},\"mode\":\"markers\",\"name\":\"Shieldon\",\"textfont\":{\"color\":\"#4D5663\"},\"type\":\"scatter\",\"x\":[350],\"y\":[30]},{\"marker\":{\"color\":\"rgba(55, 128, 191, 0.5499999999999996)\",\"line\":{\"width\":1.3},\"opacity\":0.8,\"size\":12,\"symbol\":\"circle\"},\"mode\":\"markers\",\"name\":\"Bastiodon\",\"textfont\":{\"color\":\"#4D5663\"},\"type\":\"scatter\",\"x\":[495],\"y\":[30]},{\"marker\":{\"color\":\"rgba(50, 171, 96, 0.5499999999999996)\",\"line\":{\"width\":1.3},\"opacity\":0.8,\"size\":12,\"symbol\":\"circle\"},\"mode\":\"markers\",\"name\":\"Burmy\",\"textfont\":{\"color\":\"#4D5663\"},\"type\":\"scatter\",\"x\":[224],\"y\":[36]},{\"marker\":{\"color\":\"rgba(128, 0, 128, 0.5499999999999996)\",\"line\":{\"width\":1.3},\"opacity\":0.8,\"size\":12,\"symbol\":\"circle\"},\"mode\":\"markers\",\"name\":\"WormadamPlant Cloak\",\"textfont\":{\"color\":\"#4D5663\"},\"type\":\"scatter\",\"x\":[424],\"y\":[36]},{\"marker\":{\"color\":\"rgba(219, 64, 82, 0.5499999999999996)\",\"line\":{\"width\":1.3},\"opacity\":0.8,\"size\":12,\"symbol\":\"circle\"},\"mode\":\"markers\",\"name\":\"WormadamSandy Cloak\",\"textfont\":{\"color\":\"#4D5663\"},\"type\":\"scatter\",\"x\":[424],\"y\":[36]},{\"marker\":{\"color\":\"rgba(219, 64, 82, 0.5399999999999996)\",\"line\":{\"width\":1.3},\"opacity\":0.8,\"size\":12,\"symbol\":\"circle\"},\"mode\":\"markers\",\"name\":\"WormadamTrash Cloak\",\"textfont\":{\"color\":\"#4D5663\"},\"type\":\"scatter\",\"x\":[424],\"y\":[36]},{\"marker\":{\"color\":\"rgba(0, 128, 128, 0.5399999999999996)\",\"line\":{\"width\":1.3},\"opacity\":0.8,\"size\":12,\"symbol\":\"circle\"},\"mode\":\"markers\",\"name\":\"Mothim\",\"textfont\":{\"color\":\"#4D5663\"},\"type\":\"scatter\",\"x\":[424],\"y\":[66]},{\"marker\":{\"color\":\"rgba(255, 255, 51, 0.5399999999999996)\",\"line\":{\"width\":1.3},\"opacity\":0.8,\"size\":12,\"symbol\":\"circle\"},\"mode\":\"markers\",\"name\":\"Combee\",\"textfont\":{\"color\":\"#4D5663\"},\"type\":\"scatter\",\"x\":[244],\"y\":[70]},{\"marker\":{\"color\":\"rgba(128, 128, 0, 0.5399999999999996)\",\"line\":{\"width\":1.3},\"opacity\":0.8,\"size\":12,\"symbol\":\"circle\"},\"mode\":\"markers\",\"name\":\"Vespiquen\",\"textfont\":{\"color\":\"#4D5663\"},\"type\":\"scatter\",\"x\":[474],\"y\":[40]},{\"marker\":{\"color\":\"rgba(251, 128, 114, 0.5399999999999996)\",\"line\":{\"width\":1.3},\"opacity\":0.8,\"size\":12,\"symbol\":\"circle\"},\"mode\":\"markers\",\"name\":\"Pachirisu\",\"textfont\":{\"color\":\"#4D5663\"},\"type\":\"scatter\",\"x\":[405],\"y\":[95]},{\"marker\":{\"color\":\"rgba(128, 177, 211, 0.5399999999999996)\",\"line\":{\"width\":1.3},\"opacity\":0.8,\"size\":12,\"symbol\":\"circle\"},\"mode\":\"markers\",\"name\":\"Buizel\",\"textfont\":{\"color\":\"#4D5663\"},\"type\":\"scatter\",\"x\":[330],\"y\":[85]},{\"marker\":{\"color\":\"rgba(255, 153, 51, 0.5399999999999996)\",\"line\":{\"width\":1.3},\"opacity\":0.8,\"size\":12,\"symbol\":\"circle\"},\"mode\":\"markers\",\"name\":\"Floatzel\",\"textfont\":{\"color\":\"#4D5663\"},\"type\":\"scatter\",\"x\":[495],\"y\":[115]},{\"marker\":{\"color\":\"rgba(55, 128, 191, 0.5399999999999996)\",\"line\":{\"width\":1.3},\"opacity\":0.8,\"size\":12,\"symbol\":\"circle\"},\"mode\":\"markers\",\"name\":\"Cherubi\",\"textfont\":{\"color\":\"#4D5663\"},\"type\":\"scatter\",\"x\":[275],\"y\":[35]},{\"marker\":{\"color\":\"rgba(50, 171, 96, 0.5399999999999996)\",\"line\":{\"width\":1.3},\"opacity\":0.8,\"size\":12,\"symbol\":\"circle\"},\"mode\":\"markers\",\"name\":\"Cherrim\",\"textfont\":{\"color\":\"#4D5663\"},\"type\":\"scatter\",\"x\":[450],\"y\":[85]},{\"marker\":{\"color\":\"rgba(128, 0, 128, 0.5399999999999996)\",\"line\":{\"width\":1.3},\"opacity\":0.8,\"size\":12,\"symbol\":\"circle\"},\"mode\":\"markers\",\"name\":\"Shellos\",\"textfont\":{\"color\":\"#4D5663\"},\"type\":\"scatter\",\"x\":[325],\"y\":[34]},{\"marker\":{\"color\":\"rgba(128, 0, 128, 0.5299999999999996)\",\"line\":{\"width\":1.3},\"opacity\":0.8,\"size\":12,\"symbol\":\"circle\"},\"mode\":\"markers\",\"name\":\"Gastrodon\",\"textfont\":{\"color\":\"#4D5663\"},\"type\":\"scatter\",\"x\":[475],\"y\":[39]},{\"marker\":{\"color\":\"rgba(219, 64, 82, 0.5299999999999996)\",\"line\":{\"width\":1.3},\"opacity\":0.8,\"size\":12,\"symbol\":\"circle\"},\"mode\":\"markers\",\"name\":\"Ambipom\",\"textfont\":{\"color\":\"#4D5663\"},\"type\":\"scatter\",\"x\":[482],\"y\":[115]},{\"marker\":{\"color\":\"rgba(0, 128, 128, 0.5299999999999996)\",\"line\":{\"width\":1.3},\"opacity\":0.8,\"size\":12,\"symbol\":\"circle\"},\"mode\":\"markers\",\"name\":\"Drifloon\",\"textfont\":{\"color\":\"#4D5663\"},\"type\":\"scatter\",\"x\":[348],\"y\":[70]},{\"marker\":{\"color\":\"rgba(255, 255, 51, 0.5299999999999996)\",\"line\":{\"width\":1.3},\"opacity\":0.8,\"size\":12,\"symbol\":\"circle\"},\"mode\":\"markers\",\"name\":\"Drifblim\",\"textfont\":{\"color\":\"#4D5663\"},\"type\":\"scatter\",\"x\":[498],\"y\":[80]},{\"marker\":{\"color\":\"rgba(128, 128, 0, 0.5299999999999996)\",\"line\":{\"width\":1.3},\"opacity\":0.8,\"size\":12,\"symbol\":\"circle\"},\"mode\":\"markers\",\"name\":\"Buneary\",\"textfont\":{\"color\":\"#4D5663\"},\"type\":\"scatter\",\"x\":[350],\"y\":[85]},{\"marker\":{\"color\":\"rgba(251, 128, 114, 0.5299999999999996)\",\"line\":{\"width\":1.3},\"opacity\":0.8,\"size\":12,\"symbol\":\"circle\"},\"mode\":\"markers\",\"name\":\"Lopunny\",\"textfont\":{\"color\":\"#4D5663\"},\"type\":\"scatter\",\"x\":[480],\"y\":[105]},{\"marker\":{\"color\":\"rgba(128, 177, 211, 0.5299999999999996)\",\"line\":{\"width\":1.3},\"opacity\":0.8,\"size\":12,\"symbol\":\"circle\"},\"mode\":\"markers\",\"name\":\"LopunnyMega Lopunny\",\"textfont\":{\"color\":\"#4D5663\"},\"type\":\"scatter\",\"x\":[580],\"y\":[135]},{\"marker\":{\"color\":\"rgba(255, 153, 51, 0.5299999999999996)\",\"line\":{\"width\":1.3},\"opacity\":0.8,\"size\":12,\"symbol\":\"circle\"},\"mode\":\"markers\",\"name\":\"Mismagius\",\"textfont\":{\"color\":\"#4D5663\"},\"type\":\"scatter\",\"x\":[495],\"y\":[105]},{\"marker\":{\"color\":\"rgba(55, 128, 191, 0.5299999999999996)\",\"line\":{\"width\":1.3},\"opacity\":0.8,\"size\":12,\"symbol\":\"circle\"},\"mode\":\"markers\",\"name\":\"Honchkrow\",\"textfont\":{\"color\":\"#4D5663\"},\"type\":\"scatter\",\"x\":[505],\"y\":[71]},{\"marker\":{\"color\":\"rgba(50, 171, 96, 0.5299999999999996)\",\"line\":{\"width\":1.3},\"opacity\":0.8,\"size\":12,\"symbol\":\"circle\"},\"mode\":\"markers\",\"name\":\"Glameow\",\"textfont\":{\"color\":\"#4D5663\"},\"type\":\"scatter\",\"x\":[310],\"y\":[85]},{\"marker\":{\"color\":\"rgba(50, 171, 96, 0.5199999999999996)\",\"line\":{\"width\":1.3},\"opacity\":0.8,\"size\":12,\"symbol\":\"circle\"},\"mode\":\"markers\",\"name\":\"Purugly\",\"textfont\":{\"color\":\"#4D5663\"},\"type\":\"scatter\",\"x\":[452],\"y\":[112]},{\"marker\":{\"color\":\"rgba(128, 0, 128, 0.5199999999999996)\",\"line\":{\"width\":1.3},\"opacity\":0.8,\"size\":12,\"symbol\":\"circle\"},\"mode\":\"markers\",\"name\":\"Chingling\",\"textfont\":{\"color\":\"#4D5663\"},\"type\":\"scatter\",\"x\":[285],\"y\":[45]},{\"marker\":{\"color\":\"rgba(219, 64, 82, 0.5199999999999996)\",\"line\":{\"width\":1.3},\"opacity\":0.8,\"size\":12,\"symbol\":\"circle\"},\"mode\":\"markers\",\"name\":\"Stunky\",\"textfont\":{\"color\":\"#4D5663\"},\"type\":\"scatter\",\"x\":[329],\"y\":[74]},{\"marker\":{\"color\":\"rgba(0, 128, 128, 0.5199999999999996)\",\"line\":{\"width\":1.3},\"opacity\":0.8,\"size\":12,\"symbol\":\"circle\"},\"mode\":\"markers\",\"name\":\"Skuntank\",\"textfont\":{\"color\":\"#4D5663\"},\"type\":\"scatter\",\"x\":[479],\"y\":[84]},{\"marker\":{\"color\":\"rgba(255, 255, 51, 0.5199999999999996)\",\"line\":{\"width\":1.3},\"opacity\":0.8,\"size\":12,\"symbol\":\"circle\"},\"mode\":\"markers\",\"name\":\"Bronzor\",\"textfont\":{\"color\":\"#4D5663\"},\"type\":\"scatter\",\"x\":[300],\"y\":[23]},{\"marker\":{\"color\":\"rgba(128, 128, 0, 0.5199999999999996)\",\"line\":{\"width\":1.3},\"opacity\":0.8,\"size\":12,\"symbol\":\"circle\"},\"mode\":\"markers\",\"name\":\"Bronzong\",\"textfont\":{\"color\":\"#4D5663\"},\"type\":\"scatter\",\"x\":[500],\"y\":[33]},{\"marker\":{\"color\":\"rgba(251, 128, 114, 0.5199999999999996)\",\"line\":{\"width\":1.3},\"opacity\":0.8,\"size\":12,\"symbol\":\"circle\"},\"mode\":\"markers\",\"name\":\"Bonsly\",\"textfont\":{\"color\":\"#4D5663\"},\"type\":\"scatter\",\"x\":[290],\"y\":[10]},{\"marker\":{\"color\":\"rgba(128, 177, 211, 0.5199999999999996)\",\"line\":{\"width\":1.3},\"opacity\":0.8,\"size\":12,\"symbol\":\"circle\"},\"mode\":\"markers\",\"name\":\"Mime Jr.\",\"textfont\":{\"color\":\"#4D5663\"},\"type\":\"scatter\",\"x\":[310],\"y\":[60]},{\"marker\":{\"color\":\"rgba(255, 153, 51, 0.5199999999999996)\",\"line\":{\"width\":1.3},\"opacity\":0.8,\"size\":12,\"symbol\":\"circle\"},\"mode\":\"markers\",\"name\":\"Happiny\",\"textfont\":{\"color\":\"#4D5663\"},\"type\":\"scatter\",\"x\":[220],\"y\":[30]},{\"marker\":{\"color\":\"rgba(55, 128, 191, 0.5199999999999996)\",\"line\":{\"width\":1.3},\"opacity\":0.8,\"size\":12,\"symbol\":\"circle\"},\"mode\":\"markers\",\"name\":\"Chatot\",\"textfont\":{\"color\":\"#4D5663\"},\"type\":\"scatter\",\"x\":[411],\"y\":[91]},{\"marker\":{\"color\":\"rgba(55, 128, 191, 0.5099999999999996)\",\"line\":{\"width\":1.3},\"opacity\":0.8,\"size\":12,\"symbol\":\"circle\"},\"mode\":\"markers\",\"name\":\"Spiritomb\",\"textfont\":{\"color\":\"#4D5663\"},\"type\":\"scatter\",\"x\":[485],\"y\":[35]},{\"marker\":{\"color\":\"rgba(50, 171, 96, 0.5099999999999996)\",\"line\":{\"width\":1.3},\"opacity\":0.8,\"size\":12,\"symbol\":\"circle\"},\"mode\":\"markers\",\"name\":\"Gible\",\"textfont\":{\"color\":\"#4D5663\"},\"type\":\"scatter\",\"x\":[300],\"y\":[42]},{\"marker\":{\"color\":\"rgba(128, 0, 128, 0.5099999999999996)\",\"line\":{\"width\":1.3},\"opacity\":0.8,\"size\":12,\"symbol\":\"circle\"},\"mode\":\"markers\",\"name\":\"Gabite\",\"textfont\":{\"color\":\"#4D5663\"},\"type\":\"scatter\",\"x\":[410],\"y\":[82]},{\"marker\":{\"color\":\"rgba(219, 64, 82, 0.5099999999999996)\",\"line\":{\"width\":1.3},\"opacity\":0.8,\"size\":12,\"symbol\":\"circle\"},\"mode\":\"markers\",\"name\":\"Garchomp\",\"textfont\":{\"color\":\"#4D5663\"},\"type\":\"scatter\",\"x\":[600],\"y\":[102]},{\"marker\":{\"color\":\"rgba(0, 128, 128, 0.5099999999999996)\",\"line\":{\"width\":1.3},\"opacity\":0.8,\"size\":12,\"symbol\":\"circle\"},\"mode\":\"markers\",\"name\":\"GarchompMega Garchomp\",\"textfont\":{\"color\":\"#4D5663\"},\"type\":\"scatter\",\"x\":[700],\"y\":[92]},{\"marker\":{\"color\":\"rgba(255, 255, 51, 0.5099999999999996)\",\"line\":{\"width\":1.3},\"opacity\":0.8,\"size\":12,\"symbol\":\"circle\"},\"mode\":\"markers\",\"name\":\"Munchlax\",\"textfont\":{\"color\":\"#4D5663\"},\"type\":\"scatter\",\"x\":[390],\"y\":[5]},{\"marker\":{\"color\":\"rgba(128, 128, 0, 0.5099999999999996)\",\"line\":{\"width\":1.3},\"opacity\":0.8,\"size\":12,\"symbol\":\"circle\"},\"mode\":\"markers\",\"name\":\"Riolu\",\"textfont\":{\"color\":\"#4D5663\"},\"type\":\"scatter\",\"x\":[285],\"y\":[60]},{\"marker\":{\"color\":\"rgba(251, 128, 114, 0.5099999999999996)\",\"line\":{\"width\":1.3},\"opacity\":0.8,\"size\":12,\"symbol\":\"circle\"},\"mode\":\"markers\",\"name\":\"Lucario\",\"textfont\":{\"color\":\"#4D5663\"},\"type\":\"scatter\",\"x\":[525],\"y\":[90]},{\"marker\":{\"color\":\"rgba(128, 177, 211, 0.5099999999999996)\",\"line\":{\"width\":1.3},\"opacity\":0.8,\"size\":12,\"symbol\":\"circle\"},\"mode\":\"markers\",\"name\":\"LucarioMega Lucario\",\"textfont\":{\"color\":\"#4D5663\"},\"type\":\"scatter\",\"x\":[625],\"y\":[112]},{\"marker\":{\"color\":\"rgba(255, 153, 51, 0.5099999999999996)\",\"line\":{\"width\":1.3},\"opacity\":0.8,\"size\":12,\"symbol\":\"circle\"},\"mode\":\"markers\",\"name\":\"Hippopotas\",\"textfont\":{\"color\":\"#4D5663\"},\"type\":\"scatter\",\"x\":[330],\"y\":[32]},{\"marker\":{\"color\":\"rgba(255, 153, 51, 0.4999999999999996)\",\"line\":{\"width\":1.3},\"opacity\":0.8,\"size\":12,\"symbol\":\"circle\"},\"mode\":\"markers\",\"name\":\"Hippowdon\",\"textfont\":{\"color\":\"#4D5663\"},\"type\":\"scatter\",\"x\":[525],\"y\":[47]},{\"marker\":{\"color\":\"rgba(55, 128, 191, 0.4999999999999996)\",\"line\":{\"width\":1.3},\"opacity\":0.8,\"size\":12,\"symbol\":\"circle\"},\"mode\":\"markers\",\"name\":\"Skorupi\",\"textfont\":{\"color\":\"#4D5663\"},\"type\":\"scatter\",\"x\":[330],\"y\":[65]},{\"marker\":{\"color\":\"rgba(50, 171, 96, 0.4999999999999996)\",\"line\":{\"width\":1.3},\"opacity\":0.8,\"size\":12,\"symbol\":\"circle\"},\"mode\":\"markers\",\"name\":\"Drapion\",\"textfont\":{\"color\":\"#4D5663\"},\"type\":\"scatter\",\"x\":[500],\"y\":[95]},{\"marker\":{\"color\":\"rgba(128, 0, 128, 0.4999999999999996)\",\"line\":{\"width\":1.3},\"opacity\":0.8,\"size\":12,\"symbol\":\"circle\"},\"mode\":\"markers\",\"name\":\"Croagunk\",\"textfont\":{\"color\":\"#4D5663\"},\"type\":\"scatter\",\"x\":[300],\"y\":[50]},{\"marker\":{\"color\":\"rgba(219, 64, 82, 0.4999999999999996)\",\"line\":{\"width\":1.3},\"opacity\":0.8,\"size\":12,\"symbol\":\"circle\"},\"mode\":\"markers\",\"name\":\"Toxicroak\",\"textfont\":{\"color\":\"#4D5663\"},\"type\":\"scatter\",\"x\":[490],\"y\":[85]},{\"marker\":{\"color\":\"rgba(0, 128, 128, 0.4999999999999996)\",\"line\":{\"width\":1.3},\"opacity\":0.8,\"size\":12,\"symbol\":\"circle\"},\"mode\":\"markers\",\"name\":\"Carnivine\",\"textfont\":{\"color\":\"#4D5663\"},\"type\":\"scatter\",\"x\":[454],\"y\":[46]},{\"marker\":{\"color\":\"rgba(255, 255, 51, 0.4999999999999996)\",\"line\":{\"width\":1.3},\"opacity\":0.8,\"size\":12,\"symbol\":\"circle\"},\"mode\":\"markers\",\"name\":\"Finneon\",\"textfont\":{\"color\":\"#4D5663\"},\"type\":\"scatter\",\"x\":[330],\"y\":[66]},{\"marker\":{\"color\":\"rgba(128, 128, 0, 0.4999999999999996)\",\"line\":{\"width\":1.3},\"opacity\":0.8,\"size\":12,\"symbol\":\"circle\"},\"mode\":\"markers\",\"name\":\"Lumineon\",\"textfont\":{\"color\":\"#4D5663\"},\"type\":\"scatter\",\"x\":[460],\"y\":[91]},{\"marker\":{\"color\":\"rgba(251, 128, 114, 0.4999999999999996)\",\"line\":{\"width\":1.3},\"opacity\":0.8,\"size\":12,\"symbol\":\"circle\"},\"mode\":\"markers\",\"name\":\"Mantyke\",\"textfont\":{\"color\":\"#4D5663\"},\"type\":\"scatter\",\"x\":[345],\"y\":[50]},{\"marker\":{\"color\":\"rgba(128, 177, 211, 0.4999999999999996)\",\"line\":{\"width\":1.3},\"opacity\":0.8,\"size\":12,\"symbol\":\"circle\"},\"mode\":\"markers\",\"name\":\"Snover\",\"textfont\":{\"color\":\"#4D5663\"},\"type\":\"scatter\",\"x\":[334],\"y\":[40]},{\"marker\":{\"color\":\"rgba(128, 177, 211, 0.4899999999999996)\",\"line\":{\"width\":1.3},\"opacity\":0.8,\"size\":12,\"symbol\":\"circle\"},\"mode\":\"markers\",\"name\":\"Abomasnow\",\"textfont\":{\"color\":\"#4D5663\"},\"type\":\"scatter\",\"x\":[494],\"y\":[60]},{\"marker\":{\"color\":\"rgba(255, 153, 51, 0.4899999999999996)\",\"line\":{\"width\":1.3},\"opacity\":0.8,\"size\":12,\"symbol\":\"circle\"},\"mode\":\"markers\",\"name\":\"AbomasnowMega Abomasnow\",\"textfont\":{\"color\":\"#4D5663\"},\"type\":\"scatter\",\"x\":[594],\"y\":[30]},{\"marker\":{\"color\":\"rgba(55, 128, 191, 0.4899999999999996)\",\"line\":{\"width\":1.3},\"opacity\":0.8,\"size\":12,\"symbol\":\"circle\"},\"mode\":\"markers\",\"name\":\"Weavile\",\"textfont\":{\"color\":\"#4D5663\"},\"type\":\"scatter\",\"x\":[510],\"y\":[125]},{\"marker\":{\"color\":\"rgba(50, 171, 96, 0.4899999999999996)\",\"line\":{\"width\":1.3},\"opacity\":0.8,\"size\":12,\"symbol\":\"circle\"},\"mode\":\"markers\",\"name\":\"Magnezone\",\"textfont\":{\"color\":\"#4D5663\"},\"type\":\"scatter\",\"x\":[535],\"y\":[60]},{\"marker\":{\"color\":\"rgba(128, 0, 128, 0.4899999999999996)\",\"line\":{\"width\":1.3},\"opacity\":0.8,\"size\":12,\"symbol\":\"circle\"},\"mode\":\"markers\",\"name\":\"Lickilicky\",\"textfont\":{\"color\":\"#4D5663\"},\"type\":\"scatter\",\"x\":[515],\"y\":[50]},{\"marker\":{\"color\":\"rgba(219, 64, 82, 0.4899999999999996)\",\"line\":{\"width\":1.3},\"opacity\":0.8,\"size\":12,\"symbol\":\"circle\"},\"mode\":\"markers\",\"name\":\"Rhyperior\",\"textfont\":{\"color\":\"#4D5663\"},\"type\":\"scatter\",\"x\":[535],\"y\":[40]},{\"marker\":{\"color\":\"rgba(0, 128, 128, 0.4899999999999996)\",\"line\":{\"width\":1.3},\"opacity\":0.8,\"size\":12,\"symbol\":\"circle\"},\"mode\":\"markers\",\"name\":\"Tangrowth\",\"textfont\":{\"color\":\"#4D5663\"},\"type\":\"scatter\",\"x\":[535],\"y\":[50]},{\"marker\":{\"color\":\"rgba(255, 255, 51, 0.4899999999999996)\",\"line\":{\"width\":1.3},\"opacity\":0.8,\"size\":12,\"symbol\":\"circle\"},\"mode\":\"markers\",\"name\":\"Electivire\",\"textfont\":{\"color\":\"#4D5663\"},\"type\":\"scatter\",\"x\":[540],\"y\":[95]},{\"marker\":{\"color\":\"rgba(128, 128, 0, 0.4899999999999996)\",\"line\":{\"width\":1.3},\"opacity\":0.8,\"size\":12,\"symbol\":\"circle\"},\"mode\":\"markers\",\"name\":\"Magmortar\",\"textfont\":{\"color\":\"#4D5663\"},\"type\":\"scatter\",\"x\":[540],\"y\":[83]},{\"marker\":{\"color\":\"rgba(251, 128, 114, 0.4899999999999996)\",\"line\":{\"width\":1.3},\"opacity\":0.8,\"size\":12,\"symbol\":\"circle\"},\"mode\":\"markers\",\"name\":\"Togekiss\",\"textfont\":{\"color\":\"#4D5663\"},\"type\":\"scatter\",\"x\":[545],\"y\":[80]},{\"marker\":{\"color\":\"rgba(251, 128, 114, 0.4799999999999996)\",\"line\":{\"width\":1.3},\"opacity\":0.8,\"size\":12,\"symbol\":\"circle\"},\"mode\":\"markers\",\"name\":\"Yanmega\",\"textfont\":{\"color\":\"#4D5663\"},\"type\":\"scatter\",\"x\":[515],\"y\":[95]},{\"marker\":{\"color\":\"rgba(128, 177, 211, 0.4799999999999996)\",\"line\":{\"width\":1.3},\"opacity\":0.8,\"size\":12,\"symbol\":\"circle\"},\"mode\":\"markers\",\"name\":\"Leafeon\",\"textfont\":{\"color\":\"#4D5663\"},\"type\":\"scatter\",\"x\":[525],\"y\":[95]},{\"marker\":{\"color\":\"rgba(255, 153, 51, 0.4799999999999996)\",\"line\":{\"width\":1.3},\"opacity\":0.8,\"size\":12,\"symbol\":\"circle\"},\"mode\":\"markers\",\"name\":\"Glaceon\",\"textfont\":{\"color\":\"#4D5663\"},\"type\":\"scatter\",\"x\":[525],\"y\":[65]},{\"marker\":{\"color\":\"rgba(55, 128, 191, 0.4799999999999996)\",\"line\":{\"width\":1.3},\"opacity\":0.8,\"size\":12,\"symbol\":\"circle\"},\"mode\":\"markers\",\"name\":\"Gliscor\",\"textfont\":{\"color\":\"#4D5663\"},\"type\":\"scatter\",\"x\":[510],\"y\":[95]},{\"marker\":{\"color\":\"rgba(50, 171, 96, 0.4799999999999996)\",\"line\":{\"width\":1.3},\"opacity\":0.8,\"size\":12,\"symbol\":\"circle\"},\"mode\":\"markers\",\"name\":\"Mamoswine\",\"textfont\":{\"color\":\"#4D5663\"},\"type\":\"scatter\",\"x\":[530],\"y\":[80]},{\"marker\":{\"color\":\"rgba(128, 0, 128, 0.4799999999999996)\",\"line\":{\"width\":1.3},\"opacity\":0.8,\"size\":12,\"symbol\":\"circle\"},\"mode\":\"markers\",\"name\":\"Porygon-Z\",\"textfont\":{\"color\":\"#4D5663\"},\"type\":\"scatter\",\"x\":[535],\"y\":[90]},{\"marker\":{\"color\":\"rgba(219, 64, 82, 0.4799999999999996)\",\"line\":{\"width\":1.3},\"opacity\":0.8,\"size\":12,\"symbol\":\"circle\"},\"mode\":\"markers\",\"name\":\"Gallade\",\"textfont\":{\"color\":\"#4D5663\"},\"type\":\"scatter\",\"x\":[518],\"y\":[80]},{\"marker\":{\"color\":\"rgba(0, 128, 128, 0.4799999999999996)\",\"line\":{\"width\":1.3},\"opacity\":0.8,\"size\":12,\"symbol\":\"circle\"},\"mode\":\"markers\",\"name\":\"GalladeMega Gallade\",\"textfont\":{\"color\":\"#4D5663\"},\"type\":\"scatter\",\"x\":[618],\"y\":[110]},{\"marker\":{\"color\":\"rgba(255, 255, 51, 0.4799999999999996)\",\"line\":{\"width\":1.3},\"opacity\":0.8,\"size\":12,\"symbol\":\"circle\"},\"mode\":\"markers\",\"name\":\"Probopass\",\"textfont\":{\"color\":\"#4D5663\"},\"type\":\"scatter\",\"x\":[525],\"y\":[40]},{\"marker\":{\"color\":\"rgba(128, 128, 0, 0.4799999999999996)\",\"line\":{\"width\":1.3},\"opacity\":0.8,\"size\":12,\"symbol\":\"circle\"},\"mode\":\"markers\",\"name\":\"Dusknoir\",\"textfont\":{\"color\":\"#4D5663\"},\"type\":\"scatter\",\"x\":[525],\"y\":[45]},{\"marker\":{\"color\":\"rgba(128, 128, 0, 0.4699999999999996)\",\"line\":{\"width\":1.3},\"opacity\":0.8,\"size\":12,\"symbol\":\"circle\"},\"mode\":\"markers\",\"name\":\"Froslass\",\"textfont\":{\"color\":\"#4D5663\"},\"type\":\"scatter\",\"x\":[480],\"y\":[110]},{\"marker\":{\"color\":\"rgba(251, 128, 114, 0.4699999999999996)\",\"line\":{\"width\":1.3},\"opacity\":0.8,\"size\":12,\"symbol\":\"circle\"},\"mode\":\"markers\",\"name\":\"Rotom\",\"textfont\":{\"color\":\"#4D5663\"},\"type\":\"scatter\",\"x\":[440],\"y\":[91]},{\"marker\":{\"color\":\"rgba(128, 177, 211, 0.4699999999999996)\",\"line\":{\"width\":1.3},\"opacity\":0.8,\"size\":12,\"symbol\":\"circle\"},\"mode\":\"markers\",\"name\":\"RotomHeat Rotom\",\"textfont\":{\"color\":\"#4D5663\"},\"type\":\"scatter\",\"x\":[520],\"y\":[86]},{\"marker\":{\"color\":\"rgba(255, 153, 51, 0.4699999999999996)\",\"line\":{\"width\":1.3},\"opacity\":0.8,\"size\":12,\"symbol\":\"circle\"},\"mode\":\"markers\",\"name\":\"RotomWash Rotom\",\"textfont\":{\"color\":\"#4D5663\"},\"type\":\"scatter\",\"x\":[520],\"y\":[86]},{\"marker\":{\"color\":\"rgba(55, 128, 191, 0.4699999999999996)\",\"line\":{\"width\":1.3},\"opacity\":0.8,\"size\":12,\"symbol\":\"circle\"},\"mode\":\"markers\",\"name\":\"RotomFrost Rotom\",\"textfont\":{\"color\":\"#4D5663\"},\"type\":\"scatter\",\"x\":[520],\"y\":[86]},{\"marker\":{\"color\":\"rgba(50, 171, 96, 0.4699999999999996)\",\"line\":{\"width\":1.3},\"opacity\":0.8,\"size\":12,\"symbol\":\"circle\"},\"mode\":\"markers\",\"name\":\"RotomFan Rotom\",\"textfont\":{\"color\":\"#4D5663\"},\"type\":\"scatter\",\"x\":[520],\"y\":[86]},{\"marker\":{\"color\":\"rgba(128, 0, 128, 0.4699999999999996)\",\"line\":{\"width\":1.3},\"opacity\":0.8,\"size\":12,\"symbol\":\"circle\"},\"mode\":\"markers\",\"name\":\"RotomMow Rotom\",\"textfont\":{\"color\":\"#4D5663\"},\"type\":\"scatter\",\"x\":[520],\"y\":[86]},{\"marker\":{\"color\":\"rgba(219, 64, 82, 0.4699999999999996)\",\"line\":{\"width\":1.3},\"opacity\":0.8,\"size\":12,\"symbol\":\"circle\"},\"mode\":\"markers\",\"name\":\"Uxie\",\"textfont\":{\"color\":\"#4D5663\"},\"type\":\"scatter\",\"x\":[580],\"y\":[95]},{\"marker\":{\"color\":\"rgba(0, 128, 128, 0.4699999999999996)\",\"line\":{\"width\":1.3},\"opacity\":0.8,\"size\":12,\"symbol\":\"circle\"},\"mode\":\"markers\",\"name\":\"Mesprit\",\"textfont\":{\"color\":\"#4D5663\"},\"type\":\"scatter\",\"x\":[580],\"y\":[80]},{\"marker\":{\"color\":\"rgba(255, 255, 51, 0.4699999999999996)\",\"line\":{\"width\":1.3},\"opacity\":0.8,\"size\":12,\"symbol\":\"circle\"},\"mode\":\"markers\",\"name\":\"Azelf\",\"textfont\":{\"color\":\"#4D5663\"},\"type\":\"scatter\",\"x\":[580],\"y\":[115]},{\"marker\":{\"color\":\"rgba(255, 255, 51, 0.4599999999999996)\",\"line\":{\"width\":1.3},\"opacity\":0.8,\"size\":12,\"symbol\":\"circle\"},\"mode\":\"markers\",\"name\":\"Dialga\",\"textfont\":{\"color\":\"#4D5663\"},\"type\":\"scatter\",\"x\":[680],\"y\":[90]},{\"marker\":{\"color\":\"rgba(128, 128, 0, 0.4599999999999996)\",\"line\":{\"width\":1.3},\"opacity\":0.8,\"size\":12,\"symbol\":\"circle\"},\"mode\":\"markers\",\"name\":\"Palkia\",\"textfont\":{\"color\":\"#4D5663\"},\"type\":\"scatter\",\"x\":[680],\"y\":[100]},{\"marker\":{\"color\":\"rgba(251, 128, 114, 0.4599999999999996)\",\"line\":{\"width\":1.3},\"opacity\":0.8,\"size\":12,\"symbol\":\"circle\"},\"mode\":\"markers\",\"name\":\"Heatran\",\"textfont\":{\"color\":\"#4D5663\"},\"type\":\"scatter\",\"x\":[600],\"y\":[77]},{\"marker\":{\"color\":\"rgba(128, 177, 211, 0.4599999999999996)\",\"line\":{\"width\":1.3},\"opacity\":0.8,\"size\":12,\"symbol\":\"circle\"},\"mode\":\"markers\",\"name\":\"Regigigas\",\"textfont\":{\"color\":\"#4D5663\"},\"type\":\"scatter\",\"x\":[670],\"y\":[100]},{\"marker\":{\"color\":\"rgba(255, 153, 51, 0.4599999999999996)\",\"line\":{\"width\":1.3},\"opacity\":0.8,\"size\":12,\"symbol\":\"circle\"},\"mode\":\"markers\",\"name\":\"GiratinaAltered Forme\",\"textfont\":{\"color\":\"#4D5663\"},\"type\":\"scatter\",\"x\":[680],\"y\":[90]},{\"marker\":{\"color\":\"rgba(55, 128, 191, 0.4599999999999996)\",\"line\":{\"width\":1.3},\"opacity\":0.8,\"size\":12,\"symbol\":\"circle\"},\"mode\":\"markers\",\"name\":\"GiratinaOrigin Forme\",\"textfont\":{\"color\":\"#4D5663\"},\"type\":\"scatter\",\"x\":[680],\"y\":[90]},{\"marker\":{\"color\":\"rgba(50, 171, 96, 0.4599999999999996)\",\"line\":{\"width\":1.3},\"opacity\":0.8,\"size\":12,\"symbol\":\"circle\"},\"mode\":\"markers\",\"name\":\"Cresselia\",\"textfont\":{\"color\":\"#4D5663\"},\"type\":\"scatter\",\"x\":[600],\"y\":[85]},{\"marker\":{\"color\":\"rgba(128, 0, 128, 0.4599999999999996)\",\"line\":{\"width\":1.3},\"opacity\":0.8,\"size\":12,\"symbol\":\"circle\"},\"mode\":\"markers\",\"name\":\"Phione\",\"textfont\":{\"color\":\"#4D5663\"},\"type\":\"scatter\",\"x\":[480],\"y\":[80]},{\"marker\":{\"color\":\"rgba(219, 64, 82, 0.4599999999999996)\",\"line\":{\"width\":1.3},\"opacity\":0.8,\"size\":12,\"symbol\":\"circle\"},\"mode\":\"markers\",\"name\":\"Manaphy\",\"textfont\":{\"color\":\"#4D5663\"},\"type\":\"scatter\",\"x\":[600],\"y\":[100]},{\"marker\":{\"color\":\"rgba(0, 128, 128, 0.4599999999999996)\",\"line\":{\"width\":1.3},\"opacity\":0.8,\"size\":12,\"symbol\":\"circle\"},\"mode\":\"markers\",\"name\":\"Darkrai\",\"textfont\":{\"color\":\"#4D5663\"},\"type\":\"scatter\",\"x\":[600],\"y\":[125]},{\"marker\":{\"color\":\"rgba(0, 128, 128, 0.44999999999999957)\",\"line\":{\"width\":1.3},\"opacity\":0.8,\"size\":12,\"symbol\":\"circle\"},\"mode\":\"markers\",\"name\":\"ShayminLand Forme\",\"textfont\":{\"color\":\"#4D5663\"},\"type\":\"scatter\",\"x\":[600],\"y\":[100]},{\"marker\":{\"color\":\"rgba(255, 255, 51, 0.44999999999999957)\",\"line\":{\"width\":1.3},\"opacity\":0.8,\"size\":12,\"symbol\":\"circle\"},\"mode\":\"markers\",\"name\":\"ShayminSky Forme\",\"textfont\":{\"color\":\"#4D5663\"},\"type\":\"scatter\",\"x\":[600],\"y\":[127]},{\"marker\":{\"color\":\"rgba(128, 128, 0, 0.44999999999999957)\",\"line\":{\"width\":1.3},\"opacity\":0.8,\"size\":12,\"symbol\":\"circle\"},\"mode\":\"markers\",\"name\":\"Arceus\",\"textfont\":{\"color\":\"#4D5663\"},\"type\":\"scatter\",\"x\":[720],\"y\":[120]},{\"marker\":{\"color\":\"rgba(251, 128, 114, 0.44999999999999957)\",\"line\":{\"width\":1.3},\"opacity\":0.8,\"size\":12,\"symbol\":\"circle\"},\"mode\":\"markers\",\"name\":\"Victini\",\"textfont\":{\"color\":\"#4D5663\"},\"type\":\"scatter\",\"x\":[600],\"y\":[100]},{\"marker\":{\"color\":\"rgba(128, 177, 211, 0.44999999999999957)\",\"line\":{\"width\":1.3},\"opacity\":0.8,\"size\":12,\"symbol\":\"circle\"},\"mode\":\"markers\",\"name\":\"Snivy\",\"textfont\":{\"color\":\"#4D5663\"},\"type\":\"scatter\",\"x\":[308],\"y\":[63]},{\"marker\":{\"color\":\"rgba(255, 153, 51, 0.44999999999999957)\",\"line\":{\"width\":1.3},\"opacity\":0.8,\"size\":12,\"symbol\":\"circle\"},\"mode\":\"markers\",\"name\":\"Servine\",\"textfont\":{\"color\":\"#4D5663\"},\"type\":\"scatter\",\"x\":[413],\"y\":[83]},{\"marker\":{\"color\":\"rgba(55, 128, 191, 0.44999999999999957)\",\"line\":{\"width\":1.3},\"opacity\":0.8,\"size\":12,\"symbol\":\"circle\"},\"mode\":\"markers\",\"name\":\"Serperior\",\"textfont\":{\"color\":\"#4D5663\"},\"type\":\"scatter\",\"x\":[528],\"y\":[113]},{\"marker\":{\"color\":\"rgba(50, 171, 96, 0.44999999999999957)\",\"line\":{\"width\":1.3},\"opacity\":0.8,\"size\":12,\"symbol\":\"circle\"},\"mode\":\"markers\",\"name\":\"Tepig\",\"textfont\":{\"color\":\"#4D5663\"},\"type\":\"scatter\",\"x\":[308],\"y\":[45]},{\"marker\":{\"color\":\"rgba(128, 0, 128, 0.44999999999999957)\",\"line\":{\"width\":1.3},\"opacity\":0.8,\"size\":12,\"symbol\":\"circle\"},\"mode\":\"markers\",\"name\":\"Pignite\",\"textfont\":{\"color\":\"#4D5663\"},\"type\":\"scatter\",\"x\":[418],\"y\":[55]},{\"marker\":{\"color\":\"rgba(219, 64, 82, 0.44999999999999957)\",\"line\":{\"width\":1.3},\"opacity\":0.8,\"size\":12,\"symbol\":\"circle\"},\"mode\":\"markers\",\"name\":\"Emboar\",\"textfont\":{\"color\":\"#4D5663\"},\"type\":\"scatter\",\"x\":[528],\"y\":[65]},{\"marker\":{\"color\":\"rgba(219, 64, 82, 0.43999999999999956)\",\"line\":{\"width\":1.3},\"opacity\":0.8,\"size\":12,\"symbol\":\"circle\"},\"mode\":\"markers\",\"name\":\"Oshawott\",\"textfont\":{\"color\":\"#4D5663\"},\"type\":\"scatter\",\"x\":[308],\"y\":[45]},{\"marker\":{\"color\":\"rgba(0, 128, 128, 0.43999999999999956)\",\"line\":{\"width\":1.3},\"opacity\":0.8,\"size\":12,\"symbol\":\"circle\"},\"mode\":\"markers\",\"name\":\"Dewott\",\"textfont\":{\"color\":\"#4D5663\"},\"type\":\"scatter\",\"x\":[413],\"y\":[60]},{\"marker\":{\"color\":\"rgba(255, 255, 51, 0.43999999999999956)\",\"line\":{\"width\":1.3},\"opacity\":0.8,\"size\":12,\"symbol\":\"circle\"},\"mode\":\"markers\",\"name\":\"Samurott\",\"textfont\":{\"color\":\"#4D5663\"},\"type\":\"scatter\",\"x\":[528],\"y\":[70]},{\"marker\":{\"color\":\"rgba(128, 128, 0, 0.43999999999999956)\",\"line\":{\"width\":1.3},\"opacity\":0.8,\"size\":12,\"symbol\":\"circle\"},\"mode\":\"markers\",\"name\":\"Patrat\",\"textfont\":{\"color\":\"#4D5663\"},\"type\":\"scatter\",\"x\":[255],\"y\":[42]},{\"marker\":{\"color\":\"rgba(251, 128, 114, 0.43999999999999956)\",\"line\":{\"width\":1.3},\"opacity\":0.8,\"size\":12,\"symbol\":\"circle\"},\"mode\":\"markers\",\"name\":\"Watchog\",\"textfont\":{\"color\":\"#4D5663\"},\"type\":\"scatter\",\"x\":[420],\"y\":[77]},{\"marker\":{\"color\":\"rgba(128, 177, 211, 0.43999999999999956)\",\"line\":{\"width\":1.3},\"opacity\":0.8,\"size\":12,\"symbol\":\"circle\"},\"mode\":\"markers\",\"name\":\"Lillipup\",\"textfont\":{\"color\":\"#4D5663\"},\"type\":\"scatter\",\"x\":[275],\"y\":[55]},{\"marker\":{\"color\":\"rgba(255, 153, 51, 0.43999999999999956)\",\"line\":{\"width\":1.3},\"opacity\":0.8,\"size\":12,\"symbol\":\"circle\"},\"mode\":\"markers\",\"name\":\"Herdier\",\"textfont\":{\"color\":\"#4D5663\"},\"type\":\"scatter\",\"x\":[370],\"y\":[60]},{\"marker\":{\"color\":\"rgba(55, 128, 191, 0.43999999999999956)\",\"line\":{\"width\":1.3},\"opacity\":0.8,\"size\":12,\"symbol\":\"circle\"},\"mode\":\"markers\",\"name\":\"Stoutland\",\"textfont\":{\"color\":\"#4D5663\"},\"type\":\"scatter\",\"x\":[500],\"y\":[80]},{\"marker\":{\"color\":\"rgba(50, 171, 96, 0.43999999999999956)\",\"line\":{\"width\":1.3},\"opacity\":0.8,\"size\":12,\"symbol\":\"circle\"},\"mode\":\"markers\",\"name\":\"Purrloin\",\"textfont\":{\"color\":\"#4D5663\"},\"type\":\"scatter\",\"x\":[281],\"y\":[66]},{\"marker\":{\"color\":\"rgba(128, 0, 128, 0.43999999999999956)\",\"line\":{\"width\":1.3},\"opacity\":0.8,\"size\":12,\"symbol\":\"circle\"},\"mode\":\"markers\",\"name\":\"Liepard\",\"textfont\":{\"color\":\"#4D5663\"},\"type\":\"scatter\",\"x\":[446],\"y\":[106]},{\"marker\":{\"color\":\"rgba(128, 0, 128, 0.42999999999999955)\",\"line\":{\"width\":1.3},\"opacity\":0.8,\"size\":12,\"symbol\":\"circle\"},\"mode\":\"markers\",\"name\":\"Pansage\",\"textfont\":{\"color\":\"#4D5663\"},\"type\":\"scatter\",\"x\":[316],\"y\":[64]},{\"marker\":{\"color\":\"rgba(219, 64, 82, 0.42999999999999955)\",\"line\":{\"width\":1.3},\"opacity\":0.8,\"size\":12,\"symbol\":\"circle\"},\"mode\":\"markers\",\"name\":\"Simisage\",\"textfont\":{\"color\":\"#4D5663\"},\"type\":\"scatter\",\"x\":[498],\"y\":[101]},{\"marker\":{\"color\":\"rgba(0, 128, 128, 0.42999999999999955)\",\"line\":{\"width\":1.3},\"opacity\":0.8,\"size\":12,\"symbol\":\"circle\"},\"mode\":\"markers\",\"name\":\"Pansear\",\"textfont\":{\"color\":\"#4D5663\"},\"type\":\"scatter\",\"x\":[316],\"y\":[64]},{\"marker\":{\"color\":\"rgba(255, 255, 51, 0.42999999999999955)\",\"line\":{\"width\":1.3},\"opacity\":0.8,\"size\":12,\"symbol\":\"circle\"},\"mode\":\"markers\",\"name\":\"Simisear\",\"textfont\":{\"color\":\"#4D5663\"},\"type\":\"scatter\",\"x\":[498],\"y\":[101]},{\"marker\":{\"color\":\"rgba(128, 128, 0, 0.42999999999999955)\",\"line\":{\"width\":1.3},\"opacity\":0.8,\"size\":12,\"symbol\":\"circle\"},\"mode\":\"markers\",\"name\":\"Panpour\",\"textfont\":{\"color\":\"#4D5663\"},\"type\":\"scatter\",\"x\":[316],\"y\":[64]},{\"marker\":{\"color\":\"rgba(251, 128, 114, 0.42999999999999955)\",\"line\":{\"width\":1.3},\"opacity\":0.8,\"size\":12,\"symbol\":\"circle\"},\"mode\":\"markers\",\"name\":\"Simipour\",\"textfont\":{\"color\":\"#4D5663\"},\"type\":\"scatter\",\"x\":[498],\"y\":[101]},{\"marker\":{\"color\":\"rgba(128, 177, 211, 0.42999999999999955)\",\"line\":{\"width\":1.3},\"opacity\":0.8,\"size\":12,\"symbol\":\"circle\"},\"mode\":\"markers\",\"name\":\"Munna\",\"textfont\":{\"color\":\"#4D5663\"},\"type\":\"scatter\",\"x\":[292],\"y\":[24]},{\"marker\":{\"color\":\"rgba(255, 153, 51, 0.42999999999999955)\",\"line\":{\"width\":1.3},\"opacity\":0.8,\"size\":12,\"symbol\":\"circle\"},\"mode\":\"markers\",\"name\":\"Musharna\",\"textfont\":{\"color\":\"#4D5663\"},\"type\":\"scatter\",\"x\":[487],\"y\":[29]},{\"marker\":{\"color\":\"rgba(55, 128, 191, 0.42999999999999955)\",\"line\":{\"width\":1.3},\"opacity\":0.8,\"size\":12,\"symbol\":\"circle\"},\"mode\":\"markers\",\"name\":\"Pidove\",\"textfont\":{\"color\":\"#4D5663\"},\"type\":\"scatter\",\"x\":[264],\"y\":[43]},{\"marker\":{\"color\":\"rgba(50, 171, 96, 0.42999999999999955)\",\"line\":{\"width\":1.3},\"opacity\":0.8,\"size\":12,\"symbol\":\"circle\"},\"mode\":\"markers\",\"name\":\"Tranquill\",\"textfont\":{\"color\":\"#4D5663\"},\"type\":\"scatter\",\"x\":[358],\"y\":[65]},{\"marker\":{\"color\":\"rgba(50, 171, 96, 0.41999999999999954)\",\"line\":{\"width\":1.3},\"opacity\":0.8,\"size\":12,\"symbol\":\"circle\"},\"mode\":\"markers\",\"name\":\"Unfezant\",\"textfont\":{\"color\":\"#4D5663\"},\"type\":\"scatter\",\"x\":[488],\"y\":[93]},{\"marker\":{\"color\":\"rgba(128, 0, 128, 0.41999999999999954)\",\"line\":{\"width\":1.3},\"opacity\":0.8,\"size\":12,\"symbol\":\"circle\"},\"mode\":\"markers\",\"name\":\"Blitzle\",\"textfont\":{\"color\":\"#4D5663\"},\"type\":\"scatter\",\"x\":[295],\"y\":[76]},{\"marker\":{\"color\":\"rgba(219, 64, 82, 0.41999999999999954)\",\"line\":{\"width\":1.3},\"opacity\":0.8,\"size\":12,\"symbol\":\"circle\"},\"mode\":\"markers\",\"name\":\"Zebstrika\",\"textfont\":{\"color\":\"#4D5663\"},\"type\":\"scatter\",\"x\":[497],\"y\":[116]},{\"marker\":{\"color\":\"rgba(0, 128, 128, 0.41999999999999954)\",\"line\":{\"width\":1.3},\"opacity\":0.8,\"size\":12,\"symbol\":\"circle\"},\"mode\":\"markers\",\"name\":\"Roggenrola\",\"textfont\":{\"color\":\"#4D5663\"},\"type\":\"scatter\",\"x\":[280],\"y\":[15]},{\"marker\":{\"color\":\"rgba(255, 255, 51, 0.41999999999999954)\",\"line\":{\"width\":1.3},\"opacity\":0.8,\"size\":12,\"symbol\":\"circle\"},\"mode\":\"markers\",\"name\":\"Boldore\",\"textfont\":{\"color\":\"#4D5663\"},\"type\":\"scatter\",\"x\":[390],\"y\":[20]},{\"marker\":{\"color\":\"rgba(128, 128, 0, 0.41999999999999954)\",\"line\":{\"width\":1.3},\"opacity\":0.8,\"size\":12,\"symbol\":\"circle\"},\"mode\":\"markers\",\"name\":\"Gigalith\",\"textfont\":{\"color\":\"#4D5663\"},\"type\":\"scatter\",\"x\":[515],\"y\":[25]},{\"marker\":{\"color\":\"rgba(251, 128, 114, 0.41999999999999954)\",\"line\":{\"width\":1.3},\"opacity\":0.8,\"size\":12,\"symbol\":\"circle\"},\"mode\":\"markers\",\"name\":\"Woobat\",\"textfont\":{\"color\":\"#4D5663\"},\"type\":\"scatter\",\"x\":[313],\"y\":[72]},{\"marker\":{\"color\":\"rgba(128, 177, 211, 0.41999999999999954)\",\"line\":{\"width\":1.3},\"opacity\":0.8,\"size\":12,\"symbol\":\"circle\"},\"mode\":\"markers\",\"name\":\"Swoobat\",\"textfont\":{\"color\":\"#4D5663\"},\"type\":\"scatter\",\"x\":[425],\"y\":[114]},{\"marker\":{\"color\":\"rgba(255, 153, 51, 0.41999999999999954)\",\"line\":{\"width\":1.3},\"opacity\":0.8,\"size\":12,\"symbol\":\"circle\"},\"mode\":\"markers\",\"name\":\"Drilbur\",\"textfont\":{\"color\":\"#4D5663\"},\"type\":\"scatter\",\"x\":[328],\"y\":[68]},{\"marker\":{\"color\":\"rgba(55, 128, 191, 0.41999999999999954)\",\"line\":{\"width\":1.3},\"opacity\":0.8,\"size\":12,\"symbol\":\"circle\"},\"mode\":\"markers\",\"name\":\"Excadrill\",\"textfont\":{\"color\":\"#4D5663\"},\"type\":\"scatter\",\"x\":[508],\"y\":[88]},{\"marker\":{\"color\":\"rgba(55, 128, 191, 0.40999999999999953)\",\"line\":{\"width\":1.3},\"opacity\":0.8,\"size\":12,\"symbol\":\"circle\"},\"mode\":\"markers\",\"name\":\"Audino\",\"textfont\":{\"color\":\"#4D5663\"},\"type\":\"scatter\",\"x\":[445],\"y\":[50]},{\"marker\":{\"color\":\"rgba(50, 171, 96, 0.40999999999999953)\",\"line\":{\"width\":1.3},\"opacity\":0.8,\"size\":12,\"symbol\":\"circle\"},\"mode\":\"markers\",\"name\":\"AudinoMega Audino\",\"textfont\":{\"color\":\"#4D5663\"},\"type\":\"scatter\",\"x\":[545],\"y\":[50]},{\"marker\":{\"color\":\"rgba(128, 0, 128, 0.40999999999999953)\",\"line\":{\"width\":1.3},\"opacity\":0.8,\"size\":12,\"symbol\":\"circle\"},\"mode\":\"markers\",\"name\":\"Timburr\",\"textfont\":{\"color\":\"#4D5663\"},\"type\":\"scatter\",\"x\":[305],\"y\":[35]},{\"marker\":{\"color\":\"rgba(219, 64, 82, 0.40999999999999953)\",\"line\":{\"width\":1.3},\"opacity\":0.8,\"size\":12,\"symbol\":\"circle\"},\"mode\":\"markers\",\"name\":\"Gurdurr\",\"textfont\":{\"color\":\"#4D5663\"},\"type\":\"scatter\",\"x\":[405],\"y\":[40]},{\"marker\":{\"color\":\"rgba(0, 128, 128, 0.40999999999999953)\",\"line\":{\"width\":1.3},\"opacity\":0.8,\"size\":12,\"symbol\":\"circle\"},\"mode\":\"markers\",\"name\":\"Conkeldurr\",\"textfont\":{\"color\":\"#4D5663\"},\"type\":\"scatter\",\"x\":[505],\"y\":[45]},{\"marker\":{\"color\":\"rgba(255, 255, 51, 0.40999999999999953)\",\"line\":{\"width\":1.3},\"opacity\":0.8,\"size\":12,\"symbol\":\"circle\"},\"mode\":\"markers\",\"name\":\"Tympole\",\"textfont\":{\"color\":\"#4D5663\"},\"type\":\"scatter\",\"x\":[294],\"y\":[64]},{\"marker\":{\"color\":\"rgba(128, 128, 0, 0.40999999999999953)\",\"line\":{\"width\":1.3},\"opacity\":0.8,\"size\":12,\"symbol\":\"circle\"},\"mode\":\"markers\",\"name\":\"Palpitoad\",\"textfont\":{\"color\":\"#4D5663\"},\"type\":\"scatter\",\"x\":[384],\"y\":[69]},{\"marker\":{\"color\":\"rgba(251, 128, 114, 0.40999999999999953)\",\"line\":{\"width\":1.3},\"opacity\":0.8,\"size\":12,\"symbol\":\"circle\"},\"mode\":\"markers\",\"name\":\"Seismitoad\",\"textfont\":{\"color\":\"#4D5663\"},\"type\":\"scatter\",\"x\":[509],\"y\":[74]},{\"marker\":{\"color\":\"rgba(128, 177, 211, 0.40999999999999953)\",\"line\":{\"width\":1.3},\"opacity\":0.8,\"size\":12,\"symbol\":\"circle\"},\"mode\":\"markers\",\"name\":\"Throh\",\"textfont\":{\"color\":\"#4D5663\"},\"type\":\"scatter\",\"x\":[465],\"y\":[45]},{\"marker\":{\"color\":\"rgba(255, 153, 51, 0.40999999999999953)\",\"line\":{\"width\":1.3},\"opacity\":0.8,\"size\":12,\"symbol\":\"circle\"},\"mode\":\"markers\",\"name\":\"Sawk\",\"textfont\":{\"color\":\"#4D5663\"},\"type\":\"scatter\",\"x\":[465],\"y\":[85]},{\"marker\":{\"color\":\"rgba(255, 153, 51, 0.3999999999999995)\",\"line\":{\"width\":1.3},\"opacity\":0.8,\"size\":12,\"symbol\":\"circle\"},\"mode\":\"markers\",\"name\":\"Sewaddle\",\"textfont\":{\"color\":\"#4D5663\"},\"type\":\"scatter\",\"x\":[310],\"y\":[42]},{\"marker\":{\"color\":\"rgba(55, 128, 191, 0.3999999999999995)\",\"line\":{\"width\":1.3},\"opacity\":0.8,\"size\":12,\"symbol\":\"circle\"},\"mode\":\"markers\",\"name\":\"Swadloon\",\"textfont\":{\"color\":\"#4D5663\"},\"type\":\"scatter\",\"x\":[380],\"y\":[42]},{\"marker\":{\"color\":\"rgba(50, 171, 96, 0.3999999999999995)\",\"line\":{\"width\":1.3},\"opacity\":0.8,\"size\":12,\"symbol\":\"circle\"},\"mode\":\"markers\",\"name\":\"Leavanny\",\"textfont\":{\"color\":\"#4D5663\"},\"type\":\"scatter\",\"x\":[500],\"y\":[92]},{\"marker\":{\"color\":\"rgba(128, 0, 128, 0.3999999999999995)\",\"line\":{\"width\":1.3},\"opacity\":0.8,\"size\":12,\"symbol\":\"circle\"},\"mode\":\"markers\",\"name\":\"Venipede\",\"textfont\":{\"color\":\"#4D5663\"},\"type\":\"scatter\",\"x\":[260],\"y\":[57]},{\"marker\":{\"color\":\"rgba(219, 64, 82, 0.3999999999999995)\",\"line\":{\"width\":1.3},\"opacity\":0.8,\"size\":12,\"symbol\":\"circle\"},\"mode\":\"markers\",\"name\":\"Whirlipede\",\"textfont\":{\"color\":\"#4D5663\"},\"type\":\"scatter\",\"x\":[360],\"y\":[47]},{\"marker\":{\"color\":\"rgba(0, 128, 128, 0.3999999999999995)\",\"line\":{\"width\":1.3},\"opacity\":0.8,\"size\":12,\"symbol\":\"circle\"},\"mode\":\"markers\",\"name\":\"Scolipede\",\"textfont\":{\"color\":\"#4D5663\"},\"type\":\"scatter\",\"x\":[485],\"y\":[112]},{\"marker\":{\"color\":\"rgba(255, 255, 51, 0.3999999999999995)\",\"line\":{\"width\":1.3},\"opacity\":0.8,\"size\":12,\"symbol\":\"circle\"},\"mode\":\"markers\",\"name\":\"Cottonee\",\"textfont\":{\"color\":\"#4D5663\"},\"type\":\"scatter\",\"x\":[280],\"y\":[66]},{\"marker\":{\"color\":\"rgba(128, 128, 0, 0.3999999999999995)\",\"line\":{\"width\":1.3},\"opacity\":0.8,\"size\":12,\"symbol\":\"circle\"},\"mode\":\"markers\",\"name\":\"Whimsicott\",\"textfont\":{\"color\":\"#4D5663\"},\"type\":\"scatter\",\"x\":[480],\"y\":[116]},{\"marker\":{\"color\":\"rgba(251, 128, 114, 0.3999999999999995)\",\"line\":{\"width\":1.3},\"opacity\":0.8,\"size\":12,\"symbol\":\"circle\"},\"mode\":\"markers\",\"name\":\"Petilil\",\"textfont\":{\"color\":\"#4D5663\"},\"type\":\"scatter\",\"x\":[280],\"y\":[30]},{\"marker\":{\"color\":\"rgba(128, 177, 211, 0.3999999999999995)\",\"line\":{\"width\":1.3},\"opacity\":0.8,\"size\":12,\"symbol\":\"circle\"},\"mode\":\"markers\",\"name\":\"Lilligant\",\"textfont\":{\"color\":\"#4D5663\"},\"type\":\"scatter\",\"x\":[480],\"y\":[90]},{\"marker\":{\"color\":\"rgba(128, 177, 211, 0.3899999999999995)\",\"line\":{\"width\":1.3},\"opacity\":0.8,\"size\":12,\"symbol\":\"circle\"},\"mode\":\"markers\",\"name\":\"Basculin\",\"textfont\":{\"color\":\"#4D5663\"},\"type\":\"scatter\",\"x\":[460],\"y\":[98]},{\"marker\":{\"color\":\"rgba(255, 153, 51, 0.3899999999999995)\",\"line\":{\"width\":1.3},\"opacity\":0.8,\"size\":12,\"symbol\":\"circle\"},\"mode\":\"markers\",\"name\":\"Sandile\",\"textfont\":{\"color\":\"#4D5663\"},\"type\":\"scatter\",\"x\":[292],\"y\":[65]},{\"marker\":{\"color\":\"rgba(55, 128, 191, 0.3899999999999995)\",\"line\":{\"width\":1.3},\"opacity\":0.8,\"size\":12,\"symbol\":\"circle\"},\"mode\":\"markers\",\"name\":\"Krokorok\",\"textfont\":{\"color\":\"#4D5663\"},\"type\":\"scatter\",\"x\":[351],\"y\":[74]},{\"marker\":{\"color\":\"rgba(50, 171, 96, 0.3899999999999995)\",\"line\":{\"width\":1.3},\"opacity\":0.8,\"size\":12,\"symbol\":\"circle\"},\"mode\":\"markers\",\"name\":\"Krookodile\",\"textfont\":{\"color\":\"#4D5663\"},\"type\":\"scatter\",\"x\":[519],\"y\":[92]},{\"marker\":{\"color\":\"rgba(128, 0, 128, 0.3899999999999995)\",\"line\":{\"width\":1.3},\"opacity\":0.8,\"size\":12,\"symbol\":\"circle\"},\"mode\":\"markers\",\"name\":\"Darumaka\",\"textfont\":{\"color\":\"#4D5663\"},\"type\":\"scatter\",\"x\":[315],\"y\":[50]},{\"marker\":{\"color\":\"rgba(219, 64, 82, 0.3899999999999995)\",\"line\":{\"width\":1.3},\"opacity\":0.8,\"size\":12,\"symbol\":\"circle\"},\"mode\":\"markers\",\"name\":\"DarmanitanStandard Mode\",\"textfont\":{\"color\":\"#4D5663\"},\"type\":\"scatter\",\"x\":[480],\"y\":[95]},{\"marker\":{\"color\":\"rgba(0, 128, 128, 0.3899999999999995)\",\"line\":{\"width\":1.3},\"opacity\":0.8,\"size\":12,\"symbol\":\"circle\"},\"mode\":\"markers\",\"name\":\"DarmanitanZen Mode\",\"textfont\":{\"color\":\"#4D5663\"},\"type\":\"scatter\",\"x\":[540],\"y\":[55]},{\"marker\":{\"color\":\"rgba(255, 255, 51, 0.3899999999999995)\",\"line\":{\"width\":1.3},\"opacity\":0.8,\"size\":12,\"symbol\":\"circle\"},\"mode\":\"markers\",\"name\":\"Maractus\",\"textfont\":{\"color\":\"#4D5663\"},\"type\":\"scatter\",\"x\":[461],\"y\":[60]},{\"marker\":{\"color\":\"rgba(128, 128, 0, 0.3899999999999995)\",\"line\":{\"width\":1.3},\"opacity\":0.8,\"size\":12,\"symbol\":\"circle\"},\"mode\":\"markers\",\"name\":\"Dwebble\",\"textfont\":{\"color\":\"#4D5663\"},\"type\":\"scatter\",\"x\":[325],\"y\":[55]},{\"marker\":{\"color\":\"rgba(251, 128, 114, 0.3899999999999995)\",\"line\":{\"width\":1.3},\"opacity\":0.8,\"size\":12,\"symbol\":\"circle\"},\"mode\":\"markers\",\"name\":\"Crustle\",\"textfont\":{\"color\":\"#4D5663\"},\"type\":\"scatter\",\"x\":[475],\"y\":[45]},{\"marker\":{\"color\":\"rgba(251, 128, 114, 0.3799999999999995)\",\"line\":{\"width\":1.3},\"opacity\":0.8,\"size\":12,\"symbol\":\"circle\"},\"mode\":\"markers\",\"name\":\"Scraggy\",\"textfont\":{\"color\":\"#4D5663\"},\"type\":\"scatter\",\"x\":[348],\"y\":[48]},{\"marker\":{\"color\":\"rgba(128, 177, 211, 0.3799999999999995)\",\"line\":{\"width\":1.3},\"opacity\":0.8,\"size\":12,\"symbol\":\"circle\"},\"mode\":\"markers\",\"name\":\"Scrafty\",\"textfont\":{\"color\":\"#4D5663\"},\"type\":\"scatter\",\"x\":[488],\"y\":[58]},{\"marker\":{\"color\":\"rgba(255, 153, 51, 0.3799999999999995)\",\"line\":{\"width\":1.3},\"opacity\":0.8,\"size\":12,\"symbol\":\"circle\"},\"mode\":\"markers\",\"name\":\"Sigilyph\",\"textfont\":{\"color\":\"#4D5663\"},\"type\":\"scatter\",\"x\":[490],\"y\":[97]},{\"marker\":{\"color\":\"rgba(55, 128, 191, 0.3799999999999995)\",\"line\":{\"width\":1.3},\"opacity\":0.8,\"size\":12,\"symbol\":\"circle\"},\"mode\":\"markers\",\"name\":\"Yamask\",\"textfont\":{\"color\":\"#4D5663\"},\"type\":\"scatter\",\"x\":[303],\"y\":[30]},{\"marker\":{\"color\":\"rgba(50, 171, 96, 0.3799999999999995)\",\"line\":{\"width\":1.3},\"opacity\":0.8,\"size\":12,\"symbol\":\"circle\"},\"mode\":\"markers\",\"name\":\"Cofagrigus\",\"textfont\":{\"color\":\"#4D5663\"},\"type\":\"scatter\",\"x\":[483],\"y\":[30]},{\"marker\":{\"color\":\"rgba(128, 0, 128, 0.3799999999999995)\",\"line\":{\"width\":1.3},\"opacity\":0.8,\"size\":12,\"symbol\":\"circle\"},\"mode\":\"markers\",\"name\":\"Tirtouga\",\"textfont\":{\"color\":\"#4D5663\"},\"type\":\"scatter\",\"x\":[355],\"y\":[22]},{\"marker\":{\"color\":\"rgba(219, 64, 82, 0.3799999999999995)\",\"line\":{\"width\":1.3},\"opacity\":0.8,\"size\":12,\"symbol\":\"circle\"},\"mode\":\"markers\",\"name\":\"Carracosta\",\"textfont\":{\"color\":\"#4D5663\"},\"type\":\"scatter\",\"x\":[495],\"y\":[32]},{\"marker\":{\"color\":\"rgba(0, 128, 128, 0.3799999999999995)\",\"line\":{\"width\":1.3},\"opacity\":0.8,\"size\":12,\"symbol\":\"circle\"},\"mode\":\"markers\",\"name\":\"Archen\",\"textfont\":{\"color\":\"#4D5663\"},\"type\":\"scatter\",\"x\":[401],\"y\":[70]},{\"marker\":{\"color\":\"rgba(255, 255, 51, 0.3799999999999995)\",\"line\":{\"width\":1.3},\"opacity\":0.8,\"size\":12,\"symbol\":\"circle\"},\"mode\":\"markers\",\"name\":\"Archeops\",\"textfont\":{\"color\":\"#4D5663\"},\"type\":\"scatter\",\"x\":[567],\"y\":[110]},{\"marker\":{\"color\":\"rgba(128, 128, 0, 0.3799999999999995)\",\"line\":{\"width\":1.3},\"opacity\":0.8,\"size\":12,\"symbol\":\"circle\"},\"mode\":\"markers\",\"name\":\"Trubbish\",\"textfont\":{\"color\":\"#4D5663\"},\"type\":\"scatter\",\"x\":[329],\"y\":[65]},{\"marker\":{\"color\":\"rgba(128, 128, 0, 0.3699999999999995)\",\"line\":{\"width\":1.3},\"opacity\":0.8,\"size\":12,\"symbol\":\"circle\"},\"mode\":\"markers\",\"name\":\"Garbodor\",\"textfont\":{\"color\":\"#4D5663\"},\"type\":\"scatter\",\"x\":[474],\"y\":[75]},{\"marker\":{\"color\":\"rgba(251, 128, 114, 0.3699999999999995)\",\"line\":{\"width\":1.3},\"opacity\":0.8,\"size\":12,\"symbol\":\"circle\"},\"mode\":\"markers\",\"name\":\"Zorua\",\"textfont\":{\"color\":\"#4D5663\"},\"type\":\"scatter\",\"x\":[330],\"y\":[65]},{\"marker\":{\"color\":\"rgba(128, 177, 211, 0.3699999999999995)\",\"line\":{\"width\":1.3},\"opacity\":0.8,\"size\":12,\"symbol\":\"circle\"},\"mode\":\"markers\",\"name\":\"Zoroark\",\"textfont\":{\"color\":\"#4D5663\"},\"type\":\"scatter\",\"x\":[510],\"y\":[105]},{\"marker\":{\"color\":\"rgba(255, 153, 51, 0.3699999999999995)\",\"line\":{\"width\":1.3},\"opacity\":0.8,\"size\":12,\"symbol\":\"circle\"},\"mode\":\"markers\",\"name\":\"Minccino\",\"textfont\":{\"color\":\"#4D5663\"},\"type\":\"scatter\",\"x\":[300],\"y\":[75]},{\"marker\":{\"color\":\"rgba(55, 128, 191, 0.3699999999999995)\",\"line\":{\"width\":1.3},\"opacity\":0.8,\"size\":12,\"symbol\":\"circle\"},\"mode\":\"markers\",\"name\":\"Cinccino\",\"textfont\":{\"color\":\"#4D5663\"},\"type\":\"scatter\",\"x\":[470],\"y\":[115]},{\"marker\":{\"color\":\"rgba(50, 171, 96, 0.3699999999999995)\",\"line\":{\"width\":1.3},\"opacity\":0.8,\"size\":12,\"symbol\":\"circle\"},\"mode\":\"markers\",\"name\":\"Gothita\",\"textfont\":{\"color\":\"#4D5663\"},\"type\":\"scatter\",\"x\":[290],\"y\":[45]},{\"marker\":{\"color\":\"rgba(128, 0, 128, 0.3699999999999995)\",\"line\":{\"width\":1.3},\"opacity\":0.8,\"size\":12,\"symbol\":\"circle\"},\"mode\":\"markers\",\"name\":\"Gothorita\",\"textfont\":{\"color\":\"#4D5663\"},\"type\":\"scatter\",\"x\":[390],\"y\":[55]},{\"marker\":{\"color\":\"rgba(219, 64, 82, 0.3699999999999995)\",\"line\":{\"width\":1.3},\"opacity\":0.8,\"size\":12,\"symbol\":\"circle\"},\"mode\":\"markers\",\"name\":\"Gothitelle\",\"textfont\":{\"color\":\"#4D5663\"},\"type\":\"scatter\",\"x\":[490],\"y\":[65]},{\"marker\":{\"color\":\"rgba(0, 128, 128, 0.3699999999999995)\",\"line\":{\"width\":1.3},\"opacity\":0.8,\"size\":12,\"symbol\":\"circle\"},\"mode\":\"markers\",\"name\":\"Solosis\",\"textfont\":{\"color\":\"#4D5663\"},\"type\":\"scatter\",\"x\":[290],\"y\":[20]},{\"marker\":{\"color\":\"rgba(255, 255, 51, 0.3699999999999995)\",\"line\":{\"width\":1.3},\"opacity\":0.8,\"size\":12,\"symbol\":\"circle\"},\"mode\":\"markers\",\"name\":\"Duosion\",\"textfont\":{\"color\":\"#4D5663\"},\"type\":\"scatter\",\"x\":[370],\"y\":[30]},{\"marker\":{\"color\":\"rgba(255, 255, 51, 0.3599999999999995)\",\"line\":{\"width\":1.3},\"opacity\":0.8,\"size\":12,\"symbol\":\"circle\"},\"mode\":\"markers\",\"name\":\"Reuniclus\",\"textfont\":{\"color\":\"#4D5663\"},\"type\":\"scatter\",\"x\":[490],\"y\":[30]},{\"marker\":{\"color\":\"rgba(128, 128, 0, 0.3599999999999995)\",\"line\":{\"width\":1.3},\"opacity\":0.8,\"size\":12,\"symbol\":\"circle\"},\"mode\":\"markers\",\"name\":\"Ducklett\",\"textfont\":{\"color\":\"#4D5663\"},\"type\":\"scatter\",\"x\":[305],\"y\":[55]},{\"marker\":{\"color\":\"rgba(251, 128, 114, 0.3599999999999995)\",\"line\":{\"width\":1.3},\"opacity\":0.8,\"size\":12,\"symbol\":\"circle\"},\"mode\":\"markers\",\"name\":\"Swanna\",\"textfont\":{\"color\":\"#4D5663\"},\"type\":\"scatter\",\"x\":[473],\"y\":[98]},{\"marker\":{\"color\":\"rgba(128, 177, 211, 0.3599999999999995)\",\"line\":{\"width\":1.3},\"opacity\":0.8,\"size\":12,\"symbol\":\"circle\"},\"mode\":\"markers\",\"name\":\"Vanillite\",\"textfont\":{\"color\":\"#4D5663\"},\"type\":\"scatter\",\"x\":[305],\"y\":[44]},{\"marker\":{\"color\":\"rgba(255, 153, 51, 0.3599999999999995)\",\"line\":{\"width\":1.3},\"opacity\":0.8,\"size\":12,\"symbol\":\"circle\"},\"mode\":\"markers\",\"name\":\"Vanillish\",\"textfont\":{\"color\":\"#4D5663\"},\"type\":\"scatter\",\"x\":[395],\"y\":[59]},{\"marker\":{\"color\":\"rgba(55, 128, 191, 0.3599999999999995)\",\"line\":{\"width\":1.3},\"opacity\":0.8,\"size\":12,\"symbol\":\"circle\"},\"mode\":\"markers\",\"name\":\"Vanilluxe\",\"textfont\":{\"color\":\"#4D5663\"},\"type\":\"scatter\",\"x\":[535],\"y\":[79]},{\"marker\":{\"color\":\"rgba(50, 171, 96, 0.3599999999999995)\",\"line\":{\"width\":1.3},\"opacity\":0.8,\"size\":12,\"symbol\":\"circle\"},\"mode\":\"markers\",\"name\":\"Deerling\",\"textfont\":{\"color\":\"#4D5663\"},\"type\":\"scatter\",\"x\":[335],\"y\":[75]},{\"marker\":{\"color\":\"rgba(128, 0, 128, 0.3599999999999995)\",\"line\":{\"width\":1.3},\"opacity\":0.8,\"size\":12,\"symbol\":\"circle\"},\"mode\":\"markers\",\"name\":\"Sawsbuck\",\"textfont\":{\"color\":\"#4D5663\"},\"type\":\"scatter\",\"x\":[475],\"y\":[95]},{\"marker\":{\"color\":\"rgba(219, 64, 82, 0.3599999999999995)\",\"line\":{\"width\":1.3},\"opacity\":0.8,\"size\":12,\"symbol\":\"circle\"},\"mode\":\"markers\",\"name\":\"Emolga\",\"textfont\":{\"color\":\"#4D5663\"},\"type\":\"scatter\",\"x\":[428],\"y\":[103]},{\"marker\":{\"color\":\"rgba(0, 128, 128, 0.3599999999999995)\",\"line\":{\"width\":1.3},\"opacity\":0.8,\"size\":12,\"symbol\":\"circle\"},\"mode\":\"markers\",\"name\":\"Karrablast\",\"textfont\":{\"color\":\"#4D5663\"},\"type\":\"scatter\",\"x\":[315],\"y\":[60]},{\"marker\":{\"color\":\"rgba(0, 128, 128, 0.3499999999999995)\",\"line\":{\"width\":1.3},\"opacity\":0.8,\"size\":12,\"symbol\":\"circle\"},\"mode\":\"markers\",\"name\":\"Escavalier\",\"textfont\":{\"color\":\"#4D5663\"},\"type\":\"scatter\",\"x\":[495],\"y\":[20]},{\"marker\":{\"color\":\"rgba(255, 255, 51, 0.3499999999999995)\",\"line\":{\"width\":1.3},\"opacity\":0.8,\"size\":12,\"symbol\":\"circle\"},\"mode\":\"markers\",\"name\":\"Foongus\",\"textfont\":{\"color\":\"#4D5663\"},\"type\":\"scatter\",\"x\":[294],\"y\":[15]},{\"marker\":{\"color\":\"rgba(128, 128, 0, 0.3499999999999995)\",\"line\":{\"width\":1.3},\"opacity\":0.8,\"size\":12,\"symbol\":\"circle\"},\"mode\":\"markers\",\"name\":\"Amoonguss\",\"textfont\":{\"color\":\"#4D5663\"},\"type\":\"scatter\",\"x\":[464],\"y\":[30]},{\"marker\":{\"color\":\"rgba(251, 128, 114, 0.3499999999999995)\",\"line\":{\"width\":1.3},\"opacity\":0.8,\"size\":12,\"symbol\":\"circle\"},\"mode\":\"markers\",\"name\":\"Frillish\",\"textfont\":{\"color\":\"#4D5663\"},\"type\":\"scatter\",\"x\":[335],\"y\":[40]},{\"marker\":{\"color\":\"rgba(128, 177, 211, 0.3499999999999995)\",\"line\":{\"width\":1.3},\"opacity\":0.8,\"size\":12,\"symbol\":\"circle\"},\"mode\":\"markers\",\"name\":\"Jellicent\",\"textfont\":{\"color\":\"#4D5663\"},\"type\":\"scatter\",\"x\":[480],\"y\":[60]},{\"marker\":{\"color\":\"rgba(255, 153, 51, 0.3499999999999995)\",\"line\":{\"width\":1.3},\"opacity\":0.8,\"size\":12,\"symbol\":\"circle\"},\"mode\":\"markers\",\"name\":\"Alomomola\",\"textfont\":{\"color\":\"#4D5663\"},\"type\":\"scatter\",\"x\":[470],\"y\":[65]},{\"marker\":{\"color\":\"rgba(55, 128, 191, 0.3499999999999995)\",\"line\":{\"width\":1.3},\"opacity\":0.8,\"size\":12,\"symbol\":\"circle\"},\"mode\":\"markers\",\"name\":\"Joltik\",\"textfont\":{\"color\":\"#4D5663\"},\"type\":\"scatter\",\"x\":[319],\"y\":[65]},{\"marker\":{\"color\":\"rgba(50, 171, 96, 0.3499999999999995)\",\"line\":{\"width\":1.3},\"opacity\":0.8,\"size\":12,\"symbol\":\"circle\"},\"mode\":\"markers\",\"name\":\"Galvantula\",\"textfont\":{\"color\":\"#4D5663\"},\"type\":\"scatter\",\"x\":[472],\"y\":[108]},{\"marker\":{\"color\":\"rgba(128, 0, 128, 0.3499999999999995)\",\"line\":{\"width\":1.3},\"opacity\":0.8,\"size\":12,\"symbol\":\"circle\"},\"mode\":\"markers\",\"name\":\"Ferroseed\",\"textfont\":{\"color\":\"#4D5663\"},\"type\":\"scatter\",\"x\":[305],\"y\":[10]},{\"marker\":{\"color\":\"rgba(219, 64, 82, 0.3499999999999995)\",\"line\":{\"width\":1.3},\"opacity\":0.8,\"size\":12,\"symbol\":\"circle\"},\"mode\":\"markers\",\"name\":\"Ferrothorn\",\"textfont\":{\"color\":\"#4D5663\"},\"type\":\"scatter\",\"x\":[489],\"y\":[20]},{\"marker\":{\"color\":\"rgba(219, 64, 82, 0.33999999999999947)\",\"line\":{\"width\":1.3},\"opacity\":0.8,\"size\":12,\"symbol\":\"circle\"},\"mode\":\"markers\",\"name\":\"Klink\",\"textfont\":{\"color\":\"#4D5663\"},\"type\":\"scatter\",\"x\":[300],\"y\":[30]},{\"marker\":{\"color\":\"rgba(0, 128, 128, 0.33999999999999947)\",\"line\":{\"width\":1.3},\"opacity\":0.8,\"size\":12,\"symbol\":\"circle\"},\"mode\":\"markers\",\"name\":\"Klang\",\"textfont\":{\"color\":\"#4D5663\"},\"type\":\"scatter\",\"x\":[440],\"y\":[50]},{\"marker\":{\"color\":\"rgba(255, 255, 51, 0.33999999999999947)\",\"line\":{\"width\":1.3},\"opacity\":0.8,\"size\":12,\"symbol\":\"circle\"},\"mode\":\"markers\",\"name\":\"Klinklang\",\"textfont\":{\"color\":\"#4D5663\"},\"type\":\"scatter\",\"x\":[520],\"y\":[90]},{\"marker\":{\"color\":\"rgba(128, 128, 0, 0.33999999999999947)\",\"line\":{\"width\":1.3},\"opacity\":0.8,\"size\":12,\"symbol\":\"circle\"},\"mode\":\"markers\",\"name\":\"Tynamo\",\"textfont\":{\"color\":\"#4D5663\"},\"type\":\"scatter\",\"x\":[275],\"y\":[60]},{\"marker\":{\"color\":\"rgba(251, 128, 114, 0.33999999999999947)\",\"line\":{\"width\":1.3},\"opacity\":0.8,\"size\":12,\"symbol\":\"circle\"},\"mode\":\"markers\",\"name\":\"Eelektrik\",\"textfont\":{\"color\":\"#4D5663\"},\"type\":\"scatter\",\"x\":[405],\"y\":[40]},{\"marker\":{\"color\":\"rgba(128, 177, 211, 0.33999999999999947)\",\"line\":{\"width\":1.3},\"opacity\":0.8,\"size\":12,\"symbol\":\"circle\"},\"mode\":\"markers\",\"name\":\"Eelektross\",\"textfont\":{\"color\":\"#4D5663\"},\"type\":\"scatter\",\"x\":[515],\"y\":[50]},{\"marker\":{\"color\":\"rgba(255, 153, 51, 0.33999999999999947)\",\"line\":{\"width\":1.3},\"opacity\":0.8,\"size\":12,\"symbol\":\"circle\"},\"mode\":\"markers\",\"name\":\"Elgyem\",\"textfont\":{\"color\":\"#4D5663\"},\"type\":\"scatter\",\"x\":[335],\"y\":[30]},{\"marker\":{\"color\":\"rgba(55, 128, 191, 0.33999999999999947)\",\"line\":{\"width\":1.3},\"opacity\":0.8,\"size\":12,\"symbol\":\"circle\"},\"mode\":\"markers\",\"name\":\"Beheeyem\",\"textfont\":{\"color\":\"#4D5663\"},\"type\":\"scatter\",\"x\":[485],\"y\":[40]},{\"marker\":{\"color\":\"rgba(50, 171, 96, 0.33999999999999947)\",\"line\":{\"width\":1.3},\"opacity\":0.8,\"size\":12,\"symbol\":\"circle\"},\"mode\":\"markers\",\"name\":\"Litwick\",\"textfont\":{\"color\":\"#4D5663\"},\"type\":\"scatter\",\"x\":[275],\"y\":[20]},{\"marker\":{\"color\":\"rgba(128, 0, 128, 0.33999999999999947)\",\"line\":{\"width\":1.3},\"opacity\":0.8,\"size\":12,\"symbol\":\"circle\"},\"mode\":\"markers\",\"name\":\"Lampent\",\"textfont\":{\"color\":\"#4D5663\"},\"type\":\"scatter\",\"x\":[370],\"y\":[55]},{\"marker\":{\"color\":\"rgba(128, 0, 128, 0.32999999999999946)\",\"line\":{\"width\":1.3},\"opacity\":0.8,\"size\":12,\"symbol\":\"circle\"},\"mode\":\"markers\",\"name\":\"Chandelure\",\"textfont\":{\"color\":\"#4D5663\"},\"type\":\"scatter\",\"x\":[520],\"y\":[80]},{\"marker\":{\"color\":\"rgba(219, 64, 82, 0.32999999999999946)\",\"line\":{\"width\":1.3},\"opacity\":0.8,\"size\":12,\"symbol\":\"circle\"},\"mode\":\"markers\",\"name\":\"Axew\",\"textfont\":{\"color\":\"#4D5663\"},\"type\":\"scatter\",\"x\":[320],\"y\":[57]},{\"marker\":{\"color\":\"rgba(0, 128, 128, 0.32999999999999946)\",\"line\":{\"width\":1.3},\"opacity\":0.8,\"size\":12,\"symbol\":\"circle\"},\"mode\":\"markers\",\"name\":\"Fraxure\",\"textfont\":{\"color\":\"#4D5663\"},\"type\":\"scatter\",\"x\":[410],\"y\":[67]},{\"marker\":{\"color\":\"rgba(255, 255, 51, 0.32999999999999946)\",\"line\":{\"width\":1.3},\"opacity\":0.8,\"size\":12,\"symbol\":\"circle\"},\"mode\":\"markers\",\"name\":\"Haxorus\",\"textfont\":{\"color\":\"#4D5663\"},\"type\":\"scatter\",\"x\":[540],\"y\":[97]},{\"marker\":{\"color\":\"rgba(128, 128, 0, 0.32999999999999946)\",\"line\":{\"width\":1.3},\"opacity\":0.8,\"size\":12,\"symbol\":\"circle\"},\"mode\":\"markers\",\"name\":\"Cubchoo\",\"textfont\":{\"color\":\"#4D5663\"},\"type\":\"scatter\",\"x\":[305],\"y\":[40]},{\"marker\":{\"color\":\"rgba(251, 128, 114, 0.32999999999999946)\",\"line\":{\"width\":1.3},\"opacity\":0.8,\"size\":12,\"symbol\":\"circle\"},\"mode\":\"markers\",\"name\":\"Beartic\",\"textfont\":{\"color\":\"#4D5663\"},\"type\":\"scatter\",\"x\":[485],\"y\":[50]},{\"marker\":{\"color\":\"rgba(128, 177, 211, 0.32999999999999946)\",\"line\":{\"width\":1.3},\"opacity\":0.8,\"size\":12,\"symbol\":\"circle\"},\"mode\":\"markers\",\"name\":\"Cryogonal\",\"textfont\":{\"color\":\"#4D5663\"},\"type\":\"scatter\",\"x\":[485],\"y\":[105]},{\"marker\":{\"color\":\"rgba(255, 153, 51, 0.32999999999999946)\",\"line\":{\"width\":1.3},\"opacity\":0.8,\"size\":12,\"symbol\":\"circle\"},\"mode\":\"markers\",\"name\":\"Shelmet\",\"textfont\":{\"color\":\"#4D5663\"},\"type\":\"scatter\",\"x\":[305],\"y\":[25]},{\"marker\":{\"color\":\"rgba(55, 128, 191, 0.32999999999999946)\",\"line\":{\"width\":1.3},\"opacity\":0.8,\"size\":12,\"symbol\":\"circle\"},\"mode\":\"markers\",\"name\":\"Accelgor\",\"textfont\":{\"color\":\"#4D5663\"},\"type\":\"scatter\",\"x\":[495],\"y\":[145]},{\"marker\":{\"color\":\"rgba(50, 171, 96, 0.32999999999999946)\",\"line\":{\"width\":1.3},\"opacity\":0.8,\"size\":12,\"symbol\":\"circle\"},\"mode\":\"markers\",\"name\":\"Stunfisk\",\"textfont\":{\"color\":\"#4D5663\"},\"type\":\"scatter\",\"x\":[471],\"y\":[32]},{\"marker\":{\"color\":\"rgba(50, 171, 96, 0.31999999999999945)\",\"line\":{\"width\":1.3},\"opacity\":0.8,\"size\":12,\"symbol\":\"circle\"},\"mode\":\"markers\",\"name\":\"Mienfoo\",\"textfont\":{\"color\":\"#4D5663\"},\"type\":\"scatter\",\"x\":[350],\"y\":[65]},{\"marker\":{\"color\":\"rgba(128, 0, 128, 0.31999999999999945)\",\"line\":{\"width\":1.3},\"opacity\":0.8,\"size\":12,\"symbol\":\"circle\"},\"mode\":\"markers\",\"name\":\"Mienshao\",\"textfont\":{\"color\":\"#4D5663\"},\"type\":\"scatter\",\"x\":[510],\"y\":[105]},{\"marker\":{\"color\":\"rgba(219, 64, 82, 0.31999999999999945)\",\"line\":{\"width\":1.3},\"opacity\":0.8,\"size\":12,\"symbol\":\"circle\"},\"mode\":\"markers\",\"name\":\"Druddigon\",\"textfont\":{\"color\":\"#4D5663\"},\"type\":\"scatter\",\"x\":[485],\"y\":[48]},{\"marker\":{\"color\":\"rgba(0, 128, 128, 0.31999999999999945)\",\"line\":{\"width\":1.3},\"opacity\":0.8,\"size\":12,\"symbol\":\"circle\"},\"mode\":\"markers\",\"name\":\"Golett\",\"textfont\":{\"color\":\"#4D5663\"},\"type\":\"scatter\",\"x\":[303],\"y\":[35]},{\"marker\":{\"color\":\"rgba(255, 255, 51, 0.31999999999999945)\",\"line\":{\"width\":1.3},\"opacity\":0.8,\"size\":12,\"symbol\":\"circle\"},\"mode\":\"markers\",\"name\":\"Golurk\",\"textfont\":{\"color\":\"#4D5663\"},\"type\":\"scatter\",\"x\":[483],\"y\":[55]},{\"marker\":{\"color\":\"rgba(128, 128, 0, 0.31999999999999945)\",\"line\":{\"width\":1.3},\"opacity\":0.8,\"size\":12,\"symbol\":\"circle\"},\"mode\":\"markers\",\"name\":\"Pawniard\",\"textfont\":{\"color\":\"#4D5663\"},\"type\":\"scatter\",\"x\":[340],\"y\":[60]},{\"marker\":{\"color\":\"rgba(251, 128, 114, 0.31999999999999945)\",\"line\":{\"width\":1.3},\"opacity\":0.8,\"size\":12,\"symbol\":\"circle\"},\"mode\":\"markers\",\"name\":\"Bisharp\",\"textfont\":{\"color\":\"#4D5663\"},\"type\":\"scatter\",\"x\":[490],\"y\":[70]},{\"marker\":{\"color\":\"rgba(128, 177, 211, 0.31999999999999945)\",\"line\":{\"width\":1.3},\"opacity\":0.8,\"size\":12,\"symbol\":\"circle\"},\"mode\":\"markers\",\"name\":\"Bouffalant\",\"textfont\":{\"color\":\"#4D5663\"},\"type\":\"scatter\",\"x\":[490],\"y\":[55]},{\"marker\":{\"color\":\"rgba(255, 153, 51, 0.31999999999999945)\",\"line\":{\"width\":1.3},\"opacity\":0.8,\"size\":12,\"symbol\":\"circle\"},\"mode\":\"markers\",\"name\":\"Rufflet\",\"textfont\":{\"color\":\"#4D5663\"},\"type\":\"scatter\",\"x\":[350],\"y\":[60]},{\"marker\":{\"color\":\"rgba(55, 128, 191, 0.31999999999999945)\",\"line\":{\"width\":1.3},\"opacity\":0.8,\"size\":12,\"symbol\":\"circle\"},\"mode\":\"markers\",\"name\":\"Braviary\",\"textfont\":{\"color\":\"#4D5663\"},\"type\":\"scatter\",\"x\":[510],\"y\":[80]},{\"marker\":{\"color\":\"rgba(55, 128, 191, 0.30999999999999944)\",\"line\":{\"width\":1.3},\"opacity\":0.8,\"size\":12,\"symbol\":\"circle\"},\"mode\":\"markers\",\"name\":\"Vullaby\",\"textfont\":{\"color\":\"#4D5663\"},\"type\":\"scatter\",\"x\":[370],\"y\":[60]},{\"marker\":{\"color\":\"rgba(50, 171, 96, 0.30999999999999944)\",\"line\":{\"width\":1.3},\"opacity\":0.8,\"size\":12,\"symbol\":\"circle\"},\"mode\":\"markers\",\"name\":\"Mandibuzz\",\"textfont\":{\"color\":\"#4D5663\"},\"type\":\"scatter\",\"x\":[510],\"y\":[80]},{\"marker\":{\"color\":\"rgba(128, 0, 128, 0.30999999999999944)\",\"line\":{\"width\":1.3},\"opacity\":0.8,\"size\":12,\"symbol\":\"circle\"},\"mode\":\"markers\",\"name\":\"Heatmor\",\"textfont\":{\"color\":\"#4D5663\"},\"type\":\"scatter\",\"x\":[484],\"y\":[65]},{\"marker\":{\"color\":\"rgba(219, 64, 82, 0.30999999999999944)\",\"line\":{\"width\":1.3},\"opacity\":0.8,\"size\":12,\"symbol\":\"circle\"},\"mode\":\"markers\",\"name\":\"Durant\",\"textfont\":{\"color\":\"#4D5663\"},\"type\":\"scatter\",\"x\":[484],\"y\":[109]},{\"marker\":{\"color\":\"rgba(0, 128, 128, 0.30999999999999944)\",\"line\":{\"width\":1.3},\"opacity\":0.8,\"size\":12,\"symbol\":\"circle\"},\"mode\":\"markers\",\"name\":\"Deino\",\"textfont\":{\"color\":\"#4D5663\"},\"type\":\"scatter\",\"x\":[300],\"y\":[38]},{\"marker\":{\"color\":\"rgba(255, 255, 51, 0.30999999999999944)\",\"line\":{\"width\":1.3},\"opacity\":0.8,\"size\":12,\"symbol\":\"circle\"},\"mode\":\"markers\",\"name\":\"Zweilous\",\"textfont\":{\"color\":\"#4D5663\"},\"type\":\"scatter\",\"x\":[420],\"y\":[58]},{\"marker\":{\"color\":\"rgba(128, 128, 0, 0.30999999999999944)\",\"line\":{\"width\":1.3},\"opacity\":0.8,\"size\":12,\"symbol\":\"circle\"},\"mode\":\"markers\",\"name\":\"Hydreigon\",\"textfont\":{\"color\":\"#4D5663\"},\"type\":\"scatter\",\"x\":[600],\"y\":[98]},{\"marker\":{\"color\":\"rgba(251, 128, 114, 0.30999999999999944)\",\"line\":{\"width\":1.3},\"opacity\":0.8,\"size\":12,\"symbol\":\"circle\"},\"mode\":\"markers\",\"name\":\"Larvesta\",\"textfont\":{\"color\":\"#4D5663\"},\"type\":\"scatter\",\"x\":[360],\"y\":[60]},{\"marker\":{\"color\":\"rgba(128, 177, 211, 0.30999999999999944)\",\"line\":{\"width\":1.3},\"opacity\":0.8,\"size\":12,\"symbol\":\"circle\"},\"mode\":\"markers\",\"name\":\"Volcarona\",\"textfont\":{\"color\":\"#4D5663\"},\"type\":\"scatter\",\"x\":[550],\"y\":[100]},{\"marker\":{\"color\":\"rgba(255, 153, 51, 0.30999999999999944)\",\"line\":{\"width\":1.3},\"opacity\":0.8,\"size\":12,\"symbol\":\"circle\"},\"mode\":\"markers\",\"name\":\"Cobalion\",\"textfont\":{\"color\":\"#4D5663\"},\"type\":\"scatter\",\"x\":[580],\"y\":[108]},{\"marker\":{\"color\":\"rgba(255, 153, 51, 0.29999999999999943)\",\"line\":{\"width\":1.3},\"opacity\":0.8,\"size\":12,\"symbol\":\"circle\"},\"mode\":\"markers\",\"name\":\"Terrakion\",\"textfont\":{\"color\":\"#4D5663\"},\"type\":\"scatter\",\"x\":[580],\"y\":[108]},{\"marker\":{\"color\":\"rgba(55, 128, 191, 0.29999999999999943)\",\"line\":{\"width\":1.3},\"opacity\":0.8,\"size\":12,\"symbol\":\"circle\"},\"mode\":\"markers\",\"name\":\"Virizion\",\"textfont\":{\"color\":\"#4D5663\"},\"type\":\"scatter\",\"x\":[580],\"y\":[108]},{\"marker\":{\"color\":\"rgba(50, 171, 96, 0.29999999999999943)\",\"line\":{\"width\":1.3},\"opacity\":0.8,\"size\":12,\"symbol\":\"circle\"},\"mode\":\"markers\",\"name\":\"TornadusIncarnate Forme\",\"textfont\":{\"color\":\"#4D5663\"},\"type\":\"scatter\",\"x\":[580],\"y\":[111]},{\"marker\":{\"color\":\"rgba(128, 0, 128, 0.29999999999999943)\",\"line\":{\"width\":1.3},\"opacity\":0.8,\"size\":12,\"symbol\":\"circle\"},\"mode\":\"markers\",\"name\":\"TornadusTherian Forme\",\"textfont\":{\"color\":\"#4D5663\"},\"type\":\"scatter\",\"x\":[580],\"y\":[121]},{\"marker\":{\"color\":\"rgba(219, 64, 82, 0.29999999999999943)\",\"line\":{\"width\":1.3},\"opacity\":0.8,\"size\":12,\"symbol\":\"circle\"},\"mode\":\"markers\",\"name\":\"ThundurusIncarnate Forme\",\"textfont\":{\"color\":\"#4D5663\"},\"type\":\"scatter\",\"x\":[580],\"y\":[111]},{\"marker\":{\"color\":\"rgba(0, 128, 128, 0.29999999999999943)\",\"line\":{\"width\":1.3},\"opacity\":0.8,\"size\":12,\"symbol\":\"circle\"},\"mode\":\"markers\",\"name\":\"ThundurusTherian Forme\",\"textfont\":{\"color\":\"#4D5663\"},\"type\":\"scatter\",\"x\":[580],\"y\":[101]},{\"marker\":{\"color\":\"rgba(255, 255, 51, 0.29999999999999943)\",\"line\":{\"width\":1.3},\"opacity\":0.8,\"size\":12,\"symbol\":\"circle\"},\"mode\":\"markers\",\"name\":\"Reshiram\",\"textfont\":{\"color\":\"#4D5663\"},\"type\":\"scatter\",\"x\":[680],\"y\":[90]},{\"marker\":{\"color\":\"rgba(128, 128, 0, 0.29999999999999943)\",\"line\":{\"width\":1.3},\"opacity\":0.8,\"size\":12,\"symbol\":\"circle\"},\"mode\":\"markers\",\"name\":\"Zekrom\",\"textfont\":{\"color\":\"#4D5663\"},\"type\":\"scatter\",\"x\":[680],\"y\":[90]},{\"marker\":{\"color\":\"rgba(251, 128, 114, 0.29999999999999943)\",\"line\":{\"width\":1.3},\"opacity\":0.8,\"size\":12,\"symbol\":\"circle\"},\"mode\":\"markers\",\"name\":\"LandorusIncarnate Forme\",\"textfont\":{\"color\":\"#4D5663\"},\"type\":\"scatter\",\"x\":[600],\"y\":[101]},{\"marker\":{\"color\":\"rgba(128, 177, 211, 0.29999999999999943)\",\"line\":{\"width\":1.3},\"opacity\":0.8,\"size\":12,\"symbol\":\"circle\"},\"mode\":\"markers\",\"name\":\"LandorusTherian Forme\",\"textfont\":{\"color\":\"#4D5663\"},\"type\":\"scatter\",\"x\":[600],\"y\":[91]},{\"marker\":{\"color\":\"rgba(128, 177, 211, 0.2899999999999994)\",\"line\":{\"width\":1.3},\"opacity\":0.8,\"size\":12,\"symbol\":\"circle\"},\"mode\":\"markers\",\"name\":\"Kyurem\",\"textfont\":{\"color\":\"#4D5663\"},\"type\":\"scatter\",\"x\":[660],\"y\":[95]},{\"marker\":{\"color\":\"rgba(255, 153, 51, 0.2899999999999994)\",\"line\":{\"width\":1.3},\"opacity\":0.8,\"size\":12,\"symbol\":\"circle\"},\"mode\":\"markers\",\"name\":\"KyuremBlack Kyurem\",\"textfont\":{\"color\":\"#4D5663\"},\"type\":\"scatter\",\"x\":[700],\"y\":[95]},{\"marker\":{\"color\":\"rgba(55, 128, 191, 0.2899999999999994)\",\"line\":{\"width\":1.3},\"opacity\":0.8,\"size\":12,\"symbol\":\"circle\"},\"mode\":\"markers\",\"name\":\"KyuremWhite Kyurem\",\"textfont\":{\"color\":\"#4D5663\"},\"type\":\"scatter\",\"x\":[700],\"y\":[95]},{\"marker\":{\"color\":\"rgba(50, 171, 96, 0.2899999999999994)\",\"line\":{\"width\":1.3},\"opacity\":0.8,\"size\":12,\"symbol\":\"circle\"},\"mode\":\"markers\",\"name\":\"KeldeoOrdinary Forme\",\"textfont\":{\"color\":\"#4D5663\"},\"type\":\"scatter\",\"x\":[580],\"y\":[108]},{\"marker\":{\"color\":\"rgba(128, 0, 128, 0.2899999999999994)\",\"line\":{\"width\":1.3},\"opacity\":0.8,\"size\":12,\"symbol\":\"circle\"},\"mode\":\"markers\",\"name\":\"KeldeoResolute Forme\",\"textfont\":{\"color\":\"#4D5663\"},\"type\":\"scatter\",\"x\":[580],\"y\":[108]},{\"marker\":{\"color\":\"rgba(219, 64, 82, 0.2899999999999994)\",\"line\":{\"width\":1.3},\"opacity\":0.8,\"size\":12,\"symbol\":\"circle\"},\"mode\":\"markers\",\"name\":\"MeloettaAria Forme\",\"textfont\":{\"color\":\"#4D5663\"},\"type\":\"scatter\",\"x\":[600],\"y\":[90]},{\"marker\":{\"color\":\"rgba(0, 128, 128, 0.2899999999999994)\",\"line\":{\"width\":1.3},\"opacity\":0.8,\"size\":12,\"symbol\":\"circle\"},\"mode\":\"markers\",\"name\":\"MeloettaPirouette Forme\",\"textfont\":{\"color\":\"#4D5663\"},\"type\":\"scatter\",\"x\":[600],\"y\":[128]},{\"marker\":{\"color\":\"rgba(255, 255, 51, 0.2899999999999994)\",\"line\":{\"width\":1.3},\"opacity\":0.8,\"size\":12,\"symbol\":\"circle\"},\"mode\":\"markers\",\"name\":\"Genesect\",\"textfont\":{\"color\":\"#4D5663\"},\"type\":\"scatter\",\"x\":[600],\"y\":[99]},{\"marker\":{\"color\":\"rgba(128, 128, 0, 0.2899999999999994)\",\"line\":{\"width\":1.3},\"opacity\":0.8,\"size\":12,\"symbol\":\"circle\"},\"mode\":\"markers\",\"name\":\"Chespin\",\"textfont\":{\"color\":\"#4D5663\"},\"type\":\"scatter\",\"x\":[313],\"y\":[38]},{\"marker\":{\"color\":\"rgba(251, 128, 114, 0.2899999999999994)\",\"line\":{\"width\":1.3},\"opacity\":0.8,\"size\":12,\"symbol\":\"circle\"},\"mode\":\"markers\",\"name\":\"Quilladin\",\"textfont\":{\"color\":\"#4D5663\"},\"type\":\"scatter\",\"x\":[405],\"y\":[57]},{\"marker\":{\"color\":\"rgba(251, 128, 114, 0.2799999999999994)\",\"line\":{\"width\":1.3},\"opacity\":0.8,\"size\":12,\"symbol\":\"circle\"},\"mode\":\"markers\",\"name\":\"Chesnaught\",\"textfont\":{\"color\":\"#4D5663\"},\"type\":\"scatter\",\"x\":[530],\"y\":[64]},{\"marker\":{\"color\":\"rgba(128, 177, 211, 0.2799999999999994)\",\"line\":{\"width\":1.3},\"opacity\":0.8,\"size\":12,\"symbol\":\"circle\"},\"mode\":\"markers\",\"name\":\"Fennekin\",\"textfont\":{\"color\":\"#4D5663\"},\"type\":\"scatter\",\"x\":[307],\"y\":[60]},{\"marker\":{\"color\":\"rgba(255, 153, 51, 0.2799999999999994)\",\"line\":{\"width\":1.3},\"opacity\":0.8,\"size\":12,\"symbol\":\"circle\"},\"mode\":\"markers\",\"name\":\"Braixen\",\"textfont\":{\"color\":\"#4D5663\"},\"type\":\"scatter\",\"x\":[409],\"y\":[73]},{\"marker\":{\"color\":\"rgba(55, 128, 191, 0.2799999999999994)\",\"line\":{\"width\":1.3},\"opacity\":0.8,\"size\":12,\"symbol\":\"circle\"},\"mode\":\"markers\",\"name\":\"Delphox\",\"textfont\":{\"color\":\"#4D5663\"},\"type\":\"scatter\",\"x\":[534],\"y\":[104]},{\"marker\":{\"color\":\"rgba(50, 171, 96, 0.2799999999999994)\",\"line\":{\"width\":1.3},\"opacity\":0.8,\"size\":12,\"symbol\":\"circle\"},\"mode\":\"markers\",\"name\":\"Froakie\",\"textfont\":{\"color\":\"#4D5663\"},\"type\":\"scatter\",\"x\":[314],\"y\":[71]},{\"marker\":{\"color\":\"rgba(128, 0, 128, 0.2799999999999994)\",\"line\":{\"width\":1.3},\"opacity\":0.8,\"size\":12,\"symbol\":\"circle\"},\"mode\":\"markers\",\"name\":\"Frogadier\",\"textfont\":{\"color\":\"#4D5663\"},\"type\":\"scatter\",\"x\":[405],\"y\":[97]},{\"marker\":{\"color\":\"rgba(219, 64, 82, 0.2799999999999994)\",\"line\":{\"width\":1.3},\"opacity\":0.8,\"size\":12,\"symbol\":\"circle\"},\"mode\":\"markers\",\"name\":\"Greninja\",\"textfont\":{\"color\":\"#4D5663\"},\"type\":\"scatter\",\"x\":[530],\"y\":[122]},{\"marker\":{\"color\":\"rgba(0, 128, 128, 0.2799999999999994)\",\"line\":{\"width\":1.3},\"opacity\":0.8,\"size\":12,\"symbol\":\"circle\"},\"mode\":\"markers\",\"name\":\"Bunnelby\",\"textfont\":{\"color\":\"#4D5663\"},\"type\":\"scatter\",\"x\":[237],\"y\":[57]},{\"marker\":{\"color\":\"rgba(255, 255, 51, 0.2799999999999994)\",\"line\":{\"width\":1.3},\"opacity\":0.8,\"size\":12,\"symbol\":\"circle\"},\"mode\":\"markers\",\"name\":\"Diggersby\",\"textfont\":{\"color\":\"#4D5663\"},\"type\":\"scatter\",\"x\":[423],\"y\":[78]},{\"marker\":{\"color\":\"rgba(128, 128, 0, 0.2799999999999994)\",\"line\":{\"width\":1.3},\"opacity\":0.8,\"size\":12,\"symbol\":\"circle\"},\"mode\":\"markers\",\"name\":\"Fletchling\",\"textfont\":{\"color\":\"#4D5663\"},\"type\":\"scatter\",\"x\":[278],\"y\":[62]},{\"marker\":{\"color\":\"rgba(128, 128, 0, 0.2699999999999994)\",\"line\":{\"width\":1.3},\"opacity\":0.8,\"size\":12,\"symbol\":\"circle\"},\"mode\":\"markers\",\"name\":\"Fletchinder\",\"textfont\":{\"color\":\"#4D5663\"},\"type\":\"scatter\",\"x\":[382],\"y\":[84]},{\"marker\":{\"color\":\"rgba(251, 128, 114, 0.2699999999999994)\",\"line\":{\"width\":1.3},\"opacity\":0.8,\"size\":12,\"symbol\":\"circle\"},\"mode\":\"markers\",\"name\":\"Talonflame\",\"textfont\":{\"color\":\"#4D5663\"},\"type\":\"scatter\",\"x\":[499],\"y\":[126]},{\"marker\":{\"color\":\"rgba(128, 177, 211, 0.2699999999999994)\",\"line\":{\"width\":1.3},\"opacity\":0.8,\"size\":12,\"symbol\":\"circle\"},\"mode\":\"markers\",\"name\":\"Scatterbug\",\"textfont\":{\"color\":\"#4D5663\"},\"type\":\"scatter\",\"x\":[200],\"y\":[35]},{\"marker\":{\"color\":\"rgba(255, 153, 51, 0.2699999999999994)\",\"line\":{\"width\":1.3},\"opacity\":0.8,\"size\":12,\"symbol\":\"circle\"},\"mode\":\"markers\",\"name\":\"Spewpa\",\"textfont\":{\"color\":\"#4D5663\"},\"type\":\"scatter\",\"x\":[213],\"y\":[29]},{\"marker\":{\"color\":\"rgba(55, 128, 191, 0.2699999999999994)\",\"line\":{\"width\":1.3},\"opacity\":0.8,\"size\":12,\"symbol\":\"circle\"},\"mode\":\"markers\",\"name\":\"Vivillon\",\"textfont\":{\"color\":\"#4D5663\"},\"type\":\"scatter\",\"x\":[411],\"y\":[89]},{\"marker\":{\"color\":\"rgba(50, 171, 96, 0.2699999999999994)\",\"line\":{\"width\":1.3},\"opacity\":0.8,\"size\":12,\"symbol\":\"circle\"},\"mode\":\"markers\",\"name\":\"Litleo\",\"textfont\":{\"color\":\"#4D5663\"},\"type\":\"scatter\",\"x\":[369],\"y\":[72]},{\"marker\":{\"color\":\"rgba(128, 0, 128, 0.2699999999999994)\",\"line\":{\"width\":1.3},\"opacity\":0.8,\"size\":12,\"symbol\":\"circle\"},\"mode\":\"markers\",\"name\":\"Pyroar\",\"textfont\":{\"color\":\"#4D5663\"},\"type\":\"scatter\",\"x\":[507],\"y\":[106]},{\"marker\":{\"color\":\"rgba(219, 64, 82, 0.2699999999999994)\",\"line\":{\"width\":1.3},\"opacity\":0.8,\"size\":12,\"symbol\":\"circle\"},\"mode\":\"markers\",\"name\":\"Flab\\u00e9b\\u00e9\",\"textfont\":{\"color\":\"#4D5663\"},\"type\":\"scatter\",\"x\":[303],\"y\":[42]},{\"marker\":{\"color\":\"rgba(0, 128, 128, 0.2699999999999994)\",\"line\":{\"width\":1.3},\"opacity\":0.8,\"size\":12,\"symbol\":\"circle\"},\"mode\":\"markers\",\"name\":\"Floette\",\"textfont\":{\"color\":\"#4D5663\"},\"type\":\"scatter\",\"x\":[371],\"y\":[52]},{\"marker\":{\"color\":\"rgba(255, 255, 51, 0.2699999999999994)\",\"line\":{\"width\":1.3},\"opacity\":0.8,\"size\":12,\"symbol\":\"circle\"},\"mode\":\"markers\",\"name\":\"Florges\",\"textfont\":{\"color\":\"#4D5663\"},\"type\":\"scatter\",\"x\":[552],\"y\":[75]},{\"marker\":{\"color\":\"rgba(255, 255, 51, 0.2599999999999994)\",\"line\":{\"width\":1.3},\"opacity\":0.8,\"size\":12,\"symbol\":\"circle\"},\"mode\":\"markers\",\"name\":\"Skiddo\",\"textfont\":{\"color\":\"#4D5663\"},\"type\":\"scatter\",\"x\":[350],\"y\":[52]},{\"marker\":{\"color\":\"rgba(128, 128, 0, 0.2599999999999994)\",\"line\":{\"width\":1.3},\"opacity\":0.8,\"size\":12,\"symbol\":\"circle\"},\"mode\":\"markers\",\"name\":\"Gogoat\",\"textfont\":{\"color\":\"#4D5663\"},\"type\":\"scatter\",\"x\":[531],\"y\":[68]},{\"marker\":{\"color\":\"rgba(251, 128, 114, 0.2599999999999994)\",\"line\":{\"width\":1.3},\"opacity\":0.8,\"size\":12,\"symbol\":\"circle\"},\"mode\":\"markers\",\"name\":\"Pancham\",\"textfont\":{\"color\":\"#4D5663\"},\"type\":\"scatter\",\"x\":[348],\"y\":[43]},{\"marker\":{\"color\":\"rgba(128, 177, 211, 0.2599999999999994)\",\"line\":{\"width\":1.3},\"opacity\":0.8,\"size\":12,\"symbol\":\"circle\"},\"mode\":\"markers\",\"name\":\"Pangoro\",\"textfont\":{\"color\":\"#4D5663\"},\"type\":\"scatter\",\"x\":[495],\"y\":[58]},{\"marker\":{\"color\":\"rgba(255, 153, 51, 0.2599999999999994)\",\"line\":{\"width\":1.3},\"opacity\":0.8,\"size\":12,\"symbol\":\"circle\"},\"mode\":\"markers\",\"name\":\"Furfrou\",\"textfont\":{\"color\":\"#4D5663\"},\"type\":\"scatter\",\"x\":[472],\"y\":[102]},{\"marker\":{\"color\":\"rgba(55, 128, 191, 0.2599999999999994)\",\"line\":{\"width\":1.3},\"opacity\":0.8,\"size\":12,\"symbol\":\"circle\"},\"mode\":\"markers\",\"name\":\"Espurr\",\"textfont\":{\"color\":\"#4D5663\"},\"type\":\"scatter\",\"x\":[355],\"y\":[68]},{\"marker\":{\"color\":\"rgba(50, 171, 96, 0.2599999999999994)\",\"line\":{\"width\":1.3},\"opacity\":0.8,\"size\":12,\"symbol\":\"circle\"},\"mode\":\"markers\",\"name\":\"MeowsticMale\",\"textfont\":{\"color\":\"#4D5663\"},\"type\":\"scatter\",\"x\":[466],\"y\":[104]},{\"marker\":{\"color\":\"rgba(128, 0, 128, 0.2599999999999994)\",\"line\":{\"width\":1.3},\"opacity\":0.8,\"size\":12,\"symbol\":\"circle\"},\"mode\":\"markers\",\"name\":\"MeowsticFemale\",\"textfont\":{\"color\":\"#4D5663\"},\"type\":\"scatter\",\"x\":[466],\"y\":[104]},{\"marker\":{\"color\":\"rgba(219, 64, 82, 0.2599999999999994)\",\"line\":{\"width\":1.3},\"opacity\":0.8,\"size\":12,\"symbol\":\"circle\"},\"mode\":\"markers\",\"name\":\"Honedge\",\"textfont\":{\"color\":\"#4D5663\"},\"type\":\"scatter\",\"x\":[325],\"y\":[28]},{\"marker\":{\"color\":\"rgba(0, 128, 128, 0.2599999999999994)\",\"line\":{\"width\":1.3},\"opacity\":0.8,\"size\":12,\"symbol\":\"circle\"},\"mode\":\"markers\",\"name\":\"Doublade\",\"textfont\":{\"color\":\"#4D5663\"},\"type\":\"scatter\",\"x\":[448],\"y\":[35]},{\"marker\":{\"color\":\"rgba(0, 128, 128, 0.2499999999999994)\",\"line\":{\"width\":1.3},\"opacity\":0.8,\"size\":12,\"symbol\":\"circle\"},\"mode\":\"markers\",\"name\":\"AegislashBlade Forme\",\"textfont\":{\"color\":\"#4D5663\"},\"type\":\"scatter\",\"x\":[520],\"y\":[60]},{\"marker\":{\"color\":\"rgba(255, 255, 51, 0.2499999999999994)\",\"line\":{\"width\":1.3},\"opacity\":0.8,\"size\":12,\"symbol\":\"circle\"},\"mode\":\"markers\",\"name\":\"AegislashShield Forme\",\"textfont\":{\"color\":\"#4D5663\"},\"type\":\"scatter\",\"x\":[520],\"y\":[60]},{\"marker\":{\"color\":\"rgba(128, 128, 0, 0.2499999999999994)\",\"line\":{\"width\":1.3},\"opacity\":0.8,\"size\":12,\"symbol\":\"circle\"},\"mode\":\"markers\",\"name\":\"Spritzee\",\"textfont\":{\"color\":\"#4D5663\"},\"type\":\"scatter\",\"x\":[341],\"y\":[23]},{\"marker\":{\"color\":\"rgba(251, 128, 114, 0.2499999999999994)\",\"line\":{\"width\":1.3},\"opacity\":0.8,\"size\":12,\"symbol\":\"circle\"},\"mode\":\"markers\",\"name\":\"Aromatisse\",\"textfont\":{\"color\":\"#4D5663\"},\"type\":\"scatter\",\"x\":[462],\"y\":[29]},{\"marker\":{\"color\":\"rgba(128, 177, 211, 0.2499999999999994)\",\"line\":{\"width\":1.3},\"opacity\":0.8,\"size\":12,\"symbol\":\"circle\"},\"mode\":\"markers\",\"name\":\"Swirlix\",\"textfont\":{\"color\":\"#4D5663\"},\"type\":\"scatter\",\"x\":[341],\"y\":[49]},{\"marker\":{\"color\":\"rgba(255, 153, 51, 0.2499999999999994)\",\"line\":{\"width\":1.3},\"opacity\":0.8,\"size\":12,\"symbol\":\"circle\"},\"mode\":\"markers\",\"name\":\"Slurpuff\",\"textfont\":{\"color\":\"#4D5663\"},\"type\":\"scatter\",\"x\":[480],\"y\":[72]},{\"marker\":{\"color\":\"rgba(55, 128, 191, 0.2499999999999994)\",\"line\":{\"width\":1.3},\"opacity\":0.8,\"size\":12,\"symbol\":\"circle\"},\"mode\":\"markers\",\"name\":\"Inkay\",\"textfont\":{\"color\":\"#4D5663\"},\"type\":\"scatter\",\"x\":[288],\"y\":[45]},{\"marker\":{\"color\":\"rgba(50, 171, 96, 0.2499999999999994)\",\"line\":{\"width\":1.3},\"opacity\":0.8,\"size\":12,\"symbol\":\"circle\"},\"mode\":\"markers\",\"name\":\"Malamar\",\"textfont\":{\"color\":\"#4D5663\"},\"type\":\"scatter\",\"x\":[482],\"y\":[73]},{\"marker\":{\"color\":\"rgba(128, 0, 128, 0.2499999999999994)\",\"line\":{\"width\":1.3},\"opacity\":0.8,\"size\":12,\"symbol\":\"circle\"},\"mode\":\"markers\",\"name\":\"Binacle\",\"textfont\":{\"color\":\"#4D5663\"},\"type\":\"scatter\",\"x\":[306],\"y\":[50]},{\"marker\":{\"color\":\"rgba(219, 64, 82, 0.2499999999999994)\",\"line\":{\"width\":1.3},\"opacity\":0.8,\"size\":12,\"symbol\":\"circle\"},\"mode\":\"markers\",\"name\":\"Barbaracle\",\"textfont\":{\"color\":\"#4D5663\"},\"type\":\"scatter\",\"x\":[500],\"y\":[68]},{\"marker\":{\"color\":\"rgba(219, 64, 82, 0.23999999999999938)\",\"line\":{\"width\":1.3},\"opacity\":0.8,\"size\":12,\"symbol\":\"circle\"},\"mode\":\"markers\",\"name\":\"Skrelp\",\"textfont\":{\"color\":\"#4D5663\"},\"type\":\"scatter\",\"x\":[320],\"y\":[30]},{\"marker\":{\"color\":\"rgba(0, 128, 128, 0.23999999999999938)\",\"line\":{\"width\":1.3},\"opacity\":0.8,\"size\":12,\"symbol\":\"circle\"},\"mode\":\"markers\",\"name\":\"Dragalge\",\"textfont\":{\"color\":\"#4D5663\"},\"type\":\"scatter\",\"x\":[494],\"y\":[44]},{\"marker\":{\"color\":\"rgba(255, 255, 51, 0.23999999999999938)\",\"line\":{\"width\":1.3},\"opacity\":0.8,\"size\":12,\"symbol\":\"circle\"},\"mode\":\"markers\",\"name\":\"Clauncher\",\"textfont\":{\"color\":\"#4D5663\"},\"type\":\"scatter\",\"x\":[330],\"y\":[44]},{\"marker\":{\"color\":\"rgba(128, 128, 0, 0.23999999999999938)\",\"line\":{\"width\":1.3},\"opacity\":0.8,\"size\":12,\"symbol\":\"circle\"},\"mode\":\"markers\",\"name\":\"Clawitzer\",\"textfont\":{\"color\":\"#4D5663\"},\"type\":\"scatter\",\"x\":[500],\"y\":[59]},{\"marker\":{\"color\":\"rgba(251, 128, 114, 0.23999999999999938)\",\"line\":{\"width\":1.3},\"opacity\":0.8,\"size\":12,\"symbol\":\"circle\"},\"mode\":\"markers\",\"name\":\"Helioptile\",\"textfont\":{\"color\":\"#4D5663\"},\"type\":\"scatter\",\"x\":[289],\"y\":[70]},{\"marker\":{\"color\":\"rgba(128, 177, 211, 0.23999999999999938)\",\"line\":{\"width\":1.3},\"opacity\":0.8,\"size\":12,\"symbol\":\"circle\"},\"mode\":\"markers\",\"name\":\"Heliolisk\",\"textfont\":{\"color\":\"#4D5663\"},\"type\":\"scatter\",\"x\":[481],\"y\":[109]},{\"marker\":{\"color\":\"rgba(255, 153, 51, 0.23999999999999938)\",\"line\":{\"width\":1.3},\"opacity\":0.8,\"size\":12,\"symbol\":\"circle\"},\"mode\":\"markers\",\"name\":\"Tyrunt\",\"textfont\":{\"color\":\"#4D5663\"},\"type\":\"scatter\",\"x\":[362],\"y\":[48]},{\"marker\":{\"color\":\"rgba(55, 128, 191, 0.23999999999999938)\",\"line\":{\"width\":1.3},\"opacity\":0.8,\"size\":12,\"symbol\":\"circle\"},\"mode\":\"markers\",\"name\":\"Tyrantrum\",\"textfont\":{\"color\":\"#4D5663\"},\"type\":\"scatter\",\"x\":[521],\"y\":[71]},{\"marker\":{\"color\":\"rgba(50, 171, 96, 0.23999999999999938)\",\"line\":{\"width\":1.3},\"opacity\":0.8,\"size\":12,\"symbol\":\"circle\"},\"mode\":\"markers\",\"name\":\"Amaura\",\"textfont\":{\"color\":\"#4D5663\"},\"type\":\"scatter\",\"x\":[362],\"y\":[46]},{\"marker\":{\"color\":\"rgba(128, 0, 128, 0.23999999999999938)\",\"line\":{\"width\":1.3},\"opacity\":0.8,\"size\":12,\"symbol\":\"circle\"},\"mode\":\"markers\",\"name\":\"Aurorus\",\"textfont\":{\"color\":\"#4D5663\"},\"type\":\"scatter\",\"x\":[521],\"y\":[58]},{\"marker\":{\"color\":\"rgba(128, 0, 128, 0.22999999999999937)\",\"line\":{\"width\":1.3},\"opacity\":0.8,\"size\":12,\"symbol\":\"circle\"},\"mode\":\"markers\",\"name\":\"Sylveon\",\"textfont\":{\"color\":\"#4D5663\"},\"type\":\"scatter\",\"x\":[525],\"y\":[60]},{\"marker\":{\"color\":\"rgba(219, 64, 82, 0.22999999999999937)\",\"line\":{\"width\":1.3},\"opacity\":0.8,\"size\":12,\"symbol\":\"circle\"},\"mode\":\"markers\",\"name\":\"Hawlucha\",\"textfont\":{\"color\":\"#4D5663\"},\"type\":\"scatter\",\"x\":[500],\"y\":[118]},{\"marker\":{\"color\":\"rgba(0, 128, 128, 0.22999999999999937)\",\"line\":{\"width\":1.3},\"opacity\":0.8,\"size\":12,\"symbol\":\"circle\"},\"mode\":\"markers\",\"name\":\"Dedenne\",\"textfont\":{\"color\":\"#4D5663\"},\"type\":\"scatter\",\"x\":[431],\"y\":[101]},{\"marker\":{\"color\":\"rgba(255, 255, 51, 0.22999999999999937)\",\"line\":{\"width\":1.3},\"opacity\":0.8,\"size\":12,\"symbol\":\"circle\"},\"mode\":\"markers\",\"name\":\"Carbink\",\"textfont\":{\"color\":\"#4D5663\"},\"type\":\"scatter\",\"x\":[500],\"y\":[50]},{\"marker\":{\"color\":\"rgba(128, 128, 0, 0.22999999999999937)\",\"line\":{\"width\":1.3},\"opacity\":0.8,\"size\":12,\"symbol\":\"circle\"},\"mode\":\"markers\",\"name\":\"Goomy\",\"textfont\":{\"color\":\"#4D5663\"},\"type\":\"scatter\",\"x\":[300],\"y\":[40]},{\"marker\":{\"color\":\"rgba(251, 128, 114, 0.22999999999999937)\",\"line\":{\"width\":1.3},\"opacity\":0.8,\"size\":12,\"symbol\":\"circle\"},\"mode\":\"markers\",\"name\":\"Sliggoo\",\"textfont\":{\"color\":\"#4D5663\"},\"type\":\"scatter\",\"x\":[452],\"y\":[60]},{\"marker\":{\"color\":\"rgba(128, 177, 211, 0.22999999999999937)\",\"line\":{\"width\":1.3},\"opacity\":0.8,\"size\":12,\"symbol\":\"circle\"},\"mode\":\"markers\",\"name\":\"Goodra\",\"textfont\":{\"color\":\"#4D5663\"},\"type\":\"scatter\",\"x\":[600],\"y\":[80]},{\"marker\":{\"color\":\"rgba(255, 153, 51, 0.22999999999999937)\",\"line\":{\"width\":1.3},\"opacity\":0.8,\"size\":12,\"symbol\":\"circle\"},\"mode\":\"markers\",\"name\":\"Klefki\",\"textfont\":{\"color\":\"#4D5663\"},\"type\":\"scatter\",\"x\":[470],\"y\":[75]},{\"marker\":{\"color\":\"rgba(55, 128, 191, 0.22999999999999937)\",\"line\":{\"width\":1.3},\"opacity\":0.8,\"size\":12,\"symbol\":\"circle\"},\"mode\":\"markers\",\"name\":\"Phantump\",\"textfont\":{\"color\":\"#4D5663\"},\"type\":\"scatter\",\"x\":[309],\"y\":[38]},{\"marker\":{\"color\":\"rgba(50, 171, 96, 0.22999999999999937)\",\"line\":{\"width\":1.3},\"opacity\":0.8,\"size\":12,\"symbol\":\"circle\"},\"mode\":\"markers\",\"name\":\"Trevenant\",\"textfont\":{\"color\":\"#4D5663\"},\"type\":\"scatter\",\"x\":[474],\"y\":[56]},{\"marker\":{\"color\":\"rgba(50, 171, 96, 0.21999999999999936)\",\"line\":{\"width\":1.3},\"opacity\":0.8,\"size\":12,\"symbol\":\"circle\"},\"mode\":\"markers\",\"name\":\"PumpkabooAverage Size\",\"textfont\":{\"color\":\"#4D5663\"},\"type\":\"scatter\",\"x\":[335],\"y\":[51]},{\"marker\":{\"color\":\"rgba(128, 0, 128, 0.21999999999999936)\",\"line\":{\"width\":1.3},\"opacity\":0.8,\"size\":12,\"symbol\":\"circle\"},\"mode\":\"markers\",\"name\":\"PumpkabooSmall Size\",\"textfont\":{\"color\":\"#4D5663\"},\"type\":\"scatter\",\"x\":[335],\"y\":[56]},{\"marker\":{\"color\":\"rgba(219, 64, 82, 0.21999999999999936)\",\"line\":{\"width\":1.3},\"opacity\":0.8,\"size\":12,\"symbol\":\"circle\"},\"mode\":\"markers\",\"name\":\"PumpkabooLarge Size\",\"textfont\":{\"color\":\"#4D5663\"},\"type\":\"scatter\",\"x\":[335],\"y\":[46]},{\"marker\":{\"color\":\"rgba(0, 128, 128, 0.21999999999999936)\",\"line\":{\"width\":1.3},\"opacity\":0.8,\"size\":12,\"symbol\":\"circle\"},\"mode\":\"markers\",\"name\":\"PumpkabooSuper Size\",\"textfont\":{\"color\":\"#4D5663\"},\"type\":\"scatter\",\"x\":[335],\"y\":[41]},{\"marker\":{\"color\":\"rgba(255, 255, 51, 0.21999999999999936)\",\"line\":{\"width\":1.3},\"opacity\":0.8,\"size\":12,\"symbol\":\"circle\"},\"mode\":\"markers\",\"name\":\"GourgeistAverage Size\",\"textfont\":{\"color\":\"#4D5663\"},\"type\":\"scatter\",\"x\":[494],\"y\":[84]},{\"marker\":{\"color\":\"rgba(128, 128, 0, 0.21999999999999936)\",\"line\":{\"width\":1.3},\"opacity\":0.8,\"size\":12,\"symbol\":\"circle\"},\"mode\":\"markers\",\"name\":\"GourgeistSmall Size\",\"textfont\":{\"color\":\"#4D5663\"},\"type\":\"scatter\",\"x\":[494],\"y\":[99]},{\"marker\":{\"color\":\"rgba(251, 128, 114, 0.21999999999999936)\",\"line\":{\"width\":1.3},\"opacity\":0.8,\"size\":12,\"symbol\":\"circle\"},\"mode\":\"markers\",\"name\":\"GourgeistLarge Size\",\"textfont\":{\"color\":\"#4D5663\"},\"type\":\"scatter\",\"x\":[494],\"y\":[69]},{\"marker\":{\"color\":\"rgba(128, 177, 211, 0.21999999999999936)\",\"line\":{\"width\":1.3},\"opacity\":0.8,\"size\":12,\"symbol\":\"circle\"},\"mode\":\"markers\",\"name\":\"GourgeistSuper Size\",\"textfont\":{\"color\":\"#4D5663\"},\"type\":\"scatter\",\"x\":[494],\"y\":[54]},{\"marker\":{\"color\":\"rgba(255, 153, 51, 0.21999999999999936)\",\"line\":{\"width\":1.3},\"opacity\":0.8,\"size\":12,\"symbol\":\"circle\"},\"mode\":\"markers\",\"name\":\"Bergmite\",\"textfont\":{\"color\":\"#4D5663\"},\"type\":\"scatter\",\"x\":[304],\"y\":[28]},{\"marker\":{\"color\":\"rgba(55, 128, 191, 0.21999999999999936)\",\"line\":{\"width\":1.3},\"opacity\":0.8,\"size\":12,\"symbol\":\"circle\"},\"mode\":\"markers\",\"name\":\"Avalugg\",\"textfont\":{\"color\":\"#4D5663\"},\"type\":\"scatter\",\"x\":[514],\"y\":[28]},{\"marker\":{\"color\":\"rgba(55, 128, 191, 0.20999999999999935)\",\"line\":{\"width\":1.3},\"opacity\":0.8,\"size\":12,\"symbol\":\"circle\"},\"mode\":\"markers\",\"name\":\"Noibat\",\"textfont\":{\"color\":\"#4D5663\"},\"type\":\"scatter\",\"x\":[245],\"y\":[55]},{\"marker\":{\"color\":\"rgba(50, 171, 96, 0.20999999999999935)\",\"line\":{\"width\":1.3},\"opacity\":0.8,\"size\":12,\"symbol\":\"circle\"},\"mode\":\"markers\",\"name\":\"Noivern\",\"textfont\":{\"color\":\"#4D5663\"},\"type\":\"scatter\",\"x\":[535],\"y\":[123]},{\"marker\":{\"color\":\"rgba(128, 0, 128, 0.20999999999999935)\",\"line\":{\"width\":1.3},\"opacity\":0.8,\"size\":12,\"symbol\":\"circle\"},\"mode\":\"markers\",\"name\":\"Xerneas\",\"textfont\":{\"color\":\"#4D5663\"},\"type\":\"scatter\",\"x\":[680],\"y\":[99]},{\"marker\":{\"color\":\"rgba(219, 64, 82, 0.20999999999999935)\",\"line\":{\"width\":1.3},\"opacity\":0.8,\"size\":12,\"symbol\":\"circle\"},\"mode\":\"markers\",\"name\":\"Yveltal\",\"textfont\":{\"color\":\"#4D5663\"},\"type\":\"scatter\",\"x\":[680],\"y\":[99]},{\"marker\":{\"color\":\"rgba(0, 128, 128, 0.20999999999999935)\",\"line\":{\"width\":1.3},\"opacity\":0.8,\"size\":12,\"symbol\":\"circle\"},\"mode\":\"markers\",\"name\":\"Zygarde50% Forme\",\"textfont\":{\"color\":\"#4D5663\"},\"type\":\"scatter\",\"x\":[600],\"y\":[95]},{\"marker\":{\"color\":\"rgba(255, 255, 51, 0.20999999999999935)\",\"line\":{\"width\":1.3},\"opacity\":0.8,\"size\":12,\"symbol\":\"circle\"},\"mode\":\"markers\",\"name\":\"Diancie\",\"textfont\":{\"color\":\"#4D5663\"},\"type\":\"scatter\",\"x\":[600],\"y\":[50]},{\"marker\":{\"color\":\"rgba(128, 128, 0, 0.20999999999999935)\",\"line\":{\"width\":1.3},\"opacity\":0.8,\"size\":12,\"symbol\":\"circle\"},\"mode\":\"markers\",\"name\":\"DiancieMega Diancie\",\"textfont\":{\"color\":\"#4D5663\"},\"type\":\"scatter\",\"x\":[700],\"y\":[110]},{\"marker\":{\"color\":\"rgba(251, 128, 114, 0.20999999999999935)\",\"line\":{\"width\":1.3},\"opacity\":0.8,\"size\":12,\"symbol\":\"circle\"},\"mode\":\"markers\",\"name\":\"HoopaHoopa Confined\",\"textfont\":{\"color\":\"#4D5663\"},\"type\":\"scatter\",\"x\":[600],\"y\":[70]},{\"marker\":{\"color\":\"rgba(128, 177, 211, 0.20999999999999935)\",\"line\":{\"width\":1.3},\"opacity\":0.8,\"size\":12,\"symbol\":\"circle\"},\"mode\":\"markers\",\"name\":\"HoopaHoopa Unbound\",\"textfont\":{\"color\":\"#4D5663\"},\"type\":\"scatter\",\"x\":[680],\"y\":[80]},{\"marker\":{\"color\":\"rgba(255, 153, 51, 0.20999999999999935)\",\"line\":{\"width\":1.3},\"opacity\":0.8,\"size\":12,\"symbol\":\"circle\"},\"mode\":\"markers\",\"name\":\"Volcanion\",\"textfont\":{\"color\":\"#4D5663\"},\"type\":\"scatter\",\"x\":[600],\"y\":[70]}],                        {\"legend\":{\"bgcolor\":\"#FFFFFF\",\"font\":{\"color\":\"#4D5663\"}},\"paper_bgcolor\":\"#FFFFFF\",\"plot_bgcolor\":\"#FFFFFF\",\"template\":{\"data\":{\"bar\":[{\"error_x\":{\"color\":\"#2a3f5f\"},\"error_y\":{\"color\":\"#2a3f5f\"},\"marker\":{\"line\":{\"color\":\"#E5ECF6\",\"width\":0.5},\"pattern\":{\"fillmode\":\"overlay\",\"size\":10,\"solidity\":0.2}},\"type\":\"bar\"}],\"barpolar\":[{\"marker\":{\"line\":{\"color\":\"#E5ECF6\",\"width\":0.5},\"pattern\":{\"fillmode\":\"overlay\",\"size\":10,\"solidity\":0.2}},\"type\":\"barpolar\"}],\"carpet\":[{\"aaxis\":{\"endlinecolor\":\"#2a3f5f\",\"gridcolor\":\"white\",\"linecolor\":\"white\",\"minorgridcolor\":\"white\",\"startlinecolor\":\"#2a3f5f\"},\"baxis\":{\"endlinecolor\":\"#2a3f5f\",\"gridcolor\":\"white\",\"linecolor\":\"white\",\"minorgridcolor\":\"white\",\"startlinecolor\":\"#2a3f5f\"},\"type\":\"carpet\"}],\"choropleth\":[{\"colorbar\":{\"outlinewidth\":0,\"ticks\":\"\"},\"type\":\"choropleth\"}],\"contour\":[{\"colorbar\":{\"outlinewidth\":0,\"ticks\":\"\"},\"colorscale\":[[0.0,\"#0d0887\"],[0.1111111111111111,\"#46039f\"],[0.2222222222222222,\"#7201a8\"],[0.3333333333333333,\"#9c179e\"],[0.4444444444444444,\"#bd3786\"],[0.5555555555555556,\"#d8576b\"],[0.6666666666666666,\"#ed7953\"],[0.7777777777777778,\"#fb9f3a\"],[0.8888888888888888,\"#fdca26\"],[1.0,\"#f0f921\"]],\"type\":\"contour\"}],\"contourcarpet\":[{\"colorbar\":{\"outlinewidth\":0,\"ticks\":\"\"},\"type\":\"contourcarpet\"}],\"heatmap\":[{\"colorbar\":{\"outlinewidth\":0,\"ticks\":\"\"},\"colorscale\":[[0.0,\"#0d0887\"],[0.1111111111111111,\"#46039f\"],[0.2222222222222222,\"#7201a8\"],[0.3333333333333333,\"#9c179e\"],[0.4444444444444444,\"#bd3786\"],[0.5555555555555556,\"#d8576b\"],[0.6666666666666666,\"#ed7953\"],[0.7777777777777778,\"#fb9f3a\"],[0.8888888888888888,\"#fdca26\"],[1.0,\"#f0f921\"]],\"type\":\"heatmap\"}],\"heatmapgl\":[{\"colorbar\":{\"outlinewidth\":0,\"ticks\":\"\"},\"colorscale\":[[0.0,\"#0d0887\"],[0.1111111111111111,\"#46039f\"],[0.2222222222222222,\"#7201a8\"],[0.3333333333333333,\"#9c179e\"],[0.4444444444444444,\"#bd3786\"],[0.5555555555555556,\"#d8576b\"],[0.6666666666666666,\"#ed7953\"],[0.7777777777777778,\"#fb9f3a\"],[0.8888888888888888,\"#fdca26\"],[1.0,\"#f0f921\"]],\"type\":\"heatmapgl\"}],\"histogram\":[{\"marker\":{\"pattern\":{\"fillmode\":\"overlay\",\"size\":10,\"solidity\":0.2}},\"type\":\"histogram\"}],\"histogram2d\":[{\"colorbar\":{\"outlinewidth\":0,\"ticks\":\"\"},\"colorscale\":[[0.0,\"#0d0887\"],[0.1111111111111111,\"#46039f\"],[0.2222222222222222,\"#7201a8\"],[0.3333333333333333,\"#9c179e\"],[0.4444444444444444,\"#bd3786\"],[0.5555555555555556,\"#d8576b\"],[0.6666666666666666,\"#ed7953\"],[0.7777777777777778,\"#fb9f3a\"],[0.8888888888888888,\"#fdca26\"],[1.0,\"#f0f921\"]],\"type\":\"histogram2d\"}],\"histogram2dcontour\":[{\"colorbar\":{\"outlinewidth\":0,\"ticks\":\"\"},\"colorscale\":[[0.0,\"#0d0887\"],[0.1111111111111111,\"#46039f\"],[0.2222222222222222,\"#7201a8\"],[0.3333333333333333,\"#9c179e\"],[0.4444444444444444,\"#bd3786\"],[0.5555555555555556,\"#d8576b\"],[0.6666666666666666,\"#ed7953\"],[0.7777777777777778,\"#fb9f3a\"],[0.8888888888888888,\"#fdca26\"],[1.0,\"#f0f921\"]],\"type\":\"histogram2dcontour\"}],\"mesh3d\":[{\"colorbar\":{\"outlinewidth\":0,\"ticks\":\"\"},\"type\":\"mesh3d\"}],\"parcoords\":[{\"line\":{\"colorbar\":{\"outlinewidth\":0,\"ticks\":\"\"}},\"type\":\"parcoords\"}],\"pie\":[{\"automargin\":true,\"type\":\"pie\"}],\"scatter\":[{\"marker\":{\"colorbar\":{\"outlinewidth\":0,\"ticks\":\"\"}},\"type\":\"scatter\"}],\"scatter3d\":[{\"line\":{\"colorbar\":{\"outlinewidth\":0,\"ticks\":\"\"}},\"marker\":{\"colorbar\":{\"outlinewidth\":0,\"ticks\":\"\"}},\"type\":\"scatter3d\"}],\"scattercarpet\":[{\"marker\":{\"colorbar\":{\"outlinewidth\":0,\"ticks\":\"\"}},\"type\":\"scattercarpet\"}],\"scattergeo\":[{\"marker\":{\"colorbar\":{\"outlinewidth\":0,\"ticks\":\"\"}},\"type\":\"scattergeo\"}],\"scattergl\":[{\"marker\":{\"colorbar\":{\"outlinewidth\":0,\"ticks\":\"\"}},\"type\":\"scattergl\"}],\"scattermapbox\":[{\"marker\":{\"colorbar\":{\"outlinewidth\":0,\"ticks\":\"\"}},\"type\":\"scattermapbox\"}],\"scatterpolar\":[{\"marker\":{\"colorbar\":{\"outlinewidth\":0,\"ticks\":\"\"}},\"type\":\"scatterpolar\"}],\"scatterpolargl\":[{\"marker\":{\"colorbar\":{\"outlinewidth\":0,\"ticks\":\"\"}},\"type\":\"scatterpolargl\"}],\"scatterternary\":[{\"marker\":{\"colorbar\":{\"outlinewidth\":0,\"ticks\":\"\"}},\"type\":\"scatterternary\"}],\"surface\":[{\"colorbar\":{\"outlinewidth\":0,\"ticks\":\"\"},\"colorscale\":[[0.0,\"#0d0887\"],[0.1111111111111111,\"#46039f\"],[0.2222222222222222,\"#7201a8\"],[0.3333333333333333,\"#9c179e\"],[0.4444444444444444,\"#bd3786\"],[0.5555555555555556,\"#d8576b\"],[0.6666666666666666,\"#ed7953\"],[0.7777777777777778,\"#fb9f3a\"],[0.8888888888888888,\"#fdca26\"],[1.0,\"#f0f921\"]],\"type\":\"surface\"}],\"table\":[{\"cells\":{\"fill\":{\"color\":\"#EBF0F8\"},\"line\":{\"color\":\"white\"}},\"header\":{\"fill\":{\"color\":\"#C8D4E3\"},\"line\":{\"color\":\"white\"}},\"type\":\"table\"}]},\"layout\":{\"annotationdefaults\":{\"arrowcolor\":\"#2a3f5f\",\"arrowhead\":0,\"arrowwidth\":1},\"autotypenumbers\":\"strict\",\"coloraxis\":{\"colorbar\":{\"outlinewidth\":0,\"ticks\":\"\"}},\"colorscale\":{\"diverging\":[[0,\"#8e0152\"],[0.1,\"#c51b7d\"],[0.2,\"#de77ae\"],[0.3,\"#f1b6da\"],[0.4,\"#fde0ef\"],[0.5,\"#f7f7f7\"],[0.6,\"#e6f5d0\"],[0.7,\"#b8e186\"],[0.8,\"#7fbc41\"],[0.9,\"#4d9221\"],[1,\"#276419\"]],\"sequential\":[[0.0,\"#0d0887\"],[0.1111111111111111,\"#46039f\"],[0.2222222222222222,\"#7201a8\"],[0.3333333333333333,\"#9c179e\"],[0.4444444444444444,\"#bd3786\"],[0.5555555555555556,\"#d8576b\"],[0.6666666666666666,\"#ed7953\"],[0.7777777777777778,\"#fb9f3a\"],[0.8888888888888888,\"#fdca26\"],[1.0,\"#f0f921\"]],\"sequentialminus\":[[0.0,\"#0d0887\"],[0.1111111111111111,\"#46039f\"],[0.2222222222222222,\"#7201a8\"],[0.3333333333333333,\"#9c179e\"],[0.4444444444444444,\"#bd3786\"],[0.5555555555555556,\"#d8576b\"],[0.6666666666666666,\"#ed7953\"],[0.7777777777777778,\"#fb9f3a\"],[0.8888888888888888,\"#fdca26\"],[1.0,\"#f0f921\"]]},\"colorway\":[\"#636efa\",\"#EF553B\",\"#00cc96\",\"#ab63fa\",\"#FFA15A\",\"#19d3f3\",\"#FF6692\",\"#B6E880\",\"#FF97FF\",\"#FECB52\"],\"font\":{\"color\":\"#2a3f5f\"},\"geo\":{\"bgcolor\":\"white\",\"lakecolor\":\"white\",\"landcolor\":\"#E5ECF6\",\"showlakes\":true,\"showland\":true,\"subunitcolor\":\"white\"},\"hoverlabel\":{\"align\":\"left\"},\"hovermode\":\"closest\",\"mapbox\":{\"style\":\"light\"},\"paper_bgcolor\":\"white\",\"plot_bgcolor\":\"#E5ECF6\",\"polar\":{\"angularaxis\":{\"gridcolor\":\"white\",\"linecolor\":\"white\",\"ticks\":\"\"},\"bgcolor\":\"#E5ECF6\",\"radialaxis\":{\"gridcolor\":\"white\",\"linecolor\":\"white\",\"ticks\":\"\"}},\"scene\":{\"xaxis\":{\"backgroundcolor\":\"#E5ECF6\",\"gridcolor\":\"white\",\"gridwidth\":2,\"linecolor\":\"white\",\"showbackground\":true,\"ticks\":\"\",\"zerolinecolor\":\"white\"},\"yaxis\":{\"backgroundcolor\":\"#E5ECF6\",\"gridcolor\":\"white\",\"gridwidth\":2,\"linecolor\":\"white\",\"showbackground\":true,\"ticks\":\"\",\"zerolinecolor\":\"white\"},\"zaxis\":{\"backgroundcolor\":\"#E5ECF6\",\"gridcolor\":\"white\",\"gridwidth\":2,\"linecolor\":\"white\",\"showbackground\":true,\"ticks\":\"\",\"zerolinecolor\":\"white\"}},\"shapedefaults\":{\"line\":{\"color\":\"#2a3f5f\"}},\"ternary\":{\"aaxis\":{\"gridcolor\":\"white\",\"linecolor\":\"white\",\"ticks\":\"\"},\"baxis\":{\"gridcolor\":\"white\",\"linecolor\":\"white\",\"ticks\":\"\"},\"bgcolor\":\"#E5ECF6\",\"caxis\":{\"gridcolor\":\"white\",\"linecolor\":\"white\",\"ticks\":\"\"}},\"title\":{\"x\":0.05},\"xaxis\":{\"automargin\":true,\"gridcolor\":\"white\",\"linecolor\":\"white\",\"ticks\":\"\",\"title\":{\"standoff\":15},\"zerolinecolor\":\"white\",\"zerolinewidth\":2},\"yaxis\":{\"automargin\":true,\"gridcolor\":\"white\",\"linecolor\":\"white\",\"ticks\":\"\",\"title\":{\"standoff\":15},\"zerolinecolor\":\"white\",\"zerolinewidth\":2}}},\"title\":{\"font\":{\"color\":\"#4D5663\"},\"text\":\"Pokemon Breed Count, Speed and Name\"},\"xaxis\":{\"gridcolor\":\"#E1E5ED\",\"showgrid\":true,\"tickfont\":{\"color\":\"#4D5663\"},\"title\":{\"font\":{\"color\":\"#4D5663\"},\"text\":\"\"},\"zerolinecolor\":\"#E1E5ED\"},\"yaxis\":{\"gridcolor\":\"#E1E5ED\",\"showgrid\":true,\"tickfont\":{\"color\":\"#4D5663\"},\"title\":{\"font\":{\"color\":\"#4D5663\"},\"text\":\"\"},\"zerolinecolor\":\"#E1E5ED\"}},                        {\"showLink\": true, \"linkText\": \"Export to plot.ly\", \"plotlyServerURL\": \"https://plot.ly\", \"responsive\": true}                    ).then(function(){\n",
       "                            \n",
       "var gd = document.getElementById('f1360ab3-92bb-4441-bf41-44f6e13fc2fe');\n",
       "var x = new MutationObserver(function (mutations, observer) {{\n",
       "        var display = window.getComputedStyle(gd).display;\n",
       "        if (!display || display === 'none') {{\n",
       "            console.log([gd, 'removed!']);\n",
       "            Plotly.purge(gd);\n",
       "            observer.disconnect();\n",
       "        }}\n",
       "}});\n",
       "\n",
       "// Listen for the removal of the full notebook cells\n",
       "var notebookContainer = gd.closest('#notebook-container');\n",
       "if (notebookContainer) {{\n",
       "    x.observe(notebookContainer, {childList: true});\n",
       "}}\n",
       "\n",
       "// Listen for the clearing of the current output cell\n",
       "var outputEl = gd.closest('.output');\n",
       "if (outputEl) {{\n",
       "    x.observe(outputEl, {childList: true});\n",
       "}}\n",
       "\n",
       "                        })                };                });            </script>        </div>"
      ]
     },
     "metadata": {},
     "output_type": "display_data"
    }
   ],
   "source": [
    "# markers are made to point in the graph\n",
    "#df1.iplot(kind ='scatter', x ='Total', y ='Name', mode ='markers')\n",
    "df1.iplot(kind=\"scatter\",title='Pokemon Breed Count, Speed and Name',theme=\"white\",x=\"Total\",y=\"Speed\",z=\"Type 1\", categories=\"Name\", mode ='markers')"
   ]
  },
  {
   "cell_type": "code",
   "execution_count": null,
   "metadata": {},
   "outputs": [],
   "source": [
    "For more example visit the documentation page at https://plotly.com/python/"
   ]
  }
 ],
 "metadata": {
  "kernelspec": {
   "display_name": "Python 3",
   "language": "python",
   "name": "python3"
  },
  "language_info": {
   "codemirror_mode": {
    "name": "ipython",
    "version": 3
   },
   "file_extension": ".py",
   "mimetype": "text/x-python",
   "name": "python",
   "nbconvert_exporter": "python",
   "pygments_lexer": "ipython3",
   "version": "3.6.10"
  }
 },
 "nbformat": 4,
 "nbformat_minor": 4
}
