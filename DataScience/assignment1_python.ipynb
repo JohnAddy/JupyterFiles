{
  "nbformat": 4,
  "nbformat_minor": 0,
  "metadata": {
    "kernelspec": {
      "display_name": "Python 3",
      "language": "python",
      "name": "python3"
    },
    "language_info": {
      "codemirror_mode": {
        "name": "ipython",
        "version": 3
      },
      "file_extension": ".py",
      "mimetype": "text/x-python",
      "name": "python",
      "nbconvert_exporter": "python",
      "pygments_lexer": "ipython3",
      "version": "3.7.3"
    },
    "colab": {
      "name": "assignment1_python.ipynb",
      "provenance": [],
      "collapsed_sections": []
    }
  },
  "cells": [
    {
      "cell_type": "markdown",
      "metadata": {
        "id": "PipOrvj7G9UT"
      },
      "source": [
        "# Data types in Python - Assignment 1\n",
        "Business Analytics & Business Intelligence  <br>\n",
        "Deepak KC, deepak.kc@hamk.fi, 2020 <br>\n",
        "                Total Points 26 <br>\n",
        "                             ***To pass you need to get atleast 15 points***"
      ]
    },
    {
      "cell_type": "markdown",
      "metadata": {
        "id": "W8vejbcoG9UU"
      },
      "source": [
        "Task 1: Create a string (name), an integer (num) and a floating point number (fnum). Assign your name to name, 25 to num and 56.78 to fnum. Print the output for all 3 variables. (6 points)"
      ]
    },
    {
      "cell_type": "code",
      "metadata": {
        "id": "8LiPJD_OG9UU"
      },
      "source": [
        "#name\n",
        "#num\n",
        "#fnum\n",
        "#print name\n",
        "#print num\n",
        "#print fnum\n",
        "\n",
        "\n",
        "\n",
        "\n"
      ],
      "execution_count": null,
      "outputs": []
    },
    {
      "cell_type": "markdown",
      "metadata": {
        "id": "oNPYtzqxG9UX"
      },
      "source": [
        "Task 2: Use the capitalize() method to convert the first character of a string to uppercase letter. (1 point)"
      ]
    },
    {
      "cell_type": "code",
      "metadata": {
        "id": "lTC7kT7sG9UX"
      },
      "source": [
        "mystring = \"this is getting interesting.\"\n",
        "mycaptial_string #use capitalize method\n",
        "#print the capitalized string\n",
        "\n",
        "\n",
        "\n",
        "\n"
      ],
      "execution_count": null,
      "outputs": []
    },
    {
      "cell_type": "markdown",
      "metadata": {
        "id": "W7SpeMKXG9Ua"
      },
      "source": [
        "Task 3: The find() method returns the index of first occurence of the substring if it is found and if it does not find it returns -1. Use find() method to complete the code below. (1 point)"
      ]
    },
    {
      "cell_type": "code",
      "metadata": {
        "id": "SxsFCC04G9Ua"
      },
      "source": [
        "text = \"Python is an easy to learn language\"\n",
        "result = #find learn\n",
        "#print result  \n",
        "\n",
        "\n",
        "\n"
      ],
      "execution_count": null,
      "outputs": []
    },
    {
      "cell_type": "markdown",
      "metadata": {
        "id": "UowIH2FpG9Uc"
      },
      "source": [
        "Task 4: It is possible to assign the same value to multiple variables at once in Python. Complete the code below. (1 point)"
      ]
    },
    {
      "cell_type": "code",
      "metadata": {
        "id": "fs8476TYG9Uc"
      },
      "source": [
        "# create 3 variables a,b & c & \n",
        "# assign 1 as value to all variables in the same statement\n",
        "# incorrect answer if it a=1 b=1 c=1  \n",
        "\n",
        "#print a\n",
        "#print b\n",
        "#print c\n",
        "\n",
        "\n",
        "\n",
        "\n"
      ],
      "execution_count": null,
      "outputs": []
    },
    {
      "cell_type": "markdown",
      "metadata": {
        "id": "65TgOlWCG9Ue"
      },
      "source": [
        "Task 5: Complete tasks as in the comment below (5 Points)"
      ]
    },
    {
      "cell_type": "code",
      "metadata": {
        "id": "AfEcLDLPG9Uf"
      },
      "source": [
        "a = \"I like python\"\n",
        "print() # use the len method to print the length of the string\n",
        "print() # print the first character of the string\n",
        "print() # print the string in uppercase letters \n",
        "newtext = \"%.. Niin %... vastaa, %.. sinne huudetaan\" % () \n",
        "# it should print 1 Niin metsä vastaa, kuin sinne huudetaan\n",
        "print() # print the newtext "
      ],
      "execution_count": null,
      "outputs": []
    },
    {
      "cell_type": "markdown",
      "metadata": {
        "id": "xrHn6vHuG9Uh"
      },
      "source": [
        "Task 6: Create a list named mylist and include 5 different data items. (4 points)"
      ]
    },
    {
      "cell_type": "code",
      "metadata": {
        "id": "9hpdK220G9Ui"
      },
      "source": [
        "mylist =   # it should contain 5 different data items\n",
        "print() # print the entire list\n",
        "print() # print only the second element\n",
        "#use append to add one more item to your list \n",
        "print() #print the entire list"
      ],
      "execution_count": null,
      "outputs": []
    },
    {
      "cell_type": "markdown",
      "metadata": {
        "id": "Lg7wMsI4G9Uk"
      },
      "source": [
        "Task 7: Tuple (3 points)"
      ]
    },
    {
      "cell_type": "code",
      "metadata": {
        "id": "SPnMN-riG9Ul"
      },
      "source": [
        "courses = (\"Introduction to IoT & Cloud\", \"Python Basics for IoT\", \"Python Project\")\n",
        "print() #use len method to print the number of items(courses) in the tuple courses.\n",
        "print() #print all items in the tuple courses\n",
        "print() #print the third item in the tuple"
      ],
      "execution_count": null,
      "outputs": []
    },
    {
      "cell_type": "markdown",
      "metadata": {
        "id": "Wltud9o6G9Un"
      },
      "source": [
        "Task 8: Dictionary (5 points)"
      ]
    },
    {
      "cell_type": "code",
      "metadata": {
        "id": "efBt540zG9Un"
      },
      "source": [
        "#create a dictionary with the key as course, time and ects\n",
        "    #values as Python Basics, Autumn, 5\n",
        "test = {\n",
        "    \n",
        "}\n",
        "print() #use get method to print the value of the course\n",
        "test[] =  #change the course value to Python Basics for IoT\n",
        "\n",
        "test[] = #add the key/value pair as year:2019 to the test dictionary\n",
        "print() #print the entire dictionary\n",
        "#use pop method to remove time form the dictionary"
      ],
      "execution_count": null,
      "outputs": []
    }
  ]
}