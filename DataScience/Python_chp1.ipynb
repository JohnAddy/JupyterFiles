{
  "nbformat": 4,
  "nbformat_minor": 0,
  "metadata": {
    "kernelspec": {
      "display_name": "Python 3",
      "language": "python",
      "name": "python3"
    },
    "language_info": {
      "codemirror_mode": {
        "name": "ipython",
        "version": 3
      },
      "file_extension": ".py",
      "mimetype": "text/x-python",
      "name": "python",
      "nbconvert_exporter": "python",
      "pygments_lexer": "ipython3",
      "version": "3.7.3"
    },
    "colab": {
      "name": "Python_chp1.ipynb",
      "provenance": [],
      "collapsed_sections": []
    }
  },
  "cells": [
    {
      "cell_type": "markdown",
      "metadata": {
        "id": "U5kAOAAq3_wR"
      },
      "source": [
        "<center> Business Analytics & Business Intelligence  <br>\n",
        "Deepak KC, deepak.kc@hamk.fi, 2020  <br> Introduction to Python </center>\n",
        "\n"
      ]
    },
    {
      "cell_type": "markdown",
      "metadata": {
        "id": "3gGDxu9exdfz"
      },
      "source": [
        "# Introduction to Python\n",
        "\n",
        "This part of the course is focused on exploring what is python, installing required tools to run python apps, variables and building a simple Python app.\n",
        "\n",
        "- What is Python?\n",
        "- How to run Python Apps in Windows 10?\n",
        "- Python Variables\n",
        "- Writing a simple Python App"
      ]
    },
    {
      "cell_type": "markdown",
      "metadata": {
        "id": "Cvm-bdsbxdf0"
      },
      "source": [
        "### What is Python?"
      ]
    },
    {
      "cell_type": "markdown",
      "metadata": {
        "id": "S6De59ISxdf1"
      },
      "source": [
        "<img src=\"https://upload.wikimedia.org/wikipedia/commons/c/c3/Python-logo-notext.svg\" align=\"right\"> Python is a general purpose, high level programming language. It does not require declarations of variabls, parameters, functions or methods in the source code. The python codes are short and flexible that enhances the readability of the python code.\n",
        "\n",
        "- General purpose, high level programming language\n",
        "- Python is object-oriented, dynamic and with strong typing, interpreted and interactive\n",
        "- Python has clear and concise syntax which favors the readability of source code, and makes the language more productive\n",
        "- Python is open source software (with license compatible with the General Public License (GPL)\n",
        "- The language specification is maintained by the Python Software Foundation (PSF)\n",
        "\n",
        "#### Python Users\n",
        "- Google (Web Applications)\n",
        "- Yahoo (Web Applications)\n",
        "- Microsoft (IronPython: Python for. NET)\n",
        "- Disney (3D animations)\n",
        "\n",
        "#### Why Python? \n",
        "<blockquote><b> It is easy to learn </b></blockquote>\n",
        "\n",
        "*  Simple structure, clearly defined syntax & few keywords\n",
        "*  Portable, Scalable, Extendable & support for all major databases\n",
        "* Availability of library:\n",
        "  * Library : very portable and cross platform compatible\n",
        "* Python supports interactive mode where lines of code are typed into a prompt (command line) shell similar to the operating system.\n",
        "\n",
        "<img src= \"https://raw.githubusercontent.com/dipaish/cimages/main/download.png\">\n",
        "\n",
        "#### Python Environment\n",
        "- Python is available for different platforms such as Linux, Mac OS or Windows\n",
        "- Python may be already installed in your system, therefore you may check by typing “python” in a terminal window\n",
        "\n",
        "#### Installing Python\n",
        "- Python is available for variety of platforms \n",
        "- Download the binary code or installation file for your platform & install Python https://www.python.org/downloads/ "
      ]
    },
    {
      "cell_type": "markdown",
      "metadata": {
        "id": "LW-TE95Jxdf1"
      },
      "source": [
        "### How to run your Python Apps?"
      ]
    },
    {
      "cell_type": "markdown",
      "metadata": {
        "id": "I8fBGylgxdf2"
      },
      "source": [
        "- Using command-line interpreter \n",
        "    - In Windows, by simply typing python at the command prompt\n",
        "-  Using the Python IDE (integrated development environment)\n",
        "    - Anaconda Distribution – Open-Source https://www.anaconda.com/distribution/ \n",
        "    - PyCharm (Community – Open-Source https://www.jetbrains.com/pycharm/download/#section=windows \n",
        "    - Mu https://codewith.mu/ Mu is a Python code editor for beginner programmers\n",
        "    - Trinket https://trinket.io \n",
        "Trinket lets you run and write code in any browser, on any device.\n",
        "https://www.pythonanywhere.com/\n",
        "    - Python Anywhere: a fully-fledged Python environment https://www.pythonanywhere.com/"
      ]
    },
    {
      "cell_type": "markdown",
      "metadata": {
        "id": "pt-wc02Bxdf2"
      },
      "source": [
        "### Anaconda Installation Guide\n",
        "<blockquote>\n",
        "The open-source Anaconda Distribution is the easiest way to perform Python/R data science and machine learning on Linux, Windows, and Mac OS X. With over 15 million users worldwide, it is the industry standard for developing, testing, and training on a single machine, enabling individual data scientists to:\n",
        " \n",
        "\n",
        "*   Quickly download 1,500+ Python/R data science packages\n",
        "*   Manage libraries, dependencies, and environments with Conda\n",
        "*   Manage libraries, dependencies, and environments with Conda\n",
        "*   Develop and train machine learning and deep learning models with scikit-learn, TensorFlow, and Theano\n",
        "* Analyze data with scalability and performance with Dask, NumPy & pandas\n",
        "* Visualize results with Matplotlib, Bokeh, Datashader, and Holoviews\n",
        "    </blockquote>\n",
        "\n",
        "***Installing Anaconda***\n",
        "\n",
        "1.  Get to this page [link text](https://www.anaconda.com/products/individual )\n",
        "2.  Click the “Download” button for Python 3\n",
        "3.  Begin the installation process\n",
        "\n",
        "***Video Tutorial: https://www.youtube.com/watch?v=VQYWiPTCKOM***\n",
        "<iframe width=\"560\" height=\"315\" src=\"https://www.youtube-nocookie.com/embed/VQYWiPTCKOM\" frameborder=\"0\" allow=\"accelerometer; autoplay; clipboard-write; encrypted-media; gyroscope; picture-in-picture\" allowfullscreen></iframe>\n",
        "\n",
        "***Note: During installation, you have an option: \"Add Anaconda to the system PATH environment variable\"; It is recommended to enable this installation option*** "
      ]
    },
    {
      "cell_type": "markdown",
      "metadata": {
        "id": "w9ujlH9oxdf3"
      },
      "source": [
        "### Writing your first Python Code – Interactive Mode\n",
        "\n",
        "- Python Interactive Shell: The interactive mode is when you type commands into a tty (terminal typewriter). \n",
        "- Start your command prompt or Powershell \n",
        "- Type python and press enter in the command prompt\n",
        "- print(\"hello world\")\n",
        "<img src=\"https://raw.githubusercontent.com/dipaish/cimages/main/download%20(1).png\">\n",
        "\n"
      ]
    },
    {
      "cell_type": "markdown",
      "metadata": {
        "id": "R6UpYH_4xdf3"
      },
      "source": [
        "### Writing your first Python Code – Scripting Mode\n",
        "\n",
        "- Use any text editor to write the python code and save it with an extension .py\n",
        "- Go to command prompt and type python filename.py\n",
        "<img src=\"https://raw.githubusercontent.com/dipaish/cimages/main/smode.png\">\n",
        "\n"
      ]
    },
    {
      "cell_type": "markdown",
      "metadata": {
        "id": "WlaYuHSpxdf4"
      },
      "source": [
        "### Writing your first Python Code – Jypyter Notebook\n",
        "\n",
        "- Run Anaconda Navigator \n",
        "- Launch jupyter notebook, the jupyter dashboard opens in your browser >> Create a new notebook with python 3 >> **type your code** and click **Run** to run your code <br>\n",
        "<img src= \"https://raw.githubusercontent.com/dipaish/cimages/main/nomde.png\">"
      ]
    },
    {
      "cell_type": "markdown",
      "metadata": {
        "id": "9M-mVSdS6EaQ"
      },
      "source": [
        "# Introduction to Google Colab\n",
        "<p><img alt=\"Colaboratory logo\" height=\"45px\" src=\"/img/colab_favicon.ico\" align=\"left\" hspace=\"10px\" vspace=\"0px\"></p>\n",
        "\n",
        "<h1>What is Colaboratory?</h1>\n",
        "\n",
        "Colaboratory, or \"Colab\" for short, allows you to write and execute Python in your browser, with \n",
        "- Zero configuration required\n",
        "- Free access to GPUs\n",
        "- Easy sharing\n",
        "\n",
        "Whether you're a **student**, a **data scientist** or an **AI researcher**, Colab can make your work easier. \n",
        "\n",
        "Watch [Introduction to Colab](https://www.youtube.com/watch?v=inN8seMm7UI) to learn more. "
      ]
    },
    {
      "cell_type": "markdown",
      "metadata": {
        "id": "eAUHX21uxdf4"
      },
      "source": [
        "### Identifiers in Python\n",
        "- Identifiers are name used to identify a function, class, variable, module or an object\n",
        "- Python identifier \n",
        "    - Starts with a letter A – Z or an underscore ( _)\n",
        "    - No punctuation characters such as @ $ are allowed in idetifiers\n",
        "    - Case sensitive \n",
        "    - Keywords cannot be used as identifiers\n",
        "    \n",
        "#### List of Keywords:\n",
        "The  keywords may change in different versions of Python.A new keyword might be added or deleted. To get the list of keywords, type the following commands:"
      ]
    },
    {
      "cell_type": "code",
      "metadata": {
        "id": "06qQkTASxdf4",
        "colab": {
          "base_uri": "https://localhost:8080/",
          "height": 54
        },
        "outputId": "89af0453-68c0-4b57-adc1-006ce40c8880"
      },
      "source": [
        "import keyword\n",
        "print (keyword.kwlist)"
      ],
      "execution_count": null,
      "outputs": [
        {
          "output_type": "stream",
          "text": [
            "['False', 'None', 'True', 'and', 'as', 'assert', 'break', 'class', 'continue', 'def', 'del', 'elif', 'else', 'except', 'finally', 'for', 'from', 'global', 'if', 'import', 'in', 'is', 'lambda', 'nonlocal', 'not', 'or', 'pass', 'raise', 'return', 'try', 'while', 'with', 'yield']\n"
          ],
          "name": "stdout"
        }
      ]
    },
    {
      "cell_type": "markdown",
      "metadata": {
        "id": "0pkYBN5Nxdf7"
      },
      "source": [
        "### Quotations in Python\n",
        "\n",
        "- Both types of literals can be enclosed in matching single quotes (') or double quotes (\"). \n",
        "- They can also be enclosed in matching groups of three single or double quotes (these are generally referred to as triple-quoted strings). \n",
        "- The backslash (\\) character is used to escape characters that otherwise have a special meaning, such as newline, backslash itself, or the quote character.\n",
        "\n",
        "### Comments in Python\n",
        "- A single line comment begins with the hash sign (#) \n",
        "- All characters after # till the end of the line is a comment and the Python interpreter ignores them.\n",
        "- Triple quotes (‘’’ or “””)can be used for multiple line comments "
      ]
    },
    {
      "cell_type": "code",
      "metadata": {
        "id": "cm3mI8CExdf8"
      },
      "source": [
        "# this is a single line comment\n",
        "# another comment \n",
        "# to writ multiple line comments, use triple quotes\n",
        "'''\n",
        "this is multiple line comment \n",
        "here is one more line\n",
        "'''\n",
        "print(\"hello world\")"
      ],
      "execution_count": null,
      "outputs": []
    },
    {
      "cell_type": "markdown",
      "metadata": {
        "id": "Lj0sbRO_xdf-"
      },
      "source": [
        "### Multiple Line Statements\n",
        "\n",
        "<blockquote> To write multiple line statements, the line the line continuation character (\\) is used. </blockquote>"
      ]
    },
    {
      "cell_type": "code",
      "metadata": {
        "id": "56OSe5VIxdf-"
      },
      "source": [
        "#Example of multiple line statements \n",
        "# example 1\n",
        "sum1=1 + 2 + 3 \\\n",
        "+ 4 + 5\\\n",
        "+ 6\n",
        "print(sum1)\n",
        "#exmaple 2\n",
        "sum2=(1+2+3\n",
        "      +4+5)\n",
        "print(sum2)\n",
        "#use semicolon to put mutliple line statements in a single line\n",
        "a=1; b=5; c=6;\n",
        "print(a+b+c)"
      ],
      "execution_count": null,
      "outputs": []
    },
    {
      "cell_type": "markdown",
      "metadata": {
        "id": "SAJG5mobxdgA"
      },
      "source": [
        "### Writing a Simple Python App"
      ]
    },
    {
      "cell_type": "code",
      "metadata": {
        "id": "CicXVIJDxdgB"
      },
      "source": [
        "# Navigate to the folder where you want to create your first python app. \n",
        "# Create a file and name it as test1.py\n",
        "# type the following code\n",
        "print \"Hello world, we are learning python\"\n",
        "\n",
        "#To run the code in interactive mode, type python test1.py om ther terminal\n",
        "# To run the code in jupyter notebook, Click Run on the top. "
      ],
      "execution_count": null,
      "outputs": []
    },
    {
      "cell_type": "markdown",
      "metadata": {
        "id": "uwdATeHP17sV"
      },
      "source": [
        "# Numbers in Python\n",
        "Let us start with performing some basic arithmetic\n",
        "\n",
        "| Operation | Description |\n",
        "| --: | :-- | \n",
        "|x + y |\tSum of two numbers |\n",
        "|x - y |\tDifference of two numbers\n",
        "|x * y |\tProduct of two numbers\n",
        "|x / y |\tQuotient of two numbers\n",
        "|x // y|\tQuotient of two numbers, returned as an integer\n",
        "|x % y\t|x “modulo”: y: The remainder of x / y for positive x, y\n",
        "|x ** y|\tx raised to the power y\n",
        "|-x\t|A negated number\n",
        "|abs(x)|\tThe absolute value of a number\n",
        "|x == y|\tCheck if two numbers have the same value\n",
        "|x != y|\tCheck if two numbers have different values\n",
        "|x > y|\tCheck if x is greater than y\n",
        "|x >= y|\tCheck if x is greater than or equal to y\n",
        "|x < y|\tCheck if x is less than y\n",
        "|x <= y\t|Check if x is less than or equal to y "
      ]
    },
    {
      "cell_type": "code",
      "metadata": {
        "id": "VqJGvP332eoP",
        "colab": {
          "base_uri": "https://localhost:8080/",
          "height": 51
        },
        "outputId": "0178eb78-58c3-4278-bb47-1644a600bf7a"
      },
      "source": [
        "# run the following codes in separate cells\n",
        "# adding two numbers\n",
        "print (\"adding two number:\", 5+3) \n",
        "\n",
        "# multiplication takes precedence over addition\n",
        "4 + 5 * 3\n",
        "\n",
        "# grouping operations with parentheses\n",
        "(1 + 2) * 3\n",
        "\n",
        "# checking an inequality\n",
        "(4 ** 3) < (2 ** 4)"
      ],
      "execution_count": null,
      "outputs": [
        {
          "output_type": "stream",
          "text": [
            "adding two number: 8\n"
          ],
          "name": "stdout"
        },
        {
          "output_type": "execute_result",
          "data": {
            "text/plain": [
              "False"
            ]
          },
          "metadata": {
            "tags": []
          },
          "execution_count": 2
        }
      ]
    },
    {
      "cell_type": "markdown",
      "metadata": {
        "id": "gQhcJ8mvCDCv"
      },
      "source": [
        "### Integers\n",
        "\n",
        "\n",
        "*   An integer is any “whole” number: …,−3,−2,−1,0,1,2,3,….\n",
        "*   Integers belong to the built-in type **int**\n",
        "*   Integers have some built-in functions which are detailed in the official documentation  https://docs.python.org/3/library/stdtypes.html#additional-methods-on-integer-types \n",
        "\n"
      ]
    },
    {
      "cell_type": "code",
      "metadata": {
        "id": "xi6GJz8KDdOl",
        "colab": {
          "base_uri": "https://localhost:8080/",
          "height": 34
        },
        "outputId": "e9da04bb-9920-4f79-ae46-32a578d1c7d4"
      },
      "source": [
        "#Integers\n",
        "type(-3)"
      ],
      "execution_count": null,
      "outputs": [
        {
          "output_type": "execute_result",
          "data": {
            "text/plain": [
              "int"
            ]
          },
          "metadata": {
            "tags": []
          },
          "execution_count": 3
        }
      ]
    },
    {
      "cell_type": "code",
      "metadata": {
        "id": "NioDtu5oD8A1",
        "colab": {
          "base_uri": "https://localhost:8080/",
          "height": 34
        },
        "outputId": "78ef0841-9d95-42b2-cd56-d67a3d064bb3"
      },
      "source": [
        "# 5.5 is not an integer-type object\n",
        "isinstance(5.5, int)"
      ],
      "execution_count": null,
      "outputs": [
        {
          "output_type": "execute_result",
          "data": {
            "text/plain": [
              "False"
            ]
          },
          "metadata": {
            "tags": []
          },
          "execution_count": 4
        }
      ]
    },
    {
      "cell_type": "code",
      "metadata": {
        "id": "vLN_x0WXD-al"
      },
      "source": [
        "# converting a string to an integer\n",
        "int(\"10\")"
      ],
      "execution_count": null,
      "outputs": []
    },
    {
      "cell_type": "code",
      "metadata": {
        "id": "HGeFpmyoEAN-",
        "colab": {
          "base_uri": "https://localhost:8080/",
          "height": 34
        },
        "outputId": "068b96cb-7841-4593-9f96-196c939a47bb"
      },
      "source": [
        "# converting a floating-point number to an integer\n",
        "int(1.3)"
      ],
      "execution_count": null,
      "outputs": [
        {
          "output_type": "execute_result",
          "data": {
            "text/plain": [
              "1"
            ]
          },
          "metadata": {
            "tags": []
          },
          "execution_count": 5
        }
      ]
    },
    {
      "cell_type": "markdown",
      "metadata": {
        "id": "-dzmlCEkEJ11"
      },
      "source": [
        "### Floating Point Numbers\n",
        "\n",
        "*  It is a number with a decimal point.\n",
        "*  The floating point object belongs to the built-in type **float**.\n",
        "*  Floats have some built-in functions available to them which are detailed in the official documentation https://docs.python.org/3/library/stdtypes.html#additional-methods-on-float"
      ]
    },
    {
      "cell_type": "markdown",
      "metadata": {
        "id": "kNO-qThOxdgD"
      },
      "source": [
        "***`Last Updated on 20.10.2020, Deepak KC`***"
      ]
    },
    {
      "cell_type": "code",
      "metadata": {
        "id": "PxrOYqeGE2_r"
      },
      "source": [
        "# example of \"floating-point\" numbers\n",
        "2 / 3"
      ],
      "execution_count": null,
      "outputs": []
    },
    {
      "cell_type": "code",
      "metadata": {
        "id": "KGQSP10kFdAS",
        "colab": {
          "base_uri": "https://localhost:8080/",
          "height": 34
        },
        "outputId": "304f12a5-a490-4688-8538-d38f7496eadc"
      },
      "source": [
        "type(-5.1)\n"
      ],
      "execution_count": null,
      "outputs": [
        {
          "output_type": "execute_result",
          "data": {
            "text/plain": [
              "float"
            ]
          },
          "metadata": {
            "tags": []
          },
          "execution_count": 6
        }
      ]
    },
    {
      "cell_type": "code",
      "metadata": {
        "id": "K1abXTSUFe6n"
      },
      "source": [
        "# the integer 20 is not a float-type object\n",
        " isinstance(20, float)"
      ],
      "execution_count": null,
      "outputs": []
    },
    {
      "cell_type": "code",
      "metadata": {
        "id": "umL4iWQLGam7"
      },
      "source": [
        "# including a decimal makes the number a float\n",
        "isinstance(20., float)"
      ],
      "execution_count": null,
      "outputs": []
    },
    {
      "cell_type": "code",
      "metadata": {
        "id": "hQwpPB5qGgU5"
      },
      "source": [
        "# converting a string to a floating-point number\n",
        "float(\"20.123\")"
      ],
      "execution_count": null,
      "outputs": []
    },
    {
      "cell_type": "code",
      "metadata": {
        "id": "VWlPYJmkGqCI",
        "colab": {
          "base_uri": "https://localhost:8080/",
          "height": 34
        },
        "outputId": "c6f059d6-e9a6-47da-a4c0-3aac1bfa0aec"
      },
      "source": [
        "# converting an integer to a floating-point number\n",
        "float(-20)"
      ],
      "execution_count": null,
      "outputs": [
        {
          "output_type": "execute_result",
          "data": {
            "text/plain": [
              "-20.0"
            ]
          },
          "metadata": {
            "tags": []
          },
          "execution_count": 7
        }
      ]
    },
    {
      "cell_type": "markdown",
      "metadata": {
        "id": "ZM2LwW24HhJj"
      },
      "source": [
        "### Increment Statements \n",
        "| Statement | Result |\n",
        "| --: | :-- | \n",
        "|x += n | x = x + n\n",
        "|x -= n | x = x - n\n",
        "|x *= n | x = x * n\n",
        "|x /= n | x = x / n\n",
        "|x //= n | x = x // n\n",
        "|x **= n | x = x ** *n*"
      ]
    },
    {
      "cell_type": "code",
      "metadata": {
        "id": "J3g6eGNDG14h",
        "colab": {
          "base_uri": "https://localhost:8080/",
          "height": 51
        },
        "outputId": "4a8cd247-d83b-4e45-b8ed-57a80ceb4177"
      },
      "source": [
        "# incrementing by +1\n",
        "a = 3\n",
        "a = a + 1 \n",
        "print (\"a is increased by 1: \", a)\n",
        "\n",
        "#incrementing with +=\n",
        "b = 5\n",
        "b += 1 # will increase by 1\n",
        "print (\"b is increased by 1: \", b)"
      ],
      "execution_count": null,
      "outputs": [
        {
          "output_type": "stream",
          "text": [
            "a is increased by 1:  4\n",
            "b is increased by 1:  6\n"
          ],
          "name": "stdout"
        }
      ]
    },
    {
      "cell_type": "markdown",
      "metadata": {
        "id": "cCEnsBZAI16e"
      },
      "source": [
        "# Logical Operators\n",
        "\n",
        "| Operation | Symbols |\n",
        "| --: | :-- | \n",
        "| and\t| &\n",
        "| or| \t\\| | "
      ]
    },
    {
      "cell_type": "code",
      "metadata": {
        "id": "KAe6g4jfJQU0",
        "colab": {
          "base_uri": "https://localhost:8080/",
          "height": 119
        },
        "outputId": "7c60acb0-56ba-42ab-f551-dd6082a8bf83"
      },
      "source": [
        "# demonstrating logic operators\n",
        "print(True or False)\n",
        "print(True and False)\n",
        "print (not False)\n",
        "\n",
        "# Multiple logic operators can be used in a single line and parentheses can be used to group expressions:\n",
        "print (\"(True or False) and True : \", (True or False) and True)\n",
        "\n",
        "# Comparison statement returns boolean objects\n",
        "print(\"2 is less than 3:\", 2 < 3)\n",
        "print (\"5 is less than 4: \",5 < 4)"
      ],
      "execution_count": null,
      "outputs": [
        {
          "output_type": "stream",
          "text": [
            "True\n",
            "False\n",
            "True\n",
            "(True or False) and True :  True\n",
            "2 is less than 3: True\n",
            "5 is less than 4:  False\n"
          ],
          "name": "stdout"
        }
      ]
    },
    {
      "cell_type": "markdown",
      "metadata": {
        "id": "1yEzCHLjKqVv"
      },
      "source": [
        "***Boolean objects are integers and are associated with the value 0 & 1***"
      ]
    },
    {
      "cell_type": "code",
      "metadata": {
        "id": "_A6IjmyrKuvN",
        "colab": {
          "base_uri": "https://localhost:8080/",
          "height": 34
        },
        "outputId": "2ece6ae1-e6a3-42ad-ffcf-b03f857f8082"
      },
      "source": [
        "isinstance(True, int)"
      ],
      "execution_count": null,
      "outputs": [
        {
          "output_type": "execute_result",
          "data": {
            "text/plain": [
              "True"
            ]
          },
          "metadata": {
            "tags": []
          },
          "execution_count": 10
        }
      ]
    },
    {
      "cell_type": "code",
      "metadata": {
        "id": "0RhlPlnSKxb9",
        "colab": {
          "base_uri": "https://localhost:8080/",
          "height": 34
        },
        "outputId": "36cc7914-1b1e-4bcf-f7ca-0a06ca465fe3"
      },
      "source": [
        "isinstance(False, int)"
      ],
      "execution_count": null,
      "outputs": [
        {
          "output_type": "execute_result",
          "data": {
            "text/plain": [
              "True"
            ]
          },
          "metadata": {
            "tags": []
          },
          "execution_count": 11
        }
      ]
    },
    {
      "cell_type": "code",
      "metadata": {
        "id": "ehlbVSHmK10F",
        "colab": {
          "base_uri": "https://localhost:8080/",
          "height": 34
        },
        "outputId": "7843df2c-f707-4b5c-c312-da86a2de7ed2"
      },
      "source": [
        "int(False)"
      ],
      "execution_count": null,
      "outputs": [
        {
          "output_type": "execute_result",
          "data": {
            "text/plain": [
              "0"
            ]
          },
          "metadata": {
            "tags": []
          },
          "execution_count": 12
        }
      ]
    },
    {
      "cell_type": "code",
      "metadata": {
        "id": "J75N5fiCK4Ku",
        "colab": {
          "base_uri": "https://localhost:8080/",
          "height": 34
        },
        "outputId": "092e443d-817a-4628-8ecc-3358915f2801"
      },
      "source": [
        "int(True)"
      ],
      "execution_count": null,
      "outputs": [
        {
          "output_type": "execute_result",
          "data": {
            "text/plain": [
              "1"
            ]
          },
          "metadata": {
            "tags": []
          },
          "execution_count": 13
        }
      ]
    }
  ]
}